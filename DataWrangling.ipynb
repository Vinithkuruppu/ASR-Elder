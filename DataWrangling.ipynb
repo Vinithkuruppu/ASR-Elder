{
  "cells": [
    {
      "cell_type": "markdown",
      "id": "01f71b81-8fb3-4765-b7bf-a62ee8fc80c3",
      "metadata": {
        "id": "01f71b81-8fb3-4765-b7bf-a62ee8fc80c3"
      },
      "source": [
        "## Data Wrangling\n",
        "- V1 on 9/22/2025 8am ET\n",
        "- V2 on 10/4/2025 11am PT\n",
        "- V3 on 10/5/2025 12pm PT\n",
        "- V4 on 10/7/2025 8am PT"
      ]
    },
    {
      "cell_type": "code",
      "execution_count": null,
      "id": "0756add9-5bdd-4171-afe0-752b273dde14",
      "metadata": {
        "id": "0756add9-5bdd-4171-afe0-752b273dde14"
      },
      "outputs": [],
      "source": [
        "!pip install --quiet gdown pandas\n",
        "!pip install boto3"
      ]
    },
    {
      "cell_type": "code",
      "execution_count": null,
      "id": "246b3c4b-aa8a-4503-b0ef-a2b24978f171",
      "metadata": {
        "id": "246b3c4b-aa8a-4503-b0ef-a2b24978f171"
      },
      "outputs": [],
      "source": [
        "import boto3\n",
        "from google.colab import userdata\n",
        "import io\n",
        "import matplotlib.pyplot as plt\n",
        "import numpy as np\n",
        "import os\n",
        "import pandas as pd\n",
        "from sklearn.utils import resample"
      ]
    },
    {
      "cell_type": "markdown",
      "id": "c84a5c7e-5ab0-4282-bc4f-1aa92a3a40a8",
      "metadata": {
        "execution": {
          "iopub.execute_input": "2025-09-18T03:03:46.183637Z",
          "iopub.status.busy": "2025-09-18T03:03:46.183266Z",
          "iopub.status.idle": "2025-09-18T03:03:46.187499Z",
          "shell.execute_reply": "2025-09-18T03:03:46.186250Z",
          "shell.execute_reply.started": "2025-09-18T03:03:46.183614Z"
        },
        "id": "c84a5c7e-5ab0-4282-bc4f-1aa92a3a40a8"
      },
      "source": [
        "#### Random Seed and Sample Size"
      ]
    },
    {
      "cell_type": "code",
      "execution_count": null,
      "id": "3f72f2ae-7f46-4209-91c3-3b0cd18df9b3",
      "metadata": {
        "id": "3f72f2ae-7f46-4209-91c3-3b0cd18df9b3"
      },
      "outputs": [],
      "source": [
        "RANDOM_STATE = 5678\n",
        "SAMPLE_SIZE = 100  # Size per age bucket"
      ]
    },
    {
      "cell_type": "markdown",
      "source": [
        "Download from S3 for CV 23.0"
      ],
      "metadata": {
        "id": "DXmrzvok70C8"
      },
      "id": "DXmrzvok70C8"
    },
    {
      "cell_type": "code",
      "source": [
        "# Establish session with credentials\n",
        "bucket = \"asrelder-data\"\n",
        "session = boto3.Session(\n",
        "    aws_access_key_id=userdata.get(\"AWS_ACCESS\"),\n",
        "    aws_secret_access_key=userdata.get(\"AWS_SECRET\"),\n",
        "    region_name=\"us-east-1\"\n",
        ")\n",
        "s3 = session.client(\"s3\")"
      ],
      "metadata": {
        "id": "qUeRHC8P8LHU"
      },
      "id": "qUeRHC8P8LHU",
      "execution_count": null,
      "outputs": []
    },
    {
      "cell_type": "code",
      "source": [
        "# S3 base path\n",
        "prefix = \"common_voice/23/cv-corpus-23.0-2025-09-05/en/\"\n",
        "filename = \"train.tsv\"\n",
        "obj = s3.get_object(Bucket=bucket, Key=prefix+filename)\n",
        "file_bytes = io.BytesIO(obj[\"Body\"].read())\n",
        "print(f\"Loaded {filename} into memory...\")"
      ],
      "metadata": {
        "id": "vvWJyOJN717P"
      },
      "id": "vvWJyOJN717P",
      "execution_count": null,
      "outputs": []
    },
    {
      "cell_type": "code",
      "source": [
        "train_df = pd.read_csv(file_bytes, sep=\"\\t\")\n",
        "print(f\"train_df.shape: {train_df.shape}\")\n",
        "train_df.head(2)"
      ],
      "metadata": {
        "id": "viwQ08pJ8ryN"
      },
      "id": "viwQ08pJ8ryN",
      "execution_count": null,
      "outputs": []
    },
    {
      "cell_type": "code",
      "source": [
        "train_df.to_csv(\"common_voices_23_full.csv\")"
      ],
      "metadata": {
        "id": "U5vksnXQ9PAp"
      },
      "id": "U5vksnXQ9PAp",
      "execution_count": null,
      "outputs": []
    },
    {
      "cell_type": "code",
      "source": [
        "# S3 base path\n",
        "prefix = \"common_voice/23/cv-corpus-23.0-2025-09-05/en/\"\n",
        "filename = \"clip_durations.tsv\"\n",
        "obj = s3.get_object(Bucket=bucket, Key=prefix+filename)\n",
        "file_bytes = io.BytesIO(obj[\"Body\"].read())\n",
        "print(f\"Loaded {filename} into memory...\")"
      ],
      "metadata": {
        "id": "rcpcR10l_UIl"
      },
      "id": "rcpcR10l_UIl",
      "execution_count": null,
      "outputs": []
    },
    {
      "cell_type": "code",
      "source": [
        "clip_duration_df = pd.read_csv(file_bytes, sep=\"\\t\")\n",
        "print(f\"clip_duration_df.shape: {clip_duration_df.shape}\")\n",
        "clip_duration_df.head(2)"
      ],
      "metadata": {
        "id": "KVOLmhMu_ZaL"
      },
      "id": "KVOLmhMu_ZaL",
      "execution_count": null,
      "outputs": []
    },
    {
      "cell_type": "code",
      "source": [
        "clip_duration_df.to_csv(\"common_voices_23_clip_durations.csv\")"
      ],
      "metadata": {
        "id": "Mx2h0cui_hse"
      },
      "id": "Mx2h0cui_hse",
      "execution_count": null,
      "outputs": []
    },
    {
      "cell_type": "markdown",
      "id": "de0e1f3d-1dac-4f28-8c86-c56bf8f7db6d",
      "metadata": {
        "execution": {
          "iopub.execute_input": "2025-09-18T03:03:46.183637Z",
          "iopub.status.busy": "2025-09-18T03:03:46.183266Z",
          "iopub.status.idle": "2025-09-18T03:03:46.187499Z",
          "shell.execute_reply": "2025-09-18T03:03:46.186250Z",
          "shell.execute_reply.started": "2025-09-18T03:03:46.183614Z"
        },
        "id": "de0e1f3d-1dac-4f28-8c86-c56bf8f7db6d"
      },
      "source": [
        "#### Filter to only rows having age"
      ]
    },
    {
      "cell_type": "code",
      "execution_count": null,
      "id": "c2b2657c-7068-422e-a434-764284025961",
      "metadata": {
        "id": "c2b2657c-7068-422e-a434-764284025961"
      },
      "outputs": [],
      "source": [
        "train_with_non_null_age = train_df[train_df[\"age\"].notna()]\n",
        "print(f\"Removing nulls reduces to {train_with_non_null_age.shape[0]}/{train_df.shape[0]} rows\")\n",
        "# Removing nulls reduces to 814443/1142930 rows"
      ]
    },
    {
      "cell_type": "markdown",
      "source": [
        "#### Filter to only rows having 1+ upvote and 0 downvotes"
      ],
      "metadata": {
        "id": "Umj4PGyp9gmG"
      },
      "id": "Umj4PGyp9gmG"
    },
    {
      "cell_type": "code",
      "source": [
        "train_with_validated_votes = train_with_non_null_age[\n",
        "    (train_with_non_null_age[\"up_votes\"] >= 1) &\n",
        "    (train_with_non_null_age[\"down_votes\"] == 0)\n",
        "]\n",
        "print(f\"Removing nulls reduces to {train_with_validated_votes.shape[0]}/{train_with_non_null_age.shape[0]} rows\")\n",
        "# Removing nulls reduces to 699129/814443 rows\n",
        "train_with_validated_votes.head(2)"
      ],
      "metadata": {
        "id": "twjGMC9o9jb7"
      },
      "id": "twjGMC9o9jb7",
      "execution_count": null,
      "outputs": []
    },
    {
      "cell_type": "code",
      "source": [
        "train_with_validated_votes.to_csv(\"common_voices_23_train_with_validated_votes.csv\")"
      ],
      "metadata": {
        "id": "6daIjuqGEpZX"
      },
      "id": "6daIjuqGEpZX",
      "execution_count": null,
      "outputs": []
    },
    {
      "cell_type": "markdown",
      "id": "11fe7ba7-e0e0-44eb-974d-f119bc36806b",
      "metadata": {
        "execution": {
          "iopub.execute_input": "2025-09-18T03:03:46.183637Z",
          "iopub.status.busy": "2025-09-18T03:03:46.183266Z",
          "iopub.status.idle": "2025-09-18T03:03:46.187499Z",
          "shell.execute_reply": "2025-09-18T03:03:46.186250Z",
          "shell.execute_reply.started": "2025-09-18T03:03:46.183614Z"
        },
        "id": "11fe7ba7-e0e0-44eb-974d-f119bc36806b"
      },
      "source": [
        "#### Separate out dfs for each age bucket\n",
        "- Exclude teens age bucket for COPPA considerations"
      ]
    },
    {
      "cell_type": "code",
      "execution_count": null,
      "id": "18d75c5a-6ef3-46c8-b2b8-1a609d900e2c",
      "metadata": {
        "id": "18d75c5a-6ef3-46c8-b2b8-1a609d900e2c"
      },
      "outputs": [],
      "source": [
        "# Get dataframe per age bucket of equal number of rows\n",
        "age_order = [\"twenties\", \"thirties\", \"fourties\", \"fifties\", \"sixties\", \"seventies\", \"eighties\", \"nineties\"]\n",
        "dfs_list = []\n",
        "for age_bucket in age_order:\n",
        "    temp_df = train_with_validated_votes[train_with_validated_votes[\"age\"] == age_bucket]\n",
        "    print(f\"{age_bucket} filtered rows: {temp_df.shape[0]}\")\n",
        "    sample_df = temp_df.sample(n=SAMPLE_SIZE, random_state=RANDOM_STATE)\n",
        "    print(f\"{age_bucket} sample size rows: {sample_df.shape[0]}\")\n",
        "    dfs_list.append(sample_df)"
      ]
    },
    {
      "cell_type": "code",
      "execution_count": null,
      "id": "55ab4f6c-9371-4ee0-a726-ac9ce20c990f",
      "metadata": {
        "id": "55ab4f6c-9371-4ee0-a726-ac9ce20c990f"
      },
      "outputs": [],
      "source": [
        "# Consolidate to single dataframe\n",
        "sample_df = pd.concat(dfs_list, ignore_index=True)\n",
        "print(f\"Combined sample df has shape: {sample_df.shape}\")\n",
        "sample_df.head(2)"
      ]
    },
    {
      "cell_type": "code",
      "execution_count": null,
      "id": "5d7e3e56-c6c5-40ce-bb33-d96db87d406d",
      "metadata": {
        "id": "5d7e3e56-c6c5-40ce-bb33-d96db87d406d"
      },
      "outputs": [],
      "source": [
        "sample_df.to_csv(\"common_voices_23_sample1.csv\")"
      ]
    },
    {
      "cell_type": "markdown",
      "source": [
        "#### Big 60/40 Set of Below 60/60 and Above\n",
        "- Exclude teens age bucket for COPPA considerations"
      ],
      "metadata": {
        "id": "qA7lh_RTuFVL"
      },
      "id": "qA7lh_RTuFVL"
    },
    {
      "cell_type": "code",
      "source": [
        "# Create new column\n",
        "younger = [\"twenties\", \"thirties\", \"fourties\", \"fifties\"]\n",
        "older = [\"sixties\", \"seventies\", \"eighties\", \"nineties\"]\n",
        "train_with_validated_votes[\"age_group\"] = np.select(\n",
        "    [\n",
        "        train_with_validated_votes[\"age\"].isin(older),\n",
        "        train_with_validated_votes[\"age\"].isin(younger)\n",
        "    ],\n",
        "    [\"Older\", \"Younger\"],\n",
        "    default=None\n",
        ")\n",
        "\n",
        "# Balanced 50/50 between Younger/Older -- undersample (downsample the larger group)\n",
        "train_with_certain_ages = train_with_validated_votes[train_with_validated_votes[\"age_group\"].notna()]\n",
        "print(f\"Filtering to two age groups reduces to {train_with_certain_ages.shape[0]}/{train_with_validated_votes.shape[0]} rows\")\n",
        "\n",
        "older_df = train_with_certain_ages[train_with_certain_ages[\"age_group\"] == \"Older\"]\n",
        "younger_df = train_with_certain_ages[train_with_certain_ages[\"age_group\"] == \"Younger\"]\n",
        "print(f\"Older: {older_df.shape[0]}, Younger: {younger_df.shape[0]}\")\n",
        "younger_sample = younger_df.sample(n=len(older_df), random_state=RANDOM_STATE)\n",
        "print(f\"Older: {older_df.shape[0]}, Younger (sampled): {younger_sample.shape[0]}\")\n",
        "train_with_balanced_ages = pd.concat(\n",
        "    [older_df, younger_sample]\n",
        ").sample(frac=1, random_state=RANDOM_STATE).reset_index(drop=True)\n",
        "print(f\"Final balanced dataset: {train_with_balanced_ages.shape[0]} rows\")\n",
        "train_with_balanced_ages.head(2)"
      ],
      "metadata": {
        "id": "EyHuOpmpuO-2"
      },
      "id": "EyHuOpmpuO-2",
      "execution_count": null,
      "outputs": []
    },
    {
      "cell_type": "code",
      "source": [
        "train_with_balanced_ages.to_csv(\"common_voices_23_balanced_on_60.csv\")"
      ],
      "metadata": {
        "id": "-AIyeAonvemS"
      },
      "id": "-AIyeAonvemS",
      "execution_count": null,
      "outputs": []
    },
    {
      "cell_type": "markdown",
      "source": [
        "#### Download silences.csv from S3\n",
        "- Was made on EC2 and copied to S3"
      ],
      "metadata": {
        "id": "oxBIKFigKBp6"
      },
      "id": "oxBIKFigKBp6"
    },
    {
      "cell_type": "code",
      "source": [
        "# S3 base path\n",
        "prefix = \"common_voice/23/\"\n",
        "filename = \"silences.csv\"\n",
        "obj = s3.get_object(Bucket=bucket, Key=prefix+filename)\n",
        "file_bytes = io.BytesIO(obj[\"Body\"].read())\n",
        "print(f\"Loaded {filename} into memory...\")"
      ],
      "metadata": {
        "id": "c6-Czd72J5Db"
      },
      "id": "c6-Czd72J5Db",
      "execution_count": null,
      "outputs": []
    },
    {
      "cell_type": "code",
      "source": [
        "silences_df = pd.read_csv(file_bytes, sep=\",\")\n",
        "silences_df[\"path\"] = silences_df[\"file\"].str.split(\"/\").str[-1]\n",
        "print(f\"silences_df.shape: {silences_df.shape}\")\n",
        "silences_df.head(2)"
      ],
      "metadata": {
        "id": "mIHQNafMKLIz"
      },
      "id": "mIHQNafMKLIz",
      "execution_count": null,
      "outputs": []
    },
    {
      "cell_type": "code",
      "source": [
        "# Check for overlap between silences.file and train.path\n",
        "merged_df = silences_df.merge(train_df, how=\"left\", on=\"path\", indicator=True)\n",
        "print(merged_df[\"_merge\"].value_counts())"
      ],
      "metadata": {
        "id": "0-dHyZiaKu9V"
      },
      "id": "0-dHyZiaKu9V",
      "execution_count": null,
      "outputs": []
    },
    {
      "cell_type": "code",
      "source": [
        "silences_df[\n",
        "    [\"path\", \"file\", \"start_sec\", \"duration_sec\"]\n",
        "].to_csv(\"common_voices_23_silences.csv\")"
      ],
      "metadata": {
        "id": "D9uxH24vNDjh"
      },
      "id": "D9uxH24vNDjh",
      "execution_count": null,
      "outputs": []
    }
  ],
  "metadata": {
    "kernelspec": {
      "display_name": "Python 3 (ipykernel)",
      "language": "python",
      "name": "python3"
    },
    "language_info": {
      "codemirror_mode": {
        "name": "ipython",
        "version": 3
      },
      "file_extension": ".py",
      "mimetype": "text/x-python",
      "name": "python",
      "nbconvert_exporter": "python",
      "pygments_lexer": "ipython3",
      "version": "3.12.9"
    },
    "colab": {
      "provenance": []
    }
  },
  "nbformat": 4,
  "nbformat_minor": 5
}