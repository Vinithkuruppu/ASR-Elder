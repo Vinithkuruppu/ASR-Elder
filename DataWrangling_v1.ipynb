{
 "cells": [
  {
   "cell_type": "markdown",
   "id": "01f71b81-8fb3-4765-b7bf-a62ee8fc80c3",
   "metadata": {},
   "source": [
    "## Data Wrangling\n",
    "- V1 on 9/22/2025 8am ET"
   ]
  },
  {
   "cell_type": "code",
   "execution_count": null,
   "id": "0756add9-5bdd-4171-afe0-752b273dde14",
   "metadata": {},
   "outputs": [],
   "source": [
    "!pip install --quiet gdown pandas"
   ]
  },
  {
   "cell_type": "code",
   "execution_count": null,
   "id": "246b3c4b-aa8a-4503-b0ef-a2b24978f171",
   "metadata": {},
   "outputs": [],
   "source": [
    "import pandas as pd"
   ]
  },
  {
   "cell_type": "markdown",
   "id": "c84a5c7e-5ab0-4282-bc4f-1aa92a3a40a8",
   "metadata": {
    "execution": {
     "iopub.execute_input": "2025-09-18T03:03:46.183637Z",
     "iopub.status.busy": "2025-09-18T03:03:46.183266Z",
     "iopub.status.idle": "2025-09-18T03:03:46.187499Z",
     "shell.execute_reply": "2025-09-18T03:03:46.186250Z",
     "shell.execute_reply.started": "2025-09-18T03:03:46.183614Z"
    }
   },
   "source": [
    "#### Random Seed and Sample Size"
   ]
  },
  {
   "cell_type": "code",
   "execution_count": null,
   "id": "3f72f2ae-7f46-4209-91c3-3b0cd18df9b3",
   "metadata": {},
   "outputs": [],
   "source": [
    "RANDOM_STATE = 5678\n",
    "SAMPLE_SIZE = 100  # Size per age bucket"
   ]
  },
  {
   "cell_type": "markdown",
   "id": "20ff8d49-0ecc-4f91-9688-1f273cc02e97",
   "metadata": {
    "execution": {
     "iopub.execute_input": "2025-09-18T03:03:46.183637Z",
     "iopub.status.busy": "2025-09-18T03:03:46.183266Z",
     "iopub.status.idle": "2025-09-18T03:03:46.187499Z",
     "shell.execute_reply": "2025-09-18T03:03:46.186250Z",
     "shell.execute_reply.started": "2025-09-18T03:03:46.183614Z"
    }
   },
   "source": [
    "#### Download 'train.tsv'"
   ]
  },
  {
   "cell_type": "code",
   "execution_count": null,
   "id": "40ad6272-688c-4cd2-b855-0272c2bc2d19",
   "metadata": {},
   "outputs": [],
   "source": [
    "file_id = \"1W3gdWpXUnjJn_nwTpvlWwLLAfF1YPwos\"  # train.tsv\n",
    "download_url = f\"https://drive.google.com/uc?id={file_id}\"\n",
    "!gdown {download_url} -O train.tsv"
   ]
  },
  {
   "cell_type": "code",
   "execution_count": null,
   "id": "52fce3be-c9b8-46ed-acf5-6348564bc20c",
   "metadata": {},
   "outputs": [],
   "source": [
    "train_df = pd.read_csv(\"train.tsv\", sep=\"\\t\")\n",
    "print(f\"train_df.shape: {train_df.shape}\")\n",
    "train_df.head(2)"
   ]
  },
  {
   "cell_type": "markdown",
   "id": "de0e1f3d-1dac-4f28-8c86-c56bf8f7db6d",
   "metadata": {
    "execution": {
     "iopub.execute_input": "2025-09-18T03:03:46.183637Z",
     "iopub.status.busy": "2025-09-18T03:03:46.183266Z",
     "iopub.status.idle": "2025-09-18T03:03:46.187499Z",
     "shell.execute_reply": "2025-09-18T03:03:46.186250Z",
     "shell.execute_reply.started": "2025-09-18T03:03:46.183614Z"
    }
   },
   "source": [
    "#### Filter to only rows having age"
   ]
  },
  {
   "cell_type": "code",
   "execution_count": null,
   "id": "c2b2657c-7068-422e-a434-764284025961",
   "metadata": {},
   "outputs": [],
   "source": [
    "train_with_non_null_age = train_df[train_df[\"age\"].notna()]\n",
    "print(f\"Removing nulls reduces to {train_with_non_null_age.shape[0]}/{train_df.shape[0]} rows\")"
   ]
  },
  {
   "cell_type": "markdown",
   "id": "11fe7ba7-e0e0-44eb-974d-f119bc36806b",
   "metadata": {
    "execution": {
     "iopub.execute_input": "2025-09-18T03:03:46.183637Z",
     "iopub.status.busy": "2025-09-18T03:03:46.183266Z",
     "iopub.status.idle": "2025-09-18T03:03:46.187499Z",
     "shell.execute_reply": "2025-09-18T03:03:46.186250Z",
     "shell.execute_reply.started": "2025-09-18T03:03:46.183614Z"
    }
   },
   "source": [
    "#### Separate out dfs for each age bucket\n",
    "- Exclude teens age bucket for COPPA considerations"
   ]
  },
  {
   "cell_type": "code",
   "execution_count": null,
   "id": "18d75c5a-6ef3-46c8-b2b8-1a609d900e2c",
   "metadata": {},
   "outputs": [],
   "source": [
    "# Get dataframe per age bucket of equal number of rows\n",
    "age_order = [\"twenties\", \"thirties\", \"fourties\", \"fifties\", \"sixties\", \"seventies\", \"eighties\", \"nineties\"]\n",
    "dfs_list = []\n",
    "for age_bucket in age_order:\n",
    "    temp_df = train_with_non_null_age[train_with_non_null_age[\"age\"] == age_bucket]\n",
    "    print(f\"{age_bucket} filtered rows: {temp_df.shape[0]}\")\n",
    "    sample_df = temp_df.sample(n=SAMPLE_SIZE, random_state=RANDOM_STATE)\n",
    "    print(f\"{age_bucket} sample size rows: {sample_df.shape[0]}\")\n",
    "    dfs_list.append(sample_df)\n",
    "# ct.reindex(age_order)"
   ]
  },
  {
   "cell_type": "code",
   "execution_count": null,
   "id": "55ab4f6c-9371-4ee0-a726-ac9ce20c990f",
   "metadata": {},
   "outputs": [],
   "source": [
    "# Consolidate to single dataframe\n",
    "sample_df = pd.concat(dfs_list, ignore_index=True)\n",
    "print(f\"Combined sample df has shape: {sample_df.shape}\")\n",
    "sample_df.head(2)"
   ]
  },
  {
   "cell_type": "code",
   "execution_count": null,
   "id": "5d7e3e56-c6c5-40ce-bb33-d96db87d406d",
   "metadata": {},
   "outputs": [],
   "source": [
    "sample_df.to_csv(\"common_voices_sample1.csv\")"
   ]
  }
 ],
 "metadata": {
  "kernelspec": {
   "display_name": "Python 3 (ipykernel)",
   "language": "python",
   "name": "python3"
  },
  "language_info": {
   "codemirror_mode": {
    "name": "ipython",
    "version": 3
   },
   "file_extension": ".py",
   "mimetype": "text/x-python",
   "name": "python",
   "nbconvert_exporter": "python",
   "pygments_lexer": "ipython3",
   "version": "3.12.9"
  }
 },
 "nbformat": 4,
 "nbformat_minor": 5
}
