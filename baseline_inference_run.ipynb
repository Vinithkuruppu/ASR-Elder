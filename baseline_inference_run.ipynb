{
 "cells": [
  {
   "cell_type": "code",
   "execution_count": 1,
   "metadata": {
    "execution": {
     "iopub.execute_input": "2025-10-07T03:43:10.956541Z",
     "iopub.status.busy": "2025-10-07T03:43:10.956255Z",
     "iopub.status.idle": "2025-10-07T03:43:12.587051Z",
     "shell.execute_reply": "2025-10-07T03:43:12.586462Z",
     "shell.execute_reply.started": "2025-10-07T03:43:10.956512Z"
    },
    "id": "6TIW9Veqa4Qp"
   },
   "outputs": [
    {
     "name": "stdout",
     "output_type": "stream",
     "text": [
      "Requirement already satisfied: imageio-ffmpeg in /opt/conda/lib/python3.12/site-packages (0.6.0)\n",
      "Requirement already satisfied: torch in /opt/conda/lib/python3.12/site-packages (2.8.0)\n",
      "Requirement already satisfied: torchvision in /opt/conda/lib/python3.12/site-packages (0.23.0)\n",
      "Requirement already satisfied: filelock in /opt/conda/lib/python3.12/site-packages (from torch) (3.19.1)\n",
      "Requirement already satisfied: typing-extensions>=4.10.0 in /opt/conda/lib/python3.12/site-packages (from torch) (4.14.1)\n",
      "Requirement already satisfied: setuptools in /opt/conda/lib/python3.12/site-packages (from torch) (80.9.0)\n",
      "Requirement already satisfied: sympy>=1.13.3 in /opt/conda/lib/python3.12/site-packages (from torch) (1.14.0)\n",
      "Requirement already satisfied: networkx in /opt/conda/lib/python3.12/site-packages (from torch) (3.5)\n",
      "Requirement already satisfied: jinja2 in /opt/conda/lib/python3.12/site-packages (from torch) (3.1.6)\n",
      "Requirement already satisfied: fsspec in /opt/conda/lib/python3.12/site-packages (from torch) (2024.12.0)\n",
      "Requirement already satisfied: nvidia-cuda-nvrtc-cu12==12.8.93 in /opt/conda/lib/python3.12/site-packages (from torch) (12.8.93)\n",
      "Requirement already satisfied: nvidia-cuda-runtime-cu12==12.8.90 in /opt/conda/lib/python3.12/site-packages (from torch) (12.8.90)\n",
      "Requirement already satisfied: nvidia-cuda-cupti-cu12==12.8.90 in /opt/conda/lib/python3.12/site-packages (from torch) (12.8.90)\n",
      "Requirement already satisfied: nvidia-cudnn-cu12==9.10.2.21 in /opt/conda/lib/python3.12/site-packages (from torch) (9.10.2.21)\n",
      "Requirement already satisfied: nvidia-cublas-cu12==12.8.4.1 in /opt/conda/lib/python3.12/site-packages (from torch) (12.8.4.1)\n",
      "Requirement already satisfied: nvidia-cufft-cu12==11.3.3.83 in /opt/conda/lib/python3.12/site-packages (from torch) (11.3.3.83)\n",
      "Requirement already satisfied: nvidia-curand-cu12==10.3.9.90 in /opt/conda/lib/python3.12/site-packages (from torch) (10.3.9.90)\n",
      "Requirement already satisfied: nvidia-cusolver-cu12==11.7.3.90 in /opt/conda/lib/python3.12/site-packages (from torch) (11.7.3.90)\n",
      "Requirement already satisfied: nvidia-cusparse-cu12==12.5.8.93 in /opt/conda/lib/python3.12/site-packages (from torch) (12.5.8.93)\n",
      "Requirement already satisfied: nvidia-cusparselt-cu12==0.7.1 in /opt/conda/lib/python3.12/site-packages (from torch) (0.7.1)\n",
      "Requirement already satisfied: nvidia-nccl-cu12==2.27.3 in /opt/conda/lib/python3.12/site-packages (from torch) (2.27.3)\n",
      "Requirement already satisfied: nvidia-nvtx-cu12==12.8.90 in /opt/conda/lib/python3.12/site-packages (from torch) (12.8.90)\n",
      "Requirement already satisfied: nvidia-nvjitlink-cu12==12.8.93 in /opt/conda/lib/python3.12/site-packages (from torch) (12.8.93)\n",
      "Requirement already satisfied: nvidia-cufile-cu12==1.13.1.3 in /opt/conda/lib/python3.12/site-packages (from torch) (1.13.1.3)\n",
      "Requirement already satisfied: triton==3.4.0 in /opt/conda/lib/python3.12/site-packages (from torch) (3.4.0)\n",
      "Requirement already satisfied: numpy in /opt/conda/lib/python3.12/site-packages (from torchvision) (1.26.4)\n",
      "Requirement already satisfied: pillow!=8.3.*,>=5.3.0 in /opt/conda/lib/python3.12/site-packages (from torchvision) (11.3.0)\n",
      "Requirement already satisfied: mpmath<1.4,>=1.1.0 in /opt/conda/lib/python3.12/site-packages (from sympy>=1.13.3->torch) (1.3.0)\n",
      "Requirement already satisfied: MarkupSafe>=2.0 in /opt/conda/lib/python3.12/site-packages (from jinja2->torch) (3.0.2)\n"
     ]
    }
   ],
   "source": [
    "!pip install imageio-ffmpeg torch torchvision"
   ]
  },
  {
   "cell_type": "code",
   "execution_count": 2,
   "metadata": {
    "execution": {
     "iopub.execute_input": "2025-10-07T03:43:12.588051Z",
     "iopub.status.busy": "2025-10-07T03:43:12.587769Z",
     "iopub.status.idle": "2025-10-07T03:43:14.639447Z",
     "shell.execute_reply": "2025-10-07T03:43:14.638872Z",
     "shell.execute_reply.started": "2025-10-07T03:43:12.587992Z"
    },
    "id": "4OF262IKa5o8"
   },
   "outputs": [
    {
     "name": "stdout",
     "output_type": "stream",
     "text": [
      "sagemaker.config INFO - Not applying SDK defaults from location: /etc/xdg/sagemaker/config.yaml\n",
      "sagemaker.config INFO - Not applying SDK defaults from location: /home/sagemaker-user/.config/sagemaker/config.yaml\n"
     ]
    }
   ],
   "source": [
    "import os\n",
    "import sys\n",
    "import logging\n",
    "import tempfile\n",
    "import shutil\n",
    "import subprocess\n",
    "import traceback\n",
    "import gc\n",
    "from typing import List, Set, Dict, Optional, Any\n",
    "from dataclasses import dataclass, field\n",
    "from urllib.parse import urlparse\n",
    "from concurrent.futures import ThreadPoolExecutor, as_completed\n",
    "from contextlib import contextmanager\n",
    "from pathlib import Path\n",
    "from concurrent.futures import ProcessPoolExecutor\n",
    "import multiprocessing as mp\n",
    "import threading\n",
    "from dataclasses import asdict\n",
    "from sagemaker.pytorch import PyTorchProcessor\n",
    "from sagemaker import get_execution_role\n",
    "from sagemaker.processing import ProcessingOutput"
   ]
  },
  {
   "cell_type": "code",
   "execution_count": 3,
   "metadata": {
    "execution": {
     "iopub.execute_input": "2025-10-07T03:43:14.640390Z",
     "iopub.status.busy": "2025-10-07T03:43:14.640171Z",
     "iopub.status.idle": "2025-10-07T03:43:14.643117Z",
     "shell.execute_reply": "2025-10-07T03:43:14.642576Z",
     "shell.execute_reply.started": "2025-10-07T03:43:14.640370Z"
    },
    "id": "V0D1ADtOa5mI"
   },
   "outputs": [],
   "source": [
    "mp.set_start_method(\"spawn\", force=True) \n",
    "\n",
    "_PIPELINE = None\n",
    "_PIPELINE_DEVICE = None"
   ]
  },
  {
   "cell_type": "code",
   "execution_count": 4,
   "metadata": {
    "execution": {
     "iopub.execute_input": "2025-10-07T03:43:14.643926Z",
     "iopub.status.busy": "2025-10-07T03:43:14.643734Z",
     "iopub.status.idle": "2025-10-07T03:43:25.650017Z",
     "shell.execute_reply": "2025-10-07T03:43:25.649381Z",
     "shell.execute_reply.started": "2025-10-07T03:43:14.643908Z"
    },
    "id": "nabJ9h9ua5jY"
   },
   "outputs": [
    {
     "name": "stderr",
     "output_type": "stream",
     "text": [
      "/opt/conda/lib/python3.12/site-packages/transformers/utils/hub.py:110: FutureWarning: Using `TRANSFORMERS_CACHE` is deprecated and will be removed in v5 of Transformers. Use `HF_HOME` instead.\n",
      "  warnings.warn(\n",
      "2025-10-07 03:43:19.711098: I tensorflow/core/util/port.cc:153] oneDNN custom operations are on. You may see slightly different numerical results due to floating-point round-off errors from different computation orders. To turn them off, set the environment variable `TF_ENABLE_ONEDNN_OPTS=0`.\n",
      "2025-10-07 03:43:19.729589: E external/local_xla/xla/stream_executor/cuda/cuda_fft.cc:477] Unable to register cuFFT factory: Attempting to register factory for plugin cuFFT when one has already been registered\n",
      "WARNING: All log messages before absl::InitializeLog() is called are written to STDERR\n",
      "E0000 00:00:1759808599.750165   30653 cuda_dnn.cc:8310] Unable to register cuDNN factory: Attempting to register factory for plugin cuDNN when one has already been registered\n",
      "E0000 00:00:1759808599.757035   30653 cuda_blas.cc:1418] Unable to register cuBLAS factory: Attempting to register factory for plugin cuBLAS when one has already been registered\n",
      "2025-10-07 03:43:19.779251: I tensorflow/core/platform/cpu_feature_guard.cc:210] This TensorFlow binary is optimized to use available CPU instructions in performance-critical operations.\n",
      "To enable the following instructions: SSE4.1 SSE4.2 AVX AVX2 AVX512F AVX512_VNNI FMA, in other operations, rebuild TensorFlow with the appropriate compiler flags.\n"
     ]
    }
   ],
   "source": [
    "# Import torch first to avoid registration conflicts\n",
    "import torch\n",
    "import torchvision  # Import this explicitly before transformers\n",
    "\n",
    "# Env setup\n",
    "import os\n",
    "import imageio_ffmpeg, os\n",
    "os.environ[\"PATH\"] = os.path.dirname(imageio_ffmpeg.get_ffmpeg_exe()) + os.pathsep + os.environ.get(\"PATH\",\"\")\n",
    "os.environ.setdefault(\"TRANSFORMERS_CACHE\", \"/tmp/transformers_cache\")\n",
    "os.environ.setdefault(\"HF_HOME\", \"/tmp/hf_home\")\n",
    "os.environ.setdefault(\"TORCH_HOME\", \"/tmp/torch_home\")\n",
    "\n",
    "import boto3\n",
    "from botocore.exceptions import ClientError\n",
    "import pandas as pd\n",
    "from tqdm import tqdm\n",
    "import imageio_ffmpeg\n",
    "from transformers import pipeline\n",
    "import argparse, os, logging"
   ]
  },
  {
   "cell_type": "code",
   "execution_count": 5,
   "metadata": {
    "execution": {
     "iopub.execute_input": "2025-10-07T03:43:25.651788Z",
     "iopub.status.busy": "2025-10-07T03:43:25.651316Z",
     "iopub.status.idle": "2025-10-07T03:43:25.655027Z",
     "shell.execute_reply": "2025-10-07T03:43:25.654475Z",
     "shell.execute_reply.started": "2025-10-07T03:43:25.651765Z"
    },
    "id": "GmPJjB-ka5g4"
   },
   "outputs": [],
   "source": [
    "# Configure logging\n",
    "logging.basicConfig(\n",
    "    level=logging.INFO,\n",
    "    format=\"%(asctime)s %(levelname)s - %(message)s\",\n",
    "    handlers=[logging.StreamHandler(sys.stdout)],\n",
    "    force = True,\n",
    ")\n",
    "logger = logging.getLogger(\"asr_pipeline\")"
   ]
  },
  {
   "cell_type": "code",
   "execution_count": 6,
   "metadata": {
    "execution": {
     "iopub.execute_input": "2025-10-07T03:43:25.656550Z",
     "iopub.status.busy": "2025-10-07T03:43:25.656338Z",
     "iopub.status.idle": "2025-10-07T03:43:25.661517Z",
     "shell.execute_reply": "2025-10-07T03:43:25.660918Z",
     "shell.execute_reply.started": "2025-10-07T03:43:25.656531Z"
    },
    "id": "9pdbTk39a5eG"
   },
   "outputs": [],
   "source": [
    "# =============================================== Config ===============================================\n",
    "@dataclass\n",
    "class Config:\n",
    "    \"\"\"Configuration for the transcription pipeline\"\"\"\n",
    "    # S3 settings\n",
    "    s3_input: str = \"s3://asrelder-data/common_voice/23/cv-corpus-23.0-2025-09-05/en/clips/\"\n",
    "    output_local_csv: str = \"./transcripts_from_prefix.csv\"\n",
    "    write_back_to_s3: bool = False\n",
    "    output_s3_uri: Optional[str] = None\n",
    "    #output_s3_uri: str = \"s3://asrelder-data/outputs/transcripts_from_prefix.csv\" uncomment if we want it back on s3\n",
    "    validation_csv_path: str = \"common_voices_23_train_with_validated_votes.csv\"\n",
    "    validation_csv_column: str = \"path\"\n",
    "\n",
    "    # Processing settings\n",
    "    max_files: Optional[int] = None\n",
    "    download_workers: int = 24\n",
    "    append_every_n: int = 200\n",
    "    resume_from_csv: bool = True\n",
    "\n",
    "    # Model settings\n",
    "    model_id: str = \"openai/whisper-base\"\n",
    "    language: Optional[str] = \"en\"\n",
    "    task: str = \"transcribe\"\n",
    "    chunk_length_s: int = 30\n",
    "    stride_length_s: tuple = (5, 5)\n",
    "\n",
    "    # File settings\n",
    "    audio_extensions: List[str] = field(default_factory=lambda: [\".mp3\", \".wav\", \".flac\", \".m4a\", \".ogg\"])"
   ]
  },
  {
   "cell_type": "code",
   "execution_count": 7,
   "metadata": {
    "execution": {
     "iopub.execute_input": "2025-10-07T03:43:25.662494Z",
     "iopub.status.busy": "2025-10-07T03:43:25.662200Z",
     "iopub.status.idle": "2025-10-07T03:43:25.668107Z",
     "shell.execute_reply": "2025-10-07T03:43:25.667504Z",
     "shell.execute_reply.started": "2025-10-07T03:43:25.662467Z"
    },
    "id": "WKouNU6ka5bj"
   },
   "outputs": [],
   "source": [
    "def _build_worker_pipeline(cfg_dict, device_id):\n",
    "    use_cuda = torch.cuda.is_available() and device_id >= 0\n",
    "    dtype = torch.float16 if use_cuda else torch.float32\n",
    "    generate_kwargs = {}\n",
    "    if cfg_dict.get(\"language\"): generate_kwargs[\"language\"] = cfg_dict[\"language\"]\n",
    "    if cfg_dict.get(\"task\"):     generate_kwargs[\"task\"] = cfg_dict[\"task\"]\n",
    "    return pipeline(\n",
    "        \"automatic-speech-recognition\",\n",
    "        model=cfg_dict[\"model_id\"],\n",
    "        device=(device_id if use_cuda else -1),\n",
    "        torch_dtype=dtype,\n",
    "        return_timestamps=True,\n",
    "        chunk_length_s=cfg_dict[\"chunk_length_s\"],\n",
    "        stride_length_s=tuple(cfg_dict[\"stride_length_s\"]),\n",
    "        generate_kwargs=(generate_kwargs or None),\n",
    "    )\n",
    "\n",
    "def _transcribe_worker(args):\n",
    "    # args: (audio_path, cfg_dict, device_id)\n",
    "    audio_path, cfg_dict, device_id = args\n",
    "    global _PIPELINE, _PIPELINE_DEVICE\n",
    "    if (_PIPELINE is None) or (_PIPELINE_DEVICE != device_id):\n",
    "        _PIPELINE = _build_worker_pipeline(cfg_dict, device_id)\n",
    "        _PIPELINE_DEVICE = device_id\n",
    "    try:\n",
    "        out = _PIPELINE(audio_path)\n",
    "        text = out.get(\"text\", \"\") if isinstance(out, dict) else str(out)\n",
    "        return {\"path\": audio_path, \"text\": text, \"error\": \"\"}\n",
    "    except Exception as e:\n",
    "        return {\"path\": audio_path, \"text\": \"\", \"error\": f\"{type(e).__name__}: {e}\"}"
   ]
  },
  {
   "cell_type": "code",
   "execution_count": 8,
   "metadata": {
    "execution": {
     "iopub.execute_input": "2025-10-07T03:43:25.669322Z",
     "iopub.status.busy": "2025-10-07T03:43:25.668951Z",
     "iopub.status.idle": "2025-10-07T03:43:25.693043Z",
     "shell.execute_reply": "2025-10-07T03:43:25.692355Z",
     "shell.execute_reply.started": "2025-10-07T03:43:25.669291Z"
    },
    "id": "z5J475Bqa5ZF"
   },
   "outputs": [],
   "source": [
    "# =============================================== Core Components ===============================================\n",
    "class FFmpegSetup:\n",
    "    \"\"\"Manages FFmpeg availability\"\"\"\n",
    "\n",
    "    @staticmethod\n",
    "    def ensure_available() -> Optional[str]:\n",
    "        \"\"\"Check if ffmpeg is available on PATH\"\"\"\n",
    "        ff = None\n",
    "        try:\n",
    "            ff = imageio_ffmpeg.get_ffmpeg_exe()\n",
    "        except Exception as e:\n",
    "            logger.warning(f\"imageio-ffmpeg error: {e}\")\n",
    "\n",
    "        if ff and os.path.exists(ff):\n",
    "            ff_dir = os.path.dirname(ff)\n",
    "            os.environ[\"PATH\"] = ff_dir + os.pathsep + os.environ.get(\"PATH\", \"\")\n",
    "\n",
    "        resolved = shutil.which(\"ffmpeg\")\n",
    "        if resolved:\n",
    "            try:\n",
    "                out = subprocess.run(\n",
    "                    [resolved, \"-version\"],\n",
    "                    stdout=subprocess.PIPE,\n",
    "                    stderr=subprocess.STDOUT,\n",
    "                    check=True,\n",
    "                    timeout=5\n",
    "                )\n",
    "                logger.info(f\"ffmpeg: {resolved} | {out.stdout.decode('utf-8').splitlines()[0]}\")\n",
    "            except Exception:\n",
    "                logger.info(f\"ffmpeg: {resolved} (version check failed)\")\n",
    "        else:\n",
    "            # Create shim if needed\n",
    "            if ff and os.path.exists(ff):\n",
    "                bin_dir = os.path.expanduser(\"~/.local/bin\")\n",
    "                os.makedirs(bin_dir, exist_ok=True)\n",
    "                shim = os.path.join(bin_dir, \"ffmpeg\")\n",
    "                with open(shim, \"w\") as f:\n",
    "                    f.write(f\"#!/usr/bin/env bash\\n\\\"{ff}\\\" \\\"$@\\\"\\n\")\n",
    "                os.chmod(shim, 0o755)\n",
    "                os.environ[\"PATH\"] = bin_dir + os.pathsep + os.environ.get(\"PATH\", \"\")\n",
    "                resolved = shutil.which(\"ffmpeg\")\n",
    "                if resolved:\n",
    "                    logger.info(f\"ffmpeg shim created: {resolved}\")\n",
    "\n",
    "        if not resolved:\n",
    "            logger.warning(\"FFmpeg not found; use torchaudio fallback\")\n",
    "\n",
    "        return resolved\n",
    "\n",
    "class S3Manager:\n",
    "    \"\"\"Handles S3 operations\"\"\"\n",
    "\n",
    "    def __init__(self, config: Config):\n",
    "        self.config = config\n",
    "        self.client = boto3.client(\"s3\")\n",
    "\n",
    "    def parse_uri(self, uri: str) -> tuple[str, str]:\n",
    "        \"\"\"Parse S3 URI into bucket and key\"\"\"\n",
    "        if not uri.startswith(\"s3://\"):\n",
    "            raise ValueError(f\"Invalid S3 URI: {uri}\")\n",
    "        p = urlparse(uri)\n",
    "        return p.netloc, p.path.lstrip(\"/\")\n",
    "\n",
    "    def is_audio_file(self, key: str) -> bool:\n",
    "        \"\"\"Check if key is an audio file\"\"\"\n",
    "        return any(key.lower().endswith(ext) for ext in self.config.audio_extensions)\n",
    "\n",
    "    def list_audio_keys(self, bucket: str, prefix: str, allowed_filenames: Optional[Set[str]] = None) -> List[str]:\n",
    "        \"\"\"List all audio keys under prefix, optionally filtered by allowed filenames\"\"\"\n",
    "        if self.is_audio_file(prefix):\n",
    "            return [prefix]\n",
    "\n",
    "        keys = []\n",
    "        paginator = self.client.get_paginator(\"list_objects_v2\")\n",
    "\n",
    "        for page in paginator.paginate(Bucket=bucket, Prefix=prefix):\n",
    "            for obj in page.get(\"Contents\", []):\n",
    "                key = obj[\"Key\"]\n",
    "                if not key.endswith(\"/\") and self.is_audio_file(key):\n",
    "                    if allowed_filenames:\n",
    "                        filename = os.path.basename(key)\n",
    "                        if filename not in allowed_filenames:\n",
    "                            continue\n",
    "                            \n",
    "                    keys.append(key)\n",
    "                    if self.config.max_files and len(keys) >= self.config.max_files:\n",
    "                        return keys\n",
    "        return keys\n",
    "\n",
    "    def download_to_temp(self, bucket: str, key: str) -> str:\n",
    "        \"\"\"Download S3 object to temporary file\"\"\"\n",
    "        _, ext = os.path.splitext(key)\n",
    "        if not ext:\n",
    "            ext = \".mp3\"\n",
    "\n",
    "        fd, tmp_path = tempfile.mkstemp(suffix=ext)\n",
    "        os.close(fd)\n",
    "\n",
    "        with open(tmp_path, \"wb\") as f:\n",
    "            self.client.download_fileobj(bucket, key, f)\n",
    "\n",
    "        return tmp_path\n",
    "\n",
    "    def upload_file(self, local_path: str, s3_uri: str):\n",
    "        \"\"\"Upload file to S3\"\"\"\n",
    "        bucket, key = self.parse_uri(s3_uri)\n",
    "        self.client.upload_file(local_path, bucket, key)\n",
    "        logger.info(f\"Uploaded to {s3_uri}\")\n",
    "\n",
    "class TranscriptionManager:\n",
    "    \"\"\"Manages multiple ASR pipelines for parallel processing\"\"\"\n",
    "\n",
    "    def __init__(self, config: Config):\n",
    "        self.config = config\n",
    "        self.pipelines = []\n",
    "        self.pipeline_locks = []\n",
    "\n",
    "        num_workers = getattr(config, 'asr_workers', 16)\n",
    "\n",
    "        # Create multiple pipeline instances\n",
    "        for i in range(num_workers):\n",
    "            if torch.cuda.is_available():\n",
    "                device_id = i % torch.cuda.device_count()\n",
    "            else:\n",
    "                device_id = -1\n",
    "\n",
    "            logger.info(f\"Creating ASR worker {i+1}/{num_workers} on device {device_id}\")\n",
    "            pipe = self._build_pipeline(device_id=device_id)\n",
    "            self.pipelines.append(pipe)\n",
    "            self.pipeline_locks.append(threading.Lock())\n",
    "\n",
    "    def _build_pipeline(self, device_id=-1):\n",
    "        \"\"\"Build the ASR pipeline\"\"\"\n",
    "        use_cuda = torch.cuda.is_available() and device_id >= 0\n",
    "        dtype = torch.float16 if use_cuda else torch.float32\n",
    "\n",
    "        generate_kwargs = {}\n",
    "        if self.config.language:\n",
    "            generate_kwargs[\"language\"] = self.config.language\n",
    "        if self.config.task:\n",
    "            generate_kwargs[\"task\"] = self.config.task\n",
    "\n",
    "        logger.info(f\"Loading ASR: {self.config.model_id} (device={device_id}, dtype={dtype})\")\n",
    "\n",
    "        return pipeline(\n",
    "            \"automatic-speech-recognition\",\n",
    "            model=self.config.model_id,\n",
    "            device=device_id,\n",
    "            torch_dtype=dtype,\n",
    "            return_timestamps=True,\n",
    "            chunk_length_s=self.config.chunk_length_s,\n",
    "            stride_length_s=self.config.stride_length_s,\n",
    "            generate_kwargs=generate_kwargs or None,\n",
    "        )\n",
    "\n",
    "    def transcribe(self, audio_path: str) -> Dict[str, Any]:\n",
    "        \"\"\"Single file transcription - uses first pipeline\"\"\"\n",
    "        return self._transcribe_with_pipeline(audio_path, 0)\n",
    "\n",
    "    def transcribe_batch_parallel(self, paths_and_keys: List[tuple]) -> List[Dict[str, Any]]:\n",
    "        \"\"\"Transcribe multiple files in parallel using ThreadPoolExecutor\"\"\"\n",
    "        num_workers = len(self.pipelines)\n",
    "\n",
    "        with ThreadPoolExecutor(max_workers=num_workers) as executor:\n",
    "            futures = []\n",
    "            for i, (path, key) in enumerate(paths_and_keys):\n",
    "                pipeline_idx = i % num_workers\n",
    "                future = executor.submit(\n",
    "                    self._transcribe_with_pipeline_and_key,\n",
    "                    path,\n",
    "                    key,\n",
    "                    pipeline_idx\n",
    "                )\n",
    "                futures.append(future)\n",
    "\n",
    "            # Collect results\n",
    "            results = []\n",
    "            for future in as_completed(futures):\n",
    "                try:\n",
    "                    result = future.result()\n",
    "                    results.append(result)\n",
    "                except Exception as e:\n",
    "                    logger.error(f\"Transcription failed: {e}\")\n",
    "\n",
    "            return results\n",
    "\n",
    "    def _transcribe_with_pipeline(self, audio_path: str, pipeline_idx: int) -> Dict[str, Any]:\n",
    "        \"\"\"Transcribe using a specific pipeline instance\"\"\"\n",
    "        with self.pipeline_locks[pipeline_idx]:\n",
    "            try:\n",
    "                result = self.pipelines[pipeline_idx](audio_path)\n",
    "                text = result.get(\"text\", \"\") if isinstance(result, dict) else str(result)\n",
    "                return {\"text\": text, \"error\": None}\n",
    "            except Exception as e:\n",
    "                if \"ffmpeg\" in str(e).lower():\n",
    "                    return self._fallback_transcribe(audio_path, pipeline_idx)\n",
    "                return {\"text\": \"\", \"error\": f\"{type(e).__name__}: {e}\"}\n",
    "\n",
    "    def _transcribe_with_pipeline_and_key(self, audio_path: str, s3_key: str, pipeline_idx: int) -> Dict[str, Any]:\n",
    "        \"\"\"Transcribe with key tracking for batch processing\"\"\"\n",
    "        result = self._transcribe_with_pipeline(audio_path, pipeline_idx)\n",
    "\n",
    "        if result[\"text\"]:\n",
    "            preview = result[\"text\"][:100] + \"...\" if len(result[\"text\"]) > 100 else result[\"text\"]\n",
    "            logger.info(f\"✓ Worker {pipeline_idx}: {os.path.basename(s3_key)}: {preview}\")\n",
    "        else:\n",
    "            logger.warning(f\"✗ Worker {pipeline_idx}: {os.path.basename(s3_key)}: {result['error']}\")\n",
    "\n",
    "        return {\n",
    "            \"s3_key\": s3_key,\n",
    "            \"filename\": os.path.basename(s3_key),\n",
    "            \"transcribed_text\": result[\"text\"],\n",
    "            \"error\": result[\"error\"] or \"\"\n",
    "        }\n",
    "\n",
    "    def _fallback_transcribe(self, audio_path: str, pipeline_idx: int) -> Dict[str, Any]:\n",
    "        \"\"\"Fallback using torchaudio\"\"\"\n",
    "        try:\n",
    "            import torchaudio\n",
    "            waveform, sr = torchaudio.load(audio_path)\n",
    "            if waveform.ndim == 2:\n",
    "                waveform = waveform.mean(dim=0, keepdim=True)\n",
    "\n",
    "            with self.pipeline_locks[pipeline_idx]:\n",
    "                result = self.pipelines[pipeline_idx](waveform.squeeze(0).numpy(), sampling_rate=sr)\n",
    "                text = result.get(\"text\", \"\") if isinstance(result, dict) else str(result)\n",
    "                return {\"text\": text, \"error\": None}\n",
    "        except Exception as e:\n",
    "            return {\"text\": \"\", \"error\": f\"Fallback failed: {e}\"}\n",
    "\n",
    "    def cleanup_gpu_memory(self):\n",
    "        \"\"\"Clean up GPU memory\"\"\"\n",
    "        if torch.cuda.is_available():\n",
    "            torch.cuda.empty_cache()\n",
    "        gc.collect()\n",
    "\n",
    "\n",
    "class CSVManager:\n",
    "    \"\"\"Handles CSV operations \"\"\"\n",
    "\n",
    "    def __init__(self, csv_path: str):\n",
    "        self.csv_path = csv_path\n",
    "\n",
    "    def read_processed_keys(self) -> Set[str]:\n",
    "        \"\"\"Read already processed S3 keys from CSV\"\"\"\n",
    "        if not os.path.exists(self.csv_path):\n",
    "            return set()\n",
    "        try:\n",
    "            df = pd.read_csv(self.csv_path, usecols=[\"s3_key\"])\n",
    "            return set(df[\"s3_key\"].astype(str).tolist())\n",
    "        except Exception as e:\n",
    "            logger.warning(f\"Could not read existing CSV: {e}\")\n",
    "            return set()\n",
    "\n",
    "    def append_results(self, results: List[Dict[str, Any]]):\n",
    "        \"\"\"Append results to CSV\"\"\"\n",
    "        if not results:\n",
    "            return\n",
    "\n",
    "        df = pd.DataFrame(results)\n",
    "        mode = \"a\" if os.path.exists(self.csv_path) else \"w\"\n",
    "        header = not os.path.exists(self.csv_path)\n",
    "\n",
    "        df.to_csv(self.csv_path, index=False, mode=mode, header=header)\n",
    "        logger.info(f\"Appended {len(results)} rows to {self.csv_path}\")"
   ]
  },
  {
   "cell_type": "code",
   "execution_count": 9,
   "metadata": {
    "execution": {
     "iopub.execute_input": "2025-10-07T03:43:25.693905Z",
     "iopub.status.busy": "2025-10-07T03:43:25.693680Z",
     "iopub.status.idle": "2025-10-07T03:43:25.698574Z",
     "shell.execute_reply": "2025-10-07T03:43:25.698009Z",
     "shell.execute_reply.started": "2025-10-07T03:43:25.693886Z"
    },
    "id": "OYIkt_eha5Wg"
   },
   "outputs": [],
   "source": [
    "class ValidationCSVManager:\n",
    "    \"\"\"Handles the CSV with validated files\"\"\"\n",
    "\n",
    "    def __init__(self, csv_path: str, column_name: str):\n",
    "        self.csv_path = csv_path\n",
    "        self.column_name = column_name\n",
    "\n",
    "    def read_allowed_filenames(self) -> Set[str]:\n",
    "        \"\"\"Read the list of allowed filenames from the validation CSV\"\"\"\n",
    "        if not os.path.exists(self.csv_path):\n",
    "            raise FileNotFoundError(f\"Validation CSV not found: {self.csv_path}\")\n",
    "\n",
    "        try:\n",
    "            df = pd.read_csv(self.csv_path, usecols=[self.column_name])\n",
    "            filenames = df[self.column_name].astype(str).tolist()\n",
    "            # Remove any NaN values and strip whitespace\n",
    "            filenames = [f.strip() for f in filenames if pd.notna(f) and f.strip()]\n",
    "            logger.info(f\"Loaded {len(filenames)} allowed filenames from {self.csv_path}\")\n",
    "            return set(filenames)\n",
    "        except Exception as e:\n",
    "            logger.error(f\"Failed to read validation CSV: {e}\")\n",
    "            raise"
   ]
  },
  {
   "cell_type": "code",
   "execution_count": 10,
   "metadata": {
    "execution": {
     "iopub.execute_input": "2025-10-07T03:43:25.700473Z",
     "iopub.status.busy": "2025-10-07T03:43:25.700246Z",
     "iopub.status.idle": "2025-10-07T03:43:25.714860Z",
     "shell.execute_reply": "2025-10-07T03:43:25.714186Z",
     "shell.execute_reply.started": "2025-10-07T03:43:25.700455Z"
    },
    "id": "SNEN__NQa5T4"
   },
   "outputs": [],
   "source": [
    "class ProductionPipeline:\n",
    "    \"\"\"Main for the transcription pipeline\"\"\"\n",
    "\n",
    "    def __init__(self, config: Config):\n",
    "        self.config = config\n",
    "        self.s3_manager = S3Manager(config)\n",
    "        self.transcription_manager = TranscriptionManager(config)\n",
    "        self.csv_manager = CSVManager(config.output_local_csv)\n",
    "        self.validation_csv_manager = ValidationCSVManager(\n",
    "            config.validation_csv_path,\n",
    "            config.validation_csv_column\n",
    "        )\n",
    "        self.results_buffer: List[Dict[str, Any]] = []\n",
    "\n",
    "    def run(self):\n",
    "        \"\"\"Execute the transcription pipeline\"\"\"\n",
    "        # Setup\n",
    "        FFmpegSetup.ensure_available()\n",
    "\n",
    "        allowed_filenames = self.validation_csv_manager.read_allowed_filenames()\n",
    "        logger.info(f\"Will only process files from validation CSV: {len(allowed_filenames)} files\")\n",
    "\n",
    "\n",
    "        bucket, prefix = self.s3_manager.parse_uri(self.config.s3_input)\n",
    "        prefix_norm = prefix.rstrip(\"/\") + \"/\"\n",
    "\n",
    "        # Normalize allow-list to just basenames so it matches S3 keys\n",
    "        def _norm(name: str) -> str:\n",
    "            name = (name or \"\").strip().lstrip(\"/\")\n",
    "            return os.path.basename(name)\n",
    "\n",
    "        allowed_filenames = { _norm(x) for x in self.validation_csv_manager.read_allowed_filenames() }\n",
    "        logger.info(f\"Will only process files from validation CSV (normalized): {len(allowed_filenames)}\")\n",
    "\n",
    "\n",
    "        existing = []\n",
    "        paginator = self.s3_manager.client.get_paginator(\"list_objects_v2\")\n",
    "        for page in paginator.paginate(Bucket=bucket, Prefix=prefix_norm):\n",
    "            for obj in page.get(\"Contents\", []):\n",
    "                key = obj[\"Key\"]\n",
    "                if key.endswith(\"/\"):\n",
    "                    continue\n",
    "                if not self.s3_manager.is_audio_file(key):\n",
    "                    continue\n",
    "                if os.path.basename(key) in allowed_filenames:\n",
    "                    existing.append(key)\n",
    "\n",
    "        all_keys = existing\n",
    "        logger.info(f\"Using {len(all_keys)} existing keys from CSV list (after intersection).\")\n",
    "\n",
    "\n",
    "\n",
    "        logger.info(f\"Found {len(all_keys)} matching files in S3\")\n",
    "\n",
    "        processed_keys = set()\n",
    "        if self.config.resume_from_csv:\n",
    "            processed_keys = self.csv_manager.read_processed_keys()\n",
    "\n",
    "        keys_to_process = [k for k in all_keys if k not in processed_keys]\n",
    "\n",
    "        logger.info(\n",
    "            f\"Processing {len(keys_to_process)} files \"\n",
    "            f\"(skipped {len(processed_keys)} already done)\"\n",
    "        )\n",
    "\n",
    "        if not keys_to_process:\n",
    "            logger.info(\"No files to process\")\n",
    "            return\n",
    "\n",
    "        # Process with concurrent downloads\n",
    "        self._process_with_concurrency(bucket, keys_to_process)\n",
    "\n",
    "        # Final flush\n",
    "        self._flush_results()\n",
    "\n",
    "        # Upload to S3 if configured\n",
    "        if self.config.write_back_to_s3 and self.config.output_s3_uri:\n",
    "            self.s3_manager.upload_file(\n",
    "                self.config.output_local_csv,\n",
    "                self.config.output_s3_uri\n",
    "            )\n",
    "\n",
    "        logger.info(\"Pipeline complete!\")\n",
    "\n",
    "\n",
    "    def _process_with_concurrency(self, bucket: str, keys: List[str]):\n",
    "        \"\"\"Process files with concurrent downloads and parallel transcription\"\"\"\n",
    "        batch_size = max(1, self.config.download_workers * 2)\n",
    "\n",
    "        with ThreadPoolExecutor(max_workers=self.config.download_workers) as pool:\n",
    "            for i in range(0, len(keys), batch_size):\n",
    "                batch = keys[i:i + batch_size]\n",
    "\n",
    "                # Download batch\n",
    "                downloaded = []\n",
    "                futures = {\n",
    "                    pool.submit(self.s3_manager.download_to_temp, bucket, k): k\n",
    "                    for k in batch\n",
    "                }\n",
    "\n",
    "                progress = tqdm(\n",
    "                    as_completed(futures),\n",
    "                    total=len(futures),\n",
    "                    desc=f\"Downloading batch {i//batch_size + 1}\"\n",
    "                )\n",
    "\n",
    "                for future in progress:\n",
    "                    key = futures[future]\n",
    "                    try:\n",
    "                        local_path = future.result()\n",
    "                        downloaded.append((local_path, key))\n",
    "                    except Exception as e:\n",
    "                        logger.error(f\"Download failed for {key}: {e}\")\n",
    "                        self.results_buffer.append({\n",
    "                            \"s3_key\": key,\n",
    "                            \"filename\": os.path.basename(key),\n",
    "                            \"transcribed_text\": \"\",\n",
    "                            \"error\": f\"Download failed: {e}\"\n",
    "                        })\n",
    "\n",
    "                # Transcribe downloaded files in parallel\n",
    "                if downloaded:\n",
    "                    logger.info(f\"Transcribing {len(downloaded)} files in parallel...\")\n",
    "                    results = self.transcription_manager.transcribe_batch_parallel(downloaded)\n",
    "\n",
    "                    for result in results:\n",
    "                        self.results_buffer.append(result)\n",
    "\n",
    "                    # Clean up temp files\n",
    "                    for local_path, _ in downloaded:\n",
    "                        try:\n",
    "                            os.remove(local_path)\n",
    "                        except:\n",
    "                            pass\n",
    "\n",
    "                # Periodic flush\n",
    "                if len(self.results_buffer) >= self.config.append_every_n:\n",
    "                    self._flush_results()\n",
    "\n",
    "                # Memory cleanup\n",
    "                self.transcription_manager.cleanup_gpu_memory()\n",
    "\n",
    "    def _process_single_file(self, future, key: str):\n",
    "        \"\"\"Process a single downloaded file\"\"\"\n",
    "        local_path = None\n",
    "        try:\n",
    "            # Get downloaded file\n",
    "            local_path = future.result()\n",
    "\n",
    "            # Transcribe\n",
    "            result = self.transcription_manager.transcribe(local_path)\n",
    "\n",
    "            # Store result\n",
    "            self.results_buffer.append({\n",
    "                \"s3_key\": key,\n",
    "                \"filename\": os.path.basename(key),\n",
    "                \"transcribed_text\": result[\"text\"],\n",
    "                \"error\": result[\"error\"] or \"\"\n",
    "            })\n",
    "\n",
    "            if result[\"text\"]:\n",
    "                preview = result[\"text\"][:100] + \"...\" if len(result[\"text\"]) > 100 else result[\"text\"]\n",
    "                logger.info(f\"{os.path.basename(key)}: {preview}\")\n",
    "            else:\n",
    "                logger.warning(f\"{os.path.basename(key)}: {result['error']}\")\n",
    "\n",
    "            # Periodic flush\n",
    "            if len(self.results_buffer) >= self.config.append_every_n:\n",
    "                self._flush_results()\n",
    "\n",
    "            # Memory cleanup\n",
    "            self.transcription_manager.cleanup_gpu_memory()\n",
    "\n",
    "        except Exception as e:\n",
    "            tb = traceback.format_exc(limit=2)\n",
    "            self.results_buffer.append({\n",
    "                \"s3_key\": key,\n",
    "                \"filename\": os.path.basename(key),\n",
    "                \"transcribed_text\": \"\",\n",
    "                \"error\": f\"{type(e).__name__}: {e} | {tb}\"\n",
    "            })\n",
    "            logger.error(f\"Failed to process {key}: {e}\")\n",
    "\n",
    "        finally:\n",
    "            # Clean up temp file\n",
    "            if local_path and os.path.exists(local_path):\n",
    "                try:\n",
    "                    os.remove(local_path)\n",
    "                except Exception:\n",
    "                    pass\n",
    "\n",
    "    def _flush_results(self):\n",
    "        \"\"\"Flush results buffer to CSV\"\"\"\n",
    "        if self.results_buffer:\n",
    "            self.csv_manager.append_results(self.results_buffer)\n",
    "            self.results_buffer.clear()"
   ]
  },
  {
   "cell_type": "code",
   "execution_count": 11,
   "metadata": {
    "execution": {
     "iopub.execute_input": "2025-10-07T03:43:25.715712Z",
     "iopub.status.busy": "2025-10-07T03:43:25.715492Z",
     "iopub.status.idle": "2025-10-07T04:12:14.040832Z",
     "shell.execute_reply": "2025-10-07T04:12:14.040203Z",
     "shell.execute_reply.started": "2025-10-07T03:43:25.715689Z"
    },
    "id": "Rs-rx9Uka5Rw"
   },
   "outputs": [
    {
     "name": "stdout",
     "output_type": "stream",
     "text": [
      "2025-10-07 03:43:25,997 INFO - Creating ASR worker 1/16 on device 0\n",
      "2025-10-07 03:43:25,998 INFO - Loading ASR: openai/whisper-base (device=0, dtype=torch.float16)\n"
     ]
    },
    {
     "name": "stderr",
     "output_type": "stream",
     "text": [
      "`torch_dtype` is deprecated! Use `dtype` instead!\n",
      "Device set to use cuda:0\n",
      "Using `chunk_length_s` is very experimental with seq2seq models. The results will not necessarily be entirely accurate and will have caveats. More information: https://github.com/huggingface/transformers/pull/20104. Ignore this warning with pipeline(..., ignore_warning=True). To use Whisper for long-form transcription, use rather the model's `generate` method directly as the model relies on it's own chunking mechanism (cf. Whisper original paper, section 3.8. Long-form Transcription).\n"
     ]
    },
    {
     "name": "stdout",
     "output_type": "stream",
     "text": [
      "2025-10-07 03:43:27,384 INFO - Creating ASR worker 2/16 on device 0\n",
      "2025-10-07 03:43:27,384 INFO - Loading ASR: openai/whisper-base (device=0, dtype=torch.float16)\n"
     ]
    },
    {
     "name": "stderr",
     "output_type": "stream",
     "text": [
      "Device set to use cuda:0\n",
      "Using `chunk_length_s` is very experimental with seq2seq models. The results will not necessarily be entirely accurate and will have caveats. More information: https://github.com/huggingface/transformers/pull/20104. Ignore this warning with pipeline(..., ignore_warning=True). To use Whisper for long-form transcription, use rather the model's `generate` method directly as the model relies on it's own chunking mechanism (cf. Whisper original paper, section 3.8. Long-form Transcription).\n"
     ]
    },
    {
     "name": "stdout",
     "output_type": "stream",
     "text": [
      "2025-10-07 03:43:27,905 INFO - Creating ASR worker 3/16 on device 0\n",
      "2025-10-07 03:43:27,905 INFO - Loading ASR: openai/whisper-base (device=0, dtype=torch.float16)\n"
     ]
    },
    {
     "name": "stderr",
     "output_type": "stream",
     "text": [
      "Device set to use cuda:0\n",
      "Using `chunk_length_s` is very experimental with seq2seq models. The results will not necessarily be entirely accurate and will have caveats. More information: https://github.com/huggingface/transformers/pull/20104. Ignore this warning with pipeline(..., ignore_warning=True). To use Whisper for long-form transcription, use rather the model's `generate` method directly as the model relies on it's own chunking mechanism (cf. Whisper original paper, section 3.8. Long-form Transcription).\n"
     ]
    },
    {
     "name": "stdout",
     "output_type": "stream",
     "text": [
      "2025-10-07 03:43:28,415 INFO - Creating ASR worker 4/16 on device 0\n",
      "2025-10-07 03:43:28,416 INFO - Loading ASR: openai/whisper-base (device=0, dtype=torch.float16)\n"
     ]
    },
    {
     "name": "stderr",
     "output_type": "stream",
     "text": [
      "Device set to use cuda:0\n",
      "Using `chunk_length_s` is very experimental with seq2seq models. The results will not necessarily be entirely accurate and will have caveats. More information: https://github.com/huggingface/transformers/pull/20104. Ignore this warning with pipeline(..., ignore_warning=True). To use Whisper for long-form transcription, use rather the model's `generate` method directly as the model relies on it's own chunking mechanism (cf. Whisper original paper, section 3.8. Long-form Transcription).\n"
     ]
    },
    {
     "name": "stdout",
     "output_type": "stream",
     "text": [
      "2025-10-07 03:43:28,917 INFO - Creating ASR worker 5/16 on device 0\n",
      "2025-10-07 03:43:28,918 INFO - Loading ASR: openai/whisper-base (device=0, dtype=torch.float16)\n"
     ]
    },
    {
     "name": "stderr",
     "output_type": "stream",
     "text": [
      "Device set to use cuda:0\n",
      "Using `chunk_length_s` is very experimental with seq2seq models. The results will not necessarily be entirely accurate and will have caveats. More information: https://github.com/huggingface/transformers/pull/20104. Ignore this warning with pipeline(..., ignore_warning=True). To use Whisper for long-form transcription, use rather the model's `generate` method directly as the model relies on it's own chunking mechanism (cf. Whisper original paper, section 3.8. Long-form Transcription).\n"
     ]
    },
    {
     "name": "stdout",
     "output_type": "stream",
     "text": [
      "2025-10-07 03:43:29,430 INFO - Creating ASR worker 6/16 on device 0\n",
      "2025-10-07 03:43:29,430 INFO - Loading ASR: openai/whisper-base (device=0, dtype=torch.float16)\n"
     ]
    },
    {
     "name": "stderr",
     "output_type": "stream",
     "text": [
      "Device set to use cuda:0\n",
      "Using `chunk_length_s` is very experimental with seq2seq models. The results will not necessarily be entirely accurate and will have caveats. More information: https://github.com/huggingface/transformers/pull/20104. Ignore this warning with pipeline(..., ignore_warning=True). To use Whisper for long-form transcription, use rather the model's `generate` method directly as the model relies on it's own chunking mechanism (cf. Whisper original paper, section 3.8. Long-form Transcription).\n"
     ]
    },
    {
     "name": "stdout",
     "output_type": "stream",
     "text": [
      "2025-10-07 03:43:29,972 INFO - Creating ASR worker 7/16 on device 0\n",
      "2025-10-07 03:43:29,972 INFO - Loading ASR: openai/whisper-base (device=0, dtype=torch.float16)\n"
     ]
    },
    {
     "name": "stderr",
     "output_type": "stream",
     "text": [
      "Device set to use cuda:0\n",
      "Using `chunk_length_s` is very experimental with seq2seq models. The results will not necessarily be entirely accurate and will have caveats. More information: https://github.com/huggingface/transformers/pull/20104. Ignore this warning with pipeline(..., ignore_warning=True). To use Whisper for long-form transcription, use rather the model's `generate` method directly as the model relies on it's own chunking mechanism (cf. Whisper original paper, section 3.8. Long-form Transcription).\n"
     ]
    },
    {
     "name": "stdout",
     "output_type": "stream",
     "text": [
      "2025-10-07 03:43:30,474 INFO - Creating ASR worker 8/16 on device 0\n",
      "2025-10-07 03:43:30,474 INFO - Loading ASR: openai/whisper-base (device=0, dtype=torch.float16)\n"
     ]
    },
    {
     "name": "stderr",
     "output_type": "stream",
     "text": [
      "Device set to use cuda:0\n",
      "Using `chunk_length_s` is very experimental with seq2seq models. The results will not necessarily be entirely accurate and will have caveats. More information: https://github.com/huggingface/transformers/pull/20104. Ignore this warning with pipeline(..., ignore_warning=True). To use Whisper for long-form transcription, use rather the model's `generate` method directly as the model relies on it's own chunking mechanism (cf. Whisper original paper, section 3.8. Long-form Transcription).\n"
     ]
    },
    {
     "name": "stdout",
     "output_type": "stream",
     "text": [
      "2025-10-07 03:43:30,985 INFO - Creating ASR worker 9/16 on device 0\n",
      "2025-10-07 03:43:30,985 INFO - Loading ASR: openai/whisper-base (device=0, dtype=torch.float16)\n"
     ]
    },
    {
     "name": "stderr",
     "output_type": "stream",
     "text": [
      "Device set to use cuda:0\n",
      "Using `chunk_length_s` is very experimental with seq2seq models. The results will not necessarily be entirely accurate and will have caveats. More information: https://github.com/huggingface/transformers/pull/20104. Ignore this warning with pipeline(..., ignore_warning=True). To use Whisper for long-form transcription, use rather the model's `generate` method directly as the model relies on it's own chunking mechanism (cf. Whisper original paper, section 3.8. Long-form Transcription).\n"
     ]
    },
    {
     "name": "stdout",
     "output_type": "stream",
     "text": [
      "2025-10-07 03:43:31,496 INFO - Creating ASR worker 10/16 on device 0\n",
      "2025-10-07 03:43:31,497 INFO - Loading ASR: openai/whisper-base (device=0, dtype=torch.float16)\n"
     ]
    },
    {
     "name": "stderr",
     "output_type": "stream",
     "text": [
      "Device set to use cuda:0\n",
      "Using `chunk_length_s` is very experimental with seq2seq models. The results will not necessarily be entirely accurate and will have caveats. More information: https://github.com/huggingface/transformers/pull/20104. Ignore this warning with pipeline(..., ignore_warning=True). To use Whisper for long-form transcription, use rather the model's `generate` method directly as the model relies on it's own chunking mechanism (cf. Whisper original paper, section 3.8. Long-form Transcription).\n"
     ]
    },
    {
     "name": "stdout",
     "output_type": "stream",
     "text": [
      "2025-10-07 03:43:32,035 INFO - Creating ASR worker 11/16 on device 0\n",
      "2025-10-07 03:43:32,036 INFO - Loading ASR: openai/whisper-base (device=0, dtype=torch.float16)\n"
     ]
    },
    {
     "name": "stderr",
     "output_type": "stream",
     "text": [
      "Device set to use cuda:0\n",
      "Using `chunk_length_s` is very experimental with seq2seq models. The results will not necessarily be entirely accurate and will have caveats. More information: https://github.com/huggingface/transformers/pull/20104. Ignore this warning with pipeline(..., ignore_warning=True). To use Whisper for long-form transcription, use rather the model's `generate` method directly as the model relies on it's own chunking mechanism (cf. Whisper original paper, section 3.8. Long-form Transcription).\n"
     ]
    },
    {
     "name": "stdout",
     "output_type": "stream",
     "text": [
      "2025-10-07 03:43:32,555 INFO - Creating ASR worker 12/16 on device 0\n",
      "2025-10-07 03:43:32,556 INFO - Loading ASR: openai/whisper-base (device=0, dtype=torch.float16)\n"
     ]
    },
    {
     "name": "stderr",
     "output_type": "stream",
     "text": [
      "Device set to use cuda:0\n",
      "Using `chunk_length_s` is very experimental with seq2seq models. The results will not necessarily be entirely accurate and will have caveats. More information: https://github.com/huggingface/transformers/pull/20104. Ignore this warning with pipeline(..., ignore_warning=True). To use Whisper for long-form transcription, use rather the model's `generate` method directly as the model relies on it's own chunking mechanism (cf. Whisper original paper, section 3.8. Long-form Transcription).\n"
     ]
    },
    {
     "name": "stdout",
     "output_type": "stream",
     "text": [
      "2025-10-07 03:43:33,057 INFO - Creating ASR worker 13/16 on device 0\n",
      "2025-10-07 03:43:33,058 INFO - Loading ASR: openai/whisper-base (device=0, dtype=torch.float16)\n"
     ]
    },
    {
     "name": "stderr",
     "output_type": "stream",
     "text": [
      "Device set to use cuda:0\n",
      "Using `chunk_length_s` is very experimental with seq2seq models. The results will not necessarily be entirely accurate and will have caveats. More information: https://github.com/huggingface/transformers/pull/20104. Ignore this warning with pipeline(..., ignore_warning=True). To use Whisper for long-form transcription, use rather the model's `generate` method directly as the model relies on it's own chunking mechanism (cf. Whisper original paper, section 3.8. Long-form Transcription).\n"
     ]
    },
    {
     "name": "stdout",
     "output_type": "stream",
     "text": [
      "2025-10-07 03:43:33,591 INFO - Creating ASR worker 14/16 on device 0\n",
      "2025-10-07 03:43:33,591 INFO - Loading ASR: openai/whisper-base (device=0, dtype=torch.float16)\n"
     ]
    },
    {
     "name": "stderr",
     "output_type": "stream",
     "text": [
      "Device set to use cuda:0\n",
      "Using `chunk_length_s` is very experimental with seq2seq models. The results will not necessarily be entirely accurate and will have caveats. More information: https://github.com/huggingface/transformers/pull/20104. Ignore this warning with pipeline(..., ignore_warning=True). To use Whisper for long-form transcription, use rather the model's `generate` method directly as the model relies on it's own chunking mechanism (cf. Whisper original paper, section 3.8. Long-form Transcription).\n"
     ]
    },
    {
     "name": "stdout",
     "output_type": "stream",
     "text": [
      "2025-10-07 03:43:34,108 INFO - Creating ASR worker 15/16 on device 0\n",
      "2025-10-07 03:43:34,108 INFO - Loading ASR: openai/whisper-base (device=0, dtype=torch.float16)\n"
     ]
    },
    {
     "name": "stderr",
     "output_type": "stream",
     "text": [
      "Device set to use cuda:0\n",
      "Using `chunk_length_s` is very experimental with seq2seq models. The results will not necessarily be entirely accurate and will have caveats. More information: https://github.com/huggingface/transformers/pull/20104. Ignore this warning with pipeline(..., ignore_warning=True). To use Whisper for long-form transcription, use rather the model's `generate` method directly as the model relies on it's own chunking mechanism (cf. Whisper original paper, section 3.8. Long-form Transcription).\n"
     ]
    },
    {
     "name": "stdout",
     "output_type": "stream",
     "text": [
      "2025-10-07 03:43:34,634 INFO - Creating ASR worker 16/16 on device 0\n",
      "2025-10-07 03:43:34,634 INFO - Loading ASR: openai/whisper-base (device=0, dtype=torch.float16)\n"
     ]
    },
    {
     "name": "stderr",
     "output_type": "stream",
     "text": [
      "Device set to use cuda:0\n",
      "Using `chunk_length_s` is very experimental with seq2seq models. The results will not necessarily be entirely accurate and will have caveats. More information: https://github.com/huggingface/transformers/pull/20104. Ignore this warning with pipeline(..., ignore_warning=True). To use Whisper for long-form transcription, use rather the model's `generate` method directly as the model relies on it's own chunking mechanism (cf. Whisper original paper, section 3.8. Long-form Transcription).\n"
     ]
    },
    {
     "name": "stdout",
     "output_type": "stream",
     "text": [
      "2025-10-07 03:43:35,137 INFO - ffmpeg shim created: /home/sagemaker-user/.local/bin/ffmpeg\n",
      "2025-10-07 03:43:37,460 INFO - Loaded 699129 allowed filenames from common_voices_23_train_with_validated_votes.csv\n",
      "2025-10-07 03:43:37,598 INFO - Will only process files from validation CSV: 699129 files\n",
      "2025-10-07 03:43:39,904 INFO - Loaded 699129 allowed filenames from common_voices_23_train_with_validated_votes.csv\n",
      "2025-10-07 03:43:40,570 INFO - Will only process files from validation CSV (normalized): 699129\n",
      "2025-10-07 03:52:10,409 INFO - Using 699129 existing keys from CSV list (after intersection).\n",
      "2025-10-07 03:52:10,410 INFO - Found 699129 matching files in S3\n",
      "2025-10-07 03:52:10,466 INFO - Processing 699129 files (skipped 0 already done)\n"
     ]
    },
    {
     "name": "stderr",
     "output_type": "stream",
     "text": [
      "Downloading batch 1:  50%|█████     | 24/48 [00:00<00:00, 224.94it/s]"
     ]
    },
    {
     "name": "stdout",
     "output_type": "stream",
     "text": [
      "2025-10-07 03:52:10,862 WARNING - Connection pool is full, discarding connection: asrelder-data.s3.amazonaws.com. Connection pool size: 10\n",
      "2025-10-07 03:52:10,865 WARNING - Connection pool is full, discarding connection: asrelder-data.s3.amazonaws.com. Connection pool size: 10\n",
      "2025-10-07 03:52:10,875 WARNING - Connection pool is full, discarding connection: asrelder-data.s3.amazonaws.com. Connection pool size: 10\n",
      "2025-10-07 03:52:10,888 WARNING - Connection pool is full, discarding connection: asrelder-data.s3.amazonaws.com. Connection pool size: 10\n",
      "2025-10-07 03:52:10,899 WARNING - Connection pool is full, discarding connection: asrelder-data.s3.amazonaws.com. Connection pool size: 10\n",
      "2025-10-07 03:52:10,903 WARNING - Connection pool is full, discarding connection: asrelder-data.s3.amazonaws.com. Connection pool size: 10\n",
      "2025-10-07 03:52:10,906 WARNING - Connection pool is full, discarding connection: asrelder-data.s3.amazonaws.com. Connection pool size: 10\n"
     ]
    },
    {
     "name": "stderr",
     "output_type": "stream",
     "text": [
      "Downloading batch 1: 100%|██████████| 48/48 [00:00<00:00, 206.50it/s]"
     ]
    },
    {
     "name": "stdout",
     "output_type": "stream",
     "text": [
      "2025-10-07 03:52:10,909 INFO - Transcribing 48 files in parallel...\n"
     ]
    },
    {
     "name": "stderr",
     "output_type": "stream",
     "text": [
      "\n"
     ]
    },
    {
     "name": "stdout",
     "output_type": "stream",
     "text": [
      "2025-10-07 03:52:14,760 INFO - ✓ Worker 8: common_voice_en_102385.mp3:  in my book of memory.\n",
      "2025-10-07 03:52:14,774 INFO - ✓ Worker 11: common_voice_en_110094.mp3:  Let me talk to him.\n",
      "2025-10-07 03:52:14,971 INFO - ✓ Worker 6: common_voice_en_101627.mp3:  Two children running in the field.\n",
      "2025-10-07 03:52:15,411 INFO - ✓ Worker 15: common_voice_en_101622.mp3:  Three men are painting a metal wall white.\n",
      "2025-10-07 03:52:15,562 INFO - ✓ Worker 14: common_voice_en_10324161.mp3:  Choose between the high road and the low.\n",
      "2025-10-07 03:52:15,608 INFO - ✓ Worker 0: common_voice_en_10110.mp3:  I really liked the film we saw last week.\n",
      "2025-10-07 03:52:15,994 INFO - ✓ Worker 2: common_voice_en_100704.mp3:  Please look up the song, Twist of Shadows.\n",
      "2025-10-07 03:52:16,186 INFO - ✓ Worker 3: common_voice_en_101616.mp3:  Men in Orange Wests are at work on the construction site.\n",
      "2025-10-07 03:52:16,217 INFO - ✓ Worker 10: common_voice_en_10187.mp3:  Though this be madness, yet there is method in it.\n",
      "2025-10-07 03:52:16,466 INFO - ✓ Worker 13: common_voice_en_101626.mp3:  A lady with golden brown hair stands on the ground with a camera.\n",
      "2025-10-07 03:52:16,651 INFO - ✓ Worker 12: common_voice_en_102486.mp3:  I want to book a French piano at restaurant and do.\n",
      "2025-10-07 03:52:16,724 INFO - ✓ Worker 7: common_voice_en_101619.mp3:  The crane is sitting at the crane station with not too many passengers around.\n",
      "2025-10-07 03:52:16,763 INFO - ✓ Worker 1: common_voice_en_10153.mp3:  Please put Maminiyahimah's song onto Operation Bikini.\n",
      "2025-10-07 03:52:17,100 INFO - ✓ Worker 5: common_voice_en_101623.mp3:  An Asia and an African-American child enjoying themselves at the colourful playground.\n",
      "2025-10-07 03:52:17,531 INFO - ✓ Worker 9: common_voice_en_101625.mp3:  To speed boats racing across the water by creating a large tray of water behind them.\n",
      "2025-10-07 03:52:18,187 INFO - ✓ Worker 6: common_voice_en_104154.mp3:  But they were engaged.\n",
      "2025-10-07 03:52:18,276 INFO - ✓ Worker 4: common_voice_en_100038.mp3:  Why does Milisandre look like she wants to consume Jon Snow on the right at the wall?\n",
      "2025-10-07 03:52:18,868 INFO - ✓ Worker 0: common_voice_en_10399657.mp3:  High latencies are annoying during video conferences.\n",
      "2025-10-07 03:52:19,138 INFO - ✓ Worker 8: common_voice_en_110911.mp3:  Is it cherry in height?\n",
      "2025-10-07 03:52:19,431 INFO - ✓ Worker 3: common_voice_en_11017394.mp3:  Police men are investigating in this case.\n",
      "2025-10-07 03:52:20,279 INFO - ✓ Worker 7: common_voice_en_100729.mp3:  Can you find me the shockwave picture?\n",
      "2025-10-07 03:52:20,427 INFO - ✓ Worker 1: common_voice_en_101624.mp3:  A man is being lowered out of a helicopter.\n",
      "2025-10-07 03:52:20,565 INFO - ✓ Worker 12: common_voice_en_111910.mp3:  Ice skater taking a hit by another player.\n",
      "2025-10-07 03:52:21,214 INFO - ✓ Worker 2: common_voice_en_10199.mp3:  As she watched, the cat washed his ears and then settled down to sleep.\n",
      "2025-10-07 03:52:21,312 INFO - ✓ Worker 9: common_voice_en_111907.mp3:  Two people in yellow vest, rust, and carts.\n",
      "2025-10-07 03:52:21,669 INFO - ✓ Worker 14: common_voice_en_111912.mp3:  A little girl with long hair floating in a colorful forest.\n",
      "2025-10-07 03:52:21,899 INFO - ✓ Worker 11: common_voice_en_111909.mp3:  Lady with a black outfit and headset, her ear is fixing coffee.\n",
      "2025-10-07 03:52:22,049 INFO - ✓ Worker 13: common_voice_en_111908.mp3:  A brown dog runs through the grass holding something and it's now.\n",
      "2025-10-07 03:52:22,775 INFO - ✓ Worker 15: common_voice_en_111917.mp3:  A man sitting behind a tape breeder on the street selling poetry.\n",
      "2025-10-07 03:52:23,390 INFO - ✓ Worker 0: common_voice_en_111916.mp3:  A young girl on a red shirt swings face down on the swings.\n",
      "2025-10-07 03:52:23,431 INFO - ✓ Worker 5: common_voice_en_110372.mp3:  I want to book Rivera's takeouts in St. Martin for Tamara, Desiree and Leslie.\n",
      "2025-10-07 03:52:23,982 INFO - ✓ Worker 3: common_voice_en_111928.mp3:  Two workers on ladders is one worker stands below in this subway.\n",
      "2025-10-07 03:52:24,146 INFO - ✓ Worker 1: common_voice_en_110183.mp3:  Phosphorus is not a semiconductor.\n",
      "2025-10-07 03:52:24,198 INFO - ✓ Worker 6: common_voice_en_111923.mp3:  The sailboarder is falling in the water.\n",
      "2025-10-07 03:52:24,283 INFO - ✓ Worker 4: common_voice_en_102030.mp3:  I want to book a restaurant in New Mexico for Kenya, LaLia and Ingrid.\n",
      "2025-10-07 03:52:24,844 INFO - ✓ Worker 10: common_voice_en_111906.mp3:  A man with a camera and another man with a baby stroller standing in a fence scenario.\n",
      "2025-10-07 03:52:25,176 INFO - ✓ Worker 7: common_voice_en_111930.mp3:  A man sleeping in a white plastic chair at a sidewalk.\n",
      "2025-10-07 03:52:25,633 INFO - ✓ Worker 9: common_voice_en_111926.mp3:  The woman is wearing a purple shirt and runs on the beach.\n",
      "2025-10-07 03:52:25,691 INFO - ✓ Worker 13: common_voice_en_111914.mp3:  Man doing a skateboard trick.\n",
      "2025-10-07 03:52:26,218 INFO - ✓ Worker 8: common_voice_en_111924.mp3:  A young girl dressed all in pink, standing on a fence and looking at a horse.\n",
      "2025-10-07 03:52:26,279 INFO - ✓ Worker 2: common_voice_en_111918.mp3:  Two people, wonder white swimming cap in black goggles or swimming in a pool beside each other.\n",
      "2025-10-07 03:52:26,493 INFO - ✓ Worker 4: common_voice_en_109458.mp3:  What is the weather like in Wyatt?\n",
      "2025-10-07 03:52:26,509 INFO - ✓ Worker 12: common_voice_en_112551.mp3:  A woman in a blue hiking shirt looking at a black lamp.\n",
      "2025-10-07 03:52:26,521 INFO - ✓ Worker 5: common_voice_en_111925.mp3:  A person is wearing jeans while performing a bike stunt outdoors.\n",
      "2025-10-07 03:52:26,611 INFO - ✓ Worker 14: common_voice_en_111934.mp3:  Big brown and white spotted dog laying on a jacket on the street.\n",
      "2025-10-07 03:52:26,765 INFO - ✓ Worker 10: common_voice_en_112552.mp3:  A woman in the kitchen making food for a store or restaurant.\n",
      "2025-10-07 03:52:26,864 INFO - ✓ Worker 11: common_voice_en_111929.mp3:  A woman leaning over to help a child in a stroller with a man laying down in a park bench and anoth...\n",
      "2025-10-07 03:52:26,926 INFO - ✓ Worker 15: common_voice_en_111921.mp3:  Outdoors in the daytime, a person with a ponytail and silhouette walking left in front of a bus yar...\n"
     ]
    },
    {
     "name": "stderr",
     "output_type": "stream",
     "text": [
      "Downloading batch 2:   2%|▏         | 1/48 [00:00<00:07,  6.62it/s]"
     ]
    },
    {
     "name": "stdout",
     "output_type": "stream",
     "text": [
      "2025-10-07 03:52:27,737 WARNING - Connection pool is full, discarding connection: asrelder-data.s3.amazonaws.com. Connection pool size: 10\n"
     ]
    },
    {
     "name": "stderr",
     "output_type": "stream",
     "text": [
      "Downloading batch 2:  42%|████▏     | 20/48 [00:00<00:00, 95.30it/s]"
     ]
    },
    {
     "name": "stdout",
     "output_type": "stream",
     "text": [
      "2025-10-07 03:52:27,764 WARNING - Connection pool is full, discarding connection: asrelder-data.s3.amazonaws.com. Connection pool size: 10\n",
      "2025-10-07 03:52:27,771 WARNING - Connection pool is full, discarding connection: asrelder-data.s3.amazonaws.com. Connection pool size: 10\n",
      "2025-10-07 03:52:27,774 WARNING - Connection pool is full, discarding connection: asrelder-data.s3.amazonaws.com. Connection pool size: 10\n",
      "2025-10-07 03:52:27,775 WARNING - Connection pool is full, discarding connection: asrelder-data.s3.amazonaws.com. Connection pool size: 10\n"
     ]
    },
    {
     "name": "stderr",
     "output_type": "stream",
     "text": [
      "Downloading batch 2:  73%|███████▎  | 35/48 [00:00<00:00, 115.15it/s]"
     ]
    },
    {
     "name": "stdout",
     "output_type": "stream",
     "text": [
      "2025-10-07 03:52:27,852 WARNING - Connection pool is full, discarding connection: asrelder-data.s3.amazonaws.com. Connection pool size: 10\n",
      "2025-10-07 03:52:27,853 WARNING - Connection pool is full, discarding connection: asrelder-data.s3.amazonaws.com. Connection pool size: 10\n",
      "2025-10-07 03:52:27,872 WARNING - Connection pool is full, discarding connection: asrelder-data.s3.amazonaws.com. Connection pool size: 10\n",
      "2025-10-07 03:52:27,879 WARNING - Connection pool is full, discarding connection: asrelder-data.s3.amazonaws.com. Connection pool size: 10\n",
      "2025-10-07 03:52:27,886 WARNING - Connection pool is full, discarding connection: asrelder-data.s3.amazonaws.com. Connection pool size: 10\n",
      "2025-10-07 03:52:27,906 WARNING - Connection pool is full, discarding connection: asrelder-data.s3.amazonaws.com. Connection pool size: 10\n"
     ]
    },
    {
     "name": "stderr",
     "output_type": "stream",
     "text": [
      "Downloading batch 2: 100%|██████████| 48/48 [00:00<00:00, 114.74it/s]"
     ]
    },
    {
     "name": "stdout",
     "output_type": "stream",
     "text": [
      "2025-10-07 03:52:27,909 INFO - Transcribing 48 files in parallel...\n"
     ]
    },
    {
     "name": "stderr",
     "output_type": "stream",
     "text": [
      "\n"
     ]
    },
    {
     "name": "stdout",
     "output_type": "stream",
     "text": [
      "2025-10-07 03:52:29,923 INFO - ✓ Worker 11: common_voice_en_113625.mp3:  Full Circle\n",
      "2025-10-07 03:52:30,890 INFO - ✓ Worker 9: common_voice_en_116623.mp3:  Young boys play sports together.\n",
      "2025-10-07 03:52:31,073 INFO - ✓ Worker 8: common_voice_en_115744.mp3:  We all hope I am right.\n",
      "2025-10-07 03:52:31,278 INFO - ✓ Worker 4: common_voice_en_11333.mp3:  A tractor is driving the field.\n",
      "2025-10-07 03:52:31,284 INFO - ✓ Worker 0: common_voice_en_112554.mp3:  This child is getting a pedicure.\n",
      "2025-10-07 03:52:31,662 INFO - ✓ Worker 10: common_voice_en_115769.mp3:  Everyone knows best where the shoe pinches him.\n",
      "2025-10-07 03:52:31,742 INFO - ✓ Worker 1: common_voice_en_112553.mp3:  A man walking in front of a cleaning man.\n",
      "2025-10-07 03:52:31,759 INFO - ✓ Worker 15: common_voice_en_116619.mp3:  The elderly gather for a Christmas vigil.\n",
      "2025-10-07 03:52:31,794 INFO - ✓ Worker 6: common_voice_en_11335.mp3:  Add the tune to the rage radio playlist.\n",
      "2025-10-07 03:52:31,937 INFO - ✓ Worker 13: common_voice_en_116621.mp3:  A man in a jacket is standing on a bus.\n",
      "2025-10-07 03:52:31,966 INFO - ✓ Worker 14: common_voice_en_116617.mp3:  Team does trick on skateboard while riding the rail.\n",
      "2025-10-07 03:52:32,126 INFO - ✓ Worker 3: common_voice_en_11339.mp3:  A black and white dog is running on sand.\n",
      "2025-10-07 03:52:32,261 INFO - ✓ Worker 12: common_voice_en_11338.mp3:  A man flannel shirt cutting wood with a table saw.\n",
      "2025-10-07 03:52:33,051 INFO - ✓ Worker 7: common_voice_en_11337.mp3:  guitarist and singer group together with their drummer in the background.\n",
      "2025-10-07 03:52:33,292 INFO - ✓ Worker 2: common_voice_en_11332.mp3:  Two girls and a boy are getting ready to jump into a backyard pool.\n",
      "2025-10-07 03:52:33,785 INFO - ✓ Worker 5: common_voice_en_116616.mp3:  A dog sits back on his hind legs and another dog stoops down.\n",
      "2025-10-07 03:52:34,467 INFO - ✓ Worker 8: common_voice_en_115781.mp3:  I'll find out everything.\n",
      "2025-10-07 03:52:34,665 INFO - ✓ Worker 4: common_voice_en_113615.mp3:  War is terrible condition to live under.\n",
      "2025-10-07 03:52:35,490 INFO - ✓ Worker 6: common_voice_en_116627.mp3:  A blonde infant chewing on a red toy.\n",
      "2025-10-07 03:52:35,695 INFO - ✓ Worker 1: common_voice_en_11343.mp3:  A small dog is carrying a stick in his mouth.\n",
      "2025-10-07 03:52:35,934 INFO - ✓ Worker 3: common_voice_en_116620.mp3:  Two elderly women with gray hair engaging in conversation.\n",
      "2025-10-07 03:52:36,035 INFO - ✓ Worker 13: common_voice_en_116633.mp3:  Guy talking to a smoking woman.\n",
      "2025-10-07 03:52:36,532 INFO - ✓ Worker 0: common_voice_en_11341.mp3:  A young girl with two fingers in her mouth sitting next to an older woman.\n",
      "2025-10-07 03:52:36,689 INFO - ✓ Worker 14: common_voice_en_116631.mp3:  Two white dogs drinking out of a stream.\n",
      "2025-10-07 03:52:36,824 INFO - ✓ Worker 11: common_voice_en_116629.mp3:  A black boy is cutting another black boy's hair with a razor.\n",
      "2025-10-07 03:52:37,113 INFO - ✓ Worker 5: common_voice_en_116622.mp3:  A boy square to square can.\n",
      "2025-10-07 03:52:37,201 INFO - ✓ Worker 9: common_voice_en_116630.mp3:  A group of African Americans sitting at the base of a large tree.\n",
      "2025-10-07 03:52:37,350 INFO - ✓ Worker 12: common_voice_en_116624.mp3:  A little boy in a yellow shirt and green shorts jumping on the couch.\n",
      "2025-10-07 03:52:37,546 INFO - ✓ Worker 2: common_voice_en_11340.mp3:  Bicyclists have stopped and are talking about something.\n",
      "2025-10-07 03:52:38,267 INFO - ✓ Worker 7: common_voice_en_11336.mp3:  An African American man is standing on the bridge wearing a pink shirt.\n",
      "2025-10-07 03:52:38,541 INFO - ✓ Worker 10: common_voice_en_116628.mp3:  A man wearing sunglasses and wearing a red vest is standing in front of a red helicopter.\n",
      "2025-10-07 03:52:38,797 INFO - ✓ Worker 15: common_voice_en_116626.mp3:  Two young girls holding pictures of a sloth and a crowd of people.\n",
      "2025-10-07 03:52:39,490 INFO - ✓ Worker 1: common_voice_en_116638.mp3:  Two older women are walking in shallow water.\n",
      "2025-10-07 03:52:39,537 INFO - ✓ Worker 6: common_voice_en_116637.mp3:  Large dog running in the field.\n",
      "2025-10-07 03:52:40,138 INFO - ✓ Worker 4: common_voice_en_116641.mp3:  A woman wearing large sunglasses holds newspapers in both hands.\n",
      "2025-10-07 03:52:40,184 INFO - ✓ Worker 9: common_voice_en_116644.mp3:  A cute toddler piers upwards.\n",
      "2025-10-07 03:52:40,924 INFO - ✓ Worker 12: common_voice_en_116634.mp3:  Woman on a sidewalk with packages and flowers.\n",
      "2025-10-07 03:52:41,043 INFO - ✓ Worker 3: common_voice_en_116639.mp3:  A goalie in a white uniform dives to grab a soccer ball.\n",
      "2025-10-07 03:52:41,136 INFO - ✓ Worker 8: common_voice_en_116625.mp3:  Cyclists are carrying their bicycles up a steep grassy hill.\n",
      "2025-10-07 03:52:41,190 INFO - ✓ Worker 13: common_voice_en_116650.mp3:  Two people are running alongside a building.\n",
      "2025-10-07 03:52:41,220 INFO - ✓ Worker 5: common_voice_en_116646.mp3:  A white dog jumps really high to get us Frisbee.\n",
      "2025-10-07 03:52:41,371 INFO - ✓ Worker 2: common_voice_en_116645.mp3:  A recently married couple pose outside in their wedding clothes.\n",
      "2025-10-07 03:52:41,393 INFO - ✓ Worker 0: common_voice_en_116632.mp3:  A boy in blue and white shorts is sweeping with a broom and dust pan.\n",
      "2025-10-07 03:52:41,519 INFO - ✓ Worker 11: common_voice_en_116648.mp3:  A woman in a red jacket walks down the street in the rain.\n",
      "2025-10-07 03:52:41,835 INFO - ✓ Worker 7: common_voice_en_116636.mp3:  A man is doing a jump on the surfboard near other people in the water.\n",
      "2025-10-07 03:52:41,854 INFO - ✓ Worker 15: common_voice_en_116635.mp3:  A young adult is doing a back flip on a trampoline near a lake.\n",
      "2025-10-07 03:52:41,856 INFO - ✓ Worker 10: common_voice_en_116643.mp3:  A man wearing a blue suit is standing on a roof with a mop and bucket.\n",
      "2025-10-07 03:52:41,875 INFO - ✓ Worker 14: common_voice_en_116649.mp3:  A woman is standing in front of a store door that carries women's undergarments.\n"
     ]
    },
    {
     "name": "stderr",
     "output_type": "stream",
     "text": [
      "Downloading batch 3:   2%|▏         | 1/48 [00:00<00:07,  6.40it/s]"
     ]
    },
    {
     "name": "stdout",
     "output_type": "stream",
     "text": [
      "2025-10-07 03:52:42,703 WARNING - Connection pool is full, discarding connection: asrelder-data.s3.amazonaws.com. Connection pool size: 10\n"
     ]
    },
    {
     "name": "stderr",
     "output_type": "stream",
     "text": [
      "Downloading batch 3:  42%|████▏     | 20/48 [00:00<00:00, 92.55it/s]"
     ]
    },
    {
     "name": "stdout",
     "output_type": "stream",
     "text": [
      "2025-10-07 03:52:42,772 WARNING - Connection pool is full, discarding connection: asrelder-data.s3.amazonaws.com. Connection pool size: 10\n",
      "2025-10-07 03:52:42,815 WARNING - Connection pool is full, discarding connection: asrelder-data.s3.amazonaws.com. Connection pool size: 10\n",
      "2025-10-07 03:52:42,820 WARNING - Connection pool is full, discarding connection: asrelder-data.s3.amazonaws.com. Connection pool size: 10\n"
     ]
    },
    {
     "name": "stderr",
     "output_type": "stream",
     "text": [
      "Downloading batch 3:  90%|████████▉ | 43/48 [00:00<00:00, 146.45it/s]"
     ]
    },
    {
     "name": "stdout",
     "output_type": "stream",
     "text": [
      "2025-10-07 03:52:42,825 WARNING - Connection pool is full, discarding connection: asrelder-data.s3.amazonaws.com. Connection pool size: 10\n",
      "2025-10-07 03:52:42,828 WARNING - Connection pool is full, discarding connection: asrelder-data.s3.amazonaws.com. Connection pool size: 10\n",
      "2025-10-07 03:52:42,830 WARNING - Connection pool is full, discarding connection: asrelder-data.s3.amazonaws.com. Connection pool size: 10\n",
      "2025-10-07 03:52:42,838 WARNING - Connection pool is full, discarding connection: asrelder-data.s3.amazonaws.com. Connection pool size: 10\n",
      "2025-10-07 03:52:42,843 WARNING - Connection pool is full, discarding connection: asrelder-data.s3.amazonaws.com. Connection pool size: 10\n"
     ]
    },
    {
     "name": "stderr",
     "output_type": "stream",
     "text": [
      "Downloading batch 3: 100%|██████████| 48/48 [00:00<00:00, 124.59it/s]"
     ]
    },
    {
     "name": "stdout",
     "output_type": "stream",
     "text": [
      "2025-10-07 03:52:42,845 INFO - Transcribing 48 files in parallel...\n"
     ]
    },
    {
     "name": "stderr",
     "output_type": "stream",
     "text": [
      "\n"
     ]
    },
    {
     "name": "stdout",
     "output_type": "stream",
     "text": [
      "2025-10-07 03:52:46,426 INFO - ✓ Worker 11: common_voice_en_116661.mp3:  Two brown dogs fight over some cloth.\n",
      "2025-10-07 03:52:46,436 INFO - ✓ Worker 13: common_voice_en_116662.mp3:  A group of people gather for dinner.\n",
      "2025-10-07 03:52:46,583 INFO - ✓ Worker 5: common_voice_en_116666.mp3:  Kids watch silently from behind a concert barrier.\n",
      "2025-10-07 03:52:46,711 INFO - ✓ Worker 8: common_voice_en_116663.mp3:  Two elderly women are talking at a gathering.\n",
      "2025-10-07 03:52:46,717 INFO - ✓ Worker 2: common_voice_en_116653.mp3:  Several smiling children are going down a slide.\n",
      "2025-10-07 03:52:46,806 INFO - ✓ Worker 4: common_voice_en_116664.mp3:  A child stands upside down in a pool.\n",
      "2025-10-07 03:52:46,957 INFO - ✓ Worker 1: common_voice_en_116656.mp3:  A man and a woman running in the street.\n",
      "2025-10-07 03:52:47,301 INFO - ✓ Worker 15: common_voice_en_116668.mp3:  A man is rock climbing up the side of a cliff.\n",
      "2025-10-07 03:52:47,703 INFO - ✓ Worker 12: common_voice_en_116675.mp3:  The black and white dog has a ball in its mouth.\n",
      "2025-10-07 03:52:47,746 INFO - ✓ Worker 0: common_voice_en_116651.mp3:  The four football players in red stretch on the green turf.\n",
      "2025-10-07 03:52:47,754 INFO - ✓ Worker 14: common_voice_en_116659.mp3:  A man in a blue shirt is staring into double glass doors.\n",
      "2025-10-07 03:52:47,952 INFO - ✓ Worker 3: common_voice_en_116669.mp3:  A toddler sticks paper P letters to a wood paneled wall.\n",
      "2025-10-07 03:52:48,077 INFO - ✓ Worker 6: common_voice_en_116655.mp3:  A man and a woman are riding bicycles across the junction in the city.\n",
      "2025-10-07 03:52:48,268 INFO - ✓ Worker 7: common_voice_en_116658.mp3:  A bride getting ready to throw her bouquet to a group of women.\n",
      "2025-10-07 03:52:48,794 INFO - ✓ Worker 9: common_voice_en_116652.mp3:  Man-carrying duffel bag uses payphone next to homeless man sleeping.\n",
      "2025-10-07 03:52:49,686 INFO - ✓ Worker 10: common_voice_en_116670.mp3:  A shalty dog carries a white-colored toy in its mouth as it walks across the snow.\n",
      "2025-10-07 03:52:49,949 INFO - ✓ Worker 1: common_voice_en_116673.mp3:  A man dances with a girl.\n",
      "2025-10-07 03:52:50,376 INFO - ✓ Worker 5: common_voice_en_116671.mp3:  An elderly man resting on a brick wall.\n",
      "2025-10-07 03:52:50,902 INFO - ✓ Worker 11: common_voice_en_116691.mp3:  People sitting on a couch laugh.\n",
      "2025-10-07 03:52:51,383 INFO - ✓ Worker 4: common_voice_en_116674.mp3:  A woman standing by a wire fence on a sidewalk.\n",
      "2025-10-07 03:52:51,440 INFO - ✓ Worker 7: common_voice_en_116654.mp3:  A dog is jumping across an obstacle.\n",
      "2025-10-07 03:52:51,781 INFO - ✓ Worker 0: common_voice_en_116672.mp3:  A man in traditional Scottish guard plays a bagpipe.\n",
      "2025-10-07 03:52:52,061 INFO - ✓ Worker 3: common_voice_en_116667.mp3:  A group of little girls jumping together in a backyard.\n",
      "2025-10-07 03:52:52,199 INFO - ✓ Worker 2: common_voice_en_116657.mp3:  People ice skate on a lighted space near a spot that sells alcohol.\n",
      "2025-10-07 03:52:52,311 INFO - ✓ Worker 12: common_voice_en_116687.mp3:  A fluffy brown dog jumping with a ball in his mouth.\n",
      "2025-10-07 03:52:52,394 INFO - ✓ Worker 13: common_voice_en_116689.mp3:  Two people working on a sculpture in an art studio.\n",
      "2025-10-07 03:52:52,624 INFO - ✓ Worker 9: common_voice_en_116679.mp3:  A boy is sitting on a boat with two flags.\n",
      "2025-10-07 03:52:53,427 INFO - ✓ Worker 6: common_voice_en_116676.mp3:  This is three ladies in short black and white dresses walking along the sidewalk.\n",
      "2025-10-07 03:52:53,503 INFO - ✓ Worker 8: common_voice_en_116680.mp3:  A woman wearing a blue shirt and a shirtless little boy are walking through a forest.\n",
      "2025-10-07 03:52:53,598 INFO - ✓ Worker 14: common_voice_en_116693.mp3:  A father wearing a white Puma brand shirt holding his smiling daughter.\n",
      "2025-10-07 03:52:54,075 INFO - ✓ Worker 15: common_voice_en_116683.mp3:  A girl riding a bicycle down a street in the sun.\n",
      "2025-10-07 03:52:54,080 INFO - ✓ Worker 10: common_voice_en_116684.mp3:  Two men wearing motorcycle helmets, one carrying a piece of paper.\n",
      "2025-10-07 03:52:54,182 INFO - ✓ Worker 1: common_voice_en_116692.mp3:  Two men paint a curb on a busy street corner.\n",
      "2025-10-07 03:52:56,135 INFO - ✓ Worker 2: common_voice_en_116694.mp3:  People holding pink signs that spell out in peach.\n",
      "2025-10-07 03:52:56,202 INFO - ✓ Worker 7: common_voice_en_116702.mp3:  An Asian street craftsman fashions items for sale.\n",
      "2025-10-07 03:52:56,375 INFO - ✓ Worker 3: common_voice_en_116699.mp3:  Two adults are helping children use microscopes at a long table.\n",
      "2025-10-07 03:52:56,497 INFO - ✓ Worker 4: common_voice_en_116697.mp3:  The skateboarder is riding the silver rail while three other young men look on.\n",
      "2025-10-07 03:52:56,883 INFO - ✓ Worker 12: common_voice_en_116705.mp3:  Large group of people seated in white tent.\n",
      "2025-10-07 03:52:56,920 INFO - ✓ Worker 8: common_voice_en_116701.mp3:  A man just hit the ball on the golf course.\n",
      "2025-10-07 03:52:57,031 INFO - ✓ Worker 0: common_voice_en_116682.mp3:  A man in tan slacks and a white dress shirt is speaking into a microphone.\n",
      "2025-10-07 03:52:57,088 INFO - ✓ Worker 5: common_voice_en_116700.mp3:  There is an ice hockey game with players and a ref near one of the goals.\n",
      "2025-10-07 03:52:57,299 INFO - ✓ Worker 14: common_voice_en_116709.mp3:  A group of men playing instruments in a small room.\n",
      "2025-10-07 03:52:57,453 INFO - ✓ Worker 9: common_voice_en_116707.mp3:  A little boy in green overalls throws up his hands in from behind the shiny restaurant table\n",
      "2025-10-07 03:52:57,544 INFO - ✓ Worker 11: common_voice_en_116704.mp3:  A woman in tennis clothes running to hit a ball with her tennis racket.\n",
      "2025-10-07 03:52:57,584 INFO - ✓ Worker 6: common_voice_en_116698.mp3:  A group of spectators outside in the cold, all focusing on the same object.\n",
      "2025-10-07 03:52:57,588 INFO - ✓ Worker 13: common_voice_en_116713.mp3:  A man on a skateboard on steps in front of glass doors of a brick building.\n",
      "2025-10-07 03:52:57,641 INFO - ✓ Worker 10: common_voice_en_116710.mp3:  A young boy in an orange hoodie and jeans inside a room putting on his shoes.\n",
      "2025-10-07 03:52:57,655 INFO - ✓ Worker 15: common_voice_en_116712.mp3:  Black man does the flat chillance dance and lets loose in front of some islanders.\n"
     ]
    },
    {
     "name": "stderr",
     "output_type": "stream",
     "text": [
      "Downloading batch 4:   2%|▏         | 1/48 [00:00<00:07,  6.23it/s]"
     ]
    },
    {
     "name": "stdout",
     "output_type": "stream",
     "text": [
      "2025-10-07 03:52:58,497 WARNING - Connection pool is full, discarding connection: asrelder-data.s3.amazonaws.com. Connection pool size: 10\n"
     ]
    },
    {
     "name": "stderr",
     "output_type": "stream",
     "text": [
      "Downloading batch 4:  38%|███▊      | 18/48 [00:00<00:00, 81.84it/s]"
     ]
    },
    {
     "name": "stdout",
     "output_type": "stream",
     "text": [
      "2025-10-07 03:52:58,557 WARNING - Connection pool is full, discarding connection: asrelder-data.s3.amazonaws.com. Connection pool size: 10\n",
      "2025-10-07 03:52:58,558 WARNING - Connection pool is full, discarding connection: asrelder-data.s3.amazonaws.com. Connection pool size: 10\n",
      "2025-10-07 03:52:58,566 WARNING - Connection pool is full, discarding connection: asrelder-data.s3.amazonaws.com. Connection pool size: 10\n"
     ]
    },
    {
     "name": "stderr",
     "output_type": "stream",
     "text": [
      "Downloading batch 4:  83%|████████▎ | 40/48 [00:00<00:00, 133.95it/s]"
     ]
    },
    {
     "name": "stdout",
     "output_type": "stream",
     "text": [
      "2025-10-07 03:52:58,613 WARNING - Connection pool is full, discarding connection: asrelder-data.s3.amazonaws.com. Connection pool size: 10\n",
      "2025-10-07 03:52:58,616 WARNING - Connection pool is full, discarding connection: asrelder-data.s3.amazonaws.com. Connection pool size: 10\n",
      "2025-10-07 03:52:58,627 WARNING - Connection pool is full, discarding connection: asrelder-data.s3.amazonaws.com. Connection pool size: 10\n",
      "2025-10-07 03:52:58,631 WARNING - Connection pool is full, discarding connection: asrelder-data.s3.amazonaws.com. Connection pool size: 10\n",
      "2025-10-07 03:52:58,632 WARNING - Connection pool is full, discarding connection: asrelder-data.s3.amazonaws.com. Connection pool size: 10\n",
      "2025-10-07 03:52:58,660 WARNING - Connection pool is full, discarding connection: asrelder-data.s3.amazonaws.com. Connection pool size: 10\n"
     ]
    },
    {
     "name": "stderr",
     "output_type": "stream",
     "text": [
      "Downloading batch 4: 100%|██████████| 48/48 [00:00<00:00, 113.78it/s]"
     ]
    },
    {
     "name": "stdout",
     "output_type": "stream",
     "text": [
      "2025-10-07 03:52:58,662 INFO - Transcribing 48 files in parallel...\n"
     ]
    },
    {
     "name": "stderr",
     "output_type": "stream",
     "text": [
      "\n"
     ]
    },
    {
     "name": "stdout",
     "output_type": "stream",
     "text": [
      "2025-10-07 03:53:02,263 INFO - ✓ Worker 12: common_voice_en_116723.mp3:  The people are gathered at a bar.\n",
      "2025-10-07 03:53:02,387 INFO - ✓ Worker 1: common_voice_en_116718.mp3:  For construction workers working on a rail road.\n"
     ]
    },
    {
     "name": "stderr",
     "output_type": "stream",
     "text": [
      "You seem to be using the pipelines sequentially on GPU. In order to maximize efficiency please use a dataset\n"
     ]
    },
    {
     "name": "stdout",
     "output_type": "stream",
     "text": [
      "2025-10-07 03:53:02,446 INFO - ✓ Worker 3: common_voice_en_116724.mp3:  This photo shows Asian art on display.\n",
      "2025-10-07 03:53:02,751 INFO - ✓ Worker 2: common_voice_en_116719.mp3:  An Asian man in a brown shirt creating portraits.\n",
      "2025-10-07 03:53:03,037 INFO - ✓ Worker 15: common_voice_en_116736.mp3:  A man with construction hat on attached to harness.\n",
      "2025-10-07 03:53:03,094 INFO - ✓ Worker 5: common_voice_en_116730.mp3:  A woman with a yellow shirt stretching on a bridge.\n",
      "2025-10-07 03:53:03,152 INFO - ✓ Worker 14: common_voice_en_116733.mp3:  Man following through on a bowling shot made in an alley.\n",
      "2025-10-07 03:53:03,297 INFO - ✓ Worker 11: common_voice_en_116740.mp3:  A man in Myers and expensive looking yellow sports car.\n",
      "2025-10-07 03:53:03,881 INFO - ✓ Worker 7: common_voice_en_116729.mp3:  A cyclist in a yellow helmet is biking through the woods and fall.\n",
      "2025-10-07 03:53:03,891 INFO - ✓ Worker 6: common_voice_en_116716.mp3:  A woman is standing next to a car with her hand in a bag.\n",
      "2025-10-07 03:53:04,141 INFO - ✓ Worker 0: common_voice_en_116715.mp3:  Two dogs, one wearing Christmas antlers, tussle on the grass.\n",
      "2025-10-07 03:53:04,213 INFO - ✓ Worker 9: common_voice_en_116721.mp3:  Two women talked to each other in a dark room as other people stand by.\n",
      "2025-10-07 03:53:04,385 INFO - ✓ Worker 8: common_voice_en_116728.mp3:  A man squatted on a rooftop cleans the rain gutters with a hose.\n",
      "2025-10-07 03:53:04,695 INFO - ✓ Worker 13: common_voice_en_116720.mp3:  A boy in an olive shirt is showing the bottom side of a blue stuffed animal.\n",
      "2025-10-07 03:53:04,938 INFO - ✓ Worker 10: common_voice_en_116725.mp3:  A bunch of hippies laying on the ground being entertained by something we can't see.\n",
      "2025-10-07 03:53:05,196 INFO - ✓ Worker 4: common_voice_en_116731.mp3:  This shows a red-haired woman eating a potato chip while she is glancing down.\n",
      "2025-10-07 03:53:06,493 INFO - ✓ Worker 5: common_voice_en_116747.mp3:  A man with glasses reading a book.\n",
      "2025-10-07 03:53:07,072 INFO - ✓ Worker 3: common_voice_en_116735.mp3:  A woman is riding a brown and white horse.\n",
      "2025-10-07 03:53:07,104 INFO - ✓ Worker 1: common_voice_en_116732.mp3:  The elderly gentleman is prepared to share information while in traditional dress.\n",
      "2025-10-07 03:53:07,344 INFO - ✓ Worker 2: common_voice_en_116722.mp3:  An excited man in a Black Vest poses at a concert.\n",
      "2025-10-07 03:53:07,818 INFO - ✓ Worker 0: common_voice_en_116726.mp3:  A firefighter standing near a dangerous sign.\n",
      "2025-10-07 03:53:07,934 INFO - ✓ Worker 11: common_voice_en_116746.mp3:  A large class is taught to Indian women.\n",
      "2025-10-07 03:53:08,373 INFO - ✓ Worker 14: common_voice_en_116750.mp3:  One person surfing on a wave.\n",
      "2025-10-07 03:53:08,495 INFO - ✓ Worker 15: common_voice_en_116737.mp3:  Men are running on an indoor track.\n",
      "2025-10-07 03:53:08,685 INFO - ✓ Worker 13: common_voice_en_116755.mp3:  A young man pouring tea inside of a glass jar.\n",
      "2025-10-07 03:53:08,728 INFO - ✓ Worker 8: common_voice_en_116742.mp3:  Two men shouting at a woman in a marketplace.\n",
      "2025-10-07 03:53:08,790 INFO - ✓ Worker 12: common_voice_en_116754.mp3:  A street vendor on the corner of a busy intersection.\n",
      "2025-10-07 03:53:08,862 INFO - ✓ Worker 6: common_voice_en_116734.mp3:  A snowboarder jumping up a half pipe doing a trick.\n",
      "2025-10-07 03:53:08,963 INFO - ✓ Worker 7: common_voice_en_116744.mp3:  A couple are dancing while others are watching a concert in a band stand.\n",
      "2025-10-07 03:53:09,376 INFO - ✓ Worker 4: common_voice_en_116743.mp3:  A man is wearing protective hair and face coverings.\n",
      "2025-10-07 03:53:09,528 INFO - ✓ Worker 9: common_voice_en_116751.mp3:  A serious looking man is working on a very interesting sculpture of gray.\n",
      "2025-10-07 03:53:09,963 INFO - ✓ Worker 10: common_voice_en_116738.mp3:  A man playing a synthesizer wearing a green sweater and hat.\n",
      "2025-10-07 03:53:11,294 INFO - ✓ Worker 3: common_voice_en_116753.mp3:  Four dogs play with each other and with sticks.\n",
      "2025-10-07 03:53:11,629 INFO - ✓ Worker 0: common_voice_en_116757.mp3:  A dog jumping in the water at a beak.\n",
      "2025-10-07 03:53:11,998 INFO - ✓ Worker 2: common_voice_en_116756.mp3:  A young boy kicks at the autumn leaves beneath his feet.\n",
      "2025-10-07 03:53:12,259 INFO - ✓ Worker 1: common_voice_en_116748.mp3:  Hair dresser is applying permed on a client's hair in a salon.\n",
      "2025-10-07 03:53:12,422 INFO - ✓ Worker 11: common_voice_en_116771.mp3:  A dog jumps high with its mouth open.\n",
      "2025-10-07 03:53:12,468 INFO - ✓ Worker 10: common_voice_en_116769.mp3:  A woman selling hats outside.\n",
      "2025-10-07 03:53:12,543 INFO - ✓ Worker 14: common_voice_en_116770.mp3:  Two people jogging on a path.\n",
      "2025-10-07 03:53:12,607 INFO - ✓ Worker 9: common_voice_en_116768.mp3:  Two basketball players fighting over the ball.\n",
      "2025-10-07 03:53:12,643 INFO - ✓ Worker 13: common_voice_en_116773.mp3:  Two kids after having their faces painted.\n",
      "2025-10-07 03:53:12,731 INFO - ✓ Worker 5: common_voice_en_116759.mp3:  A man in red and yellow suit is riding his bike through the field.\n",
      "2025-10-07 03:53:12,769 INFO - ✓ Worker 6: common_voice_en_116762.mp3:  A man performing a bicycle trick inside in mid-air.\n",
      "2025-10-07 03:53:12,871 INFO - ✓ Worker 8: common_voice_en_116766.mp3:  A teenage boy does tricks on his skateboard in an area with much graffiti.\n",
      "2025-10-07 03:53:13,020 INFO - ✓ Worker 7: common_voice_en_116765.mp3:  A dog has waited through shallow water to reach a rock outcropping.\n",
      "2025-10-07 03:53:13,097 INFO - ✓ Worker 15: common_voice_en_116772.mp3:  A group of children outside of a toy store loading off a bus.\n",
      "2025-10-07 03:53:13,107 INFO - ✓ Worker 12: common_voice_en_116774.mp3:  A man and a woman are dancing or acting outdoors with a small crowd watching.\n",
      "2025-10-07 03:53:13,223 INFO - ✓ Worker 4: common_voice_en_116758.mp3:  A kayaker wearing a blue wetsuit and black helmet paddles his yellow kayak in murky rolling rapids.\n"
     ]
    },
    {
     "name": "stderr",
     "output_type": "stream",
     "text": [
      "Downloading batch 5:  44%|████▍     | 21/48 [00:00<00:00, 95.02it/s]"
     ]
    },
    {
     "name": "stdout",
     "output_type": "stream",
     "text": [
      "2025-10-07 03:53:14,140 WARNING - Connection pool is full, discarding connection: asrelder-data.s3.amazonaws.com. Connection pool size: 10\n",
      "2025-10-07 03:53:14,143 WARNING - Connection pool is full, discarding connection: asrelder-data.s3.amazonaws.com. Connection pool size: 10\n",
      "2025-10-07 03:53:14,144 WARNING - Connection pool is full, discarding connection: asrelder-data.s3.amazonaws.com. Connection pool size: 10\n",
      "2025-10-07 03:53:14,147 WARNING - Connection pool is full, discarding connection: asrelder-data.s3.amazonaws.com. Connection pool size: 10\n",
      "2025-10-07 03:53:14,153 WARNING - Connection pool is full, discarding connection: asrelder-data.s3.amazonaws.com. Connection pool size: 10\n",
      "2025-10-07 03:53:14,156 WARNING - Connection pool is full, discarding connection: asrelder-data.s3.amazonaws.com. Connection pool size: 10\n"
     ]
    },
    {
     "name": "stderr",
     "output_type": "stream",
     "text": [
      "Downloading batch 5:  96%|█████████▌| 46/48 [00:00<00:00, 156.33it/s]"
     ]
    },
    {
     "name": "stdout",
     "output_type": "stream",
     "text": [
      "2025-10-07 03:53:14,163 WARNING - Connection pool is full, discarding connection: asrelder-data.s3.amazonaws.com. Connection pool size: 10\n",
      "2025-10-07 03:53:14,196 WARNING - Connection pool is full, discarding connection: asrelder-data.s3.amazonaws.com. Connection pool size: 10\n"
     ]
    },
    {
     "name": "stderr",
     "output_type": "stream",
     "text": [
      "Downloading batch 5: 100%|██████████| 48/48 [00:00<00:00, 118.75it/s]"
     ]
    },
    {
     "name": "stdout",
     "output_type": "stream",
     "text": [
      "2025-10-07 03:53:14,199 INFO - Transcribing 48 files in parallel...\n"
     ]
    },
    {
     "name": "stderr",
     "output_type": "stream",
     "text": [
      "\n"
     ]
    },
    {
     "name": "stdout",
     "output_type": "stream",
     "text": [
      "2025-10-07 03:53:17,384 INFO - ✓ Worker 8: common_voice_en_116891.mp3:  A man plays a musical instrument.\n",
      "2025-10-07 03:53:17,422 INFO - ✓ Worker 5: common_voice_en_116781.mp3:  A tourist is reading a map.\n",
      "2025-10-07 03:53:17,680 INFO - ✓ Worker 7: common_voice_en_116887.mp3:  A young boy is running a race.\n",
      "2025-10-07 03:53:17,803 INFO - ✓ Worker 0: common_voice_en_116775.mp3:  Two people walked toward a potato chip truck.\n",
      "2025-10-07 03:53:17,862 INFO - ✓ Worker 9: common_voice_en_116791.mp3:  A young boy's operates a pretend shop.\n",
      "2025-10-07 03:53:18,332 INFO - ✓ Worker 11: common_voice_en_116784.mp3:  An adult and a child walking around outdoors in autumn.\n",
      "2025-10-07 03:53:18,339 INFO - ✓ Worker 15: common_voice_en_116782.mp3:  These two women are busy with writing and computer use.\n",
      "2025-10-07 03:53:18,480 INFO - ✓ Worker 3: common_voice_en_116779.mp3:  Two large grey dogs running through a grassy field.\n",
      "2025-10-07 03:53:18,692 INFO - ✓ Worker 13: common_voice_en_116777.mp3:  A group of young people stand and eat off of paper plates.\n",
      "2025-10-07 03:53:18,924 INFO - ✓ Worker 2: common_voice_en_116886.mp3:  A man waiting for the bus in a war-torn country.\n",
      "2025-10-07 03:53:18,932 INFO - ✓ Worker 12: common_voice_en_116890.mp3:  A little boy in a suit holds the ring for a wedding.\n",
      "2025-10-07 03:53:18,994 INFO - ✓ Worker 4: common_voice_en_116778.mp3:  A young man on the court hitting a tennis ball mid-air.\n",
      "2025-10-07 03:53:19,192 INFO - ✓ Worker 10: common_voice_en_116888.mp3:  A dog running through water with a white toilet mouth.\n",
      "2025-10-07 03:53:19,498 INFO - ✓ Worker 1: common_voice_en_116780.mp3:  Three young ladies in yellow uniform are taking a break at a small table.\n",
      "2025-10-07 03:53:20,081 INFO - ✓ Worker 6: common_voice_en_116790.mp3:  Mail wearing orange trunks on the water in a speedboat leaving the dock.\n",
      "2025-10-07 03:53:20,402 INFO - ✓ Worker 14: common_voice_en_116776.mp3:  A man and woman play roulette with a black jack's table in the background.\n",
      "2025-10-07 03:53:21,363 INFO - ✓ Worker 0: common_voice_en_116786.mp3:  Two men drag suitcases down a crowded street.\n",
      "2025-10-07 03:53:21,777 INFO - ✓ Worker 5: common_voice_en_116792.mp3:  A group of people on their knees praying.\n",
      "2025-10-07 03:53:21,964 INFO - ✓ Worker 7: common_voice_en_116793.mp3:  A homeless woman sleeps under a church.\n",
      "2025-10-07 03:53:22,117 INFO - ✓ Worker 8: common_voice_en_116894.mp3:  Two dogs played tug of war.\n",
      "2025-10-07 03:53:22,219 INFO - ✓ Worker 12: common_voice_en_116903.mp3:  The young child waters the plants.\n",
      "2025-10-07 03:53:22,581 INFO - ✓ Worker 10: common_voice_en_116896.mp3:  A group of people are standing together outside.\n",
      "2025-10-07 03:53:22,642 INFO - ✓ Worker 11: common_voice_en_116895.mp3:  A baby is sleeping with his blanket on.\n",
      "2025-10-07 03:53:22,790 INFO - ✓ Worker 4: common_voice_en_116787.mp3:  A person skis down a snowy hill.\n",
      "2025-10-07 03:53:23,290 INFO - ✓ Worker 2: common_voice_en_116788.mp3:  Two children scavenging on the shore adjacent to boats.\n",
      "2025-10-07 03:53:23,475 INFO - ✓ Worker 3: common_voice_en_116892.mp3:  A man sitting on a bench in front of a bust shopping area.\n",
      "2025-10-07 03:53:23,936 INFO - ✓ Worker 9: common_voice_en_116893.mp3:  A small tan dog running in the grass with a stick in his mouth.\n",
      "2025-10-07 03:53:24,305 INFO - ✓ Worker 1: common_voice_en_116783.mp3:  Several construction workers are at the side while some machinery are being operated.\n",
      "2025-10-07 03:53:24,886 INFO - ✓ Worker 0: common_voice_en_116898.mp3:  A brown dog indoors with a large pink toy.\n",
      "2025-10-07 03:53:24,993 INFO - ✓ Worker 6: common_voice_en_116785.mp3:  A man in a blue suit wearing glasses is standing at a podium talking.\n",
      "2025-10-07 03:53:25,360 INFO - ✓ Worker 15: common_voice_en_116904.mp3:  A woman and child are at a park manipulating one of the toys there.\n",
      "2025-10-07 03:53:25,520 INFO - ✓ Worker 13: common_voice_en_116902.mp3:  A person in an orange jagged standing on a ladder near a large metal object.\n",
      "2025-10-07 03:53:26,241 INFO - ✓ Worker 14: common_voice_en_116905.mp3:  A man with a white baseball cap on is holding a sign outside of a store.\n",
      "2025-10-07 03:53:26,307 INFO - ✓ Worker 7: common_voice_en_116917.mp3:  Two hockey players skating during a game.\n",
      "2025-10-07 03:53:26,856 INFO - ✓ Worker 8: common_voice_en_116911.mp3:  Many old females are performing arts and crafts.\n",
      "2025-10-07 03:53:26,857 INFO - ✓ Worker 5: common_voice_en_116912.mp3:  The parish-utest has a bird flying along with him.\n",
      "2025-10-07 03:53:27,073 INFO - ✓ Worker 2: common_voice_en_116900.mp3:  A man does a jump trick on a bike.\n",
      "2025-10-07 03:53:27,221 INFO - ✓ Worker 4: common_voice_en_116907.mp3:  A man riding his bike past the Chengmei food market.\n",
      "2025-10-07 03:53:27,279 INFO - ✓ Worker 9: common_voice_en_116919.mp3:  A woman please guitar for tips.\n",
      "2025-10-07 03:53:27,574 INFO - ✓ Worker 3: common_voice_en_116910.mp3:  A person with an orange shirt, jumping in a trampoline.\n",
      "2025-10-07 03:53:28,182 INFO - ✓ Worker 1: common_voice_en_116906.mp3:  A man wearing sunglasses and a hat is singing into a microphone.\n",
      "2025-10-07 03:53:28,208 INFO - ✓ Worker 11: common_voice_en_116921.mp3:  A woman with a shopping bag is standing in front of some stores.\n",
      "2025-10-07 03:53:28,339 INFO - ✓ Worker 12: common_voice_en_116920.mp3:  A young boy jumping from one chair to another in his house.\n",
      "2025-10-07 03:53:28,398 INFO - ✓ Worker 14: common_voice_en_116914.mp3:  A blonde woman is eating in a busy restaurant.\n",
      "2025-10-07 03:53:28,532 INFO - ✓ Worker 6: common_voice_en_116908.mp3:  Three women conversing under an umbrella with another woman sitting alone on a bench.\n",
      "2025-10-07 03:53:28,668 INFO - ✓ Worker 15: common_voice_en_116915.mp3:  A tennis player with green, a green headband on, is ready to hit the ball.\n",
      "2025-10-07 03:53:28,741 INFO - ✓ Worker 13: common_voice_en_116913.mp3:  Pedestrians, one with a small dog in a pink jagged, are waiting to cross an intersection.\n",
      "2025-10-07 03:53:28,765 INFO - ✓ Worker 10: common_voice_en_116901.mp3:  Two women, one in a blue uniform, the other in a white one, are competing in a martial arts match, ...\n",
      "2025-10-07 03:53:28,773 INFO - Appended 240 rows to ./transcripts_from_prefix.csv\n"
     ]
    },
    {
     "name": "stderr",
     "output_type": "stream",
     "text": [
      "Downloading batch 6:   2%|▏         | 1/48 [00:00<00:07,  6.01it/s]"
     ]
    },
    {
     "name": "stdout",
     "output_type": "stream",
     "text": [
      "2025-10-07 03:53:29,582 WARNING - Connection pool is full, discarding connection: asrelder-data.s3.amazonaws.com. Connection pool size: 10\n",
      "2025-10-07 03:53:29,588 WARNING - Connection pool is full, discarding connection: asrelder-data.s3.amazonaws.com. Connection pool size: 10\n",
      "2025-10-07 03:53:29,589 WARNING - Connection pool is full, discarding connection: asrelder-data.s3.amazonaws.com. Connection pool size: 10\n",
      "2025-10-07 03:53:29,625 WARNING - Connection pool is full, discarding connection: asrelder-data.s3.amazonaws.com. Connection pool size: 10\n"
     ]
    },
    {
     "name": "stderr",
     "output_type": "stream",
     "text": [
      "Downloading batch 6:  46%|████▌     | 22/48 [00:00<00:00, 96.32it/s]"
     ]
    },
    {
     "name": "stdout",
     "output_type": "stream",
     "text": [
      "2025-10-07 03:53:29,626 WARNING - Connection pool is full, discarding connection: asrelder-data.s3.amazonaws.com. Connection pool size: 10\n",
      "2025-10-07 03:53:29,627 WARNING - Connection pool is full, discarding connection: asrelder-data.s3.amazonaws.com. Connection pool size: 10\n",
      "2025-10-07 03:53:29,632 WARNING - Connection pool is full, discarding connection: asrelder-data.s3.amazonaws.com. Connection pool size: 10\n",
      "2025-10-07 03:53:29,638 WARNING - Connection pool is full, discarding connection: asrelder-data.s3.amazonaws.com. Connection pool size: 10\n"
     ]
    },
    {
     "name": "stderr",
     "output_type": "stream",
     "text": [
      "Downloading batch 6:  75%|███████▌  | 36/48 [00:00<00:00, 112.95it/s]"
     ]
    },
    {
     "name": "stdout",
     "output_type": "stream",
     "text": [
      "2025-10-07 03:53:29,731 WARNING - Connection pool is full, discarding connection: asrelder-data.s3.amazonaws.com. Connection pool size: 10\n",
      "2025-10-07 03:53:29,741 WARNING - Connection pool is full, discarding connection: asrelder-data.s3.amazonaws.com. Connection pool size: 10\n",
      "2025-10-07 03:53:29,747 WARNING - Connection pool is full, discarding connection: asrelder-data.s3.amazonaws.com. Connection pool size: 10\n",
      "2025-10-07 03:53:29,775 WARNING - Connection pool is full, discarding connection: asrelder-data.s3.amazonaws.com. Connection pool size: 10\n",
      "2025-10-07 03:53:29,776 WARNING - Connection pool is full, discarding connection: asrelder-data.s3.amazonaws.com. Connection pool size: 10\n",
      "2025-10-07 03:53:29,780 WARNING - Connection pool is full, discarding connection: asrelder-data.s3.amazonaws.com. Connection pool size: 10\n",
      "2025-10-07 03:53:29,820 WARNING - Connection pool is full, discarding connection: asrelder-data.s3.amazonaws.com. Connection pool size: 10\n"
     ]
    },
    {
     "name": "stderr",
     "output_type": "stream",
     "text": [
      "Downloading batch 6: 100%|██████████| 48/48 [00:00<00:00, 101.60it/s]"
     ]
    },
    {
     "name": "stdout",
     "output_type": "stream",
     "text": [
      "2025-10-07 03:53:29,822 INFO - Transcribing 48 files in parallel...\n"
     ]
    },
    {
     "name": "stderr",
     "output_type": "stream",
     "text": [
      "\n"
     ]
    },
    {
     "name": "stdout",
     "output_type": "stream",
     "text": [
      "2025-10-07 03:53:32,484 INFO - ✓ Worker 2: common_voice_en_119479.mp3:  a tourist taking pictures.\n",
      "2025-10-07 03:53:32,925 INFO - ✓ Worker 11: common_voice_en_117400.mp3:  Play the Track Como.\n",
      "2025-10-07 03:53:32,958 INFO - ✓ Worker 14: common_voice_en_116923.mp3:  Three people are performing music.\n",
      "2025-10-07 03:53:33,132 INFO - ✓ Worker 9: common_voice_en_117674.mp3:  Find a picture of musical.\n",
      "2025-10-07 03:53:33,219 INFO - ✓ Worker 1: common_voice_en_116925.mp3:  The boy is jumping in the air.\n",
      "2025-10-07 03:53:33,505 INFO - ✓ Worker 6: common_voice_en_119488.mp3:  A band playing a small gig in Baltimore.\n",
      "2025-10-07 03:53:33,673 INFO - ✓ Worker 5: common_voice_en_119491.mp3:  Several people gather around the laptop at a table.\n",
      "2025-10-07 03:53:33,991 INFO - ✓ Worker 0: common_voice_en_117405.mp3:  I add tonic it to the fresh electronic playlist.\n",
      "2025-10-07 03:53:34,255 INFO - ✓ Worker 8: common_voice_en_119486.mp3:  Chefs prepare food for patterns of a sushi restaurant.\n",
      "2025-10-07 03:53:34,660 INFO - ✓ Worker 10: common_voice_en_116922.mp3:  Three painters wearing pink overalls work on a very tall door.\n",
      "2025-10-07 03:53:34,777 INFO - ✓ Worker 13: common_voice_en_119376.mp3:  This book was shipped all the way from my university in New York.\n",
      "2025-10-07 03:53:34,998 INFO - ✓ Worker 15: common_voice_en_116924.mp3:  Two men and a woman sit on the brown bench with a brown dog.\n",
      "2025-10-07 03:53:35,205 INFO - ✓ Worker 4: common_voice_en_119487.mp3:  Goal on a street using a hula hoop with three people in the background.\n",
      "2025-10-07 03:53:35,256 INFO - ✓ Worker 12: common_voice_en_117677.mp3:  Tell me if it will be humid in West Lafayette, Oklahoma.\n",
      "2025-10-07 03:53:35,437 INFO - ✓ Worker 7: common_voice_en_119481.mp3:  A woman wearing a costume is being lifted up on the shoulders of her dance partner.\n",
      "2025-10-07 03:53:35,573 INFO - ✓ Worker 3: common_voice_en_11857.mp3:  I want to hear music from the top 50 by Yasuhiko Fukuda.\n",
      "2025-10-07 03:53:37,353 INFO - ✓ Worker 0: common_voice_en_119428.mp3:  Altogether on one string of violin.\n",
      "2025-10-07 03:53:37,682 INFO - ✓ Worker 2: common_voice_en_117152.mp3:  Unmasked and wounded, the vigilante made her last stand.\n",
      "2025-10-07 03:53:37,785 INFO - ✓ Worker 11: common_voice_en_117194.mp3:  See you in better days.\n",
      "2025-10-07 03:53:37,802 INFO - ✓ Worker 6: common_voice_en_119502.mp3:  Two women pet a baby kangaroo in the park.\n",
      "2025-10-07 03:53:38,012 INFO - ✓ Worker 10: common_voice_en_119493.mp3:  A dog walking across the desert.\n",
      "2025-10-07 03:53:38,153 INFO - ✓ Worker 8: common_voice_en_119501.mp3:  A crowd of people walk next to a train.\n",
      "2025-10-07 03:53:38,184 INFO - ✓ Worker 1: common_voice_en_119497.mp3:  A little blonde girl crawling into a blue inflatable bouncy house.\n",
      "2025-10-07 03:53:38,291 INFO - ✓ Worker 5: common_voice_en_119500.mp3:  A large image family looking beyond on a pleasant spring day.\n",
      "2025-10-07 03:53:38,621 INFO - ✓ Worker 15: common_voice_en_119513.mp3:  A basket player is scoring.\n",
      "2025-10-07 03:53:38,935 INFO - ✓ Worker 12: common_voice_en_119508.mp3:  A couple walks down a dirt street.\n",
      "2025-10-07 03:53:39,031 INFO - ✓ Worker 14: common_voice_en_119509.mp3:  woman vaulting over a vaulting horse.\n",
      "2025-10-07 03:53:39,309 INFO - ✓ Worker 4: common_voice_en_117670.mp3:  Is Saint Robert hotter than Turk medicine?\n",
      "2025-10-07 03:53:39,828 INFO - ✓ Worker 7: common_voice_en_119483.mp3:  Man riding a bicycle down a road with clouds overhead.\n",
      "2025-10-07 03:53:40,524 INFO - ✓ Worker 3: common_voice_en_119492.mp3:  A man in a blue jersey watches something projected in front of him.\n",
      "2025-10-07 03:53:40,620 INFO - ✓ Worker 13: common_voice_en_119507.mp3:  A man is standing beside two other men while reading a piece of paper.\n",
      "2025-10-07 03:53:40,871 INFO - ✓ Worker 0: common_voice_en_119516.mp3:  Fashion model poses for a short or two.\n",
      "2025-10-07 03:53:41,055 INFO - ✓ Worker 2: common_voice_en_119514.mp3:  Three women are looking into a camera.\n",
      "2025-10-07 03:53:41,323 INFO - ✓ Worker 9: common_voice_en_119504.mp3:  A woman and a man are in an 8 traffic control tower looking out onto an 8 field.\n",
      "2025-10-07 03:53:41,995 INFO - ✓ Worker 10: common_voice_en_119527.mp3:  Everyone is walking down the sidewalk.\n",
      "2025-10-07 03:53:43,019 INFO - ✓ Worker 5: common_voice_en_119510.mp3:  A man in a black leather jacket sitting looking at the city beyond.\n",
      "2025-10-07 03:53:43,092 INFO - ✓ Worker 1: common_voice_en_119525.mp3:  A little girl is carefully coloring in the pictures of a coloring book.\n",
      "2025-10-07 03:53:43,174 INFO - ✓ Worker 8: common_voice_en_119522.mp3:  A black man in the sweater stands beside his rundown butcher shop.\n",
      "2025-10-07 03:53:43,323 INFO - ✓ Worker 6: common_voice_en_119518.mp3:  A crowd of people gathered together and one woman is standing and holding a sign.\n",
      "2025-10-07 03:53:43,532 INFO - ✓ Worker 4: common_voice_en_119530.mp3:  Family and friends watching a military band play a song in a building.\n",
      "2025-10-07 03:53:43,559 INFO - ✓ Worker 11: common_voice_en_119523.mp3:  Two couples are walking under pink peach trees while their blossoms fall.\n",
      "2025-10-07 03:53:43,652 INFO - ✓ Worker 13: common_voice_en_119537.mp3:  Escade border is airborne on a bridge.\n",
      "2025-10-07 03:53:43,729 INFO - ✓ Worker 14: common_voice_en_119529.mp3:  Sledding down a hill during a snow storm.\n",
      "2025-10-07 03:53:43,732 INFO - ✓ Worker 12: common_voice_en_119528.mp3:  The man sitting on a silver motorcycle parked outside of a pub.\n",
      "2025-10-07 03:53:43,794 INFO - ✓ Worker 3: common_voice_en_119526.mp3:  A team of cheerleaders cheering at a sporting event.\n",
      "2025-10-07 03:53:43,862 INFO - ✓ Worker 9: common_voice_en_119499.mp3:  A young male is about to cook some sort of bird.\n",
      "2025-10-07 03:53:43,885 INFO - ✓ Worker 7: common_voice_en_119521.mp3:  2 is writing a double-decker bus with people watching them from an office window.\n",
      "2025-10-07 03:53:43,928 INFO - ✓ Worker 15: common_voice_en_119536.mp3:  A group of people hanging out on the street as a woman looks at her phone.\n"
     ]
    },
    {
     "name": "stderr",
     "output_type": "stream",
     "text": [
      "Downloading batch 7:  46%|████▌     | 22/48 [00:00<00:00, 95.57it/s]"
     ]
    },
    {
     "name": "stdout",
     "output_type": "stream",
     "text": [
      "2025-10-07 03:53:44,873 WARNING - Connection pool is full, discarding connection: asrelder-data.s3.amazonaws.com. Connection pool size: 10\n",
      "2025-10-07 03:53:44,875 WARNING - Connection pool is full, discarding connection: asrelder-data.s3.amazonaws.com. Connection pool size: 10\n",
      "2025-10-07 03:53:44,877 WARNING - Connection pool is full, discarding connection: asrelder-data.s3.amazonaws.com. Connection pool size: 10\n",
      "2025-10-07 03:53:44,884 WARNING - Connection pool is full, discarding connection: asrelder-data.s3.amazonaws.com. Connection pool size: 10\n",
      "2025-10-07 03:53:44,896 WARNING - Connection pool is full, discarding connection: asrelder-data.s3.amazonaws.com. Connection pool size: 10\n"
     ]
    },
    {
     "name": "stderr",
     "output_type": "stream",
     "text": [
      "Downloading batch 7:  94%|█████████▍| 45/48 [00:00<00:00, 143.14it/s]"
     ]
    },
    {
     "name": "stdout",
     "output_type": "stream",
     "text": [
      "2025-10-07 03:53:44,924 WARNING - Connection pool is full, discarding connection: asrelder-data.s3.amazonaws.com. Connection pool size: 10\n",
      "2025-10-07 03:53:44,929 WARNING - Connection pool is full, discarding connection: asrelder-data.s3.amazonaws.com. Connection pool size: 10\n",
      "2025-10-07 03:53:44,931 WARNING - Connection pool is full, discarding connection: asrelder-data.s3.amazonaws.com. Connection pool size: 10\n"
     ]
    },
    {
     "name": "stderr",
     "output_type": "stream",
     "text": [
      "Downloading batch 7: 100%|██████████| 48/48 [00:00<00:00, 113.61it/s]"
     ]
    },
    {
     "name": "stdout",
     "output_type": "stream",
     "text": [
      "2025-10-07 03:53:44,933 INFO - Transcribing 48 files in parallel...\n"
     ]
    },
    {
     "name": "stderr",
     "output_type": "stream",
     "text": [
      "\n"
     ]
    },
    {
     "name": "stdout",
     "output_type": "stream",
     "text": [
      "2025-10-07 03:53:48,734 INFO - ✓ Worker 1: common_voice_en_119543.mp3:  A young girl is sliding down on a sled.\n",
      "2025-10-07 03:53:48,862 INFO - ✓ Worker 7: common_voice_en_119544.mp3:  2 goals sitting by a tree while playing\n",
      "2025-10-07 03:53:48,864 INFO - ✓ Worker 2: common_voice_en_121104.mp3:  A female artist sketching a portrait.\n",
      "2025-10-07 03:53:49,284 INFO - ✓ Worker 8: common_voice_en_119539.mp3:  A girl is playing in the fountain fully clothed.\n",
      "2025-10-07 03:53:49,397 INFO - ✓ Worker 9: common_voice_en_121231.mp3:  A woman is wearing a bright orange and brown shirt.\n",
      "2025-10-07 03:53:49,507 INFO - ✓ Worker 13: common_voice_en_121234.mp3:  A dog catching a flexible frisbee in its mouth.\n",
      "2025-10-07 03:53:49,665 INFO - ✓ Worker 14: common_voice_en_121239.mp3:  With a small brown dog, runs on the snow.\n",
      "2025-10-07 03:53:49,858 INFO - ✓ Worker 0: common_voice_en_119538.mp3:  People relax in the grass at night time during a carnival.\n",
      "2025-10-07 03:53:50,001 INFO - ✓ Worker 5: common_voice_en_119552.mp3:  A man with his dog sitting against a white building in the grass.\n",
      "2025-10-07 03:53:50,102 INFO - ✓ Worker 15: common_voice_en_119545.mp3:  Young girls and brown and white uniforms are shouting and performing an exercise.\n",
      "2025-10-07 03:53:50,213 INFO - ✓ Worker 4: common_voice_en_119547.mp3:  A girl in a grey jacket holding a bad mint and racket.\n",
      "2025-10-07 03:53:50,776 INFO - ✓ Worker 6: common_voice_en_121237.mp3:  The lady with a red shirt is eating in front of the picture of Frit.\n",
      "2025-10-07 03:53:50,895 INFO - ✓ Worker 10: common_voice_en_121232.mp3:  Three man sitting in a rim looking at their one motorbike and one pedal bike.\n",
      "2025-10-07 03:53:51,407 INFO - ✓ Worker 2: common_voice_en_121029.mp3:  Military personnel patrol an area.\n",
      "2025-10-07 03:53:51,479 INFO - ✓ Worker 12: common_voice_en_119549.mp3:  A young boy in a blue jacket standing on a corner in front of the face shop.\n",
      "2025-10-07 03:53:51,643 INFO - ✓ Worker 3: common_voice_en_121101.mp3:  A man in a red jacket is using a machine on blocks of ice in front of several spectators.\n",
      "2025-10-07 03:53:51,880 INFO - ✓ Worker 11: common_voice_en_119553.mp3:  Woman is working on a loom, weaving a pattern, carpet of red, white and blue.\n",
      "2025-10-07 03:53:53,045 INFO - ✓ Worker 0: common_voice_en_120724.mp3:  Nobody knows when that day will come.\n",
      "2025-10-07 03:53:53,280 INFO - ✓ Worker 4: common_voice_en_119575.mp3:  She awoke from the nightmare.\n",
      "2025-10-07 03:53:53,545 INFO - ✓ Worker 9: common_voice_en_1210172.mp3:  in an undertone or whisper.\n",
      "2025-10-07 03:53:53,582 INFO - ✓ Worker 5: common_voice_en_121240.mp3:  A man is sitting looking down and knitting.\n",
      "2025-10-07 03:53:54,579 INFO - ✓ Worker 6: common_voice_en_121233.mp3:  A dog is on the leash by a tree.\n",
      "2025-10-07 03:53:54,911 INFO - ✓ Worker 8: common_voice_en_121241.mp3:  A man by a private jet is standing in the shade of the jet.\n",
      "2025-10-07 03:53:55,299 INFO - ✓ Worker 10: common_voice_en_121242.mp3:  Third world country workers bring collections of bananas and other supplies.\n",
      "2025-10-07 03:53:55,309 INFO - ✓ Worker 12: common_voice_en_121243.mp3:  Several men and women gather at a sporting event.\n",
      "2025-10-07 03:53:55,346 INFO - ✓ Worker 13: common_voice_en_12195.mp3:  A Chinese police officer standing in front of his station.\n",
      "2025-10-07 03:53:55,355 INFO - ✓ Worker 3: common_voice_en_121236.mp3:  Many men in turbines talk around a camel.\n",
      "2025-10-07 03:53:55,447 INFO - ✓ Worker 11: common_voice_en_122571.mp3:  A line of people way outside of a building.\n",
      "2025-10-07 03:53:55,620 INFO - ✓ Worker 1: common_voice_en_121050.mp3:  He skits a friendic man, paints a character of two men, despite there being only one woman.\n",
      "2025-10-07 03:53:56,031 INFO - ✓ Worker 7: common_voice_en_121235.mp3:  The two boys, one in orange, the other in teal, wrestle in the sand.\n",
      "2025-10-07 03:53:56,399 INFO - ✓ Worker 14: common_voice_en_122574.mp3:  Two men wearing white t-shirts are working on a meat counter.\n",
      "2025-10-07 03:53:56,875 INFO - ✓ Worker 0: common_voice_en_121736.mp3:  Who did push-ups with so many queens?\n",
      "2025-10-07 03:53:57,129 INFO - ✓ Worker 15: common_voice_en_12197.mp3:  A very company with a man and woman posing surrounded by several other women.\n",
      "2025-10-07 03:53:57,687 INFO - ✓ Worker 2: common_voice_en_122577.mp3:  Two women are smiling next to a microphone on a stage.\n",
      "2025-10-07 03:53:58,847 INFO - ✓ Worker 6: common_voice_en_122590.mp3:  A man is reading the newspaper in a train compartment.\n",
      "2025-10-07 03:53:59,023 INFO - ✓ Worker 4: common_voice_en_122597.mp3:  The boy in the black and red swimsuit is jumping into the water.\n",
      "2025-10-07 03:53:59,122 INFO - ✓ Worker 5: common_voice_en_122598.mp3:  A person laying down on a bench with a blue shirt on.\n",
      "2025-10-07 03:53:59,237 INFO - ✓ Worker 10: common_voice_en_122602.mp3:  A tattooed runner competes in a road race.\n",
      "2025-10-07 03:53:59,417 INFO - ✓ Worker 11: common_voice_en_122589.mp3:  A man is preparing a meal outdoors on a stage.\n",
      "2025-10-07 03:53:59,431 INFO - ✓ Worker 1: common_voice_en_122588.mp3:  A unboy points at a toy rifle off camera.\n",
      "2025-10-07 03:53:59,556 INFO - ✓ Worker 7: common_voice_en_122584.mp3:  A man walks over a small sign carrying his bicycle.\n",
      "2025-10-07 03:53:59,645 INFO - ✓ Worker 15: common_voice_en_122611.mp3:  Two people are climbing a big rock.\n",
      "2025-10-07 03:53:59,706 INFO - ✓ Worker 12: common_voice_en_122614.mp3:  A woman wearing jeans rolls a bowling ball down the lane.\n",
      "2025-10-07 03:53:59,774 INFO - ✓ Worker 13: common_voice_en_122605.mp3:  Two men jump over hurdles in front of a brick building.\n",
      "2025-10-07 03:53:59,876 INFO - ✓ Worker 9: common_voice_en_121244.mp3:  A large group of young women with numbers on their chests getting ready to run.\n",
      "2025-10-07 03:53:59,943 INFO - ✓ Worker 3: common_voice_en_122587.mp3:  A toddler bends over to scoop some dirt out of the ground with his little green shovel.\n",
      "2025-10-07 03:53:59,955 INFO - ✓ Worker 14: common_voice_en_122599.mp3:  Visitors standing in a recreational area with a pond, a sculpture, and trees.\n",
      "2025-10-07 03:53:59,977 INFO - ✓ Worker 8: common_voice_en_122615.mp3:  Several men were playing basketball in a public park when a fight erupted between two players.\n"
     ]
    },
    {
     "name": "stderr",
     "output_type": "stream",
     "text": [
      "Downloading batch 8:   2%|▏         | 1/48 [00:00<00:08,  5.77it/s]"
     ]
    },
    {
     "name": "stdout",
     "output_type": "stream",
     "text": [
      "2025-10-07 03:54:00,799 WARNING - Connection pool is full, discarding connection: asrelder-data.s3.amazonaws.com. Connection pool size: 10\n",
      "2025-10-07 03:54:00,803 WARNING - Connection pool is full, discarding connection: asrelder-data.s3.amazonaws.com. Connection pool size: 10\n",
      "2025-10-07 03:54:00,805 WARNING - Connection pool is full, discarding connection: asrelder-data.s3.amazonaws.com. Connection pool size: 10\n",
      "2025-10-07 03:54:00,806 WARNING - Connection pool is full, discarding connection: asrelder-data.s3.amazonaws.com. Connection pool size: 10\n"
     ]
    },
    {
     "name": "stderr",
     "output_type": "stream",
     "text": [
      "Downloading batch 8:  48%|████▊     | 23/48 [00:00<00:00, 93.63it/s]"
     ]
    },
    {
     "name": "stdout",
     "output_type": "stream",
     "text": [
      "2025-10-07 03:54:00,926 WARNING - Connection pool is full, discarding connection: asrelder-data.s3.amazonaws.com. Connection pool size: 10\n",
      "2025-10-07 03:54:00,935 WARNING - Connection pool is full, discarding connection: asrelder-data.s3.amazonaws.com. Connection pool size: 10\n",
      "2025-10-07 03:54:00,938 WARNING - Connection pool is full, discarding connection: asrelder-data.s3.amazonaws.com. Connection pool size: 10\n",
      "2025-10-07 03:54:00,948 WARNING - Connection pool is full, discarding connection: asrelder-data.s3.amazonaws.com. Connection pool size: 10\n",
      "2025-10-07 03:54:00,973 WARNING - Connection pool is full, discarding connection: asrelder-data.s3.amazonaws.com. Connection pool size: 10\n"
     ]
    },
    {
     "name": "stderr",
     "output_type": "stream",
     "text": [
      "Downloading batch 8:  98%|█████████▊| 47/48 [00:00<00:00, 139.42it/s]"
     ]
    },
    {
     "name": "stdout",
     "output_type": "stream",
     "text": [
      "2025-10-07 03:54:01,132 WARNING - Connection pool is full, discarding connection: asrelder-data.s3.amazonaws.com. Connection pool size: 10\n"
     ]
    },
    {
     "name": "stderr",
     "output_type": "stream",
     "text": [
      "Downloading batch 8: 100%|██████████| 48/48 [00:00<00:00, 84.11it/s] "
     ]
    },
    {
     "name": "stdout",
     "output_type": "stream",
     "text": [
      "2025-10-07 03:54:01,135 INFO - Transcribing 48 files in parallel...\n"
     ]
    },
    {
     "name": "stderr",
     "output_type": "stream",
     "text": [
      "\n"
     ]
    },
    {
     "name": "stdout",
     "output_type": "stream",
     "text": [
      "2025-10-07 03:54:04,147 INFO - ✓ Worker 4: common_voice_en_122640.mp3:  Office workers having fun.\n",
      "2025-10-07 03:54:04,873 INFO - ✓ Worker 7: common_voice_en_122616.mp3:  A woman in stockings and short shorts.\n",
      "2025-10-07 03:54:05,032 INFO - ✓ Worker 9: common_voice_en_122678.mp3:  A boy is posing next to his scooter.\n",
      "2025-10-07 03:54:05,276 INFO - ✓ Worker 12: common_voice_en_122643.mp3:  Two people on the subway are sleeping in the corner.\n",
      "2025-10-07 03:54:05,287 INFO - ✓ Worker 14: common_voice_en_122647.mp3:  A lounge grill with pedestrians casually walking by.\n",
      "2025-10-07 03:54:05,353 INFO - ✓ Worker 6: common_voice_en_122656.mp3:  A man stands outside his home by some yellow boxes.\n",
      "2025-10-07 03:54:05,369 INFO - ✓ Worker 2: common_voice_en_122655.mp3:  A group of teenage boys hang out on a loft.\n",
      "2025-10-07 03:54:05,385 INFO - ✓ Worker 5: common_voice_en_122626.mp3:  Two wrestlers jump in a ring wall in official watches.\n",
      "2025-10-07 03:54:05,452 INFO - ✓ Worker 10: common_voice_en_122627.mp3:  A man and a woman are running in a marathon.\n",
      "2025-10-07 03:54:05,491 INFO - ✓ Worker 8: common_voice_en_122648.mp3:  A clown wearing a cowboy hat on a microphone smiles.\n",
      "2025-10-07 03:54:05,607 INFO - ✓ Worker 0: common_voice_en_122617.mp3:  A woman with sunglasses is leaning against a brown building.\n",
      "2025-10-07 03:54:06,215 INFO - ✓ Worker 11: common_voice_en_122677.mp3:  A woman and a dog sit on a bench in front of a beach.\n",
      "2025-10-07 03:54:06,319 INFO - ✓ Worker 15: common_voice_en_122651.mp3:  A brown dog brings up some dust as he runs around a field.\n",
      "2025-10-07 03:54:06,684 INFO - ✓ Worker 13: common_voice_en_122675.mp3:  A man dressed in a reflective vest is pulling cabling out of a truck.\n",
      "2025-10-07 03:54:07,141 INFO - ✓ Worker 3: common_voice_en_122666.mp3:  A black man is wearing sunglasses in a blue shirt with a white undershirt.\n",
      "2025-10-07 03:54:07,352 INFO - ✓ Worker 1: common_voice_en_122629.mp3:  A man playing Badminton lunges for a shot that is about to hit the ground.\n",
      "2025-10-07 03:54:08,644 INFO - ✓ Worker 2: common_voice_en_122636.mp3:  Two dogs fight on the grass.\n",
      "2025-10-07 03:54:09,180 INFO - ✓ Worker 9: common_voice_en_122696.mp3:  Three men are gathered around a fruit stand.\n",
      "2025-10-07 03:54:09,345 INFO - ✓ Worker 6: common_voice_en_122680.mp3:  Military personnel are on guard holding their guns.\n",
      "2025-10-07 03:54:09,509 INFO - ✓ Worker 5: common_voice_en_122663.mp3:  A female in a green shirt standing while traffic passes.\n",
      "2025-10-07 03:54:09,662 INFO - ✓ Worker 0: common_voice_en_122658.mp3:  Shall I compare thee to the summer's day?\n",
      "2025-10-07 03:54:09,859 INFO - ✓ Worker 11: common_voice_en_122705.mp3:  Two policemen standing in a parking lot.\n",
      "2025-10-07 03:54:09,888 INFO - ✓ Worker 4: common_voice_en_122664.mp3:  A man in a hat lands on a partially constructed wooden structure.\n",
      "2025-10-07 03:54:09,948 INFO - ✓ Worker 3: common_voice_en_122649.mp3:  Three Chinese people eat soup.\n",
      "2025-10-07 03:54:10,101 INFO - ✓ Worker 8: common_voice_en_122679.mp3:  Lots of people are outside on the beach under shade.\n",
      "2025-10-07 03:54:10,455 INFO - ✓ Worker 7: common_voice_en_122684.mp3:  Two children are on the beach and are playing in the wet sand.\n",
      "2025-10-07 03:54:10,966 INFO - ✓ Worker 10: common_voice_en_122645.mp3:  A crowd of people stand looking at something in a European courtyard.\n",
      "2025-10-07 03:54:11,555 INFO - ✓ Worker 12: common_voice_en_122620.mp3:  Man standing inside a room with arm extended towards a presentation on the wall.\n",
      "2025-10-07 03:54:11,859 INFO - ✓ Worker 14: common_voice_en_122698.mp3:  A female athlete is in the process of completing a high jump.\n",
      "2025-10-07 03:54:12,023 INFO - ✓ Worker 1: common_voice_en_122670.mp3:  Two boys running down the street while a little girl looks on.\n",
      "2025-10-07 03:54:12,178 INFO - ✓ Worker 15: common_voice_en_122703.mp3:  Side view of cyclist and racing outfit on a country road.\n",
      "2025-10-07 03:54:12,305 INFO - ✓ Worker 13: common_voice_en_122694.mp3:  A girl is roller skating down a street while talking on a cell phone.\n",
      "2025-10-07 03:54:13,287 INFO - ✓ Worker 6: common_voice_en_122721.mp3:  Asian people walking around the streets.\n",
      "2025-10-07 03:54:13,600 INFO - ✓ Worker 10: common_voice_en_122716.mp3:  There's the rub.\n",
      "2025-10-07 03:54:14,669 INFO - ✓ Worker 2: common_voice_en_122707.mp3:  A boy and a grey hoodie and a black cap holds up an American flag.\n",
      "2025-10-07 03:54:14,994 INFO - ✓ Worker 3: common_voice_en_122709.mp3:  A child in shorts and blue shirt is playing in the sprinkler.\n",
      "2025-10-07 03:54:15,057 INFO - ✓ Worker 1: common_voice_en_122688.mp3:  People walking around in a big city.\n",
      "2025-10-07 03:54:15,149 INFO - ✓ Worker 8: common_voice_en_122723.mp3:  Two girls and a guy are involved in a pie eating contest.\n",
      "2025-10-07 03:54:15,335 INFO - ✓ Worker 0: common_voice_en_122706.mp3:  Two workers are wearing hard hats while one of them begins to descend into a floor hatch.\n",
      "2025-10-07 03:54:15,401 INFO - ✓ Worker 5: common_voice_en_122697.mp3:  A woman waits to hit a tennis ball over a net in front of an empty arena.\n",
      "2025-10-07 03:54:15,452 INFO - ✓ Worker 4: common_voice_en_122726.mp3:  Brown and black dog with red and white jacket run on road in rural area.\n",
      "2025-10-07 03:54:15,456 INFO - ✓ Worker 7: common_voice_en_122733.mp3:  A rodeo clown in a black cowboy hat gives out American flags to children.\n",
      "2025-10-07 03:54:15,549 INFO - ✓ Worker 12: common_voice_en_122731.mp3:  A man throws the bowling ball to knock down the last pin.\n",
      "2025-10-07 03:54:15,605 INFO - ✓ Worker 9: common_voice_en_122728.mp3:  An Asian woman and man are trying to cut a fish so it can be cooked.\n",
      "2025-10-07 03:54:15,613 INFO - ✓ Worker 14: common_voice_en_122730.mp3:  A woman riding on public transportation reads a book.\n",
      "2025-10-07 03:54:15,627 INFO - ✓ Worker 11: common_voice_en_122738.mp3:  Two children are standing against a brick wall in the sunlight.\n",
      "2025-10-07 03:54:15,697 INFO - ✓ Worker 15: common_voice_en_122708.mp3:  A boy's got demonstrating the proper way of handling jar filled with liquid.\n",
      "2025-10-07 03:54:15,765 INFO - ✓ Worker 13: common_voice_en_122740.mp3:  Several people cross a busy city street on bicycles and foot while cars wait at the signal.\n"
     ]
    },
    {
     "name": "stderr",
     "output_type": "stream",
     "text": [
      "Downloading batch 9:  42%|████▏     | 20/48 [00:00<00:00, 95.76it/s]"
     ]
    },
    {
     "name": "stdout",
     "output_type": "stream",
     "text": [
      "2025-10-07 03:54:16,669 WARNING - Connection pool is full, discarding connection: asrelder-data.s3.amazonaws.com. Connection pool size: 10\n"
     ]
    },
    {
     "name": "stderr",
     "output_type": "stream",
     "text": [
      "Downloading batch 9:  88%|████████▊ | 42/48 [00:00<00:00, 145.63it/s]"
     ]
    },
    {
     "name": "stdout",
     "output_type": "stream",
     "text": [
      "2025-10-07 03:54:16,716 WARNING - Connection pool is full, discarding connection: asrelder-data.s3.amazonaws.com. Connection pool size: 10\n",
      "2025-10-07 03:54:16,719 WARNING - Connection pool is full, discarding connection: asrelder-data.s3.amazonaws.com. Connection pool size: 10\n",
      "2025-10-07 03:54:16,719 WARNING - Connection pool is full, discarding connection: asrelder-data.s3.amazonaws.com. Connection pool size: 10\n",
      "2025-10-07 03:54:16,724 WARNING - Connection pool is full, discarding connection: asrelder-data.s3.amazonaws.com. Connection pool size: 10\n",
      "2025-10-07 03:54:16,725 WARNING - Connection pool is full, discarding connection: asrelder-data.s3.amazonaws.com. Connection pool size: 10\n",
      "2025-10-07 03:54:16,737 WARNING - Connection pool is full, discarding connection: asrelder-data.s3.amazonaws.com. Connection pool size: 10\n"
     ]
    },
    {
     "name": "stderr",
     "output_type": "stream",
     "text": [
      "Downloading batch 9: 100%|██████████| 48/48 [00:00<00:00, 125.46it/s]"
     ]
    },
    {
     "name": "stdout",
     "output_type": "stream",
     "text": [
      "2025-10-07 03:54:16,739 INFO - Transcribing 48 files in parallel...\n"
     ]
    },
    {
     "name": "stderr",
     "output_type": "stream",
     "text": [
      "\n"
     ]
    },
    {
     "name": "stdout",
     "output_type": "stream",
     "text": [
      "2025-10-07 03:54:19,812 INFO - ✓ Worker 13: common_voice_en_122781.mp3:  Three performers at a show.\n",
      "2025-10-07 03:54:20,248 INFO - ✓ Worker 1: common_voice_en_122759.mp3:  A boy plays with a train set.\n",
      "2025-10-07 03:54:20,366 INFO - ✓ Worker 11: common_voice_en_122761.mp3:  Two men fight over a waffle.\n",
      "2025-10-07 03:54:20,461 INFO - ✓ Worker 10: common_voice_en_122793.mp3:  A young puppy cycles from his mother.\n",
      "2025-10-07 03:54:20,620 INFO - ✓ Worker 5: common_voice_en_122749.mp3:  People outside of an outdoor world shop.\n",
      "2025-10-07 03:54:20,730 INFO - ✓ Worker 7: common_voice_en_122783.mp3:  An inline skater grinding on a rail.\n",
      "2025-10-07 03:54:21,153 INFO - ✓ Worker 14: common_voice_en_122789.mp3:  A group of unlockers are looking at a tree.\n",
      "2025-10-07 03:54:21,265 INFO - ✓ Worker 12: common_voice_en_122774.mp3:  A man is standing on a rooftop looking at his camera.\n",
      "2025-10-07 03:54:21,287 INFO - ✓ Worker 9: common_voice_en_122773.mp3:  A man standing on a table filming with people surrounding him.\n",
      "2025-10-07 03:54:21,304 INFO - ✓ Worker 6: common_voice_en_122750.mp3:  The sky and the west is tinged with orange red.\n",
      "2025-10-07 03:54:21,434 INFO - ✓ Worker 15: common_voice_en_122792.mp3:  Two men working outside cleaning the street in their orange uniforms.\n",
      "2025-10-07 03:54:21,554 INFO - ✓ Worker 8: common_voice_en_122756.mp3:  A female tennis player is standing with her feet apart on a court.\n",
      "2025-10-07 03:54:21,611 INFO - ✓ Worker 4: common_voice_en_122744.mp3:  A little boy in a helmet is doing tricks on a skateboard.\n",
      "2025-10-07 03:54:21,718 INFO - ✓ Worker 3: common_voice_en_122751.mp3:  People walk up and down a hallway with advertisements on the wall.\n",
      "2025-10-07 03:54:22,430 INFO - ✓ Worker 2: common_voice_en_122776.mp3:  A white pug dog is biting and trying to pull a large stick out of some water.\n",
      "2025-10-07 03:54:22,575 INFO - ✓ Worker 0: common_voice_en_122764.mp3:  A snowboarder, snowboarding up in the air on a wintry day.\n",
      "2025-10-07 03:54:23,503 INFO - ✓ Worker 5: common_voice_en_122795.mp3:  Four ladies are taking a walk.\n",
      "2025-10-07 03:54:24,288 INFO - ✓ Worker 3: common_voice_en_122763.mp3:  Women stand on the street.\n",
      "2025-10-07 03:54:24,299 INFO - ✓ Worker 7: common_voice_en_122799.mp3:  The young girl is playing basketball.\n",
      "2025-10-07 03:54:24,590 INFO - ✓ Worker 12: common_voice_en_122820.mp3:  Two girls look through a microscope.\n",
      "2025-10-07 03:54:25,048 INFO - ✓ Worker 13: common_voice_en_122803.mp3:  Three happy little girls posing for a photograph.\n",
      "2025-10-07 03:54:25,078 INFO - ✓ Worker 11: common_voice_en_122801.mp3:  A dog bounds across the brown grass.\n",
      "2025-10-07 03:54:25,155 INFO - ✓ Worker 9: common_voice_en_122807.mp3:  A roller derby player talks with another woman.\n",
      "2025-10-07 03:54:25,274 INFO - ✓ Worker 10: common_voice_en_122814.mp3:  Several young people congregating by two canoes.\n",
      "2025-10-07 03:54:25,298 INFO - ✓ Worker 1: common_voice_en_122784.mp3:  A woman wearing a tan skirt is standing in front of a very big building.\n",
      "2025-10-07 03:54:25,326 INFO - ✓ Worker 15: common_voice_en_122815.mp3:  Two men performing construction work.\n",
      "2025-10-07 03:54:25,372 INFO - ✓ Worker 4: common_voice_en_122785.mp3:  A view of the water from inside a ferry.\n",
      "2025-10-07 03:54:25,842 INFO - ✓ Worker 14: common_voice_en_122798.mp3:  A man walks his dog in the street.\n",
      "2025-10-07 03:54:26,582 INFO - ✓ Worker 8: common_voice_en_122772.mp3:  A rock climber taking a large step up the side of a rock face.\n",
      "2025-10-07 03:54:26,697 INFO - ✓ Worker 6: common_voice_en_122808.mp3:  Multiple people are walking by a human statue who is painted in varying shades of gold.\n",
      "2025-10-07 03:54:26,733 INFO - ✓ Worker 2: common_voice_en_122778.mp3:  A woman is talking on the phone while standing next to a dog.\n",
      "2025-10-07 03:54:27,336 INFO - ✓ Worker 0: common_voice_en_122796.mp3:  Workers in Orange and Silver Vests and Jackets stand near Railroad tracks.\n",
      "2025-10-07 03:54:28,405 INFO - ✓ Worker 9: common_voice_en_122831.mp3:  A young boy washing a window.\n",
      "2025-10-07 03:54:29,401 INFO - ✓ Worker 10: common_voice_en_122840.mp3:  An Asian woman rides a bicycle in front of two cars.\n",
      "2025-10-07 03:54:29,562 INFO - ✓ Worker 11: common_voice_en_122843.mp3:  A group of people sit shaded from the hot sun.\n",
      "2025-10-07 03:54:29,751 INFO - ✓ Worker 3: common_voice_en_122802.mp3:  A young girl in a Mickey Mouse shirt is jumping in a park on a clear day.\n",
      "2025-10-07 03:54:30,038 INFO - ✓ Worker 1: common_voice_en_122817.mp3:  The lady asks the dog to give her the ball on their beach walk.\n",
      "2025-10-07 03:54:30,039 INFO - ✓ Worker 7: common_voice_en_122828.mp3:  A couple workers carry orange paint by a man in a white hardhat.\n",
      "2025-10-07 03:54:30,062 INFO - ✓ Worker 14: common_voice_en_122849.mp3:  Women in a rock band perform on stage.\n",
      "2025-10-07 03:54:30,203 INFO - ✓ Worker 2: common_voice_en_122813.mp3:  An Asian man is fighting with a staff.\n",
      "2025-10-07 03:54:30,323 INFO - ✓ Worker 15: common_voice_en_122846.mp3:  A man is cooking outside on a grill.\n",
      "2025-10-07 03:54:30,602 INFO - ✓ Worker 4: common_voice_en_122827.mp3:  Woman in a robe type garb reading a book in what appears to be a public location.\n",
      "2025-10-07 03:54:30,672 INFO - ✓ Worker 6: common_voice_en_122834.mp3:  A play wouldn't ship that children can climb on and play in.\n",
      "2025-10-07 03:54:30,688 INFO - ✓ Worker 12: common_voice_en_122844.mp3:  A child and a stroller is bundled up in a winter coat.\n",
      "2025-10-07 03:54:30,725 INFO - ✓ Worker 0: common_voice_en_122782.mp3:  A boat with one sail is being steered in calm water.\n",
      "2025-10-07 03:54:30,755 INFO - ✓ Worker 5: common_voice_en_122818.mp3:  A woman wearing a bright flowery dress and a black top is sitting on the ground next to a building.\n",
      "2025-10-07 03:54:30,795 INFO - ✓ Worker 8: common_voice_en_122832.mp3:  Three middle aged people sitting on a park bench with a rock wall in the background.\n",
      "2025-10-07 03:54:30,803 INFO - ✓ Worker 13: common_voice_en_122839.mp3:  A married couple posed for pictures on a grassy hillside on a cloudy day.\n"
     ]
    },
    {
     "name": "stderr",
     "output_type": "stream",
     "text": [
      "Downloading batch 10:   2%|▏         | 1/48 [00:00<00:08,  5.86it/s]"
     ]
    },
    {
     "name": "stdout",
     "output_type": "stream",
     "text": [
      "2025-10-07 03:54:31,656 WARNING - Connection pool is full, discarding connection: asrelder-data.s3.amazonaws.com. Connection pool size: 10\n"
     ]
    },
    {
     "name": "stderr",
     "output_type": "stream",
     "text": [
      "Downloading batch 10:  40%|███▉      | 19/48 [00:00<00:00, 84.31it/s]"
     ]
    },
    {
     "name": "stdout",
     "output_type": "stream",
     "text": [
      "2025-10-07 03:54:31,669 WARNING - Connection pool is full, discarding connection: asrelder-data.s3.amazonaws.com. Connection pool size: 10\n",
      "2025-10-07 03:54:31,685 WARNING - Connection pool is full, discarding connection: asrelder-data.s3.amazonaws.com. Connection pool size: 10\n",
      "2025-10-07 03:54:31,685 WARNING - Connection pool is full, discarding connection: asrelder-data.s3.amazonaws.com. Connection pool size: 10\n",
      "2025-10-07 03:54:31,688 WARNING - Connection pool is full, discarding connection: asrelder-data.s3.amazonaws.com. Connection pool size: 10\n"
     ]
    },
    {
     "name": "stderr",
     "output_type": "stream",
     "text": [
      "Downloading batch 10:  75%|███████▌  | 36/48 [00:00<00:00, 115.44it/s]"
     ]
    },
    {
     "name": "stdout",
     "output_type": "stream",
     "text": [
      "2025-10-07 03:54:31,765 WARNING - Connection pool is full, discarding connection: asrelder-data.s3.amazonaws.com. Connection pool size: 10\n",
      "2025-10-07 03:54:31,768 WARNING - Connection pool is full, discarding connection: asrelder-data.s3.amazonaws.com. Connection pool size: 10\n",
      "2025-10-07 03:54:31,769 WARNING - Connection pool is full, discarding connection: asrelder-data.s3.amazonaws.com. Connection pool size: 10\n",
      "2025-10-07 03:54:31,778 WARNING - Connection pool is full, discarding connection: asrelder-data.s3.amazonaws.com. Connection pool size: 10\n",
      "2025-10-07 03:54:31,781 WARNING - Connection pool is full, discarding connection: asrelder-data.s3.amazonaws.com. Connection pool size: 10\n",
      "2025-10-07 03:54:31,783 WARNING - Connection pool is full, discarding connection: asrelder-data.s3.amazonaws.com. Connection pool size: 10\n",
      "2025-10-07 03:54:31,786 WARNING - Connection pool is full, discarding connection: asrelder-data.s3.amazonaws.com. Connection pool size: 10\n"
     ]
    },
    {
     "name": "stderr",
     "output_type": "stream",
     "text": [
      "Downloading batch 10: 100%|██████████| 48/48 [00:00<00:00, 118.75it/s]"
     ]
    },
    {
     "name": "stdout",
     "output_type": "stream",
     "text": [
      "2025-10-07 03:54:31,788 INFO - Transcribing 48 files in parallel...\n"
     ]
    },
    {
     "name": "stderr",
     "output_type": "stream",
     "text": [
      "\n"
     ]
    },
    {
     "name": "stdout",
     "output_type": "stream",
     "text": [
      "2025-10-07 03:54:34,836 INFO - ✓ Worker 11: common_voice_en_122896.mp3:  Doug Hurden cows.\n",
      "2025-10-07 03:54:34,970 INFO - ✓ Worker 1: common_voice_en_122868.mp3:  Two men wearing sunglasses.\n",
      "2025-10-07 03:54:35,024 INFO - ✓ Worker 5: common_voice_en_122882.mp3:  A man surfing a crashing wave.\n",
      "2025-10-07 03:54:35,075 INFO - ✓ Worker 12: common_voice_en_122904.mp3:  A girl underwater in a pool.\n",
      "2025-10-07 03:54:35,754 INFO - ✓ Worker 2: common_voice_en_122855.mp3:  A man is swinging on a rope over water.\n",
      "2025-10-07 03:54:35,890 INFO - ✓ Worker 4: common_voice_en_122870.mp3:  Man in blue shirt wearing a harness while cleaning windows.\n",
      "2025-10-07 03:54:35,965 INFO - ✓ Worker 10: common_voice_en_122877.mp3:  A child making a sandcastle on the beach.\n",
      "2025-10-07 03:54:36,265 INFO - ✓ Worker 15: common_voice_en_122891.mp3:  A woman performing with a guitar on a crowded street.\n",
      "2025-10-07 03:54:36,372 INFO - ✓ Worker 14: common_voice_en_122881.mp3:  A woman shades herself from the sun with her umbrella.\n",
      "2025-10-07 03:54:36,497 INFO - ✓ Worker 7: common_voice_en_122893.mp3:  A person in a red coat is hiding behind a snow structure.\n",
      "2025-10-07 03:54:36,726 INFO - ✓ Worker 9: common_voice_en_122901.mp3:  A young man dances next to a blonde girl in a dark room.\n",
      "2025-10-07 03:54:36,732 INFO - ✓ Worker 13: common_voice_en_122852.mp3:  A dog holds a large stick in its mouth in the woods.\n",
      "2025-10-07 03:54:36,855 INFO - ✓ Worker 8: common_voice_en_122883.mp3:  A light brown dog is walking down a blue and yellow ramp.\n",
      "2025-10-07 03:54:37,363 INFO - ✓ Worker 0: common_voice_en_122853.mp3:  A group of middle-aged men and women are packaging bottles on an assembly line.\n",
      "2025-10-07 03:54:37,960 INFO - ✓ Worker 3: common_voice_en_122890.mp3:  Two kids, one wearing white, one wearing red, playing in the water on a beach.\n",
      "2025-10-07 03:54:38,052 INFO - ✓ Worker 6: common_voice_en_122892.mp3:  Men wearing black and white striped shirts and red scarves carry a shrine on their shoulders.\n",
      "2025-10-07 03:54:39,013 INFO - ✓ Worker 4: common_voice_en_122898.mp3:  A woman standing on a red ball.\n",
      "2025-10-07 03:54:39,860 INFO - ✓ Worker 1: common_voice_en_122858.mp3:  Two women in front of a white building, one putting something in an oven.\n",
      "2025-10-07 03:54:40,296 INFO - ✓ Worker 9: common_voice_en_122907.mp3:  Two young boys are cleaning up fallen leaves.\n",
      "2025-10-07 03:54:40,352 INFO - ✓ Worker 10: common_voice_en_122917.mp3:  I'll walk on the beach after a storm.\n",
      "2025-10-07 03:54:40,782 INFO - ✓ Worker 7: common_voice_en_122889.mp3:  Two people kiss on the street of a well-lit city.\n",
      "2025-10-07 03:54:40,844 INFO - ✓ Worker 8: common_voice_en_122911.mp3:  Two men pull up the netting from the ocean.\n",
      "2025-10-07 03:54:41,052 INFO - ✓ Worker 2: common_voice_en_122887.mp3:  A child is riding a green bike and wearing an orange shirt and red helmet.\n",
      "2025-10-07 03:54:41,202 INFO - ✓ Worker 6: common_voice_en_122879.mp3:  A little boy is watching a woman.\n",
      "2025-10-07 03:54:41,540 INFO - ✓ Worker 11: common_voice_en_122914.mp3:  Worker men labor in the city while being watched by onlookers.\n",
      "2025-10-07 03:54:41,616 INFO - ✓ Worker 12: common_voice_en_122934.mp3:  A woman has positioned her kayaking nose down in the water.\n",
      "2025-10-07 03:54:42,030 INFO - ✓ Worker 0: common_voice_en_122897.mp3:  A man in an orange shirt flips his skateboard on a suburban street.\n",
      "2025-10-07 03:54:42,039 INFO - ✓ Worker 5: common_voice_en_122899.mp3:  A man sits on a street bench with a large bouquet of animal-shaped foil balloons.\n",
      "2025-10-07 03:54:43,054 INFO - ✓ Worker 3: common_voice_en_122872.mp3:  Two elderly people walk down the city sidewalk by words written in chalk.\n",
      "2025-10-07 03:54:43,490 INFO - ✓ Worker 13: common_voice_en_122925.mp3:  A young girl in a pink jacket walks with two sisters and matching outfits in public.\n",
      "2025-10-07 03:54:44,124 INFO - ✓ Worker 4: common_voice_en_1241091.mp3:  Do not cross the yellow line.\n",
      "2025-10-07 03:54:44,191 INFO - ✓ Worker 15: common_voice_en_122937.mp3:  A woman in a burgundy apron is reaching over a table that has brightly colored chairs.\n",
      "2025-10-07 03:54:44,256 INFO - ✓ Worker 14: common_voice_en_122913.mp3:  A girl in a pink checkered coat walks down a hallway followed by another younger girl.\n",
      "2025-10-07 03:54:44,828 INFO - ✓ Worker 1: common_voice_en_122923.mp3:  Two dirty guys playing soccer in the grass with the players in the background.\n",
      "2025-10-07 03:54:45,233 INFO - ✓ Worker 9: common_voice_en_124402.mp3:  Place some Rumba africana.\n",
      "2025-10-07 03:54:45,674 INFO - ✓ Worker 6: common_voice_en_122940.mp3:  Several people sit on barstools overlooking a city.\n",
      "2025-10-07 03:54:46,051 INFO - ✓ Worker 3: common_voice_en_122921.mp3:  A person stands near golden walls.\n",
      "2025-10-07 03:54:46,125 INFO - ✓ Worker 10: common_voice_en_1232502.mp3:  Gone is gone, no good crying over spilt milk.\n",
      "2025-10-07 03:54:46,196 INFO - ✓ Worker 0: common_voice_en_122938.mp3:  A living room with children and grandpa and a photographer.\n",
      "2025-10-07 03:54:46,221 INFO - ✓ Worker 5: common_voice_en_122942.mp3:  A man is smoking a cigarette while ironing some clothes.\n",
      "2025-10-07 03:54:46,259 INFO - ✓ Worker 8: common_voice_en_122945.mp3:  A small dog sprints away while its owner tries to catch it.\n",
      "2025-10-07 03:54:46,667 INFO - ✓ Worker 7: common_voice_en_122924.mp3:  A woman and a little girl pose for a picture with a llama atop a hillside.\n",
      "2025-10-07 03:54:46,673 INFO - ✓ Worker 12: common_voice_en_124791.mp3:  Two men are working on a circular window by standing on chairs.\n",
      "2025-10-07 03:54:46,680 INFO - ✓ Worker 2: common_voice_en_124418.mp3:  I want to book a restaurant in Perrytown, Missouri for Candice, Genie and Nicole.\n",
      "2025-10-07 03:54:46,696 INFO - ✓ Worker 14: common_voice_en_124792.mp3:  A boy plays outside after a rain shower.\n",
      "2025-10-07 03:54:46,768 INFO - ✓ Worker 13: common_voice_en_1241090.mp3:  The board chairwoman happily announced the increase to revenues this quarter.\n",
      "2025-10-07 03:54:46,888 INFO - ✓ Worker 15: common_voice_en_124790.mp3:  A woman wearing a gray coat looks through a landscape at a nature center.\n",
      "2025-10-07 03:54:47,030 INFO - ✓ Worker 11: common_voice_en_124789.mp3:  A man in a light-colored T-shirt and jeans looks very animated, while a woman in a blue and white s...\n",
      "2025-10-07 03:54:47,041 INFO - Appended 240 rows to ./transcripts_from_prefix.csv\n"
     ]
    },
    {
     "name": "stderr",
     "output_type": "stream",
     "text": [
      "Downloading batch 11:   2%|▏         | 1/48 [00:00<00:07,  6.19it/s]"
     ]
    },
    {
     "name": "stdout",
     "output_type": "stream",
     "text": [
      "2025-10-07 03:54:47,863 WARNING - Connection pool is full, discarding connection: asrelder-data.s3.amazonaws.com. Connection pool size: 10\n"
     ]
    },
    {
     "name": "stderr",
     "output_type": "stream",
     "text": [
      "Downloading batch 11:  50%|█████     | 24/48 [00:00<00:00, 110.66it/s]"
     ]
    },
    {
     "name": "stdout",
     "output_type": "stream",
     "text": [
      "2025-10-07 03:54:47,979 WARNING - Connection pool is full, discarding connection: asrelder-data.s3.amazonaws.com. Connection pool size: 10\n",
      "2025-10-07 03:54:47,984 WARNING - Connection pool is full, discarding connection: asrelder-data.s3.amazonaws.com. Connection pool size: 10\n",
      "2025-10-07 03:54:47,989 WARNING - Connection pool is full, discarding connection: asrelder-data.s3.amazonaws.com. Connection pool size: 10\n",
      "2025-10-07 03:54:47,996 WARNING - Connection pool is full, discarding connection: asrelder-data.s3.amazonaws.com. Connection pool size: 10\n",
      "2025-10-07 03:54:47,998 WARNING - Connection pool is full, discarding connection: asrelder-data.s3.amazonaws.com. Connection pool size: 10\n"
     ]
    },
    {
     "name": "stderr",
     "output_type": "stream",
     "text": [
      "Downloading batch 11:  94%|█████████▍| 45/48 [00:00<00:00, 146.87it/s]"
     ]
    },
    {
     "name": "stdout",
     "output_type": "stream",
     "text": [
      "2025-10-07 03:54:48,003 WARNING - Connection pool is full, discarding connection: asrelder-data.s3.amazonaws.com. Connection pool size: 10\n",
      "2025-10-07 03:54:48,038 WARNING - Connection pool is full, discarding connection: asrelder-data.s3.amazonaws.com. Connection pool size: 10\n"
     ]
    },
    {
     "name": "stderr",
     "output_type": "stream",
     "text": [
      "Downloading batch 11: 100%|██████████| 48/48 [00:00<00:00, 117.06it/s]"
     ]
    },
    {
     "name": "stdout",
     "output_type": "stream",
     "text": [
      "2025-10-07 03:54:48,041 INFO - Transcribing 48 files in parallel...\n"
     ]
    },
    {
     "name": "stderr",
     "output_type": "stream",
     "text": [
      "\n"
     ]
    },
    {
     "name": "stdout",
     "output_type": "stream",
     "text": [
      "2025-10-07 03:54:51,094 INFO - ✓ Worker 4: common_voice_en_125066.mp3:  Man watching child in hallway.\n",
      "2025-10-07 03:54:51,218 INFO - ✓ Worker 10: common_voice_en_12492.mp3:  Give this novel four stars.\n",
      "2025-10-07 03:54:51,321 INFO - ✓ Worker 1: common_voice_en_124800.mp3:  Escape board jumps down a bridge.\n",
      "2025-10-07 03:54:51,442 INFO - ✓ Worker 2: common_voice_en_12487.mp3:  What animated movies are showing nearby?\n",
      "2025-10-07 03:54:51,778 INFO - ✓ Worker 6: common_voice_en_125064.mp3:  I water my plants every day after sunset.\n",
      "2025-10-07 03:54:51,817 INFO - ✓ Worker 14: common_voice_en_124798.mp3:  A woman sitting in an art museum writing.\n",
      "2025-10-07 03:54:51,911 INFO - ✓ Worker 7: common_voice_en_125065.mp3:  A child force syrup on a spinning device.\n",
      "2025-10-07 03:54:52,224 INFO - ✓ Worker 12: common_voice_en_125149.mp3:  Working from home has both drawbacks and advantages.\n",
      "2025-10-07 03:54:52,347 INFO - ✓ Worker 15: common_voice_en_124801.mp3:  A group of three dogs are walking through the snow.\n",
      "2025-10-07 03:54:52,524 INFO - ✓ Worker 13: common_voice_en_124803.mp3:  A man wearing a dark red robe carrying a wooden stick.\n",
      "2025-10-07 03:54:52,572 INFO - ✓ Worker 9: common_voice_en_124796.mp3:  A man with a green jacket and headphones cutting grass.\n",
      "2025-10-07 03:54:52,715 INFO - ✓ Worker 5: common_voice_en_124794.mp3:  A man in red, a red swimsuit hitting a volleyball.\n",
      "2025-10-07 03:54:52,935 INFO - ✓ Worker 3: common_voice_en_124795.mp3:  Many people in a very crowded square in a city at night.\n",
      "2025-10-07 03:54:53,484 INFO - ✓ Worker 8: common_voice_en_124797.mp3:  A man in a white shirt is sitting at a table looking at some papers.\n",
      "2025-10-07 03:54:54,281 INFO - ✓ Worker 0: common_voice_en_124793.mp3:  A girl in a pink shirt is standing on a chair and inspecting a drink machine.\n",
      "2025-10-07 03:54:54,336 INFO - ✓ Worker 2: common_voice_en_12511.mp3:  What's the weather in Poland?\n",
      "2025-10-07 03:54:54,992 INFO - ✓ Worker 1: common_voice_en_12501.mp3:  Well, it's snowing, Grandbury.\n",
      "2025-10-07 03:54:55,360 INFO - ✓ Worker 11: common_voice_en_124806.mp3:  Two older women are sitting on a bench in front of a stone building and enjoying box lunches.\n",
      "2025-10-07 03:54:55,582 INFO - ✓ Worker 4: common_voice_en_125069.mp3:  A man and woman talking on the street.\n",
      "2025-10-07 03:54:55,606 INFO - ✓ Worker 10: common_voice_en_125960.mp3:  A man runs down a mountain.\n",
      "2025-10-07 03:54:55,821 INFO - ✓ Worker 7: common_voice_en_124802.mp3:  A group of people wearing white shirts are walking.\n",
      "2025-10-07 03:54:55,989 INFO - ✓ Worker 5: common_voice_en_125068.mp3:  multiple people working on a wooden structure.\n",
      "2025-10-07 03:54:56,596 INFO - ✓ Worker 13: common_voice_en_126311.mp3:  Play the latest Peter Green.\n",
      "2025-10-07 03:54:56,606 INFO - ✓ Worker 12: common_voice_en_125957.mp3:  Two people are walking on a striped path.\n",
      "2025-10-07 03:54:56,812 INFO - ✓ Worker 8: common_voice_en_12516.mp3:  Add this album to my Blues playlist.\n",
      "2025-10-07 03:54:57,077 INFO - ✓ Worker 14: common_voice_en_125964.mp3:  A group of people protesting.\n",
      "2025-10-07 03:54:57,253 INFO - ✓ Worker 6: common_voice_en_125144.mp3:  Can the artist be added to my might and myth power metal playlist?\n",
      "2025-10-07 03:54:57,351 INFO - ✓ Worker 9: common_voice_en_125699.mp3:  It's flicking as the last remaining fuel drain from the generator.\n",
      "2025-10-07 03:54:57,846 INFO - ✓ Worker 0: common_voice_en_124804.mp3:  Guy snowboarding on a hate board.\n",
      "2025-10-07 03:54:58,099 INFO - ✓ Worker 15: common_voice_en_126209.mp3:  I'd rigged the spell with it too.\n",
      "2025-10-07 03:54:58,664 INFO - ✓ Worker 4: common_voice_en_12727544.mp3:  You have a dilated pupils.\n",
      "2025-10-07 03:54:58,747 INFO - ✓ Worker 11: common_voice_en_125963.mp3:  Pretty nice neck you've got there.\n",
      "2025-10-07 03:54:59,422 INFO - ✓ Worker 3: common_voice_en_125067.mp3:  One child is pointing to the sky and another is trying to block the sun to look.\n",
      "2025-10-07 03:54:59,909 INFO - ✓ Worker 2: common_voice_en_126259.mp3:  Show me the movies at the Megaplex theatres.\n",
      "2025-10-07 03:55:00,072 INFO - ✓ Worker 5: common_voice_en_127891.mp3:  Nurses are looking at various toys in the medical center.\n",
      "2025-10-07 03:55:00,369 INFO - ✓ Worker 1: common_voice_en_126332.mp3:  I want to book Dinner by Heston Blumenthal in Alabama.\n",
      "2025-10-07 03:55:00,732 INFO - ✓ Worker 10: common_voice_en_127893.mp3:  A group of young girls walking down a street.\n",
      "2025-10-07 03:55:00,914 INFO - ✓ Worker 6: common_voice_en_126354.mp3:  To kill refined gold, to paint the lily.\n",
      "2025-10-07 03:55:00,947 INFO - ✓ Worker 7: common_voice_en_127890.mp3:  A man with a grey beard sitting outside on a plastic storage crate.\n",
      "2025-10-07 03:55:01,051 INFO - ✓ Worker 8: common_voice_en_127812.mp3:  Give me the showing of animated movies at speakeasy theaters.\n",
      "2025-10-07 03:55:01,098 INFO - ✓ Worker 3: common_voice_en_1270108.mp3:  Bye for now.\n",
      "2025-10-07 03:55:01,244 INFO - ✓ Worker 13: common_voice_en_127831.mp3:  Add this album to my throwback party playlist.\n",
      "2025-10-07 03:55:01,255 INFO - ✓ Worker 14: common_voice_en_127892.mp3:  Man smiling outside in blue shirt.\n",
      "2025-10-07 03:55:01,281 INFO - ✓ Worker 9: common_voice_en_127887.mp3:  Pack of sled dogs in the snow, one barking.\n",
      "2025-10-07 03:55:01,396 INFO - ✓ Worker 0: common_voice_en_125965.mp3:  A woman in black is playing a cello type instrument.\n",
      "2025-10-07 03:55:01,573 INFO - ✓ Worker 15: common_voice_en_127816.mp3:  I want to hear from Peppa Martinez on Delaware.\n",
      "2025-10-07 03:55:01,583 INFO - ✓ Worker 12: common_voice_en_125962.mp3:  A woman with a crossbody black purse is walking near a stairway with silver railing.\n",
      "2025-10-07 03:55:01,590 INFO - ✓ Worker 11: common_voice_en_127889.mp3:  A red cross-country vehicle driving through a puddle with people looking on.\n"
     ]
    },
    {
     "name": "stderr",
     "output_type": "stream",
     "text": [
      "Downloading batch 12:   2%|▏         | 1/48 [00:00<00:07,  6.20it/s]"
     ]
    },
    {
     "name": "stdout",
     "output_type": "stream",
     "text": [
      "2025-10-07 03:55:02,382 WARNING - Connection pool is full, discarding connection: asrelder-data.s3.amazonaws.com. Connection pool size: 10\n",
      "2025-10-07 03:55:02,384 WARNING - Connection pool is full, discarding connection: asrelder-data.s3.amazonaws.com. Connection pool size: 10\n",
      "2025-10-07 03:55:02,385 WARNING - Connection pool is full, discarding connection: asrelder-data.s3.amazonaws.com. Connection pool size: 10\n",
      "2025-10-07 03:55:02,424 WARNING - Connection pool is full, discarding connection: asrelder-data.s3.amazonaws.com. Connection pool size: 10\n"
     ]
    },
    {
     "name": "stderr",
     "output_type": "stream",
     "text": [
      "Downloading batch 12:  40%|███▉      | 19/48 [00:00<00:00, 85.38it/s]"
     ]
    },
    {
     "name": "stdout",
     "output_type": "stream",
     "text": [
      "2025-10-07 03:55:02,462 WARNING - Connection pool is full, discarding connection: asrelder-data.s3.amazonaws.com. Connection pool size: 10\n"
     ]
    },
    {
     "name": "stderr",
     "output_type": "stream",
     "text": [
      "Downloading batch 12:  65%|██████▍   | 31/48 [00:00<00:00, 97.65it/s]"
     ]
    },
    {
     "name": "stdout",
     "output_type": "stream",
     "text": [
      "2025-10-07 03:55:02,542 WARNING - Connection pool is full, discarding connection: asrelder-data.s3.amazonaws.com. Connection pool size: 10\n",
      "2025-10-07 03:55:02,545 WARNING - Connection pool is full, discarding connection: asrelder-data.s3.amazonaws.com. Connection pool size: 10\n",
      "2025-10-07 03:55:02,547 WARNING - Connection pool is full, discarding connection: asrelder-data.s3.amazonaws.com. Connection pool size: 10\n",
      "2025-10-07 03:55:02,550 WARNING - Connection pool is full, discarding connection: asrelder-data.s3.amazonaws.com. Connection pool size: 10\n",
      "2025-10-07 03:55:02,559 WARNING - Connection pool is full, discarding connection: asrelder-data.s3.amazonaws.com. Connection pool size: 10\n",
      "2025-10-07 03:55:02,576 WARNING - Connection pool is full, discarding connection: asrelder-data.s3.amazonaws.com. Connection pool size: 10\n",
      "2025-10-07 03:55:02,583 WARNING - Connection pool is full, discarding connection: asrelder-data.s3.amazonaws.com. Connection pool size: 10\n"
     ]
    },
    {
     "name": "stderr",
     "output_type": "stream",
     "text": [
      "Downloading batch 12: 100%|██████████| 48/48 [00:00<00:00, 112.97it/s]"
     ]
    },
    {
     "name": "stdout",
     "output_type": "stream",
     "text": [
      "2025-10-07 03:55:02,586 INFO - Transcribing 48 files in parallel...\n"
     ]
    },
    {
     "name": "stderr",
     "output_type": "stream",
     "text": [
      "\n"
     ]
    },
    {
     "name": "stdout",
     "output_type": "stream",
     "text": [
      "2025-10-07 03:55:05,690 INFO - ✓ Worker 0: common_voice_en_127894.mp3:  Five people working on something.\n",
      "2025-10-07 03:55:05,861 INFO - ✓ Worker 3: common_voice_en_127901.mp3:  Two dogs play with a bottle.\n",
      "2025-10-07 03:55:06,177 INFO - ✓ Worker 4: common_voice_en_127902.mp3:  A man plays guitar while sitting.\n",
      "2025-10-07 03:55:06,236 INFO - ✓ Worker 1: common_voice_en_127912.mp3:  Three people play soccer in the sand.\n",
      "2025-10-07 03:55:06,661 INFO - ✓ Worker 11: common_voice_en_127920.mp3:  A man standing at a table, standing things.\n",
      "2025-10-07 03:55:07,097 INFO - ✓ Worker 7: common_voice_en_127900.mp3:  A man in Red Jersey walking next to the mountain.\n",
      "2025-10-07 03:55:07,213 INFO - ✓ Worker 8: common_voice_en_127914.mp3:  A man discussing a story with a woman in a robe.\n",
      "2025-10-07 03:55:07,244 INFO - ✓ Worker 6: common_voice_en_127897.mp3:  Toddler boy and overall is sliding down an orange slide.\n",
      "2025-10-07 03:55:07,348 INFO - ✓ Worker 15: common_voice_en_127919.mp3:  A young girl wearing a school sweater is brushing her hair.\n",
      "2025-10-07 03:55:07,356 INFO - ✓ Worker 13: common_voice_en_127906.mp3:  Two kids are hugging playfully in shallow water.\n",
      "2025-10-07 03:55:07,618 INFO - ✓ Worker 10: common_voice_en_127913.mp3:  A man wearing an all black coat suit is walking by.\n",
      "2025-10-07 03:55:07,693 INFO - ✓ Worker 2: common_voice_en_127895.mp3:  A crowd walks on a sidewalk shortly after it is rained.\n",
      "2025-10-07 03:55:08,317 INFO - ✓ Worker 14: common_voice_en_127915.mp3:  Two men walking back and forth through a Japanese or Chinese shopping center.\n",
      "2025-10-07 03:55:08,607 INFO - ✓ Worker 5: common_voice_en_127896.mp3:  A man in black wearing protective head gear speeds around a corner on a motorcycle.\n",
      "2025-10-07 03:55:09,094 INFO - ✓ Worker 12: common_voice_en_127908.mp3:  A woman in a yellow top and blue in yellow shorts is leaping a hurdle.\n",
      "2025-10-07 03:55:09,219 INFO - ✓ Worker 0: common_voice_en_127903.mp3:  People are crowded together on a street.\n",
      "2025-10-07 03:55:09,326 INFO - ✓ Worker 9: common_voice_en_127899.mp3:  Red spray is being ejected by an orange and white plane flying over the hilltops.\n",
      "2025-10-07 03:55:10,704 INFO - ✓ Worker 6: common_voice_en_127917.mp3:  A man at an outdoor restaurant lowers him sunglasses.\n",
      "2025-10-07 03:55:10,772 INFO - ✓ Worker 7: common_voice_en_127909.mp3:  Two guys in hats are playing acoustic guitars.\n",
      "2025-10-07 03:55:11,017 INFO - ✓ Worker 4: common_voice_en_127921.mp3:  A girl holds a young girl on a seat of a pink bicycle.\n",
      "2025-10-07 03:55:11,192 INFO - ✓ Worker 2: common_voice_en_127916.mp3:  Women frying up some goods at a festival.\n",
      "2025-10-07 03:55:11,206 INFO - ✓ Worker 11: common_voice_en_127927.mp3:  A group of people listen to a speech.\n",
      "2025-10-07 03:55:11,269 INFO - ✓ Worker 8: common_voice_en_127922.mp3:  There's a dance floor filled with people dancing.\n",
      "2025-10-07 03:55:11,620 INFO - ✓ Worker 1: common_voice_en_127911.mp3:  The man sits on the beach outside his tent and makes something to eat.\n",
      "2025-10-07 03:55:11,972 INFO - ✓ Worker 10: common_voice_en_127925.mp3:  A brown dog sits outside next to a large snowbank.\n",
      "2025-10-07 03:55:12,517 INFO - ✓ Worker 9: common_voice_en_127923.mp3:  A BMX rider on the trail.\n",
      "2025-10-07 03:55:12,672 INFO - ✓ Worker 12: common_voice_en_127924.mp3:  A girl makes waffles in the kitchen.\n",
      "2025-10-07 03:55:13,043 INFO - ✓ Worker 14: common_voice_en_127928.mp3:  A man with a backpack crosses a busy street.\n",
      "2025-10-07 03:55:13,069 INFO - ✓ Worker 0: common_voice_en_127934.mp3:  A black guy smiling while playing your guitar.\n",
      "2025-10-07 03:55:13,113 INFO - ✓ Worker 15: common_voice_en_127936.mp3:  A female athlete playing volleyball on the beach.\n",
      "2025-10-07 03:55:13,504 INFO - ✓ Worker 5: common_voice_en_127910.mp3:  A construction worker is talking on the phone in a train tunnel.\n",
      "2025-10-07 03:55:13,548 INFO - ✓ Worker 13: common_voice_en_127931.mp3:  A man in a flat shirt connecting his black laptop to his microscope.\n",
      "2025-10-07 03:55:14,915 INFO - ✓ Worker 2: common_voice_en_127940.mp3:  Artists in white reach towards the audience.\n",
      "2025-10-07 03:55:15,149 INFO - ✓ Worker 6: common_voice_en_127941.mp3:  A person repels down a steep incline.\n",
      "2025-10-07 03:55:15,296 INFO - ✓ Worker 3: common_voice_en_127905.mp3:  A person wearing a black-and-pink outfit and a hat riding a top-of-a-unicycle down the street.\n",
      "2025-10-07 03:55:15,444 INFO - ✓ Worker 7: common_voice_en_127942.mp3:  A large man in overalls driving a segway.\n",
      "2025-10-07 03:55:15,637 INFO - ✓ Worker 4: common_voice_en_127943.mp3:  A young man wearing a red bandanasian event.\n",
      "2025-10-07 03:55:15,855 INFO - ✓ Worker 1: common_voice_en_127935.mp3:  Two young girls run through a pool while water sprays them.\n",
      "2025-10-07 03:55:16,042 INFO - ✓ Worker 8: common_voice_en_127938.mp3:  Young men are attending a religious ceremony in a fancy building.\n",
      "2025-10-07 03:55:16,062 INFO - ✓ Worker 10: common_voice_en_127951.mp3:  A man hammers a barrel together.\n",
      "2025-10-07 03:55:16,163 INFO - ✓ Worker 15: common_voice_en_127954.mp3:  Middle-aged woman eating chicken.\n",
      "2025-10-07 03:55:16,569 INFO - ✓ Worker 9: common_voice_en_127947.mp3:  A small girl in blue shirt walking alone in a yellow parking lot.\n",
      "2025-10-07 03:55:16,760 INFO - ✓ Worker 11: common_voice_en_127948.mp3:  Person standing at glass doors with big blue circle and big pink circle.\n",
      "2025-10-07 03:55:16,810 INFO - ✓ Worker 14: common_voice_en_127949.mp3:  Three women walk together down the street and pass to graffiti covered building.\n",
      "2025-10-07 03:55:16,812 INFO - ✓ Worker 5: common_voice_en_127939.mp3:  A man in a brown hat walks in front of a stone building.\n",
      "2025-10-07 03:55:16,866 INFO - ✓ Worker 13: common_voice_en_127952.mp3:  A man is standing inside a subway train with his mouth wide open.\n",
      "2025-10-07 03:55:16,907 INFO - ✓ Worker 3: common_voice_en_127932.mp3:  Ladies dancing in Latino dancewear on a road.\n",
      "2025-10-07 03:55:16,970 INFO - ✓ Worker 12: common_voice_en_127953.mp3:  A race car speeds down the race track, adorned with the verticements from its bonsters.\n"
     ]
    },
    {
     "name": "stderr",
     "output_type": "stream",
     "text": [
      "Downloading batch 13:  38%|███▊      | 18/48 [00:00<00:00, 83.72it/s]"
     ]
    },
    {
     "name": "stdout",
     "output_type": "stream",
     "text": [
      "2025-10-07 03:55:17,817 WARNING - Connection pool is full, discarding connection: asrelder-data.s3.amazonaws.com. Connection pool size: 10\n",
      "2025-10-07 03:55:17,818 WARNING - Connection pool is full, discarding connection: asrelder-data.s3.amazonaws.com. Connection pool size: 10\n"
     ]
    },
    {
     "name": "stderr",
     "output_type": "stream",
     "text": [
      "Downloading batch 13:  85%|████████▌ | 41/48 [00:00<00:00, 138.65it/s]"
     ]
    },
    {
     "name": "stdout",
     "output_type": "stream",
     "text": [
      "2025-10-07 03:55:17,922 WARNING - Connection pool is full, discarding connection: asrelder-data.s3.amazonaws.com. Connection pool size: 10\n",
      "2025-10-07 03:55:17,927 WARNING - Connection pool is full, discarding connection: asrelder-data.s3.amazonaws.com. Connection pool size: 10\n",
      "2025-10-07 03:55:17,936 WARNING - Connection pool is full, discarding connection: asrelder-data.s3.amazonaws.com. Connection pool size: 10\n",
      "2025-10-07 03:55:17,943 WARNING - Connection pool is full, discarding connection: asrelder-data.s3.amazonaws.com. Connection pool size: 10\n",
      "2025-10-07 03:55:17,944 WARNING - Connection pool is full, discarding connection: asrelder-data.s3.amazonaws.com. Connection pool size: 10\n",
      "2025-10-07 03:55:17,947 WARNING - Connection pool is full, discarding connection: asrelder-data.s3.amazonaws.com. Connection pool size: 10\n"
     ]
    },
    {
     "name": "stderr",
     "output_type": "stream",
     "text": [
      "Downloading batch 13: 100%|██████████| 48/48 [00:00<00:00, 120.73it/s]"
     ]
    },
    {
     "name": "stdout",
     "output_type": "stream",
     "text": [
      "2025-10-07 03:55:17,949 INFO - Transcribing 48 files in parallel...\n"
     ]
    },
    {
     "name": "stderr",
     "output_type": "stream",
     "text": [
      "\n"
     ]
    },
    {
     "name": "stdout",
     "output_type": "stream",
     "text": [
      "2025-10-07 03:55:21,485 INFO - ✓ Worker 8: common_voice_en_127975.mp3:  Men playing a game in the park.\n",
      "2025-10-07 03:55:21,826 INFO - ✓ Worker 2: common_voice_en_127962.mp3:  A little girl is looking at the flowers.\n",
      "2025-10-07 03:55:21,927 INFO - ✓ Worker 4: common_voice_en_127978.mp3:  A kid with a yellow shirt on looking.\n",
      "2025-10-07 03:55:22,048 INFO - ✓ Worker 5: common_voice_en_127961.mp3:  Man in gold pants looking at the camera.\n",
      "2025-10-07 03:55:22,123 INFO - ✓ Worker 10: common_voice_en_127963.mp3:  Some men crossing the street in a busy city.\n",
      "2025-10-07 03:55:22,321 INFO - ✓ Worker 6: common_voice_en_127965.mp3:  Three young children feeding a turtle water from a blue container.\n",
      "2025-10-07 03:55:22,331 INFO - ✓ Worker 0: common_voice_en_127970.mp3:  Three football players during a game making a tackle.\n",
      "2025-10-07 03:55:22,809 INFO - ✓ Worker 12: common_voice_en_127969.mp3:  A man taking a picture with a camera that has a large lens.\n",
      "2025-10-07 03:55:22,988 INFO - ✓ Worker 1: common_voice_en_127957.mp3:  Two friends hold on to each other smiling while enjoying a musical festival.\n",
      "2025-10-07 03:55:23,104 INFO - ✓ Worker 14: common_voice_en_127971.mp3:  An ambulance parked on the side of the road with its lights on.\n",
      "2025-10-07 03:55:23,115 INFO - ✓ Worker 15: common_voice_en_127987.mp3:  A female swimmer wearing a swimming cap does a butterfly stroke.\n",
      "2025-10-07 03:55:23,186 INFO - ✓ Worker 11: common_voice_en_127974.mp3:  A black dog and a black and white dog are running in dirt.\n",
      "2025-10-07 03:55:23,590 INFO - ✓ Worker 9: common_voice_en_127980.mp3:  A group of people putting colourful crafts together in a small open shop.\n",
      "2025-10-07 03:55:23,994 INFO - ✓ Worker 13: common_voice_en_127959.mp3:  A young person with a mohawk and a nose piercing in a flat shirt.\n",
      "2025-10-07 03:55:24,146 INFO - ✓ Worker 3: common_voice_en_127958.mp3:  An attractive young lady out in public, his glancing sideways at something off-camera.\n",
      "2025-10-07 03:55:24,338 INFO - ✓ Worker 7: common_voice_en_127973.mp3:  A man stands near a Christian sign, as a public train passes best-timed him.\n",
      "2025-10-07 03:55:25,520 INFO - ✓ Worker 2: common_voice_en_127984.mp3:  A man standing by train holding a bird.\n",
      "2025-10-07 03:55:26,328 INFO - ✓ Worker 6: common_voice_en_127966.mp3:  A silhouette of a man with a fishing pole.\n",
      "2025-10-07 03:55:26,673 INFO - ✓ Worker 1: common_voice_en_127964.mp3:  A young child getting ready to play football.\n",
      "2025-10-07 03:55:26,726 INFO - ✓ Worker 0: common_voice_en_127968.mp3:  A cat sits on top of a store sign.\n",
      "2025-10-07 03:55:26,947 INFO - ✓ Worker 9: common_voice_en_127992.mp3:  A group of people at a restaurant.\n",
      "2025-10-07 03:55:27,057 INFO - ✓ Worker 3: common_voice_en_127988.mp3:  The man is playing professional tennis.\n",
      "2025-10-07 03:55:27,513 INFO - ✓ Worker 4: common_voice_en_127979.mp3:  Two young girls and pretty white dresses stand outside a horse-drawn carriage.\n",
      "2025-10-07 03:55:27,526 INFO - ✓ Worker 13: common_voice_en_128006.mp3:  A parade of some sort is taking place.\n",
      "2025-10-07 03:55:27,791 INFO - ✓ Worker 5: common_voice_en_127983.mp3:  A woman and a man carrying a small child walking on a rocky beach.\n",
      "2025-10-07 03:55:28,478 INFO - ✓ Worker 12: common_voice_en_127995.mp3:  Two people are sitting on a rock, looking off into the distance.\n",
      "2025-10-07 03:55:28,685 INFO - ✓ Worker 11: common_voice_en_127999.mp3:  The girl wearing the pink and white shirt and shorts is jumping in the sand.\n",
      "2025-10-07 03:55:28,848 INFO - ✓ Worker 7: common_voice_en_127996.mp3:  A boy wearing a white shirt climbs on a forest hill.\n",
      "2025-10-07 03:55:28,857 INFO - ✓ Worker 8: common_voice_en_127981.mp3:  A boy wearing a red shirt practices calligraphy while watching other children.\n",
      "2025-10-07 03:55:29,021 INFO - ✓ Worker 10: common_voice_en_127990.mp3:  A bicyclist looks behind him to check on a girl riding a bike behind him.\n",
      "2025-10-07 03:55:29,681 INFO - ✓ Worker 1: common_voice_en_128009.mp3:  Then work on a city street.\n",
      "2025-10-07 03:55:30,153 INFO - ✓ Worker 15: common_voice_en_128000.mp3:  A professional tennis player returns a shot with a backhand from No Man's Land.\n",
      "2025-10-07 03:55:30,548 INFO - ✓ Worker 14: common_voice_en_128008.mp3:  A man walking away from the camera pulls a three-wheeled car through the dark alley.\n",
      "2025-10-07 03:55:30,802 INFO - ✓ Worker 6: common_voice_en_130608.mp3:  Her dog leaps on the beach.\n",
      "2025-10-07 03:55:30,907 INFO - ✓ Worker 4: common_voice_en_128273.mp3:  Drink your tea while it's hot.\n",
      "2025-10-07 03:55:30,971 INFO - ✓ Worker 3: common_voice_en_130478.mp3:  What are the movie times for films close by?\n",
      "2025-10-07 03:55:31,306 INFO - ✓ Worker 11: common_voice_en_130530.mp3:  Forgon conclusion.\n",
      "2025-10-07 03:55:31,370 INFO - ✓ Worker 0: common_voice_en_128005.mp3:  A white dog with a loose leash is on a dirt road.\n",
      "2025-10-07 03:55:31,394 INFO - ✓ Worker 13: common_voice_en_130609.mp3:  Two dogs play together.\n",
      "2025-10-07 03:55:31,525 INFO - ✓ Worker 2: common_voice_en_128265.mp3:  I want to book a restaurant within the same area of horse pasture.\n",
      "2025-10-07 03:55:31,702 INFO - ✓ Worker 7: common_voice_en_130509.mp3:  Keep it simple, but kiss principle.\n",
      "2025-10-07 03:55:32,206 INFO - ✓ Worker 10: common_voice_en_130508.mp3:  Give me the schedule for animated movies at the nearest cinema.\n",
      "2025-10-07 03:55:32,218 INFO - ✓ Worker 9: common_voice_en_130487.mp3:  Search for the video game, The Book of Heroic Failures.\n",
      "2025-10-07 03:55:32,269 INFO - ✓ Worker 5: common_voice_en_130606.mp3:  A scooter whizzing down the street quite quickly, past three people on the sidewalk.\n",
      "2025-10-07 03:55:32,343 INFO - ✓ Worker 8: common_voice_en_128349.mp3:  These are also great for scrolling, which is pretty awkward with dictation.\n",
      "2025-10-07 03:55:32,460 INFO - ✓ Worker 12: common_voice_en_130504.mp3:  What is the cat always rub against your leg right after you get out of the shower?\n",
      "2025-10-07 03:55:32,539 INFO - ✓ Worker 15: common_voice_en_12928016.mp3:  Vermigelly, atveo, or musical piece for three voices or instruments.\n",
      "2025-10-07 03:55:32,540 INFO - ✓ Worker 14: common_voice_en_128007.mp3:  And all their woman is walking on the street with assorted rags on.\n"
     ]
    },
    {
     "name": "stderr",
     "output_type": "stream",
     "text": [
      "Downloading batch 14:   2%|▏         | 1/48 [00:00<00:07,  6.20it/s]"
     ]
    },
    {
     "name": "stdout",
     "output_type": "stream",
     "text": [
      "2025-10-07 03:55:33,360 WARNING - Connection pool is full, discarding connection: asrelder-data.s3.amazonaws.com. Connection pool size: 10\n",
      "2025-10-07 03:55:33,364 WARNING - Connection pool is full, discarding connection: asrelder-data.s3.amazonaws.com. Connection pool size: 10\n"
     ]
    },
    {
     "name": "stderr",
     "output_type": "stream",
     "text": [
      "Downloading batch 14:  44%|████▍     | 21/48 [00:00<00:00, 94.95it/s]"
     ]
    },
    {
     "name": "stdout",
     "output_type": "stream",
     "text": [
      "2025-10-07 03:55:33,484 WARNING - Connection pool is full, discarding connection: asrelder-data.s3.amazonaws.com. Connection pool size: 10\n",
      "2025-10-07 03:55:33,485 WARNING - Connection pool is full, discarding connection: asrelder-data.s3.amazonaws.com. Connection pool size: 10\n"
     ]
    },
    {
     "name": "stderr",
     "output_type": "stream",
     "text": [
      "Downloading batch 14:  85%|████████▌ | 41/48 [00:00<00:00, 134.20it/s]"
     ]
    },
    {
     "name": "stdout",
     "output_type": "stream",
     "text": [
      "2025-10-07 03:55:33,489 WARNING - Connection pool is full, discarding connection: asrelder-data.s3.amazonaws.com. Connection pool size: 10\n",
      "2025-10-07 03:55:33,491 WARNING - Connection pool is full, discarding connection: asrelder-data.s3.amazonaws.com. Connection pool size: 10\n",
      "2025-10-07 03:55:33,498 WARNING - Connection pool is full, discarding connection: asrelder-data.s3.amazonaws.com. Connection pool size: 10\n",
      "2025-10-07 03:55:33,512 WARNING - Connection pool is full, discarding connection: asrelder-data.s3.amazonaws.com. Connection pool size: 10\n",
      "2025-10-07 03:55:33,513 WARNING - Connection pool is full, discarding connection: asrelder-data.s3.amazonaws.com. Connection pool size: 10\n"
     ]
    },
    {
     "name": "stderr",
     "output_type": "stream",
     "text": [
      "Downloading batch 14: 100%|██████████| 48/48 [00:00<00:00, 120.40it/s]"
     ]
    },
    {
     "name": "stdout",
     "output_type": "stream",
     "text": [
      "2025-10-07 03:55:33,516 INFO - Transcribing 48 files in parallel...\n"
     ]
    },
    {
     "name": "stderr",
     "output_type": "stream",
     "text": [
      "\n"
     ]
    },
    {
     "name": "stdout",
     "output_type": "stream",
     "text": [
      "2025-10-07 03:55:36,783 INFO - ✓ Worker 4: common_voice_en_131560.mp3:  The sun shines so brightly.\n",
      "2025-10-07 03:55:37,418 INFO - ✓ Worker 15: common_voice_en_132099.mp3:  Man finished throwing bowling ball towards bowling pens.\n",
      "2025-10-07 03:55:37,560 INFO - ✓ Worker 0: common_voice_en_130615.mp3:  Three people are putting condirs on a cake.\n",
      "2025-10-07 03:55:37,563 INFO - ✓ Worker 10: common_voice_en_132054.mp3:  Man surfing on a wave in the ocean.\n",
      "2025-10-07 03:55:37,598 INFO - ✓ Worker 2: common_voice_en_130611.mp3:  A man wearing a black jacket looking down.\n",
      "2025-10-07 03:55:38,062 INFO - ✓ Worker 5: common_voice_en_130612.mp3:  Our man lying next to a horse made of sand.\n",
      "2025-10-07 03:55:38,353 INFO - ✓ Worker 1: common_voice_en_130610.mp3:  A black and white dog is running and splashing in water.\n",
      "2025-10-07 03:55:38,621 INFO - ✓ Worker 12: common_voice_en_130613.mp3:  Three men are playing golf while one is holding their golf bag.\n",
      "2025-10-07 03:55:38,649 INFO - ✓ Worker 11: common_voice_en_130793.mp3:  A team of girl soccer players in red uniforms run for the ball.\n",
      "2025-10-07 03:55:38,823 INFO - ✓ Worker 8: common_voice_en_130849.mp3:  Then go ahead and bind these functions to voice commands and try them out.\n",
      "2025-10-07 03:55:38,912 INFO - ✓ Worker 13: common_voice_en_130786.mp3:  A woman with a small child in her lap reading a picture book.\n",
      "2025-10-07 03:55:38,986 INFO - ✓ Worker 14: common_voice_en_132067.mp3:  The smiling black men is wearing a white t-shirt and dark sunglasses.\n",
      "2025-10-07 03:55:39,010 INFO - ✓ Worker 3: common_voice_en_132052.mp3:  A young man rides a yellow and black skateboard at the top of a ramp.\n",
      "2025-10-07 03:55:39,019 INFO - ✓ Worker 7: common_voice_en_130787.mp3:  The girl is wearing a white shirt and red pants and jumps through water.\n",
      "2025-10-07 03:55:39,067 INFO - ✓ Worker 9: common_voice_en_130788.mp3:  A group of individuals in front of computers look at the front of the room.\n",
      "2025-10-07 03:55:39,731 INFO - ✓ Worker 6: common_voice_en_132057.mp3:  Rove plastic horses that form a children's drive with one child riding.\n",
      "2025-10-07 03:55:40,324 INFO - ✓ Worker 0: common_voice_en_130841.mp3:  Work for somebody else.\n",
      "2025-10-07 03:55:41,813 INFO - ✓ Worker 2: common_voice_en_130789.mp3:  A baby wearing all white swinging on the swing.\n",
      "2025-10-07 03:55:42,059 INFO - ✓ Worker 12: common_voice_en_133629.mp3:  I find bunch of reporters.\n",
      "2025-10-07 03:55:42,420 INFO - ✓ Worker 1: common_voice_en_130848.mp3:  Find the movie schedule at B&B theaters.\n",
      "2025-10-07 03:55:42,435 INFO - ✓ Worker 5: common_voice_en_132087.mp3:  A small brown dog is being washed in the small blue bin.\n",
      "2025-10-07 03:55:42,516 INFO - ✓ Worker 13: common_voice_en_132185.mp3:  Two men wearing helmets on a motorcycle.\n",
      "2025-10-07 03:55:42,879 INFO - ✓ Worker 15: common_voice_en_133630.mp3:  You haven't seen anything yet?\n",
      "2025-10-07 03:55:43,037 INFO - ✓ Worker 7: common_voice_en_132109.mp3:  A man riding an orange and white motorcycle.\n",
      "2025-10-07 03:55:43,079 INFO - ✓ Worker 4: common_voice_en_130792.mp3:  A man and a toddler are looking at a green fish in a small pond.\n",
      "2025-10-07 03:55:43,189 INFO - ✓ Worker 11: common_voice_en_132751.mp3:  A man in black pants climbing the rock wall.\n",
      "2025-10-07 03:55:43,470 INFO - ✓ Worker 10: common_voice_en_132750.mp3:  A man wearing red and black is riding a softballed.\n",
      "2025-10-07 03:55:43,656 INFO - ✓ Worker 3: common_voice_en_132074.mp3:  A young Asian man is hitting a volleyball in the sand.\n",
      "2025-10-07 03:55:43,751 INFO - ✓ Worker 14: common_voice_en_132560.mp3:  What is the movie's schedule for the Pacific theatres?\n",
      "2025-10-07 03:55:43,926 INFO - ✓ Worker 8: common_voice_en_132186.mp3:  2 women stand on a straight corner and talk to a third person.\n",
      "2025-10-07 03:55:44,182 INFO - ✓ Worker 9: common_voice_en_132184.mp3:  Slightly overweight women in bikinis are playing on a beach.\n",
      "2025-10-07 03:55:44,490 INFO - ✓ Worker 0: common_voice_en_13458.mp3:  We had a relatively rainy and chilly summer here in Berlin.\n",
      "2025-10-07 03:55:46,121 INFO - ✓ Worker 7: common_voice_en_1336071.mp3:  Over neck and head, head long.\n",
      "2025-10-07 03:55:46,218 INFO - ✓ Worker 2: common_voice_en_13440.mp3:  more honored in the breach than in the observance.\n",
      "2025-10-07 03:55:46,707 INFO - ✓ Worker 6: common_voice_en_130790.mp3:  Male figures and t-shirts carry lengths of constructive material along the top of incomplete seated...\n",
      "2025-10-07 03:55:46,743 INFO - ✓ Worker 1: common_voice_en_134195.mp3:  The audience clapped enthusiastically after an outstanding performance.\n",
      "2025-10-07 03:55:47,131 INFO - ✓ Worker 13: common_voice_en_136399.mp3:  Baby taking a nap in his crib.\n",
      "2025-10-07 03:55:47,309 INFO - ✓ Worker 3: common_voice_en_132749.mp3:  Okay, he's communicating with someone in a car.\n",
      "2025-10-07 03:55:47,384 INFO - ✓ Worker 14: common_voice_en_136393.mp3:  A street band of males playing drums.\n",
      "2025-10-07 03:55:47,419 INFO - ✓ Worker 15: common_voice_en_134681.mp3:  For some reason, I just love bees.\n",
      "2025-10-07 03:55:47,516 INFO - ✓ Worker 10: common_voice_en_136396.mp3:  Group of girls in Red School uniforms walking on a busy sidewalk.\n",
      "2025-10-07 03:55:47,572 INFO - ✓ Worker 4: common_voice_en_13426.mp3:  Show me the schedule for the Duchess of Lagia, my cinema.\n",
      "2025-10-07 03:55:47,677 INFO - ✓ Worker 9: common_voice_en_136398.mp3:  A woman taking a photograph of herself and another woman.\n",
      "2025-10-07 03:55:47,827 INFO - ✓ Worker 5: common_voice_en_13465.mp3:  The honeysuckle gave off a wave of sweet centres she brushed past it in the twilight.\n",
      "2025-10-07 03:55:47,870 INFO - ✓ Worker 11: common_voice_en_136397.mp3:  A man in a green jacket is riding a colorfully decorated white horse.\n",
      "2025-10-07 03:55:47,959 INFO - ✓ Worker 8: common_voice_en_136392.mp3:  A female throes of Frisbee while another attempts to block her toss.\n",
      "2025-10-07 03:55:48,018 INFO - ✓ Worker 12: common_voice_en_132754.mp3:  Woman with blue gloves is an floral shirt humbling a love ceramic bowl in a ceramic shop.\n",
      "2025-10-07 03:55:48,139 INFO - ✓ Worker 6: common_voice_en_136391.mp3:  A woman in a denim jacket is carting off a wheelbarrow as two other women watch.\n"
     ]
    },
    {
     "name": "stderr",
     "output_type": "stream",
     "text": [
      "Downloading batch 15:  81%|████████▏ | 39/48 [00:00<00:00, 129.81it/s]"
     ]
    },
    {
     "name": "stdout",
     "output_type": "stream",
     "text": [
      "2025-10-07 03:55:49,085 WARNING - Connection pool is full, discarding connection: asrelder-data.s3.amazonaws.com. Connection pool size: 10\n",
      "2025-10-07 03:55:49,086 WARNING - Connection pool is full, discarding connection: asrelder-data.s3.amazonaws.com. Connection pool size: 10\n",
      "2025-10-07 03:55:49,086 WARNING - Connection pool is full, discarding connection: asrelder-data.s3.amazonaws.com. Connection pool size: 10\n",
      "2025-10-07 03:55:49,091 WARNING - Connection pool is full, discarding connection: asrelder-data.s3.amazonaws.com. Connection pool size: 10\n",
      "2025-10-07 03:55:49,095 WARNING - Connection pool is full, discarding connection: asrelder-data.s3.amazonaws.com. Connection pool size: 10\n",
      "2025-10-07 03:55:49,098 WARNING - Connection pool is full, discarding connection: asrelder-data.s3.amazonaws.com. Connection pool size: 10\n",
      "2025-10-07 03:55:49,105 WARNING - Connection pool is full, discarding connection: asrelder-data.s3.amazonaws.com. Connection pool size: 10\n",
      "2025-10-07 03:55:49,107 WARNING - Connection pool is full, discarding connection: asrelder-data.s3.amazonaws.com. Connection pool size: 10\n"
     ]
    },
    {
     "name": "stderr",
     "output_type": "stream",
     "text": [
      "Downloading batch 15: 100%|██████████| 48/48 [00:00<00:00, 119.88it/s]"
     ]
    },
    {
     "name": "stdout",
     "output_type": "stream",
     "text": [
      "2025-10-07 03:55:49,109 INFO - Transcribing 48 files in parallel...\n"
     ]
    },
    {
     "name": "stderr",
     "output_type": "stream",
     "text": [
      "\n"
     ]
    },
    {
     "name": "stdout",
     "output_type": "stream",
     "text": [
      "2025-10-07 03:55:51,385 INFO - ✓ Worker 13: common_voice_en_137150.mp3:  Best thanks.\n",
      "2025-10-07 03:55:52,527 INFO - ✓ Worker 2: common_voice_en_136449.mp3:  Let's listen to my few ship.\n",
      "2025-10-07 03:55:52,755 INFO - ✓ Worker 0: common_voice_en_136401.mp3:  Two women on a movie set reviewing film.\n",
      "2025-10-07 03:55:52,789 INFO - ✓ Worker 12: common_voice_en_1373590.mp3:  It takes heat to bring out the oil.\n",
      "2025-10-07 03:55:52,999 INFO - ✓ Worker 14: common_voice_en_136418.mp3:  Racecar driver driving his car on the track.\n",
      "2025-10-07 03:55:53,027 INFO - ✓ Worker 7: common_voice_en_136415.mp3:  I crew aboard a sailboat at sea.\n",
      "2025-10-07 03:55:53,125 INFO - ✓ Worker 10: common_voice_en_136404.mp3:  A woman begins to climb onto her bike.\n",
      "2025-10-07 03:55:53,243 INFO - ✓ Worker 5: common_voice_en_136419.mp3:  This little boy is sleeping on some type of furniture.\n",
      "2025-10-07 03:55:53,503 INFO - ✓ Worker 3: common_voice_en_136410.mp3:  A man in a green scarf is bearing his teeth.\n",
      "2025-10-07 03:55:53,661 INFO - ✓ Worker 9: common_voice_en_136411.mp3:  Walkers on a concrete boardwalk under a blue sky.\n",
      "2025-10-07 03:55:53,863 INFO - ✓ Worker 4: common_voice_en_136408.mp3:  A young girl in her swimsuit is getting ready to compete.\n",
      "2025-10-07 03:55:54,402 INFO - ✓ Worker 6: common_voice_en_136406.mp3:  The red-headed woman holds her purse while putting a cigarette in her mouth.\n",
      "2025-10-07 03:55:54,559 INFO - ✓ Worker 8: common_voice_en_136400.mp3:  A bottle of alcohol is sit next to a person sleeping on a bench.\n",
      "2025-10-07 03:55:54,647 INFO - ✓ Worker 11: common_voice_en_136422.mp3:  A caterer preparing food at an outdoor venue with many dished on display.\n",
      "2025-10-07 03:55:54,810 INFO - ✓ Worker 1: common_voice_en_136407.mp3:  Workers in blue jumpsuits waved to the camera outside their place of work.\n",
      "2025-10-07 03:55:54,888 INFO - ✓ Worker 15: common_voice_en_136417.mp3:  A man dances as another holds her breath in front of a blue fish door.\n",
      "2025-10-07 03:55:55,297 INFO - ✓ Worker 5: common_voice_en_1373592.mp3:  Good luck!\n",
      "2025-10-07 03:55:56,450 INFO - ✓ Worker 0: common_voice_en_13785.mp3:  You seem to think I've never done this before.\n",
      "2025-10-07 03:55:56,688 INFO - ✓ Worker 7: common_voice_en_13787.mp3:  You put something wrong in those capsules.\n",
      "2025-10-07 03:55:56,694 INFO - ✓ Worker 3: common_voice_en_137151.mp3:  Slow down, that car is breaking.\n",
      "2025-10-07 03:55:56,992 INFO - ✓ Worker 2: common_voice_en_136413.mp3:  Two men stand looking at the ocean at a tropical resort.\n",
      "2025-10-07 03:55:57,794 INFO - ✓ Worker 9: common_voice_en_138784.mp3:  A big crowd is watching some kind of game.\n",
      "2025-10-07 03:55:57,937 INFO - ✓ Worker 11: common_voice_en_138781.mp3:  A white man going for a walk.\n",
      "2025-10-07 03:55:58,022 INFO - ✓ Worker 8: common_voice_en_13788.mp3:  Our mortgage is in a rears.\n",
      "2025-10-07 03:55:58,296 INFO - ✓ Worker 10: common_voice_en_136420.mp3:  Three cross-country skiers skiing across the snowy field.\n",
      "2025-10-07 03:55:58,392 INFO - ✓ Worker 4: common_voice_en_136416.mp3:  A man in a tropical shirt is playing piano in a bar.\n",
      "2025-10-07 03:55:59,140 INFO - ✓ Worker 12: common_voice_en_138785.mp3:  Amen, riding his bike on the beach by the ocean.\n",
      "2025-10-07 03:55:59,241 INFO - ✓ Worker 14: common_voice_en_141307.mp3:  Can you please find the Jack Johnson & Concert picture?\n",
      "2025-10-07 03:55:59,314 INFO - ✓ Worker 15: common_voice_en_141274.mp3:  Add La Vos to my dubstep dangles dirty playlist.\n",
      "2025-10-07 03:55:59,738 INFO - ✓ Worker 1: common_voice_en_136423.mp3:  A man in a yellow and blue hat working on with wood.\n",
      "2025-10-07 03:55:59,755 INFO - ✓ Worker 6: common_voice_en_136403.mp3:  A large white pipe is being lowered on a trailer as two workers stand by.\n",
      "2025-10-07 03:56:00,132 INFO - ✓ Worker 7: common_voice_en_141327.mp3:  Cold comfort.\n",
      "2025-10-07 03:56:00,599 INFO - ✓ Worker 13: common_voice_en_140645.mp3:  In one quick move she activated the aft cannons and fired on the enemy ship.\n",
      "2025-10-07 03:56:01,153 INFO - ✓ Worker 2: common_voice_en_140632.mp3:  Please search and get me the East is Red Sagar.\n",
      "2025-10-07 03:56:01,504 INFO - ✓ Worker 3: common_voice_en_141405.mp3:  A homeless man pushes an overfilled plastic blue shopping cart.\n",
      "2025-10-07 03:56:01,871 INFO - ✓ Worker 0: common_voice_en_138782.mp3:  A person in blue is the only person currently throwing their balls at the bowling item.\n",
      "2025-10-07 03:56:01,979 INFO - ✓ Worker 5: common_voice_en_141402.mp3:  Two children playing in the snow near stack of logs.\n",
      "2025-10-07 03:56:02,230 INFO - ✓ Worker 9: common_voice_en_141410.mp3:  Two young children bounce on a short trampoline.\n",
      "2025-10-07 03:56:02,332 INFO - ✓ Worker 12: common_voice_en_141411.mp3:  A drummer playing a red drum set.\n",
      "2025-10-07 03:56:02,344 INFO - ✓ Worker 10: common_voice_en_141406.mp3:  The blonde woman runs beside the lush vegetation.\n",
      "2025-10-07 03:56:02,400 INFO - ✓ Worker 6: common_voice_en_141347.mp3:  What film is playing nearby?\n",
      "2025-10-07 03:56:02,483 INFO - ✓ Worker 8: common_voice_en_141408.mp3:  Book reservation for my nieces and I at Light Horse Taven.\n",
      "2025-10-07 03:56:02,493 INFO - ✓ Worker 1: common_voice_en_139950.mp3:  Can't you give me another hour?\n",
      "2025-10-07 03:56:02,780 INFO - ✓ Worker 13: common_voice_en_141401.mp3:  Two women stand outside for the young girl.\n",
      "2025-10-07 03:56:02,807 INFO - ✓ Worker 11: common_voice_en_141404.mp3:  Child was curly hair laying in a field holding a dandelion.\n",
      "2025-10-07 03:56:02,826 INFO - ✓ Worker 15: common_voice_en_140675.mp3:  Find the game, Trust Dance, Greatest Hits.\n",
      "2025-10-07 03:56:02,838 INFO - ✓ Worker 4: common_voice_en_141403.mp3:  A child is crouching on the edge of a curb looking at something in the distance.\n",
      "2025-10-07 03:56:02,900 INFO - ✓ Worker 14: common_voice_en_141409.mp3:  A couple of homeless people rummaged through a bag containing items that make them laugh.\n",
      "2025-10-07 03:56:02,906 INFO - Appended 240 rows to ./transcripts_from_prefix.csv\n"
     ]
    },
    {
     "name": "stderr",
     "output_type": "stream",
     "text": [
      "Downloading batch 16:  35%|███▌      | 17/48 [00:00<00:00, 77.28it/s]"
     ]
    },
    {
     "name": "stdout",
     "output_type": "stream",
     "text": [
      "2025-10-07 03:56:03,846 WARNING - Connection pool is full, discarding connection: asrelder-data.s3.amazonaws.com. Connection pool size: 10\n",
      "2025-10-07 03:56:03,850 WARNING - Connection pool is full, discarding connection: asrelder-data.s3.amazonaws.com. Connection pool size: 10\n",
      "2025-10-07 03:56:03,852 WARNING - Connection pool is full, discarding connection: asrelder-data.s3.amazonaws.com. Connection pool size: 10\n",
      "2025-10-07 03:56:03,854 WARNING - Connection pool is full, discarding connection: asrelder-data.s3.amazonaws.com. Connection pool size: 10\n"
     ]
    },
    {
     "name": "stderr",
     "output_type": "stream",
     "text": [
      "Downloading batch 16:  88%|████████▊ | 42/48 [00:00<00:00, 145.89it/s]"
     ]
    },
    {
     "name": "stdout",
     "output_type": "stream",
     "text": [
      "2025-10-07 03:56:03,857 WARNING - Connection pool is full, discarding connection: asrelder-data.s3.amazonaws.com. Connection pool size: 10\n",
      "2025-10-07 03:56:03,859 WARNING - Connection pool is full, discarding connection: asrelder-data.s3.amazonaws.com. Connection pool size: 10\n",
      "2025-10-07 03:56:03,862 WARNING - Connection pool is full, discarding connection: asrelder-data.s3.amazonaws.com. Connection pool size: 10\n",
      "2025-10-07 03:56:03,897 WARNING - Connection pool is full, discarding connection: asrelder-data.s3.amazonaws.com. Connection pool size: 10\n"
     ]
    },
    {
     "name": "stderr",
     "output_type": "stream",
     "text": [
      "Downloading batch 16: 100%|██████████| 48/48 [00:00<00:00, 117.23it/s]"
     ]
    },
    {
     "name": "stdout",
     "output_type": "stream",
     "text": [
      "2025-10-07 03:56:03,900 INFO - Transcribing 48 files in parallel...\n"
     ]
    },
    {
     "name": "stderr",
     "output_type": "stream",
     "text": [
      "\n"
     ]
    },
    {
     "name": "stdout",
     "output_type": "stream",
     "text": [
      "2025-10-07 03:56:07,148 INFO - ✓ Worker 4: common_voice_en_143070.mp3:  Someone is making a sand sculpture.\n",
      "2025-10-07 03:56:07,504 INFO - ✓ Worker 9: common_voice_en_143072.mp3:  Nightclub dancers showing her moves.\n",
      "2025-10-07 03:56:07,678 INFO - ✓ Worker 6: common_voice_en_143091.mp3:  Four older people are sitting on a bench.\n",
      "2025-10-07 03:56:07,692 INFO - ✓ Worker 8: common_voice_en_141414.mp3:  Many birds are sitting on a concrete wall.\n",
      "2025-10-07 03:56:07,862 INFO - ✓ Worker 11: common_voice_en_143113.mp3:  a dog putting his legs into a pond.\n",
      "2025-10-07 03:56:07,896 INFO - ✓ Worker 15: common_voice_en_148025.mp3:  This is the point. There's the rub.\n",
      "2025-10-07 03:56:07,923 INFO - ✓ Worker 7: common_voice_en_143097.mp3:  The brown dog is standing on the sandy beach.\n",
      "2025-10-07 03:56:08,149 INFO - ✓ Worker 1: common_voice_en_141413.mp3:  A man and woman walking down the street.\n",
      "2025-10-07 03:56:08,165 INFO - ✓ Worker 10: common_voice_en_143060.mp3:  The lake was nestled in the ring of mountains.\n",
      "2025-10-07 03:56:08,196 INFO - ✓ Worker 2: common_voice_en_143045.mp3:  The woman walks after two geese near the ocean.\n",
      "2025-10-07 03:56:08,487 INFO - ✓ Worker 14: common_voice_en_141807.mp3:  Adulizing in that playlist in the name of news.\n",
      "2025-10-07 03:56:08,787 INFO - ✓ Worker 3: common_voice_en_141415.mp3:  A bird has its wings spread very wide and is standing on rocks.\n",
      "2025-10-07 03:56:08,996 INFO - ✓ Worker 0: common_voice_en_141416.mp3:  A large crowd of people stand at the start line of a race.\n",
      "2025-10-07 03:56:09,341 INFO - ✓ Worker 5: common_voice_en_141805.mp3:  Keep your phone handy, in case I text you with subway updates.\n",
      "2025-10-07 03:56:09,437 INFO - ✓ Worker 13: common_voice_en_141412.mp3:  A woman in Asari is talking to a man in a white shirt.\n",
      "2025-10-07 03:56:09,826 INFO - ✓ Worker 12: common_voice_en_143042.mp3:  Three dark-haired people stand near each other with large buildings in the background.\n",
      "2025-10-07 03:56:10,707 INFO - ✓ Worker 9: common_voice_en_149340.mp3:  This is unfair.\n",
      "2025-10-07 03:56:11,374 INFO - ✓ Worker 1: common_voice_en_144047.mp3:  Set my T's on H.\n",
      "2025-10-07 03:56:11,556 INFO - ✓ Worker 6: common_voice_en_143090.mp3:  A woman watches a man receiving a gift.\n",
      "2025-10-07 03:56:11,633 INFO - ✓ Worker 7: common_voice_en_148060.mp3:  Will it be hot in the current place?\n",
      "2025-10-07 03:56:11,753 INFO - ✓ Worker 8: common_voice_en_143114.mp3:  An Attractive Women Ice Gating.\n",
      "2025-10-07 03:56:12,316 INFO - ✓ Worker 0: common_voice_en_143081.mp3:  Five women engaged in a soccer game.\n",
      "2025-10-07 03:56:12,405 INFO - ✓ Worker 10: common_voice_en_148660.mp3:  3 boys are playing Mono Poly on the table.\n",
      "2025-10-07 03:56:12,411 INFO - ✓ Worker 3: common_voice_en_143068.mp3:  A group of students are sitting outside on campus.\n",
      "2025-10-07 03:56:12,645 INFO - ✓ Worker 5: common_voice_en_148049.mp3:  Tedious as a twice told tale.\n",
      "2025-10-07 03:56:13,242 INFO - ✓ Worker 11: common_voice_en_148058.mp3:  Put this Jerry Dixon song onto my Tokyo Rising playlist.\n",
      "2025-10-07 03:56:13,257 INFO - ✓ Worker 4: common_voice_en_143118.mp3:  Two dogs jumping on one another on a grassy area covered in leaves.\n",
      "2025-10-07 03:56:13,742 INFO - ✓ Worker 2: common_voice_en_143055.mp3:  An older gentleman in a brown cap looking at a younger gentleman's arm.\n",
      "2025-10-07 03:56:13,900 INFO - ✓ Worker 14: common_voice_en_148665.mp3:  A state history busy with people and cars.\n",
      "2025-10-07 03:56:14,062 INFO - ✓ Worker 12: common_voice_en_148674.mp3:  You'll smell how it plays with a Batman toy car.\n",
      "2025-10-07 03:56:14,667 INFO - ✓ Worker 1: common_voice_en_148667.mp3:  The man enjoying the drink in the car.\n",
      "2025-10-07 03:56:15,351 INFO - ✓ Worker 13: common_voice_en_148658.mp3:  Punked Music guitar pawns at the camera from his position on the stage.\n",
      "2025-10-07 03:56:15,417 INFO - ✓ Worker 0: common_voice_en_148662.mp3:  Dog cheeses, another dog.\n",
      "2025-10-07 03:56:16,647 INFO - ✓ Worker 8: common_voice_en_150121.mp3:  The men who bought them last week was American.\n",
      "2025-10-07 03:56:16,778 INFO - ✓ Worker 7: common_voice_en_150913.mp3:  A VFW group standard attention at a funeral.\n",
      "2025-10-07 03:56:17,036 INFO - ✓ Worker 3: common_voice_en_150905.mp3:  A person with a red umbrella walking down a snowy street.\n",
      "2025-10-07 03:56:17,196 INFO - ✓ Worker 6: common_voice_en_148026.mp3:  Book a reservation for seven people at a steakhouse in Kenya.\n",
      "2025-10-07 03:56:17,202 INFO - ✓ Worker 15: common_voice_en_150004.mp3:  The pre-packaged binaries are several years out of date, so I recommend cloning their git repositor...\n",
      "2025-10-07 03:56:17,289 INFO - ✓ Worker 2: common_voice_en_148666.mp3:  Children are in Odin boat on a lake.\n",
      "2025-10-07 03:56:17,477 INFO - ✓ Worker 5: common_voice_en_150906.mp3:  Two men in red shirts are standing with a man in a black shirt.\n",
      "2025-10-07 03:56:17,499 INFO - ✓ Worker 9: common_voice_en_150910.mp3:  A woman with reddish hair applies mascara to her eyelashes.\n",
      "2025-10-07 03:56:17,799 INFO - ✓ Worker 11: common_voice_en_150909.mp3:  Two ladies wearing dresses pose on the side of a road at night.\n",
      "2025-10-07 03:56:17,801 INFO - ✓ Worker 10: common_voice_en_150907.mp3:  A smiling man in a red shirt sits at the wheel of a blue truck.\n",
      "2025-10-07 03:56:17,917 INFO - ✓ Worker 4: common_voice_en_143601.mp3:  I wonder what's eating that old money-grubbing buzzard anyway.\n",
      "2025-10-07 03:56:17,975 INFO - ✓ Worker 12: common_voice_en_150912.mp3:  A older woman wearing a black dress holding a loaf of bread by a doorway.\n",
      "2025-10-07 03:56:18,007 INFO - ✓ Worker 13: common_voice_en_150908.mp3:  A young girl in a pink dress stands on a sidewalk.\n",
      "2025-10-07 03:56:18,077 INFO - ✓ Worker 14: common_voice_en_150911.mp3:  A small child is climbing up playground equipment while hands reach door to her from behind bars.\n",
      "2025-10-07 03:56:18,246 INFO - ✓ Worker 15: common_voice_en_150914.mp3:  A crowd of people are standing in front of a tent for the American Parkinson's Disease Association.\n"
     ]
    },
    {
     "name": "stderr",
     "output_type": "stream",
     "text": [
      "Downloading batch 17:   2%|▏         | 1/48 [00:00<00:08,  5.82it/s]"
     ]
    },
    {
     "name": "stdout",
     "output_type": "stream",
     "text": [
      "2025-10-07 03:56:19,080 WARNING - Connection pool is full, discarding connection: asrelder-data.s3.amazonaws.com. Connection pool size: 10\n"
     ]
    },
    {
     "name": "stderr",
     "output_type": "stream",
     "text": [
      "Downloading batch 17:  42%|████▏     | 20/48 [00:00<00:00, 89.31it/s]"
     ]
    },
    {
     "name": "stdout",
     "output_type": "stream",
     "text": [
      "2025-10-07 03:56:19,190 WARNING - Connection pool is full, discarding connection: asrelder-data.s3.amazonaws.com. Connection pool size: 10\n"
     ]
    },
    {
     "name": "stderr",
     "output_type": "stream",
     "text": [
      "Downloading batch 17:  85%|████████▌ | 41/48 [00:00<00:00, 135.78it/s]"
     ]
    },
    {
     "name": "stdout",
     "output_type": "stream",
     "text": [
      "2025-10-07 03:56:19,196 WARNING - Connection pool is full, discarding connection: asrelder-data.s3.amazonaws.com. Connection pool size: 10\n",
      "2025-10-07 03:56:19,198 WARNING - Connection pool is full, discarding connection: asrelder-data.s3.amazonaws.com. Connection pool size: 10\n",
      "2025-10-07 03:56:19,202 WARNING - Connection pool is full, discarding connection: asrelder-data.s3.amazonaws.com. Connection pool size: 10\n",
      "2025-10-07 03:56:19,211 WARNING - Connection pool is full, discarding connection: asrelder-data.s3.amazonaws.com. Connection pool size: 10\n",
      "2025-10-07 03:56:19,220 WARNING - Connection pool is full, discarding connection: asrelder-data.s3.amazonaws.com. Connection pool size: 10\n",
      "2025-10-07 03:56:19,222 WARNING - Connection pool is full, discarding connection: asrelder-data.s3.amazonaws.com. Connection pool size: 10\n",
      "2025-10-07 03:56:19,237 WARNING - Connection pool is full, discarding connection: asrelder-data.s3.amazonaws.com. Connection pool size: 10\n"
     ]
    },
    {
     "name": "stderr",
     "output_type": "stream",
     "text": [
      "Downloading batch 17: 100%|██████████| 48/48 [00:00<00:00, 114.14it/s]"
     ]
    },
    {
     "name": "stdout",
     "output_type": "stream",
     "text": [
      "2025-10-07 03:56:19,239 INFO - Transcribing 48 files in parallel...\n"
     ]
    },
    {
     "name": "stderr",
     "output_type": "stream",
     "text": [
      "\n"
     ]
    },
    {
     "name": "stdout",
     "output_type": "stream",
     "text": [
      "2025-10-07 03:56:22,446 INFO - ✓ Worker 2: common_voice_en_155779.mp3:  Rate the hundred brothers to stars.\n",
      "2025-10-07 03:56:22,545 INFO - ✓ Worker 12: common_voice_en_156039.mp3:  A small boy eating chocolate cake.\n",
      "2025-10-07 03:56:22,545 INFO - ✓ Worker 6: common_voice_en_151638.mp3:  I thought you were asleep.\n",
      "2025-10-07 03:56:22,909 INFO - ✓ Worker 0: common_voice_en_1524209.mp3:  He sent the boy on a short errand.\n",
      "2025-10-07 03:56:23,263 INFO - ✓ Worker 15: common_voice_en_153038.mp3:  A bald man putting on a red shirt.\n",
      "2025-10-07 03:56:23,320 INFO - ✓ Worker 3: common_voice_en_15268.mp3:  A sky jumper falls toward the sea and the earth.\n",
      "2025-10-07 03:56:23,357 INFO - ✓ Worker 11: common_voice_en_15273.mp3:  A man tests model airplanes in an open field.\n",
      "2025-10-07 03:56:23,906 INFO - ✓ Worker 8: common_voice_en_156034.mp3:  Two musicians are playing a tune together at a construction site.\n",
      "2025-10-07 03:56:24,062 INFO - ✓ Worker 10: common_voice_en_156035.mp3:  A woman and child are blowing on a candle in a cupcake.\n",
      "2025-10-07 03:56:24,417 INFO - ✓ Worker 5: common_voice_en_153034.mp3:  It was camouflage so well that no one would have suspected its presence.\n",
      "2025-10-07 03:56:24,488 INFO - ✓ Worker 4: common_voice_en_15269.mp3:  A guy tries to climb a stone cliff while his friend helps him.\n",
      "2025-10-07 03:56:24,531 INFO - ✓ Worker 13: common_voice_en_156040.mp3:  A man wearing a tan jacket walks into Lemignon in the afternoon.\n",
      "2025-10-07 03:56:24,561 INFO - ✓ Worker 14: common_voice_en_15278.mp3:  A bride and groom are sitting by a tree smiling at one another.\n",
      "2025-10-07 03:56:24,627 INFO - ✓ Worker 9: common_voice_en_15265.mp3:  Men with guitar holding a microphone in one hand and extending his other arm.\n",
      "2025-10-07 03:56:24,931 INFO - ✓ Worker 7: common_voice_en_150915.mp3:  A man with a safety vest is kneeling down and cleaning the bricks.\n",
      "2025-10-07 03:56:25,542 INFO - ✓ Worker 1: common_voice_en_150916.mp3:  A man wearing a white bun down shirt looking out of a window of a train.\n",
      "2025-10-07 03:56:26,040 INFO - ✓ Worker 2: common_voice_en_156038.mp3:  Children gathered around a woman on the sidewalk.\n",
      "2025-10-07 03:56:26,605 INFO - ✓ Worker 3: common_voice_en_15389598.mp3:  The visual apuity is astonishing.\n",
      "2025-10-07 03:56:26,804 INFO - ✓ Worker 6: common_voice_en_156036.mp3:  Hipster performs on the acoustic guitar.\n",
      "2025-10-07 03:56:27,415 INFO - ✓ Worker 0: common_voice_en_15275.mp3:  A motorcyclist receives a round of track.\n",
      "2025-10-07 03:56:28,118 INFO - ✓ Worker 4: common_voice_en_15276.mp3:  Man making an announcement at a library.\n",
      "2025-10-07 03:56:28,251 INFO - ✓ Worker 1: common_voice_en_154270.mp3:  Did you get the mail?\n",
      "2025-10-07 03:56:28,509 INFO - ✓ Worker 8: common_voice_en_153120.mp3:  Humidity in Nettawaka, West Compton.\n",
      "2025-10-07 03:56:28,675 INFO - ✓ Worker 11: common_voice_en_156051.mp3:  Three people walk by a mural of a cow.\n",
      "2025-10-07 03:56:28,843 INFO - ✓ Worker 9: common_voice_en_156045.mp3:  Three people crossing a path of stones over a pond.\n",
      "2025-10-07 03:56:28,895 INFO - ✓ Worker 5: common_voice_en_15272.mp3:  An African American man smoking a cigarette outside the large building.\n",
      "2025-10-07 03:56:28,943 INFO - ✓ Worker 12: common_voice_en_156049.mp3:  A group of children in the circle are raising their hands.\n",
      "2025-10-07 03:56:29,424 INFO - ✓ Worker 15: common_voice_en_156050.mp3:  Two people are in a sky carriage.\n",
      "2025-10-07 03:56:29,663 INFO - ✓ Worker 7: common_voice_en_156042.mp3:  A man rubbing his hands on some type of metal object.\n",
      "2025-10-07 03:56:29,705 INFO - ✓ Worker 14: common_voice_en_156053.mp3:  People meandering around in a grassy area with trees.\n",
      "2025-10-07 03:56:30,096 INFO - ✓ Worker 10: common_voice_en_156043.mp3:  A shaven head young man wears headphones and works with a mixing board.\n",
      "2025-10-07 03:56:30,151 INFO - ✓ Worker 13: common_voice_en_156046.mp3:  Three men sit at the table outside of the store playing mahjong.\n",
      "2025-10-07 03:56:31,487 INFO - ✓ Worker 2: common_voice_en_156059.mp3:  A man and a woman in orange on the floor scrubbing.\n",
      "2025-10-07 03:56:31,875 INFO - ✓ Worker 0: common_voice_en_156052.mp3:  And man motions with his arms in an area with many trees.\n",
      "2025-10-07 03:56:32,085 INFO - ✓ Worker 3: common_voice_en_156054.mp3:  Two men watching another man in a blue-hard hat working.\n",
      "2025-10-07 03:56:32,179 INFO - ✓ Worker 9: common_voice_en_156074.mp3:  Two men with children on their shoulders.\n",
      "2025-10-07 03:56:32,397 INFO - ✓ Worker 8: common_voice_en_156070.mp3:  Three men are sitting at the bench with drinks.\n",
      "2025-10-07 03:56:32,499 INFO - ✓ Worker 6: common_voice_en_156071.mp3:  to woman in dresses smiling at the camera.\n",
      "2025-10-07 03:56:32,590 INFO - ✓ Worker 7: common_voice_en_156062.mp3:  Person rubbing or holding back of head.\n",
      "2025-10-07 03:56:32,605 INFO - ✓ Worker 11: common_voice_en_156068.mp3:  People are doing various activities on the beach.\n",
      "2025-10-07 03:56:32,756 INFO - ✓ Worker 1: common_voice_en_156058.mp3:  A young woman wearing a yellow sweater and black pants is ice skating outdoors.\n",
      "2025-10-07 03:56:32,758 INFO - ✓ Worker 12: common_voice_en_156069.mp3:  The police officer waves at the street fair.\n",
      "2025-10-07 03:56:32,856 INFO - ✓ Worker 4: common_voice_en_156061.mp3:  Two women stand next to water and take a picture with a disposable camera.\n",
      "2025-10-07 03:56:32,869 INFO - ✓ Worker 15: common_voice_en_156072.mp3:  A person is keen in deep snow.\n",
      "2025-10-07 03:56:32,937 INFO - ✓ Worker 5: common_voice_en_156063.mp3:  I'm doing skateboard trick in air while being videotaped.\n",
      "2025-10-07 03:56:32,993 INFO - ✓ Worker 10: common_voice_en_156073.mp3:  If you may last let it gets ready to run.\n",
      "2025-10-07 03:56:33,107 INFO - ✓ Worker 14: common_voice_en_156056.mp3:  A group of people picnic on a grassy hill near the ocean.\n",
      "2025-10-07 03:56:33,136 INFO - ✓ Worker 13: common_voice_en_156065.mp3:  A sitting man covering his mouth, sitting on the sidewalk with a table of fruit.\n"
     ]
    },
    {
     "name": "stderr",
     "output_type": "stream",
     "text": [
      "Downloading batch 18:  33%|███▎      | 16/48 [00:00<00:00, 68.07it/s]"
     ]
    },
    {
     "name": "stdout",
     "output_type": "stream",
     "text": [
      "2025-10-07 03:56:34,035 WARNING - Connection pool is full, discarding connection: asrelder-data.s3.amazonaws.com. Connection pool size: 10\n",
      "2025-10-07 03:56:34,042 WARNING - Connection pool is full, discarding connection: asrelder-data.s3.amazonaws.com. Connection pool size: 10\n",
      "2025-10-07 03:56:34,045 WARNING - Connection pool is full, discarding connection: asrelder-data.s3.amazonaws.com. Connection pool size: 10\n",
      "2025-10-07 03:56:34,047 WARNING - Connection pool is full, discarding connection: asrelder-data.s3.amazonaws.com. Connection pool size: 10\n",
      "2025-10-07 03:56:34,048 WARNING - Connection pool is full, discarding connection: asrelder-data.s3.amazonaws.com. Connection pool size: 10\n",
      "2025-10-07 03:56:34,048 WARNING - Connection pool is full, discarding connection: asrelder-data.s3.amazonaws.com. Connection pool size: 10\n",
      "2025-10-07 03:56:34,094 WARNING - Connection pool is full, discarding connection: asrelder-data.s3.amazonaws.com. Connection pool size: 10\n"
     ]
    },
    {
     "name": "stderr",
     "output_type": "stream",
     "text": [
      "Downloading batch 18:  92%|█████████▏| 44/48 [00:00<00:00, 146.20it/s]"
     ]
    },
    {
     "name": "stdout",
     "output_type": "stream",
     "text": [
      "2025-10-07 03:56:34,099 WARNING - Connection pool is full, discarding connection: asrelder-data.s3.amazonaws.com. Connection pool size: 10\n",
      "2025-10-07 03:56:34,103 WARNING - Connection pool is full, discarding connection: asrelder-data.s3.amazonaws.com. Connection pool size: 10\n",
      "2025-10-07 03:56:34,110 WARNING - Connection pool is full, discarding connection: asrelder-data.s3.amazonaws.com. Connection pool size: 10\n",
      "2025-10-07 03:56:34,113 WARNING - Connection pool is full, discarding connection: asrelder-data.s3.amazonaws.com. Connection pool size: 10\n"
     ]
    },
    {
     "name": "stderr",
     "output_type": "stream",
     "text": [
      "Downloading batch 18: 100%|██████████| 48/48 [00:00<00:00, 119.40it/s]"
     ]
    },
    {
     "name": "stdout",
     "output_type": "stream",
     "text": [
      "2025-10-07 03:56:34,115 INFO - Transcribing 48 files in parallel...\n"
     ]
    },
    {
     "name": "stderr",
     "output_type": "stream",
     "text": [
      "\n"
     ]
    },
    {
     "name": "stdout",
     "output_type": "stream",
     "text": [
      "2025-10-07 03:56:37,390 INFO - ✓ Worker 8: common_voice_en_156092.mp3:  There are three kids outside sitting.\n",
      "2025-10-07 03:56:37,589 INFO - ✓ Worker 11: common_voice_en_156085.mp3:  The medical team is performing a surgery.\n",
      "2025-10-07 03:56:37,597 INFO - ✓ Worker 0: common_voice_en_156076.mp3:  Three women are walking on the sidewalk.\n",
      "2025-10-07 03:56:38,204 INFO - ✓ Worker 12: common_voice_en_156102.mp3:  Three boys leaping into a swimming pool.\n",
      "2025-10-07 03:56:38,318 INFO - ✓ Worker 2: common_voice_en_156078.mp3:  These people are gathered in a room reading something.\n",
      "2025-10-07 03:56:38,613 INFO - ✓ Worker 7: common_voice_en_156099.mp3:  The group of girls are smiling while posing for a picture.\n",
      "2025-10-07 03:56:38,629 INFO - ✓ Worker 15: common_voice_en_156094.mp3:  Biker fixing a flat on the side of a trail.\n",
      "2025-10-07 03:56:38,706 INFO - ✓ Worker 9: common_voice_en_156091.mp3:  A boy on a deck with a red bucket on his head.\n",
      "2025-10-07 03:56:38,722 INFO - ✓ Worker 13: common_voice_en_156088.mp3:  Distant horse rider on plane in the middle of brown mountains.\n",
      "2025-10-07 03:56:38,816 INFO - ✓ Worker 10: common_voice_en_156077.mp3:  A man is using a tool on these long pieces of wood.\n",
      "2025-10-07 03:56:39,041 INFO - ✓ Worker 3: common_voice_en_156095.mp3:  A beach vacation photo that shows from the restaurant down to the ocean.\n",
      "2025-10-07 03:56:39,143 INFO - ✓ Worker 14: common_voice_en_156079.mp3:  Two young girls riding a bike with a basket during the day.\n",
      "2025-10-07 03:56:39,465 INFO - ✓ Worker 6: common_voice_en_156081.mp3:  Man play musical instruments standing beside a yellow and red fire hydrant.\n",
      "2025-10-07 03:56:39,478 INFO - ✓ Worker 1: common_voice_en_156080.mp3:  A little girl leans over to get a closer look at the cow.\n",
      "2025-10-07 03:56:39,609 INFO - ✓ Worker 4: common_voice_en_156096.mp3:  A girl is sitting in a chair blowing up a large yellow party balloon.\n",
      "2025-10-07 03:56:40,216 INFO - ✓ Worker 5: common_voice_en_156098.mp3:  A man wearing sunglasses is playing a guitar and three girls are sitting next to him.\n",
      "2025-10-07 03:56:41,542 INFO - ✓ Worker 0: common_voice_en_156107.mp3:  A man works by a building with many signs outside.\n",
      "2025-10-07 03:56:42,047 INFO - ✓ Worker 9: common_voice_en_156082.mp3:  They are biking in the streets.\n",
      "2025-10-07 03:56:42,401 INFO - ✓ Worker 2: common_voice_en_156087.mp3:  Bicyclists roam through the vendor's corner.\n",
      "2025-10-07 03:56:42,670 INFO - ✓ Worker 3: common_voice_en_156100.mp3:  People throwing tomatoes at each other during festival.\n",
      "2025-10-07 03:56:42,839 INFO - ✓ Worker 13: common_voice_en_156119.mp3:  The three children are in a cage.\n",
      "2025-10-07 03:56:42,875 INFO - ✓ Worker 7: common_voice_en_156115.mp3:  A young child playing with his toy trains.\n",
      "2025-10-07 03:56:43,422 INFO - ✓ Worker 11: common_voice_en_156117.mp3:  An older woman is drinking tea and reading a newspaper.\n",
      "2025-10-07 03:56:43,546 INFO - ✓ Worker 10: common_voice_en_156114.mp3:  A woman in a black cap and outfit sits in the sand.\n",
      "2025-10-07 03:56:43,658 INFO - ✓ Worker 5: common_voice_en_156103.mp3:  A chewing crowd is gathered behind the reporter.\n",
      "2025-10-07 03:56:44,016 INFO - ✓ Worker 8: common_voice_en_156111.mp3:  A girl with a black bag in a cramped position on a train.\n",
      "2025-10-07 03:56:44,019 INFO - ✓ Worker 14: common_voice_en_156116.mp3:  A smiling little boy holds a hand mixer in a bowl.\n",
      "2025-10-07 03:56:44,189 INFO - ✓ Worker 12: common_voice_en_156121.mp3:  Two elder women have a conversation outdoors in front of a house.\n",
      "2025-10-07 03:56:44,453 INFO - ✓ Worker 15: common_voice_en_156120.mp3:  A woman in a green t-shirt speaks into a microphone.\n",
      "2025-10-07 03:56:45,058 INFO - ✓ Worker 4: common_voice_en_156097.mp3:  A man about to spike a volley ball against an opposing team in their Olympics.\n",
      "2025-10-07 03:56:45,149 INFO - ✓ Worker 1: common_voice_en_156086.mp3:  A bike rider is airborne off a jump while another kid on a bike looks on.\n",
      "2025-10-07 03:56:45,836 INFO - ✓ Worker 6: common_voice_en_156104.mp3:  An Asian woman walking along a lighted city street at night while talking on her cell phone.\n",
      "2025-10-07 03:56:46,049 INFO - ✓ Worker 2: common_voice_en_156129.mp3:  for children in a fake egg having fun.\n",
      "2025-10-07 03:56:46,721 INFO - ✓ Worker 0: common_voice_en_156110.mp3:  People equipped with hiking parks and walking sticks are climbing a snowy mountain.\n",
      "2025-10-07 03:56:47,699 INFO - ✓ Worker 12: common_voice_en_156142.mp3:  A man bowls a green bowling bowl.\n",
      "2025-10-07 03:56:47,798 INFO - ✓ Worker 7: common_voice_en_156132.mp3:  A blonde lady in a yellow shirt is walking toward the camera.\n",
      "2025-10-07 03:56:47,819 INFO - ✓ Worker 3: common_voice_en_156123.mp3:  A male dress in a white shirt with white shorts, paints a white wall black.\n",
      "2025-10-07 03:56:47,873 INFO - ✓ Worker 13: common_voice_en_156134.mp3:  People staring up at the fair.\n",
      "2025-10-07 03:56:47,981 INFO - ✓ Worker 9: common_voice_en_156144.mp3:  A snowboarder performs a grab trick in the air.\n",
      "2025-10-07 03:56:48,101 INFO - ✓ Worker 10: common_voice_en_156141.mp3:  Two men are pushing a stroller in an amusement park.\n",
      "2025-10-07 03:56:48,103 INFO - ✓ Worker 1: common_voice_en_156126.mp3:  A surfer rides the wave out.\n",
      "2025-10-07 03:56:48,108 INFO - ✓ Worker 5: common_voice_en_156125.mp3:  A woman with a handbag walks past the Chinese store of some sort.\n",
      "2025-10-07 03:56:48,179 INFO - ✓ Worker 8: common_voice_en_156131.mp3:  A boy rides a Segway scooter through a crowded city plaza.\n",
      "2025-10-07 03:56:48,197 INFO - ✓ Worker 11: common_voice_en_156140.mp3:  The two girls and their dad are looking in at the path.\n",
      "2025-10-07 03:56:48,291 INFO - ✓ Worker 14: common_voice_en_156143.mp3:  A lot of people walking around outside of a building.\n",
      "2025-10-07 03:56:48,347 INFO - ✓ Worker 4: common_voice_en_156127.mp3:  Poor student folk artists panhandle for basmone.\n",
      "2025-10-07 03:56:48,411 INFO - ✓ Worker 6: common_voice_en_156128.mp3:  A man on a motorcycle does a wheelie on the truck.\n",
      "2025-10-07 03:56:48,449 INFO - ✓ Worker 15: common_voice_en_156136.mp3:  3 men's sit and 1 men's stands on the back of a vehicle.\n"
     ]
    },
    {
     "name": "stderr",
     "output_type": "stream",
     "text": [
      "Downloading batch 19:   2%|▏         | 1/48 [00:00<00:08,  5.61it/s]"
     ]
    },
    {
     "name": "stdout",
     "output_type": "stream",
     "text": [
      "2025-10-07 03:56:49,281 WARNING - Connection pool is full, discarding connection: asrelder-data.s3.amazonaws.com. Connection pool size: 10\n",
      "2025-10-07 03:56:49,282 WARNING - Connection pool is full, discarding connection: asrelder-data.s3.amazonaws.com. Connection pool size: 10\n"
     ]
    },
    {
     "name": "stderr",
     "output_type": "stream",
     "text": [
      "Downloading batch 19:  46%|████▌     | 22/48 [00:00<00:00, 91.54it/s]"
     ]
    },
    {
     "name": "stdout",
     "output_type": "stream",
     "text": [
      "2025-10-07 03:56:49,391 WARNING - Connection pool is full, discarding connection: asrelder-data.s3.amazonaws.com. Connection pool size: 10\n",
      "2025-10-07 03:56:49,395 WARNING - Connection pool is full, discarding connection: asrelder-data.s3.amazonaws.com. Connection pool size: 10\n",
      "2025-10-07 03:56:49,401 WARNING - Connection pool is full, discarding connection: asrelder-data.s3.amazonaws.com. Connection pool size: 10\n",
      "2025-10-07 03:56:49,408 WARNING - Connection pool is full, discarding connection: asrelder-data.s3.amazonaws.com. Connection pool size: 10\n",
      "2025-10-07 03:56:49,412 WARNING - Connection pool is full, discarding connection: asrelder-data.s3.amazonaws.com. Connection pool size: 10\n",
      "2025-10-07 03:56:49,418 WARNING - Connection pool is full, discarding connection: asrelder-data.s3.amazonaws.com. Connection pool size: 10\n",
      "2025-10-07 03:56:49,444 WARNING - Connection pool is full, discarding connection: asrelder-data.s3.amazonaws.com. Connection pool size: 10\n",
      "2025-10-07 03:56:49,445 WARNING - Connection pool is full, discarding connection: asrelder-data.s3.amazonaws.com. Connection pool size: 10\n"
     ]
    },
    {
     "name": "stderr",
     "output_type": "stream",
     "text": [
      "Downloading batch 19: 100%|██████████| 48/48 [00:00<00:00, 115.34it/s]"
     ]
    },
    {
     "name": "stdout",
     "output_type": "stream",
     "text": [
      "2025-10-07 03:56:49,449 INFO - Transcribing 48 files in parallel...\n"
     ]
    },
    {
     "name": "stderr",
     "output_type": "stream",
     "text": [
      "\n"
     ]
    },
    {
     "name": "stdout",
     "output_type": "stream",
     "text": [
      "2025-10-07 03:56:52,651 INFO - ✓ Worker 7: common_voice_en_156168.mp3:  A dog plays with the toy.\n",
      "2025-10-07 03:56:53,125 INFO - ✓ Worker 14: common_voice_en_156157.mp3:  Three people are laying on a beach.\n",
      "2025-10-07 03:56:53,558 INFO - ✓ Worker 3: common_voice_en_156151.mp3:  A man attempting to climb a fake rock wall.\n",
      "2025-10-07 03:56:53,797 INFO - ✓ Worker 12: common_voice_en_156170.mp3:  Several young men are playing volleyball, one is jumping.\n",
      "2025-10-07 03:56:53,819 INFO - ✓ Worker 6: common_voice_en_156150.mp3:  A boy with a golden crown and a white robe.\n",
      "2025-10-07 03:56:53,837 INFO - ✓ Worker 1: common_voice_en_156154.mp3:  Eman is holding a sign directing people to a restaurant.\n",
      "2025-10-07 03:56:54,035 INFO - ✓ Worker 8: common_voice_en_156156.mp3:  a man stands in the midst of a bike wheels.\n",
      "2025-10-07 03:56:54,614 INFO - ✓ Worker 2: common_voice_en_156149.mp3:  ML Performer is singing on stage with his band while playing a guitar.\n",
      "2025-10-07 03:56:54,685 INFO - ✓ Worker 11: common_voice_en_156162.mp3:  A woman in a red coat walks past the man with a large beard.\n",
      "2025-10-07 03:56:54,730 INFO - ✓ Worker 10: common_voice_en_156158.mp3:  A person riding a horse trying to roll a calf that is running from them.\n",
      "2025-10-07 03:56:54,746 INFO - ✓ Worker 0: common_voice_en_156147.mp3:  Hiker stops to look at the snowy scenery while climbing the mountains.\n",
      "2025-10-07 03:56:54,833 INFO - ✓ Worker 5: common_voice_en_156169.mp3:  Two young girls jump off or over a concrete barrier in an inner city park.\n",
      "2025-10-07 03:56:55,134 INFO - ✓ Worker 13: common_voice_en_156166.mp3:  The girl in the blue coat is holding a purple cap to water bottle.\n",
      "2025-10-07 03:56:55,275 INFO - ✓ Worker 4: common_voice_en_156155.mp3:  A woman in pink and the man wearing an apron watch a food-covered grill.\n",
      "2025-10-07 03:56:55,387 INFO - ✓ Worker 9: common_voice_en_156165.mp3:  A manly green shirt begins to jump over PacWords as another helps him.\n",
      "2025-10-07 03:56:55,795 INFO - ✓ Worker 15: common_voice_en_156163.mp3:  An older woman with glasses is serving herself a raclette in a rustic looking room.\n",
      "2025-10-07 03:56:57,185 INFO - ✓ Worker 1: common_voice_en_156161.mp3:  A dog runs up some outdoor steps.\n",
      "2025-10-07 03:56:57,865 INFO - ✓ Worker 6: common_voice_en_156172.mp3:  A young girl that is wearing a cat costume.\n",
      "2025-10-07 03:56:58,032 INFO - ✓ Worker 2: common_voice_en_156164.mp3:  White fluffy dog running in the dirt.\n",
      "2025-10-07 03:56:58,302 INFO - ✓ Worker 7: common_voice_en_156181.mp3:  A woman helps a young girl in the classroom.\n",
      "2025-10-07 03:56:58,581 INFO - ✓ Worker 8: common_voice_en_156176.mp3:  Two cyclists are racing on a country road.\n",
      "2025-10-07 03:56:58,818 INFO - ✓ Worker 4: common_voice_en_156173.mp3:  Children watch a pigeon in a public square.\n",
      "2025-10-07 03:56:58,840 INFO - ✓ Worker 14: common_voice_en_156189.mp3:  An army dog being trained by soldier.\n",
      "2025-10-07 03:56:59,354 INFO - ✓ Worker 9: common_voice_en_156159.mp3:  A dog swimming with a stick in his mouth.\n",
      "2025-10-07 03:56:59,428 INFO - ✓ Worker 3: common_voice_en_156145.mp3:  A woman in a blue shirt rinsing out her mop on the street.\n",
      "2025-10-07 03:56:59,549 INFO - ✓ Worker 5: common_voice_en_156171.mp3:  The child is watching the elderly women put something on her head.\n",
      "2025-10-07 03:57:00,022 INFO - ✓ Worker 13: common_voice_en_156182.mp3:  Someone in the line green shirt is holding on to a tree.\n",
      "2025-10-07 03:57:00,081 INFO - ✓ Worker 0: common_voice_en_156160.mp3:  Valerina's dancing on a large stage under blue spotlights.\n",
      "2025-10-07 03:57:00,213 INFO - ✓ Worker 10: common_voice_en_156185.mp3:  A man on a phone and a woman are in front of a wall.\n",
      "2025-10-07 03:57:00,428 INFO - ✓ Worker 15: common_voice_en_156195.mp3:  Young black boys walk around on sand on a sunny day.\n",
      "2025-10-07 03:57:00,908 INFO - ✓ Worker 12: common_voice_en_156187.mp3:  The woman pounding something with a rock with a guinea pig in the background.\n",
      "2025-10-07 03:57:01,113 INFO - ✓ Worker 11: common_voice_en_156177.mp3:  Guy in an orange vest on a lawn tractor mowing his lawn on a sunny day.\n",
      "2025-10-07 03:57:01,721 INFO - ✓ Worker 4: common_voice_en_156198.mp3:  A crowd of people laughing.\n",
      "2025-10-07 03:57:02,622 INFO - ✓ Worker 5: common_voice_en_156190.mp3:  A boy with a toy gun.\n",
      "2025-10-07 03:57:02,944 INFO - ✓ Worker 2: common_voice_en_156191.mp3:  The daughter admits that her mom is cool in her aviator sunglasses.\n",
      "2025-10-07 03:57:03,240 INFO - ✓ Worker 6: common_voice_en_156183.mp3:  a monk using an umbrella to stay out of the sun.\n",
      "2025-10-07 03:57:03,473 INFO - ✓ Worker 13: common_voice_en_156196.mp3:  Three young woman adults in a group.\n",
      "2025-10-07 03:57:03,556 INFO - ✓ Worker 7: common_voice_en_156188.mp3:  Women sells flowers from a card with a large red umbrella.\n",
      "2025-10-07 03:57:03,662 INFO - ✓ Worker 0: common_voice_en_156178.mp3:  Aman is sitting on a bench, cooking some food.\n",
      "2025-10-07 03:57:03,724 INFO - ✓ Worker 1: common_voice_en_156193.mp3:  A man with a bandana around his head is lifting a very heavy weight and smiling.\n",
      "2025-10-07 03:57:03,885 INFO - ✓ Worker 8: common_voice_en_156184.mp3:  A couple with bright hair embracing near a crowd of others.\n",
      "2025-10-07 03:57:03,998 INFO - ✓ Worker 11: common_voice_en_156201.mp3:  Old man is fixing overturned bike.\n",
      "2025-10-07 03:57:04,007 INFO - ✓ Worker 12: common_voice_en_156203.mp3:  A man works behind his fruit and vegetable stand.\n",
      "2025-10-07 03:57:04,021 INFO - ✓ Worker 3: common_voice_en_156192.mp3:  Two men are playing basketball on a basketball court with spectators behind them.\n",
      "2025-10-07 03:57:04,053 INFO - ✓ Worker 15: common_voice_en_156204.mp3:  A man in the human about to eat.\n",
      "2025-10-07 03:57:04,120 INFO - ✓ Worker 14: common_voice_en_156197.mp3:  A man uses his laptop while sitting in front of his window.\n",
      "2025-10-07 03:57:04,132 INFO - ✓ Worker 9: common_voice_en_156200.mp3:  A female singer sings passionately while the backup guitarist plays in the background.\n",
      "2025-10-07 03:57:04,152 INFO - ✓ Worker 10: common_voice_en_156205.mp3:  6 women are sitting on a brick bench and wearing purple and matching red and blue hats.\n"
     ]
    },
    {
     "name": "stderr",
     "output_type": "stream",
     "text": [
      "Downloading batch 20:   2%|▏         | 1/48 [00:00<00:08,  5.78it/s]"
     ]
    },
    {
     "name": "stdout",
     "output_type": "stream",
     "text": [
      "2025-10-07 03:57:04,992 WARNING - Connection pool is full, discarding connection: asrelder-data.s3.amazonaws.com. Connection pool size: 10\n"
     ]
    },
    {
     "name": "stderr",
     "output_type": "stream",
     "text": [
      "Downloading batch 20:  44%|████▍     | 21/48 [00:00<00:00, 91.25it/s]"
     ]
    },
    {
     "name": "stdout",
     "output_type": "stream",
     "text": [
      "2025-10-07 03:57:05,104 WARNING - Connection pool is full, discarding connection: asrelder-data.s3.amazonaws.com. Connection pool size: 10\n",
      "2025-10-07 03:57:05,104 WARNING - Connection pool is full, discarding connection: asrelder-data.s3.amazonaws.com. Connection pool size: 10\n",
      "2025-10-07 03:57:05,113 WARNING - Connection pool is full, discarding connection: asrelder-data.s3.amazonaws.com. Connection pool size: 10\n",
      "2025-10-07 03:57:05,115 WARNING - Connection pool is full, discarding connection: asrelder-data.s3.amazonaws.com. Connection pool size: 10\n",
      "2025-10-07 03:57:05,129 WARNING - Connection pool is full, discarding connection: asrelder-data.s3.amazonaws.com. Connection pool size: 10\n",
      "2025-10-07 03:57:05,132 WARNING - Connection pool is full, discarding connection: asrelder-data.s3.amazonaws.com. Connection pool size: 10\n",
      "2025-10-07 03:57:05,133 WARNING - Connection pool is full, discarding connection: asrelder-data.s3.amazonaws.com. Connection pool size: 10\n"
     ]
    },
    {
     "name": "stderr",
     "output_type": "stream",
     "text": [
      "Downloading batch 20:  94%|█████████▍| 45/48 [00:00<00:00, 142.51it/s]"
     ]
    },
    {
     "name": "stdout",
     "output_type": "stream",
     "text": [
      "2025-10-07 03:57:05,137 WARNING - Connection pool is full, discarding connection: asrelder-data.s3.amazonaws.com. Connection pool size: 10\n"
     ]
    },
    {
     "name": "stderr",
     "output_type": "stream",
     "text": [
      "Downloading batch 20: 100%|██████████| 48/48 [00:00<00:00, 121.71it/s]"
     ]
    },
    {
     "name": "stdout",
     "output_type": "stream",
     "text": [
      "2025-10-07 03:57:05,139 INFO - Transcribing 48 files in parallel...\n"
     ]
    },
    {
     "name": "stderr",
     "output_type": "stream",
     "text": [
      "\n"
     ]
    },
    {
     "name": "stdout",
     "output_type": "stream",
     "text": [
      "2025-10-07 03:57:08,204 INFO - ✓ Worker 7: common_voice_en_156231.mp3:  2 dogs in the snow.\n",
      "2025-10-07 03:57:08,622 INFO - ✓ Worker 13: common_voice_en_156235.mp3:  Two men working construction are sitting down.\n",
      "2025-10-07 03:57:08,646 INFO - ✓ Worker 1: common_voice_en_156215.mp3:  Two men with beards are walking.\n",
      "2025-10-07 03:57:08,876 INFO - ✓ Worker 4: common_voice_en_156219.mp3:  A dog running up a sandy hill.\n",
      "2025-10-07 03:57:09,209 INFO - ✓ Worker 3: common_voice_en_156208.mp3:  A little girl sitting on a string on the playground.\n",
      "2025-10-07 03:57:09,321 INFO - ✓ Worker 2: common_voice_en_156206.mp3:  A singer is wearing a clown costume in the makeup.\n",
      "2025-10-07 03:57:09,549 INFO - ✓ Worker 12: common_voice_en_156217.mp3:  The group of women is wearing an all-white costume.\n",
      "2025-10-07 03:57:09,570 INFO - ✓ Worker 9: common_voice_en_156229.mp3:  Women play volleyball while 2 referees manage the game.\n",
      "2025-10-07 03:57:09,619 INFO - ✓ Worker 5: common_voice_en_156225.mp3:  Numbers people are waiting in line on their way.\n",
      "2025-10-07 03:57:10,110 INFO - ✓ Worker 15: common_voice_en_156209.mp3:  The little boys coming out of the water is swimming pool.\n",
      "2025-10-07 03:57:10,346 INFO - ✓ Worker 14: common_voice_en_156232.mp3:  A man is lying in the grass with his arms outstretched.\n",
      "2025-10-07 03:57:10,446 INFO - ✓ Worker 8: common_voice_en_156230.mp3:  A boy appears to be dancing to music in a building filled with people.\n",
      "2025-10-07 03:57:10,679 INFO - ✓ Worker 11: common_voice_en_156211.mp3:  Scuba diver under the water holding small crustacean in his hands.\n",
      "2025-10-07 03:57:10,947 INFO - ✓ Worker 6: common_voice_en_156213.mp3:  A bald man is sitting at a red table with his hands on a laptop computer.\n",
      "2025-10-07 03:57:11,105 INFO - ✓ Worker 10: common_voice_en_156221.mp3:  A man wearing a blue shirt and hat jumping on one wheel on a fountain ledge.\n",
      "2025-10-07 03:57:11,265 INFO - ✓ Worker 1: common_voice_en_156220.mp3:  3 people with political signs\n",
      "2025-10-07 03:57:11,797 INFO - ✓ Worker 0: common_voice_en_156207.mp3:  And man wearing a heart is cooking up a variety of meats on a grill.\n",
      "2025-10-07 03:57:12,388 INFO - ✓ Worker 4: common_voice_en_156234.mp3:  Summon climbing a rock upside down.\n",
      "2025-10-07 03:57:13,612 INFO - ✓ Worker 7: common_voice_en_156237.mp3:  A woman with a head covering stands among goats.\n",
      "2025-10-07 03:57:14,209 INFO - ✓ Worker 9: common_voice_en_156245.mp3:  A man sleeveless shirt resting by the sidewalk.\n",
      "2025-10-07 03:57:14,291 INFO - ✓ Worker 2: common_voice_en_156224.mp3:  Eight people wearing red suits and carrying red bags are walking across a bridge.\n",
      "2025-10-07 03:57:14,337 INFO - ✓ Worker 13: common_voice_en_156240.mp3:  Man in black walking up a sidewalk.\n",
      "2025-10-07 03:57:14,807 INFO - ✓ Worker 3: common_voice_en_156216.mp3:  A man with a white t-shirt and red hat is working outside the house.\n",
      "2025-10-07 03:57:15,097 INFO - ✓ Worker 10: common_voice_en_156256.mp3:  A group of people looking at merchandise on the table.\n",
      "2025-10-07 03:57:15,396 INFO - ✓ Worker 5: common_voice_en_156226.mp3:  A half-busy city street with a mule pulling a trailer with brush on it.\n",
      "2025-10-07 03:57:15,538 INFO - ✓ Worker 12: common_voice_en_156250.mp3:  A man is playing on a stand-up base by plucking the strings.\n",
      "2025-10-07 03:57:15,669 INFO - ✓ Worker 8: common_voice_en_156233.mp3:  A person in a striped blue shirt and pants is running along.\n",
      "2025-10-07 03:57:15,836 INFO - ✓ Worker 11: common_voice_en_156247.mp3:  A man walking on a dirt road with a palm tree in the distance.\n",
      "2025-10-07 03:57:16,305 INFO - ✓ Worker 0: common_voice_en_156222.mp3:  A kayaking team in red battles down through the water.\n",
      "2025-10-07 03:57:16,423 INFO - ✓ Worker 15: common_voice_en_156242.mp3:  A group of racing dogs wearing striped uniforms with numbers run down the track.\n",
      "2025-10-07 03:57:16,559 INFO - ✓ Worker 6: common_voice_en_156218.mp3:  One military man executes a combat move on another outside a gated facility.\n",
      "2025-10-07 03:57:16,708 INFO - ✓ Worker 1: common_voice_en_156248.mp3:  A female factory worker placing a product on a conveyor belt.\n",
      "2025-10-07 03:57:16,879 INFO - ✓ Worker 14: common_voice_en_156253.mp3:  A couple in a red canoe, paddled down a rough river lined with trees.\n",
      "2025-10-07 03:57:17,992 INFO - ✓ Worker 2: common_voice_en_156244.mp3:  An elderly woman gets her blood pressure checked.\n",
      "2025-10-07 03:57:18,865 INFO - ✓ Worker 4: common_voice_en_156251.mp3:  A blonde dog walks in a creek with banks filled with snow.\n",
      "2025-10-07 03:57:18,954 INFO - ✓ Worker 10: common_voice_en_156258.mp3:  A child playing with bubbles and walking.\n",
      "2025-10-07 03:57:18,971 INFO - ✓ Worker 12: common_voice_en_156267.mp3:  Woman preparing food or drink.\n",
      "2025-10-07 03:57:19,170 INFO - ✓ Worker 3: common_voice_en_156254.mp3:  A man wearing a white shirt and he is having fun.\n",
      "2025-10-07 03:57:19,209 INFO - ✓ Worker 0: common_voice_en_156255.mp3:  A dog runs in the snow.\n",
      "2025-10-07 03:57:19,234 INFO - ✓ Worker 9: common_voice_en_156264.mp3:  Four children are playing on a hill of sand.\n",
      "2025-10-07 03:57:19,313 INFO - ✓ Worker 8: common_voice_en_156261.mp3:  People are going up and down on three escalators.\n",
      "2025-10-07 03:57:19,466 INFO - ✓ Worker 11: common_voice_en_156266.mp3:  Emergency workers with houses lined up and descending downstairs.\n",
      "2025-10-07 03:57:19,615 INFO - ✓ Worker 15: common_voice_en_156262.mp3:  Two dogs play together splashing in a lake.\n",
      "2025-10-07 03:57:19,657 INFO - ✓ Worker 7: common_voice_en_156252.mp3:  A young woman in a white blouse and blue skirt walks away from a building.\n",
      "2025-10-07 03:57:19,708 INFO - ✓ Worker 13: common_voice_en_156260.mp3:  To young girls, sumo wrestl while others watch.\n",
      "2025-10-07 03:57:19,746 INFO - ✓ Worker 6: common_voice_en_156249.mp3:  Two men walk in front of stonework while on the sidewalk.\n",
      "2025-10-07 03:57:19,748 INFO - ✓ Worker 5: common_voice_en_156257.mp3:  A man dressed in an orange vest is trimming the hedges with a lawn instrument.\n",
      "2025-10-07 03:57:19,820 INFO - ✓ Worker 14: common_voice_en_156263.mp3:  A silhouette of a little girl in a skirt runs down a bridge at the task.\n",
      "2025-10-07 03:57:19,829 INFO - Appended 240 rows to ./transcripts_from_prefix.csv\n"
     ]
    },
    {
     "name": "stderr",
     "output_type": "stream",
     "text": [
      "Downloading batch 21:   2%|▏         | 1/48 [00:00<00:07,  6.30it/s]"
     ]
    },
    {
     "name": "stdout",
     "output_type": "stream",
     "text": [
      "2025-10-07 03:57:20,654 WARNING - Connection pool is full, discarding connection: asrelder-data.s3.amazonaws.com. Connection pool size: 10\n",
      "2025-10-07 03:57:20,654 WARNING - Connection pool is full, discarding connection: asrelder-data.s3.amazonaws.com. Connection pool size: 10\n"
     ]
    },
    {
     "name": "stderr",
     "output_type": "stream",
     "text": [
      "Downloading batch 21:  46%|████▌     | 22/48 [00:00<00:00, 100.12it/s]"
     ]
    },
    {
     "name": "stdout",
     "output_type": "stream",
     "text": [
      "2025-10-07 03:57:20,655 WARNING - Connection pool is full, discarding connection: asrelder-data.s3.amazonaws.com. Connection pool size: 10\n"
     ]
    },
    {
     "name": "stderr",
     "output_type": "stream",
     "text": [
      "Downloading batch 21:  90%|████████▉ | 43/48 [00:00<00:00, 133.33it/s]"
     ]
    },
    {
     "name": "stdout",
     "output_type": "stream",
     "text": [
      "2025-10-07 03:57:20,796 WARNING - Connection pool is full, discarding connection: asrelder-data.s3.amazonaws.com. Connection pool size: 10\n",
      "2025-10-07 03:57:20,810 WARNING - Connection pool is full, discarding connection: asrelder-data.s3.amazonaws.com. Connection pool size: 10\n",
      "2025-10-07 03:57:20,817 WARNING - Connection pool is full, discarding connection: asrelder-data.s3.amazonaws.com. Connection pool size: 10\n",
      "2025-10-07 03:57:20,827 WARNING - Connection pool is full, discarding connection: asrelder-data.s3.amazonaws.com. Connection pool size: 10\n",
      "2025-10-07 03:57:20,836 WARNING - Connection pool is full, discarding connection: asrelder-data.s3.amazonaws.com. Connection pool size: 10\n"
     ]
    },
    {
     "name": "stderr",
     "output_type": "stream",
     "text": [
      "Downloading batch 21: 100%|██████████| 48/48 [00:00<00:00, 111.39it/s]"
     ]
    },
    {
     "name": "stdout",
     "output_type": "stream",
     "text": [
      "2025-10-07 03:57:20,838 INFO - Transcribing 48 files in parallel...\n"
     ]
    },
    {
     "name": "stderr",
     "output_type": "stream",
     "text": [
      "\n"
     ]
    },
    {
     "name": "stdout",
     "output_type": "stream",
     "text": [
      "2025-10-07 03:57:24,138 INFO - ✓ Worker 0: common_voice_en_156274.mp3:  A band is performing on stage.\n",
      "2025-10-07 03:57:24,406 INFO - ✓ Worker 7: common_voice_en_156286.mp3:  A group of men play rugby.\n",
      "2025-10-07 03:57:24,768 INFO - ✓ Worker 13: common_voice_en_156303.mp3:  A woman blowing on a dandelion.\n",
      "2025-10-07 03:57:25,035 INFO - ✓ Worker 12: common_voice_en_156280.mp3:  A man is standing and discussing with his colleagues.\n",
      "2025-10-07 03:57:25,074 INFO - ✓ Worker 2: common_voice_en_156273.mp3:  A group of teenagers standing outside of a convenience store.\n",
      "2025-10-07 03:57:25,110 INFO - ✓ Worker 14: common_voice_en_156275.mp3:  A man in a kilt playing the bug pipes.\n",
      "2025-10-07 03:57:25,329 INFO - ✓ Worker 3: common_voice_en_156278.mp3:  The group of Asian teenagers are holding flags on the street.\n",
      "2025-10-07 03:57:25,535 INFO - ✓ Worker 1: common_voice_en_156269.mp3:  A shirtless male is riding a skateboard, performing a trick.\n",
      "2025-10-07 03:57:25,543 INFO - ✓ Worker 8: common_voice_en_156299.mp3:  A man walking past a reddish hotel building.\n",
      "2025-10-07 03:57:25,649 INFO - ✓ Worker 4: common_voice_en_156306.mp3:  A girl writes her bike in a crosswalk at an intersection.\n",
      "2025-10-07 03:57:25,650 INFO - ✓ Worker 9: common_voice_en_156296.mp3:  Asian students are examining sheets of paper while standing in line.\n",
      "2025-10-07 03:57:25,663 INFO - ✓ Worker 15: common_voice_en_156297.mp3:  Toddler Boy with no shoes and pacifier has handheld.\n",
      "2025-10-07 03:57:26,304 INFO - ✓ Worker 11: common_voice_en_156309.mp3:  A man wearing a martial arts uniform is jumping through the air.\n",
      "2025-10-07 03:57:27,091 INFO - ✓ Worker 6: common_voice_en_156268.mp3:  A man wearing a red jacket stands on the shore of a lake with a yellow kayak.\n",
      "2025-10-07 03:57:27,108 INFO - ✓ Worker 5: common_voice_en_156288.mp3:  The man wearing a colorful outfit is holding something in both hands and smiling for the camera.\n",
      "2025-10-07 03:57:27,207 INFO - ✓ Worker 10: common_voice_en_156289.mp3:  This is a non-busy street in a country setting with people going about regular business.\n",
      "2025-10-07 03:57:27,722 INFO - ✓ Worker 0: common_voice_en_156283.mp3:  Steve Jobs having a discussion with another man.\n",
      "2025-10-07 03:57:28,572 INFO - ✓ Worker 1: common_voice_en_156281.mp3:  A boy swings on the swing.\n",
      "2025-10-07 03:57:29,044 INFO - ✓ Worker 3: common_voice_en_156292.mp3:  A woman poses next to a spinning wheel.\n",
      "2025-10-07 03:57:29,314 INFO - ✓ Worker 12: common_voice_en_156316.mp3:  A man standing behind the counter.\n",
      "2025-10-07 03:57:29,341 INFO - ✓ Worker 8: common_voice_en_156279.mp3:  Two toddlers in a brightly colored play area.\n",
      "2025-10-07 03:57:29,606 INFO - ✓ Worker 4: common_voice_en_156302.mp3:  A group of people racing horses on a beach.\n",
      "2025-10-07 03:57:30,039 INFO - ✓ Worker 6: common_voice_en_156282.mp3:  6 people jump for ball\n",
      "2025-10-07 03:57:30,052 INFO - ✓ Worker 5: common_voice_en_156276.mp3:  Two dogs playing on grass.\n",
      "2025-10-07 03:57:30,176 INFO - ✓ Worker 9: common_voice_en_156315.mp3:  The girl is coming off of a water slide into a pool.\n",
      "2025-10-07 03:57:30,740 INFO - ✓ Worker 7: common_voice_en_156310.mp3:  A gymnast with a painted face is suspended in the air.\n",
      "2025-10-07 03:57:30,813 INFO - ✓ Worker 2: common_voice_en_156285.mp3:  A man in a blue shirt just circulates as he speaks to a uniformed official.\n",
      "2025-10-07 03:57:31,357 INFO - ✓ Worker 1: common_voice_en_156328.mp3:  People trying to get warm.\n",
      "2025-10-07 03:57:31,456 INFO - ✓ Worker 11: common_voice_en_156317.mp3:  A brown dog slurps water from a sprinkler on the grass.\n",
      "2025-10-07 03:57:31,466 INFO - ✓ Worker 14: common_voice_en_156323.mp3:  A motorcycle rider is making a sharp turn.\n",
      "2025-10-07 03:57:32,083 INFO - ✓ Worker 0: common_voice_en_156327.mp3:  A group of people waiting to go into a white building.\n",
      "2025-10-07 03:57:32,399 INFO - ✓ Worker 15: common_voice_en_156325.mp3:  A rescuer is being lifted from the water upward into a helicopter.\n",
      "2025-10-07 03:57:32,722 INFO - ✓ Worker 13: common_voice_en_156313.mp3:  Blonde Child in neat hat and pink coat cries in the human arms.\n",
      "2025-10-07 03:57:32,928 INFO - ✓ Worker 10: common_voice_en_156318.mp3:  A swimming person is watching a child jumping to a pool with blue water.\n",
      "2025-10-07 03:57:33,641 INFO - ✓ Worker 7: common_voice_en_156329.mp3:  several men working at the desk.\n",
      "2025-10-07 03:57:33,740 INFO - ✓ Worker 4: common_voice_en_156332.mp3:  A woman is holding a black sign at the street rally.\n",
      "2025-10-07 03:57:33,961 INFO - ✓ Worker 3: common_voice_en_156326.mp3:  A small black and white jumping to catch something in its mouth.\n",
      "2025-10-07 03:57:34,543 INFO - ✓ Worker 6: common_voice_en_156321.mp3:  A man wearing glasses and a white shirt checks his email account.\n",
      "2025-10-07 03:57:34,743 INFO - ✓ Worker 8: common_voice_en_156336.mp3:  A person is sitting next to a TV holding a plate of food.\n",
      "2025-10-07 03:57:34,870 INFO - ✓ Worker 12: common_voice_en_156338.mp3:  A patient is being worked on by doctors and nurses.\n",
      "2025-10-07 03:57:35,192 INFO - ✓ Worker 11: common_voice_en_156335.mp3:  A group of three individuals are working in a cluttered office setting.\n",
      "2025-10-07 03:57:35,300 INFO - ✓ Worker 5: common_voice_en_156331.mp3:  A man in a suit is walking outside of a glass-fronted building towards a parking lot.\n",
      "2025-10-07 03:57:35,384 INFO - ✓ Worker 15: common_voice_en_156337.mp3:  A dog is playing with a football in the snow.\n",
      "2025-10-07 03:57:35,451 INFO - ✓ Worker 2: common_voice_en_156320.mp3:  A child dressed in a white coat paints an image on the paper laying on the table.\n",
      "2025-10-07 03:57:35,531 INFO - ✓ Worker 9: common_voice_en_156333.mp3:  Two people wearing blue, red and white football uniforms crouched over us though in play.\n",
      "2025-10-07 03:57:35,533 INFO - ✓ Worker 14: common_voice_en_156339.mp3:  A large group of young people all dressed in white tops and green bottoms.\n",
      "2025-10-07 03:57:35,543 INFO - ✓ Worker 10: common_voice_en_156341.mp3:  A snowboarder jumps off a large ramp in the mountains.\n",
      "2025-10-07 03:57:35,573 INFO - ✓ Worker 13: common_voice_en_156334.mp3:  A white and brown dog is carrying a stick in the water.\n"
     ]
    },
    {
     "name": "stderr",
     "output_type": "stream",
     "text": [
      "Downloading batch 22:   2%|▏         | 1/48 [00:00<00:07,  6.47it/s]"
     ]
    },
    {
     "name": "stdout",
     "output_type": "stream",
     "text": [
      "2025-10-07 03:57:36,391 WARNING - Connection pool is full, discarding connection: asrelder-data.s3.amazonaws.com. Connection pool size: 10\n",
      "2025-10-07 03:57:36,400 WARNING - Connection pool is full, discarding connection: asrelder-data.s3.amazonaws.com. Connection pool size: 10\n"
     ]
    },
    {
     "name": "stderr",
     "output_type": "stream",
     "text": [
      "Downloading batch 22:  44%|████▍     | 21/48 [00:00<00:00, 98.45it/s]"
     ]
    },
    {
     "name": "stdout",
     "output_type": "stream",
     "text": [
      "2025-10-07 03:57:36,522 WARNING - Connection pool is full, discarding connection: asrelder-data.s3.amazonaws.com. Connection pool size: 10\n",
      "2025-10-07 03:57:36,526 WARNING - Connection pool is full, discarding connection: asrelder-data.s3.amazonaws.com. Connection pool size: 10\n",
      "2025-10-07 03:57:36,526 WARNING - Connection pool is full, discarding connection: asrelder-data.s3.amazonaws.com. Connection pool size: 10\n",
      "2025-10-07 03:57:36,527 WARNING - Connection pool is full, discarding connection: asrelder-data.s3.amazonaws.com. Connection pool size: 10\n"
     ]
    },
    {
     "name": "stderr",
     "output_type": "stream",
     "text": [
      "Downloading batch 22:  90%|████████▉ | 43/48 [00:00<00:00, 146.47it/s]"
     ]
    },
    {
     "name": "stdout",
     "output_type": "stream",
     "text": [
      "2025-10-07 03:57:36,540 WARNING - Connection pool is full, discarding connection: asrelder-data.s3.amazonaws.com. Connection pool size: 10\n",
      "2025-10-07 03:57:36,554 WARNING - Connection pool is full, discarding connection: asrelder-data.s3.amazonaws.com. Connection pool size: 10\n",
      "2025-10-07 03:57:36,582 WARNING - Connection pool is full, discarding connection: asrelder-data.s3.amazonaws.com. Connection pool size: 10\n"
     ]
    },
    {
     "name": "stderr",
     "output_type": "stream",
     "text": [
      "Downloading batch 22: 100%|██████████| 48/48 [00:00<00:00, 116.27it/s]"
     ]
    },
    {
     "name": "stdout",
     "output_type": "stream",
     "text": [
      "2025-10-07 03:57:36,585 INFO - Transcribing 48 files in parallel...\n"
     ]
    },
    {
     "name": "stderr",
     "output_type": "stream",
     "text": [
      "\n"
     ]
    },
    {
     "name": "stdout",
     "output_type": "stream",
     "text": [
      "2025-10-07 03:57:40,161 INFO - ✓ Worker 12: common_voice_en_156350.mp3:  Two beige dogs playing the grass.\n",
      "2025-10-07 03:57:40,868 INFO - ✓ Worker 2: common_voice_en_156344.mp3:  People are gathering under colored lights in a large tent.\n",
      "2025-10-07 03:57:41,267 INFO - ✓ Worker 8: common_voice_en_156364.mp3:  Picture of a little boy on a sidewalk looking at the pigeon.\n",
      "2025-10-07 03:57:41,289 INFO - ✓ Worker 11: common_voice_en_156377.mp3:  Some men are looking at the computer screen in an office.\n",
      "2025-10-07 03:57:41,401 INFO - ✓ Worker 4: common_voice_en_156356.mp3:  A man and a human are kissing and taking a picture of themselves.\n",
      "2025-10-07 03:57:41,431 INFO - ✓ Worker 6: common_voice_en_156369.mp3:  Young child playing with a soccer ball in a grassy area.\n",
      "2025-10-07 03:57:41,585 INFO - ✓ Worker 7: common_voice_en_156357.mp3:  A boy laying on a rock in the middle of a calm stream.\n",
      "2025-10-07 03:57:41,661 INFO - ✓ Worker 14: common_voice_en_156367.mp3:  A skier is jumping off a steep hillside covered with snow.\n",
      "2025-10-07 03:57:41,722 INFO - ✓ Worker 5: common_voice_en_156345.mp3:  A keyboard player rotting out with a band in a white tank.\n",
      "2025-10-07 03:57:41,885 INFO - ✓ Worker 0: common_voice_en_156349.mp3:  A basketball player prepares to make a throw while his opponent defends.\n",
      "2025-10-07 03:57:42,156 INFO - ✓ Worker 15: common_voice_en_156362.mp3:  A small child playing with a toy oven in a mock kitchen at home.\n",
      "2025-10-07 03:57:42,345 INFO - ✓ Worker 9: common_voice_en_156343.mp3:  A woman wearing a white shirt and gray shorts using a shovel to dig in snow.\n",
      "2025-10-07 03:57:42,353 INFO - ✓ Worker 13: common_voice_en_156368.mp3:  A group of people dancing in a club in front of a disc jockey.\n",
      "2025-10-07 03:57:42,692 INFO - ✓ Worker 10: common_voice_en_156371.mp3:  Many people of Indian descent wearing bright, colorful clothing walking up steep flights of stairs.\n",
      "2025-10-07 03:57:42,882 INFO - ✓ Worker 1: common_voice_en_156348.mp3:  A man is inside the truck looking out with his left arm in front of a door.\n",
      "2025-10-07 03:57:43,227 INFO - ✓ Worker 3: common_voice_en_156347.mp3:  A man wearing a shirt and tie looks perplexed as he navigates through a crowd.\n",
      "2025-10-07 03:57:44,461 INFO - ✓ Worker 4: common_voice_en_156376.mp3:  A dog walks down a black ramp.\n",
      "2025-10-07 03:57:45,401 INFO - ✓ Worker 2: common_voice_en_15638.mp3:  Please lead the genre rock's Trumman tale.\n",
      "2025-10-07 03:57:45,793 INFO - ✓ Worker 8: common_voice_en_156380.mp3:  A young skateboarder jumping a trick in the air.\n",
      "2025-10-07 03:57:45,937 INFO - ✓ Worker 5: common_voice_en_156378.mp3:  A crowd gathers in the middle of a sporting event.\n",
      "2025-10-07 03:57:46,275 INFO - ✓ Worker 11: common_voice_en_156384.mp3:  Chef, with two women, having a conversation.\n",
      "2025-10-07 03:57:46,303 INFO - ✓ Worker 9: common_voice_en_156389.mp3:  A group of people are sitting underneath a tin roof.\n",
      "2025-10-07 03:57:46,602 INFO - ✓ Worker 12: common_voice_en_156390.mp3:  White dog in me there next to a large yellow ball.\n",
      "2025-10-07 03:57:46,709 INFO - ✓ Worker 6: common_voice_en_156363.mp3:  Crowd of people outside with child-in-center, with hands raised.\n",
      "2025-10-07 03:57:46,781 INFO - ✓ Worker 0: common_voice_en_156374.mp3:  A man and a girl sit inside the floating tube in the water.\n",
      "2025-10-07 03:57:46,826 INFO - ✓ Worker 15: common_voice_en_156386.mp3:  People are riding in a boat with oars.\n",
      "2025-10-07 03:57:46,949 INFO - ✓ Worker 1: common_voice_en_156359.mp3:  Two kids discussed their woes around the dinner table.\n",
      "2025-10-07 03:57:47,671 INFO - ✓ Worker 7: common_voice_en_156382.mp3:  Nicely dressed woman pose for pictures or stand and talk while pass or buy straw by fountain.\n",
      "2025-10-07 03:57:48,078 INFO - ✓ Worker 13: common_voice_en_156387.mp3:  While outside, two men are reading instructions on how to put a cooking grill together.\n",
      "2025-10-07 03:57:48,197 INFO - ✓ Worker 14: common_voice_en_156385.mp3:  Ladies are dressed in white and are all tying white scarves on their heads.\n",
      "2025-10-07 03:57:48,819 INFO - ✓ Worker 2: common_voice_en_156393.mp3:  Several people gather outside on the streets.\n",
      "2025-10-07 03:57:49,217 INFO - ✓ Worker 10: common_voice_en_156351.mp3:  A woman with reddish hair talking to an old man by the water side and beside a bench.\n",
      "2025-10-07 03:57:49,531 INFO - ✓ Worker 3: common_voice_en_156372.mp3:  A woman with black hair looking back at the camera while she's using a white canister.\n",
      "2025-10-07 03:57:50,315 INFO - ✓ Worker 0: common_voice_en_156391.mp3:  Two naked young boys play in the water.\n",
      "2025-10-07 03:57:50,587 INFO - ✓ Worker 9: common_voice_en_156403.mp3:  Two dogs in harnesses running in tall grass.\n",
      "2025-10-07 03:57:50,645 INFO - ✓ Worker 4: common_voice_en_156388.mp3:  A man wearing a hiking backpack is leaning on a wooden pole.\n",
      "2025-10-07 03:57:50,693 INFO - ✓ Worker 1: common_voice_en_156392.mp3:  There is a brown dog leaping on the beach.\n",
      "2025-10-07 03:57:50,883 INFO - ✓ Worker 6: common_voice_en_156394.mp3:  A girl in a uniform hitting a ball with a bat.\n",
      "2025-10-07 03:57:51,414 INFO - ✓ Worker 11: common_voice_en_156399.mp3:  Emansticks his tank out in an outdoor shower.\n",
      "2025-10-07 03:57:51,718 INFO - ✓ Worker 8: common_voice_en_156398.mp3:  The man is rollerblading in a red hat, blue shirt and tan pants.\n",
      "2025-10-07 03:57:51,800 INFO - ✓ Worker 5: common_voice_en_156396.mp3:  People looking at their reflection and the reflection of a city in a long irregular shaped mirror.\n",
      "2025-10-07 03:57:51,891 INFO - ✓ Worker 7: common_voice_en_156397.mp3:  A dog leaps into the air in a grassy field surrounded by trees.\n",
      "2025-10-07 03:57:51,933 INFO - ✓ Worker 3: common_voice_en_156395.mp3:  Two guys playing football on a campus green.\n",
      "2025-10-07 03:57:52,159 INFO - ✓ Worker 13: common_voice_en_156405.mp3:  An old man in orange is holding a cane and looking at a younger male.\n",
      "2025-10-07 03:57:52,185 INFO - ✓ Worker 14: common_voice_en_156404.mp3:  A white dog plays outside in a fence yard while it snows.\n",
      "2025-10-07 03:57:52,190 INFO - ✓ Worker 12: common_voice_en_156400.mp3:  A group of friends huddled together at a local bar to take a memorable picture.\n",
      "2025-10-07 03:57:52,198 INFO - ✓ Worker 15: common_voice_en_156406.mp3:  A man with a shaved head is reading a book on a train.\n",
      "2025-10-07 03:57:52,239 INFO - ✓ Worker 10: common_voice_en_156402.mp3:  A young man wearing a baseball cap is posing in front of a hot dog stand.\n"
     ]
    },
    {
     "name": "stderr",
     "output_type": "stream",
     "text": [
      "Downloading batch 23:  42%|████▏     | 20/48 [00:00<00:00, 91.17it/s]"
     ]
    },
    {
     "name": "stdout",
     "output_type": "stream",
     "text": [
      "2025-10-07 03:57:53,190 WARNING - Connection pool is full, discarding connection: asrelder-data.s3.amazonaws.com. Connection pool size: 10\n",
      "2025-10-07 03:57:53,193 WARNING - Connection pool is full, discarding connection: asrelder-data.s3.amazonaws.com. Connection pool size: 10\n",
      "2025-10-07 03:57:53,201 WARNING - Connection pool is full, discarding connection: asrelder-data.s3.amazonaws.com. Connection pool size: 10\n"
     ]
    },
    {
     "name": "stderr",
     "output_type": "stream",
     "text": [
      "Downloading batch 23:  90%|████████▉ | 43/48 [00:00<00:00, 145.96it/s]"
     ]
    },
    {
     "name": "stdout",
     "output_type": "stream",
     "text": [
      "2025-10-07 03:57:53,205 WARNING - Connection pool is full, discarding connection: asrelder-data.s3.amazonaws.com. Connection pool size: 10\n",
      "2025-10-07 03:57:53,216 WARNING - Connection pool is full, discarding connection: asrelder-data.s3.amazonaws.com. Connection pool size: 10\n",
      "2025-10-07 03:57:53,218 WARNING - Connection pool is full, discarding connection: asrelder-data.s3.amazonaws.com. Connection pool size: 10\n",
      "2025-10-07 03:57:53,227 WARNING - Connection pool is full, discarding connection: asrelder-data.s3.amazonaws.com. Connection pool size: 10\n",
      "2025-10-07 03:57:53,241 WARNING - Connection pool is full, discarding connection: asrelder-data.s3.amazonaws.com. Connection pool size: 10\n"
     ]
    },
    {
     "name": "stderr",
     "output_type": "stream",
     "text": [
      "Downloading batch 23: 100%|██████████| 48/48 [00:00<00:00, 118.09it/s]"
     ]
    },
    {
     "name": "stdout",
     "output_type": "stream",
     "text": [
      "2025-10-07 03:57:53,244 INFO - Transcribing 48 files in parallel...\n"
     ]
    },
    {
     "name": "stderr",
     "output_type": "stream",
     "text": [
      "\n"
     ]
    },
    {
     "name": "stdout",
     "output_type": "stream",
     "text": [
      "2025-10-07 03:57:56,754 INFO - ✓ Worker 5: common_voice_en_156431.mp3:  A little kid running towards the camera.\n",
      "2025-10-07 03:57:57,160 INFO - ✓ Worker 6: common_voice_en_156416.mp3:  and all straight with some people window shopping.\n",
      "2025-10-07 03:57:57,168 INFO - ✓ Worker 0: common_voice_en_156409.mp3:  A group of men are running on a beach.\n",
      "2025-10-07 03:57:57,215 INFO - ✓ Worker 15: common_voice_en_156420.mp3:  A boy in yellow walks down the street.\n",
      "2025-10-07 03:57:57,733 INFO - ✓ Worker 2: common_voice_en_156411.mp3:  A small girl sits in the snow with a pink nose.\n",
      "2025-10-07 03:57:57,746 INFO - ✓ Worker 10: common_voice_en_156422.mp3:  Men in colorful shirts show camaraderie after bicycle race.\n",
      "2025-10-07 03:57:57,953 INFO - ✓ Worker 7: common_voice_en_156407.mp3:  Two men ride bikes down the street on a sunny day.\n",
      "2025-10-07 03:57:58,042 INFO - ✓ Worker 3: common_voice_en_156424.mp3:  Three workmen working together. One is drilling the wood.\n",
      "2025-10-07 03:57:58,066 INFO - ✓ Worker 11: common_voice_en_156421.mp3:  An elderly woman checks her cell phone while standing on the curb.\n",
      "2025-10-07 03:57:58,355 INFO - ✓ Worker 1: common_voice_en_156413.mp3:  2 girls drawing sailboats with chalk on the side of concrete.\n",
      "2025-10-07 03:57:58,489 INFO - ✓ Worker 14: common_voice_en_156433.mp3:  A woman is adjusting the car seat straps on a crying baby.\n",
      "2025-10-07 03:57:58,574 INFO - ✓ Worker 8: common_voice_en_156412.mp3:  There is an African American man playing saxophone in an outdoor setting.\n",
      "2025-10-07 03:57:59,066 INFO - ✓ Worker 13: common_voice_en_156423.mp3:  A tractor is sitting on the beach behind two people sitting in the sand.\n",
      "2025-10-07 03:57:59,147 INFO - ✓ Worker 12: common_voice_en_156425.mp3:  An Asian woman is posing with a red umbrella in a marketplace in China.\n",
      "2025-10-07 03:57:59,405 INFO - ✓ Worker 4: common_voice_en_156428.mp3:  A man in green and yellow tackles a man black and white in a football game.\n",
      "2025-10-07 03:58:00,912 INFO - ✓ Worker 9: common_voice_en_156410.mp3:  Rodel riding Cowboy trying to keep on a backing ball in an arena surrounded by Rodel Clowns.\n",
      "2025-10-07 03:58:01,268 INFO - ✓ Worker 3: common_voice_en_156426.mp3:  Three are standing on the mountain.\n",
      "2025-10-07 03:58:01,581 INFO - ✓ Worker 0: common_voice_en_156435.mp3:  Woman standing in front of a group with black folders in hand.\n",
      "2025-10-07 03:58:01,945 INFO - ✓ Worker 5: common_voice_en_156414.mp3:  A gang man with a grey-shared singing.\n",
      "2025-10-07 03:58:02,267 INFO - ✓ Worker 2: common_voice_en_156430.mp3:  A bird's eye view of a sidewalk with many people.\n",
      "2025-10-07 03:58:02,341 INFO - ✓ Worker 7: common_voice_en_156438.mp3:  A white woman looking outside her window in broad daylight.\n",
      "2025-10-07 03:58:02,889 INFO - ✓ Worker 11: common_voice_en_156447.mp3:  Two young girls ride with chalk near a body of water.\n",
      "2025-10-07 03:58:03,167 INFO - ✓ Worker 4: common_voice_en_156417.mp3:  A group of people sitting at the table eating.\n",
      "2025-10-07 03:58:03,197 INFO - ✓ Worker 12: common_voice_en_156458.mp3:  Riders at the horse show get into position.\n",
      "2025-10-07 03:58:03,527 INFO - ✓ Worker 10: common_voice_en_156443.mp3:  People run a marathon for the race for the Cure Foundation.\n",
      "2025-10-07 03:58:03,794 INFO - ✓ Worker 1: common_voice_en_156429.mp3:  The tennis player is hitting the ball with his racket while others watch the match.\n",
      "2025-10-07 03:58:03,874 INFO - ✓ Worker 14: common_voice_en_156459.mp3:  A man is walking on the roof of a building under construction.\n",
      "2025-10-07 03:58:04,109 INFO - ✓ Worker 9: common_voice_en_156440.mp3:  A young girl plays in fountain water.\n",
      "2025-10-07 03:58:04,165 INFO - ✓ Worker 8: common_voice_en_156437.mp3:  A man wearing a plaid shirt is holding a microphone while standing in a room.\n",
      "2025-10-07 03:58:04,398 INFO - ✓ Worker 6: common_voice_en_156418.mp3:  Men and women in period clothing stand in line at the trailer to get something to eat.\n",
      "2025-10-07 03:58:04,744 INFO - ✓ Worker 13: common_voice_en_156452.mp3:  Spectators watch a snowboarder in mid-flight amid a snowy landscape.\n",
      "2025-10-07 03:58:05,552 INFO - ✓ Worker 15: common_voice_en_156460.mp3:  A big black dog is walking along the water's edge.\n",
      "2025-10-07 03:58:05,844 INFO - ✓ Worker 0: common_voice_en_156441.mp3:  A group of people are lined up at the dinner buffet.\n",
      "2025-10-07 03:58:06,571 INFO - ✓ Worker 7: common_voice_en_156464.mp3:  Guy throwing a baseball at the game.\n",
      "2025-10-07 03:58:07,102 INFO - ✓ Worker 3: common_voice_en_156436.mp3:  Some young adults are playing saxophons and clarinets outdoors.\n",
      "2025-10-07 03:58:07,222 INFO - ✓ Worker 9: common_voice_en_156470.mp3:  A wet dog chasing a white pole.\n",
      "2025-10-07 03:58:07,477 INFO - ✓ Worker 10: common_voice_en_156474.mp3:  A kid are playing with leaves by the sidewalk.\n",
      "2025-10-07 03:58:07,501 INFO - ✓ Worker 1: common_voice_en_156457.mp3:  A person is snowboarding on a bright day.\n",
      "2025-10-07 03:58:07,562 INFO - ✓ Worker 2: common_voice_en_156462.mp3:  A man is wearing a red and white striped shirt and camouflage ball cap.\n",
      "2025-10-07 03:58:07,730 INFO - ✓ Worker 4: common_voice_en_156453.mp3:  People gather at the local flea market to engage in some commerce.\n",
      "2025-10-07 03:58:07,774 INFO - ✓ Worker 15: common_voice_en_156465.mp3:  A pack of bugs.\n",
      "2025-10-07 03:58:07,791 INFO - ✓ Worker 13: common_voice_en_156473.mp3:  Three people are enjoying vibrating massage chairs.\n",
      "2025-10-07 03:58:07,888 INFO - ✓ Worker 6: common_voice_en_156466.mp3:  A lady on a foreign beach holding a food tray.\n",
      "2025-10-07 03:58:07,932 INFO - ✓ Worker 8: common_voice_en_156463.mp3:  A brown dog is running and looking up at the sky.\n",
      "2025-10-07 03:58:07,955 INFO - ✓ Worker 5: common_voice_en_156461.mp3:  One person in the brown suit with his arm around another in a hat by a wall.\n",
      "2025-10-07 03:58:07,967 INFO - ✓ Worker 11: common_voice_en_156475.mp3:  Three high school girls walk and talk on Astroturf.\n",
      "2025-10-07 03:58:07,987 INFO - ✓ Worker 14: common_voice_en_156471.mp3:  Several people with umbrellas going up and escalator.\n",
      "2025-10-07 03:58:07,995 INFO - ✓ Worker 12: common_voice_en_156469.mp3:  The short-haired dog is running across a grassy yard.\n"
     ]
    },
    {
     "name": "stderr",
     "output_type": "stream",
     "text": [
      "Downloading batch 24:  31%|███▏      | 15/48 [00:00<00:00, 67.94it/s]"
     ]
    },
    {
     "name": "stdout",
     "output_type": "stream",
     "text": [
      "2025-10-07 03:58:08,873 WARNING - Connection pool is full, discarding connection: asrelder-data.s3.amazonaws.com. Connection pool size: 10\n",
      "2025-10-07 03:58:08,874 WARNING - Connection pool is full, discarding connection: asrelder-data.s3.amazonaws.com. Connection pool size: 10\n",
      "2025-10-07 03:58:08,888 WARNING - Connection pool is full, discarding connection: asrelder-data.s3.amazonaws.com. Connection pool size: 10\n",
      "2025-10-07 03:58:08,892 WARNING - Connection pool is full, discarding connection: asrelder-data.s3.amazonaws.com. Connection pool size: 10\n",
      "2025-10-07 03:58:08,897 WARNING - Connection pool is full, discarding connection: asrelder-data.s3.amazonaws.com. Connection pool size: 10\n",
      "2025-10-07 03:58:08,898 WARNING - Connection pool is full, discarding connection: asrelder-data.s3.amazonaws.com. Connection pool size: 10\n",
      "2025-10-07 03:58:08,907 WARNING - Connection pool is full, discarding connection: asrelder-data.s3.amazonaws.com. Connection pool size: 10\n"
     ]
    },
    {
     "name": "stderr",
     "output_type": "stream",
     "text": [
      "Downloading batch 24:  73%|███████▎  | 35/48 [00:00<00:00, 118.81it/s]"
     ]
    },
    {
     "name": "stdout",
     "output_type": "stream",
     "text": [
      "2025-10-07 03:58:08,999 WARNING - Connection pool is full, discarding connection: asrelder-data.s3.amazonaws.com. Connection pool size: 10\n",
      "2025-10-07 03:58:09,003 WARNING - Connection pool is full, discarding connection: asrelder-data.s3.amazonaws.com. Connection pool size: 10\n",
      "2025-10-07 03:58:09,004 WARNING - Connection pool is full, discarding connection: asrelder-data.s3.amazonaws.com. Connection pool size: 10\n",
      "2025-10-07 03:58:09,052 WARNING - Connection pool is full, discarding connection: asrelder-data.s3.amazonaws.com. Connection pool size: 10\n",
      "2025-10-07 03:58:09,055 WARNING - Connection pool is full, discarding connection: asrelder-data.s3.amazonaws.com. Connection pool size: 10\n"
     ]
    },
    {
     "name": "stderr",
     "output_type": "stream",
     "text": [
      "Downloading batch 24: 100%|██████████| 48/48 [00:00<00:00, 103.56it/s]"
     ]
    },
    {
     "name": "stdout",
     "output_type": "stream",
     "text": [
      "2025-10-07 03:58:09,058 INFO - Transcribing 48 files in parallel...\n"
     ]
    },
    {
     "name": "stderr",
     "output_type": "stream",
     "text": [
      "\n"
     ]
    },
    {
     "name": "stdout",
     "output_type": "stream",
     "text": [
      "2025-10-07 03:58:11,610 INFO - ✓ Worker 12: common_voice_en_15735475.mp3:  Between their teeth.\n",
      "2025-10-07 03:58:11,873 INFO - ✓ Worker 7: common_voice_en_158507.mp3:  That'll close my account.\n",
      "2025-10-07 03:58:12,528 INFO - ✓ Worker 15: common_voice_en_156480.mp3:  A girl in black pants doing exercises.\n",
      "2025-10-07 03:58:12,561 INFO - ✓ Worker 3: common_voice_en_158532.mp3:  Tokyo is so humid this time of year.\n",
      "2025-10-07 03:58:12,866 INFO - ✓ Worker 0: common_voice_en_156477.mp3:  to Indian women trading to each other.\n",
      "2025-10-07 03:58:12,957 INFO - ✓ Worker 1: common_voice_en_156483.mp3:  People playing soccer on a soccer field during sunset.\n",
      "2025-10-07 03:58:13,253 INFO - ✓ Worker 2: common_voice_en_15798427.mp3:  She is absent from working in the drugstore today.\n",
      "2025-10-07 03:58:13,394 INFO - ✓ Worker 14: common_voice_en_156485.mp3:  A man on a motorcycle is racing at the truck.\n",
      "2025-10-07 03:58:13,483 INFO - ✓ Worker 10: common_voice_en_15734171.mp3:  A quart of link is modeled for the boost part.\n",
      "2025-10-07 03:58:13,951 INFO - ✓ Worker 5: common_voice_en_156478.mp3:  A street performer entertains tourists with a fake bird in a cage.\n",
      "2025-10-07 03:58:14,002 INFO - ✓ Worker 9: common_voice_en_158916.mp3:  The building has been the home base of the illegal enterprise for decades.\n",
      "2025-10-07 03:58:14,637 INFO - ✓ Worker 4: common_voice_en_156479.mp3:  A woman wearing a plaid skirt pushes water off the sidewalk with a yellow broom.\n",
      "2025-10-07 03:58:14,938 INFO - ✓ Worker 13: common_voice_en_158522.mp3:  What is the weather forecast for a gate for Oslo Beds National Monument?\n",
      "2025-10-07 03:58:15,352 INFO - ✓ Worker 11: common_voice_en_156482.mp3:  A man standing on a post with his arms outstretched and his shirt over his head.\n",
      "2025-10-07 03:58:15,435 INFO - ✓ Worker 8: common_voice_en_156476.mp3:  A shirtless man with dreadlocks and tight jeans is playing with unlead fire sticks.\n",
      "2025-10-07 03:58:15,968 INFO - ✓ Worker 3: common_voice_en_15903663.mp3:  Find how useful the information is in the website.\n",
      "2025-10-07 03:58:16,225 INFO - ✓ Worker 10: common_voice_en_159530.mp3:  and offer dime.\n",
      "2025-10-07 03:58:16,337 INFO - ✓ Worker 1: common_voice_en_15903553.mp3:  The Allies lost another airborne division during the raid.\n",
      "2025-10-07 03:58:17,349 INFO - ✓ Worker 0: common_voice_en_159461.mp3:  For businessmen, waiting out on O-side foodstain.\n",
      "2025-10-07 03:58:17,384 INFO - ✓ Worker 6: common_voice_en_15911.mp3:  Sadly, it's only available for Windows, so you'll have to do Linux development using the virtual ma...\n",
      "2025-10-07 03:58:17,510 INFO - ✓ Worker 2: common_voice_en_158917.mp3:  I would like to hear the worst is yet to come.\n",
      "2025-10-07 03:58:17,920 INFO - ✓ Worker 12: common_voice_en_159481.mp3:  A men walk in the street.\n",
      "2025-10-07 03:58:18,019 INFO - ✓ Worker 7: common_voice_en_159469.mp3:  2 goes in Red Suckers uniforms running after a soccer ball.\n",
      "2025-10-07 03:58:18,380 INFO - ✓ Worker 5: common_voice_en_159464.mp3:  Man writing is said way next to a woman on the red bicycle.\n",
      "2025-10-07 03:58:18,560 INFO - ✓ Worker 9: common_voice_en_159466.mp3:  A men's souls through a piece of wood to repair a fence.\n",
      "2025-10-07 03:58:18,726 INFO - ✓ Worker 13: common_voice_en_159478.mp3:  A young girl in inside a tumble.\n",
      "2025-10-07 03:58:18,940 INFO - ✓ Worker 4: common_voice_en_15792388.mp3:  Paraphing works is an important ingredient on a candle.\n",
      "2025-10-07 03:58:19,251 INFO - ✓ Worker 8: common_voice_en_156484.mp3:  A woman dressed in light green and plain tennis.\n",
      "2025-10-07 03:58:20,004 INFO - ✓ Worker 2: common_voice_en_159528.mp3:  Give her the works.\n",
      "2025-10-07 03:58:20,039 INFO - ✓ Worker 11: common_voice_en_159474.mp3:  Three people, one sitting, two standing, or in the mall.\n",
      "2025-10-07 03:58:20,634 INFO - ✓ Worker 15: common_voice_en_159480.mp3:  A man with a dog is seated at the base of a statue.\n",
      "2025-10-07 03:58:20,974 INFO - ✓ Worker 1: common_voice_en_159972.mp3:  A young man is smiling as he is fun sliding down a hill.\n",
      "2025-10-07 03:58:21,054 INFO - ✓ Worker 0: common_voice_en_159971.mp3:  Eight girls are cheerleading outside in yellow uniforms.\n",
      "2025-10-07 03:58:21,268 INFO - ✓ Worker 3: common_voice_en_159978.mp3:  A brown and black dog running through a river.\n",
      "2025-10-07 03:58:21,699 INFO - ✓ Worker 14: common_voice_en_159970.mp3:  A man in a dark shirt in shorts is standing on top of a high graffiti rock.\n",
      "2025-10-07 03:58:21,902 INFO - ✓ Worker 6: common_voice_en_159468.mp3:  Man olling a baby who is petting a pony.\n",
      "2025-10-07 03:58:22,177 INFO - ✓ Worker 9: common_voice_en_159980.mp3:  Man-jogging on the city street.\n",
      "2025-10-07 03:58:22,668 INFO - ✓ Worker 7: common_voice_en_159984.mp3:  People are dancing on the checkered platform while people are watching.\n",
      "2025-10-07 03:58:22,690 INFO - ✓ Worker 10: common_voice_en_159977.mp3:  A soldier is offering treats to a group of young boys.\n",
      "2025-10-07 03:58:22,765 INFO - ✓ Worker 5: common_voice_en_159973.mp3:  Men in Darth Vader and Robot Customs are walking on the road.\n",
      "2025-10-07 03:58:22,885 INFO - ✓ Worker 13: common_voice_en_159982.mp3:  This man has worked here for many decades.\n",
      "2025-10-07 03:58:23,307 INFO - ✓ Worker 11: common_voice_en_160310.mp3:  Two women are sitting at a table with three lepobs.\n",
      "2025-10-07 03:58:23,361 INFO - ✓ Worker 15: common_voice_en_159983.mp3:  A man is standing on snowy rocks.\n",
      "2025-10-07 03:58:23,497 INFO - ✓ Worker 4: common_voice_en_159974.mp3:  A man in shorts and a baseball cap looks through the glass at play it again sports.\n",
      "2025-10-07 03:58:23,536 INFO - ✓ Worker 12: common_voice_en_159979.mp3:  A group of school children looking at a group of men wearing white shirts.\n",
      "2025-10-07 03:58:23,565 INFO - ✓ Worker 8: common_voice_en_159976.mp3:  I'm a black man in a tux surrounded by five mother-men behind a metal gate.\n",
      "2025-10-07 03:58:23,566 INFO - ✓ Worker 14: common_voice_en_160308.mp3:  You're creating building with two people sitting outside.\n",
      "2025-10-07 03:58:23,572 INFO - ✓ Worker 6: common_voice_en_159975.mp3:  Men in military uniform standing in formation.\n"
     ]
    },
    {
     "name": "stderr",
     "output_type": "stream",
     "text": [
      "Downloading batch 25:  44%|████▍     | 21/48 [00:00<00:00, 93.40it/s]"
     ]
    },
    {
     "name": "stdout",
     "output_type": "stream",
     "text": [
      "2025-10-07 03:58:24,469 WARNING - Connection pool is full, discarding connection: asrelder-data.s3.amazonaws.com. Connection pool size: 10\n",
      "2025-10-07 03:58:24,513 WARNING - Connection pool is full, discarding connection: asrelder-data.s3.amazonaws.com. Connection pool size: 10\n",
      "2025-10-07 03:58:24,520 WARNING - Connection pool is full, discarding connection: asrelder-data.s3.amazonaws.com. Connection pool size: 10\n",
      "2025-10-07 03:58:24,521 WARNING - Connection pool is full, discarding connection: asrelder-data.s3.amazonaws.com. Connection pool size: 10\n",
      "2025-10-07 03:58:24,522 WARNING - Connection pool is full, discarding connection: asrelder-data.s3.amazonaws.com. Connection pool size: 10\n",
      "2025-10-07 03:58:24,522 WARNING - Connection pool is full, discarding connection: asrelder-data.s3.amazonaws.com. Connection pool size: 10\n",
      "2025-10-07 03:58:24,522 WARNING - Connection pool is full, discarding connection: asrelder-data.s3.amazonaws.com. Connection pool size: 10\n"
     ]
    },
    {
     "name": "stderr",
     "output_type": "stream",
     "text": [
      "Downloading batch 25:  96%|█████████▌| 46/48 [00:00<00:00, 154.65it/s]"
     ]
    },
    {
     "name": "stdout",
     "output_type": "stream",
     "text": [
      "2025-10-07 03:58:24,537 WARNING - Connection pool is full, discarding connection: asrelder-data.s3.amazonaws.com. Connection pool size: 10\n",
      "2025-10-07 03:58:24,541 WARNING - Connection pool is full, discarding connection: asrelder-data.s3.amazonaws.com. Connection pool size: 10\n"
     ]
    },
    {
     "name": "stderr",
     "output_type": "stream",
     "text": [
      "Downloading batch 25: 100%|██████████| 48/48 [00:00<00:00, 124.25it/s]"
     ]
    },
    {
     "name": "stdout",
     "output_type": "stream",
     "text": [
      "2025-10-07 03:58:24,543 INFO - Transcribing 48 files in parallel...\n"
     ]
    },
    {
     "name": "stderr",
     "output_type": "stream",
     "text": [
      "\n"
     ]
    },
    {
     "name": "stdout",
     "output_type": "stream",
     "text": [
      "2025-10-07 03:58:27,799 INFO - ✓ Worker 0: common_voice_en_160346.mp3:  Two girls in a swimming pool.\n",
      "2025-10-07 03:58:28,086 INFO - ✓ Worker 1: common_voice_en_160345.mp3:  Two dogs in a grassy field.\n",
      "2025-10-07 03:58:28,111 INFO - ✓ Worker 6: common_voice_en_160311.mp3:  Children are being splashed with water.\n",
      "2025-10-07 03:58:28,246 INFO - ✓ Worker 2: common_voice_en_160359.mp3:  Man places order in coffee shop.\n",
      "2025-10-07 03:58:28,404 INFO - ✓ Worker 9: common_voice_en_160348.mp3:  A woman kayaking with her small dog.\n",
      "2025-10-07 03:58:28,634 INFO - ✓ Worker 11: common_voice_en_160347.mp3:  A little girl riding a toy horse during Christmas.\n",
      "2025-10-07 03:58:28,739 INFO - ✓ Worker 10: common_voice_en_160360.mp3:  Three men examining clothing in a clothing shop.\n",
      "2025-10-07 03:58:29,057 INFO - ✓ Worker 12: common_voice_en_160368.mp3:  A young Asian child is smiling from around the tree.\n",
      "2025-10-07 03:58:29,094 INFO - ✓ Worker 3: common_voice_en_160358.mp3:  Everyone is taking in the scenery with the pretty lights.\n",
      "2025-10-07 03:58:29,154 INFO - ✓ Worker 15: common_voice_en_160363.mp3:  Little boy doing tricks on a skateboard on the sidewalk.\n",
      "2025-10-07 03:58:29,671 INFO - ✓ Worker 14: common_voice_en_160351.mp3:  A man in a suit and hat is raising his glass.\n",
      "2025-10-07 03:58:29,698 INFO - ✓ Worker 13: common_voice_en_160354.mp3:  Jet flying low over a field with a woman in the field.\n",
      "2025-10-07 03:58:29,889 INFO - ✓ Worker 8: common_voice_en_160343.mp3:  Two older men sit on the stoop of a graffiti covered doorway.\n",
      "2025-10-07 03:58:30,736 INFO - ✓ Worker 5: common_voice_en_160353.mp3:  Two men are pushing a small bolt with fishing poles out into the water from the beach.\n",
      "2025-10-07 03:58:30,824 INFO - ✓ Worker 7: common_voice_en_160314.mp3:  A man in a red jacket stands next to a yellow kayak on a rocks minus here.\n",
      "2025-10-07 03:58:31,122 INFO - ✓ Worker 4: common_voice_en_160344.mp3:  Dancers hold on to one another surrounded by a vast array of colors, fabrics, and people.\n",
      "2025-10-07 03:58:31,284 INFO - ✓ Worker 0: common_voice_en_160365.mp3:  Motorcyclist on motorcycle racing around track\n",
      "2025-10-07 03:58:32,535 INFO - ✓ Worker 1: common_voice_en_160349.mp3:  An Indian man in a hat is sitting and smiling.\n",
      "2025-10-07 03:58:32,702 INFO - ✓ Worker 3: common_voice_en_160367.mp3:  Two dogs run out of the ocean lake.\n",
      "2025-10-07 03:58:32,818 INFO - ✓ Worker 2: common_voice_en_160364.mp3:  Hockey player jumps with joy after his hockey team scores a goal.\n",
      "2025-10-07 03:58:32,847 INFO - ✓ Worker 6: common_voice_en_160374.mp3:  A man wearing blue pants is riding a bucking bull.\n",
      "2025-10-07 03:58:33,601 INFO - ✓ Worker 12: common_voice_en_160376.mp3:  A group of people exercising on a green field.\n",
      "2025-10-07 03:58:33,903 INFO - ✓ Worker 9: common_voice_en_160352.mp3:  A child wearing a Santa Elmo suit holding a red guitar.\n",
      "2025-10-07 03:58:34,345 INFO - ✓ Worker 10: common_voice_en_160379.mp3:  A crowd is gathered at Trafalgar Square in London.\n",
      "2025-10-07 03:58:34,609 INFO - ✓ Worker 5: common_voice_en_160366.mp3:  A man in a vest is reading the newspaper.\n",
      "2025-10-07 03:58:34,853 INFO - ✓ Worker 11: common_voice_en_160373.mp3:  A cowboy and his horse both fall to the ground in an arena.\n",
      "2025-10-07 03:58:34,980 INFO - ✓ Worker 14: common_voice_en_160378.mp3:  Military man, getting some food at the mess hall.\n",
      "2025-10-07 03:58:35,252 INFO - ✓ Worker 13: common_voice_en_160361.mp3:  A person staring at a wall that has a bike against it.\n",
      "2025-10-07 03:58:35,699 INFO - ✓ Worker 0: common_voice_en_160369.mp3:  A hiker posing on a cliff high in the mountains.\n",
      "2025-10-07 03:58:35,944 INFO - ✓ Worker 4: common_voice_en_160355.mp3:  A woman slides into home while the catcher tries to block.\n",
      "2025-10-07 03:58:35,950 INFO - ✓ Worker 8: common_voice_en_160371.mp3:  A little girl dressed in pink is falling in water while another girl dressed in red watches.\n",
      "2025-10-07 03:58:36,453 INFO - ✓ Worker 7: common_voice_en_160370.mp3:  A man with a bucket and a girl in a hat on the beach.\n",
      "2025-10-07 03:58:36,679 INFO - ✓ Worker 15: common_voice_en_160377.mp3:  A young girl in a pink shirt and purple skirt plays on a jungle gym.\n",
      "2025-10-07 03:58:37,045 INFO - ✓ Worker 2: common_voice_en_160381.mp3:  A person sitting under trees and a large metal sculpture.\n",
      "2025-10-07 03:58:37,312 INFO - ✓ Worker 9: common_voice_en_16047837.mp3:  Better safe than sorry.\n",
      "2025-10-07 03:58:37,600 INFO - ✓ Worker 1: common_voice_en_160372.mp3:  Hey Baby Girl has the contents of a red pod all over her face.\n",
      "2025-10-07 03:58:37,631 INFO - ✓ Worker 3: common_voice_en_160383.mp3:  A lone football player wearing a red and white jersey holding a football.\n",
      "2025-10-07 03:58:38,217 INFO - ✓ Worker 6: common_voice_en_160384.mp3:  A gray-haired man is sitting outside talking on the phone.\n",
      "2025-10-07 03:58:38,462 INFO - ✓ Worker 5: common_voice_en_160380.mp3:  Jimness leaps into the air from the balance beam.\n",
      "2025-10-07 03:58:38,911 INFO - ✓ Worker 8: common_voice_en_160386.mp3:  A woman and child hug near a road.\n",
      "2025-10-07 03:58:38,942 INFO - ✓ Worker 15: common_voice_en_16049931.mp3:  The insurance policy will expire in 2020.\n",
      "2025-10-07 03:58:39,176 INFO - ✓ Worker 12: common_voice_en_16048885.mp3:  People born in 2018 will possibly live into the 22nd century.\n",
      "2025-10-07 03:58:39,195 INFO - ✓ Worker 7: common_voice_en_16047838.mp3:  Cheap clothes are flashy, but don't last.\n",
      "2025-10-07 03:58:39,212 INFO - ✓ Worker 10: common_voice_en_16048390.mp3:  The online dictionary is much easier and faster than the paper dictionary.\n",
      "2025-10-07 03:58:39,291 INFO - ✓ Worker 14: common_voice_en_16083.mp3:  A little girl is sitting in a green chair playing with blocks.\n",
      "2025-10-07 03:58:39,308 INFO - ✓ Worker 4: common_voice_en_160382.mp3:  Three children, one with a stuffed kitten in a field of flowers.\n",
      "2025-10-07 03:58:39,337 INFO - ✓ Worker 13: common_voice_en_16082.mp3:  A guy sitting at a desk talking on a phone with books laying everywhere.\n",
      "2025-10-07 03:58:39,356 INFO - ✓ Worker 11: common_voice_en_160385.mp3:  A group of people wearing backpacks are walking toward hills in the distance on a trail outside.\n",
      "2025-10-07 03:58:39,363 INFO - Appended 240 rows to ./transcripts_from_prefix.csv\n"
     ]
    },
    {
     "name": "stderr",
     "output_type": "stream",
     "text": [
      "Downloading batch 26:  52%|█████▏    | 25/48 [00:00<00:00, 108.78it/s]"
     ]
    },
    {
     "name": "stdout",
     "output_type": "stream",
     "text": [
      "2025-10-07 03:58:40,337 WARNING - Connection pool is full, discarding connection: asrelder-data.s3.amazonaws.com. Connection pool size: 10\n",
      "2025-10-07 03:58:40,338 WARNING - Connection pool is full, discarding connection: asrelder-data.s3.amazonaws.com. Connection pool size: 10\n",
      "2025-10-07 03:58:40,341 WARNING - Connection pool is full, discarding connection: asrelder-data.s3.amazonaws.com. Connection pool size: 10\n"
     ]
    },
    {
     "name": "stderr",
     "output_type": "stream",
     "text": [
      "Downloading batch 26:  88%|████████▊ | 42/48 [00:00<00:00, 132.31it/s]"
     ]
    },
    {
     "name": "stdout",
     "output_type": "stream",
     "text": [
      "2025-10-07 03:58:40,344 WARNING - Connection pool is full, discarding connection: asrelder-data.s3.amazonaws.com. Connection pool size: 10\n",
      "2025-10-07 03:58:40,357 WARNING - Connection pool is full, discarding connection: asrelder-data.s3.amazonaws.com. Connection pool size: 10\n",
      "2025-10-07 03:58:40,358 WARNING - Connection pool is full, discarding connection: asrelder-data.s3.amazonaws.com. Connection pool size: 10\n",
      "2025-10-07 03:58:40,385 WARNING - Connection pool is full, discarding connection: asrelder-data.s3.amazonaws.com. Connection pool size: 10\n"
     ]
    },
    {
     "name": "stderr",
     "output_type": "stream",
     "text": [
      "Downloading batch 26: 100%|██████████| 48/48 [00:00<00:00, 112.86it/s]"
     ]
    },
    {
     "name": "stdout",
     "output_type": "stream",
     "text": [
      "2025-10-07 03:58:40,388 INFO - Transcribing 48 files in parallel...\n"
     ]
    },
    {
     "name": "stderr",
     "output_type": "stream",
     "text": [
      "\n"
     ]
    },
    {
     "name": "stdout",
     "output_type": "stream",
     "text": [
      "2025-10-07 03:58:43,869 INFO - ✓ Worker 6: common_voice_en_16086.mp3:  The smiling girl has climbed a tree.\n",
      "2025-10-07 03:58:44,106 INFO - ✓ Worker 9: common_voice_en_16098.mp3:  A couple watching a show at a restaurant.\n",
      "2025-10-07 03:58:44,161 INFO - ✓ Worker 11: common_voice_en_16105.mp3:  African children make funny faces at the camera.\n",
      "2025-10-07 03:58:44,645 INFO - ✓ Worker 5: common_voice_en_16101.mp3:  A woman sits reading among many phases of flowers.\n",
      "2025-10-07 03:58:44,651 INFO - ✓ Worker 15: common_voice_en_16106.mp3:  A woman is walking a blue bike across the road.\n",
      "2025-10-07 03:58:44,698 INFO - ✓ Worker 1: common_voice_en_16085.mp3:  Two dark-haired girls are on a tire swing.\n",
      "2025-10-07 03:58:44,720 INFO - ✓ Worker 3: common_voice_en_16089.mp3:  Three men excavating what appears to be a mountainside.\n",
      "2025-10-07 03:58:45,066 INFO - ✓ Worker 4: common_voice_en_16087.mp3:  A dark-haired drummer is playing his set with enthusiasm.\n",
      "2025-10-07 03:58:45,081 INFO - ✓ Worker 0: common_voice_en_16092.mp3:  A man with a headband sitting on a green bench.\n",
      "2025-10-07 03:58:45,146 INFO - ✓ Worker 12: common_voice_en_16100.mp3:  A man paints on an easel as people walk by.\n",
      "2025-10-07 03:58:45,156 INFO - ✓ Worker 7: common_voice_en_16091.mp3:  A person is show upside down on his bicycle over a large field.\n",
      "2025-10-07 03:58:45,737 INFO - ✓ Worker 14: common_voice_en_161051.mp3:  What are the showings for the natural history of parking lot's movie house?\n",
      "2025-10-07 03:58:45,764 INFO - ✓ Worker 13: common_voice_en_16094.mp3:  Two large rooster statues stand on the sidewalk in front of a restaurant.\n",
      "2025-10-07 03:58:46,116 INFO - ✓ Worker 2: common_voice_en_16093.mp3:  A group of men are wearing hats while riding a horse in front of spectators.\n",
      "2025-10-07 03:58:46,342 INFO - ✓ Worker 8: common_voice_en_16084.mp3:  Two women buying a product that the one woman in the green toboggan is selling.\n",
      "2025-10-07 03:58:46,487 INFO - ✓ Worker 10: common_voice_en_16090.mp3:  Many Middle Eastern people are sitting in the back of a blue truck.\n",
      "2025-10-07 03:58:48,242 INFO - ✓ Worker 5: common_voice_en_16102.mp3:  A girl draws with crayons.\n",
      "2025-10-07 03:58:48,568 INFO - ✓ Worker 9: common_voice_en_161611.mp3:  A young child practicing karate.\n",
      "2025-10-07 03:58:48,752 INFO - ✓ Worker 3: common_voice_en_16096.mp3:  A couple holding hands while walking down the beach.\n",
      "2025-10-07 03:58:48,896 INFO - ✓ Worker 1: common_voice_en_160973.mp3:  What will the weather be in Tonto Town?\n",
      "2025-10-07 03:58:49,007 INFO - ✓ Worker 6: common_voice_en_16095.mp3:  A man in overalls plays the guitar in sings.\n",
      "2025-10-07 03:58:49,056 INFO - ✓ Worker 0: common_voice_en_16103.mp3:  A curling competitor lines up her next shot.\n",
      "2025-10-07 03:58:49,135 INFO - ✓ Worker 14: common_voice_en_161619.mp3:  Two dogs in a stream.\n",
      "2025-10-07 03:58:49,182 INFO - ✓ Worker 4: common_voice_en_16097.mp3:  An old man sits with a tray in his lap.\n",
      "2025-10-07 03:58:49,367 INFO - ✓ Worker 11: common_voice_en_161610.mp3:  Three construction workers are working to plant grass.\n",
      "2025-10-07 03:58:49,472 INFO - ✓ Worker 15: common_voice_en_161615.mp3:  three dogs playing in the snow.\n",
      "2025-10-07 03:58:49,768 INFO - ✓ Worker 7: common_voice_en_160979.mp3:  Stark naked under bare poles in purist naturalibus.\n",
      "2025-10-07 03:58:50,127 INFO - ✓ Worker 12: common_voice_en_16108.mp3:  A man in a blue shirt looks off into the distance.\n",
      "2025-10-07 03:58:51,282 INFO - ✓ Worker 1: common_voice_en_161613.mp3:  Someone giving someone a tattoo.\n",
      "2025-10-07 03:58:51,377 INFO - ✓ Worker 13: common_voice_en_161614.mp3:  Five men in heavy winter attire, sledding down a snowy hill.\n",
      "2025-10-07 03:58:51,660 INFO - ✓ Worker 10: common_voice_en_161077.mp3:  Finally, I don't have to feel guilty for using my computer weekends.\n",
      "2025-10-07 03:58:52,479 INFO - ✓ Worker 8: common_voice_en_16107.mp3:  Asian kids who are wearing backpacks are standing in front of a yellow school bus.\n",
      "2025-10-07 03:58:52,540 INFO - ✓ Worker 9: common_voice_en_162512.mp3:  People are cleaning windows in a dark environment.\n",
      "2025-10-07 03:58:52,753 INFO - ✓ Worker 2: common_voice_en_16099.mp3:  An athlete wearing a black and gold NFL jersey carries multiple copies of the same video game.\n",
      "2025-10-07 03:58:53,088 INFO - ✓ Worker 5: common_voice_en_161621.mp3:  A baby and a white and light purple out the crime.\n",
      "2025-10-07 03:58:53,730 INFO - ✓ Worker 4: common_voice_en_161622.mp3:  A little girl wears a helmet and prepares to ride a scooter.\n",
      "2025-10-07 03:58:54,009 INFO - ✓ Worker 12: common_voice_en_161623.mp3:  People are sitting on stairs outdoors.\n",
      "2025-10-07 03:58:54,429 INFO - ✓ Worker 0: common_voice_en_161612.mp3:  At a campsite, people are enjoying each other's company before what looks like hiking.\n",
      "2025-10-07 03:58:54,618 INFO - ✓ Worker 13: common_voice_en_161618.mp3:  Show them playing a fun game in the classroom.\n",
      "2025-10-07 03:58:54,731 INFO - ✓ Worker 8: common_voice_en_161643.mp3:  To flee Sam smartly.\n",
      "2025-10-07 03:58:54,842 INFO - ✓ Worker 7: common_voice_en_161609.mp3:  Three young people in red shirts with triple threat sports inscribed are out of all game.\n",
      "2025-10-07 03:58:54,861 INFO - ✓ Worker 11: common_voice_en_161629.mp3:  A one and a few children in an alleyway in between a vehicle and a fence.\n",
      "2025-10-07 03:58:54,921 INFO - ✓ Worker 14: common_voice_en_161627.mp3:  Two men dance together while a crowd cheers them on.\n",
      "2025-10-07 03:58:55,157 INFO - ✓ Worker 3: common_voice_en_161620.mp3:  A UFC match with the man-in-flame shorts on top and the man-in-blue shorts protecting himself.\n",
      "2025-10-07 03:58:55,174 INFO - ✓ Worker 6: common_voice_en_161625.mp3:  Acoustic guitars and lead vocalist electric guitars and keyboardists play a gig at a swingy venue.\n",
      "2025-10-07 03:58:55,206 INFO - ✓ Worker 2: common_voice_en_161617.mp3:  A lady wearing a red skirt is dancing with a man.\n",
      "2025-10-07 03:58:55,303 INFO - ✓ Worker 10: common_voice_en_161628.mp3:  A bearded man in a blue shirt is laughing while a suited mustache man holds up a glass.\n",
      "2025-10-07 03:58:55,425 INFO - ✓ Worker 15: common_voice_en_161626.mp3:  Two young girls lay face done on grass and face the camera as they listen to an iPod near folding c...\n"
     ]
    },
    {
     "name": "stderr",
     "output_type": "stream",
     "text": [
      "Downloading batch 27:  40%|███▉      | 19/48 [00:00<00:00, 89.82it/s]"
     ]
    },
    {
     "name": "stdout",
     "output_type": "stream",
     "text": [
      "2025-10-07 03:58:56,348 WARNING - Connection pool is full, discarding connection: asrelder-data.s3.amazonaws.com. Connection pool size: 10\n",
      "2025-10-07 03:58:56,353 WARNING - Connection pool is full, discarding connection: asrelder-data.s3.amazonaws.com. Connection pool size: 10\n",
      "2025-10-07 03:58:56,353 WARNING - Connection pool is full, discarding connection: asrelder-data.s3.amazonaws.com. Connection pool size: 10\n",
      "2025-10-07 03:58:56,362 WARNING - Connection pool is full, discarding connection: asrelder-data.s3.amazonaws.com. Connection pool size: 10\n"
     ]
    },
    {
     "name": "stderr",
     "output_type": "stream",
     "text": [
      "Downloading batch 27:  90%|████████▉ | 43/48 [00:00<00:00, 148.48it/s]"
     ]
    },
    {
     "name": "stdout",
     "output_type": "stream",
     "text": [
      "2025-10-07 03:58:56,368 WARNING - Connection pool is full, discarding connection: asrelder-data.s3.amazonaws.com. Connection pool size: 10\n",
      "2025-10-07 03:58:56,371 WARNING - Connection pool is full, discarding connection: asrelder-data.s3.amazonaws.com. Connection pool size: 10\n",
      "2025-10-07 03:58:56,375 WARNING - Connection pool is full, discarding connection: asrelder-data.s3.amazonaws.com. Connection pool size: 10\n",
      "2025-10-07 03:58:56,381 WARNING - Connection pool is full, discarding connection: asrelder-data.s3.amazonaws.com. Connection pool size: 10\n",
      "2025-10-07 03:58:56,391 WARNING - Connection pool is full, discarding connection: asrelder-data.s3.amazonaws.com. Connection pool size: 10\n"
     ]
    },
    {
     "name": "stderr",
     "output_type": "stream",
     "text": [
      "Downloading batch 27: 100%|██████████| 48/48 [00:00<00:00, 124.24it/s]"
     ]
    },
    {
     "name": "stdout",
     "output_type": "stream",
     "text": [
      "2025-10-07 03:58:56,393 INFO - Transcribing 48 files in parallel...\n"
     ]
    },
    {
     "name": "stderr",
     "output_type": "stream",
     "text": [
      "\n"
     ]
    },
    {
     "name": "stdout",
     "output_type": "stream",
     "text": [
      "2025-10-07 03:59:00,497 INFO - ✓ Worker 9: common_voice_en_162540.mp3:  Two young white males are outside near many bushes.\n",
      "2025-10-07 03:59:00,582 INFO - ✓ Worker 7: common_voice_en_162514.mp3:  A little boy sits on top of a big rock.\n",
      "2025-10-07 03:59:01,056 INFO - ✓ Worker 12: common_voice_en_162534.mp3:  Two boys race on ice skates while others watch.\n",
      "2025-10-07 03:59:01,267 INFO - ✓ Worker 1: common_voice_en_162516.mp3:  A man takes a picture of a girl with a patriotic outfit.\n",
      "2025-10-07 03:59:01,421 INFO - ✓ Worker 0: common_voice_en_162513.mp3:  A man is speaking a presentation while others watch a slide show.\n",
      "2025-10-07 03:59:01,604 INFO - ✓ Worker 8: common_voice_en_162535.mp3:  A woman is sitting in a vegetable market surrounded by many colorful foods.\n",
      "2025-10-07 03:59:01,723 INFO - ✓ Worker 11: common_voice_en_162515.mp3:  A woman with curly orange hair stands in a classroom with others observing.\n",
      "2025-10-07 03:59:01,843 INFO - ✓ Worker 5: common_voice_en_162521.mp3:  Bikers getting airborne on a track near water and a skyline.\n",
      "2025-10-07 03:59:01,927 INFO - ✓ Worker 13: common_voice_en_162522.mp3:  Two women walking arm and arm down the street towards the jewelry store.\n",
      "2025-10-07 03:59:01,939 INFO - ✓ Worker 4: common_voice_en_162533.mp3:  A dirt biker rides up a rocky hill on a motorized dirt bike.\n",
      "2025-10-07 03:59:02,061 INFO - ✓ Worker 15: common_voice_en_162525.mp3:  A young woman looks at a paper with a man sitting down in a brown shirt.\n",
      "2025-10-07 03:59:02,224 INFO - ✓ Worker 14: common_voice_en_162527.mp3:  A parade or festival in a Latin country street under a building overgrown with ivy.\n",
      "2025-10-07 03:59:02,365 INFO - ✓ Worker 3: common_voice_en_162523.mp3:  Two men scantily clad performing acrobatic moves in front of a crowd.\n",
      "2025-10-07 03:59:02,579 INFO - ✓ Worker 6: common_voice_en_162532.mp3:  A hiker is walking in the snow with a snow-covered mountain behind him.\n",
      "2025-10-07 03:59:02,868 INFO - ✓ Worker 10: common_voice_en_162545.mp3:  A female in an orange tank top sunglasses and brown knit cap is hula hooping.\n",
      "2025-10-07 03:59:03,069 INFO - ✓ Worker 2: common_voice_en_162518.mp3:  A man in a blue hard hat and on shirt is fixing the sighting of a road.\n",
      "2025-10-07 03:59:05,234 INFO - ✓ Worker 11: common_voice_en_162568.mp3:  Group of Muslim girls standing.\n",
      "2025-10-07 03:59:05,580 INFO - ✓ Worker 1: common_voice_en_162546.mp3:  A man wearing a black shirt is walking down the street.\n",
      "2025-10-07 03:59:05,917 INFO - ✓ Worker 5: common_voice_en_162530.mp3:  A woman shopping for a fruit at an outdoor market.\n",
      "2025-10-07 03:59:06,561 INFO - ✓ Worker 0: common_voice_en_162537.mp3:  Two green painted women performed for a crowd of onlookers.\n",
      "2025-10-07 03:59:06,810 INFO - ✓ Worker 15: common_voice_en_162560.mp3:  A man and woman make an exchange for goods.\n",
      "2025-10-07 03:59:06,925 INFO - ✓ Worker 13: common_voice_en_162565.mp3:  People socialize at the center of town during the evening.\n",
      "2025-10-07 03:59:06,953 INFO - ✓ Worker 6: common_voice_en_162551.mp3:  The dog with its tongue out walking in the snow.\n",
      "2025-10-07 03:59:06,990 INFO - ✓ Worker 12: common_voice_en_162570.mp3:  We have to think about this, and it's your fault.\n",
      "2025-10-07 03:59:07,020 INFO - ✓ Worker 7: common_voice_en_162554.mp3:  A woman jogging up a hill with a scenic view behind her.\n",
      "2025-10-07 03:59:07,116 INFO - ✓ Worker 10: common_voice_en_162561.mp3:  Athletic black distance runner finishes a road race.\n",
      "2025-10-07 03:59:07,454 INFO - ✓ Worker 8: common_voice_en_162524.mp3:  A group of people in an auditorium, one of the people is sleeping.\n",
      "2025-10-07 03:59:07,538 INFO - ✓ Worker 3: common_voice_en_162544.mp3:  From one girl tackling another, I say, hold on to your drink.\n",
      "2025-10-07 03:59:07,680 INFO - ✓ Worker 2: common_voice_en_162520.mp3:  Some Japanese people enjoy a fireworks show from the local street.\n",
      "2025-10-07 03:59:07,958 INFO - ✓ Worker 9: common_voice_en_162519.mp3:  A woman in a dimly lit room looks through her microscope and adjusts the vision.\n",
      "2025-10-07 03:59:08,124 INFO - ✓ Worker 4: common_voice_en_162531.mp3:  A quarterback is pressured to throw the ball as quickly as possible to avoid being sacked.\n",
      "2025-10-07 03:59:08,678 INFO - ✓ Worker 14: common_voice_en_162555.mp3:  The climber is hanging off a vertical cliff with gear, but no shirt.\n",
      "2025-10-07 03:59:09,167 INFO - ✓ Worker 1: common_voice_en_162548.mp3:  An elderly woman collects recyclable trash.\n",
      "2025-10-07 03:59:10,262 INFO - ✓ Worker 7: common_voice_en_162583.mp3:  A child smiles on a tree swing.\n",
      "2025-10-07 03:59:10,773 INFO - ✓ Worker 0: common_voice_en_162563.mp3:  A man on a silver motorcycle is driving down the street.\n",
      "2025-10-07 03:59:10,818 INFO - ✓ Worker 12: common_voice_en_162588.mp3:  Hawaiian man singing into a red microphone.\n",
      "2025-10-07 03:59:11,015 INFO - ✓ Worker 11: common_voice_en_162586.mp3:  For tourists are looking at a mountain.\n",
      "2025-10-07 03:59:11,082 INFO - ✓ Worker 13: common_voice_en_162584.mp3:  A small child is helping with gardening.\n",
      "2025-10-07 03:59:11,286 INFO - ✓ Worker 6: common_voice_en_162578.mp3:  Four humans and four dogs lounging in the dining area.\n",
      "2025-10-07 03:59:11,572 INFO - ✓ Worker 9: common_voice_en_162575.mp3:  A man running in black and white tracksuit.\n",
      "2025-10-07 03:59:11,582 INFO - ✓ Worker 3: common_voice_en_162574.mp3:  A young woman in a hat poses with a rooster.\n",
      "2025-10-07 03:59:11,670 INFO - ✓ Worker 4: common_voice_en_162577.mp3:  Boy in striped shirt standing among the tall grasses.\n",
      "2025-10-07 03:59:11,897 INFO - ✓ Worker 15: common_voice_en_162585.mp3:  A man ironing his clothes while his friend is watching.\n",
      "2025-10-07 03:59:11,939 INFO - ✓ Worker 5: common_voice_en_162550.mp3:  A woman in a red dress is singing on a stage next to three men playing instruments.\n",
      "2025-10-07 03:59:11,957 INFO - ✓ Worker 8: common_voice_en_162572.mp3:  A bald photographer with dark rimmed glasses on a long bearded taking a picture.\n",
      "2025-10-07 03:59:11,968 INFO - ✓ Worker 2: common_voice_en_162573.mp3:  Two classical dancers, a man and a woman, performing on stage.\n",
      "2025-10-07 03:59:11,988 INFO - ✓ Worker 14: common_voice_en_162581.mp3:  Two young men with curly hair are seated at a table eating.\n",
      "2025-10-07 03:59:12,042 INFO - ✓ Worker 10: common_voice_en_162589.mp3:  One individual on a jet ski doing a flip and mid-air with the water in the background.\n"
     ]
    },
    {
     "name": "stderr",
     "output_type": "stream",
     "text": [
      "Downloading batch 28:  38%|███▊      | 18/48 [00:00<00:00, 84.27it/s]"
     ]
    },
    {
     "name": "stdout",
     "output_type": "stream",
     "text": [
      "2025-10-07 03:59:12,912 WARNING - Connection pool is full, discarding connection: asrelder-data.s3.amazonaws.com. Connection pool size: 10\n",
      "2025-10-07 03:59:12,952 WARNING - Connection pool is full, discarding connection: asrelder-data.s3.amazonaws.com. Connection pool size: 10\n"
     ]
    },
    {
     "name": "stderr",
     "output_type": "stream",
     "text": [
      "Downloading batch 28:  79%|███████▉  | 38/48 [00:00<00:00, 130.76it/s]"
     ]
    },
    {
     "name": "stdout",
     "output_type": "stream",
     "text": [
      "2025-10-07 03:59:13,015 WARNING - Connection pool is full, discarding connection: asrelder-data.s3.amazonaws.com. Connection pool size: 10\n",
      "2025-10-07 03:59:13,019 WARNING - Connection pool is full, discarding connection: asrelder-data.s3.amazonaws.com. Connection pool size: 10\n",
      "2025-10-07 03:59:13,033 WARNING - Connection pool is full, discarding connection: asrelder-data.s3.amazonaws.com. Connection pool size: 10\n",
      "2025-10-07 03:59:13,035 WARNING - Connection pool is full, discarding connection: asrelder-data.s3.amazonaws.com. Connection pool size: 10\n",
      "2025-10-07 03:59:13,065 WARNING - Connection pool is full, discarding connection: asrelder-data.s3.amazonaws.com. Connection pool size: 10\n",
      "2025-10-07 03:59:13,068 WARNING - Connection pool is full, discarding connection: asrelder-data.s3.amazonaws.com. Connection pool size: 10\n",
      "2025-10-07 03:59:13,069 WARNING - Connection pool is full, discarding connection: asrelder-data.s3.amazonaws.com. Connection pool size: 10\n"
     ]
    },
    {
     "name": "stderr",
     "output_type": "stream",
     "text": [
      "Downloading batch 28: 100%|██████████| 48/48 [00:00<00:00, 109.92it/s]"
     ]
    },
    {
     "name": "stdout",
     "output_type": "stream",
     "text": [
      "2025-10-07 03:59:13,072 INFO - Transcribing 48 files in parallel...\n"
     ]
    },
    {
     "name": "stderr",
     "output_type": "stream",
     "text": [
      "\n"
     ]
    },
    {
     "name": "stdout",
     "output_type": "stream",
     "text": [
      "2025-10-07 03:59:16,334 INFO - ✓ Worker 6: common_voice_en_162619.mp3:  Multiple people in this women pool.\n",
      "2025-10-07 03:59:16,383 INFO - ✓ Worker 15: common_voice_en_162632.mp3:  People line up in the ocean.\n",
      "2025-10-07 03:59:16,581 INFO - ✓ Worker 14: common_voice_en_162631.mp3:  Two men are holding and playing guitars.\n",
      "2025-10-07 03:59:16,645 INFO - ✓ Worker 3: common_voice_en_162596.mp3:  A couple ladies having a party.\n",
      "2025-10-07 03:59:16,840 INFO - ✓ Worker 4: common_voice_en_162612.mp3:  A man reading the paper at a cafe.\n",
      "2025-10-07 03:59:17,087 INFO - ✓ Worker 11: common_voice_en_162605.mp3:  a priest standing against the wooden wall and thinking.\n",
      "2025-10-07 03:59:17,106 INFO - ✓ Worker 12: common_voice_en_162628.mp3:  The people are standing in front of a building.\n",
      "2025-10-07 03:59:17,314 INFO - ✓ Worker 5: common_voice_en_162602.mp3:  Children playing soccer on a field while parents watch.\n",
      "2025-10-07 03:59:17,620 INFO - ✓ Worker 7: common_voice_en_162624.mp3:  A white dog with a black harness runs on a rocky shore.\n",
      "2025-10-07 03:59:17,641 INFO - ✓ Worker 2: common_voice_en_162595.mp3:  A police officer stands between dragons and a Chinese New Year celebration.\n",
      "2025-10-07 03:59:17,650 INFO - ✓ Worker 0: common_voice_en_162601.mp3:  A girl in bright clothes dancing with a hula hoop.\n",
      "2025-10-07 03:59:17,710 INFO - ✓ Worker 8: common_voice_en_162618.mp3:  A soccer game where a corner kick is about to take place.\n",
      "2025-10-07 03:59:17,793 INFO - ✓ Worker 1: common_voice_en_162597.mp3:  Man walking down a dirt road with stores on the side.\n",
      "2025-10-07 03:59:17,867 INFO - ✓ Worker 13: common_voice_en_162606.mp3:  An elderly man and woman are ready to maneuver a contraption.\n",
      "2025-10-07 03:59:18,637 INFO - ✓ Worker 10: common_voice_en_162599.mp3:  A dark-haired woman in black and gold walking through a street festival.\n",
      "2025-10-07 03:59:18,889 INFO - ✓ Worker 9: common_voice_en_162610.mp3:  People are riding the cyclone through a ride at the Coney Island amusement park.\n",
      "2025-10-07 03:59:19,579 INFO - ✓ Worker 3: common_voice_en_162611.mp3:  A street scene with people walking.\n",
      "2025-10-07 03:59:20,299 INFO - ✓ Worker 2: common_voice_en_162621.mp3:  A woman leaving a wedding.\n",
      "2025-10-07 03:59:20,667 INFO - ✓ Worker 4: common_voice_en_162614.mp3:  The dogs run a race at the track.\n",
      "2025-10-07 03:59:21,027 INFO - ✓ Worker 6: common_voice_en_162627.mp3:  And electronic device is being worked on by a woman.\n",
      "2025-10-07 03:59:21,350 INFO - ✓ Worker 10: common_voice_en_162648.mp3:  A group of smiling women.\n",
      "2025-10-07 03:59:21,407 INFO - ✓ Worker 1: common_voice_en_162625.mp3:  A young boy was watching a goose.\n",
      "2025-10-07 03:59:21,551 INFO - ✓ Worker 11: common_voice_en_162647.mp3:  A black poodle is running through the grass.\n",
      "2025-10-07 03:59:21,776 INFO - ✓ Worker 12: common_voice_en_162646.mp3:  A young boy plays in front of a blue object.\n",
      "2025-10-07 03:59:21,820 INFO - ✓ Worker 5: common_voice_en_162603.mp3:  A group of people are sitting on a sofa hugging each other.\n",
      "2025-10-07 03:59:22,249 INFO - ✓ Worker 9: common_voice_en_162637.mp3:  People are tackling each other while playing football.\n",
      "2025-10-07 03:59:22,353 INFO - ✓ Worker 8: common_voice_en_162635.mp3:  A rock climber with a white helmet is repelling.\n",
      "2025-10-07 03:59:22,895 INFO - ✓ Worker 0: common_voice_en_162620.mp3:  Three men cut a hole in a frozen lake in preparation for ice fishing.\n",
      "2025-10-07 03:59:23,277 INFO - ✓ Worker 15: common_voice_en_162652.mp3:  Please help me search the TV series AmouseDivided.\n",
      "2025-10-07 03:59:23,367 INFO - ✓ Worker 13: common_voice_en_162639.mp3:  German people are having a dinner party at their swank high-rise apartment.\n",
      "2025-10-07 03:59:23,497 INFO - ✓ Worker 7: common_voice_en_162598.mp3:  This is a bunch of people standing in a line at what looks like a bicycle shop.\n",
      "2025-10-07 03:59:24,496 INFO - ✓ Worker 14: common_voice_en_162644.mp3:  Two individuals wearing sunglasses smile for the camera in front of a body of water.\n",
      "2025-10-07 03:59:25,003 INFO - ✓ Worker 3: common_voice_en_162654.mp3:  A young girl cleansed the ground with a rag.\n",
      "2025-10-07 03:59:25,162 INFO - ✓ Worker 6: common_voice_en_162643.mp3:  A green car parked near a crowded space.\n",
      "2025-10-07 03:59:25,500 INFO - ✓ Worker 4: common_voice_en_162656.mp3:  A line of people are biking down a road.\n",
      "2025-10-07 03:59:25,697 INFO - ✓ Worker 8: common_voice_en_162660.mp3:  A bald man eating a meal.\n",
      "2025-10-07 03:59:25,908 INFO - ✓ Worker 1: common_voice_en_162651.mp3:  A woman reading and cooking in the back of an SUV.\n",
      "2025-10-07 03:59:26,101 INFO - ✓ Worker 10: common_voice_en_162667.mp3:  A small black and brown puppy is looking up.\n",
      "2025-10-07 03:59:26,459 INFO - ✓ Worker 11: common_voice_en_162655.mp3:  Two women are walking on a narrow piece of wood.\n",
      "2025-10-07 03:59:26,476 INFO - ✓ Worker 9: common_voice_en_162662.mp3:  A woman wearing shorts walks down the busy streets of a city.\n",
      "2025-10-07 03:59:26,540 INFO - ✓ Worker 2: common_voice_en_162649.mp3:  One person wearing yellow and black is mountain biking on a dirt trail through the woods.\n",
      "2025-10-07 03:59:26,585 INFO - ✓ Worker 12: common_voice_en_162657.mp3:  Scientists in the laboratory viewing something through a microscope.\n",
      "2025-10-07 03:59:26,794 INFO - ✓ Worker 5: common_voice_en_162645.mp3:  Here is a picture of an Asian woman drinking beer outside and sitting on a green bench.\n",
      "2025-10-07 03:59:26,830 INFO - ✓ Worker 13: common_voice_en_162661.mp3:  A man jumps in the air in the middle of a road.\n",
      "2025-10-07 03:59:26,847 INFO - ✓ Worker 14: common_voice_en_162658.mp3:  Workers treat fabric in outdoor pools of dye.\n",
      "2025-10-07 03:59:26,914 INFO - ✓ Worker 15: common_voice_en_162666.mp3:  Three men are sitting at a conference table laughing.\n",
      "2025-10-07 03:59:26,950 INFO - ✓ Worker 7: common_voice_en_162659.mp3:  A helmeted BMX biker leaps into the air on his bike.\n",
      "2025-10-07 03:59:26,977 INFO - ✓ Worker 0: common_voice_en_162653.mp3:  A young boy in a green-hooded shirt pulling a yellow and black suitcase behind him.\n"
     ]
    },
    {
     "name": "stderr",
     "output_type": "stream",
     "text": [
      "Downloading batch 29:  35%|███▌      | 17/48 [00:00<00:00, 78.84it/s]"
     ]
    },
    {
     "name": "stdout",
     "output_type": "stream",
     "text": [
      "2025-10-07 03:59:27,842 WARNING - Connection pool is full, discarding connection: asrelder-data.s3.amazonaws.com. Connection pool size: 10\n",
      "2025-10-07 03:59:27,919 WARNING - Connection pool is full, discarding connection: asrelder-data.s3.amazonaws.com. Connection pool size: 10\n"
     ]
    },
    {
     "name": "stderr",
     "output_type": "stream",
     "text": [
      "Downloading batch 29:  83%|████████▎ | 40/48 [00:00<00:00, 137.68it/s]"
     ]
    },
    {
     "name": "stdout",
     "output_type": "stream",
     "text": [
      "2025-10-07 03:59:27,920 WARNING - Connection pool is full, discarding connection: asrelder-data.s3.amazonaws.com. Connection pool size: 10\n",
      "2025-10-07 03:59:27,924 WARNING - Connection pool is full, discarding connection: asrelder-data.s3.amazonaws.com. Connection pool size: 10\n",
      "2025-10-07 03:59:27,928 WARNING - Connection pool is full, discarding connection: asrelder-data.s3.amazonaws.com. Connection pool size: 10\n",
      "2025-10-07 03:59:27,929 WARNING - Connection pool is full, discarding connection: asrelder-data.s3.amazonaws.com. Connection pool size: 10\n",
      "2025-10-07 03:59:27,929 WARNING - Connection pool is full, discarding connection: asrelder-data.s3.amazonaws.com. Connection pool size: 10\n",
      "2025-10-07 03:59:27,941 WARNING - Connection pool is full, discarding connection: asrelder-data.s3.amazonaws.com. Connection pool size: 10\n",
      "2025-10-07 03:59:27,943 WARNING - Connection pool is full, discarding connection: asrelder-data.s3.amazonaws.com. Connection pool size: 10\n"
     ]
    },
    {
     "name": "stderr",
     "output_type": "stream",
     "text": [
      "Downloading batch 29: 100%|██████████| 48/48 [00:00<00:00, 124.71it/s]"
     ]
    },
    {
     "name": "stdout",
     "output_type": "stream",
     "text": [
      "2025-10-07 03:59:27,945 INFO - Transcribing 48 files in parallel...\n"
     ]
    },
    {
     "name": "stderr",
     "output_type": "stream",
     "text": [
      "\n"
     ]
    },
    {
     "name": "stdout",
     "output_type": "stream",
     "text": [
      "2025-10-07 03:59:31,313 INFO - ✓ Worker 14: common_voice_en_162684.mp3:  Two men during a football game.\n",
      "2025-10-07 03:59:31,598 INFO - ✓ Worker 1: common_voice_en_162673.mp3:  A woman in black climbs the rock wall.\n",
      "2025-10-07 03:59:31,837 INFO - ✓ Worker 4: common_voice_en_162671.mp3:  Man sprays sand image of a man.\n",
      "2025-10-07 03:59:31,955 INFO - ✓ Worker 5: common_voice_en_162675.mp3:  A woman is walking her dog across the street.\n",
      "2025-10-07 03:59:31,962 INFO - ✓ Worker 0: common_voice_en_162677.mp3:  A lady with blonde hair helping another person.\n",
      "2025-10-07 03:59:32,252 INFO - ✓ Worker 10: common_voice_en_162676.mp3:  A woman lying on a rock at a campground.\n",
      "2025-10-07 03:59:32,746 INFO - ✓ Worker 11: common_voice_en_162680.mp3:  A man crosses the street next to a light rail station.\n",
      "2025-10-07 03:59:32,963 INFO - ✓ Worker 8: common_voice_en_162691.mp3:  A woman with brown hair sitting on a bench outside of KFA.\n",
      "2025-10-07 03:59:33,291 INFO - ✓ Worker 9: common_voice_en_162689.mp3:  A man and a woman in a crowd of people on a street at night.\n",
      "2025-10-07 03:59:33,477 INFO - ✓ Worker 6: common_voice_en_162695.mp3:  A smiling child wearing a pink shirt and goggles jumps into a swimming pool.\n",
      "2025-10-07 03:59:33,915 INFO - ✓ Worker 2: common_voice_en_162683.mp3:  A brown and white dog is catching a tennis ball while standing on its hind legs.\n",
      "2025-10-07 03:59:34,305 INFO - ✓ Worker 3: common_voice_en_162668.mp3:  A happy child play in the scoop of a shovel by a chair in a grassy backyard.\n",
      "2025-10-07 03:59:34,370 INFO - ✓ Worker 15: common_voice_en_162690.mp3:  Five men dressed in athletic apparel on a jog are alongside a road beside a large field.\n",
      "2025-10-07 03:59:34,406 INFO - ✓ Worker 7: common_voice_en_162679.mp3:  A man in Rayban sunglasses and a black V-neck holds a stringed instrument.\n",
      "2025-10-07 03:59:34,653 INFO - ✓ Worker 12: common_voice_en_162692.mp3:  A man in a hat and blazer performs on the street with his guitar and harmonica.\n",
      "2025-10-07 03:59:34,957 INFO - ✓ Worker 13: common_voice_en_162682.mp3:  Two green-shirted soccer players attempt to secure the soccer ball from a player dressed in white.\n",
      "2025-10-07 03:59:35,386 INFO - ✓ Worker 1: common_voice_en_162693.mp3:  A person walking down the sidewalk in the city.\n",
      "2025-10-07 03:59:36,411 INFO - ✓ Worker 4: common_voice_en_162681.mp3:  Marshall art students face off against each other in a gym.\n",
      "2025-10-07 03:59:37,252 INFO - ✓ Worker 0: common_voice_en_162672.mp3:  A man in a tuxedo jumps toward a woman in a wedding dress.\n",
      "2025-10-07 03:59:37,798 INFO - ✓ Worker 13: common_voice_en_162716.mp3:  A solemn group is on strike.\n",
      "2025-10-07 03:59:38,043 INFO - ✓ Worker 6: common_voice_en_162699.mp3:  A gentleman is taking a rest in a child's playhouse.\n",
      "2025-10-07 03:59:38,061 INFO - ✓ Worker 9: common_voice_en_162702.mp3:  A security guard and a blue shirt moving through an airport.\n",
      "2025-10-07 03:59:38,082 INFO - ✓ Worker 15: common_voice_en_162704.mp3:  Two dogs are fighting in the snow.\n",
      "2025-10-07 03:59:38,679 INFO - ✓ Worker 5: common_voice_en_162701.mp3:  A man is holding a hammer in his left hand over a chisel held in his right hand.\n",
      "2025-10-07 03:59:38,812 INFO - ✓ Worker 8: common_voice_en_162703.mp3:  A man and a woman are holding a fishing pole in front of a body of water.\n",
      "2025-10-07 03:59:38,838 INFO - ✓ Worker 7: common_voice_en_162698.mp3:  an elephant wearing a colorful drap carrying foliage in his trunk.\n",
      "2025-10-07 03:59:38,870 INFO - ✓ Worker 1: common_voice_en_162715.mp3:  Someone walked in a hallway.\n",
      "2025-10-07 03:59:39,621 INFO - ✓ Worker 2: common_voice_en_162687.mp3:  A booted man is sitting on a bench wearing a for-line jacket and hat.\n",
      "2025-10-07 03:59:39,899 INFO - ✓ Worker 3: common_voice_en_162700.mp3:  For women play soccer, two wearing all white and two wearing red white and blue.\n",
      "2025-10-07 03:59:40,158 INFO - ✓ Worker 12: common_voice_en_162709.mp3:  I would like to book a reservation for Caitlyn and I at Lone Star Cafe.\n",
      "2025-10-07 03:59:40,259 INFO - ✓ Worker 0: common_voice_en_162717.mp3:  An older woman sleeps on the subway.\n",
      "2025-10-07 03:59:40,612 INFO - ✓ Worker 14: common_voice_en_162721.mp3:  A woman on a brown horse jumps up the fuselage of an aging jet aircraft.\n",
      "2025-10-07 03:59:41,041 INFO - ✓ Worker 6: common_voice_en_162737.mp3:  People's talking with a big television.\n",
      "2025-10-07 03:59:41,143 INFO - ✓ Worker 5: common_voice_en_162730.mp3:  People studying a display.\n",
      "2025-10-07 03:59:41,426 INFO - ✓ Worker 11: common_voice_en_162710.mp3:  Distinguished looking gentleman with a microphone has a red and yellow prize ribbon pinned on his l...\n",
      "2025-10-07 03:59:41,583 INFO - ✓ Worker 4: common_voice_en_162708.mp3:  This person is climbing the side of a mountain.\n",
      "2025-10-07 03:59:42,038 INFO - ✓ Worker 10: common_voice_en_162686.mp3:  A woman holds a baby on her lap and holds the hand of another young child who is riding on a horse-...\n",
      "2025-10-07 03:59:42,770 INFO - ✓ Worker 8: common_voice_en_162743.mp3:  A group of young people pose for a picture in a field.\n",
      "2025-10-07 03:59:43,145 INFO - ✓ Worker 7: common_voice_en_162735.mp3:  A person wearing a blue hat rides a skateboard off a cement bench.\n",
      "2025-10-07 03:59:43,355 INFO - ✓ Worker 15: common_voice_en_162741.mp3:  A kid is jumping off of a place at.\n",
      "2025-10-07 03:59:43,392 INFO - ✓ Worker 12: common_voice_en_162724.mp3:  A man in an army uniform speaks into a microphone.\n",
      "2025-10-07 03:59:43,703 INFO - ✓ Worker 3: common_voice_en_162727.mp3:  A swanky blonde hipster walks past a man with car troubles.\n",
      "2025-10-07 03:59:43,804 INFO - ✓ Worker 2: common_voice_en_162729.mp3:  A choir in red and black sings to the audience in a dimly lit room.\n",
      "2025-10-07 03:59:43,871 INFO - ✓ Worker 13: common_voice_en_162747.mp3:  Egg yolk comes out of an egg after the egg is broken by one hand.\n",
      "2025-10-07 03:59:43,963 INFO - ✓ Worker 11: common_voice_en_162745.mp3:  A small boy in a yellow shirt laughing on the beach.\n",
      "2025-10-07 03:59:43,982 INFO - ✓ Worker 9: common_voice_en_162736.mp3:  A man wearing a white t-shirt and helmet sits on a bike, turning around to reach into his saddlebag...\n",
      "2025-10-07 03:59:44,024 INFO - ✓ Worker 14: common_voice_en_162734.mp3:  Someone in a blue shirt and half is standing on a stair and leaning against a window.\n",
      "2025-10-07 03:59:44,090 INFO - ✓ Worker 10: common_voice_en_162738.mp3:  A white and a black dog fighting in a fenced-in room.\n"
     ]
    },
    {
     "name": "stderr",
     "output_type": "stream",
     "text": [
      "Downloading batch 30:  48%|████▊     | 23/48 [00:00<00:00, 100.19it/s]"
     ]
    },
    {
     "name": "stdout",
     "output_type": "stream",
     "text": [
      "2025-10-07 03:59:45,015 WARNING - Connection pool is full, discarding connection: asrelder-data.s3.amazonaws.com. Connection pool size: 10\n",
      "2025-10-07 03:59:45,026 WARNING - Connection pool is full, discarding connection: asrelder-data.s3.amazonaws.com. Connection pool size: 10\n",
      "2025-10-07 03:59:45,027 WARNING - Connection pool is full, discarding connection: asrelder-data.s3.amazonaws.com. Connection pool size: 10\n",
      "2025-10-07 03:59:45,034 WARNING - Connection pool is full, discarding connection: asrelder-data.s3.amazonaws.com. Connection pool size: 10\n",
      "2025-10-07 03:59:45,041 WARNING - Connection pool is full, discarding connection: asrelder-data.s3.amazonaws.com. Connection pool size: 10\n"
     ]
    },
    {
     "name": "stderr",
     "output_type": "stream",
     "text": [
      "Downloading batch 30:  96%|█████████▌| 46/48 [00:00<00:00, 149.27it/s]"
     ]
    },
    {
     "name": "stdout",
     "output_type": "stream",
     "text": [
      "2025-10-07 03:59:45,061 WARNING - Connection pool is full, discarding connection: asrelder-data.s3.amazonaws.com. Connection pool size: 10\n",
      "2025-10-07 03:59:45,064 WARNING - Connection pool is full, discarding connection: asrelder-data.s3.amazonaws.com. Connection pool size: 10\n"
     ]
    },
    {
     "name": "stderr",
     "output_type": "stream",
     "text": [
      "Downloading batch 30: 100%|██████████| 48/48 [00:00<00:00, 119.50it/s]"
     ]
    },
    {
     "name": "stdout",
     "output_type": "stream",
     "text": [
      "2025-10-07 03:59:45,066 INFO - Transcribing 48 files in parallel...\n"
     ]
    },
    {
     "name": "stderr",
     "output_type": "stream",
     "text": [
      "\n"
     ]
    },
    {
     "name": "stdout",
     "output_type": "stream",
     "text": [
      "2025-10-07 03:59:48,413 INFO - ✓ Worker 11: common_voice_en_162790.mp3:  The people are riding on horses.\n",
      "2025-10-07 03:59:48,822 INFO - ✓ Worker 0: common_voice_en_162767.mp3:  The blue ball rolls steadily towards the pins.\n",
      "2025-10-07 03:59:49,084 INFO - ✓ Worker 2: common_voice_en_162780.mp3:  A group of men is drinking at a table.\n",
      "2025-10-07 03:59:49,324 INFO - ✓ Worker 6: common_voice_en_162762.mp3:  A group of people are conversing with one another.\n",
      "2025-10-07 03:59:49,503 INFO - ✓ Worker 12: common_voice_en_162783.mp3:  A large group of children are walking in a line.\n",
      "2025-10-07 03:59:49,766 INFO - ✓ Worker 1: common_voice_en_162757.mp3:  Two ballerinas dancing with beautiful pillars and building and background.\n",
      "2025-10-07 03:59:49,771 INFO - ✓ Worker 4: common_voice_en_162758.mp3:  Several men in White Chefs Jackets work in a kitchen.\n",
      "2025-10-07 03:59:49,821 INFO - ✓ Worker 15: common_voice_en_162772.mp3:  A waterplay table in which a game can be played.\n",
      "2025-10-07 03:59:50,037 INFO - ✓ Worker 8: common_voice_en_162756.mp3:  A boy and two girls on one side of a tug of war.\n",
      "2025-10-07 03:59:50,113 INFO - ✓ Worker 14: common_voice_en_162794.mp3:  Two people in San Brero's walking down the street holding hands.\n",
      "2025-10-07 03:59:50,138 INFO - ✓ Worker 10: common_voice_en_162752.mp3:  Some children wearing life jackets and holding paddles are in a raft.\n",
      "2025-10-07 03:59:50,163 INFO - ✓ Worker 9: common_voice_en_162769.mp3:  Two men and two women standing at the window of a ticket booth.\n",
      "2025-10-07 03:59:50,551 INFO - ✓ Worker 5: common_voice_en_162749.mp3:  A baby with green headphones on is waving at a large crowd of people.\n",
      "2025-10-07 03:59:50,621 INFO - ✓ Worker 7: common_voice_en_162777.mp3:  Seven men dressed in white and black look over the railing of a balcony.\n",
      "2025-10-07 03:59:51,210 INFO - ✓ Worker 3: common_voice_en_162764.mp3:  A young man is riding his bike on a ramp that is placed within a fenced area.\n",
      "2025-10-07 03:59:51,306 INFO - ✓ Worker 13: common_voice_en_162763.mp3:  A group of bystanders view the Eiffel Tower from a balcony.\n",
      "2025-10-07 03:59:52,524 INFO - ✓ Worker 2: common_voice_en_162781.mp3:  Find me a movie with the name Ocean.\n",
      "2025-10-07 03:59:53,201 INFO - ✓ Worker 4: common_voice_en_162778.mp3:  Women being spattered by red paint.\n",
      "2025-10-07 03:59:53,711 INFO - ✓ Worker 7: common_voice_en_162804.mp3:  A barefoot toddler is playing soccer.\n",
      "2025-10-07 03:59:53,725 INFO - ✓ Worker 5: common_voice_en_162797.mp3:  Young blonde girl displays a colored tongue.\n",
      "2025-10-07 03:59:53,854 INFO - ✓ Worker 9: common_voice_en_162799.mp3:  An adult and child are running along a lake.\n",
      "2025-10-07 03:59:53,981 INFO - ✓ Worker 10: common_voice_en_162802.mp3:  A elderly man standing at the counter of an establishment.\n",
      "2025-10-07 03:59:54,346 INFO - ✓ Worker 14: common_voice_en_162809.mp3:  A golden retriever nurses puppies.\n",
      "2025-10-07 03:59:54,659 INFO - ✓ Worker 11: common_voice_en_162805.mp3:  Soccer player in blue is wiping his mouth with his shirt.\n",
      "2025-10-07 03:59:54,931 INFO - ✓ Worker 0: common_voice_en_162773.mp3:  A middle-aged ethnic woman carrying a bundle of sticks in a pack on her back.\n",
      "2025-10-07 03:59:55,083 INFO - ✓ Worker 8: common_voice_en_162766.mp3:  A woman wearing a tank top is lighting a cigarette while sitting with another woman.\n",
      "2025-10-07 03:59:55,188 INFO - ✓ Worker 1: common_voice_en_162789.mp3:  A water skier cuts through the blue water with sailboats in the background.\n",
      "2025-10-07 03:59:55,324 INFO - ✓ Worker 6: common_voice_en_162771.mp3:  Two men walking, one of which is looking back and the other looking directly ahead.\n",
      "2025-10-07 03:59:55,635 INFO - ✓ Worker 13: common_voice_en_162806.mp3:  Three men in a fishing boat on a river in Africa.\n",
      "2025-10-07 03:59:55,866 INFO - ✓ Worker 12: common_voice_en_162803.mp3:  Competing girls volleyball players attempt to control the ball in mid-air.\n",
      "2025-10-07 03:59:56,095 INFO - ✓ Worker 15: common_voice_en_162816.mp3:  Two men riding horses in a rodeo while chasing after a bull.\n",
      "2025-10-07 03:59:56,234 INFO - ✓ Worker 3: common_voice_en_162796.mp3:  Many people have crowded around the game table with toy bears hanging over it.\n",
      "2025-10-07 03:59:58,258 INFO - ✓ Worker 2: common_voice_en_162815.mp3:  A policeman is sitting inside of his car looking forward.\n",
      "2025-10-07 03:59:58,594 INFO - ✓ Worker 8: common_voice_en_16336.mp3:  A large crowd of people ice skating.\n",
      "2025-10-07 03:59:58,671 INFO - ✓ Worker 7: common_voice_en_16335.mp3:  Young people are standing around a drum at a party.\n",
      "2025-10-07 03:59:58,673 INFO - ✓ Worker 10: common_voice_en_16342.mp3:  A man performs a water skiing stunt.\n",
      "2025-10-07 03:59:58,710 INFO - ✓ Worker 4: common_voice_en_162813.mp3:  Woman stands on fallen trees near winding river, taking photographs of animals.\n",
      "2025-10-07 03:59:58,967 INFO - ✓ Worker 9: common_voice_en_16339.mp3:  A woman far away from a city harvesting crops.\n",
      "2025-10-07 03:59:59,009 INFO - ✓ Worker 1: common_voice_en_162808.mp3:  A dog standing on a beach with a ball nearby.\n",
      "2025-10-07 03:59:59,230 INFO - ✓ Worker 14: common_voice_en_16347.mp3:  People leaning against railing watching city.\n",
      "2025-10-07 03:59:59,311 INFO - ✓ Worker 0: common_voice_en_162807.mp3:  A water skier flying slightly in the air over a wave.\n",
      "2025-10-07 03:59:59,314 INFO - ✓ Worker 5: common_voice_en_162820.mp3:  A young man with no shirt on is standing near a car with surfboards on it.\n",
      "2025-10-07 03:59:59,552 INFO - ✓ Worker 6: common_voice_en_162821.mp3:  A man with a beard holds a large black-bound book.\n",
      "2025-10-07 03:59:59,584 INFO - ✓ Worker 11: common_voice_en_16338.mp3:  Three girls in pink are playing hula hoops with a woman.\n",
      "2025-10-07 03:59:59,707 INFO - ✓ Worker 13: common_voice_en_16346.mp3:  A quiet sidewalk in a town with a view of a traffic intersection.\n",
      "2025-10-07 03:59:59,726 INFO - ✓ Worker 15: common_voice_en_16345.mp3:  A black man is watching another black man playing in the waterfall.\n",
      "2025-10-07 03:59:59,789 INFO - ✓ Worker 12: common_voice_en_16343.mp3:  Far off in the distance, someone is using a large stick to paddle a canoe.\n",
      "2025-10-07 03:59:59,840 INFO - ✓ Worker 3: common_voice_en_162817.mp3:  Woman wearing black and kneeling on roller skates with deer face antlers on top of her helmet.\n",
      "2025-10-07 03:59:59,847 INFO - Appended 240 rows to ./transcripts_from_prefix.csv\n"
     ]
    },
    {
     "name": "stderr",
     "output_type": "stream",
     "text": [
      "Downloading batch 31:  44%|████▍     | 21/48 [00:00<00:00, 95.56it/s]"
     ]
    },
    {
     "name": "stdout",
     "output_type": "stream",
     "text": [
      "2025-10-07 04:00:00,805 WARNING - Connection pool is full, discarding connection: asrelder-data.s3.amazonaws.com. Connection pool size: 10\n"
     ]
    },
    {
     "name": "stderr",
     "output_type": "stream",
     "text": [
      "Downloading batch 31:  81%|████████▏ | 39/48 [00:00<00:00, 126.18it/s]"
     ]
    },
    {
     "name": "stdout",
     "output_type": "stream",
     "text": [
      "2025-10-07 04:00:00,808 WARNING - Connection pool is full, discarding connection: asrelder-data.s3.amazonaws.com. Connection pool size: 10\n",
      "2025-10-07 04:00:00,815 WARNING - Connection pool is full, discarding connection: asrelder-data.s3.amazonaws.com. Connection pool size: 10\n",
      "2025-10-07 04:00:00,815 WARNING - Connection pool is full, discarding connection: asrelder-data.s3.amazonaws.com. Connection pool size: 10\n",
      "2025-10-07 04:00:00,841 WARNING - Connection pool is full, discarding connection: asrelder-data.s3.amazonaws.com. Connection pool size: 10\n",
      "2025-10-07 04:00:00,844 WARNING - Connection pool is full, discarding connection: asrelder-data.s3.amazonaws.com. Connection pool size: 10\n",
      "2025-10-07 04:00:00,849 WARNING - Connection pool is full, discarding connection: asrelder-data.s3.amazonaws.com. Connection pool size: 10\n",
      "2025-10-07 04:00:00,859 WARNING - Connection pool is full, discarding connection: asrelder-data.s3.amazonaws.com. Connection pool size: 10\n"
     ]
    },
    {
     "name": "stderr",
     "output_type": "stream",
     "text": [
      "Downloading batch 31: 100%|██████████| 48/48 [00:00<00:00, 112.50it/s]"
     ]
    },
    {
     "name": "stdout",
     "output_type": "stream",
     "text": [
      "2025-10-07 04:00:00,862 INFO - Transcribing 48 files in parallel...\n"
     ]
    },
    {
     "name": "stderr",
     "output_type": "stream",
     "text": [
      "\n"
     ]
    },
    {
     "name": "stdout",
     "output_type": "stream",
     "text": [
      "2025-10-07 04:00:04,223 INFO - ✓ Worker 12: common_voice_en_165940.mp3:  Do people walking outside a castle?\n",
      "2025-10-07 04:00:04,327 INFO - ✓ Worker 3: common_voice_en_165942.mp3:  Three men are sitting at a table.\n",
      "2025-10-07 04:00:04,375 INFO - ✓ Worker 5: common_voice_en_166807.mp3:  What's the weather in Macedonia?\n",
      "2025-10-07 04:00:04,424 INFO - ✓ Worker 2: common_voice_en_167183.mp3:  A group of friends go campaign.\n",
      "2025-10-07 04:00:04,593 INFO - ✓ Worker 11: common_voice_en_167184.mp3:  Two people on a hockey field fighting.\n",
      "2025-10-07 04:00:04,655 INFO - ✓ Worker 0: common_voice_en_165617.mp3:  Good wine needs no herald, bush.\n",
      "2025-10-07 04:00:04,839 INFO - ✓ Worker 13: common_voice_en_167188.mp3:  Protesters are holding signs in Spanish.\n",
      "2025-10-07 04:00:04,875 INFO - ✓ Worker 1: common_voice_en_165934.mp3:  A man with a shirt works on a roof.\n",
      "2025-10-07 04:00:04,915 INFO - ✓ Worker 7: common_voice_en_165615.mp3:  Go to Nick Fleetwood on my video.\n",
      "2025-10-07 04:00:05,037 INFO - ✓ Worker 10: common_voice_en_165935.mp3:  One dog is chasing another one on the beach.\n",
      "2025-10-07 04:00:05,253 INFO - ✓ Worker 4: common_voice_en_165599.mp3:  Please get me the National Medical Journal of India Game.\n",
      "2025-10-07 04:00:05,659 INFO - ✓ Worker 15: common_voice_en_166100.mp3:  Please help me find the Bloom Remix album song.\n",
      "2025-10-07 04:00:05,966 INFO - ✓ Worker 9: common_voice_en_165597.mp3:  Please make a booking at Sonoy in Montague, Louisiana.\n",
      "2025-10-07 04:00:06,021 INFO - ✓ Worker 6: common_voice_en_165620.mp3:  Add a Miracan to my playlist Acoustic Blues.\n",
      "2025-10-07 04:00:06,753 INFO - ✓ Worker 8: common_voice_en_165937.mp3:  Three dogs standing in the snow with two of the dogs with open mouths.\n",
      "2025-10-07 04:00:07,125 INFO - ✓ Worker 14: common_voice_en_165941.mp3:  A boy in a red hood top is ice skating on an outdoor ice rink.\n",
      "2025-10-07 04:00:08,159 INFO - ✓ Worker 1: common_voice_en_165938.mp3:  A brown dog chasing a white dog.\n",
      "2025-10-07 04:00:08,275 INFO - ✓ Worker 2: common_voice_en_167189.mp3:  A group of people relaxing in a park.\n",
      "2025-10-07 04:00:08,546 INFO - ✓ Worker 7: common_voice_en_167192.mp3:  A woman opens a present while drinking beer.\n",
      "2025-10-07 04:00:09,103 INFO - ✓ Worker 12: common_voice_en_168132.mp3:  Really, what does it say?\n",
      "2025-10-07 04:00:09,156 INFO - ✓ Worker 11: common_voice_en_167246.mp3:  What is the forecast for California for rain?\n",
      "2025-10-07 04:00:09,190 INFO - ✓ Worker 10: common_voice_en_167243.mp3:  People waiting outside of a building in the sunlight.\n",
      "2025-10-07 04:00:09,279 INFO - ✓ Worker 0: common_voice_en_166801.mp3:  Is fighting with Buffalo Bill playing at the closest movie house?\n",
      "2025-10-07 04:00:09,558 INFO - ✓ Worker 4: common_voice_en_167186.mp3:  A good of small girls holding up painted glass cups.\n",
      "2025-10-07 04:00:09,605 INFO - ✓ Worker 5: common_voice_en_166192.mp3:  And if you really think about it, this is why we are here.\n",
      "2025-10-07 04:00:09,914 INFO - ✓ Worker 9: common_voice_en_167241.mp3:  A girl in a flower dress is running on sand.\n",
      "2025-10-07 04:00:10,117 INFO - ✓ Worker 13: common_voice_en_168370.mp3:  Play some movement from the 50s on Spotify.\n",
      "2025-10-07 04:00:10,435 INFO - ✓ Worker 15: common_voice_en_167190.mp3:  There are three women dressed like angels.\n",
      "2025-10-07 04:00:10,542 INFO - ✓ Worker 6: common_voice_en_167187.mp3:  A woman tosses a bag of trash into a dumpster.\n",
      "2025-10-07 04:00:10,778 INFO - ✓ Worker 3: common_voice_en_166810.mp3:  You can also execute sequences of commands, even waiting for particular elements to appear on the p...\n",
      "2025-10-07 04:00:11,306 INFO - ✓ Worker 8: common_voice_en_167191.mp3:  A pit crew was getting a vehicle ready for the race.\n",
      "2025-10-07 04:00:11,938 INFO - ✓ Worker 14: common_voice_en_166816.mp3:  I want to hear the last album from Frank Aura.\n",
      "2025-10-07 04:00:12,640 INFO - ✓ Worker 1: common_voice_en_16784879.mp3:  Check the website for viruses, biases and scams.\n",
      "2025-10-07 04:00:13,086 INFO - ✓ Worker 9: common_voice_en_170044.mp3:  The clever men could be ignored.\n",
      "2025-10-07 04:00:13,285 INFO - ✓ Worker 0: common_voice_en_168134.mp3:  Next Sunday is the 12th of the month.\n",
      "2025-10-07 04:00:13,324 INFO - ✓ Worker 2: common_voice_en_169032.mp3:  A man wearing a blue t-shirt is mopping the floor.\n",
      "2025-10-07 04:00:13,511 INFO - ✓ Worker 7: common_voice_en_168376.mp3:  You need to get a transcript from passport first.\n",
      "2025-10-07 04:00:13,701 INFO - ✓ Worker 10: common_voice_en_167245.mp3:  A woman in a white tank top serving food.\n",
      "2025-10-07 04:00:13,711 INFO - ✓ Worker 5: common_voice_en_169997.mp3:  He woke up crying because he felt very dejected.\n",
      "2025-10-07 04:00:13,829 INFO - ✓ Worker 12: common_voice_en_169031.mp3:  Two children play outside in a field.\n",
      "2025-10-07 04:00:14,120 INFO - ✓ Worker 6: common_voice_en_169038.mp3:  Two people making music with a guitar and a keyboard.\n",
      "2025-10-07 04:00:14,164 INFO - ✓ Worker 3: common_voice_en_169039.mp3:  Two people are claiming a portable rug wall.\n",
      "2025-10-07 04:00:14,390 INFO - ✓ Worker 4: common_voice_en_169040.mp3:  A man tossing a frisbee to his dog that leaps to catch it.\n",
      "2025-10-07 04:00:14,574 INFO - ✓ Worker 8: common_voice_en_169998.mp3:  Shoes of movie showings for the closest cinema showing international movies.\n",
      "2025-10-07 04:00:14,625 INFO - ✓ Worker 13: common_voice_en_170045.mp3:  It was hard for him to eat less because the food was so good.\n",
      "2025-10-07 04:00:14,627 INFO - ✓ Worker 11: common_voice_en_169030.mp3:  A group of people watched young men play the drums using makeshift buckets as instruments.\n",
      "2025-10-07 04:00:14,643 INFO - ✓ Worker 14: common_voice_en_170141.mp3:  What movie theater is playing the hurricane five hours from now?\n",
      "2025-10-07 04:00:14,669 INFO - ✓ Worker 15: common_voice_en_169033.mp3:  Two people in brightly colored outfits handle the squares of fabric with colorful designs.\n"
     ]
    },
    {
     "name": "stderr",
     "output_type": "stream",
     "text": [
      "Downloading batch 32:  46%|████▌     | 22/48 [00:00<00:00, 100.73it/s]"
     ]
    },
    {
     "name": "stdout",
     "output_type": "stream",
     "text": [
      "2025-10-07 04:00:15,617 WARNING - Connection pool is full, discarding connection: asrelder-data.s3.amazonaws.com. Connection pool size: 10\n",
      "2025-10-07 04:00:15,622 WARNING - Connection pool is full, discarding connection: asrelder-data.s3.amazonaws.com. Connection pool size: 10\n",
      "2025-10-07 04:00:15,624 WARNING - Connection pool is full, discarding connection: asrelder-data.s3.amazonaws.com. Connection pool size: 10\n",
      "2025-10-07 04:00:15,627 WARNING - Connection pool is full, discarding connection: asrelder-data.s3.amazonaws.com. Connection pool size: 10\n"
     ]
    },
    {
     "name": "stderr",
     "output_type": "stream",
     "text": [
      "Downloading batch 32:  83%|████████▎ | 40/48 [00:00<00:00, 132.09it/s]"
     ]
    },
    {
     "name": "stdout",
     "output_type": "stream",
     "text": [
      "2025-10-07 04:00:15,628 WARNING - Connection pool is full, discarding connection: asrelder-data.s3.amazonaws.com. Connection pool size: 10\n",
      "2025-10-07 04:00:15,636 WARNING - Connection pool is full, discarding connection: asrelder-data.s3.amazonaws.com. Connection pool size: 10\n",
      "2025-10-07 04:00:15,647 WARNING - Connection pool is full, discarding connection: asrelder-data.s3.amazonaws.com. Connection pool size: 10\n",
      "2025-10-07 04:00:15,648 WARNING - Connection pool is full, discarding connection: asrelder-data.s3.amazonaws.com. Connection pool size: 10\n",
      "2025-10-07 04:00:15,654 WARNING - Connection pool is full, discarding connection: asrelder-data.s3.amazonaws.com. Connection pool size: 10\n",
      "2025-10-07 04:00:15,691 WARNING - Connection pool is full, discarding connection: asrelder-data.s3.amazonaws.com. Connection pool size: 10\n"
     ]
    },
    {
     "name": "stderr",
     "output_type": "stream",
     "text": [
      "Downloading batch 32: 100%|██████████| 48/48 [00:00<00:00, 111.94it/s]"
     ]
    },
    {
     "name": "stdout",
     "output_type": "stream",
     "text": [
      "2025-10-07 04:00:15,693 INFO - Transcribing 48 files in parallel...\n"
     ]
    },
    {
     "name": "stderr",
     "output_type": "stream",
     "text": [
      "\n"
     ]
    },
    {
     "name": "stdout",
     "output_type": "stream",
     "text": [
      "2025-10-07 04:00:19,067 INFO - ✓ Worker 14: common_voice_en_170146.mp3:  Read the current textbook a zero.\n",
      "2025-10-07 04:00:19,226 INFO - ✓ Worker 10: common_voice_en_171014.mp3:  An older woman sitting on a bench.\n",
      "2025-10-07 04:00:19,414 INFO - ✓ Worker 3: common_voice_en_171020.mp3:  A group of little boys playing indoor soccer.\n",
      "2025-10-07 04:00:19,536 INFO - ✓ Worker 2: common_voice_en_170517.mp3:  I'm working on a dirt road.\n",
      "2025-10-07 04:00:19,554 INFO - ✓ Worker 5: common_voice_en_170519.mp3:  A woman balances a small child on her hip.\n",
      "2025-10-07 04:00:19,896 INFO - ✓ Worker 9: common_voice_en_170516.mp3:  These six people are walking outside a building with columns.\n",
      "2025-10-07 04:00:19,997 INFO - ✓ Worker 8: common_voice_en_171021.mp3:  A brown dog walks towards another animal hiding in the grass.\n",
      "2025-10-07 04:00:20,124 INFO - ✓ Worker 4: common_voice_en_171031.mp3:  Two female volleyball players look up to find the ball.\n",
      "2025-10-07 04:00:20,282 INFO - ✓ Worker 6: common_voice_en_170520.mp3:  Render is participated in a marathon and closed city streets.\n",
      "2025-10-07 04:00:20,465 INFO - ✓ Worker 0: common_voice_en_170521.mp3:  A jump-boy in a red shirt plays in a tree.\n",
      "2025-10-07 04:00:20,500 INFO - ✓ Worker 15: common_voice_en_171016.mp3:  A bearded man plays guitar leaning against a white wall.\n",
      "2025-10-07 04:00:20,705 INFO - ✓ Worker 7: common_voice_en_171033.mp3:  A brunette woman taking a picture with a red umbrella.\n",
      "2025-10-07 04:00:20,731 INFO - ✓ Worker 1: common_voice_en_171027.mp3:  A woman walking by a minivan and camper in the woods.\n",
      "2025-10-07 04:00:21,395 INFO - ✓ Worker 12: common_voice_en_171025.mp3:  Two men in front of microphones while being watching by a man in a cap.\n",
      "2025-10-07 04:00:21,413 INFO - ✓ Worker 11: common_voice_en_171036.mp3:  A woman and a man twirling in a dance alone on a wooden floor.\n",
      "2025-10-07 04:00:22,546 INFO - ✓ Worker 3: common_voice_en_171018.mp3:  Three children are playing close together.\n",
      "2025-10-07 04:00:23,087 INFO - ✓ Worker 13: common_voice_en_171026.mp3:  Men and women add a formal function when a woman in a white dress is carrying a bouquet of red flow...\n",
      "2025-10-07 04:00:23,455 INFO - ✓ Worker 9: common_voice_en_171045.mp3:  A dog running through the water.\n",
      "2025-10-07 04:00:23,762 INFO - ✓ Worker 4: common_voice_en_171037.mp3:  A woman in a block jacket painting.\n",
      "2025-10-07 04:00:23,941 INFO - ✓ Worker 8: common_voice_en_171038.mp3:  A surfer surfing on a wave.\n",
      "2025-10-07 04:00:24,282 INFO - ✓ Worker 14: common_voice_en_171043.mp3:  A black dog running through water.\n",
      "2025-10-07 04:00:24,488 INFO - ✓ Worker 6: common_voice_en_171039.mp3:  One person in a long haul is walking.\n",
      "2025-10-07 04:00:24,767 INFO - ✓ Worker 7: common_voice_en_171019.mp3:  A woman is walking through a gate, walking her bicycle.\n",
      "2025-10-07 04:00:24,995 INFO - ✓ Worker 1: common_voice_en_171034.mp3:  A man in a black shirt is singing with a microphone.\n",
      "2025-10-07 04:00:25,254 INFO - ✓ Worker 11: common_voice_en_171041.mp3:  A boy is being splashed in a swimming pool.\n",
      "2025-10-07 04:00:25,750 INFO - ✓ Worker 0: common_voice_en_171029.mp3:  A girl being lifted out of the water by two men with a wooden device.\n",
      "2025-10-07 04:00:25,819 INFO - ✓ Worker 2: common_voice_en_171035.mp3:  Two toddlers, one topless, one without pants, standing on a floor with water sprinklers.\n",
      "2025-10-07 04:00:25,902 INFO - ✓ Worker 13: common_voice_en_171042.mp3:  Bike races preparing for the race.\n",
      "2025-10-07 04:00:26,456 INFO - ✓ Worker 12: common_voice_en_171044.mp3:  Two mothers stroll their children in the park during the beginning of autumn.\n",
      "2025-10-07 04:00:26,658 INFO - ✓ Worker 15: common_voice_en_171046.mp3:  Pedestrians stand in the street outside of a restaurant.\n",
      "2025-10-07 04:00:27,166 INFO - ✓ Worker 5: common_voice_en_171023.mp3:  A man dressed in a brown shirt and tan shorts is down on one knee looking at some type of machinery...\n",
      "2025-10-07 04:00:27,846 INFO - ✓ Worker 6: common_voice_en_171060.mp3:  to children walking on a platform.\n",
      "2025-10-07 04:00:27,949 INFO - ✓ Worker 10: common_voice_en_171030.mp3:  A woman in a green tank top and a shirtless little girl play with nesting dolls on a cluttered tabl...\n",
      "2025-10-07 04:00:28,783 INFO - ✓ Worker 9: common_voice_en_171057.mp3:  A volleyball player striking a volleyball.\n",
      "2025-10-07 04:00:28,876 INFO - ✓ Worker 2: common_voice_en_171056.mp3:  Two dogs playing in the grass.\n",
      "2025-10-07 04:00:28,977 INFO - ✓ Worker 1: common_voice_en_171052.mp3:  There's a man in glasses and a lab coat.\n",
      "2025-10-07 04:00:29,080 INFO - ✓ Worker 3: common_voice_en_171051.mp3:  A girl happily twirls and circles her dress fanning out around her.\n",
      "2025-10-07 04:00:29,402 INFO - ✓ Worker 7: common_voice_en_171062.mp3:  Girl paints a picture of the images she is looking at.\n",
      "2025-10-07 04:00:29,452 INFO - ✓ Worker 0: common_voice_en_171048.mp3:  A Dalmatian is running along the beach.\n",
      "2025-10-07 04:00:30,165 INFO - ✓ Worker 14: common_voice_en_171068.mp3:  A group of people are walking down a sidewalk.\n",
      "2025-10-07 04:00:30,434 INFO - ✓ Worker 15: common_voice_en_171053.mp3:  A woman in a red jersey is playing basketball.\n",
      "2025-10-07 04:00:30,668 INFO - ✓ Worker 8: common_voice_en_171059.mp3:  As many gather on the beach to watch the air show, the planes make a heart in the sky.\n",
      "2025-10-07 04:00:30,762 INFO - ✓ Worker 5: common_voice_en_171067.mp3:  Two people standing in a curved interior, multi-level building.\n",
      "2025-10-07 04:00:30,809 INFO - ✓ Worker 4: common_voice_en_171061.mp3:  A single light shines on a man with a baseball cap as he stands in a room with a ladder and graffit...\n",
      "2025-10-07 04:00:30,825 INFO - ✓ Worker 12: common_voice_en_171058.mp3:  A boy diving into a hotel swimming pool with a corner of a chair in the foreground.\n",
      "2025-10-07 04:00:30,883 INFO - ✓ Worker 10: common_voice_en_171063.mp3:  A man is sitting in a chair while the barber retts his tools.\n",
      "2025-10-07 04:00:30,926 INFO - ✓ Worker 13: common_voice_en_171050.mp3:  A shirtless young boy in shorts kicks a soccer ball in dry, yellowed grass beside a picnic table.\n",
      "2025-10-07 04:00:30,981 INFO - ✓ Worker 11: common_voice_en_171040.mp3:  A young child and a blue shirt and green overalls laughs with their arms up in the air, the table c...\n"
     ]
    },
    {
     "name": "stderr",
     "output_type": "stream",
     "text": [
      "Downloading batch 33:  46%|████▌     | 22/48 [00:00<00:00, 92.25it/s]"
     ]
    },
    {
     "name": "stdout",
     "output_type": "stream",
     "text": [
      "2025-10-07 04:00:31,932 WARNING - Connection pool is full, discarding connection: asrelder-data.s3.amazonaws.com. Connection pool size: 10\n",
      "2025-10-07 04:00:31,935 WARNING - Connection pool is full, discarding connection: asrelder-data.s3.amazonaws.com. Connection pool size: 10\n",
      "2025-10-07 04:00:31,936 WARNING - Connection pool is full, discarding connection: asrelder-data.s3.amazonaws.com. Connection pool size: 10\n",
      "2025-10-07 04:00:31,936 WARNING - Connection pool is full, discarding connection: asrelder-data.s3.amazonaws.com. Connection pool size: 10\n",
      "2025-10-07 04:00:31,939 WARNING - Connection pool is full, discarding connection: asrelder-data.s3.amazonaws.com. Connection pool size: 10\n",
      "2025-10-07 04:00:31,947 WARNING - Connection pool is full, discarding connection: asrelder-data.s3.amazonaws.com. Connection pool size: 10\n",
      "2025-10-07 04:00:31,948 WARNING - Connection pool is full, discarding connection: asrelder-data.s3.amazonaws.com. Connection pool size: 10\n",
      "2025-10-07 04:00:31,971 WARNING - Connection pool is full, discarding connection: asrelder-data.s3.amazonaws.com. Connection pool size: 10\n"
     ]
    },
    {
     "name": "stderr",
     "output_type": "stream",
     "text": [
      "Downloading batch 33: 100%|██████████| 48/48 [00:00<00:00, 117.17it/s]"
     ]
    },
    {
     "name": "stdout",
     "output_type": "stream",
     "text": [
      "2025-10-07 04:00:31,974 INFO - Transcribing 48 files in parallel...\n"
     ]
    },
    {
     "name": "stderr",
     "output_type": "stream",
     "text": [
      "\n"
     ]
    },
    {
     "name": "stdout",
     "output_type": "stream",
     "text": [
      "2025-10-07 04:00:35,299 INFO - ✓ Worker 12: common_voice_en_171101.mp3:  A woman is watching the tide.\n",
      "2025-10-07 04:00:35,729 INFO - ✓ Worker 14: common_voice_en_171096.mp3:  The people look around at the glacier.\n",
      "2025-10-07 04:00:36,198 INFO - ✓ Worker 4: common_voice_en_171093.mp3:  Trives men with a handmade basket full of grass.\n",
      "2025-10-07 04:00:36,389 INFO - ✓ Worker 3: common_voice_en_171088.mp3:  The gondola is pulling his boat in the canal\n",
      "2025-10-07 04:00:36,447 INFO - ✓ Worker 13: common_voice_en_171084.mp3:  A man is balancing on a rope in public with silver boots.\n",
      "2025-10-07 04:00:36,448 INFO - ✓ Worker 6: common_voice_en_171071.mp3:  A woman is walking in winter with a card of groceries.\n",
      "2025-10-07 04:00:36,572 INFO - ✓ Worker 0: common_voice_en_171074.mp3:  A man wearing a biohazard gas mask.\n",
      "2025-10-07 04:00:36,643 INFO - ✓ Worker 9: common_voice_en_171073.mp3:  Two young women pose next to a fence in a street.\n",
      "2025-10-07 04:00:36,951 INFO - ✓ Worker 8: common_voice_en_171081.mp3:  A crowd of adults, many drinking, socializing at a party.\n",
      "2025-10-07 04:00:37,051 INFO - ✓ Worker 7: common_voice_en_171070.mp3:  An older man playing, wearing a quilt, the bagpipes outside.\n",
      "2025-10-07 04:00:37,461 INFO - ✓ Worker 2: common_voice_en_171077.mp3:  A man is getting the middle of his head shaved by an electric razor.\n",
      "2025-10-07 04:00:37,596 INFO - ✓ Worker 10: common_voice_en_171069.mp3:  A woman in a purple jacket is selecting food in a grocery store aisle.\n",
      "2025-10-07 04:00:37,630 INFO - ✓ Worker 5: common_voice_en_171089.mp3:  A drummer performing on stage in the evening with a guitarist sitting behind him.\n",
      "2025-10-07 04:00:37,684 INFO - ✓ Worker 1: common_voice_en_171087.mp3:  A woman in blue resting on a bench in front of a huge religious mural.\n",
      "2025-10-07 04:00:38,357 INFO - ✓ Worker 11: common_voice_en_171075.mp3:  A man bends down in an outdoor area that is also covered while birds walk around him.\n",
      "2025-10-07 04:00:38,553 INFO - ✓ Worker 15: common_voice_en_171076.mp3:  A woman dressed in black with a hula hoop around her waist performs in front of diners.\n",
      "2025-10-07 04:00:39,785 INFO - ✓ Worker 3: common_voice_en_171099.mp3:  A young man is playing a blue guitar.\n",
      "2025-10-07 04:00:40,416 INFO - ✓ Worker 4: common_voice_en_171095.mp3:  A man being pulled on a cart by a cow.\n",
      "2025-10-07 04:00:41,636 INFO - ✓ Worker 13: common_voice_en_171112.mp3:  A woman in a pink shirt looks at the water.\n",
      "2025-10-07 04:00:41,795 INFO - ✓ Worker 0: common_voice_en_171086.mp3:  Several individuals getting together to play the bagpipes and eat some cuisine.\n",
      "2025-10-07 04:00:41,909 INFO - ✓ Worker 10: common_voice_en_171098.mp3:  Two female military members go through paperwork in an office.\n",
      "2025-10-07 04:00:41,969 INFO - ✓ Worker 8: common_voice_en_171102.mp3:  Young woman in blue shirt and black overcoat makes homemade waffles.\n",
      "2025-10-07 04:00:42,000 INFO - ✓ Worker 1: common_voice_en_171082.mp3:  A man in a grey sweater investigating an old tomb.\n",
      "2025-10-07 04:00:42,046 INFO - ✓ Worker 2: common_voice_en_171092.mp3:  A girl wearing a tan shirt and blue shorts smiles while painting.\n",
      "2025-10-07 04:00:42,075 INFO - ✓ Worker 9: common_voice_en_171104.mp3:  A man is standing on a stage behind a microphone while playing the guitar.\n",
      "2025-10-07 04:00:42,217 INFO - ✓ Worker 5: common_voice_en_171080.mp3:  A man and a mask in the back of a service vehicle.\n",
      "2025-10-07 04:00:42,239 INFO - ✓ Worker 14: common_voice_en_171113.mp3:  A woman and a young girl sharing ice cream counts.\n",
      "2025-10-07 04:00:42,288 INFO - ✓ Worker 7: common_voice_en_171107.mp3:  Three blonde girls and two blonde women are playing with a jump rope in the dirt\n",
      "2025-10-07 04:00:42,552 INFO - ✓ Worker 6: common_voice_en_171110.mp3:  A man tries to help a woman in a bikini cross from one dock to another.\n",
      "2025-10-07 04:00:42,651 INFO - ✓ Worker 15: common_voice_en_171123.mp3:  A woman in white processes food in a factory setting.\n",
      "2025-10-07 04:00:42,675 INFO - ✓ Worker 12: common_voice_en_171117.mp3:  A group of people, three women are near a small street vendor.\n",
      "2025-10-07 04:00:42,770 INFO - ✓ Worker 11: common_voice_en_171078.mp3:  A teenager sitting very, very high in a tree.\n",
      "2025-10-07 04:00:45,498 INFO - ✓ Worker 12: common_voice_en_171124.mp3:  A senior writes something down.\n",
      "2025-10-07 04:00:46,180 INFO - ✓ Worker 0: common_voice_en_171116.mp3:  A group of men in white uniforms are waving flags.\n",
      "2025-10-07 04:00:46,278 INFO - ✓ Worker 9: common_voice_en_171132.mp3:  A boy looks at the crab he is holding.\n",
      "2025-10-07 04:00:46,410 INFO - ✓ Worker 1: common_voice_en_171108.mp3:  Two dogs are swimming in water whilst carrying a stick.\n",
      "2025-10-07 04:00:46,512 INFO - ✓ Worker 2: common_voice_en_171111.mp3:  A man in light colored clothes is sleeping on a bench.\n",
      "2025-10-07 04:00:46,664 INFO - ✓ Worker 5: common_voice_en_171127.mp3:  He is coming from the market with a bag full of fruits\n",
      "2025-10-07 04:00:46,677 INFO - ✓ Worker 8: common_voice_en_171133.mp3:  A woman in a blue shirt folding fabric on a table.\n",
      "2025-10-07 04:00:46,836 INFO - ✓ Worker 3: common_voice_en_171119.mp3:  A man wearing in a white purple and yellow outfit walking on stilts.\n",
      "2025-10-07 04:00:46,919 INFO - ✓ Worker 13: common_voice_en_171137.mp3:  A woman in a red outfit is playing an electric guitar.\n",
      "2025-10-07 04:00:46,994 INFO - ✓ Worker 7: common_voice_en_171128.mp3:  A crowd of women and men gather under umbrellas in the street.\n",
      "2025-10-07 04:00:47,249 INFO - ✓ Worker 6: common_voice_en_171136.mp3:  Person holding boxes in a street in front of a wall painted with antique advertisements.\n",
      "2025-10-07 04:00:47,322 INFO - ✓ Worker 15: common_voice_en_171141.mp3:  Four boys in a gymnasium with one of them practicing a kickboxing move.\n",
      "2025-10-07 04:00:47,344 INFO - ✓ Worker 14: common_voice_en_171140.mp3:  A girl in a green sweatshirt checks out at a store filled with Pokemon items.\n",
      "2025-10-07 04:00:47,351 INFO - ✓ Worker 10: common_voice_en_171135.mp3:  A yellow car, a man in it, looking to the back where steam is coming out.\n",
      "2025-10-07 04:00:47,368 INFO - ✓ Worker 4: common_voice_en_171118.mp3:  Old man wearing black beret and glasses looks at a newspaper as he walks by an old building.\n",
      "2025-10-07 04:00:47,392 INFO - ✓ Worker 11: common_voice_en_171139.mp3:  A little boy is playing with a ball while sitting on a rug that is on the grass.\n"
     ]
    },
    {
     "name": "stderr",
     "output_type": "stream",
     "text": [
      "Downloading batch 34:  40%|███▉      | 19/48 [00:00<00:00, 85.39it/s]"
     ]
    },
    {
     "name": "stdout",
     "output_type": "stream",
     "text": [
      "2025-10-07 04:00:48,304 WARNING - Connection pool is full, discarding connection: asrelder-data.s3.amazonaws.com. Connection pool size: 10\n",
      "2025-10-07 04:00:48,304 WARNING - Connection pool is full, discarding connection: asrelder-data.s3.amazonaws.com. Connection pool size: 10\n",
      "2025-10-07 04:00:48,305 WARNING - Connection pool is full, discarding connection: asrelder-data.s3.amazonaws.com. Connection pool size: 10\n",
      "2025-10-07 04:00:48,352 WARNING - Connection pool is full, discarding connection: asrelder-data.s3.amazonaws.com. Connection pool size: 10\n",
      "2025-10-07 04:00:48,372 WARNING - Connection pool is full, discarding connection: asrelder-data.s3.amazonaws.com. Connection pool size: 10\n",
      "2025-10-07 04:00:48,373 WARNING - Connection pool is full, discarding connection: asrelder-data.s3.amazonaws.com. Connection pool size: 10\n"
     ]
    },
    {
     "name": "stderr",
     "output_type": "stream",
     "text": [
      "Downloading batch 34:  88%|████████▊ | 42/48 [00:00<00:00, 135.85it/s]"
     ]
    },
    {
     "name": "stdout",
     "output_type": "stream",
     "text": [
      "2025-10-07 04:00:48,383 WARNING - Connection pool is full, discarding connection: asrelder-data.s3.amazonaws.com. Connection pool size: 10\n",
      "2025-10-07 04:00:48,385 WARNING - Connection pool is full, discarding connection: asrelder-data.s3.amazonaws.com. Connection pool size: 10\n",
      "2025-10-07 04:00:48,386 WARNING - Connection pool is full, discarding connection: asrelder-data.s3.amazonaws.com. Connection pool size: 10\n",
      "2025-10-07 04:00:48,390 WARNING - Connection pool is full, discarding connection: asrelder-data.s3.amazonaws.com. Connection pool size: 10\n",
      "2025-10-07 04:00:48,392 WARNING - Connection pool is full, discarding connection: asrelder-data.s3.amazonaws.com. Connection pool size: 10\n"
     ]
    },
    {
     "name": "stderr",
     "output_type": "stream",
     "text": [
      "Downloading batch 34: 100%|██████████| 48/48 [00:00<00:00, 120.94it/s]"
     ]
    },
    {
     "name": "stdout",
     "output_type": "stream",
     "text": [
      "2025-10-07 04:00:48,394 INFO - Transcribing 48 files in parallel...\n"
     ]
    },
    {
     "name": "stderr",
     "output_type": "stream",
     "text": [
      "\n"
     ]
    },
    {
     "name": "stdout",
     "output_type": "stream",
     "text": [
      "2025-10-07 04:00:51,261 INFO - ✓ Worker 4: common_voice_en_171144.mp3:  Girls in school uniforms.\n",
      "2025-10-07 04:00:51,586 INFO - ✓ Worker 2: common_voice_en_171145.mp3:  Beautiful place at night time.\n",
      "2025-10-07 04:00:52,086 INFO - ✓ Worker 6: common_voice_en_171166.mp3:  These friends are posing near the store window.\n",
      "2025-10-07 04:00:52,366 INFO - ✓ Worker 11: common_voice_en_171167.mp3:  A man surrounded by others in a subway train.\n",
      "2025-10-07 04:00:52,387 INFO - ✓ Worker 14: common_voice_en_171158.mp3:  A man enjoys a treat on a crowded street.\n",
      "2025-10-07 04:00:52,516 INFO - ✓ Worker 12: common_voice_en_171148.mp3:  Three young males sitting on a basketball court at night.\n",
      "2025-10-07 04:00:52,557 INFO - ✓ Worker 13: common_voice_en_171153.mp3:  A female tennis player is casually swinging her racket.\n",
      "2025-10-07 04:00:52,575 INFO - ✓ Worker 5: common_voice_en_171156.mp3:  A man and a woman are kissing in a city.\n",
      "2025-10-07 04:00:52,787 INFO - ✓ Worker 8: common_voice_en_171164.mp3:  A man wearing goggles exits a pool by the ladder.\n",
      "2025-10-07 04:00:52,920 INFO - ✓ Worker 9: common_voice_en_171152.mp3:  A man smoking a cigar, reading a paper in a city.\n",
      "2025-10-07 04:00:52,991 INFO - ✓ Worker 1: common_voice_en_171151.mp3:  People walk down a brightly lit market in a busy city district.\n",
      "2025-10-07 04:00:53,050 INFO - ✓ Worker 0: common_voice_en_171143.mp3:  A swimmer with goggles on looking towards something out of view.\n",
      "2025-10-07 04:00:53,086 INFO - ✓ Worker 7: common_voice_en_171170.mp3:  A line of young boys chase a soccer ball on a field.\n",
      "2025-10-07 04:00:53,895 INFO - ✓ Worker 15: common_voice_en_171159.mp3:  A boy on a blue shirt is mountain biking on a track and catching air.\n",
      "2025-10-07 04:00:54,265 INFO - ✓ Worker 10: common_voice_en_171160.mp3:  A person that's wearing a blue shirt is playing in a game of tennis.\n",
      "2025-10-07 04:00:54,748 INFO - ✓ Worker 3: common_voice_en_171142.mp3:  A guy on a bicycle, a mid-air, above a ramp, doing a trick.\n",
      "2025-10-07 04:00:55,000 INFO - ✓ Worker 2: common_voice_en_171174.mp3:  A man is giving a speech.\n",
      "2025-10-07 04:00:56,191 INFO - ✓ Worker 4: common_voice_en_171154.mp3:  Two cyclists in yellow are competing in a race.\n",
      "2025-10-07 04:00:56,508 INFO - ✓ Worker 8: common_voice_en_171175.mp3:  A group of women are standing around in hats.\n",
      "2025-10-07 04:00:56,728 INFO - ✓ Worker 0: common_voice_en_171171.mp3:  A group of Asians smiling and eating.\n",
      "2025-10-07 04:00:56,914 INFO - ✓ Worker 9: common_voice_en_171155.mp3:  A man is showing some many sculptures.\n",
      "2025-10-07 04:00:57,173 INFO - ✓ Worker 6: common_voice_en_171168.mp3:  Two basketball players are scrambling for the ball on the court.\n",
      "2025-10-07 04:00:57,446 INFO - ✓ Worker 14: common_voice_en_171176.mp3:  Shirtless male surfing a wave.\n",
      "2025-10-07 04:00:57,754 INFO - ✓ Worker 1: common_voice_en_171162.mp3:  The man in this picture shrugs off his friend's sarcastic attitude.\n",
      "2025-10-07 04:00:57,763 INFO - ✓ Worker 13: common_voice_en_171184.mp3:  Two dogs in a field lurking at each other.\n",
      "2025-10-07 04:00:57,775 INFO - ✓ Worker 11: common_voice_en_171180.mp3:  This girl is wearing white boots and performing a floor dance.\n",
      "2025-10-07 04:00:57,831 INFO - ✓ Worker 15: common_voice_en_171165.mp3:  A man in a suit is walking.\n",
      "2025-10-07 04:00:58,180 INFO - ✓ Worker 12: common_voice_en_171179.mp3:  A person performing a wheelie trick on a motorcycle in a parking lot.\n",
      "2025-10-07 04:00:58,581 INFO - ✓ Worker 10: common_voice_en_171178.mp3:  Blindfolded woman attempts to hit a pinnara.\n",
      "2025-10-07 04:00:59,465 INFO - ✓ Worker 5: common_voice_en_171157.mp3:  An older man is walking in a large grassy area with a small plane in the background about to land.\n",
      "2025-10-07 04:00:59,839 INFO - ✓ Worker 7: common_voice_en_171177.mp3:  A tattoo artist with colorful sleeve tattoos, draw a tattoo on a seated customer in blue jeans and ...\n",
      "2025-10-07 04:01:00,074 INFO - ✓ Worker 3: common_voice_en_171146.mp3:  A young toddler in a blue hoodie brushes his teeth with his back to a mirror.\n",
      "2025-10-07 04:01:01,114 INFO - ✓ Worker 2: common_voice_en_171182.mp3:  Woman in white gown has hair styled by woman with hair dryer.\n",
      "2025-10-07 04:01:01,307 INFO - ✓ Worker 8: common_voice_en_171191.mp3:  The teacher is reading a story to the class.\n",
      "2025-10-07 04:01:01,542 INFO - ✓ Worker 4: common_voice_en_171189.mp3:  The child sits in a toy car and drinks from a sippy cup.\n",
      "2025-10-07 04:01:01,563 INFO - ✓ Worker 0: common_voice_en_171181.mp3:  A woman and her daughter are walking through the subway station wearing shorts.\n",
      "2025-10-07 04:01:01,728 INFO - ✓ Worker 9: common_voice_en_171197.mp3:  A woman in blue is climbing up a big rock.\n",
      "2025-10-07 04:01:01,849 INFO - ✓ Worker 11: common_voice_en_171196.mp3:  A group of young Asian women smiling for the camera.\n",
      "2025-10-07 04:01:02,002 INFO - ✓ Worker 1: common_voice_en_171190.mp3:  The man in the white and pink outfit is holding a guitar.\n",
      "2025-10-07 04:01:02,232 INFO - ✓ Worker 12: common_voice_en_171195.mp3:  Young boy and cowboy hat wants to play a guitar.\n",
      "2025-10-07 04:01:02,455 INFO - ✓ Worker 10: common_voice_en_171192.mp3:  And African woman in a blue turban poses with an infant.\n",
      "2025-10-07 04:01:02,565 INFO - ✓ Worker 3: common_voice_en_171183.mp3:  A young girl kicking a soccer ball.\n",
      "2025-10-07 04:01:02,792 INFO - ✓ Worker 7: common_voice_en_171193.mp3:  A group of people play tennis in a clay court.\n",
      "2025-10-07 04:01:02,817 INFO - ✓ Worker 13: common_voice_en_171200.mp3:  A small dog catches a green tennis ball in its mouth.\n",
      "2025-10-07 04:01:02,962 INFO - ✓ Worker 5: common_voice_en_171186.mp3:  Three women playing volleyball and two are jumping to attempt to block a shot.\n",
      "2025-10-07 04:01:03,064 INFO - ✓ Worker 6: common_voice_en_171188.mp3:  A man in a yellow shirt and a hat is suspended on wires and pulleys to reach a high glass ceiling.\n",
      "2025-10-07 04:01:03,066 INFO - ✓ Worker 14: common_voice_en_171201.mp3:  A man with a blue hat on a blue shirt is holding pot lids.\n",
      "2025-10-07 04:01:03,114 INFO - ✓ Worker 15: common_voice_en_171194.mp3:  A man in a black suit with a saxophone around his neck is standing next to a piano.\n"
     ]
    },
    {
     "name": "stderr",
     "output_type": "stream",
     "text": [
      "Downloading batch 35:  42%|████▏     | 20/48 [00:00<00:00, 84.39it/s]"
     ]
    },
    {
     "name": "stdout",
     "output_type": "stream",
     "text": [
      "2025-10-07 04:01:04,041 WARNING - Connection pool is full, discarding connection: asrelder-data.s3.amazonaws.com. Connection pool size: 10\n",
      "2025-10-07 04:01:04,044 WARNING - Connection pool is full, discarding connection: asrelder-data.s3.amazonaws.com. Connection pool size: 10\n",
      "2025-10-07 04:01:04,045 WARNING - Connection pool is full, discarding connection: asrelder-data.s3.amazonaws.com. Connection pool size: 10\n",
      "2025-10-07 04:01:04,048 WARNING - Connection pool is full, discarding connection: asrelder-data.s3.amazonaws.com. Connection pool size: 10\n",
      "2025-10-07 04:01:04,055 WARNING - Connection pool is full, discarding connection: asrelder-data.s3.amazonaws.com. Connection pool size: 10\n",
      "2025-10-07 04:01:04,058 WARNING - Connection pool is full, discarding connection: asrelder-data.s3.amazonaws.com. Connection pool size: 10\n",
      "2025-10-07 04:01:04,064 WARNING - Connection pool is full, discarding connection: asrelder-data.s3.amazonaws.com. Connection pool size: 10\n",
      "2025-10-07 04:01:04,073 WARNING - Connection pool is full, discarding connection: asrelder-data.s3.amazonaws.com. Connection pool size: 10\n",
      "2025-10-07 04:01:04,076 WARNING - Connection pool is full, discarding connection: asrelder-data.s3.amazonaws.com. Connection pool size: 10\n"
     ]
    },
    {
     "name": "stderr",
     "output_type": "stream",
     "text": [
      "Downloading batch 35:  98%|█████████▊| 47/48 [00:00<00:00, 154.54it/s]"
     ]
    },
    {
     "name": "stdout",
     "output_type": "stream",
     "text": [
      "2025-10-07 04:01:04,080 WARNING - Connection pool is full, discarding connection: asrelder-data.s3.amazonaws.com. Connection pool size: 10\n"
     ]
    },
    {
     "name": "stderr",
     "output_type": "stream",
     "text": [
      "Downloading batch 35: 100%|██████████| 48/48 [00:00<00:00, 121.90it/s]"
     ]
    },
    {
     "name": "stdout",
     "output_type": "stream",
     "text": [
      "2025-10-07 04:01:04,082 INFO - Transcribing 48 files in parallel...\n"
     ]
    },
    {
     "name": "stderr",
     "output_type": "stream",
     "text": [
      "\n"
     ]
    },
    {
     "name": "stdout",
     "output_type": "stream",
     "text": [
      "2025-10-07 04:01:07,462 INFO - ✓ Worker 5: common_voice_en_171204.mp3:  A boy in blue carries a bucket.\n",
      "2025-10-07 04:01:07,691 INFO - ✓ Worker 9: common_voice_en_171226.mp3:  The brown dog is swimming in the water.\n",
      "2025-10-07 04:01:07,872 INFO - ✓ Worker 10: common_voice_en_171218.mp3:  A woman works in a flower garden.\n",
      "2025-10-07 04:01:07,921 INFO - ✓ Worker 13: common_voice_en_171225.mp3:  Three kids play, one is blindfolded.\n",
      "2025-10-07 04:01:07,940 INFO - ✓ Worker 12: common_voice_en_171222.mp3:  A man and a woman are laughing together.\n",
      "2025-10-07 04:01:08,042 INFO - ✓ Worker 15: common_voice_en_171203.mp3:  Two girls are racing another girl in the air.\n",
      "2025-10-07 04:01:08,091 INFO - ✓ Worker 6: common_voice_en_171208.mp3:  A little girl riding a toy horse during Christmas.\n",
      "2025-10-07 04:01:08,200 INFO - ✓ Worker 11: common_voice_en_171213.mp3:  A young child is posing with goofy.\n",
      "2025-10-07 04:01:08,559 INFO - ✓ Worker 14: common_voice_en_171214.mp3:  A group of people are sitting in a circle and enjoying themselves.\n",
      "2025-10-07 04:01:08,679 INFO - ✓ Worker 2: common_voice_en_171205.mp3:  A girl on a pink scooter pushes herself down a subdivision sidewalk.\n",
      "2025-10-07 04:01:08,709 INFO - ✓ Worker 3: common_voice_en_171211.mp3:  A man in a black shirt is reading the side of a bowl.\n",
      "2025-10-07 04:01:08,870 INFO - ✓ Worker 1: common_voice_en_171220.mp3:  A group of men and women are sitting at a long table with papers.\n",
      "2025-10-07 04:01:09,292 INFO - ✓ Worker 8: common_voice_en_171231.mp3:  Man smiling with a green cup in his hand driving an older model car.\n",
      "2025-10-07 04:01:09,753 INFO - ✓ Worker 4: common_voice_en_171224.mp3:  Three people in red overalls collect by a door with is being refinished.\n",
      "2025-10-07 04:01:09,990 INFO - ✓ Worker 0: common_voice_en_171207.mp3:  A man is throwing something into the trash as a moving van is loaded behind him.\n",
      "2025-10-07 04:01:11,911 INFO - ✓ Worker 9: common_voice_en_171227.mp3:  A man wearing shorts holds a snake.\n",
      "2025-10-07 04:01:12,156 INFO - ✓ Worker 5: common_voice_en_171232.mp3:  A man standing inside of a station with a suitcase.\n",
      "2025-10-07 04:01:12,562 INFO - ✓ Worker 7: common_voice_en_171223.mp3:  The soccer team, Clad and Blue, for the match began to counter down the field in front of the defen...\n",
      "2025-10-07 04:01:12,849 INFO - ✓ Worker 1: common_voice_en_171217.mp3:  A band is playing music underneath a white canopy.\n",
      "2025-10-07 04:01:13,212 INFO - ✓ Worker 12: common_voice_en_171235.mp3:  A woman with long hair is meditating on a beach.\n",
      "2025-10-07 04:01:13,457 INFO - ✓ Worker 2: common_voice_en_171219.mp3:  The little girl in a flower dress is talking to the ladies on the street.\n",
      "2025-10-07 04:01:13,582 INFO - ✓ Worker 6: common_voice_en_171210.mp3:  A lady with some jeans on talking on a cell phone with her hand on her forehead.\n",
      "2025-10-07 04:01:13,829 INFO - ✓ Worker 0: common_voice_en_171221.mp3:  For shirtless men are working on a building.\n",
      "2025-10-07 04:01:13,849 INFO - ✓ Worker 13: common_voice_en_171245.mp3:  A person on crutches showing his beliefs on the street.\n",
      "2025-10-07 04:01:14,026 INFO - ✓ Worker 11: common_voice_en_171236.mp3:  Two women with black dresses and red tops are standing next to a fence smiling.\n",
      "2025-10-07 04:01:14,341 INFO - ✓ Worker 3: common_voice_en_171230.mp3:  Cowboy riding a bucking horse while two guys watch from the gate\n",
      "2025-10-07 04:01:14,717 INFO - ✓ Worker 10: common_voice_en_171212.mp3:  A dirt biker whose sideways in the air having come off of a dirt jump.\n",
      "2025-10-07 04:01:14,835 INFO - ✓ Worker 8: common_voice_en_171234.mp3:  A man in a block hat and plaid shirt sells hats on the street.\n",
      "2025-10-07 04:01:15,025 INFO - ✓ Worker 14: common_voice_en_171237.mp3:  A teenager reading a book in class with notes on her desk looking bored.\n",
      "2025-10-07 04:01:15,960 INFO - ✓ Worker 7: common_voice_en_171240.mp3:  A boy jumping a rail on his skateboard.\n",
      "2025-10-07 04:01:16,395 INFO - ✓ Worker 4: common_voice_en_171215.mp3:  A young girl wearing a blue helmet and flip flops is sitting on a red forewheeler.\n",
      "2025-10-07 04:01:16,425 INFO - ✓ Worker 1: common_voice_en_171253.mp3:  People walking a city in the city streets.\n",
      "2025-10-07 04:01:16,866 INFO - ✓ Worker 15: common_voice_en_171252.mp3:  A little girl running through yellow sprinkler in a grassy yard.\n",
      "2025-10-07 04:01:17,356 INFO - ✓ Worker 2: common_voice_en_171244.mp3:  A man is holding a bunch of sunglasses.\n",
      "2025-10-07 04:01:17,673 INFO - ✓ Worker 0: common_voice_en_171251.mp3:  A person in grace, no boarding down a hill.\n",
      "2025-10-07 04:01:17,727 INFO - ✓ Worker 10: common_voice_en_171249.mp3:  Two women climbing rocks around the ocean.\n",
      "2025-10-07 04:01:17,935 INFO - ✓ Worker 5: common_voice_en_171256.mp3:  A man tries to take a stick away from a brown dog.\n",
      "2025-10-07 04:01:18,107 INFO - ✓ Worker 12: common_voice_en_171265.mp3:  Old man is fixing overturn bike.\n",
      "2025-10-07 04:01:18,183 INFO - ✓ Worker 6: common_voice_en_171258.mp3:  A young boy jumps for joy in front of a rock formation.\n",
      "2025-10-07 04:01:18,334 INFO - ✓ Worker 8: common_voice_en_171257.mp3:  An aerial view of a large group of people.\n",
      "2025-10-07 04:01:18,373 INFO - ✓ Worker 7: common_voice_en_171254.mp3:  Two men are playing basketball.\n",
      "2025-10-07 04:01:18,435 INFO - ✓ Worker 11: common_voice_en_171262.mp3:  A little girl sticking her tongue out in a bench.\n",
      "2025-10-07 04:01:18,476 INFO - ✓ Worker 3: common_voice_en_171233.mp3:  A man in a green apron smiles behind a food stand.\n",
      "2025-10-07 04:01:18,631 INFO - ✓ Worker 13: common_voice_en_171261.mp3:  A woman lowering ballast on a boat.\n",
      "2025-10-07 04:01:18,738 INFO - ✓ Worker 15: common_voice_en_171264.mp3:  A young man jumps on a table.\n",
      "2025-10-07 04:01:18,791 INFO - ✓ Worker 9: common_voice_en_171260.mp3:  A bunch of people in racing gear and helmets racing bicycles around a corner on wet pavement.\n",
      "2025-10-07 04:01:18,870 INFO - ✓ Worker 4: common_voice_en_171238.mp3:  A brunette woman is standing in front of a wall with graffiti.\n",
      "2025-10-07 04:01:18,871 INFO - ✓ Worker 14: common_voice_en_171241.mp3:  A man is hauling something out of the water into a small boat.\n",
      "2025-10-07 04:01:18,880 INFO - Appended 240 rows to ./transcripts_from_prefix.csv\n"
     ]
    },
    {
     "name": "stderr",
     "output_type": "stream",
     "text": [
      "Downloading batch 36:  40%|███▉      | 19/48 [00:00<00:00, 86.11it/s]"
     ]
    },
    {
     "name": "stdout",
     "output_type": "stream",
     "text": [
      "2025-10-07 04:01:19,740 WARNING - Connection pool is full, discarding connection: asrelder-data.s3.amazonaws.com. Connection pool size: 10\n",
      "2025-10-07 04:01:19,755 WARNING - Connection pool is full, discarding connection: asrelder-data.s3.amazonaws.com. Connection pool size: 10\n",
      "2025-10-07 04:01:19,765 WARNING - Connection pool is full, discarding connection: asrelder-data.s3.amazonaws.com. Connection pool size: 10\n",
      "2025-10-07 04:01:19,769 WARNING - Connection pool is full, discarding connection: asrelder-data.s3.amazonaws.com. Connection pool size: 10\n",
      "2025-10-07 04:01:19,770 WARNING - Connection pool is full, discarding connection: asrelder-data.s3.amazonaws.com. Connection pool size: 10\n",
      "2025-10-07 04:01:19,771 WARNING - Connection pool is full, discarding connection: asrelder-data.s3.amazonaws.com. Connection pool size: 10\n"
     ]
    },
    {
     "name": "stderr",
     "output_type": "stream",
     "text": [
      "Downloading batch 36:  75%|███████▌  | 36/48 [00:00<00:00, 118.97it/s]"
     ]
    },
    {
     "name": "stdout",
     "output_type": "stream",
     "text": [
      "2025-10-07 04:01:19,840 WARNING - Connection pool is full, discarding connection: asrelder-data.s3.amazonaws.com. Connection pool size: 10\n",
      "2025-10-07 04:01:19,855 WARNING - Connection pool is full, discarding connection: asrelder-data.s3.amazonaws.com. Connection pool size: 10\n",
      "2025-10-07 04:01:19,863 WARNING - Connection pool is full, discarding connection: asrelder-data.s3.amazonaws.com. Connection pool size: 10\n",
      "2025-10-07 04:01:19,866 WARNING - Connection pool is full, discarding connection: asrelder-data.s3.amazonaws.com. Connection pool size: 10\n",
      "2025-10-07 04:01:19,893 WARNING - Connection pool is full, discarding connection: asrelder-data.s3.amazonaws.com. Connection pool size: 10\n"
     ]
    },
    {
     "name": "stderr",
     "output_type": "stream",
     "text": [
      "Downloading batch 36: 100%|██████████| 48/48 [00:00<00:00, 108.80it/s]"
     ]
    },
    {
     "name": "stdout",
     "output_type": "stream",
     "text": [
      "2025-10-07 04:01:19,895 INFO - Transcribing 48 files in parallel...\n"
     ]
    },
    {
     "name": "stderr",
     "output_type": "stream",
     "text": [
      "\n"
     ]
    },
    {
     "name": "stdout",
     "output_type": "stream",
     "text": [
      "2025-10-07 04:01:22,932 INFO - ✓ Worker 3: common_voice_en_171291.mp3:  A woman scratching her face.\n",
      "2025-10-07 04:01:22,979 INFO - ✓ Worker 5: common_voice_en_171272.mp3:  Two people in winter clothing.\n",
      "2025-10-07 04:01:23,617 INFO - ✓ Worker 7: common_voice_en_171268.mp3:  Lady in short dress walking on sidewalk.\n",
      "2025-10-07 04:01:23,784 INFO - ✓ Worker 2: common_voice_en_171284.mp3:  People walking along the beach on a sunny day.\n",
      "2025-10-07 04:01:24,213 INFO - ✓ Worker 13: common_voice_en_171298.mp3:  Some children are sitting on rafts and I like\n",
      "2025-10-07 04:01:24,350 INFO - ✓ Worker 15: common_voice_en_171288.mp3:  Three men sit down and a building illuminated with green light.\n",
      "2025-10-07 04:01:24,369 INFO - ✓ Worker 14: common_voice_en_171279.mp3:  A man in a blue t-shirt holds a camera.\n",
      "2025-10-07 04:01:24,446 INFO - ✓ Worker 8: common_voice_en_171269.mp3:  A group of Asian people stand and sit in ceremonial dress.\n",
      "2025-10-07 04:01:24,453 INFO - ✓ Worker 12: common_voice_en_171294.mp3:  Three male friends in short stand together having a conversation.\n",
      "2025-10-07 04:01:25,378 INFO - ✓ Worker 4: common_voice_en_171285.mp3:  A man is helping a small boy climb up a pole that is on playground equipment.\n",
      "2025-10-07 04:01:25,418 INFO - ✓ Worker 10: common_voice_en_171274.mp3:  A hiker walks on rocky ground at the base of a foggy mountain.\n",
      "2025-10-07 04:01:25,434 INFO - ✓ Worker 9: common_voice_en_171275.mp3:  Someone in a cowboy hat is trying to ride a bull while others are watching.\n",
      "2025-10-07 04:01:25,850 INFO - ✓ Worker 1: common_voice_en_171266.mp3:  A man wearing jeans and a red t-shirt holding food on a busy street corner.\n",
      "2025-10-07 04:01:26,710 INFO - ✓ Worker 6: common_voice_en_171273.mp3:  Baskets of fresh cabbage, tomatoes, beans, and other produce sit outside in an open-air market.\n",
      "2025-10-07 04:01:27,181 INFO - ✓ Worker 3: common_voice_en_171296.mp3:  A group of men climb ladders outdoors.\n",
      "2025-10-07 04:01:27,559 INFO - ✓ Worker 11: common_voice_en_171297.mp3:  A woman wearing a deer Santa t-shirt is looking at a Star Wars book with a young boy in a bright pi...\n",
      "2025-10-07 04:01:27,563 INFO - ✓ Worker 2: common_voice_en_171282.mp3:  A man is in a bucket looking at a tree.\n",
      "2025-10-07 04:01:27,687 INFO - ✓ Worker 0: common_voice_en_171267.mp3:  A woman with short dark hair is on the floor, reading a book to a little girl dressed in a white dr...\n",
      "2025-10-07 04:01:27,727 INFO - ✓ Worker 10: common_voice_en_17147641.mp3:  The hell you say?\n",
      "2025-10-07 04:01:28,193 INFO - ✓ Worker 8: common_voice_en_171301.mp3:  Women walk dogs in a circular pattern over grassy terrain.\n",
      "2025-10-07 04:01:29,066 INFO - ✓ Worker 9: common_voice_en_17147422.mp3:  I have a headache and a sore throat.\n",
      "2025-10-07 04:01:29,174 INFO - ✓ Worker 13: common_voice_en_171537.mp3:  Bag and baggage.\n",
      "2025-10-07 04:01:29,248 INFO - ✓ Worker 1: common_voice_en_171292.mp3:  Darth Vader playing a violin on a sunny day.\n",
      "2025-10-07 04:01:29,339 INFO - ✓ Worker 12: common_voice_en_17147571.mp3:  The thief thinks that all are of his profession.\n",
      "2025-10-07 04:01:29,414 INFO - ✓ Worker 4: common_voice_en_171277.mp3:  An old man in a red hat is holding open a door.\n",
      "2025-10-07 04:01:30,144 INFO - ✓ Worker 14: common_voice_en_171534.mp3:  Do right and fear no man.\n",
      "2025-10-07 04:01:30,350 INFO - ✓ Worker 5: common_voice_en_171293.mp3:  Two boys, one with a yellow and orange ball, play in some water in front of a field.\n",
      "2025-10-07 04:01:30,473 INFO - ✓ Worker 15: common_voice_en_17147453.mp3:  Empty barrels made the most noise.\n",
      "2025-10-07 04:01:30,893 INFO - ✓ Worker 2: common_voice_en_1720.mp3:  I would say deadwood was three stars.\n",
      "2025-10-07 04:01:31,303 INFO - ✓ Worker 6: common_voice_en_171280.mp3:  A man holding a sign and a blonde woman are embracing out door.\n",
      "2025-10-07 04:01:31,319 INFO - ✓ Worker 7: common_voice_en_171287.mp3:  A black man holds a bundle of papers near a wooden structure cover with papers that have words writ...\n",
      "2025-10-07 04:01:31,365 INFO - ✓ Worker 1: common_voice_en_1716.mp3:  That covers the basics.\n",
      "2025-10-07 04:01:31,907 INFO - ✓ Worker 3: common_voice_en_17147522.mp3:  The hilt of the sword was carved with fine designs.\n",
      "2025-10-07 04:01:31,934 INFO - ✓ Worker 0: common_voice_en_171286.mp3:  A skilled gold worker works on his next piece of art.\n",
      "2025-10-07 04:01:32,019 INFO - ✓ Worker 8: common_voice_en_17246108.mp3:  One can't be too careful.\n",
      "2025-10-07 04:01:32,784 INFO - ✓ Worker 10: common_voice_en_17245941.mp3:  He pinched her cheek.\n",
      "2025-10-07 04:01:32,817 INFO - ✓ Worker 4: common_voice_en_17246562.mp3:  It's important to me to keep the internet healthy.\n",
      "2025-10-07 04:01:33,013 INFO - ✓ Worker 11: common_voice_en_171300.mp3:  A jockey is perched atop a brown horse as people mill about behind them.\n",
      "2025-10-07 04:01:33,514 INFO - ✓ Worker 9: common_voice_en_1727.mp3:  Add Tony Kackle music to Street Dance playlist.\n",
      "2025-10-07 04:01:33,582 INFO - ✓ Worker 5: common_voice_en_171532.mp3:  Is there no sense of honor left in this country?\n",
      "2025-10-07 04:01:34,067 INFO - ✓ Worker 14: common_voice_en_17247562.mp3:  Hunger is good mustard or the best sauce.\n",
      "2025-10-07 04:01:34,096 INFO - ✓ Worker 12: common_voice_en_17272577.mp3:  I always use dancing hamsters to help me visualize data.\n",
      "2025-10-07 04:01:34,149 INFO - ✓ Worker 0: common_voice_en_171299.mp3:  People are fixing the roof of a house.\n",
      "2025-10-07 04:01:34,172 INFO - ✓ Worker 13: common_voice_en_17246204.mp3:  That's what you get for testing my patients.\n",
      "2025-10-07 04:01:34,260 INFO - ✓ Worker 7: common_voice_en_17272406.mp3:  I think they were both looking for some sort of new work.\n",
      "2025-10-07 04:01:34,277 INFO - ✓ Worker 15: common_voice_en_17273985.mp3:  Every now and then, they remember to give me some food.\n",
      "2025-10-07 04:01:34,365 INFO - ✓ Worker 6: common_voice_en_1717.mp3:  You can avoid this in your own code by preferring easily recognized identifiers.\n",
      "2025-10-07 04:01:34,371 INFO - ✓ Worker 11: common_voice_en_17273652.mp3:  The new law prohibits smoking in public transportation systems.\n"
     ]
    },
    {
     "name": "stderr",
     "output_type": "stream",
     "text": [
      "Downloading batch 37:   2%|▏         | 1/48 [00:00<00:07,  6.69it/s]"
     ]
    },
    {
     "name": "stdout",
     "output_type": "stream",
     "text": [
      "2025-10-07 04:01:35,199 WARNING - Connection pool is full, discarding connection: asrelder-data.s3.amazonaws.com. Connection pool size: 10\n"
     ]
    },
    {
     "name": "stderr",
     "output_type": "stream",
     "text": [
      "Downloading batch 37:  23%|██▎       | 11/48 [00:00<00:00, 51.23it/s]"
     ]
    },
    {
     "name": "stdout",
     "output_type": "stream",
     "text": [
      "2025-10-07 04:01:35,226 WARNING - Connection pool is full, discarding connection: asrelder-data.s3.amazonaws.com. Connection pool size: 10\n",
      "2025-10-07 04:01:35,230 WARNING - Connection pool is full, discarding connection: asrelder-data.s3.amazonaws.com. Connection pool size: 10\n",
      "2025-10-07 04:01:35,231 WARNING - Connection pool is full, discarding connection: asrelder-data.s3.amazonaws.com. Connection pool size: 10\n",
      "2025-10-07 04:01:35,241 WARNING - Connection pool is full, discarding connection: asrelder-data.s3.amazonaws.com. Connection pool size: 10\n"
     ]
    },
    {
     "name": "stderr",
     "output_type": "stream",
     "text": [
      "Downloading batch 37:  62%|██████▎   | 30/48 [00:00<00:00, 106.39it/s]"
     ]
    },
    {
     "name": "stdout",
     "output_type": "stream",
     "text": [
      "2025-10-07 04:01:35,342 WARNING - Connection pool is full, discarding connection: asrelder-data.s3.amazonaws.com. Connection pool size: 10\n",
      "2025-10-07 04:01:35,346 WARNING - Connection pool is full, discarding connection: asrelder-data.s3.amazonaws.com. Connection pool size: 10\n",
      "2025-10-07 04:01:35,349 WARNING - Connection pool is full, discarding connection: asrelder-data.s3.amazonaws.com. Connection pool size: 10\n",
      "2025-10-07 04:01:35,351 WARNING - Connection pool is full, discarding connection: asrelder-data.s3.amazonaws.com. Connection pool size: 10\n",
      "2025-10-07 04:01:35,362 WARNING - Connection pool is full, discarding connection: asrelder-data.s3.amazonaws.com. Connection pool size: 10\n",
      "2025-10-07 04:01:35,365 WARNING - Connection pool is full, discarding connection: asrelder-data.s3.amazonaws.com. Connection pool size: 10\n",
      "2025-10-07 04:01:35,367 WARNING - Connection pool is full, discarding connection: asrelder-data.s3.amazonaws.com. Connection pool size: 10\n",
      "2025-10-07 04:01:35,375 WARNING - Connection pool is full, discarding connection: asrelder-data.s3.amazonaws.com. Connection pool size: 10\n",
      "2025-10-07 04:01:35,396 WARNING - Connection pool is full, discarding connection: asrelder-data.s3.amazonaws.com. Connection pool size: 10\n",
      "2025-10-07 04:01:35,533 WARNING - Connection pool is full, discarding connection: asrelder-data.s3.amazonaws.com. Connection pool size: 10\n"
     ]
    },
    {
     "name": "stderr",
     "output_type": "stream",
     "text": [
      "Downloading batch 37: 100%|██████████| 48/48 [00:00<00:00, 82.44it/s] "
     ]
    },
    {
     "name": "stdout",
     "output_type": "stream",
     "text": [
      "2025-10-07 04:01:35,535 INFO - Transcribing 48 files in parallel...\n"
     ]
    },
    {
     "name": "stderr",
     "output_type": "stream",
     "text": [
      "\n"
     ]
    },
    {
     "name": "stdout",
     "output_type": "stream",
     "text": [
      "2025-10-07 04:01:38,693 INFO - ✓ Worker 6: common_voice_en_17282320.mp3:  You guys should try starting small.\n",
      "2025-10-07 04:01:38,694 INFO - ✓ Worker 13: common_voice_en_17281459.mp3:  Let me worry about that.\n",
      "2025-10-07 04:01:39,057 INFO - ✓ Worker 1: common_voice_en_17281504.mp3:  Roads are paved with sticky tar.\n",
      "2025-10-07 04:01:39,065 INFO - ✓ Worker 11: common_voice_en_17277788.mp3:  We have an excess of squirrels.\n",
      "2025-10-07 04:01:39,075 INFO - ✓ Worker 14: common_voice_en_17280382.mp3:  That was someone else's handy work.\n",
      "2025-10-07 04:01:39,348 INFO - ✓ Worker 3: common_voice_en_17281834.mp3:  You weren't kidding about the bait part.\n",
      "2025-10-07 04:01:39,576 INFO - ✓ Worker 10: common_voice_en_17284001.mp3:  Grasp no more than die hand will hold.\n",
      "2025-10-07 04:01:39,660 INFO - ✓ Worker 2: common_voice_en_17275788.mp3:  I'm just using the standard repair style.\n",
      "2025-10-07 04:01:39,818 INFO - ✓ Worker 8: common_voice_en_17276609.mp3:  Voyage your one, it's left our solar system.\n",
      "2025-10-07 04:01:39,850 INFO - ✓ Worker 15: common_voice_en_17282043.mp3:  I think most people tend to dress pretty casually.\n",
      "2025-10-07 04:01:40,041 INFO - ✓ Worker 7: common_voice_en_17283672.mp3:  Ready, money is ready, medicine.\n",
      "2025-10-07 04:01:40,144 INFO - ✓ Worker 12: common_voice_en_17278235.mp3:  You actually have to do a proper work.\n",
      "2025-10-07 04:01:40,260 INFO - ✓ Worker 9: common_voice_en_17281575.mp3:  A soft answer to death, Diablo Away Wrath.\n",
      "2025-10-07 04:01:40,773 INFO - ✓ Worker 0: common_voice_en_17274719.mp3:  You could go for a Prisk walk-up constitution or something.\n",
      "2025-10-07 04:01:40,889 INFO - ✓ Worker 4: common_voice_en_17282342.mp3:  It's nice place to walk around if you decide to go over there.\n",
      "2025-10-07 04:01:42,317 INFO - ✓ Worker 5: common_voice_en_17282773.mp3:  Whoever the rightful owner is, we've still got a whole host of missing scientists to account for.\n",
      "2025-10-07 04:01:43,015 INFO - ✓ Worker 6: common_voice_en_17284685.mp3:  Do you know what's going on there?\n",
      "2025-10-07 04:01:43,195 INFO - ✓ Worker 3: common_voice_en_17278282.mp3:  That's the only chess game I ever played.\n",
      "2025-10-07 04:01:43,292 INFO - ✓ Worker 7: common_voice_en_17284693.mp3:  We don't let them harm us.\n",
      "2025-10-07 04:01:43,506 INFO - ✓ Worker 9: common_voice_en_17284692.mp3:  You could go home.\n",
      "2025-10-07 04:01:43,697 INFO - ✓ Worker 12: common_voice_en_17284691.mp3:  There was some garbage in the bush.\n",
      "2025-10-07 04:01:43,832 INFO - ✓ Worker 1: common_voice_en_17281576.mp3:  The hot gas has many molecules in the upper excited states.\n",
      "2025-10-07 04:01:44,067 INFO - ✓ Worker 4: common_voice_en_17276016.mp3:  It's never too late to mend.\n",
      "2025-10-07 04:01:44,318 INFO - ✓ Worker 0: common_voice_en_17283745.mp3:  It's fairly small as hills around here go.\n",
      "2025-10-07 04:01:44,756 INFO - ✓ Worker 8: common_voice_en_17277103.mp3:  We would prefer for your search to be carried out discreetly.\n",
      "2025-10-07 04:01:45,488 INFO - ✓ Worker 10: common_voice_en_17284172.mp3:  I see now that it was just some perverse form of acutism.\n",
      "2025-10-07 04:01:45,579 INFO - ✓ Worker 11: common_voice_en_17284694.mp3:  If that really opened up, it would probably be a question for the captain.\n",
      "2025-10-07 04:01:46,111 INFO - ✓ Worker 1: common_voice_en_17284703.mp3:  Have a nice day.\n",
      "2025-10-07 04:01:46,229 INFO - ✓ Worker 5: common_voice_en_17283573.mp3:  I wasn't certain it'd work at all yesterday.\n",
      "2025-10-07 04:01:46,561 INFO - ✓ Worker 15: common_voice_en_17284698.mp3:  Our economic situation is really difficult. Do you know?\n",
      "2025-10-07 04:01:46,677 INFO - ✓ Worker 2: common_voice_en_17283788.mp3:  I now have a tan that ends abruptly at my knuckles where they were curled over my handlebars.\n",
      "2025-10-07 04:01:46,796 INFO - ✓ Worker 3: common_voice_en_17284699.mp3:  The case was no longer to be changed.\n",
      "2025-10-07 04:01:46,947 INFO - ✓ Worker 14: common_voice_en_17284690.mp3:  To see if it's a stone board or a backboard, there's an easel bridge.\n",
      "2025-10-07 04:01:47,462 INFO - ✓ Worker 6: common_voice_en_17284697.mp3:  On every top, paste a decal.\n",
      "2025-10-07 04:01:47,729 INFO - ✓ Worker 13: common_voice_en_17284696.mp3:  If the lock goes backwards, it's right that I don't take my train anymore, but only my shoe.\n",
      "2025-10-07 04:01:48,115 INFO - ✓ Worker 8: common_voice_en_17284701.mp3:  France is a specialist for such things.\n",
      "2025-10-07 04:01:48,379 INFO - ✓ Worker 11: common_voice_en_17284710.mp3:  Come and see me.\n",
      "2025-10-07 04:01:48,396 INFO - ✓ Worker 9: common_voice_en_17284706.mp3:  The freckles are burned!\n",
      "2025-10-07 04:01:48,605 INFO - ✓ Worker 4: common_voice_en_17284704.mp3:  In April, the last year, everything goes for the dogs.\n",
      "2025-10-07 04:01:48,649 INFO - ✓ Worker 7: common_voice_en_17284707.mp3:  My god, is the journey over the conclusion really so difficult?\n",
      "2025-10-07 04:01:48,662 INFO - ✓ Worker 10: common_voice_en_17284695.mp3:  From me as well, that's it.\n",
      "2025-10-07 04:01:48,727 INFO - ✓ Worker 0: common_voice_en_17284689.mp3:  Please share yourself a little bit more evenly on the upper body.\n",
      "2025-10-07 04:01:49,135 INFO - ✓ Worker 12: common_voice_en_17284705.mp3:  The gesamte Fluer's video überwacht.\n",
      "2025-10-07 04:01:49,359 INFO - ✓ Worker 5: common_voice_en_17284702.mp3:  If more recipes are given to you, give them a thumbs up.\n",
      "2025-10-07 04:01:49,408 INFO - ✓ Worker 2: common_voice_en_17284700.mp3:  That's still harmless, compared to shantalla in the trumpet.\n",
      "2025-10-07 04:01:49,526 INFO - ✓ Worker 13: common_voice_en_17284708.mp3:  On Boje 149 it is a sense of falling out.\n",
      "2025-10-07 04:01:49,568 INFO - ✓ Worker 14: common_voice_en_17284711.mp3:  With this Kwitsch Gelben Regen, you are easy to find out.\n",
      "2025-10-07 04:01:49,585 INFO - ✓ Worker 15: common_voice_en_17282192.mp3:  Steel can be pretty rough on your fingers when you're just getting to grips with it.\n"
     ]
    },
    {
     "name": "stderr",
     "output_type": "stream",
     "text": [
      "Downloading batch 38:   2%|▏         | 1/48 [00:00<00:07,  6.67it/s]"
     ]
    },
    {
     "name": "stdout",
     "output_type": "stream",
     "text": [
      "2025-10-07 04:01:50,413 WARNING - Connection pool is full, discarding connection: asrelder-data.s3.amazonaws.com. Connection pool size: 10\n"
     ]
    },
    {
     "name": "stderr",
     "output_type": "stream",
     "text": [
      "Downloading batch 38:  38%|███▊      | 18/48 [00:00<00:00, 82.52it/s]"
     ]
    },
    {
     "name": "stdout",
     "output_type": "stream",
     "text": [
      "2025-10-07 04:01:50,517 WARNING - Connection pool is full, discarding connection: asrelder-data.s3.amazonaws.com. Connection pool size: 10\n",
      "2025-10-07 04:01:50,523 WARNING - Connection pool is full, discarding connection: asrelder-data.s3.amazonaws.com. Connection pool size: 10\n"
     ]
    },
    {
     "name": "stderr",
     "output_type": "stream",
     "text": [
      "Downloading batch 38:  90%|████████▉ | 43/48 [00:00<00:00, 147.35it/s]"
     ]
    },
    {
     "name": "stdout",
     "output_type": "stream",
     "text": [
      "2025-10-07 04:01:50,528 WARNING - Connection pool is full, discarding connection: asrelder-data.s3.amazonaws.com. Connection pool size: 10\n",
      "2025-10-07 04:01:50,529 WARNING - Connection pool is full, discarding connection: asrelder-data.s3.amazonaws.com. Connection pool size: 10\n",
      "2025-10-07 04:01:50,546 WARNING - Connection pool is full, discarding connection: asrelder-data.s3.amazonaws.com. Connection pool size: 10\n",
      "2025-10-07 04:01:50,554 WARNING - Connection pool is full, discarding connection: asrelder-data.s3.amazonaws.com. Connection pool size: 10\n",
      "2025-10-07 04:01:50,573 WARNING - Connection pool is full, discarding connection: asrelder-data.s3.amazonaws.com. Connection pool size: 10\n"
     ]
    },
    {
     "name": "stderr",
     "output_type": "stream",
     "text": [
      "Downloading batch 38: 100%|██████████| 48/48 [00:00<00:00, 116.14it/s]"
     ]
    },
    {
     "name": "stdout",
     "output_type": "stream",
     "text": [
      "2025-10-07 04:01:50,576 INFO - Transcribing 48 files in parallel...\n"
     ]
    },
    {
     "name": "stderr",
     "output_type": "stream",
     "text": [
      "\n"
     ]
    },
    {
     "name": "stdout",
     "output_type": "stream",
     "text": [
      "2025-10-07 04:01:53,574 INFO - ✓ Worker 7: common_voice_en_17284734.mp3:  Let's talk about childhood.\n",
      "2025-10-07 04:01:53,594 INFO - ✓ Worker 10: common_voice_en_17284733.mp3:  The refrigerator is almost empty.\n",
      "2025-10-07 04:01:53,611 INFO - ✓ Worker 3: common_voice_en_17284732.mp3:  Martha has been injured.\n",
      "2025-10-07 04:01:53,754 INFO - ✓ Worker 9: common_voice_en_17284717.mp3:  That would not have been easy.\n",
      "2025-10-07 04:01:54,146 INFO - ✓ Worker 11: common_voice_en_17284730.mp3:  He is a real Protein Junkie.\n",
      "2025-10-07 04:01:54,434 INFO - ✓ Worker 6: common_voice_en_17284719.mp3:  The laptop from Erichert hits the problem.\n",
      "2025-10-07 04:01:54,528 INFO - ✓ Worker 14: common_voice_en_17284725.mp3:  I don't have to get used to it.\n",
      "2025-10-07 04:01:54,771 INFO - ✓ Worker 15: common_voice_en_17284736.mp3:  Nadine is sometimes too good for this world.\n",
      "2025-10-07 04:01:54,933 INFO - ✓ Worker 13: common_voice_en_17284737.mp3:  Have a nice day, the car looks good.\n",
      "2025-10-07 04:01:55,318 INFO - ✓ Worker 0: common_voice_en_17284715.mp3:  The administration has said that from my point of view too much trouble.\n",
      "2025-10-07 04:01:55,347 INFO - ✓ Worker 2: common_voice_en_17284731.mp3:  Sinkrichtstaater, komm ohne staat und landebahn aus.\n",
      "2025-10-07 04:01:55,546 INFO - ✓ Worker 5: common_voice_en_17284713.mp3:  Daniela's B.H. was optically not to share their bikinis.\n",
      "2025-10-07 04:01:55,550 INFO - ✓ Worker 1: common_voice_en_17284716.mp3:  Tim was there, but he knew how he wrote his housework.\n",
      "2025-10-07 04:01:55,868 INFO - ✓ Worker 3: common_voice_en_17284723.mp3:  What do I know?\n",
      "2025-10-07 04:01:56,075 INFO - ✓ Worker 4: common_voice_en_17284714.mp3:  That's what you need for the machine, I'm asking you and I think.\n",
      "2025-10-07 04:01:56,518 INFO - ✓ Worker 12: common_voice_en_17284728.mp3:  Marco comes with this notation, not clear, because she holds so many Greek letters.\n",
      "2025-10-07 04:01:56,610 INFO - ✓ Worker 8: common_voice_en_17284712.mp3:  So as not only the suspicion of corruption, they should play with open cards from the beginning.\n",
      "2025-10-07 04:01:58,435 INFO - ✓ Worker 5: common_voice_en_17284735.mp3:  And it's a real problem.\n",
      "2025-10-07 04:01:58,746 INFO - ✓ Worker 1: common_voice_en_17284718.mp3:  That's maybe a cool model here.\n",
      "2025-10-07 04:01:58,992 INFO - ✓ Worker 8: common_voice_en_17284740.mp3:  Guten Appetit!\n",
      "2025-10-07 04:01:59,018 INFO - ✓ Worker 2: common_voice_en_17284721.mp3:  My mother has already had an advance.\n",
      "2025-10-07 04:01:59,131 INFO - ✓ Worker 11: common_voice_en_17284741.mp3:  Where do you see yourself in five years?\n",
      "2025-10-07 04:01:59,332 INFO - ✓ Worker 0: common_voice_en_17284729.mp3:  This is an Algemeine Verkehrs Controller.\n",
      "2025-10-07 04:01:59,406 INFO - ✓ Worker 6: common_voice_en_17284727.mp3:  The Terminum Donnerstag was clearly noticed.\n",
      "2025-10-07 04:01:59,689 INFO - ✓ Worker 4: common_voice_en_17284726.mp3:  That doesn't fit in the rubric.\n",
      "2025-10-07 04:01:59,823 INFO - ✓ Worker 13: common_voice_en_17284743.mp3:  What do you have to do with that?\n",
      "2025-10-07 04:02:00,044 INFO - ✓ Worker 7: common_voice_en_17284739.mp3:  Either is again with your family and with Leo Polt at Gatorzee.\n",
      "2025-10-07 04:02:00,449 INFO - ✓ Worker 9: common_voice_en_17284738.mp3:  We are meeting us at the 4th floor of the 12th floor.\n",
      "2025-10-07 04:02:00,546 INFO - ✓ Worker 14: common_voice_en_17284748.mp3:  Now we just have to talk about a piece of art.\n",
      "2025-10-07 04:02:01,128 INFO - ✓ Worker 15: common_voice_en_17284746.mp3:  Down from my dream, the most terrible.\n",
      "2025-10-07 04:02:01,544 INFO - ✓ Worker 12: common_voice_en_17284742.mp3:  Leiter is the theme of a field that is still sitting with a charm.\n",
      "2025-10-07 04:02:02,467 INFO - ✓ Worker 1: common_voice_en_17284751.mp3:  We should leave it there.\n",
      "2025-10-07 04:02:02,740 INFO - ✓ Worker 6: common_voice_en_17284761.mp3:  The stones are unbearable.\n",
      "2025-10-07 04:02:03,114 INFO - ✓ Worker 3: common_voice_en_17284753.mp3:  Lucas would like to thank you for your work.\n",
      "2025-10-07 04:02:03,168 INFO - ✓ Worker 2: common_voice_en_17284749.mp3:  Richt ist hier nicht irgendwie komisch?\n",
      "2025-10-07 04:02:03,357 INFO - ✓ Worker 5: common_voice_en_17284755.mp3:  What are you doing? Is everything else the same?\n",
      "2025-10-07 04:02:03,733 INFO - ✓ Worker 7: common_voice_en_17284758.mp3:  For Freude is the most beautiful Freude.\n",
      "2025-10-07 04:02:04,045 INFO - ✓ Worker 11: common_voice_en_17284762.mp3:  A lot of communities in NRW are completely different.\n",
      "2025-10-07 04:02:04,185 INFO - ✓ Worker 13: common_voice_en_17284754.mp3:  Just as Jonas is my Lieblings detective.\n",
      "2025-10-07 04:02:04,205 INFO - ✓ Worker 0: common_voice_en_17284750.mp3:  The Seminar will be found in Mühlheim, on the Ruhr.\n",
      "2025-10-07 04:02:04,327 INFO - ✓ Worker 15: common_voice_en_17284759.mp3:  We need a larger level.\n",
      "2025-10-07 04:02:04,438 INFO - ✓ Worker 8: common_voice_en_17284765.mp3:  I give it to you that I've left something behind for the last time.\n",
      "2025-10-07 04:02:04,548 INFO - ✓ Worker 4: common_voice_en_17284744.mp3:  And now we turn back to our Correspondent on the Börse in Frankfurt.\n",
      "2025-10-07 04:02:04,754 INFO - ✓ Worker 9: common_voice_en_17284756.mp3:  I don't like to be a programmer, but only because the age wasn't more modern.\n",
      "2025-10-07 04:02:04,857 INFO - ✓ Worker 14: common_voice_en_17284763.mp3:  I think I have a number of 1s and 100s and you have to save them.\n",
      "2025-10-07 04:02:04,910 INFO - ✓ Worker 12: common_voice_en_17284757.mp3:  I don't know if you've ever heard of Kaurwitz-Validierung before.\n"
     ]
    },
    {
     "name": "stderr",
     "output_type": "stream",
     "text": [
      "Whisper did not predict an ending timestamp, which can happen if audio is cut off in the middle of a word. Also make sure WhisperTimeStampLogitsProcessor was used during generation.\n"
     ]
    },
    {
     "name": "stdout",
     "output_type": "stream",
     "text": [
      "2025-10-07 04:02:09,335 INFO - ✓ Worker 10: common_voice_en_17284747.mp3:  Don't forget to like and subscribe to the channel and don't forget to subscribe to the channel and ...\n",
      "2025-10-07 04:02:09,562 INFO - ✓ Worker 10: common_voice_en_17284760.mp3:  The ice is so cold that it's damped.\n"
     ]
    },
    {
     "name": "stderr",
     "output_type": "stream",
     "text": [
      "Downloading batch 39:  83%|████████▎ | 40/48 [00:00<00:00, 137.96it/s]"
     ]
    },
    {
     "name": "stdout",
     "output_type": "stream",
     "text": [
      "2025-10-07 04:02:10,487 WARNING - Connection pool is full, discarding connection: asrelder-data.s3.amazonaws.com. Connection pool size: 10\n",
      "2025-10-07 04:02:10,489 WARNING - Connection pool is full, discarding connection: asrelder-data.s3.amazonaws.com. Connection pool size: 10\n",
      "2025-10-07 04:02:10,499 WARNING - Connection pool is full, discarding connection: asrelder-data.s3.amazonaws.com. Connection pool size: 10\n",
      "2025-10-07 04:02:10,522 WARNING - Connection pool is full, discarding connection: asrelder-data.s3.amazonaws.com. Connection pool size: 10\n",
      "2025-10-07 04:02:10,522 WARNING - Connection pool is full, discarding connection: asrelder-data.s3.amazonaws.com. Connection pool size: 10\n",
      "2025-10-07 04:02:10,526 WARNING - Connection pool is full, discarding connection: asrelder-data.s3.amazonaws.com. Connection pool size: 10\n",
      "2025-10-07 04:02:10,552 WARNING - Connection pool is full, discarding connection: asrelder-data.s3.amazonaws.com. Connection pool size: 10\n",
      "2025-10-07 04:02:10,558 WARNING - Connection pool is full, discarding connection: asrelder-data.s3.amazonaws.com. Connection pool size: 10\n"
     ]
    },
    {
     "name": "stderr",
     "output_type": "stream",
     "text": [
      "Downloading batch 39: 100%|██████████| 48/48 [00:00<00:00, 112.10it/s]"
     ]
    },
    {
     "name": "stdout",
     "output_type": "stream",
     "text": [
      "2025-10-07 04:02:10,560 INFO - Transcribing 48 files in parallel...\n"
     ]
    },
    {
     "name": "stderr",
     "output_type": "stream",
     "text": [
      "\n"
     ]
    },
    {
     "name": "stdout",
     "output_type": "stream",
     "text": [
      "2025-10-07 04:02:13,272 INFO - ✓ Worker 7: common_voice_en_17284772.mp3:  a lot of things.\n",
      "2025-10-07 04:02:13,398 INFO - ✓ Worker 1: common_voice_en_17284785.mp3:  Best of the it.\n",
      "2025-10-07 04:02:13,744 INFO - ✓ Worker 2: common_voice_en_17284777.mp3:  I work for sector 7.\n",
      "2025-10-07 04:02:13,788 INFO - ✓ Worker 12: common_voice_en_17284792.mp3:  We did a good job.\n",
      "2025-10-07 04:02:13,830 INFO - ✓ Worker 11: common_voice_en_17284769.mp3:  You should not disappear here.\n",
      "2025-10-07 04:02:14,024 INFO - ✓ Worker 14: common_voice_en_17284784.mp3:  It's so moistened milk.\n",
      "2025-10-07 04:02:14,145 INFO - ✓ Worker 0: common_voice_en_17284770.mp3:  May I ask for your attention please?\n",
      "2025-10-07 04:02:14,225 INFO - ✓ Worker 5: common_voice_en_17284786.mp3:  Maybe he had his information on Instagram.\n",
      "2025-10-07 04:02:14,355 INFO - ✓ Worker 15: common_voice_en_17284776.mp3:  Alex has started a lot of research.\n",
      "2025-10-07 04:02:14,751 INFO - ✓ Worker 3: common_voice_en_17284766.mp3:  We are not here to amuse.\n",
      "2025-10-07 04:02:14,975 INFO - ✓ Worker 10: common_voice_en_17284787.mp3:  Since the start of the game, it feels like one together.\n",
      "2025-10-07 04:02:15,081 INFO - ✓ Worker 8: common_voice_en_17284767.mp3:  Take a step back and make it easier to ride the mountain.\n",
      "2025-10-07 04:02:15,570 INFO - ✓ Worker 6: common_voice_en_17284790.mp3:  Günder is introvert, so don't suspect him.\n",
      "2025-10-07 04:02:15,820 INFO - ✓ Worker 9: common_voice_en_17284794.mp3:  Equipped with higher frequency, you are working on the most efficient.\n",
      "2025-10-07 04:02:16,267 INFO - ✓ Worker 13: common_voice_en_17284778.mp3:  The humidity comes in all my hair and I don't even have a hair.\n",
      "2025-10-07 04:02:16,593 INFO - ✓ Worker 0: common_voice_en_17284788.mp3:  Paul and Sophie are together.\n",
      "2025-10-07 04:02:16,718 INFO - ✓ Worker 2: common_voice_en_17284791.mp3:  I found that film very inspiring.\n",
      "2025-10-07 04:02:17,010 INFO - ✓ Worker 1: common_voice_en_17284773.mp3:  Is there a political right to show that?\n",
      "2025-10-07 04:02:18,021 INFO - ✓ Worker 5: common_voice_en_17284780.mp3:  Patrick Jobnachz on a tank set.\n",
      "2025-10-07 04:02:18,513 INFO - ✓ Worker 3: common_voice_en_17284779.mp3:  Kamen had the little sea on the map.\n",
      "2025-10-07 04:02:18,832 INFO - ✓ Worker 11: common_voice_en_17284797.mp3:  The resistance is really very hard.\n",
      "2025-10-07 04:02:18,905 INFO - ✓ Worker 10: common_voice_en_17284799.mp3:  I don't think so, but not at all.\n",
      "2025-10-07 04:02:19,434 INFO - ✓ Worker 7: common_voice_en_17284795.mp3:  Don't you dare talk to the bengal and cry on it.\n",
      "2025-10-07 04:02:19,524 INFO - ✓ Worker 9: common_voice_en_17284783.mp3:  Also, the CD is a digital adapter.\n",
      "2025-10-07 04:02:19,800 INFO - ✓ Worker 13: common_voice_en_17284801.mp3:  Why is the first base already full?\n",
      "2025-10-07 04:02:20,051 INFO - ✓ Worker 8: common_voice_en_17284796.mp3:  With absolute support, Fiodora was brought to you for social media.\n",
      "2025-10-07 04:02:20,257 INFO - ✓ Worker 1: common_voice_en_17284798.mp3:  The nature is a circle of love.\n",
      "2025-10-07 04:02:20,343 INFO - ✓ Worker 6: common_voice_en_17284775.mp3:  This is a very famous, for example, an optical vision.\n",
      "2025-10-07 04:02:20,582 INFO - ✓ Worker 15: common_voice_en_17284806.mp3:  Erich has a full-fledged child.\n",
      "2025-10-07 04:02:20,895 INFO - ✓ Worker 4: common_voice_en_17284768.mp3:  On top of that, I can't find the best ones I'd like to find out. Sack de Sylia with a serious face ...\n",
      "2025-10-07 04:02:21,026 INFO - ✓ Worker 12: common_voice_en_17284805.mp3:  If this weather is dry, it will be bad for you.\n",
      "2025-10-07 04:02:21,133 INFO - ✓ Worker 0: common_voice_en_17284803.mp3:  Let's hope that he gets back to his old age.\n",
      "2025-10-07 04:02:21,767 INFO - ✓ Worker 5: common_voice_en_17284818.mp3:  Have a nice day!\n",
      "2025-10-07 04:02:21,835 INFO - ✓ Worker 14: common_voice_en_17284804.mp3:  I'm going to end up in a backpack without having a chance.\n",
      "2025-10-07 04:02:22,611 INFO - ✓ Worker 7: common_voice_en_17284815.mp3:  The environment is lost.\n",
      "2025-10-07 04:02:23,363 INFO - ✓ Worker 3: common_voice_en_17284808.mp3:  Express Lieferung hechelt der Erfüllig außer Atem\n",
      "2025-10-07 04:02:23,529 INFO - ✓ Worker 12: common_voice_en_17284821.mp3:  Genoso is so commit.\n",
      "2025-10-07 04:02:23,640 INFO - ✓ Worker 2: common_voice_en_17284802.mp3:  Sign up from me in the end and play from the Augsburger Puppenkiste.\n",
      "2025-10-07 04:02:23,674 INFO - ✓ Worker 13: common_voice_en_17284819.mp3:  We are talking about a very basic tool.\n",
      "2025-10-07 04:02:23,724 INFO - ✓ Worker 10: common_voice_en_17284810.mp3:  Yeah, I'm the bull in the macken\n",
      "2025-10-07 04:02:24,001 INFO - ✓ Worker 11: common_voice_en_17284813.mp3:  I don't understand why I wanted to see you out here.\n",
      "2025-10-07 04:02:24,045 INFO - ✓ Worker 15: common_voice_en_17284820.mp3:  You don't have to worry about the suction power.\n",
      "2025-10-07 04:02:24,051 INFO - ✓ Worker 9: common_voice_en_17284817.mp3:  Just like women and children, they are not too much of a waste anymore.\n",
      "2025-10-07 04:02:24,194 INFO - ✓ Worker 6: common_voice_en_17284814.mp3:  That's a very earned word, Niktib and Iana-Kent.\n",
      "2025-10-07 04:02:24,228 INFO - ✓ Worker 8: common_voice_en_17284807.mp3:  Last cigarette, then go to the young lady and take her to a dance.\n",
      "2025-10-07 04:02:24,261 INFO - ✓ Worker 4: common_voice_en_17284771.mp3:  Men have also feelings, even if they don't always speak out.\n",
      "2025-10-07 04:02:24,481 INFO - ✓ Worker 14: common_voice_en_17284812.mp3:  It's a wonderful word, as Alexander can speak like this, that it's like French nonsense, without sp...\n",
      "2025-10-07 04:02:24,579 INFO - ✓ Worker 4: common_voice_en_17284800.mp3:  This is no Ford Toy, but a life experience.\n"
     ]
    },
    {
     "name": "stderr",
     "output_type": "stream",
     "text": [
      "Downloading batch 40:   2%|▏         | 1/48 [00:00<00:07,  6.23it/s]"
     ]
    },
    {
     "name": "stdout",
     "output_type": "stream",
     "text": [
      "2025-10-07 04:02:25,353 WARNING - Connection pool is full, discarding connection: asrelder-data.s3.amazonaws.com. Connection pool size: 10\n"
     ]
    },
    {
     "name": "stderr",
     "output_type": "stream",
     "text": [
      "Downloading batch 40:  38%|███▊      | 18/48 [00:00<00:00, 78.16it/s]"
     ]
    },
    {
     "name": "stdout",
     "output_type": "stream",
     "text": [
      "2025-10-07 04:02:25,484 WARNING - Connection pool is full, discarding connection: asrelder-data.s3.amazonaws.com. Connection pool size: 10\n",
      "2025-10-07 04:02:25,512 WARNING - Connection pool is full, discarding connection: asrelder-data.s3.amazonaws.com. Connection pool size: 10\n",
      "2025-10-07 04:02:25,519 WARNING - Connection pool is full, discarding connection: asrelder-data.s3.amazonaws.com. Connection pool size: 10\n",
      "2025-10-07 04:02:25,522 WARNING - Connection pool is full, discarding connection: asrelder-data.s3.amazonaws.com. Connection pool size: 10\n"
     ]
    },
    {
     "name": "stderr",
     "output_type": "stream",
     "text": [
      "Downloading batch 40:  88%|████████▊ | 42/48 [00:00<00:00, 139.28it/s]"
     ]
    },
    {
     "name": "stdout",
     "output_type": "stream",
     "text": [
      "2025-10-07 04:02:25,527 WARNING - Connection pool is full, discarding connection: asrelder-data.s3.amazonaws.com. Connection pool size: 10\n",
      "2025-10-07 04:02:25,547 WARNING - Connection pool is full, discarding connection: asrelder-data.s3.amazonaws.com. Connection pool size: 10\n",
      "2025-10-07 04:02:25,550 WARNING - Connection pool is full, discarding connection: asrelder-data.s3.amazonaws.com. Connection pool size: 10\n",
      "2025-10-07 04:02:25,553 WARNING - Connection pool is full, discarding connection: asrelder-data.s3.amazonaws.com. Connection pool size: 10\n",
      "2025-10-07 04:02:25,555 WARNING - Connection pool is full, discarding connection: asrelder-data.s3.amazonaws.com. Connection pool size: 10\n",
      "2025-10-07 04:02:25,558 WARNING - Connection pool is full, discarding connection: asrelder-data.s3.amazonaws.com. Connection pool size: 10\n"
     ]
    },
    {
     "name": "stderr",
     "output_type": "stream",
     "text": [
      "Downloading batch 40: 100%|██████████| 48/48 [00:00<00:00, 116.13it/s]"
     ]
    },
    {
     "name": "stdout",
     "output_type": "stream",
     "text": [
      "2025-10-07 04:02:25,560 INFO - Transcribing 48 files in parallel...\n"
     ]
    },
    {
     "name": "stderr",
     "output_type": "stream",
     "text": [
      "\n"
     ]
    },
    {
     "name": "stdout",
     "output_type": "stream",
     "text": [
      "2025-10-07 04:02:28,884 INFO - ✓ Worker 11: common_voice_en_17284839.mp3:  Can I answer that as well?\n",
      "2025-10-07 04:02:28,928 INFO - ✓ Worker 1: common_voice_en_17284832.mp3:  Thank you very much for your attention.\n",
      "2025-10-07 04:02:29,223 INFO - ✓ Worker 15: common_voice_en_17284844.mp3:  The link is in the description.\n",
      "2025-10-07 04:02:29,485 INFO - ✓ Worker 8: common_voice_en_17284823.mp3:  Vessen, Biergruppe, ist das.\n",
      "2025-10-07 04:02:29,832 INFO - ✓ Worker 2: common_voice_en_17284829.mp3:  Pierre wants to build a new graphic card.\n",
      "2025-10-07 04:02:29,866 INFO - ✓ Worker 5: common_voice_en_17284845.mp3:  In the opposite direction, the rifle must be controlled.\n",
      "2025-10-07 04:02:30,042 INFO - ✓ Worker 9: common_voice_en_17284840.mp3:  I've seen something like this for a long time.\n",
      "2025-10-07 04:02:30,070 INFO - ✓ Worker 13: common_voice_en_17284824.mp3:  All the democratic restrictions are just ahead of the ground.\n",
      "2025-10-07 04:02:30,138 INFO - ✓ Worker 10: common_voice_en_17284846.mp3:  Sack mom what's all this in the cup is?\n",
      "2025-10-07 04:02:30,789 INFO - ✓ Worker 14: common_voice_en_17284838.mp3:  It's now clear how valuable the story of Hendriger was actually.\n",
      "2025-10-07 04:02:30,791 INFO - ✓ Worker 0: common_voice_en_17284825.mp3:  Four years have passed, I'm sorry for the joke.\n",
      "2025-10-07 04:02:31,129 INFO - ✓ Worker 7: common_voice_en_17284835.mp3:  If that's what's coming now, I don't have a box at all.\n",
      "2025-10-07 04:02:31,221 INFO - ✓ Worker 6: common_voice_en_17284849.mp3:  At the moment, we will then start the topic of Ellgiptical History.\n",
      "2025-10-07 04:02:31,442 INFO - ✓ Worker 12: common_voice_en_17284852.mp3:  A lot of active farmers, plants, plants and books on the forest.\n",
      "2025-10-07 04:02:32,531 INFO - ✓ Worker 4: common_voice_en_17284847.mp3:  Stau or Stokken der Verkehr auf der A3 Würzburg Richtung Nürnberg.\n",
      "2025-10-07 04:02:32,604 INFO - ✓ Worker 3: common_voice_en_17284830.mp3:  Nevertheless, his relative Geringröse always had a train station and two high schools.\n",
      "2025-10-07 04:02:33,542 INFO - ✓ Worker 2: common_voice_en_17284853.mp3:  For this purpose, I wrote a script for myself.\n",
      "2025-10-07 04:02:33,631 INFO - ✓ Worker 5: common_voice_en_17284836.mp3:  Kim also works at Rotenkreuz.\n",
      "2025-10-07 04:02:34,062 INFO - ✓ Worker 6: common_voice_en_17284855.mp3:  What are the pills for?\n",
      "2025-10-07 04:02:34,079 INFO - ✓ Worker 12: common_voice_en_17284868.mp3:  Keep this here higher.\n",
      "2025-10-07 04:02:34,387 INFO - ✓ Worker 1: common_voice_en_17284848.mp3:  That she does not ask her hands, she tries to push her hair out of her face.\n",
      "2025-10-07 04:02:34,484 INFO - ✓ Worker 0: common_voice_en_17284843.mp3:  Come and text me not to.\n",
      "2025-10-07 04:02:34,850 INFO - ✓ Worker 11: common_voice_en_17284859.mp3:  Take care and see you next time!\n",
      "2025-10-07 04:02:35,904 INFO - ✓ Worker 13: common_voice_en_17284864.mp3:  If she has been alerted, she is very lenient.\n",
      "2025-10-07 04:02:35,918 INFO - ✓ Worker 10: common_voice_en_17284828.mp3:  With the right mouse, you can use it as a camera and corner.\n",
      "2025-10-07 04:02:36,043 INFO - ✓ Worker 3: common_voice_en_17284826.mp3:  Give me a rug and a gong.\n",
      "2025-10-07 04:02:36,112 INFO - ✓ Worker 8: common_voice_en_17284857.mp3:  On the road to Uni, I had to clean more sand, sand and 14.\n",
      "2025-10-07 04:02:36,148 INFO - ✓ Worker 9: common_voice_en_17284856.mp3:  In a deep attempt, the social behavior of the chimpanzee is sought.\n",
      "2025-10-07 04:02:36,170 INFO - ✓ Worker 7: common_voice_en_17284827.mp3:  In private mode, the web browser does not have a groneck.\n",
      "2025-10-07 04:02:36,276 INFO - ✓ Worker 4: common_voice_en_17284854.mp3:  There's a lot of stuff going on there too.\n",
      "2025-10-07 04:02:36,581 INFO - ✓ Worker 15: common_voice_en_17284865.mp3:  So, let's see what we have saved.\n",
      "2025-10-07 04:02:36,620 INFO - ✓ Worker 14: common_voice_en_17284858.mp3:  In this case, it's a crazy opposite of that.\n",
      "2025-10-07 04:02:36,670 INFO - ✓ Worker 1: common_voice_en_17284867.mp3:  Good morning!\n",
      "2025-10-07 04:02:37,424 INFO - ✓ Worker 0: common_voice_en_17284872.mp3:  Can you be sure of that?\n",
      "2025-10-07 04:02:38,461 INFO - ✓ Worker 2: common_voice_en_17284861.mp3:  This single diamond is so cost-effective as 43 gold bars.\n",
      "2025-10-07 04:02:38,814 INFO - ✓ Worker 7: common_voice_en_17284870.mp3:  Only if they get attacked.\n",
      "2025-10-07 04:02:38,925 INFO - ✓ Worker 10: common_voice_en_17284885.mp3:  The contract is from the contract.\n",
      "2025-10-07 04:02:39,091 INFO - ✓ Worker 6: common_voice_en_17284880.mp3:  Next and both of them appear in the length of their creation.\n",
      "2025-10-07 04:02:39,121 INFO - ✓ Worker 5: common_voice_en_17284873.mp3:  You don't take these people anymore, but they're empty and Roma.\n",
      "2025-10-07 04:02:39,159 INFO - ✓ Worker 12: common_voice_en_17284886.mp3:  Where is your sister?\n",
      "2025-10-07 04:02:39,245 INFO - ✓ Worker 11: common_voice_en_17284871.mp3:  We will see you in the next video.\n",
      "2025-10-07 04:02:39,260 INFO - ✓ Worker 14: common_voice_en_17284881.mp3:  That's what we have to do.\n",
      "2025-10-07 04:02:39,548 INFO - ✓ Worker 8: common_voice_en_17284879.mp3:  Do you hear the white words of my friends from Leon?\n",
      "2025-10-07 04:02:39,588 INFO - ✓ Worker 9: common_voice_en_17284884.mp3:  Yes, but the same thing is not the worst.\n",
      "2025-10-07 04:02:39,798 INFO - ✓ Worker 4: common_voice_en_17284874.mp3:  If you want to hear us, you just have to understand a word.\n",
      "2025-10-07 04:02:39,800 INFO - ✓ Worker 3: common_voice_en_17284876.mp3:  The machines are more interested in a conversation than to be interested in the Frisur.\n",
      "2025-10-07 04:02:39,831 INFO - ✓ Worker 15: common_voice_en_17284882.mp3:  Well, that's it, I'm going to have to go to bed.\n",
      "2025-10-07 04:02:39,906 INFO - ✓ Worker 13: common_voice_en_17284878.mp3:  Schade, that the Trans-Rapid Test Strecke in the Eastland will not be used anymore.\n",
      "2025-10-07 04:02:39,913 INFO - Appended 240 rows to ./transcripts_from_prefix.csv\n"
     ]
    },
    {
     "name": "stderr",
     "output_type": "stream",
     "text": [
      "Downloading batch 41:  38%|███▊      | 18/48 [00:00<00:00, 83.61it/s]"
     ]
    },
    {
     "name": "stdout",
     "output_type": "stream",
     "text": [
      "2025-10-07 04:02:40,782 WARNING - Connection pool is full, discarding connection: asrelder-data.s3.amazonaws.com. Connection pool size: 10\n",
      "2025-10-07 04:02:40,784 WARNING - Connection pool is full, discarding connection: asrelder-data.s3.amazonaws.com. Connection pool size: 10\n",
      "2025-10-07 04:02:40,785 WARNING - Connection pool is full, discarding connection: asrelder-data.s3.amazonaws.com. Connection pool size: 10\n",
      "2025-10-07 04:02:40,857 WARNING - Connection pool is full, discarding connection: asrelder-data.s3.amazonaws.com. Connection pool size: 10\n",
      "2025-10-07 04:02:40,860 WARNING - Connection pool is full, discarding connection: asrelder-data.s3.amazonaws.com. Connection pool size: 10\n",
      "2025-10-07 04:02:40,861 WARNING - Connection pool is full, discarding connection: asrelder-data.s3.amazonaws.com. Connection pool size: 10\n"
     ]
    },
    {
     "name": "stderr",
     "output_type": "stream",
     "text": [
      "Downloading batch 41:  92%|█████████▏| 44/48 [00:00<00:00, 153.27it/s]"
     ]
    },
    {
     "name": "stdout",
     "output_type": "stream",
     "text": [
      "2025-10-07 04:02:40,892 WARNING - Connection pool is full, discarding connection: asrelder-data.s3.amazonaws.com. Connection pool size: 10\n",
      "2025-10-07 04:02:40,895 WARNING - Connection pool is full, discarding connection: asrelder-data.s3.amazonaws.com. Connection pool size: 10\n",
      "2025-10-07 04:02:41,013 WARNING - Connection pool is full, discarding connection: asrelder-data.s3.amazonaws.com. Connection pool size: 10\n"
     ]
    },
    {
     "name": "stderr",
     "output_type": "stream",
     "text": [
      "Downloading batch 41: 100%|██████████| 48/48 [00:00<00:00, 86.13it/s] "
     ]
    },
    {
     "name": "stdout",
     "output_type": "stream",
     "text": [
      "2025-10-07 04:02:41,062 INFO - Transcribing 48 files in parallel...\n"
     ]
    },
    {
     "name": "stderr",
     "output_type": "stream",
     "text": [
      "\n"
     ]
    },
    {
     "name": "stdout",
     "output_type": "stream",
     "text": [
      "2025-10-07 04:02:44,548 INFO - ✓ Worker 1: common_voice_en_17284893.mp3:  Can I offer you something to drink?\n",
      "2025-10-07 04:02:44,753 INFO - ✓ Worker 3: common_voice_en_17284901.mp3:  Trust is good, control is better.\n",
      "2025-10-07 04:02:44,771 INFO - ✓ Worker 5: common_voice_en_17284900.mp3:  We have a problem with the hydraulic.\n",
      "2025-10-07 04:02:44,801 INFO - ✓ Worker 9: common_voice_en_17284896.mp3:  And now it's going to be complicated.\n",
      "2025-10-07 04:02:44,921 INFO - ✓ Worker 4: common_voice_en_17284889.mp3:  Why do you buy still water in bottles?\n",
      "2025-10-07 04:02:45,027 INFO - ✓ Worker 12: common_voice_en_17284926.mp3:  Here they are, if I'm not mistaken.\n",
      "2025-10-07 04:02:45,298 INFO - ✓ Worker 11: common_voice_en_17284924.mp3:  Who is responsible for the coordination of the government?\n",
      "2025-10-07 04:02:45,585 INFO - ✓ Worker 13: common_voice_en_17284907.mp3:  Orang strikt nur die Müllabfuhr.\n",
      "2025-10-07 04:02:45,879 INFO - ✓ Worker 15: common_voice_en_17284910.mp3:  Erna, that's pretty much the end of the video.\n",
      "2025-10-07 04:02:45,999 INFO - ✓ Worker 14: common_voice_en_17284909.mp3:  Close the door and hide in the key under the footstitch.\n",
      "2025-10-07 04:02:46,062 INFO - ✓ Worker 0: common_voice_en_17284891.mp3:  Colleague Schmitz should be better at his age.\n",
      "2025-10-07 04:02:46,085 INFO - ✓ Worker 2: common_voice_en_17284888.mp3:  Otto, you didn't want to go straight and there was something.\n",
      "2025-10-07 04:02:46,361 INFO - ✓ Worker 7: common_voice_en_17284918.mp3:  The photograph was made up of Swedish and there were very few of them.\n",
      "2025-10-07 04:02:46,397 INFO - ✓ Worker 6: common_voice_en_17284913.mp3:  Cappen vehicles drive curves in which they leave the cats differently quickly.\n",
      "2025-10-07 04:02:46,794 INFO - ✓ Worker 10: common_voice_en_17284917.mp3:  In the next lab, you try to get over it with cool carbon dioxide.\n",
      "2025-10-07 04:02:47,843 INFO - ✓ Worker 8: common_voice_en_17284899.mp3:  In this short video, we are going to talk about the transport in the south side of the city.\n",
      "2025-10-07 04:02:48,596 INFO - ✓ Worker 1: common_voice_en_17284932.mp3:  That's all for today.\n",
      "2025-10-07 04:02:49,160 INFO - ✓ Worker 5: common_voice_en_17284904.mp3:  A good specification does not let any playroom for interpretation.\n",
      "2025-10-07 04:02:49,267 INFO - ✓ Worker 11: common_voice_en_17284935.mp3:  Now I wish you happiness!\n",
      "2025-10-07 04:02:49,356 INFO - ✓ Worker 4: common_voice_en_17284912.mp3:  That means that it is on the other hand evacuated.\n",
      "2025-10-07 04:02:49,500 INFO - ✓ Worker 12: common_voice_en_17284908.mp3:  It is to the frame chain.\n",
      "2025-10-07 04:02:49,610 INFO - ✓ Worker 13: common_voice_en_17284948.mp3:  Who left the light on?\n",
      "2025-10-07 04:02:49,690 INFO - ✓ Worker 7: common_voice_en_17284937.mp3:  Energy is the ability to work.\n",
      "2025-10-07 04:02:50,038 INFO - ✓ Worker 0: common_voice_en_17284930.mp3:  What's left answer to the keynote?\n",
      "2025-10-07 04:02:50,052 INFO - ✓ Worker 6: common_voice_en_17284928.mp3:  Steadily not so on.\n",
      "2025-10-07 04:02:50,099 INFO - ✓ Worker 2: common_voice_en_17284927.mp3:  That's what I'm not talking about now.\n",
      "2025-10-07 04:02:50,572 INFO - ✓ Worker 14: common_voice_en_17284942.mp3:  Also a small hole can drive a big bridge.\n",
      "2025-10-07 04:02:50,830 INFO - ✓ Worker 15: common_voice_en_17284951.mp3:  Benzin or Zepsimna?\n",
      "2025-10-07 04:02:51,130 INFO - ✓ Worker 10: common_voice_en_17284946.mp3:  My father grew up in an influx of almost everything.\n",
      "2025-10-07 04:02:51,239 INFO - ✓ Worker 3: common_voice_en_17284906.mp3:  There is a much cheaper competition product that tastes exactly the same and doesn't come out witho...\n",
      "2025-10-07 04:02:51,422 INFO - ✓ Worker 9: common_voice_en_17284943.mp3:  I think that's the risk. We can buy it and pay for it.\n",
      "2025-10-07 04:02:52,714 INFO - ✓ Worker 8: common_voice_en_17284931.mp3:  Kaisa has already heard very clearly from the history of the Church.\n",
      "2025-10-07 04:02:52,817 INFO - ✓ Worker 4: common_voice_en_17284961.mp3:  And then you made me like it.\n",
      "2025-10-07 04:02:52,896 INFO - ✓ Worker 0: common_voice_en_17284945.mp3:  Did I fall in the word?\n",
      "2025-10-07 04:02:53,436 INFO - ✓ Worker 1: common_voice_en_17284953.mp3:  My ankle is a tiny bear that holds the big father's neck.\n",
      "2025-10-07 04:02:53,853 INFO - ✓ Worker 13: common_voice_en_17284955.mp3:  Talk to my office.\n",
      "2025-10-07 04:02:54,213 INFO - ✓ Worker 5: common_voice_en_17284958.mp3:  In your places, you are born with flat hierarchies.\n",
      "2025-10-07 04:02:54,219 INFO - ✓ Worker 7: common_voice_en_17284962.mp3:  I invite you to watch the video on the screen.\n",
      "2025-10-07 04:02:54,454 INFO - ✓ Worker 11: common_voice_en_17284963.mp3:  12x is the death of the ship.\n",
      "2025-10-07 04:02:54,585 INFO - ✓ Worker 2: common_voice_en_17284954.mp3:  This is a good question, because she shows that she thinks of it.\n",
      "2025-10-07 04:02:54,597 INFO - ✓ Worker 9: common_voice_en_17284966.mp3:  I hope to see you in the next video.\n",
      "2025-10-07 04:02:54,642 INFO - ✓ Worker 10: common_voice_en_17284941.mp3:  At this moment I can't just be stupid.\n",
      "2025-10-07 04:02:54,829 INFO - ✓ Worker 3: common_voice_en_17284950.mp3:  It's not easy with five children to come over the streets.\n",
      "2025-10-07 04:02:54,898 INFO - ✓ Worker 14: common_voice_en_17284965.mp3:  The empiric dates do not allow such conclusions.\n",
      "2025-10-07 04:02:54,927 INFO - ✓ Worker 6: common_voice_en_17284964.mp3:  Please, please, ask the police and the police to be as close as possible.\n",
      "2025-10-07 04:02:54,928 INFO - ✓ Worker 8: common_voice_en_17284952.mp3:  I think I'm in the wrong film!\n",
      "2025-10-07 04:02:54,952 INFO - ✓ Worker 15: common_voice_en_17284959.mp3:  Andrea is the only mother of two children.\n",
      "2025-10-07 04:02:55,025 INFO - ✓ Worker 12: common_voice_en_17284949.mp3:  It was Friday at the beginning of the day for the first time with your friends in the Discooking.\n"
     ]
    },
    {
     "name": "stderr",
     "output_type": "stream",
     "text": [
      "Downloading batch 42:   2%|▏         | 1/48 [00:00<00:07,  6.46it/s]"
     ]
    },
    {
     "name": "stdout",
     "output_type": "stream",
     "text": [
      "2025-10-07 04:02:55,855 WARNING - Connection pool is full, discarding connection: asrelder-data.s3.amazonaws.com. Connection pool size: 10\n"
     ]
    },
    {
     "name": "stderr",
     "output_type": "stream",
     "text": [
      "Downloading batch 42:  42%|████▏     | 20/48 [00:00<00:00, 93.67it/s]"
     ]
    },
    {
     "name": "stdout",
     "output_type": "stream",
     "text": [
      "2025-10-07 04:02:55,967 WARNING - Connection pool is full, discarding connection: asrelder-data.s3.amazonaws.com. Connection pool size: 10\n",
      "2025-10-07 04:02:55,971 WARNING - Connection pool is full, discarding connection: asrelder-data.s3.amazonaws.com. Connection pool size: 10\n",
      "2025-10-07 04:02:55,972 WARNING - Connection pool is full, discarding connection: asrelder-data.s3.amazonaws.com. Connection pool size: 10\n"
     ]
    },
    {
     "name": "stderr",
     "output_type": "stream",
     "text": [
      "Downloading batch 42:  88%|████████▊ | 42/48 [00:00<00:00, 143.19it/s]"
     ]
    },
    {
     "name": "stdout",
     "output_type": "stream",
     "text": [
      "2025-10-07 04:02:55,975 WARNING - Connection pool is full, discarding connection: asrelder-data.s3.amazonaws.com. Connection pool size: 10\n",
      "2025-10-07 04:02:55,978 WARNING - Connection pool is full, discarding connection: asrelder-data.s3.amazonaws.com. Connection pool size: 10\n",
      "2025-10-07 04:02:55,988 WARNING - Connection pool is full, discarding connection: asrelder-data.s3.amazonaws.com. Connection pool size: 10\n",
      "2025-10-07 04:02:55,989 WARNING - Connection pool is full, discarding connection: asrelder-data.s3.amazonaws.com. Connection pool size: 10\n",
      "2025-10-07 04:02:55,996 WARNING - Connection pool is full, discarding connection: asrelder-data.s3.amazonaws.com. Connection pool size: 10\n"
     ]
    },
    {
     "name": "stderr",
     "output_type": "stream",
     "text": [
      "Downloading batch 42: 100%|██████████| 48/48 [00:00<00:00, 125.86it/s]"
     ]
    },
    {
     "name": "stdout",
     "output_type": "stream",
     "text": [
      "2025-10-07 04:02:55,998 INFO - Transcribing 48 files in parallel...\n"
     ]
    },
    {
     "name": "stderr",
     "output_type": "stream",
     "text": [
      "\n"
     ]
    },
    {
     "name": "stdout",
     "output_type": "stream",
     "text": [
      "2025-10-07 04:02:59,124 INFO - ✓ Worker 0: common_voice_en_17284970.mp3:  Who has this drawing done?\n",
      "2025-10-07 04:02:59,801 INFO - ✓ Worker 12: common_voice_en_17285127.mp3:  More tangos on 6 a.m.\n",
      "2025-10-07 04:02:59,811 INFO - ✓ Worker 2: common_voice_en_17284969.mp3:  There is no 146 stockwork.\n",
      "2025-10-07 04:03:00,052 INFO - ✓ Worker 6: common_voice_en_17284979.mp3:  This is grammaticalish, not correct?\n",
      "2025-10-07 04:03:00,189 INFO - ✓ Worker 4: common_voice_en_17285027.mp3:  On the next day, the new staff will begin.\n",
      "2025-10-07 04:03:00,481 INFO - ✓ Worker 3: common_voice_en_17284976.mp3:  What can you do against history?\n",
      "2025-10-07 04:03:00,668 INFO - ✓ Worker 11: common_voice_en_17285031.mp3:  The opposite hypothesis can't be re-earned again.\n",
      "2025-10-07 04:03:00,792 INFO - ✓ Worker 9: common_voice_en_17284968.mp3:  The new information building was named after Conrad Zuse.\n",
      "2025-10-07 04:03:00,903 INFO - ✓ Worker 15: common_voice_en_17285032.mp3:  For audio speakers, only a loss of compression comes in question.\n",
      "2025-10-07 04:03:00,961 INFO - ✓ Worker 14: common_voice_en_17285025.mp3:  The war is only because of the evil.\n",
      "2025-10-07 04:03:01,037 INFO - ✓ Worker 5: common_voice_en_17285045.mp3:  Try to eat whatever you can, just not be your next man.\n",
      "2025-10-07 04:03:01,446 INFO - ✓ Worker 1: common_voice_en_17284977.mp3:  Gaius Julius Caesar, can you see her still in the light?\n",
      "2025-10-07 04:03:02,390 INFO - ✓ Worker 8: common_voice_en_17285019.mp3:  The typical flower is the first one, when the tree gets stuck in the backpink.\n",
      "2025-10-07 04:03:02,629 INFO - ✓ Worker 4: common_voice_en_17285129.mp3:  The behavior has fallen out.\n",
      "2025-10-07 04:03:02,677 INFO - ✓ Worker 7: common_voice_en_17284974.mp3:  If the sauerstorf is ionized, it will stay cool, mostly over the roots.\n",
      "2025-10-07 04:03:02,799 INFO - ✓ Worker 6: common_voice_en_17285130.mp3:  I am incredibly rich.\n",
      "2025-10-07 04:03:02,851 INFO - ✓ Worker 13: common_voice_en_17285021.mp3:  But he wants to get his skills because of his competence and not only as a source of pride.\n",
      "2025-10-07 04:03:03,019 INFO - ✓ Worker 10: common_voice_en_17285122.mp3:  At the purchase of the German washing machine, 8-thousand price on the energy efficiency class.\n",
      "2025-10-07 04:03:03,820 INFO - ✓ Worker 11: common_voice_en_17285132.mp3:  See you soon!\n",
      "2025-10-07 04:03:04,293 INFO - ✓ Worker 9: common_voice_en_17285134.mp3:  Since football, I'll see you next time.\n",
      "2025-10-07 04:03:04,686 INFO - ✓ Worker 0: common_voice_en_17285128.mp3:  Behind the fridge you have to be a little flat so that the air can circulate.\n",
      "2025-10-07 04:03:04,786 INFO - ✓ Worker 5: common_voice_en_17285037.mp3:  Come on, I can't explain this to you.\n",
      "2025-10-07 04:03:05,561 INFO - ✓ Worker 3: common_voice_en_17284978.mp3:  And then we have, let's say, a panicked one.\n",
      "2025-10-07 04:03:05,645 INFO - ✓ Worker 14: common_voice_en_17285141.mp3:  The next sunset is only 14 years.\n",
      "2025-10-07 04:03:05,963 INFO - ✓ Worker 13: common_voice_en_17285137.mp3:  For Doctor, there are complications.\n",
      "2025-10-07 04:03:05,991 INFO - ✓ Worker 7: common_voice_en_17285033.mp3:  Anna, best to wash a lot of this.\n",
      "2025-10-07 04:03:06,476 INFO - ✓ Worker 8: common_voice_en_17285121.mp3:  The next service metadata is for the Reservient.\n",
      "2025-10-07 04:03:06,819 INFO - ✓ Worker 15: common_voice_en_17285135.mp3:  All of them have already been added through the hexagon.\n",
      "2025-10-07 04:03:07,640 INFO - ✓ Worker 1: common_voice_en_17285125.mp3:  His friends had read on his school day and decided that he would be happy if he was seriously injur...\n",
      "2025-10-07 04:03:07,781 INFO - ✓ Worker 10: common_voice_en_17285139.mp3:  On the blind sun light was not to recognize whether the lamp was green or red.\n",
      "2025-10-07 04:03:07,894 INFO - ✓ Worker 4: common_voice_en_17285151.mp3:  Do you know when we were still young?\n",
      "2025-10-07 04:03:08,442 INFO - ✓ Worker 12: common_voice_en_17285145.mp3:  I'm building a Machtübernahme-Maschine, answer you and get it.\n",
      "2025-10-07 04:03:09,052 INFO - ✓ Worker 0: common_voice_en_17285142.mp3:  Lena, do you want to know what's in the package?\n",
      "2025-10-07 04:03:09,407 INFO - ✓ Worker 6: common_voice_en_17285140.mp3:  Do you already know our premium plus spa package?\n",
      "2025-10-07 04:03:09,868 INFO - ✓ Worker 5: common_voice_en_17285149.mp3:  And now we have the articles from the mailman and confirmed them in his backpack.\n",
      "2025-10-07 04:03:09,902 INFO - ✓ Worker 9: common_voice_en_17285161.mp3:  Please don't go to the Blumenbeater Road.\n",
      "2025-10-07 04:03:09,959 INFO - ✓ Worker 11: common_voice_en_17285150.mp3:  The beginning takes two euros per pair.\n",
      "2025-10-07 04:03:10,345 INFO - ✓ Worker 3: common_voice_en_17285156.mp3:  It is the corresponding search after the needle in the hole.\n",
      "2025-10-07 04:03:10,369 INFO - ✓ Worker 7: common_voice_en_17285148.mp3:  We will buy it twice.\n",
      "2025-10-07 04:03:10,944 INFO - ✓ Worker 13: common_voice_en_17285165.mp3:  The dealer has put the hero in with dragon's gift.\n",
      "2025-10-07 04:03:11,009 INFO - ✓ Worker 12: common_voice_en_17285166.mp3:  We do not leave our cameras in the table.\n",
      "2025-10-07 04:03:11,018 INFO - ✓ Worker 15: common_voice_en_17285167.mp3:  This preparator is brand-gefairlich.\n",
      "2025-10-07 04:03:11,107 INFO - ✓ Worker 10: common_voice_en_17285146.mp3:  Let them calm down, I note the frame.\n",
      "2025-10-07 04:03:11,128 INFO - ✓ Worker 8: common_voice_en_17285169.mp3:  The most famous community in Schleswig-Holstein is the Wacken.\n",
      "2025-10-07 04:03:11,256 INFO - ✓ Worker 14: common_voice_en_17285163.mp3:  It is no longer worth to know who he was looking for.\n",
      "2025-10-07 04:03:11,325 INFO - ✓ Worker 1: common_voice_en_17285124.mp3:  Such bi-bibletics to compete on Windows, there are always a lot of claims to them.\n"
     ]
    },
    {
     "name": "stderr",
     "output_type": "stream",
     "text": [
      "Whisper did not predict an ending timestamp, which can happen if audio is cut off in the middle of a word. Also make sure WhisperTimeStampLogitsProcessor was used during generation.\n"
     ]
    },
    {
     "name": "stdout",
     "output_type": "stream",
     "text": [
      "2025-10-07 04:03:15,640 INFO - ✓ Worker 2: common_voice_en_17285020.mp3:  The boss holds his deck-tick-tick-tick-tick-tick-tick-tick-tick-tick-tick-tick-tick-tick-tick-tick-...\n",
      "2025-10-07 04:03:15,832 INFO - ✓ Worker 2: common_voice_en_17285162.mp3:  On the other hand, they make a romantic evening.\n"
     ]
    },
    {
     "name": "stderr",
     "output_type": "stream",
     "text": [
      "Downloading batch 43:  40%|███▉      | 19/48 [00:00<00:00, 80.15it/s]"
     ]
    },
    {
     "name": "stdout",
     "output_type": "stream",
     "text": [
      "2025-10-07 04:03:16,738 WARNING - Connection pool is full, discarding connection: asrelder-data.s3.amazonaws.com. Connection pool size: 10\n",
      "2025-10-07 04:03:16,765 WARNING - Connection pool is full, discarding connection: asrelder-data.s3.amazonaws.com. Connection pool size: 10\n",
      "2025-10-07 04:03:16,766 WARNING - Connection pool is full, discarding connection: asrelder-data.s3.amazonaws.com. Connection pool size: 10\n",
      "2025-10-07 04:03:16,766 WARNING - Connection pool is full, discarding connection: asrelder-data.s3.amazonaws.com. Connection pool size: 10\n"
     ]
    },
    {
     "name": "stderr",
     "output_type": "stream",
     "text": [
      "Downloading batch 43:  83%|████████▎ | 40/48 [00:00<00:00, 128.80it/s]"
     ]
    },
    {
     "name": "stdout",
     "output_type": "stream",
     "text": [
      "2025-10-07 04:03:16,767 WARNING - Connection pool is full, discarding connection: asrelder-data.s3.amazonaws.com. Connection pool size: 10\n",
      "2025-10-07 04:03:16,767 WARNING - Connection pool is full, discarding connection: asrelder-data.s3.amazonaws.com. Connection pool size: 10\n",
      "2025-10-07 04:03:16,772 WARNING - Connection pool is full, discarding connection: asrelder-data.s3.amazonaws.com. Connection pool size: 10\n",
      "2025-10-07 04:03:16,772 WARNING - Connection pool is full, discarding connection: asrelder-data.s3.amazonaws.com. Connection pool size: 10\n",
      "2025-10-07 04:03:16,787 WARNING - Connection pool is full, discarding connection: asrelder-data.s3.amazonaws.com. Connection pool size: 10\n",
      "2025-10-07 04:03:16,803 WARNING - Connection pool is full, discarding connection: asrelder-data.s3.amazonaws.com. Connection pool size: 10\n"
     ]
    },
    {
     "name": "stderr",
     "output_type": "stream",
     "text": [
      "Downloading batch 43: 100%|██████████| 48/48 [00:00<00:00, 113.13it/s]"
     ]
    },
    {
     "name": "stdout",
     "output_type": "stream",
     "text": [
      "2025-10-07 04:03:16,806 INFO - Transcribing 48 files in parallel...\n"
     ]
    },
    {
     "name": "stderr",
     "output_type": "stream",
     "text": [
      "\n"
     ]
    },
    {
     "name": "stdout",
     "output_type": "stream",
     "text": [
      "2025-10-07 04:03:19,711 INFO - ✓ Worker 1: common_voice_en_17285171.mp3:  How can you protect yourself?\n",
      "2025-10-07 04:03:20,002 INFO - ✓ Worker 0: common_voice_en_173150.mp3:  There was no justification for it.\n",
      "2025-10-07 04:03:20,130 INFO - ✓ Worker 9: common_voice_en_17285176.mp3:  Can you please do this session?\n",
      "2025-10-07 04:03:20,542 INFO - ✓ Worker 2: common_voice_en_17288401.mp3:  Find our useful information is on the website.\n",
      "2025-10-07 04:03:20,886 INFO - ✓ Worker 12: common_voice_en_17296828.mp3:  Never took a flight from South Africa to Japan.\n",
      "2025-10-07 04:03:20,925 INFO - ✓ Worker 8: common_voice_en_173173.mp3:  Children in canoes floating down their river.\n",
      "2025-10-07 04:03:21,079 INFO - ✓ Worker 15: common_voice_en_173175.mp3:  A bicyclist becomes airborne among dirt hills at night.\n",
      "2025-10-07 04:03:21,151 INFO - ✓ Worker 6: common_voice_en_173170.mp3:  Person jumping bicycle off cliff beside building on hill.\n",
      "2025-10-07 04:03:21,166 INFO - ✓ Worker 10: common_voice_en_173164.mp3:  For people wait in a stone-tyled courtyard.\n",
      "2025-10-07 04:03:21,265 INFO - ✓ Worker 7: common_voice_en_17285180.mp3:  And again, how do I turn it back?\n",
      "2025-10-07 04:03:21,413 INFO - ✓ Worker 5: common_voice_en_17285172.mp3:  That's how I have to have a reserve.\n",
      "2025-10-07 04:03:21,597 INFO - ✓ Worker 14: common_voice_en_172878.mp3:  Add the tour to my playlist on the ground hits.\n",
      "2025-10-07 04:03:21,668 INFO - ✓ Worker 4: common_voice_en_17285839.mp3:  I seem to remember just wearing a t-shirt and jeans.\n",
      "2025-10-07 04:03:22,344 INFO - ✓ Worker 3: common_voice_en_17285175.mp3:  and press the button, that's it, I'm going to press the button\n",
      "2025-10-07 04:03:22,627 INFO - ✓ Worker 13: common_voice_en_17286014.mp3:  17 students admired that Sam and Sadi are both the smartest in their class.\n",
      "2025-10-07 04:03:24,065 INFO - ✓ Worker 1: common_voice_en_17285603.mp3:  I might actually be driving with some co-workers.\n",
      "2025-10-07 04:03:24,226 INFO - ✓ Worker 7: common_voice_en_17289244.mp3:  She is being infected with influenza.\n",
      "2025-10-07 04:03:24,500 INFO - ✓ Worker 5: common_voice_en_173166.mp3:  Tourists enjoying the local shops.\n",
      "2025-10-07 04:03:24,788 INFO - ✓ Worker 11: common_voice_en_17285173.mp3:  Give it to me, President. We have a dysfunctional structure manufactured by the Flegelstufe III.\n",
      "2025-10-07 04:03:25,087 INFO - ✓ Worker 2: common_voice_en_17289225.mp3:  I'm liking the sound of this ostrich egg-based economy.\n",
      "2025-10-07 04:03:25,232 INFO - ✓ Worker 8: common_voice_en_173184.mp3:  Boy is dancing for group of onlookers.\n",
      "2025-10-07 04:03:25,256 INFO - ✓ Worker 6: common_voice_en_173176.mp3:  A boy and coral kissing in the sunset.\n",
      "2025-10-07 04:03:25,492 INFO - ✓ Worker 10: common_voice_en_173185.mp3:  A boy is learning how to use a loom.\n",
      "2025-10-07 04:03:25,538 INFO - ✓ Worker 4: common_voice_en_17288383.mp3:  I won't be back until next Sunday.\n",
      "2025-10-07 04:03:25,613 INFO - ✓ Worker 9: common_voice_en_173179.mp3:  Several women in racing singlets run in a pack.\n",
      "2025-10-07 04:03:25,912 INFO - ✓ Worker 3: common_voice_en_173181.mp3:  Loving baby in a Wal-Kir.\n",
      "2025-10-07 04:03:26,156 INFO - ✓ Worker 0: common_voice_en_17285283.mp3:  Whatever you may think, I'm not your dog to the left chain to the land post.\n",
      "2025-10-07 04:03:26,520 INFO - ✓ Worker 12: common_voice_en_173189.mp3:  A man stands over a brown and black dog in the grass.\n",
      "2025-10-07 04:03:27,885 INFO - ✓ Worker 1: common_voice_en_17288791.mp3:  He could still build this thing in.\n",
      "2025-10-07 04:03:28,174 INFO - ✓ Worker 13: common_voice_en_173177.mp3:  A man in a black jacket with glasses is reaching into a blue bucket.\n",
      "2025-10-07 04:03:28,262 INFO - ✓ Worker 14: common_voice_en_173188.mp3:  Trays of freshly baked pretzels are being loaded onto a delivery truck.\n",
      "2025-10-07 04:03:28,391 INFO - ✓ Worker 5: common_voice_en_173197.mp3:  People standing around in a library.\n",
      "2025-10-07 04:03:28,816 INFO - ✓ Worker 11: common_voice_en_173183.mp3:  Six jockies racing horses on a grass track.\n",
      "2025-10-07 04:03:28,825 INFO - ✓ Worker 0: common_voice_en_173186.mp3:  Girls, sit in costumes.\n",
      "2025-10-07 04:03:29,581 INFO - ✓ Worker 15: common_voice_en_173190.mp3:  This too is having duet performing on stage. They are having fun.\n",
      "2025-10-07 04:03:29,727 INFO - ✓ Worker 2: common_voice_en_173195.mp3:  The men on the bike is riding off-road in the countryside.\n",
      "2025-10-07 04:03:29,960 INFO - ✓ Worker 7: common_voice_en_173211.mp3:  A picture of a young man in front of some interesting buildings.\n",
      "2025-10-07 04:03:30,006 INFO - ✓ Worker 6: common_voice_en_173180.mp3:  Guy with a beard holds a child in a blue hat.\n",
      "2025-10-07 04:03:30,119 INFO - ✓ Worker 10: common_voice_en_173209.mp3:  Female child walking on the beach wearing an Elmo shirt.\n",
      "2025-10-07 04:03:30,255 INFO - ✓ Worker 8: common_voice_en_173207.mp3:  A couple of hikers taking a break to take a picture.\n",
      "2025-10-07 04:03:30,435 INFO - ✓ Worker 9: common_voice_en_173202.mp3:  A person walks by some blue-green water while holding a rail.\n",
      "2025-10-07 04:03:30,490 INFO - ✓ Worker 4: common_voice_en_173198.mp3:  Men and women walking together through a wedded area swinging a child by arms.\n",
      "2025-10-07 04:03:30,570 INFO - ✓ Worker 12: common_voice_en_173205.mp3:  Warehouse workers standing near a loader.\n",
      "2025-10-07 04:03:30,734 INFO - ✓ Worker 13: common_voice_en_173203.mp3:  A woman on their cell phone taking a walk.\n",
      "2025-10-07 04:03:30,739 INFO - ✓ Worker 3: common_voice_en_173192.mp3:  Two girls are sitting on a bench outside and one of them is checking her cell phone.\n",
      "2025-10-07 04:03:30,888 INFO - ✓ Worker 14: common_voice_en_173204.mp3:  A group of people in costume stand around a fire at night.\n",
      "2025-10-07 04:03:30,976 INFO - ✓ Worker 11: common_voice_en_173199.mp3:  A man with a beard and two others put something up on the wall.\n",
      "2025-10-07 04:03:31,040 INFO - ✓ Worker 15: common_voice_en_173206.mp3:  A blue Jeep sits in the middle of a stream running through a forested area.\n"
     ]
    },
    {
     "name": "stderr",
     "output_type": "stream",
     "text": [
      "Downloading batch 44:   2%|▏         | 1/48 [00:00<00:06,  6.84it/s]"
     ]
    },
    {
     "name": "stdout",
     "output_type": "stream",
     "text": [
      "2025-10-07 04:03:31,854 WARNING - Connection pool is full, discarding connection: asrelder-data.s3.amazonaws.com. Connection pool size: 10\n"
     ]
    },
    {
     "name": "stderr",
     "output_type": "stream",
     "text": [
      "Downloading batch 44:  33%|███▎      | 16/48 [00:00<00:00, 77.39it/s]"
     ]
    },
    {
     "name": "stdout",
     "output_type": "stream",
     "text": [
      "2025-10-07 04:03:31,856 WARNING - Connection pool is full, discarding connection: asrelder-data.s3.amazonaws.com. Connection pool size: 10\n"
     ]
    },
    {
     "name": "stderr",
     "output_type": "stream",
     "text": [
      "Downloading batch 44:  77%|███████▋  | 37/48 [00:00<00:00, 129.12it/s]"
     ]
    },
    {
     "name": "stdout",
     "output_type": "stream",
     "text": [
      "2025-10-07 04:03:31,967 WARNING - Connection pool is full, discarding connection: asrelder-data.s3.amazonaws.com. Connection pool size: 10\n",
      "2025-10-07 04:03:31,968 WARNING - Connection pool is full, discarding connection: asrelder-data.s3.amazonaws.com. Connection pool size: 10\n",
      "2025-10-07 04:03:31,975 WARNING - Connection pool is full, discarding connection: asrelder-data.s3.amazonaws.com. Connection pool size: 10\n",
      "2025-10-07 04:03:31,989 WARNING - Connection pool is full, discarding connection: asrelder-data.s3.amazonaws.com. Connection pool size: 10\n",
      "2025-10-07 04:03:31,989 WARNING - Connection pool is full, discarding connection: asrelder-data.s3.amazonaws.com. Connection pool size: 10\n",
      "2025-10-07 04:03:31,993 WARNING - Connection pool is full, discarding connection: asrelder-data.s3.amazonaws.com. Connection pool size: 10\n",
      "2025-10-07 04:03:32,022 WARNING - Connection pool is full, discarding connection: asrelder-data.s3.amazonaws.com. Connection pool size: 10\n"
     ]
    },
    {
     "name": "stderr",
     "output_type": "stream",
     "text": [
      "Downloading batch 44: 100%|██████████| 48/48 [00:00<00:00, 115.74it/s]"
     ]
    },
    {
     "name": "stdout",
     "output_type": "stream",
     "text": [
      "2025-10-07 04:03:32,024 INFO - Transcribing 48 files in parallel...\n"
     ]
    },
    {
     "name": "stderr",
     "output_type": "stream",
     "text": [
      "\n"
     ]
    },
    {
     "name": "stdout",
     "output_type": "stream",
     "text": [
      "2025-10-07 04:03:34,082 INFO - ✓ Worker 1: common_voice_en_17366229.mp3:  Not very quick.\n",
      "2025-10-07 04:03:35,609 INFO - ✓ Worker 10: common_voice_en_174599.mp3:  A boy asleep in his dinner bowl.\n",
      "2025-10-07 04:03:35,682 INFO - ✓ Worker 5: common_voice_en_17380945.mp3:  Verify if the configuration file is valid.\n",
      "2025-10-07 04:03:35,761 INFO - ✓ Worker 9: common_voice_en_173244.mp3:  Can you get me the Border Patrol song?\n",
      "2025-10-07 04:03:35,907 INFO - ✓ Worker 6: common_voice_en_174519.mp3:  Several people are hugging each other inside a bar\n",
      "2025-10-07 04:03:35,956 INFO - ✓ Worker 11: common_voice_en_173212.mp3:  two workers in a boat rake upon it.\n",
      "2025-10-07 04:03:36,040 INFO - ✓ Worker 15: common_voice_en_174468.mp3:  Boy, I'm playing Ground Equipment.\n",
      "2025-10-07 04:03:36,259 INFO - ✓ Worker 14: common_voice_en_174542.mp3:  Whether at Navajo National Monument on Friday.\n",
      "2025-10-07 04:03:36,763 INFO - ✓ Worker 12: common_voice_en_174460.mp3:  Man in a blue sweater and black pants exits the news and grocery store\n",
      "2025-10-07 04:03:36,783 INFO - ✓ Worker 4: common_voice_en_174473.mp3:  Person with orange and gray hair plays an accordion on a bridge.\n",
      "2025-10-07 04:03:36,884 INFO - ✓ Worker 2: common_voice_en_173245.mp3:  Abraham is a well-known person in Christianity, Islam and Judaism.\n",
      "2025-10-07 04:03:37,026 INFO - ✓ Worker 0: common_voice_en_173886.mp3:  I want to see when boxhead revelations play the nearest movie theater.\n",
      "2025-10-07 04:03:37,406 INFO - ✓ Worker 3: common_voice_en_174388.mp3:  I've gone a little steered through the canals with other bolts around.\n",
      "2025-10-07 04:03:37,499 INFO - ✓ Worker 8: common_voice_en_174476.mp3:  A middle-aged man in a college shirt is raising his forearm next to his face.\n",
      "2025-10-07 04:03:37,554 INFO - ✓ Worker 13: common_voice_en_174450.mp3:  I've got one sitting on a green bench wearing headbands with feathers in them.\n",
      "2025-10-07 04:03:37,704 INFO - ✓ Worker 7: common_voice_en_17420407.mp3:  Joy shared is double joy. Grief shared is only half grief.\n",
      "2025-10-07 04:03:39,300 INFO - ✓ Worker 1: common_voice_en_174568.mp3:  A janitor about to mop in the train station.\n",
      "2025-10-07 04:03:39,491 INFO - ✓ Worker 6: common_voice_en_17391044.mp3:  How did it come to leave your position then?\n",
      "2025-10-07 04:03:39,762 INFO - ✓ Worker 5: common_voice_en_174554.mp3:  The black and white spotted dog is running outside.\n",
      "2025-10-07 04:03:40,685 INFO - ✓ Worker 2: common_voice_en_174547.mp3:  People walk on a sidewalk next to tram tracks.\n",
      "2025-10-07 04:03:41,101 INFO - ✓ Worker 3: common_voice_en_174545.mp3:  An elderly man sitting in the chair eating some snacks.\n",
      "2025-10-07 04:03:41,161 INFO - ✓ Worker 15: common_voice_en_17503.mp3:  Songs are made to make you feel.\n",
      "2025-10-07 04:03:41,492 INFO - ✓ Worker 13: common_voice_en_175369.mp3:  Will it be hot at 4 in Louisiana?\n",
      "2025-10-07 04:03:41,595 INFO - ✓ Worker 7: common_voice_en_174618.mp3:  A woman orders in front of a food cart.\n",
      "2025-10-07 04:03:42,030 INFO - ✓ Worker 9: common_voice_en_174645.mp3:  Two donkeys pulling a cart carrying green bushes as well as carrying people on it\n",
      "2025-10-07 04:03:42,117 INFO - ✓ Worker 4: common_voice_en_174373.mp3:  A man drives a motorcycle with two blue baskets attached down a street at dusk.\n",
      "2025-10-07 04:03:42,137 INFO - ✓ Worker 11: common_voice_en_174621.mp3:  A person with a yellow hat holding a fishing pole on the grass by water.\n",
      "2025-10-07 04:03:42,170 INFO - ✓ Worker 10: common_voice_en_175517.mp3:  A toddler in a white shirt standing in front of a blue kid's bike.\n",
      "2025-10-07 04:03:42,268 INFO - ✓ Worker 14: common_voice_en_175219.mp3:  I happened to know Convy was married only 3 months ago.\n",
      "2025-10-07 04:03:42,818 INFO - ✓ Worker 8: common_voice_en_174665.mp3:  Add Teddyboy to my Irish folk, Jigs & Reels playlist.\n",
      "2025-10-07 04:03:43,180 INFO - ✓ Worker 12: common_voice_en_174644.mp3:  A man, boy, and a white dog are looking at a display of postcards.\n",
      "2025-10-07 04:03:43,313 INFO - ✓ Worker 0: common_voice_en_174363.mp3:  Several people are preparing to film a scene involving a young school girl and a young schoolboy.\n",
      "2025-10-07 04:03:43,664 INFO - ✓ Worker 1: common_voice_en_175527.mp3:  5 people are holding instruments and looking up into the sky.\n",
      "2025-10-07 04:03:44,369 INFO - ✓ Worker 5: common_voice_en_175530.mp3:  A band performs on a stage.\n",
      "2025-10-07 04:03:44,475 INFO - ✓ Worker 3: common_voice_en_175358.mp3:  Territories and shame the devil.\n",
      "2025-10-07 04:03:44,503 INFO - ✓ Worker 6: common_voice_en_175531.mp3:  A happy Swiss soccer fan.\n",
      "2025-10-07 04:03:44,602 INFO - ✓ Worker 7: common_voice_en_175533.mp3:  to women laughing and drinking.\n",
      "2025-10-07 04:03:44,999 INFO - ✓ Worker 2: common_voice_en_175519.mp3:  One man lying off the ground in the grass surrounded by trees.\n",
      "2025-10-07 04:03:45,381 INFO - ✓ Worker 11: common_voice_en_175525.mp3:  Child in football uniform running on grass.\n",
      "2025-10-07 04:03:45,602 INFO - ✓ Worker 9: common_voice_en_175532.mp3:  Group of males surrounding a female sitting in a chair.\n",
      "2025-10-07 04:03:45,665 INFO - ✓ Worker 13: common_voice_en_175524.mp3:  Going down the slide at the carnival.\n",
      "2025-10-07 04:03:45,853 INFO - ✓ Worker 10: common_voice_en_175803.mp3:  I want to book a restaurant in New Mexico for two people.\n",
      "2025-10-07 04:03:45,955 INFO - ✓ Worker 4: common_voice_en_175528.mp3:  A man in short slice uncomfortably on a door stoop.\n",
      "2025-10-07 04:03:46,079 INFO - ✓ Worker 12: common_voice_en_175623.mp3:  In his youth, my dad was a hooligan.\n",
      "2025-10-07 04:03:46,127 INFO - ✓ Worker 8: common_voice_en_175518.mp3:  Two women in coats look at an outdoor jewelry display.\n",
      "2025-10-07 04:03:46,145 INFO - ✓ Worker 14: common_voice_en_175529.mp3:  A team of women, rollerbladers, and black uniforms.\n",
      "2025-10-07 04:03:46,192 INFO - ✓ Worker 15: common_voice_en_175801.mp3:  I want to book an indoor brass array within walking distance in May.\n",
      "2025-10-07 04:03:46,237 INFO - ✓ Worker 0: common_voice_en_175526.mp3:  Two women dressed in white smile and laugh while around a man at black play the guitar.\n"
     ]
    },
    {
     "name": "stderr",
     "output_type": "stream",
     "text": [
      "Downloading batch 45:  40%|███▉      | 19/48 [00:00<00:00, 85.94it/s]"
     ]
    },
    {
     "name": "stdout",
     "output_type": "stream",
     "text": [
      "2025-10-07 04:03:47,169 WARNING - Connection pool is full, discarding connection: asrelder-data.s3.amazonaws.com. Connection pool size: 10\n",
      "2025-10-07 04:03:47,173 WARNING - Connection pool is full, discarding connection: asrelder-data.s3.amazonaws.com. Connection pool size: 10\n"
     ]
    },
    {
     "name": "stderr",
     "output_type": "stream",
     "text": [
      "Downloading batch 45:  88%|████████▊ | 42/48 [00:00<00:00, 142.27it/s]"
     ]
    },
    {
     "name": "stdout",
     "output_type": "stream",
     "text": [
      "2025-10-07 04:03:47,188 WARNING - Connection pool is full, discarding connection: asrelder-data.s3.amazonaws.com. Connection pool size: 10\n",
      "2025-10-07 04:03:47,189 WARNING - Connection pool is full, discarding connection: asrelder-data.s3.amazonaws.com. Connection pool size: 10\n",
      "2025-10-07 04:03:47,192 WARNING - Connection pool is full, discarding connection: asrelder-data.s3.amazonaws.com. Connection pool size: 10\n",
      "2025-10-07 04:03:47,199 WARNING - Connection pool is full, discarding connection: asrelder-data.s3.amazonaws.com. Connection pool size: 10\n",
      "2025-10-07 04:03:47,210 WARNING - Connection pool is full, discarding connection: asrelder-data.s3.amazonaws.com. Connection pool size: 10\n",
      "2025-10-07 04:03:47,216 WARNING - Connection pool is full, discarding connection: asrelder-data.s3.amazonaws.com. Connection pool size: 10\n"
     ]
    },
    {
     "name": "stderr",
     "output_type": "stream",
     "text": [
      "Downloading batch 45: 100%|██████████| 48/48 [00:00<00:00, 117.18it/s]"
     ]
    },
    {
     "name": "stdout",
     "output_type": "stream",
     "text": [
      "2025-10-07 04:03:47,218 INFO - Transcribing 48 files in parallel...\n"
     ]
    },
    {
     "name": "stderr",
     "output_type": "stream",
     "text": [
      "\n"
     ]
    },
    {
     "name": "stdout",
     "output_type": "stream",
     "text": [
      "2025-10-07 04:03:50,929 INFO - ✓ Worker 6: common_voice_en_177009.mp3:  Young man in a classroom creating art.\n",
      "2025-10-07 04:03:51,004 INFO - ✓ Worker 2: common_voice_en_177020.mp3:  Four young children perform a martial art.\n",
      "2025-10-07 04:03:51,120 INFO - ✓ Worker 11: common_voice_en_177014.mp3:  The surfer is wiped out by the wave.\n",
      "2025-10-07 04:03:51,703 INFO - ✓ Worker 3: common_voice_en_177017.mp3:  Add this tune to the Sylvia Plath playlist.\n",
      "2025-10-07 04:03:51,875 INFO - ✓ Worker 8: common_voice_en_177010.mp3:  A man in a white t-shirt cleaning up debris.\n",
      "2025-10-07 04:03:51,950 INFO - ✓ Worker 1: common_voice_en_17669826.mp3:  The least you can do is call 911.\n",
      "2025-10-07 04:03:52,049 INFO - ✓ Worker 14: common_voice_en_177018.mp3:  A large group of people sitting in a room and watching something.\n",
      "2025-10-07 04:03:52,100 INFO - ✓ Worker 13: common_voice_en_17718578.mp3:  There was no replacement for the armed forces lost in the fight.\n",
      "2025-10-07 04:03:52,285 INFO - ✓ Worker 4: common_voice_en_17629894.mp3:  Also, at many places, it was hard to leave the water.\n",
      "2025-10-07 04:03:52,572 INFO - ✓ Worker 10: common_voice_en_17627140.mp3:  I'll turn it this way by making oil companies pay for externalities.\n",
      "2025-10-07 04:03:52,652 INFO - ✓ Worker 0: common_voice_en_177008.mp3:  A brown dog standing on a beach next to a blue frisbee.\n",
      "2025-10-07 04:03:53,020 INFO - ✓ Worker 15: common_voice_en_177012.mp3:  A balding man in a blue shirt and shorts sit on a playground toy.\n",
      "2025-10-07 04:03:53,167 INFO - ✓ Worker 9: common_voice_en_177021.mp3:  A cyclist peddling his bike up a dirt road near a body of water.\n",
      "2025-10-07 04:03:53,185 INFO - ✓ Worker 12: common_voice_en_177022.mp3:  A group of bushy-haired people are walking down a rainy sidewalk.\n",
      "2025-10-07 04:03:53,262 INFO - ✓ Worker 5: common_voice_en_177016.mp3:  A young blonde woman sitting atop a brown draft horse in the snowy mountains.\n",
      "2025-10-07 04:03:53,491 INFO - ✓ Worker 7: common_voice_en_177025.mp3:  A man in a red plaid shirt is riding a horse in rodeo show.\n",
      "2025-10-07 04:03:55,229 INFO - ✓ Worker 8: common_voice_en_17731519.mp3:  I could not bear it.\n",
      "2025-10-07 04:03:55,601 INFO - ✓ Worker 2: common_voice_en_177013.mp3:  A woman in a black Batman shirt walking near the ocean.\n",
      "2025-10-07 04:03:55,624 INFO - ✓ Worker 3: common_voice_en_177027.mp3:  A man in gold getting his shoes looked at.\n",
      "2025-10-07 04:03:55,636 INFO - ✓ Worker 0: common_voice_en_177023.mp3:  A boy holds a fishing net.\n",
      "2025-10-07 04:03:56,190 INFO - ✓ Worker 13: common_voice_en_17739299.mp3:  Live and let live.\n",
      "2025-10-07 04:03:56,731 INFO - ✓ Worker 11: common_voice_en_17730636.mp3:  The solar industry has been on the rise recently.\n",
      "2025-10-07 04:03:56,827 INFO - ✓ Worker 1: common_voice_en_17712231.mp3:  Take care of the pens and the pens will take care of themselves.\n",
      "2025-10-07 04:03:57,030 INFO - ✓ Worker 4: common_voice_en_177028.mp3:  A group of hard-hatted workers smiled for the camera.\n",
      "2025-10-07 04:03:57,249 INFO - ✓ Worker 15: common_voice_en_17727481.mp3:  hatred is as blind as love\n",
      "2025-10-07 04:03:57,926 INFO - ✓ Worker 5: common_voice_en_177019.mp3:  A girl riding a pony with braids and pink bows.\n",
      "2025-10-07 04:03:58,143 INFO - ✓ Worker 12: common_voice_en_17730637.mp3:  The city guard had to be reduced as well due to finance shortages.\n",
      "2025-10-07 04:03:58,202 INFO - ✓ Worker 6: common_voice_en_177026.mp3:  A man in a green shirt holds out a clipboard for a woman in pink's attention.\n",
      "2025-10-07 04:03:58,229 INFO - ✓ Worker 0: common_voice_en_17730863.mp3:  Give the devil his due.\n",
      "2025-10-07 04:03:58,491 INFO - ✓ Worker 10: common_voice_en_17727484.mp3:  For the third quarter in succession, the company didn't manage to leave red numbers.\n",
      "2025-10-07 04:03:58,555 INFO - ✓ Worker 7: common_voice_en_177015.mp3:  A mountain biker is Gyeong down a hill on his bike.\n",
      "2025-10-07 04:03:58,912 INFO - ✓ Worker 9: common_voice_en_17729539.mp3:  I assure you, no one has a better claim upon that defies than myself.\n",
      "2025-10-07 04:03:59,033 INFO - ✓ Worker 14: common_voice_en_17748784.mp3:  Transifsters have replaced relays in many scopes of applications since their invention.\n",
      "2025-10-07 04:04:00,149 INFO - ✓ Worker 2: common_voice_en_17752544.mp3:  Other induced arses receive subsidies as well, often much higher.\n",
      "2025-10-07 04:04:00,393 INFO - ✓ Worker 4: common_voice_en_17768898.mp3:  I forgot my ticket on the train.\n",
      "2025-10-07 04:04:00,909 INFO - ✓ Worker 11: common_voice_en_17745659.mp3:  Make a virtue of necessity.\n",
      "2025-10-07 04:04:00,933 INFO - ✓ Worker 5: common_voice_en_17764824.mp3:  The Drunk of a Statue\n",
      "2025-10-07 04:04:00,984 INFO - ✓ Worker 1: common_voice_en_17736609.mp3:  The CIA and MI6 are secret spy agencies.\n",
      "2025-10-07 04:04:01,035 INFO - ✓ Worker 6: common_voice_en_17777982.mp3:  Do not execute a remote command.\n",
      "2025-10-07 04:04:01,070 INFO - ✓ Worker 3: common_voice_en_17738691.mp3:  What assurances do I have that you'll keep my name out of your story?\n",
      "2025-10-07 04:04:01,083 INFO - ✓ Worker 10: common_voice_en_17779715.mp3:  The hospital is hiring nurses.\n",
      "2025-10-07 04:04:01,229 INFO - ✓ Worker 9: common_voice_en_17779717.mp3:  There's nothing in it.\n",
      "2025-10-07 04:04:01,533 INFO - ✓ Worker 12: common_voice_en_17753911.mp3:  Control and active connection, multiplexing master process.\n",
      "2025-10-07 04:04:01,579 INFO - ✓ Worker 8: common_voice_en_17767695.mp3:  She can help but to stare at the boister parts of town.\n",
      "2025-10-07 04:04:01,685 INFO - ✓ Worker 15: common_voice_en_17761313.mp3:  I'll show you the motto of the Prince of Wales.\n",
      "2025-10-07 04:04:01,803 INFO - ✓ Worker 7: common_voice_en_17770033.mp3:  Experiences the hardest teacher, she gives the test first and the lesson afterwards.\n",
      "2025-10-07 04:04:01,903 INFO - ✓ Worker 13: common_voice_en_17768903.mp3:  Constable video was leaning over the Bellastrod and observing the happenings around the pavilion.\n",
      "2025-10-07 04:04:01,910 INFO - ✓ Worker 14: common_voice_en_17779714.mp3:  Two wave sources are perfectly coherent if they have a constant phase difference and the same frequ...\n",
      "2025-10-07 04:04:01,918 INFO - Appended 240 rows to ./transcripts_from_prefix.csv\n"
     ]
    },
    {
     "name": "stderr",
     "output_type": "stream",
     "text": [
      "Downloading batch 46:  40%|███▉      | 19/48 [00:00<00:00, 87.47it/s]"
     ]
    },
    {
     "name": "stdout",
     "output_type": "stream",
     "text": [
      "2025-10-07 04:04:02,798 WARNING - Connection pool is full, discarding connection: asrelder-data.s3.amazonaws.com. Connection pool size: 10\n",
      "2025-10-07 04:04:02,837 WARNING - Connection pool is full, discarding connection: asrelder-data.s3.amazonaws.com. Connection pool size: 10\n",
      "2025-10-07 04:04:02,841 WARNING - Connection pool is full, discarding connection: asrelder-data.s3.amazonaws.com. Connection pool size: 10\n",
      "2025-10-07 04:04:02,847 WARNING - Connection pool is full, discarding connection: asrelder-data.s3.amazonaws.com. Connection pool size: 10\n"
     ]
    },
    {
     "name": "stderr",
     "output_type": "stream",
     "text": [
      "Downloading batch 46:  88%|████████▊ | 42/48 [00:00<00:00, 142.55it/s]"
     ]
    },
    {
     "name": "stdout",
     "output_type": "stream",
     "text": [
      "2025-10-07 04:04:02,850 WARNING - Connection pool is full, discarding connection: asrelder-data.s3.amazonaws.com. Connection pool size: 10\n",
      "2025-10-07 04:04:02,855 WARNING - Connection pool is full, discarding connection: asrelder-data.s3.amazonaws.com. Connection pool size: 10\n",
      "2025-10-07 04:04:02,859 WARNING - Connection pool is full, discarding connection: asrelder-data.s3.amazonaws.com. Connection pool size: 10\n",
      "2025-10-07 04:04:02,863 WARNING - Connection pool is full, discarding connection: asrelder-data.s3.amazonaws.com. Connection pool size: 10\n",
      "2025-10-07 04:04:02,865 WARNING - Connection pool is full, discarding connection: asrelder-data.s3.amazonaws.com. Connection pool size: 10\n",
      "2025-10-07 04:04:02,874 WARNING - Connection pool is full, discarding connection: asrelder-data.s3.amazonaws.com. Connection pool size: 10\n"
     ]
    },
    {
     "name": "stderr",
     "output_type": "stream",
     "text": [
      "Downloading batch 46: 100%|██████████| 48/48 [00:00<00:00, 123.54it/s]"
     ]
    },
    {
     "name": "stdout",
     "output_type": "stream",
     "text": [
      "2025-10-07 04:04:02,876 INFO - Transcribing 48 files in parallel...\n"
     ]
    },
    {
     "name": "stderr",
     "output_type": "stream",
     "text": [
      "\n"
     ]
    },
    {
     "name": "stdout",
     "output_type": "stream",
     "text": [
      "2025-10-07 04:04:05,662 INFO - ✓ Worker 9: common_voice_en_17787629.mp3:  It has gone now.\n",
      "2025-10-07 04:04:06,065 INFO - ✓ Worker 1: common_voice_en_17780695.mp3:  Someone accidentally aborted the mission.\n",
      "2025-10-07 04:04:06,303 INFO - ✓ Worker 6: common_voice_en_177909.mp3:  A couple sit outside of an establishment.\n",
      "2025-10-07 04:04:06,430 INFO - ✓ Worker 14: common_voice_en_17791284.mp3:  Rules are made to be broken.\n",
      "2025-10-07 04:04:06,771 INFO - ✓ Worker 13: common_voice_en_17781153.mp3:  Keep the hatch tight and the watch constant.\n",
      "2025-10-07 04:04:06,853 INFO - ✓ Worker 12: common_voice_en_177895.mp3:  Several people are walking out in the spotlight.\n",
      "2025-10-07 04:04:06,901 INFO - ✓ Worker 7: common_voice_en_17787551.mp3:  Silence is an excellent remedy against lander.\n",
      "2025-10-07 04:04:06,927 INFO - ✓ Worker 0: common_voice_en_17780605.mp3:  I propose a dictionary attack instead of brute force.\n",
      "2025-10-07 04:04:07,103 INFO - ✓ Worker 8: common_voice_en_17780615.mp3:  There are numerous advantages of using optical devices for computing.\n",
      "2025-10-07 04:04:07,142 INFO - ✓ Worker 3: common_voice_en_177917.mp3:  Multiple people are jumping up and down on a trampoline.\n",
      "2025-10-07 04:04:07,151 INFO - ✓ Worker 5: common_voice_en_177916.mp3:  A man stands atop a mountain with arms extended.\n",
      "2025-10-07 04:04:07,653 INFO - ✓ Worker 2: common_voice_en_177915.mp3:  A young boy fishing by himself in a hat on a sunny day.\n",
      "2025-10-07 04:04:07,886 INFO - ✓ Worker 11: common_voice_en_17789465.mp3:  It is evident enough that someone was trying to trespass my health.\n",
      "2025-10-07 04:04:07,918 INFO - ✓ Worker 15: common_voice_en_177912.mp3:  Two women wearing bearback dresses look over their shoulder for a picture.\n",
      "2025-10-07 04:04:08,280 INFO - ✓ Worker 4: common_voice_en_17790217.mp3:  Very well then, what is that you need me to track down?\n",
      "2025-10-07 04:04:08,882 INFO - ✓ Worker 10: common_voice_en_177910.mp3:  A young girl in an orange shirt holds a small white flower up to her face.\n",
      "2025-10-07 04:04:09,894 INFO - ✓ Worker 0: common_voice_en_177918.mp3:  A chef wearing black cooking.\n",
      "2025-10-07 04:04:10,427 INFO - ✓ Worker 5: common_voice_en_177922.mp3:  Two people hugging on the street.\n",
      "2025-10-07 04:04:10,967 INFO - ✓ Worker 2: common_voice_en_177914.mp3:  two white dogs fighting with each other.\n",
      "2025-10-07 04:04:11,306 INFO - ✓ Worker 3: common_voice_en_177913.mp3:  Girl with blue jacket holding purple jug in crowd.\n",
      "2025-10-07 04:04:11,362 INFO - ✓ Worker 12: common_voice_en_177926.mp3:  Two dogs are jumping up at each other.\n",
      "2025-10-07 04:04:11,434 INFO - ✓ Worker 9: common_voice_en_177920.mp3:  Woman looking at pictures in a photogallery.\n",
      "2025-10-07 04:04:11,516 INFO - ✓ Worker 8: common_voice_en_177898.mp3:  A man is taking a look at the food products.\n",
      "2025-10-07 04:04:11,606 INFO - ✓ Worker 11: common_voice_en_177921.mp3:  An Asian girl is sitting at an airport.\n",
      "2025-10-07 04:04:11,700 INFO - ✓ Worker 7: common_voice_en_177923.mp3:  A child in a black coat lays on the leaves of the ground.\n",
      "2025-10-07 04:04:11,716 INFO - ✓ Worker 4: common_voice_en_17789469.mp3:  The hardest work is to do nothing.\n",
      "2025-10-07 04:04:11,720 INFO - ✓ Worker 14: common_voice_en_177924.mp3:  A little boy plays with a device.\n",
      "2025-10-07 04:04:11,730 INFO - ✓ Worker 13: common_voice_en_177925.mp3:  A lady making large quantities of food.\n",
      "2025-10-07 04:04:12,396 INFO - ✓ Worker 1: common_voice_en_177908.mp3:  A man is holding a microphone that says KFBK and is interviewing another man.\n",
      "2025-10-07 04:04:12,418 INFO - ✓ Worker 6: common_voice_en_177893.mp3:  A groom lifts the train of his wife as the walk down a boardwalk.\n",
      "2025-10-07 04:04:13,220 INFO - ✓ Worker 15: common_voice_en_177919.mp3:  A man that is wearing blue is fixing a car.\n",
      "2025-10-07 04:04:13,842 INFO - ✓ Worker 10: common_voice_en_177911.mp3:  A man holds a baby, which is chewing on eye glasses.\n",
      "2025-10-07 04:04:15,057 INFO - ✓ Worker 0: common_voice_en_177927.mp3:  A family in an African village sits outside of their home on the ground.\n",
      "2025-10-07 04:04:15,064 INFO - ✓ Worker 9: common_voice_en_177939.mp3:  Two boys flip in the air.\n",
      "2025-10-07 04:04:15,223 INFO - ✓ Worker 12: common_voice_en_17798468.mp3:  I don't think so.\n",
      "2025-10-07 04:04:15,887 INFO - ✓ Worker 2: common_voice_en_177931.mp3:  A man is sitting on the stoop with beer and cigarettes next to him.\n",
      "2025-10-07 04:04:16,072 INFO - ✓ Worker 8: common_voice_en_177936.mp3:  I'm going to a hotdog competition in Coney Island.\n",
      "2025-10-07 04:04:16,082 INFO - ✓ Worker 4: common_voice_en_177934.mp3:  Kids in orange life-s on sitting in a black raft.\n",
      "2025-10-07 04:04:16,196 INFO - ✓ Worker 11: common_voice_en_177940.mp3:  A man gets a better vantage point by standing higher than the crowd.\n",
      "2025-10-07 04:04:16,202 INFO - ✓ Worker 3: common_voice_en_177928.mp3:  A elderly lady and a middle-aged man talk over a table.\n",
      "2025-10-07 04:04:16,210 INFO - ✓ Worker 7: common_voice_en_177937.mp3:  A group of men sit around a table that has empty bottles on it.\n",
      "2025-10-07 04:04:16,261 INFO - ✓ Worker 5: common_voice_en_177933.mp3:  A group of people are sitting outside a cafe drinking coffee and juice.\n",
      "2025-10-07 04:04:16,341 INFO - ✓ Worker 10: common_voice_en_177938.mp3:  Two men climb a large rock.\n",
      "2025-10-07 04:04:16,388 INFO - ✓ Worker 1: common_voice_en_177929.mp3:  Several men in yellow and green vest in a cafe having lunch.\n",
      "2025-10-07 04:04:16,594 INFO - ✓ Worker 14: common_voice_en_177935.mp3:  People that live in slums are showing how they attempt to clean.\n",
      "2025-10-07 04:04:16,684 INFO - ✓ Worker 13: common_voice_en_177943.mp3:  An older gentleman sitting on a rail next to a body for water with balloons around him.\n",
      "2025-10-07 04:04:16,684 INFO - ✓ Worker 15: common_voice_en_17798465.mp3:  The second product of the company turned out to be a great success.\n",
      "2025-10-07 04:04:16,687 INFO - ✓ Worker 6: common_voice_en_177930.mp3:  Creates of many colors are stacked against a brick wall, as a man pushes a dumpster.\n"
     ]
    },
    {
     "name": "stderr",
     "output_type": "stream",
     "text": [
      "Downloading batch 47:  42%|████▏     | 20/48 [00:00<00:00, 86.76it/s]"
     ]
    },
    {
     "name": "stdout",
     "output_type": "stream",
     "text": [
      "2025-10-07 04:04:17,607 WARNING - Connection pool is full, discarding connection: asrelder-data.s3.amazonaws.com. Connection pool size: 10\n",
      "2025-10-07 04:04:17,611 WARNING - Connection pool is full, discarding connection: asrelder-data.s3.amazonaws.com. Connection pool size: 10\n",
      "2025-10-07 04:04:17,614 WARNING - Connection pool is full, discarding connection: asrelder-data.s3.amazonaws.com. Connection pool size: 10\n",
      "2025-10-07 04:04:17,633 WARNING - Connection pool is full, discarding connection: asrelder-data.s3.amazonaws.com. Connection pool size: 10\n",
      "2025-10-07 04:04:17,658 WARNING - Connection pool is full, discarding connection: asrelder-data.s3.amazonaws.com. Connection pool size: 10\n"
     ]
    },
    {
     "name": "stderr",
     "output_type": "stream",
     "text": [
      "Downloading batch 47:  94%|█████████▍| 45/48 [00:00<00:00, 137.84it/s]"
     ]
    },
    {
     "name": "stdout",
     "output_type": "stream",
     "text": [
      "2025-10-07 04:04:17,679 WARNING - Connection pool is full, discarding connection: asrelder-data.s3.amazonaws.com. Connection pool size: 10\n",
      "2025-10-07 04:04:17,681 WARNING - Connection pool is full, discarding connection: asrelder-data.s3.amazonaws.com. Connection pool size: 10\n",
      "2025-10-07 04:04:17,692 WARNING - Connection pool is full, discarding connection: asrelder-data.s3.amazonaws.com. Connection pool size: 10\n"
     ]
    },
    {
     "name": "stderr",
     "output_type": "stream",
     "text": [
      "Downloading batch 47: 100%|██████████| 48/48 [00:00<00:00, 111.58it/s]"
     ]
    },
    {
     "name": "stdout",
     "output_type": "stream",
     "text": [
      "2025-10-07 04:04:17,694 INFO - Transcribing 48 files in parallel...\n"
     ]
    },
    {
     "name": "stderr",
     "output_type": "stream",
     "text": [
      "\n"
     ]
    },
    {
     "name": "stdout",
     "output_type": "stream",
     "text": [
      "2025-10-07 04:04:20,228 INFO - ✓ Worker 3: common_voice_en_17819194.mp3:  It shall be done.\n",
      "2025-10-07 04:04:20,235 INFO - ✓ Worker 9: common_voice_en_17801706.mp3:  and hotel.\n",
      "2025-10-07 04:04:20,315 INFO - ✓ Worker 12: common_voice_en_17810827.mp3:  You look like one.\n",
      "2025-10-07 04:04:20,484 INFO - ✓ Worker 2: common_voice_en_17804741.mp3:  Of course, video!\n",
      "2025-10-07 04:04:20,559 INFO - ✓ Worker 0: common_voice_en_17799712.mp3:  You are quite right.\n",
      "2025-10-07 04:04:20,607 INFO - ✓ Worker 13: common_voice_en_17827705.mp3:  I mean what I said.\n",
      "2025-10-07 04:04:21,128 INFO - ✓ Worker 8: common_voice_en_17834192.mp3:  One could be on this house another.\n",
      "2025-10-07 04:04:21,237 INFO - ✓ Worker 11: common_voice_en_17810378.mp3:  The strong arm shall shield your honor.\n",
      "2025-10-07 04:04:21,336 INFO - ✓ Worker 10: common_voice_en_17801699.mp3:  Index arithmetic is performed to create this.\n",
      "2025-10-07 04:04:21,364 INFO - ✓ Worker 6: common_voice_en_17818466.mp3:  This is used for host-based authentication.\n",
      "2025-10-07 04:04:21,572 INFO - ✓ Worker 7: common_voice_en_178321.mp3:  I knew you'd wake up sooner or later.\n",
      "2025-10-07 04:04:22,027 INFO - ✓ Worker 14: common_voice_en_17818464.mp3:  their eyelids droop for once off the sleep.\n",
      "2025-10-07 04:04:22,040 INFO - ✓ Worker 5: common_voice_en_17831794.mp3:  The knife was hung inside its bright sheath.\n",
      "2025-10-07 04:04:22,124 INFO - ✓ Worker 4: common_voice_en_17810374.mp3:  The goods was brought straight from the old market.\n",
      "2025-10-07 04:04:22,869 INFO - ✓ Worker 1: common_voice_en_17798469.mp3:  The eggs need to be organic to not spoil the royal pastries.\n",
      "2025-10-07 04:04:23,150 INFO - ✓ Worker 15: common_voice_en_17852347.mp3:  I don't think this flower should be painted the way you suggested.\n",
      "2025-10-07 04:04:24,319 INFO - ✓ Worker 3: common_voice_en_17857346.mp3:  The hitch between the horse and cart broke.\n",
      "2025-10-07 04:04:24,335 INFO - ✓ Worker 0: common_voice_en_17810829.mp3:  The key you design will fit the lock.\n",
      "2025-10-07 04:04:24,337 INFO - ✓ Worker 6: common_voice_en_17836375.mp3:  I don't understand it.\n",
      "2025-10-07 04:04:24,897 INFO - ✓ Worker 4: common_voice_en_17843150.mp3:  Never quit certainty for hope.\n",
      "2025-10-07 04:04:25,009 INFO - ✓ Worker 10: common_voice_en_178574.mp3:  Two dogs ankle deep in water.\n",
      "2025-10-07 04:04:25,026 INFO - ✓ Worker 9: common_voice_en_17857620.mp3:  A plea for fun seems to come again.\n",
      "2025-10-07 04:04:25,344 INFO - ✓ Worker 8: common_voice_en_17857619.mp3:  At that high level, the air is pure.\n",
      "2025-10-07 04:04:25,582 INFO - ✓ Worker 12: common_voice_en_178580.mp3:  People working on flowers at a flower stand.\n",
      "2025-10-07 04:04:25,745 INFO - ✓ Worker 13: common_voice_en_178586.mp3:  Boy plays baseball in a grass field.\n",
      "2025-10-07 04:04:25,957 INFO - ✓ Worker 5: common_voice_en_17840261.mp3:  One of these days is none of these days.\n",
      "2025-10-07 04:04:26,047 INFO - ✓ Worker 1: common_voice_en_17824820.mp3:  The lawyer sat in the courtroom.\n",
      "2025-10-07 04:04:26,588 INFO - ✓ Worker 2: common_voice_en_178572.mp3:  One dog with an object in its mouth is met by another dog nearby a fence.\n",
      "2025-10-07 04:04:27,015 INFO - ✓ Worker 7: common_voice_en_17850548.mp3:  Since I've gotten a doubt, the regular visit of the fuck has stopped.\n",
      "2025-10-07 04:04:27,422 INFO - ✓ Worker 14: common_voice_en_178581.mp3:  A trolley car is standing in the road surrounded by pedestrians.\n",
      "2025-10-07 04:04:28,012 INFO - ✓ Worker 15: common_voice_en_178585.mp3:  This is the image of six Asian children with tabareens.\n",
      "2025-10-07 04:04:28,752 INFO - ✓ Worker 1: common_voice_en_178589.mp3:  Three boys are playing soccer.\n",
      "2025-10-07 04:04:28,812 INFO - ✓ Worker 8: common_voice_en_178591.mp3:  Friends out and enjoying a drink together.\n",
      "2025-10-07 04:04:28,890 INFO - ✓ Worker 11: common_voice_en_178584.mp3:  Three men works dressed in orange and green uniforms sit under a tree for a well-deserved break.\n",
      "2025-10-07 04:04:29,281 INFO - ✓ Worker 3: common_voice_en_178588.mp3:  People out of park with a public water spout area.\n",
      "2025-10-07 04:04:29,428 INFO - ✓ Worker 0: common_voice_en_178587.mp3:  A man in a hat and purple apron leaning on a metal pizza rack.\n",
      "2025-10-07 04:04:29,802 INFO - ✓ Worker 9: common_voice_en_178594.mp3:  A woman with a white bag is walking upstairs.\n",
      "2025-10-07 04:04:29,873 INFO - ✓ Worker 10: common_voice_en_178595.mp3:  A man and a woman kissing in the ocean.\n",
      "2025-10-07 04:04:30,029 INFO - ✓ Worker 4: common_voice_en_178578.mp3:  Man and a barefoot woman lying on the grass by water snuggling.\n",
      "2025-10-07 04:04:30,310 INFO - ✓ Worker 12: common_voice_en_17859183.mp3:  The box was thrown beside the parked truck.\n",
      "2025-10-07 04:04:30,329 INFO - ✓ Worker 13: common_voice_en_178592.mp3:  People enjoying outdoor dining in a tropical setting.\n",
      "2025-10-07 04:04:30,430 INFO - ✓ Worker 7: common_voice_en_178579.mp3:  A woman and three men are posing for a photo.\n",
      "2025-10-07 04:04:30,522 INFO - ✓ Worker 6: common_voice_en_178590.mp3:  A young boy in an orange shirt considers how he can ride his bike and play kickball.\n",
      "2025-10-07 04:04:30,555 INFO - ✓ Worker 5: common_voice_en_17816002.mp3:  The most owners of the car model, the issue is unnoticeable.\n",
      "2025-10-07 04:04:30,747 INFO - ✓ Worker 2: common_voice_en_178583.mp3:  Park Ranger Dave cites a car for not having a license plate in the proper place.\n",
      "2025-10-07 04:04:30,781 INFO - ✓ Worker 14: common_voice_en_178596.mp3:  A man wearing no shirt rides a skateboard with a brown dog.\n",
      "2025-10-07 04:04:30,843 INFO - ✓ Worker 11: common_voice_en_178598.mp3:  Kids are watching a man in uniform standing on the grass.\n",
      "2025-10-07 04:04:30,872 INFO - ✓ Worker 15: common_voice_en_178597.mp3:  A young boy falling down in the snow with another boy in the background.\n"
     ]
    },
    {
     "name": "stderr",
     "output_type": "stream",
     "text": [
      "Downloading batch 48:  44%|████▍     | 21/48 [00:00<00:00, 94.54it/s]"
     ]
    },
    {
     "name": "stdout",
     "output_type": "stream",
     "text": [
      "2025-10-07 04:04:31,757 WARNING - Connection pool is full, discarding connection: asrelder-data.s3.amazonaws.com. Connection pool size: 10\n",
      "2025-10-07 04:04:31,811 WARNING - Connection pool is full, discarding connection: asrelder-data.s3.amazonaws.com. Connection pool size: 10\n",
      "2025-10-07 04:04:31,811 WARNING - Connection pool is full, discarding connection: asrelder-data.s3.amazonaws.com. Connection pool size: 10\n",
      "2025-10-07 04:04:31,821 WARNING - Connection pool is full, discarding connection: asrelder-data.s3.amazonaws.com. Connection pool size: 10\n",
      "2025-10-07 04:04:31,822 WARNING - Connection pool is full, discarding connection: asrelder-data.s3.amazonaws.com. Connection pool size: 10\n",
      "2025-10-07 04:04:31,825 WARNING - Connection pool is full, discarding connection: asrelder-data.s3.amazonaws.com. Connection pool size: 10\n"
     ]
    },
    {
     "name": "stderr",
     "output_type": "stream",
     "text": [
      "Downloading batch 48:  88%|████████▊ | 42/48 [00:00<00:00, 137.95it/s]"
     ]
    },
    {
     "name": "stdout",
     "output_type": "stream",
     "text": [
      "2025-10-07 04:04:31,836 WARNING - Connection pool is full, discarding connection: asrelder-data.s3.amazonaws.com. Connection pool size: 10\n",
      "2025-10-07 04:04:31,848 WARNING - Connection pool is full, discarding connection: asrelder-data.s3.amazonaws.com. Connection pool size: 10\n",
      "2025-10-07 04:04:31,854 WARNING - Connection pool is full, discarding connection: asrelder-data.s3.amazonaws.com. Connection pool size: 10\n",
      "2025-10-07 04:04:31,865 WARNING - Connection pool is full, discarding connection: asrelder-data.s3.amazonaws.com. Connection pool size: 10\n"
     ]
    },
    {
     "name": "stderr",
     "output_type": "stream",
     "text": [
      "Downloading batch 48: 100%|██████████| 48/48 [00:00<00:00, 115.68it/s]"
     ]
    },
    {
     "name": "stdout",
     "output_type": "stream",
     "text": [
      "2025-10-07 04:04:31,867 INFO - Transcribing 48 files in parallel...\n"
     ]
    },
    {
     "name": "stderr",
     "output_type": "stream",
     "text": [
      "\n"
     ]
    },
    {
     "name": "stdout",
     "output_type": "stream",
     "text": [
      "2025-10-07 04:04:34,273 INFO - ✓ Worker 15: common_voice_en_178618.mp3:  Guy kisses girl.\n",
      "2025-10-07 04:04:34,994 INFO - ✓ Worker 7: common_voice_en_178603.mp3:  A child running through the water.\n",
      "2025-10-07 04:04:35,097 INFO - ✓ Worker 3: common_voice_en_178601.mp3:  Man skates along cement wall.\n",
      "2025-10-07 04:04:35,733 INFO - ✓ Worker 5: common_voice_en_17861487.mp3:  Not to know how to sign one's name.\n",
      "2025-10-07 04:04:35,840 INFO - ✓ Worker 6: common_voice_en_178622.mp3:  People relaxing in a park, one of them sleeping.\n",
      "2025-10-07 04:04:36,250 INFO - ✓ Worker 9: common_voice_en_178623.mp3:  An old man in a straw hat sits on a park bench.\n",
      "2025-10-07 04:04:36,390 INFO - ✓ Worker 2: common_voice_en_178613.mp3:  An older woman in sunglasses sits behind a man in a yellow shirt.\n",
      "2025-10-07 04:04:36,404 INFO - ✓ Worker 0: common_voice_en_178615.mp3:  Two kids are in a stroller in front of a fire engine.\n",
      "2025-10-07 04:04:36,752 INFO - ✓ Worker 13: common_voice_en_178624.mp3:  A young boy prepares to feel the baseball with people in the background.\n",
      "2025-10-07 04:04:36,821 INFO - ✓ Worker 10: common_voice_en_178605.mp3:  Two elderly women are waiting through the water in swimsuits and hats.\n",
      "2025-10-07 04:04:36,859 INFO - ✓ Worker 1: common_voice_en_178600.mp3:  And Asian man is playing guitar while a woman is sitting on a couch.\n",
      "2025-10-07 04:04:37,362 INFO - ✓ Worker 11: common_voice_en_178620.mp3:  The girl is wearing a blue outfit and holding out her hand to a rainbow.\n",
      "2025-10-07 04:04:37,398 INFO - ✓ Worker 8: common_voice_en_178602.mp3:  A young boy dressed in a black jacket, it riding a scooter on the sidewalk.\n",
      "2025-10-07 04:04:37,888 INFO - ✓ Worker 12: common_voice_en_178607.mp3:  A black person in black and red is sleeping on a bench with an open black umbrella.\n",
      "2025-10-07 04:04:37,942 INFO - ✓ Worker 4: common_voice_en_178610.mp3:  A group of men in camouflage pants brickdensing on a stage at a community baseball field.\n",
      "2025-10-07 04:04:38,264 INFO - ✓ Worker 14: common_voice_en_178619.mp3:  Two men take photographs of each other while a scantily clad woman holds a sign.\n",
      "2025-10-07 04:04:39,132 INFO - ✓ Worker 5: common_voice_en_17867502.mp3:  This lamp is quite nice.\n",
      "2025-10-07 04:04:39,921 INFO - ✓ Worker 7: common_voice_en_17869967.mp3:  Bottles hold four kinds of rum.\n",
      "2025-10-07 04:04:40,047 INFO - ✓ Worker 9: common_voice_en_17865779.mp3:  Mrs. Wife Lady Miss\n",
      "2025-10-07 04:04:40,472 INFO - ✓ Worker 10: common_voice_en_17869966.mp3:  That's what you get for testing my patients.\n",
      "2025-10-07 04:04:40,478 INFO - ✓ Worker 13: common_voice_en_17881617.mp3:  I is paired to work.\n",
      "2025-10-07 04:04:40,600 INFO - ✓ Worker 8: common_voice_en_178606.mp3:  A man running barefoot on the grass.\n",
      "2025-10-07 04:04:40,666 INFO - ✓ Worker 11: common_voice_en_178617.mp3:  and archery competition with two men playing.\n",
      "2025-10-07 04:04:40,725 INFO - ✓ Worker 1: common_voice_en_17861488.mp3:  Rayleigh scattering is perceived by humans as very beautiful.\n",
      "2025-10-07 04:04:40,748 INFO - ✓ Worker 2: common_voice_en_17861959.mp3:  Because of my depression, I have been recommended to see a psychiatrist.\n",
      "2025-10-07 04:04:41,498 INFO - ✓ Worker 14: common_voice_en_17880019.mp3:  Two, as you would be done by.\n",
      "2025-10-07 04:04:41,538 INFO - ✓ Worker 3: common_voice_en_178611.mp3:  A lady and a man kneeling down holding a string while another lady looks at them.\n",
      "2025-10-07 04:04:41,667 INFO - ✓ Worker 6: common_voice_en_17862420.mp3:  She stored a collection of dictionaries and encyclopedia books in this cupboard.\n",
      "2025-10-07 04:04:41,874 INFO - ✓ Worker 0: common_voice_en_178621.mp3:  A woman working in the storefront of a jewelry shop fixing the display shelf.\n",
      "2025-10-07 04:04:42,086 INFO - ✓ Worker 4: common_voice_en_178614.mp3:  A man with army fatigues is walking his dog.\n",
      "2025-10-07 04:04:42,139 INFO - ✓ Worker 12: common_voice_en_17865773.mp3:  I'm going with Clara to buy some pillows and bolsters.\n",
      "2025-10-07 04:04:43,190 INFO - ✓ Worker 15: common_voice_en_17881233.mp3:  Latvia and Estonia are both between the Baltic Sea and Russia.\n",
      "2025-10-07 04:04:43,717 INFO - ✓ Worker 9: common_voice_en_17925142.mp3:  Love is blind.\n",
      "2025-10-07 04:04:44,307 INFO - ✓ Worker 2: common_voice_en_17910345.mp3:  The loss exposed the city to foreign attackers.\n",
      "2025-10-07 04:04:44,370 INFO - ✓ Worker 8: common_voice_en_17896664.mp3:  A burnt child dreads the fire.\n",
      "2025-10-07 04:04:44,389 INFO - ✓ Worker 1: common_voice_en_17884124.mp3:  Drop the two when you add the figures.\n",
      "2025-10-07 04:04:44,761 INFO - ✓ Worker 0: common_voice_en_17899906.mp3:  Few words in any deed.\n",
      "2025-10-07 04:04:44,920 INFO - ✓ Worker 6: common_voice_en_17904704.mp3:  Mathematics class is obligatory.\n",
      "2025-10-07 04:04:45,061 INFO - ✓ Worker 4: common_voice_en_17918658.mp3:  The other bridge was for everyone else.\n",
      "2025-10-07 04:04:45,074 INFO - ✓ Worker 13: common_voice_en_17918964.mp3:  Much of the story makes good sense.\n",
      "2025-10-07 04:04:45,092 INFO - ✓ Worker 12: common_voice_en_17875985.mp3:  The lawyer tried to lose his case.\n",
      "2025-10-07 04:04:45,184 INFO - ✓ Worker 10: common_voice_en_17871714.mp3:  It's an old dog for a hard road.\n",
      "2025-10-07 04:04:45,218 INFO - ✓ Worker 3: common_voice_en_17911374.mp3:  Fractals have found applications in image processing.\n",
      "2025-10-07 04:04:45,512 INFO - ✓ Worker 14: common_voice_en_17913530.mp3:  That seems odd because Mark has never been to the house.\n",
      "2025-10-07 04:04:45,621 INFO - ✓ Worker 7: common_voice_en_17916936.mp3:  Many scientists work their entire careers on this and you say you have solved this in a single afte...\n",
      "2025-10-07 04:04:45,790 INFO - ✓ Worker 5: common_voice_en_178609.mp3:  Several people in sweat clothing lay together on a gymnasium floor while a standing person grasps o...\n",
      "2025-10-07 04:04:45,874 INFO - ✓ Worker 11: common_voice_en_17917241.mp3:  Constructing a Cypher or hash to exhibit a substantial avalanche fact is one of its primary design ...\n",
      "2025-10-07 04:04:45,937 INFO - ✓ Worker 15: common_voice_en_17884125.mp3:  Sultang system of arranging the scale of music by the names Dore Mi Fa Salt La Si, a voice exercise...\n"
     ]
    },
    {
     "name": "stderr",
     "output_type": "stream",
     "text": [
      "Downloading batch 49:   2%|▏         | 1/48 [00:00<00:09,  5.18it/s]"
     ]
    },
    {
     "name": "stdout",
     "output_type": "stream",
     "text": [
      "2025-10-07 04:04:46,751 WARNING - Connection pool is full, discarding connection: asrelder-data.s3.amazonaws.com. Connection pool size: 10\n"
     ]
    },
    {
     "name": "stderr",
     "output_type": "stream",
     "text": [
      "Downloading batch 49:  46%|████▌     | 22/48 [00:00<00:00, 91.76it/s]"
     ]
    },
    {
     "name": "stdout",
     "output_type": "stream",
     "text": [
      "2025-10-07 04:04:46,881 WARNING - Connection pool is full, discarding connection: asrelder-data.s3.amazonaws.com. Connection pool size: 10\n",
      "2025-10-07 04:04:46,883 WARNING - Connection pool is full, discarding connection: asrelder-data.s3.amazonaws.com. Connection pool size: 10\n",
      "2025-10-07 04:04:46,886 WARNING - Connection pool is full, discarding connection: asrelder-data.s3.amazonaws.com. Connection pool size: 10\n",
      "2025-10-07 04:04:46,889 WARNING - Connection pool is full, discarding connection: asrelder-data.s3.amazonaws.com. Connection pool size: 10\n",
      "2025-10-07 04:04:46,891 WARNING - Connection pool is full, discarding connection: asrelder-data.s3.amazonaws.com. Connection pool size: 10\n"
     ]
    },
    {
     "name": "stderr",
     "output_type": "stream",
     "text": [
      "Downloading batch 49:  94%|█████████▍| 45/48 [00:00<00:00, 143.53it/s]"
     ]
    },
    {
     "name": "stdout",
     "output_type": "stream",
     "text": [
      "2025-10-07 04:04:46,894 WARNING - Connection pool is full, discarding connection: asrelder-data.s3.amazonaws.com. Connection pool size: 10\n",
      "2025-10-07 04:04:46,906 WARNING - Connection pool is full, discarding connection: asrelder-data.s3.amazonaws.com. Connection pool size: 10\n",
      "2025-10-07 04:04:46,911 WARNING - Connection pool is full, discarding connection: asrelder-data.s3.amazonaws.com. Connection pool size: 10\n"
     ]
    },
    {
     "name": "stderr",
     "output_type": "stream",
     "text": [
      "Downloading batch 49: 100%|██████████| 48/48 [00:00<00:00, 115.79it/s]"
     ]
    },
    {
     "name": "stdout",
     "output_type": "stream",
     "text": [
      "2025-10-07 04:04:46,914 INFO - Transcribing 48 files in parallel...\n"
     ]
    },
    {
     "name": "stderr",
     "output_type": "stream",
     "text": [
      "\n"
     ]
    },
    {
     "name": "stdout",
     "output_type": "stream",
     "text": [
      "2025-10-07 04:04:49,948 INFO - ✓ Worker 4: common_voice_en_17939330.mp3:  Two saints on one day.\n",
      "2025-10-07 04:04:50,153 INFO - ✓ Worker 0: common_voice_en_1793581.mp3:  The defadils are blooming.\n",
      "2025-10-07 04:04:50,179 INFO - ✓ Worker 14: common_voice_en_18005695.mp3:  Passing the bridge was free.\n",
      "2025-10-07 04:04:50,264 INFO - ✓ Worker 1: common_voice_en_179337.mp3:  One kid jumping on the jump.\n",
      "2025-10-07 04:04:50,531 INFO - ✓ Worker 5: common_voice_en_179338.mp3:  Several people lying down on the beach.\n",
      "2025-10-07 04:04:50,817 INFO - ✓ Worker 15: common_voice_en_17941425.mp3:  That move means the game is over.\n",
      "2025-10-07 04:04:51,050 INFO - ✓ Worker 2: common_voice_en_18005693.mp3:  She said you told her where it was.\n",
      "2025-10-07 04:04:51,274 INFO - ✓ Worker 6: common_voice_en_18058858.mp3:  The cows cover and hauled trees were blue.\n",
      "2025-10-07 04:04:51,462 INFO - ✓ Worker 11: common_voice_en_17982742.mp3:  Press the pants and sew a button on the vest.\n",
      "2025-10-07 04:04:51,606 INFO - ✓ Worker 10: common_voice_en_18048273.mp3:  I'm afraid this helmet is by invitation almost, sir.\n",
      "2025-10-07 04:04:51,624 INFO - ✓ Worker 7: common_voice_en_18011372.mp3:  One economic mechanism of exposing these costs is internalizing them.\n",
      "2025-10-07 04:04:51,938 INFO - ✓ Worker 13: common_voice_en_17993335.mp3:  We strolled along the promenade and through the mall.\n",
      "2025-10-07 04:04:52,001 INFO - ✓ Worker 9: common_voice_en_18101570.mp3:  Okay, there is not a lot to do at the moment.\n",
      "2025-10-07 04:04:52,015 INFO - ✓ Worker 12: common_voice_en_17939333.mp3:  A drunk man's talk is a sober man's thought.\n",
      "2025-10-07 04:04:52,960 INFO - ✓ Worker 8: common_voice_en_17934370.mp3:  For a long time, the city's downfall is attributed to its second sucking.\n",
      "2025-10-07 04:04:53,909 INFO - ✓ Worker 4: common_voice_en_18071915.mp3:  The bigger they are, the harder they fall.\n",
      "2025-10-07 04:04:53,917 INFO - ✓ Worker 1: common_voice_en_18049034.mp3:  The first bridge had been funded by rich citizens.\n",
      "2025-10-07 04:04:54,162 INFO - ✓ Worker 0: common_voice_en_18011379.mp3:  Grab one's knuckles to clip one's wings.\n",
      "2025-10-07 04:04:54,647 INFO - ✓ Worker 3: common_voice_en_18048261.mp3:  I have pondered about the issue a bit, and arrived that we conclusion that it is non-trivial.\n",
      "2025-10-07 04:04:54,780 INFO - ✓ Worker 6: common_voice_en_17939331.mp3:  An onion a day keeps everyone away.\n",
      "2025-10-07 04:04:55,200 INFO - ✓ Worker 10: common_voice_en_18111047.mp3:  They were financed through a special celebration tax.\n",
      "2025-10-07 04:04:55,477 INFO - ✓ Worker 2: common_voice_en_18099291.mp3:  As you make your bed, so you must lie on it.\n",
      "2025-10-07 04:04:55,821 INFO - ✓ Worker 11: common_voice_en_18106313.mp3:  You can see the planet with a naked eye.\n",
      "2025-10-07 04:04:56,005 INFO - ✓ Worker 5: common_voice_en_18056860.mp3:  There's a group of unruly teens Birmingham around in your garden.\n",
      "2025-10-07 04:04:56,409 INFO - ✓ Worker 9: common_voice_en_18115500.mp3:  Float the soap on top of the back water.\n",
      "2025-10-07 04:04:56,454 INFO - ✓ Worker 13: common_voice_en_18129060.mp3:  Open the creed, but don't break the glass.\n",
      "2025-10-07 04:04:56,502 INFO - ✓ Worker 8: common_voice_en_18105245.mp3:  The kite flew wildly in the high wind.\n",
      "2025-10-07 04:04:56,507 INFO - ✓ Worker 7: common_voice_en_18104067.mp3:  Strong cryptography can prevent a man in the middle from reading a conversation.\n",
      "2025-10-07 04:04:56,681 INFO - ✓ Worker 14: common_voice_en_18058860.mp3:  Never let the sun go down on your anger.\n",
      "2025-10-07 04:04:57,394 INFO - ✓ Worker 0: common_voice_en_18139076.mp3:  Kick the balls straight and follow through.\n",
      "2025-10-07 04:04:57,886 INFO - ✓ Worker 1: common_voice_en_18124732.mp3:  A cold dip restores health and zest.\n",
      "2025-10-07 04:04:58,347 INFO - ✓ Worker 12: common_voice_en_18121969.mp3:  You can reduce the quality of the Anisotropic filter to gain some performance.\n",
      "2025-10-07 04:04:58,486 INFO - ✓ Worker 15: common_voice_en_18127696.mp3:  Extract the relevant data and see if it matches our statistics.\n",
      "2025-10-07 04:04:58,970 INFO - ✓ Worker 3: common_voice_en_17960361.mp3:  A tow truck came to clear up the wreckage.\n",
      "2025-10-07 04:04:59,283 INFO - ✓ Worker 4: common_voice_en_181411.mp3:  Mad leads a black show horse as crowd observes.\n",
      "2025-10-07 04:04:59,468 INFO - ✓ Worker 2: common_voice_en_18139079.mp3:  A Pennywise and a Pound Foolish.\n",
      "2025-10-07 04:04:59,588 INFO - ✓ Worker 7: common_voice_en_18115503.mp3:  Actions to speak louder than words.\n",
      "2025-10-07 04:05:00,086 INFO - ✓ Worker 9: common_voice_en_181421.mp3:  Two men are wrestling while other people are watching.\n",
      "2025-10-07 04:05:00,163 INFO - ✓ Worker 8: common_voice_en_181417.mp3:  A group of people are partying inside the building.\n",
      "2025-10-07 04:05:00,174 INFO - ✓ Worker 5: common_voice_en_181414.mp3:  There is a man lying in the sun next to the ocean.\n",
      "2025-10-07 04:05:00,276 INFO - ✓ Worker 6: common_voice_en_18149901.mp3:  Whistleblower Edward Snowden still is in exile in Russia.\n",
      "2025-10-07 04:05:00,522 INFO - ✓ Worker 10: common_voice_en_181413.mp3:  A crowd of people are holding signs and protesting against school cuts.\n",
      "2025-10-07 04:05:00,555 INFO - ✓ Worker 14: common_voice_en_181418.mp3:  A child running through a field of yellow flowers.\n",
      "2025-10-07 04:05:00,723 INFO - ✓ Worker 11: common_voice_en_18126656.mp3:  The father was unable to cut the umbilical cord of his newborn baby.\n",
      "2025-10-07 04:05:00,754 INFO - ✓ Worker 15: common_voice_en_181416.mp3:  A woman sitting on a winding green bench.\n",
      "2025-10-07 04:05:00,894 INFO - ✓ Worker 3: common_voice_en_181409.mp3:  A black and white dog swimming in clear water.\n",
      "2025-10-07 04:05:00,919 INFO - ✓ Worker 13: common_voice_en_181610.mp3:  Book a table for me at Betty at Washington, DC, Jewish Community Center in Montana.\n",
      "2025-10-07 04:05:00,947 INFO - ✓ Worker 12: common_voice_en_181412.mp3:  A large group of people, all driving jeeps, down a two lane path.\n"
     ]
    },
    {
     "name": "stderr",
     "output_type": "stream",
     "text": [
      "Downloading batch 50:  46%|████▌     | 22/48 [00:00<00:00, 95.44it/s]"
     ]
    },
    {
     "name": "stdout",
     "output_type": "stream",
     "text": [
      "2025-10-07 04:05:01,858 WARNING - Connection pool is full, discarding connection: asrelder-data.s3.amazonaws.com. Connection pool size: 10\n",
      "2025-10-07 04:05:01,863 WARNING - Connection pool is full, discarding connection: asrelder-data.s3.amazonaws.com. Connection pool size: 10\n",
      "2025-10-07 04:05:01,889 WARNING - Connection pool is full, discarding connection: asrelder-data.s3.amazonaws.com. Connection pool size: 10\n"
     ]
    },
    {
     "name": "stderr",
     "output_type": "stream",
     "text": [
      "Downloading batch 50:  90%|████████▉ | 43/48 [00:00<00:00, 139.09it/s]"
     ]
    },
    {
     "name": "stdout",
     "output_type": "stream",
     "text": [
      "2025-10-07 04:05:01,895 WARNING - Connection pool is full, discarding connection: asrelder-data.s3.amazonaws.com. Connection pool size: 10\n",
      "2025-10-07 04:05:01,900 WARNING - Connection pool is full, discarding connection: asrelder-data.s3.amazonaws.com. Connection pool size: 10\n",
      "2025-10-07 04:05:01,906 WARNING - Connection pool is full, discarding connection: asrelder-data.s3.amazonaws.com. Connection pool size: 10\n",
      "2025-10-07 04:05:01,921 WARNING - Connection pool is full, discarding connection: asrelder-data.s3.amazonaws.com. Connection pool size: 10\n",
      "2025-10-07 04:05:01,930 WARNING - Connection pool is full, discarding connection: asrelder-data.s3.amazonaws.com. Connection pool size: 10\n"
     ]
    },
    {
     "name": "stderr",
     "output_type": "stream",
     "text": [
      "Downloading batch 50: 100%|██████████| 48/48 [00:00<00:00, 115.28it/s]"
     ]
    },
    {
     "name": "stdout",
     "output_type": "stream",
     "text": [
      "2025-10-07 04:05:01,932 INFO - Transcribing 48 files in parallel...\n"
     ]
    },
    {
     "name": "stderr",
     "output_type": "stream",
     "text": [
      "\n"
     ]
    },
    {
     "name": "stdout",
     "output_type": "stream",
     "text": [
      "2025-10-07 04:05:04,477 INFO - ✓ Worker 1: common_voice_en_181642.mp3:  Briefed is last.\n",
      "2025-10-07 04:05:04,730 INFO - ✓ Worker 7: common_voice_en_18250355.mp3:  Show me relevant results.\n",
      "2025-10-07 04:05:05,008 INFO - ✓ Worker 13: common_voice_en_18250353.mp3:  She had a bad cuff.\n",
      "2025-10-07 04:05:05,029 INFO - ✓ Worker 9: common_voice_en_18253927.mp3:  The dog ate my homework.\n",
      "2025-10-07 04:05:05,136 INFO - ✓ Worker 2: common_voice_en_18173688.mp3:  It came about in this way.\n",
      "2025-10-07 04:05:05,627 INFO - ✓ Worker 0: common_voice_en_181614.mp3:  Need the sawger called the black lamp.\n",
      "2025-10-07 04:05:05,658 INFO - ✓ Worker 10: common_voice_en_18183180.mp3:  Pray to come us before I fall.\n",
      "2025-10-07 04:05:05,677 INFO - ✓ Worker 3: common_voice_en_18251171.mp3:  Campyllery blood vessel.\n",
      "2025-10-07 04:05:05,725 INFO - ✓ Worker 14: common_voice_en_18250345.mp3:  You have many herbs in this garden.\n",
      "2025-10-07 04:05:05,866 INFO - ✓ Worker 8: common_voice_en_18250350.mp3:  Some plastics consist of composite materials.\n",
      "2025-10-07 04:05:05,889 INFO - ✓ Worker 4: common_voice_en_18198324.mp3:  The noise came from the basement.\n",
      "2025-10-07 04:05:05,908 INFO - ✓ Worker 15: common_voice_en_18241563.mp3:  Dip the pill once and let it settle.\n",
      "2025-10-07 04:05:05,948 INFO - ✓ Worker 5: common_voice_en_18167377.mp3:  Only a minority of literatures written this way.\n",
      "2025-10-07 04:05:06,407 INFO - ✓ Worker 12: common_voice_en_18241561.mp3:  View the reviews, comments and ratings on the website.\n",
      "2025-10-07 04:05:06,652 INFO - ✓ Worker 11: common_voice_en_18207677.mp3:  No life can be dreary when work is a delight.\n",
      "2025-10-07 04:05:06,904 INFO - ✓ Worker 6: common_voice_en_18250538.mp3:  We see the best in humanity when we hope each other.\n",
      "2025-10-07 04:05:08,042 INFO - ✓ Worker 2: common_voice_en_18241562.mp3:  Everyone should have the right to education.\n",
      "2025-10-07 04:05:09,016 INFO - ✓ Worker 14: common_voice_en_18255019.mp3:  What number is this?\n",
      "2025-10-07 04:05:09,039 INFO - ✓ Worker 5: common_voice_en_18253989.mp3:  Use this green sparingly.\n",
      "2025-10-07 04:05:09,231 INFO - ✓ Worker 9: common_voice_en_18253934.mp3:  The car is semi-autonomous.\n",
      "2025-10-07 04:05:09,400 INFO - ✓ Worker 1: common_voice_en_18167375.mp3:  Sigmund depicted the occurrence with all its obscene details.\n",
      "2025-10-07 04:05:09,489 INFO - ✓ Worker 3: common_voice_en_18250546.mp3:  Then, we'd be passive of the problem.\n",
      "2025-10-07 04:05:09,521 INFO - ✓ Worker 4: common_voice_en_18250544.mp3:  I could not find the activity in my schedule.\n",
      "2025-10-07 04:05:09,548 INFO - ✓ Worker 10: common_voice_en_18253991.mp3:  Alzheimer's disease is usually experienced by the elderly.\n",
      "2025-10-07 04:05:09,565 INFO - ✓ Worker 13: common_voice_en_18253998.mp3:  Mathematics is a language of reality.\n",
      "2025-10-07 04:05:09,600 INFO - ✓ Worker 0: common_voice_en_18242957.mp3:  I can't believe how fast oil prices are falling.\n",
      "2025-10-07 04:05:09,788 INFO - ✓ Worker 6: common_voice_en_18251002.mp3:  Why do I feel I cheated?\n",
      "2025-10-07 04:05:10,104 INFO - ✓ Worker 12: common_voice_en_18255018.mp3:  The majority of the human body consists of water.\n",
      "2025-10-07 04:05:10,545 INFO - ✓ Worker 7: common_voice_en_18243962.mp3:  It made a clicking sound when the officer tight in the handcuffs.\n",
      "2025-10-07 04:05:10,621 INFO - ✓ Worker 11: common_voice_en_18253992.mp3:  It was refreshing to sit in the cold breeze.\n",
      "2025-10-07 04:05:10,715 INFO - ✓ Worker 15: common_voice_en_18253999.mp3:  This is how you buy a store that's genius.\n",
      "2025-10-07 04:05:12,033 INFO - ✓ Worker 1: common_voice_en_18256283.mp3:  This is a safe place.\n",
      "2025-10-07 04:05:12,306 INFO - ✓ Worker 9: common_voice_en_18262536.mp3:  She sat across the room.\n",
      "2025-10-07 04:05:12,394 INFO - ✓ Worker 4: common_voice_en_18256444.mp3:  Warm croissant tastes better.\n",
      "2025-10-07 04:05:12,777 INFO - ✓ Worker 5: common_voice_en_18256261.mp3:  Listen to my voice and think carefully.\n",
      "2025-10-07 04:05:12,835 INFO - ✓ Worker 3: common_voice_en_18253950.mp3:  Drinking and driving is not worth it.\n",
      "2025-10-07 04:05:12,886 INFO - ✓ Worker 6: common_voice_en_18261475.mp3:  It weighed more than the recommended limit.\n",
      "2025-10-07 04:05:12,945 INFO - ✓ Worker 7: common_voice_en_18262504.mp3:  My daughter revealed her secret.\n",
      "2025-10-07 04:05:12,999 INFO - ✓ Worker 11: common_voice_en_18262598.mp3:  Amen to that.\n",
      "2025-10-07 04:05:13,194 INFO - ✓ Worker 2: common_voice_en_18255777.mp3:  Petrol and diesel engines are going the way of the dodo.\n",
      "2025-10-07 04:05:13,211 INFO - ✓ Worker 0: common_voice_en_18254795.mp3:  New York City is a bustling metropolitan.\n",
      "2025-10-07 04:05:13,324 INFO - ✓ Worker 8: common_voice_en_182318.mp3:  It gives you the power to repeat commands in a single utterance, but leaves it up to you structure ...\n",
      "2025-10-07 04:05:13,349 INFO - ✓ Worker 13: common_voice_en_18262306.mp3:  I don't want to lose this game.\n",
      "2025-10-07 04:05:13,426 INFO - ✓ Worker 12: common_voice_en_18256167.mp3:  Alzheimer's disease can be treated if detected early.\n",
      "2025-10-07 04:05:13,474 INFO - ✓ Worker 10: common_voice_en_18259380.mp3:  It would be futile for a beginner to challenge a Grand Master.\n",
      "2025-10-07 04:05:13,480 INFO - ✓ Worker 14: common_voice_en_18262313.mp3:  She passed her driving test on her first attempt.\n",
      "2025-10-07 04:05:13,565 INFO - ✓ Worker 15: common_voice_en_18262548.mp3:  Here, let me show you again.\n",
      "2025-10-07 04:05:13,663 INFO - ✓ Worker 8: common_voice_en_18255773.mp3:  There are multiple subduction zones in Indonesia.\n",
      "2025-10-07 04:05:13,670 INFO - Appended 240 rows to ./transcripts_from_prefix.csv\n"
     ]
    },
    {
     "name": "stderr",
     "output_type": "stream",
     "text": [
      "Downloading batch 51:  35%|███▌      | 17/48 [00:00<00:00, 75.32it/s]"
     ]
    },
    {
     "name": "stdout",
     "output_type": "stream",
     "text": [
      "2025-10-07 04:05:14,528 WARNING - Connection pool is full, discarding connection: asrelder-data.s3.amazonaws.com. Connection pool size: 10\n",
      "2025-10-07 04:05:14,621 WARNING - Connection pool is full, discarding connection: asrelder-data.s3.amazonaws.com. Connection pool size: 10\n",
      "2025-10-07 04:05:14,624 WARNING - Connection pool is full, discarding connection: asrelder-data.s3.amazonaws.com. Connection pool size: 10\n",
      "2025-10-07 04:05:14,625 WARNING - Connection pool is full, discarding connection: asrelder-data.s3.amazonaws.com. Connection pool size: 10\n"
     ]
    },
    {
     "name": "stderr",
     "output_type": "stream",
     "text": [
      "Downloading batch 51:  83%|████████▎ | 40/48 [00:00<00:00, 132.60it/s]"
     ]
    },
    {
     "name": "stdout",
     "output_type": "stream",
     "text": [
      "2025-10-07 04:05:14,631 WARNING - Connection pool is full, discarding connection: asrelder-data.s3.amazonaws.com. Connection pool size: 10\n",
      "2025-10-07 04:05:14,648 WARNING - Connection pool is full, discarding connection: asrelder-data.s3.amazonaws.com. Connection pool size: 10\n",
      "2025-10-07 04:05:14,651 WARNING - Connection pool is full, discarding connection: asrelder-data.s3.amazonaws.com. Connection pool size: 10\n",
      "2025-10-07 04:05:14,662 WARNING - Connection pool is full, discarding connection: asrelder-data.s3.amazonaws.com. Connection pool size: 10\n",
      "2025-10-07 04:05:14,711 WARNING - Connection pool is full, discarding connection: asrelder-data.s3.amazonaws.com. Connection pool size: 10\n",
      "2025-10-07 04:05:14,738 WARNING - Connection pool is full, discarding connection: asrelder-data.s3.amazonaws.com. Connection pool size: 10\n"
     ]
    },
    {
     "name": "stderr",
     "output_type": "stream",
     "text": [
      "Downloading batch 51: 100%|██████████| 48/48 [00:00<00:00, 98.34it/s] "
     ]
    },
    {
     "name": "stdout",
     "output_type": "stream",
     "text": [
      "2025-10-07 04:05:14,741 INFO - Transcribing 48 files in parallel...\n"
     ]
    },
    {
     "name": "stderr",
     "output_type": "stream",
     "text": [
      "\n"
     ]
    },
    {
     "name": "stdout",
     "output_type": "stream",
     "text": [
      "2025-10-07 04:05:17,466 INFO - ✓ Worker 5: common_voice_en_18265925.mp3:  Use button moderately.\n",
      "2025-10-07 04:05:17,811 INFO - ✓ Worker 3: common_voice_en_18266698.mp3:  There are no tricks here.\n",
      "2025-10-07 04:05:18,002 INFO - ✓ Worker 6: common_voice_en_18265672.mp3:  What would you have us called?\n",
      "2025-10-07 04:05:18,033 INFO - ✓ Worker 13: common_voice_en_18266523.mp3:  The car drove smooth and quiet.\n",
      "2025-10-07 04:05:18,152 INFO - ✓ Worker 12: common_voice_en_18268157.mp3:  Isn't that name a bit authoritarian?\n",
      "2025-10-07 04:05:18,420 INFO - ✓ Worker 10: common_voice_en_18266737.mp3:  I would like to carve a wooden dolphin.\n",
      "2025-10-07 04:05:18,425 INFO - ✓ Worker 4: common_voice_en_18262611.mp3:  The table was displayed in a structured hierarchy.\n",
      "2025-10-07 04:05:18,768 INFO - ✓ Worker 8: common_voice_en_18265920.mp3:  Americans say gasoline and the British say petrol.\n",
      "2025-10-07 04:05:18,871 INFO - ✓ Worker 1: common_voice_en_18265620.mp3:  The Coast Guard rescued passengers of a sinking vessel.\n",
      "2025-10-07 04:05:19,192 INFO - ✓ Worker 15: common_voice_en_18266027.mp3:  Online education has become accessible and is growing in popularity.\n",
      "2025-10-07 04:05:19,203 INFO - ✓ Worker 2: common_voice_en_18265174.mp3:  We are now headquartered in the Republic of Ireland.\n",
      "2025-10-07 04:05:19,235 INFO - ✓ Worker 11: common_voice_en_18265702.mp3:  The baby felt a breeze of wind and a woke.\n",
      "2025-10-07 04:05:19,381 INFO - ✓ Worker 14: common_voice_en_18266535.mp3:  You're positive it's what you're looking for.\n",
      "2025-10-07 04:05:19,512 INFO - ✓ Worker 0: common_voice_en_18265624.mp3:  We can't seriously expect me to go through with this.\n",
      "2025-10-07 04:05:19,861 INFO - ✓ Worker 9: common_voice_en_18268096.mp3:  The seagull dove into the river and caught a fish.\n",
      "2025-10-07 04:05:20,693 INFO - ✓ Worker 6: common_voice_en_18268480.mp3:  Neither of these\n",
      "2025-10-07 04:05:20,813 INFO - ✓ Worker 7: common_voice_en_18262943.mp3:  Electric vehicles might be practical if more investment was put into recharging infrastructure.\n",
      "2025-10-07 04:05:21,101 INFO - ✓ Worker 5: common_voice_en_18268477.mp3:  My joints are ashing.\n",
      "2025-10-07 04:05:21,571 INFO - ✓ Worker 3: common_voice_en_18268171.mp3:  I work at the hospital as a pediatrician.\n",
      "2025-10-07 04:05:21,727 INFO - ✓ Worker 4: common_voice_en_18268167.mp3:  Education is a path out of poverty.\n",
      "2025-10-07 04:05:21,854 INFO - ✓ Worker 2: common_voice_en_18266028.mp3:  I watch the concert live.\n",
      "2025-10-07 04:05:22,071 INFO - ✓ Worker 13: common_voice_en_18270465.mp3:  The score is loose.\n",
      "2025-10-07 04:05:22,185 INFO - ✓ Worker 1: common_voice_en_18265732.mp3:  What can I do about my headache?\n",
      "2025-10-07 04:05:22,289 INFO - ✓ Worker 8: common_voice_en_18268328.mp3:  Don't forget to add basil.\n",
      "2025-10-07 04:05:22,415 INFO - ✓ Worker 11: common_voice_en_18271944.mp3:  Where can we find fish fillet?\n",
      "2025-10-07 04:05:22,454 INFO - ✓ Worker 10: common_voice_en_18268864.mp3:  It's a brave new world.\n",
      "2025-10-07 04:05:22,716 INFO - ✓ Worker 12: common_voice_en_18270506.mp3:  Steal is easily recyclable.\n",
      "2025-10-07 04:05:23,074 INFO - ✓ Worker 0: common_voice_en_18265801.mp3:  The pen is mightier than the sword.\n",
      "2025-10-07 04:05:23,131 INFO - ✓ Worker 15: common_voice_en_18271932.mp3:  Can you interpret this?\n",
      "2025-10-07 04:05:23,303 INFO - ✓ Worker 7: common_voice_en_18270438.mp3:  Please excuse me.\n",
      "2025-10-07 04:05:24,251 INFO - ✓ Worker 9: common_voice_en_18266525.mp3:  Andre didn't sewage when pollute the rivers.\n",
      "2025-10-07 04:05:24,277 INFO - ✓ Worker 14: common_voice_en_18268482.mp3:  I'm never going to get the hang of this.\n",
      "2025-10-07 04:05:25,004 INFO - ✓ Worker 4: common_voice_en_18275190.mp3:  This fiscal year.\n",
      "2025-10-07 04:05:25,120 INFO - ✓ Worker 2: common_voice_en_18274258.mp3:  The accounts have discrepancies.\n",
      "2025-10-07 04:05:25,214 INFO - ✓ Worker 3: common_voice_en_18276561.mp3:  I ate a huge sandwich this morning.\n",
      "2025-10-07 04:05:25,535 INFO - ✓ Worker 6: common_voice_en_18276686.mp3:  where one door shuts another opens.\n",
      "2025-10-07 04:05:25,811 INFO - ✓ Worker 10: common_voice_en_18275851.mp3:  We will focus on this niche market.\n",
      "2025-10-07 04:05:25,829 INFO - ✓ Worker 0: common_voice_en_18268881.mp3:  How far is your motorbike?\n",
      "2025-10-07 04:05:25,846 INFO - ✓ Worker 8: common_voice_en_18277014.mp3:  I am lactose intolerant.\n",
      "2025-10-07 04:05:25,877 INFO - ✓ Worker 11: common_voice_en_18276501.mp3:  Welcome to our research laboratory.\n",
      "2025-10-07 04:05:25,922 INFO - ✓ Worker 13: common_voice_en_18277328.mp3:  Italian pasta is delicious.\n",
      "2025-10-07 04:05:26,029 INFO - ✓ Worker 7: common_voice_en_18274479.mp3:  That wasn't in the script.\n",
      "2025-10-07 04:05:26,113 INFO - ✓ Worker 1: common_voice_en_18274272.mp3:  or end the table in the direction of the East Wall.\n",
      "2025-10-07 04:05:26,123 INFO - ✓ Worker 12: common_voice_en_18272505.mp3:  We all have denominations of currency.\n",
      "2025-10-07 04:05:26,147 INFO - ✓ Worker 15: common_voice_en_18275194.mp3:  How do you sell?\n",
      "2025-10-07 04:05:26,179 INFO - ✓ Worker 5: common_voice_en_18271945.mp3:  I was hoping you might be able to assess me with the neck condition.\n",
      "2025-10-07 04:05:26,237 INFO - ✓ Worker 14: common_voice_en_18277166.mp3:  He took his daily dose of vitamins.\n",
      "2025-10-07 04:05:26,273 INFO - ✓ Worker 9: common_voice_en_18277266.mp3:  Jason trained intensely to be the fittest he could be.\n"
     ]
    },
    {
     "name": "stderr",
     "output_type": "stream",
     "text": [
      "Downloading batch 52:   2%|▏         | 1/48 [00:00<00:08,  5.68it/s]"
     ]
    },
    {
     "name": "stdout",
     "output_type": "stream",
     "text": [
      "2025-10-07 04:05:27,111 WARNING - Connection pool is full, discarding connection: asrelder-data.s3.amazonaws.com. Connection pool size: 10\n"
     ]
    },
    {
     "name": "stderr",
     "output_type": "stream",
     "text": [
      "Downloading batch 52:  46%|████▌     | 22/48 [00:00<00:00, 93.65it/s]"
     ]
    },
    {
     "name": "stdout",
     "output_type": "stream",
     "text": [
      "2025-10-07 04:05:27,225 WARNING - Connection pool is full, discarding connection: asrelder-data.s3.amazonaws.com. Connection pool size: 10\n",
      "2025-10-07 04:05:27,226 WARNING - Connection pool is full, discarding connection: asrelder-data.s3.amazonaws.com. Connection pool size: 10\n",
      "2025-10-07 04:05:27,230 WARNING - Connection pool is full, discarding connection: asrelder-data.s3.amazonaws.com. Connection pool size: 10\n",
      "2025-10-07 04:05:27,236 WARNING - Connection pool is full, discarding connection: asrelder-data.s3.amazonaws.com. Connection pool size: 10\n",
      "2025-10-07 04:05:27,250 WARNING - Connection pool is full, discarding connection: asrelder-data.s3.amazonaws.com. Connection pool size: 10\n",
      "2025-10-07 04:05:27,259 WARNING - Connection pool is full, discarding connection: asrelder-data.s3.amazonaws.com. Connection pool size: 10\n"
     ]
    },
    {
     "name": "stderr",
     "output_type": "stream",
     "text": [
      "Downloading batch 52:  92%|█████████▏| 44/48 [00:00<00:00, 136.53it/s]"
     ]
    },
    {
     "name": "stdout",
     "output_type": "stream",
     "text": [
      "2025-10-07 04:05:27,268 WARNING - Connection pool is full, discarding connection: asrelder-data.s3.amazonaws.com. Connection pool size: 10\n",
      "2025-10-07 04:05:27,270 WARNING - Connection pool is full, discarding connection: asrelder-data.s3.amazonaws.com. Connection pool size: 10\n",
      "2025-10-07 04:05:27,272 WARNING - Connection pool is full, discarding connection: asrelder-data.s3.amazonaws.com. Connection pool size: 10\n",
      "2025-10-07 04:05:27,299 WARNING - Connection pool is full, discarding connection: asrelder-data.s3.amazonaws.com. Connection pool size: 10\n"
     ]
    },
    {
     "name": "stderr",
     "output_type": "stream",
     "text": [
      "Downloading batch 52: 100%|██████████| 48/48 [00:00<00:00, 111.35it/s]"
     ]
    },
    {
     "name": "stdout",
     "output_type": "stream",
     "text": [
      "2025-10-07 04:05:27,301 INFO - Transcribing 48 files in parallel...\n"
     ]
    },
    {
     "name": "stderr",
     "output_type": "stream",
     "text": [
      "\n"
     ]
    },
    {
     "name": "stdout",
     "output_type": "stream",
     "text": [
      "2025-10-07 04:05:30,091 INFO - ✓ Worker 9: common_voice_en_18281510.mp3:  Here comes the cavalry.\n",
      "2025-10-07 04:05:30,158 INFO - ✓ Worker 11: common_voice_en_18280349.mp3:  This is domestic produce.\n",
      "2025-10-07 04:05:30,333 INFO - ✓ Worker 15: common_voice_en_18283226.mp3:  Which version do you have?\n",
      "2025-10-07 04:05:30,412 INFO - ✓ Worker 3: common_voice_en_18277669.mp3:  I need to mold the grass.\n",
      "2025-10-07 04:05:30,607 INFO - ✓ Worker 0: common_voice_en_18277624.mp3:  Tuna tastes great with bread.\n",
      "2025-10-07 04:05:30,924 INFO - ✓ Worker 7: common_voice_en_18282800.mp3:  Even the woman knew how to be silent.\n",
      "2025-10-07 04:05:31,135 INFO - ✓ Worker 8: common_voice_en_18280350.mp3:  They felt insulted that they didn't recognize him.\n",
      "2025-10-07 04:05:31,140 INFO - ✓ Worker 2: common_voice_en_18277723.mp3:  There is a lot of literature on this subject.\n",
      "2025-10-07 04:05:31,336 INFO - ✓ Worker 6: common_voice_en_18277665.mp3:  The dramatic drill rattled uncontrollably.\n",
      "2025-10-07 04:05:31,382 INFO - ✓ Worker 5: common_voice_en_18277417.mp3:  True heroes don't profit from the suffering of others.\n",
      "2025-10-07 04:05:31,395 INFO - ✓ Worker 13: common_voice_en_18280373.mp3:  Broadband is significantly faster than dial-up internet.\n",
      "2025-10-07 04:05:31,440 INFO - ✓ Worker 12: common_voice_en_18282544.mp3:  I was stuck in traffic all day.\n",
      "2025-10-07 04:05:31,894 INFO - ✓ Worker 14: common_voice_en_18282504.mp3:  The network administrative resolve the connectivity issue of the router.\n",
      "2025-10-07 04:05:32,084 INFO - ✓ Worker 4: common_voice_en_18277673.mp3:  Bill Fashy was a little xenophobic.\n",
      "2025-10-07 04:05:32,304 INFO - ✓ Worker 10: common_voice_en_18282804.mp3:  All this talk is making me hungry, shall we go out for lunch?\n",
      "2025-10-07 04:05:32,675 INFO - ✓ Worker 1: common_voice_en_18282783.mp3:  I felt unwell, so I booked an appointment with the Walco GP.\n",
      "2025-10-07 04:05:33,120 INFO - ✓ Worker 3: common_voice_en_18283451.mp3:  There is due in the area.\n",
      "2025-10-07 04:05:33,615 INFO - ✓ Worker 0: common_voice_en_18282779.mp3:  A chocolate wrapper keeps sweets fresh.\n",
      "2025-10-07 04:05:34,126 INFO - ✓ Worker 2: common_voice_en_18282778.mp3:  What are the pros and cons?\n",
      "2025-10-07 04:05:34,419 INFO - ✓ Worker 11: common_voice_en_18283722.mp3:  This is a stub page.\n",
      "2025-10-07 04:05:34,549 INFO - ✓ Worker 9: common_voice_en_18283853.mp3:  He sneaked into the cinema.\n",
      "2025-10-07 04:05:34,632 INFO - ✓ Worker 10: common_voice_en_18283915.mp3:  The Federal Court.\n",
      "2025-10-07 04:05:34,856 INFO - ✓ Worker 5: common_voice_en_18280698.mp3:  Driving tests are nerve-wracking.\n",
      "2025-10-07 04:05:34,934 INFO - ✓ Worker 7: common_voice_en_18283671.mp3:  The evolution of computer science has transformed the world.\n",
      "2025-10-07 04:05:35,245 INFO - ✓ Worker 14: common_voice_en_18283700.mp3:  How does my voice sound?\n",
      "2025-10-07 04:05:35,450 INFO - ✓ Worker 6: common_voice_en_18283711.mp3:  Press the asterisk key after the tone.\n",
      "2025-10-07 04:05:35,616 INFO - ✓ Worker 1: common_voice_en_18282780.mp3:  It is a note point.\n",
      "2025-10-07 04:05:35,704 INFO - ✓ Worker 4: common_voice_en_18280712.mp3:  I suffer from carpal tunnel syndrome.\n",
      "2025-10-07 04:05:36,014 INFO - ✓ Worker 13: common_voice_en_18283980.mp3:  Data is a vital ingredient of training machine learning models.\n",
      "2025-10-07 04:05:36,146 INFO - ✓ Worker 12: common_voice_en_18284188.mp3:  Punxuality was not something he is known for.\n",
      "2025-10-07 04:05:36,259 INFO - ✓ Worker 15: common_voice_en_18283942.mp3:  The issued affidavit was received.\n",
      "2025-10-07 04:05:36,799 INFO - ✓ Worker 8: common_voice_en_18283502.mp3:  I've got an extra large meat lover's pizza without the meat.\n",
      "2025-10-07 04:05:36,826 INFO - ✓ Worker 0: common_voice_en_18283504.mp3:  Don't worry, it's easy.\n",
      "2025-10-07 04:05:37,497 INFO - ✓ Worker 3: common_voice_en_18277353.mp3:  I have a Hispanic background.\n",
      "2025-10-07 04:05:37,861 INFO - ✓ Worker 5: common_voice_en_18284194.mp3:  Let's just get the shot.\n",
      "2025-10-07 04:05:38,305 INFO - ✓ Worker 2: common_voice_en_18285871.mp3:  Want a penny, two a penny, heart cross bonds.\n",
      "2025-10-07 04:05:38,397 INFO - ✓ Worker 13: common_voice_en_18298126.mp3:  at your leisure.\n",
      "2025-10-07 04:05:38,993 INFO - ✓ Worker 6: common_voice_en_18296861.mp3:  It's way too late to go out now.\n",
      "2025-10-07 04:05:39,004 INFO - ✓ Worker 14: common_voice_en_18297990.mp3:  Slice the ubergine.\n",
      "2025-10-07 04:05:39,024 INFO - ✓ Worker 15: common_voice_en_18298804.mp3:  I can't see clearly.\n",
      "2025-10-07 04:05:39,126 INFO - ✓ Worker 1: common_voice_en_18283963.mp3:  Why do you feel you need to make them happy?\n",
      "2025-10-07 04:05:39,148 INFO - ✓ Worker 9: common_voice_en_18283708.mp3:  Do not overtake unless it is safe to do so.\n",
      "2025-10-07 04:05:39,173 INFO - ✓ Worker 7: common_voice_en_18296898.mp3:  A patent attorney is a type of law specializing in intellectual property.\n",
      "2025-10-07 04:05:39,274 INFO - ✓ Worker 11: common_voice_en_18296307.mp3:  I recoiled in horror as I opened the curtains.\n",
      "2025-10-07 04:05:39,280 INFO - ✓ Worker 10: common_voice_en_18294881.mp3:  What is it like to be a passenger in an autonomous car?\n",
      "2025-10-07 04:05:39,345 INFO - ✓ Worker 12: common_voice_en_18297249.mp3:  According to the poet, April is the cruelest month.\n",
      "2025-10-07 04:05:39,358 INFO - ✓ Worker 4: common_voice_en_18296303.mp3:  You can see thousands of stars with the naked eye in the night sky.\n",
      "2025-10-07 04:05:39,428 INFO - ✓ Worker 8: common_voice_en_18296862.mp3:  To advise on patent law, we need the services of an intellectual property specialist.\n"
     ]
    },
    {
     "name": "stderr",
     "output_type": "stream",
     "text": [
      "Downloading batch 53:   2%|▏         | 1/48 [00:00<00:07,  6.15it/s]"
     ]
    },
    {
     "name": "stdout",
     "output_type": "stream",
     "text": [
      "2025-10-07 04:05:40,247 WARNING - Connection pool is full, discarding connection: asrelder-data.s3.amazonaws.com. Connection pool size: 10\n",
      "2025-10-07 04:05:40,256 WARNING - Connection pool is full, discarding connection: asrelder-data.s3.amazonaws.com. Connection pool size: 10\n"
     ]
    },
    {
     "name": "stderr",
     "output_type": "stream",
     "text": [
      "Downloading batch 53:  46%|████▌     | 22/48 [00:00<00:00, 99.69it/s]"
     ]
    },
    {
     "name": "stdout",
     "output_type": "stream",
     "text": [
      "2025-10-07 04:05:40,309 WARNING - Connection pool is full, discarding connection: asrelder-data.s3.amazonaws.com. Connection pool size: 10\n",
      "2025-10-07 04:05:40,310 WARNING - Connection pool is full, discarding connection: asrelder-data.s3.amazonaws.com. Connection pool size: 10\n"
     ]
    },
    {
     "name": "stderr",
     "output_type": "stream",
     "text": [
      "Downloading batch 53:  79%|███████▉  | 38/48 [00:00<00:00, 122.48it/s]"
     ]
    },
    {
     "name": "stdout",
     "output_type": "stream",
     "text": [
      "2025-10-07 04:05:40,380 WARNING - Connection pool is full, discarding connection: asrelder-data.s3.amazonaws.com. Connection pool size: 10\n",
      "2025-10-07 04:05:40,380 WARNING - Connection pool is full, discarding connection: asrelder-data.s3.amazonaws.com. Connection pool size: 10\n",
      "2025-10-07 04:05:40,381 WARNING - Connection pool is full, discarding connection: asrelder-data.s3.amazonaws.com. Connection pool size: 10\n",
      "2025-10-07 04:05:40,391 WARNING - Connection pool is full, discarding connection: asrelder-data.s3.amazonaws.com. Connection pool size: 10\n",
      "2025-10-07 04:05:40,400 WARNING - Connection pool is full, discarding connection: asrelder-data.s3.amazonaws.com. Connection pool size: 10\n",
      "2025-10-07 04:05:40,404 WARNING - Connection pool is full, discarding connection: asrelder-data.s3.amazonaws.com. Connection pool size: 10\n",
      "2025-10-07 04:05:40,404 WARNING - Connection pool is full, discarding connection: asrelder-data.s3.amazonaws.com. Connection pool size: 10\n",
      "2025-10-07 04:05:40,405 WARNING - Connection pool is full, discarding connection: asrelder-data.s3.amazonaws.com. Connection pool size: 10\n"
     ]
    },
    {
     "name": "stderr",
     "output_type": "stream",
     "text": [
      "Downloading batch 53: 100%|██████████| 48/48 [00:00<00:00, 118.47it/s]"
     ]
    },
    {
     "name": "stdout",
     "output_type": "stream",
     "text": [
      "2025-10-07 04:05:40,409 INFO - Transcribing 48 files in parallel...\n"
     ]
    },
    {
     "name": "stderr",
     "output_type": "stream",
     "text": [
      "\n"
     ]
    },
    {
     "name": "stdout",
     "output_type": "stream",
     "text": [
      "2025-10-07 04:05:43,615 INFO - ✓ Worker 5: common_voice_en_18313322.mp3:  I'll go over tomorrow afternoon.\n",
      "2025-10-07 04:05:43,681 INFO - ✓ Worker 13: common_voice_en_18313378.mp3:  The house was built using concrete.\n",
      "2025-10-07 04:05:43,700 INFO - ✓ Worker 3: common_voice_en_18302342.mp3:  Who is the oldest person alive?\n",
      "2025-10-07 04:05:43,760 INFO - ✓ Worker 9: common_voice_en_18313329.mp3:  Banana is full of potassium.\n",
      "2025-10-07 04:05:43,785 INFO - ✓ Worker 0: common_voice_en_18313316.mp3:  I have been doubly baptized.\n",
      "2025-10-07 04:05:43,836 INFO - ✓ Worker 1: common_voice_en_18299316.mp3:  The device has a gyro motor.\n",
      "2025-10-07 04:05:43,862 INFO - ✓ Worker 15: common_voice_en_18302167.mp3:  I'll have a tackle please.\n",
      "2025-10-07 04:05:43,959 INFO - ✓ Worker 2: common_voice_en_18299261.mp3:  The can was made out of aluminium.\n",
      "2025-10-07 04:05:44,188 INFO - ✓ Worker 8: common_voice_en_18299154.mp3:  I pray you will get well soon.\n",
      "2025-10-07 04:05:44,212 INFO - ✓ Worker 14: common_voice_en_18306096.mp3:  New Orleans is recovering from a hurricane.\n",
      "2025-10-07 04:05:44,562 INFO - ✓ Worker 6: common_voice_en_18313327.mp3:  It's a Yankee, John Crive.\n",
      "2025-10-07 04:05:44,685 INFO - ✓ Worker 11: common_voice_en_18302159.mp3:  November is the 11th coming immediately before December.\n",
      "2025-10-07 04:05:44,945 INFO - ✓ Worker 12: common_voice_en_18313328.mp3:  Every Monday, I have to catch the train to work.\n",
      "2025-10-07 04:05:44,966 INFO - ✓ Worker 7: common_voice_en_18298885.mp3:  The squirrel ran up the pine tree in a spiral.\n",
      "2025-10-07 04:05:46,357 INFO - ✓ Worker 5: common_voice_en_18300745.mp3:  Your payment is due.\n",
      "2025-10-07 04:05:46,474 INFO - ✓ Worker 10: common_voice_en_18298848.mp3:  There are several species of horse chestnut tree, all of which bear conquerors.\n",
      "2025-10-07 04:05:46,736 INFO - ✓ Worker 4: common_voice_en_18299194.mp3:  In a spite of his education, he didn't know that 17 was a prime number.\n",
      "2025-10-07 04:05:46,822 INFO - ✓ Worker 0: common_voice_en_18302125.mp3:  This design will be too expensive.\n",
      "2025-10-07 04:05:46,989 INFO - ✓ Worker 8: common_voice_en_18313222.mp3:  I looked in the mirror\n",
      "2025-10-07 04:05:47,241 INFO - ✓ Worker 1: common_voice_en_18313323.mp3:  Ah, it is growing dark and darker.\n",
      "2025-10-07 04:05:47,254 INFO - ✓ Worker 3: common_voice_en_18313333.mp3:  The boy at the wheel lost his head.\n",
      "2025-10-07 04:05:47,609 INFO - ✓ Worker 6: common_voice_en_18298883.mp3:  It is entirely your prerogative.\n",
      "2025-10-07 04:05:47,656 INFO - ✓ Worker 9: common_voice_en_18313587.mp3:  I want to learn zoology.\n",
      "2025-10-07 04:05:48,998 INFO - ✓ Worker 2: common_voice_en_18313330.mp3:  The term robber in British English is what Americans would call a pencil eraser.\n",
      "2025-10-07 04:05:49,631 INFO - ✓ Worker 7: common_voice_en_18313567.mp3:  Rather than eat and drink, he preferred to smoke incessantly.\n",
      "2025-10-07 04:05:49,780 INFO - ✓ Worker 13: common_voice_en_18313555.mp3:  Also, she has forbidden them smoking their pipes in the after room.\n",
      "2025-10-07 04:05:50,149 INFO - ✓ Worker 11: common_voice_en_18313518.mp3:  No, go ahead and tell me, in a straightforward way, what has happened.\n",
      "2025-10-07 04:05:50,180 INFO - ✓ Worker 12: common_voice_en_18313565.mp3:  There were orange-green, gold-green, and a copper-green.\n",
      "2025-10-07 04:05:50,723 INFO - ✓ Worker 3: common_voice_en_18313591.mp3:  Philip knew that she was not an Indian.\n",
      "2025-10-07 04:05:50,906 INFO - ✓ Worker 5: common_voice_en_18314979.mp3:  The Nation of France invented croissants.\n",
      "2025-10-07 04:05:51,259 INFO - ✓ Worker 1: common_voice_en_18313636.mp3:  The pain for my hurt me was agonizing.\n",
      "2025-10-07 04:05:51,344 INFO - ✓ Worker 14: common_voice_en_18313633.mp3:  Like a flash he launched himself into the feathered mass of the owl.\n",
      "2025-10-07 04:05:51,557 INFO - ✓ Worker 15: common_voice_en_18314976.mp3:  She was a brilliant undergraduate who went on to gain first class honors.\n",
      "2025-10-07 04:05:51,824 INFO - ✓ Worker 10: common_voice_en_18313553.mp3:  I can speak French, but I would prefer to be able to speak German.\n",
      "2025-10-07 04:05:52,080 INFO - ✓ Worker 2: common_voice_en_18313554.mp3:  So, how do you explain that?\n",
      "2025-10-07 04:05:52,175 INFO - ✓ Worker 4: common_voice_en_18308068.mp3:  The mincemeat used in mince pies doesn't contain any meat.\n",
      "2025-10-07 04:05:52,279 INFO - ✓ Worker 0: common_voice_en_18314974.mp3:  The sunsets grow more bizarre and spectacular off this coast of the Argentine.\n",
      "2025-10-07 04:05:52,498 INFO - ✓ Worker 6: common_voice_en_18313631.mp3:  At once would be instituted a dozen cooperative commonwealth states.\n",
      "2025-10-07 04:05:52,957 INFO - ✓ Worker 9: common_voice_en_18313634.mp3:  No, I did not fall among these.\n",
      "2025-10-07 04:05:53,127 INFO - ✓ Worker 7: common_voice_en_18315204.mp3:  I would definitely take that with a pinch of salt.\n",
      "2025-10-07 04:05:53,280 INFO - ✓ Worker 12: common_voice_en_18315237.mp3:  Arthur is the employee of the month.\n",
      "2025-10-07 04:05:53,474 INFO - ✓ Worker 11: common_voice_en_18314982.mp3:  All mathematicians know that pi is approximately 3.14.\n",
      "2025-10-07 04:05:53,572 INFO - ✓ Worker 14: common_voice_en_18315205.mp3:  I have no idea replied, Philip.\n",
      "2025-10-07 04:05:53,671 INFO - ✓ Worker 8: common_voice_en_18314981.mp3:  The promoter's eyes were heavy, with little puffy bags under them.\n",
      "2025-10-07 04:05:53,702 INFO - ✓ Worker 13: common_voice_en_18313590.mp3:  Then he hastened on as Pierre had guided him.\n",
      "2025-10-07 04:05:53,828 INFO - ✓ Worker 15: common_voice_en_18314980.mp3:  50 yards ahead of her were the first of the rocks.\n",
      "2025-10-07 04:05:53,860 INFO - ✓ Worker 4: common_voice_en_18314141.mp3:  As for himself, weren't the street railway earnings increasing steadily?\n",
      "2025-10-07 04:05:53,916 INFO - ✓ Worker 10: common_voice_en_18314975.mp3:  It was the third or fourth time that Philip had heard McDougal swear.\n"
     ]
    },
    {
     "name": "stderr",
     "output_type": "stream",
     "text": [
      "Downloading batch 54:  31%|███▏      | 15/48 [00:00<00:00, 70.98it/s]"
     ]
    },
    {
     "name": "stdout",
     "output_type": "stream",
     "text": [
      "2025-10-07 04:05:54,857 WARNING - Connection pool is full, discarding connection: asrelder-data.s3.amazonaws.com. Connection pool size: 10\n",
      "2025-10-07 04:05:54,857 WARNING - Connection pool is full, discarding connection: asrelder-data.s3.amazonaws.com. Connection pool size: 10\n",
      "2025-10-07 04:05:54,858 WARNING - Connection pool is full, discarding connection: asrelder-data.s3.amazonaws.com. Connection pool size: 10\n"
     ]
    },
    {
     "name": "stderr",
     "output_type": "stream",
     "text": [
      "Downloading batch 54:  79%|███████▉  | 38/48 [00:00<00:00, 128.47it/s]"
     ]
    },
    {
     "name": "stdout",
     "output_type": "stream",
     "text": [
      "2025-10-07 04:05:54,864 WARNING - Connection pool is full, discarding connection: asrelder-data.s3.amazonaws.com. Connection pool size: 10\n",
      "2025-10-07 04:05:54,873 WARNING - Connection pool is full, discarding connection: asrelder-data.s3.amazonaws.com. Connection pool size: 10\n",
      "2025-10-07 04:05:54,874 WARNING - Connection pool is full, discarding connection: asrelder-data.s3.amazonaws.com. Connection pool size: 10\n",
      "2025-10-07 04:05:54,877 WARNING - Connection pool is full, discarding connection: asrelder-data.s3.amazonaws.com. Connection pool size: 10\n",
      "2025-10-07 04:05:54,889 WARNING - Connection pool is full, discarding connection: asrelder-data.s3.amazonaws.com. Connection pool size: 10\n",
      "2025-10-07 04:05:54,894 WARNING - Connection pool is full, discarding connection: asrelder-data.s3.amazonaws.com. Connection pool size: 10\n",
      "2025-10-07 04:05:54,923 WARNING - Connection pool is full, discarding connection: asrelder-data.s3.amazonaws.com. Connection pool size: 10\n"
     ]
    },
    {
     "name": "stderr",
     "output_type": "stream",
     "text": [
      "Downloading batch 54: 100%|██████████| 48/48 [00:00<00:00, 111.02it/s]"
     ]
    },
    {
     "name": "stdout",
     "output_type": "stream",
     "text": [
      "2025-10-07 04:05:54,926 INFO - Transcribing 48 files in parallel...\n"
     ]
    },
    {
     "name": "stderr",
     "output_type": "stream",
     "text": [
      "\n"
     ]
    },
    {
     "name": "stdout",
     "output_type": "stream",
     "text": [
      "2025-10-07 04:05:58,354 INFO - ✓ Worker 8: common_voice_en_18318155.mp3:  Haven't you read the high record?\n",
      "2025-10-07 04:05:58,796 INFO - ✓ Worker 14: common_voice_en_18319568.mp3:  He confessed that the sketch had started with him.\n",
      "2025-10-07 04:05:58,837 INFO - ✓ Worker 7: common_voice_en_18317047.mp3:  It is merely the simplest superlative.\n",
      "2025-10-07 04:05:58,907 INFO - ✓ Worker 6: common_voice_en_18317865.mp3:  It was like the beating of hoofs.\n",
      "2025-10-07 04:05:59,034 INFO - ✓ Worker 9: common_voice_en_18317053.mp3:  It was Jan singing softly over Beyond the Rocks.\n",
      "2025-10-07 04:05:59,097 INFO - ✓ Worker 3: common_voice_en_18317056.mp3:  Here the Indian dogs wailing down a Churchill.\n",
      "2025-10-07 04:05:59,442 INFO - ✓ Worker 13: common_voice_en_18318182.mp3:  I am writing these lines in Honolulu, Hawaii.\n",
      "2025-10-07 04:05:59,447 INFO - ✓ Worker 10: common_voice_en_18319602.mp3:  I came for information more out of curiosity than anything else.\n",
      "2025-10-07 04:05:59,449 INFO - ✓ Worker 2: common_voice_en_18315394.mp3:  I just do appreciate it without being able to express my feelings.\n",
      "2025-10-07 04:05:59,459 INFO - ✓ Worker 11: common_voice_en_18319621.mp3:  And Raul will listen again to the tale of the house.\n",
      "2025-10-07 04:05:59,702 INFO - ✓ Worker 15: common_voice_en_18317923.mp3:  At times I wondered where Sir Archibald got his style.\n",
      "2025-10-07 04:06:00,038 INFO - ✓ Worker 4: common_voice_en_18317733.mp3:  I'm not sure. I think the chances are about 50-50.\n",
      "2025-10-07 04:06:00,142 INFO - ✓ Worker 1: common_voice_en_18317049.mp3:  In the Bohemian Club of San Francisco, there are some crack sailors.\n",
      "2025-10-07 04:06:00,504 INFO - ✓ Worker 5: common_voice_en_18318162.mp3:  If you take the hand break off, the card is likely to roll away.\n",
      "2025-10-07 04:06:00,745 INFO - ✓ Worker 12: common_voice_en_18317058.mp3:  The Dirk mentioned by Wolf Larsen, rested in its sheath on my hip.\n",
      "2025-10-07 04:06:00,793 INFO - ✓ Worker 0: common_voice_en_18315415.mp3:  Heavy snowfalls that winter made the roads impossible by late February.\n",
      "2025-10-07 04:06:03,243 INFO - ✓ Worker 3: common_voice_en_18317835.mp3:  I can't argue with you and you know that.\n",
      "2025-10-07 04:06:03,467 INFO - ✓ Worker 7: common_voice_en_18319657.mp3:  A red queen will live 6 impossible things before breakfast.\n",
      "2025-10-07 04:06:03,487 INFO - ✓ Worker 9: common_voice_en_18319711.mp3:  Broken tooth yelled with fright and pain.\n",
      "2025-10-07 04:06:03,502 INFO - ✓ Worker 2: common_voice_en_18318176.mp3:  The voyage was our idea of a good time.\n",
      "2025-10-07 04:06:04,003 INFO - ✓ Worker 6: common_voice_en_18319836.mp3:  There was nothing for us but the wide, raw ocean.\n",
      "2025-10-07 04:06:04,082 INFO - ✓ Worker 10: common_voice_en_18317059.mp3:  Hear the explosion of Murth drowned him out.\n",
      "2025-10-07 04:06:04,490 INFO - ✓ Worker 1: common_voice_en_18319719.mp3:  Next to them, the candidates chose the most persistent.\n",
      "2025-10-07 04:06:04,725 INFO - ✓ Worker 8: common_voice_en_18319831.mp3:  On the four corner of the compound fence, a hawk brooded.\n",
      "2025-10-07 04:06:05,010 INFO - ✓ Worker 12: common_voice_en_18319868.mp3:  The customer is always right, or so it is said.\n",
      "2025-10-07 04:06:05,229 INFO - ✓ Worker 4: common_voice_en_18319617.mp3:  He cried in such genuine dismay that she broke into hearty laughter.\n",
      "2025-10-07 04:06:05,378 INFO - ✓ Worker 11: common_voice_en_18319861.mp3:  A combination of Canadian capital quickly organized and petitioned for the same privileges.\n",
      "2025-10-07 04:06:05,476 INFO - ✓ Worker 15: common_voice_en_18319883.mp3:  Mrs. McFee's jaws brought together with a snap.\n",
      "2025-10-07 04:06:05,516 INFO - ✓ Worker 5: common_voice_en_18315478.mp3:  She loved science and at school, physics and mathematics were her favourite subjects.\n",
      "2025-10-07 04:06:05,756 INFO - ✓ Worker 0: common_voice_en_18319619.mp3:  That's why its boundaries are all gouged and jagged.\n",
      "2025-10-07 04:06:05,814 INFO - ✓ Worker 13: common_voice_en_18319867.mp3:  Lucy has two sisters and three brothers, all of whom love the countryside.\n",
      "2025-10-07 04:06:06,596 INFO - ✓ Worker 14: common_voice_en_18319851.mp3:  He unfolded a long, typewritten letter and handed it to Gregson.\n",
      "2025-10-07 04:06:06,920 INFO - ✓ Worker 3: common_voice_en_18319884.mp3:  There was a tear on her eyes.\n",
      "2025-10-07 04:06:07,835 INFO - ✓ Worker 2: common_voice_en_18319881.mp3:  Fiber Optics enable ultra-fast internet.\n",
      "2025-10-07 04:06:08,174 INFO - ✓ Worker 10: common_voice_en_18319929.mp3:  Also, I want information.\n",
      "2025-10-07 04:06:08,186 INFO - ✓ Worker 8: common_voice_en_18319892.mp3:  The date was nearly 18 years old.\n",
      "2025-10-07 04:06:08,289 INFO - ✓ Worker 6: common_voice_en_18319923.mp3:  I want to know how all this is possible.\n",
      "2025-10-07 04:06:08,842 INFO - ✓ Worker 7: common_voice_en_18319924.mp3:  He turned sharply and faced Gregson across the table.\n",
      "2025-10-07 04:06:08,868 INFO - ✓ Worker 1: common_voice_en_18319833.mp3:  He was a head shorter than his companion of almost delicate physique.\n",
      "2025-10-07 04:06:09,078 INFO - ✓ Worker 4: common_voice_en_18319842.mp3:  The Ascent of Everest was his life's ambition.\n",
      "2025-10-07 04:06:09,185 INFO - ✓ Worker 15: common_voice_en_18319930.mp3:  The issue was not in doubt.\n",
      "2025-10-07 04:06:09,277 INFO - ✓ Worker 11: common_voice_en_18319926.mp3:  A month passed by and Bonanza Creek remained quiet.\n",
      "2025-10-07 04:06:09,281 INFO - ✓ Worker 0: common_voice_en_18319846.mp3:  And each year something happened, and I did not go.\n",
      "2025-10-07 04:06:09,442 INFO - ✓ Worker 9: common_voice_en_18319889.mp3:  There was pride and strength, the ring of triumph in his voice.\n",
      "2025-10-07 04:06:09,452 INFO - ✓ Worker 12: common_voice_en_18319922.mp3:  He asked if you could borrow her umbrella for an hour or two.\n",
      "2025-10-07 04:06:09,481 INFO - ✓ Worker 13: common_voice_en_18319925.mp3:  Her mother made money by working day and night for over a year.\n",
      "2025-10-07 04:06:09,506 INFO - ✓ Worker 14: common_voice_en_18319645.mp3:  author of the danger trail, Philip Steels, etc.\n",
      "2025-10-07 04:06:09,514 INFO - ✓ Worker 5: common_voice_en_18319928.mp3:  Fizzy drinks often have a lot of sugar and are bad for your teeth.\n"
     ]
    },
    {
     "name": "stderr",
     "output_type": "stream",
     "text": [
      "Downloading batch 55:   2%|▏         | 1/48 [00:00<00:08,  5.79it/s]"
     ]
    },
    {
     "name": "stdout",
     "output_type": "stream",
     "text": [
      "2025-10-07 04:06:10,367 WARNING - Connection pool is full, discarding connection: asrelder-data.s3.amazonaws.com. Connection pool size: 10\n"
     ]
    },
    {
     "name": "stderr",
     "output_type": "stream",
     "text": [
      "Downloading batch 55:  44%|████▍     | 21/48 [00:00<00:00, 93.13it/s]"
     ]
    },
    {
     "name": "stdout",
     "output_type": "stream",
     "text": [
      "2025-10-07 04:06:10,368 WARNING - Connection pool is full, discarding connection: asrelder-data.s3.amazonaws.com. Connection pool size: 10\n",
      "2025-10-07 04:06:10,467 WARNING - Connection pool is full, discarding connection: asrelder-data.s3.amazonaws.com. Connection pool size: 10\n",
      "2025-10-07 04:06:10,480 WARNING - Connection pool is full, discarding connection: asrelder-data.s3.amazonaws.com. Connection pool size: 10\n"
     ]
    },
    {
     "name": "stderr",
     "output_type": "stream",
     "text": [
      "Downloading batch 55:  88%|████████▊ | 42/48 [00:00<00:00, 132.71it/s]"
     ]
    },
    {
     "name": "stdout",
     "output_type": "stream",
     "text": [
      "2025-10-07 04:06:10,484 WARNING - Connection pool is full, discarding connection: asrelder-data.s3.amazonaws.com. Connection pool size: 10\n",
      "2025-10-07 04:06:10,490 WARNING - Connection pool is full, discarding connection: asrelder-data.s3.amazonaws.com. Connection pool size: 10\n",
      "2025-10-07 04:06:10,495 WARNING - Connection pool is full, discarding connection: asrelder-data.s3.amazonaws.com. Connection pool size: 10\n",
      "2025-10-07 04:06:10,515 WARNING - Connection pool is full, discarding connection: asrelder-data.s3.amazonaws.com. Connection pool size: 10\n",
      "2025-10-07 04:06:10,557 WARNING - Connection pool is full, discarding connection: asrelder-data.s3.amazonaws.com. Connection pool size: 10\n",
      "2025-10-07 04:06:10,663 WARNING - Connection pool is full, discarding connection: asrelder-data.s3.amazonaws.com. Connection pool size: 10\n"
     ]
    },
    {
     "name": "stderr",
     "output_type": "stream",
     "text": [
      "Downloading batch 55: 100%|██████████| 48/48 [00:00<00:00, 84.30it/s] "
     ]
    },
    {
     "name": "stdout",
     "output_type": "stream",
     "text": [
      "2025-10-07 04:06:10,666 INFO - Transcribing 48 files in parallel...\n"
     ]
    },
    {
     "name": "stderr",
     "output_type": "stream",
     "text": [
      "\n"
     ]
    },
    {
     "name": "stdout",
     "output_type": "stream",
     "text": [
      "2025-10-07 04:06:14,387 INFO - ✓ Worker 13: common_voice_en_18322791.mp3:  Laughter echoed through the circus.\n",
      "2025-10-07 04:06:14,533 INFO - ✓ Worker 9: common_voice_en_18319981.mp3:  My friend lives at 61 Main Street.\n",
      "2025-10-07 04:06:14,633 INFO - ✓ Worker 11: common_voice_en_18319991.mp3:  The boy Orion was specially maltreated.\n",
      "2025-10-07 04:06:14,659 INFO - ✓ Worker 8: common_voice_en_18321185.mp3:  Segs on, on to her, yo.\n",
      "2025-10-07 04:06:14,846 INFO - ✓ Worker 10: common_voice_en_18319972.mp3:  The Italian Rancho was a bachelor establishment.\n",
      "2025-10-07 04:06:14,921 INFO - ✓ Worker 7: common_voice_en_18319951.mp3:  All right, so reply jock with great regret.\n",
      "2025-10-07 04:06:15,038 INFO - ✓ Worker 5: common_voice_en_18319963.mp3:  She added with genuine sympathy in her face and voice.\n",
      "2025-10-07 04:06:15,102 INFO - ✓ Worker 1: common_voice_en_18319931.mp3:  My uncle was a member of the Territorial Army.\n",
      "2025-10-07 04:06:15,217 INFO - ✓ Worker 14: common_voice_en_18322797.mp3:  Dig in, you're sure good was Daylight's answer.\n",
      "2025-10-07 04:06:15,360 INFO - ✓ Worker 15: common_voice_en_18319976.mp3:  If not, let's see our prayers and go to bed.\n",
      "2025-10-07 04:06:15,375 INFO - ✓ Worker 12: common_voice_en_18320517.mp3:  I should like to engage just for one whole life in that.\n",
      "2025-10-07 04:06:15,475 INFO - ✓ Worker 0: common_voice_en_18319950.mp3:  The victim was asked to identify the thief at a police identity parade.\n",
      "2025-10-07 04:06:15,538 INFO - ✓ Worker 3: common_voice_en_18321178.mp3:  Brickson shoved back his shield and rose to his feet.\n",
      "2025-10-07 04:06:15,581 INFO - ✓ Worker 6: common_voice_en_18322788.mp3:  There are no kitties and half grown youths among them.\n",
      "2025-10-07 04:06:15,812 INFO - ✓ Worker 4: common_voice_en_18322785.mp3:  Captain West may be a samurai, but he is also human.\n",
      "2025-10-07 04:06:16,297 INFO - ✓ Worker 2: common_voice_en_18319961.mp3:  The school's head teacher may be a headmaster or a head mistress.\n",
      "2025-10-07 04:06:19,090 INFO - ✓ Worker 7: common_voice_en_18322787.mp3:  Also, at regular intervals, he would mutter.\n",
      "2025-10-07 04:06:19,187 INFO - ✓ Worker 2: common_voice_en_18319974.mp3:  It was a superb picture.\n",
      "2025-10-07 04:06:19,281 INFO - ✓ Worker 6: common_voice_en_18320419.mp3:  See, you're better than Bruce now.\n",
      "2025-10-07 04:06:19,400 INFO - ✓ Worker 0: common_voice_en_18320475.mp3:  Her beautiful hair was done up in shining coils.\n",
      "2025-10-07 04:06:19,675 INFO - ✓ Worker 12: common_voice_en_18322856.mp3:  He moved his position and the illusion was gone.\n",
      "2025-10-07 04:06:19,912 INFO - ✓ Worker 10: common_voice_en_18322859.mp3:  The news agent's bestseller was the Daily Mail.\n",
      "2025-10-07 04:06:19,934 INFO - ✓ Worker 3: common_voice_en_18320516.mp3:  All these day, Gregson remained in the cabin.\n",
      "2025-10-07 04:06:19,967 INFO - ✓ Worker 1: common_voice_en_18319980.mp3:  There was one chance, and only one, my seven June.\n",
      "2025-10-07 04:06:20,209 INFO - ✓ Worker 14: common_voice_en_18322857.mp3:  He bore no grudges and had few enemies.\n",
      "2025-10-07 04:06:20,356 INFO - ✓ Worker 8: common_voice_en_18322847.mp3:  The steward has just hindered me a respectful bit of advice.\n",
      "2025-10-07 04:06:20,448 INFO - ✓ Worker 4: common_voice_en_18322800.mp3:  He leapt again and the club caught him once more.\n",
      "2025-10-07 04:06:21,045 INFO - ✓ Worker 5: common_voice_en_18321289.mp3:  Philip, bad lord, and he's telling you the face of a dead man.\n",
      "2025-10-07 04:06:21,053 INFO - ✓ Worker 9: common_voice_en_18320391.mp3:  Philip took a step toward Gregson, half determined to awaken him.\n",
      "2025-10-07 04:06:21,266 INFO - ✓ Worker 15: common_voice_en_18322872.mp3:  He couldn't tell me the difference between Scots and Scottish.\n",
      "2025-10-07 04:06:21,582 INFO - ✓ Worker 11: common_voice_en_18322866.mp3:  The flower rhoda at the village church was maintained by the local parishioners.\n",
      "2025-10-07 04:06:22,334 INFO - ✓ Worker 13: common_voice_en_18322848.mp3:  Down through the perfumed waded air, fluttered the snowy fluff of the cotton woods.\n",
      "2025-10-07 04:06:22,784 INFO - ✓ Worker 0: common_voice_en_18322869.mp3:  The Eastern Heavens were equally spectacular.\n",
      "2025-10-07 04:06:22,994 INFO - ✓ Worker 2: common_voice_en_18322849.mp3:  His blood grew hot with rage at the thought.\n",
      "2025-10-07 04:06:23,007 INFO - ✓ Worker 6: common_voice_en_18322878.mp3:  Engine oil regularly needs changing.\n",
      "2025-10-07 04:06:23,687 INFO - ✓ Worker 7: common_voice_en_18322905.mp3:  His slim fingers close like steel about Phillips.\n",
      "2025-10-07 04:06:24,147 INFO - ✓ Worker 4: common_voice_en_18322889.mp3:  He was pressing beyond the limits of his vocabulary.\n",
      "2025-10-07 04:06:24,227 INFO - ✓ Worker 1: common_voice_en_18322850.mp3:  His abnormal power of vision made abstractions take on concrete form.\n",
      "2025-10-07 04:06:24,352 INFO - ✓ Worker 5: common_voice_en_18322870.mp3:  The only way to fly is first class.\n",
      "2025-10-07 04:06:24,435 INFO - ✓ Worker 10: common_voice_en_18322879.mp3:  And after the bath, a shave would not be bad.\n",
      "2025-10-07 04:06:24,453 INFO - ✓ Worker 8: common_voice_en_18322868.mp3:  A chartered accountant is authorized to certify financial statements.\n",
      "2025-10-07 04:06:24,482 INFO - ✓ Worker 3: common_voice_en_18322874.mp3:  He is a candidate rising from the surf class to our class.\n",
      "2025-10-07 04:06:24,490 INFO - ✓ Worker 13: common_voice_en_18322873.mp3:  The frog hopped around.\n",
      "2025-10-07 04:06:24,583 INFO - ✓ Worker 11: common_voice_en_18322880.mp3:  Blind with rage, he darted in.\n",
      "2025-10-07 04:06:24,771 INFO - ✓ Worker 9: common_voice_en_18322914.mp3:  Behind him laid the thousand years long road across all Sabir and Russia.\n",
      "2025-10-07 04:06:24,772 INFO - ✓ Worker 12: common_voice_en_18322922.mp3:  Arise, while truth of him, as he came up the bank.\n",
      "2025-10-07 04:06:24,842 INFO - ✓ Worker 14: common_voice_en_18322901.mp3:  It was put together in a carol, helped us kill to sort of wait.\n",
      "2025-10-07 04:06:24,884 INFO - ✓ Worker 15: common_voice_en_18322921.mp3:  She is essentially the life-giving, life-conserving female of the species.\n",
      "2025-10-07 04:06:24,891 INFO - Appended 240 rows to ./transcripts_from_prefix.csv\n"
     ]
    },
    {
     "name": "stderr",
     "output_type": "stream",
     "text": [
      "Downloading batch 56:   2%|▏         | 1/48 [00:00<00:09,  5.07it/s]"
     ]
    },
    {
     "name": "stdout",
     "output_type": "stream",
     "text": [
      "2025-10-07 04:06:25,776 WARNING - Connection pool is full, discarding connection: asrelder-data.s3.amazonaws.com. Connection pool size: 10\n"
     ]
    },
    {
     "name": "stderr",
     "output_type": "stream",
     "text": [
      "Downloading batch 56:  40%|███▉      | 19/48 [00:00<00:00, 76.85it/s]"
     ]
    },
    {
     "name": "stdout",
     "output_type": "stream",
     "text": [
      "2025-10-07 04:06:25,784 WARNING - Connection pool is full, discarding connection: asrelder-data.s3.amazonaws.com. Connection pool size: 10\n",
      "2025-10-07 04:06:25,806 WARNING - Connection pool is full, discarding connection: asrelder-data.s3.amazonaws.com. Connection pool size: 10\n",
      "2025-10-07 04:06:25,807 WARNING - Connection pool is full, discarding connection: asrelder-data.s3.amazonaws.com. Connection pool size: 10\n",
      "2025-10-07 04:06:25,810 WARNING - Connection pool is full, discarding connection: asrelder-data.s3.amazonaws.com. Connection pool size: 10\n",
      "2025-10-07 04:06:25,811 WARNING - Connection pool is full, discarding connection: asrelder-data.s3.amazonaws.com. Connection pool size: 10\n",
      "2025-10-07 04:06:25,818 WARNING - Connection pool is full, discarding connection: asrelder-data.s3.amazonaws.com. Connection pool size: 10\n",
      "2025-10-07 04:06:25,865 WARNING - Connection pool is full, discarding connection: asrelder-data.s3.amazonaws.com. Connection pool size: 10\n",
      "2025-10-07 04:06:25,868 WARNING - Connection pool is full, discarding connection: asrelder-data.s3.amazonaws.com. Connection pool size: 10\n",
      "2025-10-07 04:06:25,869 WARNING - Connection pool is full, discarding connection: asrelder-data.s3.amazonaws.com. Connection pool size: 10\n",
      "2025-10-07 04:06:25,873 WARNING - Connection pool is full, discarding connection: asrelder-data.s3.amazonaws.com. Connection pool size: 10\n",
      "2025-10-07 04:06:25,877 WARNING - Connection pool is full, discarding connection: asrelder-data.s3.amazonaws.com. Connection pool size: 10\n"
     ]
    },
    {
     "name": "stderr",
     "output_type": "stream",
     "text": [
      "Downloading batch 56:  98%|█████████▊| 47/48 [00:00<00:00, 150.71it/s]"
     ]
    },
    {
     "name": "stdout",
     "output_type": "stream",
     "text": [
      "2025-10-07 04:06:25,919 WARNING - Connection pool is full, discarding connection: asrelder-data.s3.amazonaws.com. Connection pool size: 10\n"
     ]
    },
    {
     "name": "stderr",
     "output_type": "stream",
     "text": [
      "Downloading batch 56: 100%|██████████| 48/48 [00:00<00:00, 107.41it/s]"
     ]
    },
    {
     "name": "stdout",
     "output_type": "stream",
     "text": [
      "2025-10-07 04:06:25,921 INFO - Transcribing 48 files in parallel...\n"
     ]
    },
    {
     "name": "stderr",
     "output_type": "stream",
     "text": [
      "\n"
     ]
    },
    {
     "name": "stdout",
     "output_type": "stream",
     "text": [
      "2025-10-07 04:06:29,007 INFO - ✓ Worker 9: common_voice_en_18324946.mp3:  The Falcon washed its prey.\n",
      "2025-10-07 04:06:29,088 INFO - ✓ Worker 12: common_voice_en_18325965.mp3:  I know they are my oysters.\n",
      "2025-10-07 04:06:29,233 INFO - ✓ Worker 11: common_voice_en_18324747.mp3:  But it contributed to this mash.\n",
      "2025-10-07 04:06:29,346 INFO - ✓ Worker 3: common_voice_en_18324984.mp3:  There were 8 people in that role.\n",
      "2025-10-07 04:06:29,543 INFO - ✓ Worker 13: common_voice_en_18322924.mp3:  Doctors write out many prescriptions for patients.\n",
      "2025-10-07 04:06:29,647 INFO - ✓ Worker 7: common_voice_en_18324760.mp3:  The cheese omelet was burned badly.\n",
      "2025-10-07 04:06:29,902 INFO - ✓ Worker 1: common_voice_en_18323083.mp3:  I love the beautiful colors of autumn, particularly September.\n",
      "2025-10-07 04:06:29,968 INFO - ✓ Worker 0: common_voice_en_18324699.mp3:  Please do not think that I already know it all.\n",
      "2025-10-07 04:06:29,980 INFO - ✓ Worker 4: common_voice_en_18325326.mp3:  A cafeteria is a very convenient device for making coffee.\n",
      "2025-10-07 04:06:29,995 INFO - ✓ Worker 2: common_voice_en_18323111.mp3:  Fish and chips is a very traditional British meal.\n",
      "2025-10-07 04:06:30,132 INFO - ✓ Worker 10: common_voice_en_18325219.mp3:  The Python programming language has become very popular nowadays.\n",
      "2025-10-07 04:06:30,178 INFO - ✓ Worker 15: common_voice_en_18324766.mp3:  Shooting pains past like flashes of electricity through his body.\n",
      "2025-10-07 04:06:30,285 INFO - ✓ Worker 14: common_voice_en_18323103.mp3:  According to the label, Heinz has 57 varieties.\n",
      "2025-10-07 04:06:31,057 INFO - ✓ Worker 6: common_voice_en_18324765.mp3:  The Heimlich maneuver is a lifesaving first aid technique.\n",
      "2025-10-07 04:06:31,612 INFO - ✓ Worker 8: common_voice_en_18324992.mp3:  She wasn't able to go swimming as she had the ruckus on her foot.\n",
      "2025-10-07 04:06:32,054 INFO - ✓ Worker 5: common_voice_en_18323081.mp3:  If you're going camping, don't forget to pack your towel, flannel and pajamas.\n",
      "2025-10-07 04:06:32,498 INFO - ✓ Worker 0: common_voice_en_18325090.mp3:  And here is another idea.\n",
      "2025-10-07 04:06:32,781 INFO - ✓ Worker 7: common_voice_en_18324770.mp3:  It's that much junk.\n",
      "2025-10-07 04:06:32,870 INFO - ✓ Worker 2: common_voice_en_18325197.mp3:  He is the Duke of Edinburgh\n",
      "2025-10-07 04:06:33,549 INFO - ✓ Worker 4: common_voice_en_18325926.mp3:  And so early in the voyage too.\n",
      "2025-10-07 04:06:34,155 INFO - ✓ Worker 1: common_voice_en_18323095.mp3:  He had peeled off his shirt and was wildly waving it.\n",
      "2025-10-07 04:06:34,395 INFO - ✓ Worker 12: common_voice_en_18326309.mp3:  Suppose you saw me at work through the window.\n",
      "2025-10-07 04:06:34,795 INFO - ✓ Worker 3: common_voice_en_18325968.mp3:  The youth have time but no money and adults have money but no time.\n",
      "2025-10-07 04:06:35,004 INFO - ✓ Worker 11: common_voice_en_18325815.mp3:  But to culture the revolution thus far had exhausted the Janta.\n",
      "2025-10-07 04:06:35,019 INFO - ✓ Worker 10: common_voice_en_18326291.mp3:  Instead, he joined her, and they ate like two hungry children.\n",
      "2025-10-07 04:06:35,285 INFO - ✓ Worker 9: common_voice_en_18326295.mp3:  The shopping trolley provided by Tesco had very wonky castors.\n",
      "2025-10-07 04:06:35,443 INFO - ✓ Worker 13: common_voice_en_18326382.mp3:  Perifin is the British name for kerosene.\n",
      "2025-10-07 04:06:36,271 INFO - ✓ Worker 6: common_voice_en_18326036.mp3:  The British speed limit on a dual carriageway is 70 miles an hour.\n",
      "2025-10-07 04:06:36,449 INFO - ✓ Worker 14: common_voice_en_18325987.mp3:  Emma takes her summer holidays in June, finding it too hot in August.\n",
      "2025-10-07 04:06:37,032 INFO - ✓ Worker 5: common_voice_en_18324935.mp3:  The skippers and Nakata's gymnastics served as a translation without words.\n",
      "2025-10-07 04:06:37,101 INFO - ✓ Worker 2: common_voice_en_18326290.mp3:  And there's never before he was ready to obey.\n",
      "2025-10-07 04:06:37,505 INFO - ✓ Worker 8: common_voice_en_18325947.mp3:  A crotchet, pronounced with the T, is equivalent to a quarter note.\n",
      "2025-10-07 04:06:37,506 INFO - ✓ Worker 1: common_voice_en_18326313.mp3:  I'd sooner have my chips back.\n",
      "2025-10-07 04:06:37,724 INFO - ✓ Worker 15: common_voice_en_18326336.mp3:  Genealogy, otherwise known as family history, is an extremely popular hobby.\n",
      "2025-10-07 04:06:37,769 INFO - ✓ Worker 0: common_voice_en_18326381.mp3:  It was pitch black and they needed a torch to see where they were.\n",
      "2025-10-07 04:06:38,605 INFO - ✓ Worker 3: common_voice_en_18326380.mp3:  For two hours, not a word passed between them.\n",
      "2025-10-07 04:06:38,618 INFO - ✓ Worker 4: common_voice_en_18326345.mp3:  How can the government run the country if they ignore families?\n",
      "2025-10-07 04:06:39,215 INFO - ✓ Worker 10: common_voice_en_18326955.mp3:  Providence had delivered him through the mouth's drum.\n",
      "2025-10-07 04:06:39,562 INFO - ✓ Worker 5: common_voice_en_18326462.mp3:  I can see that knife now.\n",
      "2025-10-07 04:06:39,641 INFO - ✓ Worker 6: common_voice_en_18326416.mp3:  But life's worth more than cash, she argued.\n",
      "2025-10-07 04:06:39,699 INFO - ✓ Worker 7: common_voice_en_18326964.mp3:  Creative Commons is an organization that provides open copyright licenses.\n",
      "2025-10-07 04:06:39,795 INFO - ✓ Worker 11: common_voice_en_18326929.mp3:  I was beneath the border, suffocating and drowning.\n",
      "2025-10-07 04:06:39,841 INFO - ✓ Worker 12: common_voice_en_18326931.mp3:  Not till the trendiest of May did the river break.\n",
      "2025-10-07 04:06:39,864 INFO - ✓ Worker 15: common_voice_en_18326517.mp3:  A car must be regularly serviced.\n",
      "2025-10-07 04:06:39,907 INFO - ✓ Worker 9: common_voice_en_18326924.mp3:  The typical holiday maker in the 1950s would often go to a seaside resort.\n",
      "2025-10-07 04:06:39,912 INFO - ✓ Worker 14: common_voice_en_18326472.mp3:  Miss Brody's smile was slightly sarcastic.\n",
      "2025-10-07 04:06:39,967 INFO - ✓ Worker 8: common_voice_en_18326954.mp3:  All operations have been carried on from Montreal and Toronto.\n",
      "2025-10-07 04:06:39,974 INFO - ✓ Worker 13: common_voice_en_18326920.mp3:  There weren't any missions, and he was the man to know.\n"
     ]
    },
    {
     "name": "stderr",
     "output_type": "stream",
     "text": [
      "Downloading batch 57:  42%|████▏     | 20/48 [00:00<00:00, 93.96it/s]"
     ]
    },
    {
     "name": "stdout",
     "output_type": "stream",
     "text": [
      "2025-10-07 04:06:40,929 WARNING - Connection pool is full, discarding connection: asrelder-data.s3.amazonaws.com. Connection pool size: 10\n",
      "2025-10-07 04:06:40,930 WARNING - Connection pool is full, discarding connection: asrelder-data.s3.amazonaws.com. Connection pool size: 10\n"
     ]
    },
    {
     "name": "stderr",
     "output_type": "stream",
     "text": [
      "Downloading batch 57:  83%|████████▎ | 40/48 [00:00<00:00, 134.85it/s]"
     ]
    },
    {
     "name": "stdout",
     "output_type": "stream",
     "text": [
      "2025-10-07 04:06:40,935 WARNING - Connection pool is full, discarding connection: asrelder-data.s3.amazonaws.com. Connection pool size: 10\n",
      "2025-10-07 04:06:40,937 WARNING - Connection pool is full, discarding connection: asrelder-data.s3.amazonaws.com. Connection pool size: 10\n",
      "2025-10-07 04:06:40,940 WARNING - Connection pool is full, discarding connection: asrelder-data.s3.amazonaws.com. Connection pool size: 10\n",
      "2025-10-07 04:06:40,953 WARNING - Connection pool is full, discarding connection: asrelder-data.s3.amazonaws.com. Connection pool size: 10\n",
      "2025-10-07 04:06:40,956 WARNING - Connection pool is full, discarding connection: asrelder-data.s3.amazonaws.com. Connection pool size: 10\n",
      "2025-10-07 04:06:40,962 WARNING - Connection pool is full, discarding connection: asrelder-data.s3.amazonaws.com. Connection pool size: 10\n",
      "2025-10-07 04:06:40,975 WARNING - Connection pool is full, discarding connection: asrelder-data.s3.amazonaws.com. Connection pool size: 10\n"
     ]
    },
    {
     "name": "stderr",
     "output_type": "stream",
     "text": [
      "Downloading batch 57: 100%|██████████| 48/48 [00:00<00:00, 118.68it/s]"
     ]
    },
    {
     "name": "stdout",
     "output_type": "stream",
     "text": [
      "2025-10-07 04:06:40,977 INFO - Transcribing 48 files in parallel...\n"
     ]
    },
    {
     "name": "stderr",
     "output_type": "stream",
     "text": [
      "\n"
     ]
    },
    {
     "name": "stdout",
     "output_type": "stream",
     "text": [
      "2025-10-07 04:06:43,849 INFO - ✓ Worker 4: common_voice_en_18326977.mp3:  18, he added.\n",
      "2025-10-07 04:06:43,993 INFO - ✓ Worker 14: common_voice_en_18326981.mp3:  He can care for himself.\n",
      "2025-10-07 04:06:44,099 INFO - ✓ Worker 9: common_voice_en_18329026.mp3:  Then there was the campaign.\n",
      "2025-10-07 04:06:44,162 INFO - ✓ Worker 10: common_voice_en_18327067.mp3:  Everybody carries a mobile phone nowadays.\n",
      "2025-10-07 04:06:44,207 INFO - ✓ Worker 15: common_voice_en_18330554.mp3:  Everything seems to happen on Tuesday.\n",
      "2025-10-07 04:06:44,395 INFO - ✓ Worker 3: common_voice_en_18326997.mp3:  Famine had been my great ally.\n",
      "2025-10-07 04:06:44,403 INFO - ✓ Worker 8: common_voice_en_18326990.mp3:  Fit a bento over here.\n",
      "2025-10-07 04:06:44,612 INFO - ✓ Worker 11: common_voice_en_18330546.mp3:  Now it was missing from the wall.\n",
      "2025-10-07 04:06:44,699 INFO - ✓ Worker 1: common_voice_en_18326971.mp3:  Separate the yolk from the egg.\n",
      "2025-10-07 04:06:44,843 INFO - ✓ Worker 0: common_voice_en_18326982.mp3:  Perfect is the enemy of the good.\n",
      "2025-10-07 04:06:45,028 INFO - ✓ Worker 2: common_voice_en_18326967.mp3:  Peter felt sick and leaned heavily on the table.\n",
      "2025-10-07 04:06:45,470 INFO - ✓ Worker 5: common_voice_en_18328923.mp3:  By that answer, my professional medical prestige stood or fell.\n",
      "2025-10-07 04:06:45,607 INFO - ✓ Worker 13: common_voice_en_18327060.mp3:  Now, Irvin was a man of impulse, a poet.\n",
      "2025-10-07 04:06:45,736 INFO - ✓ Worker 7: common_voice_en_18326969.mp3:  After buying those shoes, I ended up with an overdraft.\n",
      "2025-10-07 04:06:45,783 INFO - ✓ Worker 6: common_voice_en_18326980.mp3:  People who whisper all the time can be very irritating.\n",
      "2025-10-07 04:06:46,231 INFO - ✓ Worker 12: common_voice_en_18329774.mp3:  Young children often like to eat fish fingers, chips and baked beans.\n",
      "2025-10-07 04:06:47,793 INFO - ✓ Worker 10: common_voice_en_18330584.mp3:  Dear Mr. Thompson.\n",
      "2025-10-07 04:06:48,060 INFO - ✓ Worker 3: common_voice_en_18330087.mp3:  Harry has always been very good at assessing risk.\n",
      "2025-10-07 04:06:48,504 INFO - ✓ Worker 2: common_voice_en_18329799.mp3:  Come on, don't much challenge.\n",
      "2025-10-07 04:06:48,949 INFO - ✓ Worker 0: common_voice_en_18330083.mp3:  I love to watch New Year's Eve fireworks.\n",
      "2025-10-07 04:06:48,988 INFO - ✓ Worker 6: common_voice_en_18329043.mp3:  He had come to a full stop.\n",
      "2025-10-07 04:06:49,064 INFO - ✓ Worker 8: common_voice_en_18330559.mp3:  I want to plug my lawnmower into mains power.\n",
      "2025-10-07 04:06:49,337 INFO - ✓ Worker 1: common_voice_en_18329069.mp3:  but he did not roach it, referring to mutually careful.\n",
      "2025-10-07 04:06:49,715 INFO - ✓ Worker 9: common_voice_en_18330571.mp3:  Not at this particular case, Tom, I apologise with more.\n",
      "2025-10-07 04:06:49,753 INFO - ✓ Worker 12: common_voice_en_18330587.mp3:  The planters are already considering the matter.\n",
      "2025-10-07 04:06:49,760 INFO - ✓ Worker 5: common_voice_en_18330576.mp3:  A cry of joy burst from Philip Slippes.\n",
      "2025-10-07 04:06:49,809 INFO - ✓ Worker 7: common_voice_en_18329702.mp3:  Jeff is a Climate Scientist and statistician.\n",
      "2025-10-07 04:06:49,901 INFO - ✓ Worker 14: common_voice_en_18330586.mp3:  You look to the handkerchief more closely.\n",
      "2025-10-07 04:06:49,986 INFO - ✓ Worker 11: common_voice_en_18326998.mp3:  Their wedding anniversary is the 27th of October, I think.\n",
      "2025-10-07 04:06:50,256 INFO - ✓ Worker 4: common_voice_en_18330095.mp3:  After all, superfluous flesh is gone, what is left is stringy and resistant.\n",
      "2025-10-07 04:06:50,823 INFO - ✓ Worker 15: common_voice_en_18330611.mp3:  You won't die of no nutrition, be sure of that.\n",
      "2025-10-07 04:06:50,834 INFO - ✓ Worker 13: common_voice_en_18330575.mp3:  Then you can arrange yourself comfortably among these robes in the bell.\n",
      "2025-10-07 04:06:52,675 INFO - ✓ Worker 0: common_voice_en_18330560.mp3:  The letter was signed with only an X.\n",
      "2025-10-07 04:06:52,695 INFO - ✓ Worker 2: common_voice_en_18330582.mp3:  Make arrangements to meet me the bus stop tomorrow morning.\n",
      "2025-10-07 04:06:53,170 INFO - ✓ Worker 1: common_voice_en_18330581.mp3:  Nor was Ilam Harnish an exception.\n",
      "2025-10-07 04:06:53,286 INFO - ✓ Worker 4: common_voice_en_18330646.mp3:  Read my bio for more info.\n",
      "2025-10-07 04:06:53,549 INFO - ✓ Worker 11: common_voice_en_18331652.mp3:  There was no chance to fire without hitting him.\n",
      "2025-10-07 04:06:53,582 INFO - ✓ Worker 14: common_voice_en_18331046.mp3:  The dog's name is Bailey.\n",
      "2025-10-07 04:06:53,602 INFO - ✓ Worker 12: common_voice_en_18330612.mp3:  After all, the pictures are any resemblance.\n",
      "2025-10-07 04:06:53,781 INFO - ✓ Worker 6: common_voice_en_18330769.mp3:  Asking, I laughed, then turned to Basqueenny.\n",
      "2025-10-07 04:06:53,786 INFO - ✓ Worker 8: common_voice_en_18330590.mp3:  Many states are now abandoning daylight saving time.\n",
      "2025-10-07 04:06:53,978 INFO - ✓ Worker 3: common_voice_en_18330636.mp3:  The lace was of a delicate ivory colour, faintly tinted with yellow.\n",
      "2025-10-07 04:06:54,021 INFO - ✓ Worker 5: common_voice_en_18331581.mp3:  In Britain, we say anti-clockwise rather than counterclockwise.\n",
      "2025-10-07 04:06:54,043 INFO - ✓ Worker 13: common_voice_en_18331637.mp3:  I have to be there by March 5th.\n",
      "2025-10-07 04:06:54,049 INFO - ✓ Worker 9: common_voice_en_18331648.mp3:  It's such a dog that the Y driver kills or turns loose.\n",
      "2025-10-07 04:06:54,062 INFO - ✓ Worker 10: common_voice_en_18331642.mp3:  Blood was oozing slowly from the wound in man's right breast.\n",
      "2025-10-07 04:06:54,075 INFO - ✓ Worker 7: common_voice_en_18331646.mp3:  When you make tea, do you pour the tea or the milk first?\n",
      "2025-10-07 04:06:54,142 INFO - ✓ Worker 15: common_voice_en_18331635.mp3:  No, it is a palace. We're in there are many servants.\n"
     ]
    },
    {
     "name": "stderr",
     "output_type": "stream",
     "text": [
      "Downloading batch 58:   2%|▏         | 1/48 [00:00<00:07,  6.68it/s]"
     ]
    },
    {
     "name": "stdout",
     "output_type": "stream",
     "text": [
      "2025-10-07 04:06:54,980 WARNING - Connection pool is full, discarding connection: asrelder-data.s3.amazonaws.com. Connection pool size: 10\n",
      "2025-10-07 04:06:54,981 WARNING - Connection pool is full, discarding connection: asrelder-data.s3.amazonaws.com. Connection pool size: 10\n"
     ]
    },
    {
     "name": "stderr",
     "output_type": "stream",
     "text": [
      "Downloading batch 58:  38%|███▊      | 18/48 [00:00<00:00, 84.50it/s]"
     ]
    },
    {
     "name": "stdout",
     "output_type": "stream",
     "text": [
      "2025-10-07 04:06:55,008 WARNING - Connection pool is full, discarding connection: asrelder-data.s3.amazonaws.com. Connection pool size: 10\n",
      "2025-10-07 04:06:55,012 WARNING - Connection pool is full, discarding connection: asrelder-data.s3.amazonaws.com. Connection pool size: 10\n",
      "2025-10-07 04:06:55,026 WARNING - Connection pool is full, discarding connection: asrelder-data.s3.amazonaws.com. Connection pool size: 10\n",
      "2025-10-07 04:06:55,030 WARNING - Connection pool is full, discarding connection: asrelder-data.s3.amazonaws.com. Connection pool size: 10\n"
     ]
    },
    {
     "name": "stderr",
     "output_type": "stream",
     "text": [
      "Downloading batch 58:  71%|███████   | 34/48 [00:00<00:00, 111.50it/s]"
     ]
    },
    {
     "name": "stdout",
     "output_type": "stream",
     "text": [
      "2025-10-07 04:06:55,124 WARNING - Connection pool is full, discarding connection: asrelder-data.s3.amazonaws.com. Connection pool size: 10\n",
      "2025-10-07 04:06:55,127 WARNING - Connection pool is full, discarding connection: asrelder-data.s3.amazonaws.com. Connection pool size: 10\n",
      "2025-10-07 04:06:55,131 WARNING - Connection pool is full, discarding connection: asrelder-data.s3.amazonaws.com. Connection pool size: 10\n",
      "2025-10-07 04:06:55,132 WARNING - Connection pool is full, discarding connection: asrelder-data.s3.amazonaws.com. Connection pool size: 10\n",
      "2025-10-07 04:06:55,135 WARNING - Connection pool is full, discarding connection: asrelder-data.s3.amazonaws.com. Connection pool size: 10\n",
      "2025-10-07 04:06:55,152 WARNING - Connection pool is full, discarding connection: asrelder-data.s3.amazonaws.com. Connection pool size: 10\n",
      "2025-10-07 04:06:55,176 WARNING - Connection pool is full, discarding connection: asrelder-data.s3.amazonaws.com. Connection pool size: 10\n",
      "2025-10-07 04:06:55,180 WARNING - Connection pool is full, discarding connection: asrelder-data.s3.amazonaws.com. Connection pool size: 10\n"
     ]
    },
    {
     "name": "stderr",
     "output_type": "stream",
     "text": [
      "Downloading batch 58: 100%|██████████| 48/48 [00:00<00:00, 108.41it/s]"
     ]
    },
    {
     "name": "stdout",
     "output_type": "stream",
     "text": [
      "2025-10-07 04:06:55,182 INFO - Transcribing 48 files in parallel...\n"
     ]
    },
    {
     "name": "stderr",
     "output_type": "stream",
     "text": [
      "\n"
     ]
    },
    {
     "name": "stdout",
     "output_type": "stream",
     "text": [
      "2025-10-07 04:06:58,118 INFO - ✓ Worker 12: common_voice_en_18332143.mp3:  How much was it?\n",
      "2025-10-07 04:06:58,181 INFO - ✓ Worker 6: common_voice_en_18331927.mp3:  That's a lava idea.\n",
      "2025-10-07 04:06:58,234 INFO - ✓ Worker 1: common_voice_en_18331770.mp3:  Muhammad is a Muslim.\n",
      "2025-10-07 04:06:58,265 INFO - ✓ Worker 10: common_voice_en_18332121.mp3:  It had been so easy.\n",
      "2025-10-07 04:06:58,777 INFO - ✓ Worker 0: common_voice_en_18331798.mp3:  Shall we have a jacket potato for lunch?\n",
      "2025-10-07 04:06:58,789 INFO - ✓ Worker 5: common_voice_en_18332311.mp3:  And this is what company use only.\n",
      "2025-10-07 04:06:58,899 INFO - ✓ Worker 13: common_voice_en_18332329.mp3:  He obeyed the pressure of her hand.\n",
      "2025-10-07 04:06:59,476 INFO - ✓ Worker 11: common_voice_en_18332431.mp3:  A ladybird is sometimes known as a ladybug.\n",
      "2025-10-07 04:06:59,578 INFO - ✓ Worker 8: common_voice_en_18332018.mp3:  One if he has a lion dog, Charles suggested.\n",
      "2025-10-07 04:06:59,603 INFO - ✓ Worker 3: common_voice_en_18331713.mp3:  The candidate had lied repeatedly in order to get elected.\n",
      "2025-10-07 04:06:59,625 INFO - ✓ Worker 9: common_voice_en_18332171.mp3:  The ass-applier glove was gone.\n",
      "2025-10-07 04:06:59,903 INFO - ✓ Worker 15: common_voice_en_18332327.mp3:  We went to the local takeaway for a curry last night.\n",
      "2025-10-07 04:07:00,233 INFO - ✓ Worker 7: common_voice_en_18332111.mp3:  It would help to tide me alone, until I got steady employment.\n",
      "2025-10-07 04:07:00,284 INFO - ✓ Worker 4: common_voice_en_18332378.mp3:  Something about it seemed to fascinate him to challenge his presence.\n",
      "2025-10-07 04:07:00,448 INFO - ✓ Worker 14: common_voice_en_18332325.mp3:  As a fellow Senator, Chauncey, Deb you said.\n",
      "2025-10-07 04:07:01,074 INFO - ✓ Worker 2: common_voice_en_18332326.mp3:  Horses and rifles had been her toys. Camp in trail her nursery.\n",
      "2025-10-07 04:07:01,814 INFO - ✓ Worker 1: common_voice_en_18332426.mp3:  He had fulfilled his duty and paid properly.\n",
      "2025-10-07 04:07:02,449 INFO - ✓ Worker 3: common_voice_en_18332450.mp3:  Warning, obstruction ahead.\n",
      "2025-10-07 04:07:02,579 INFO - ✓ Worker 9: common_voice_en_18332537.mp3:  Please specify the service provider.\n",
      "2025-10-07 04:07:02,587 INFO - ✓ Worker 5: common_voice_en_18332448.mp3:  We fish sharks on Nihau together.\n",
      "2025-10-07 04:07:02,718 INFO - ✓ Worker 0: common_voice_en_18332214.mp3:  And the Edinburgh even news said the editorial gloom.\n",
      "2025-10-07 04:07:03,249 INFO - ✓ Worker 4: common_voice_en_18332116.mp3:  This is a binding contract.\n",
      "2025-10-07 04:07:03,713 INFO - ✓ Worker 2: common_voice_en_18332452.mp3:  It is the nearest refuge.\n",
      "2025-10-07 04:07:03,821 INFO - ✓ Worker 15: common_voice_en_18334899.mp3:  I can't tolerate lying.\n",
      "2025-10-07 04:07:04,064 INFO - ✓ Worker 10: common_voice_en_18332280.mp3:  Dow was beyond the trail with three weeks to spare.\n",
      "2025-10-07 04:07:04,131 INFO - ✓ Worker 6: common_voice_en_18332119.mp3:  His face was very clean and he had carefully combed his hair.\n",
      "2025-10-07 04:07:04,712 INFO - ✓ Worker 12: common_voice_en_18334894.mp3:  The metric system is based on units, tens and hundreds.\n",
      "2025-10-07 04:07:04,727 INFO - ✓ Worker 8: common_voice_en_18334382.mp3:  The discoveries seem to have been made in a spur of the moment.\n",
      "2025-10-07 04:07:04,995 INFO - ✓ Worker 7: common_voice_en_18334383.mp3:  She was persecuted for dream driving and she lost her license.\n",
      "2025-10-07 04:07:05,251 INFO - ✓ Worker 13: common_voice_en_18334571.mp3:  Well, there are better men in Hawaii, that's all.\n",
      "2025-10-07 04:07:05,426 INFO - ✓ Worker 11: common_voice_en_18334556.mp3:  The temperature dropped to 50 below zero and remained there the whole trip.\n",
      "2025-10-07 04:07:05,729 INFO - ✓ Worker 14: common_voice_en_18334896.mp3:  I couldn't tell whether they were 30 or 40 birds in the flock.\n",
      "2025-10-07 04:07:06,201 INFO - ✓ Worker 1: common_voice_en_18334537.mp3:  A rising tide of fat had submerged him.\n",
      "2025-10-07 04:07:06,327 INFO - ✓ Worker 0: common_voice_en_18334975.mp3:  Call those against, say, there.\n",
      "2025-10-07 04:07:07,253 INFO - ✓ Worker 8: common_voice_en_18335059.mp3:  The dinosaurs are beautiful.\n",
      "2025-10-07 04:07:07,359 INFO - ✓ Worker 3: common_voice_en_18335248.mp3:  She was sleeping under his protection, as sweetly as a child.\n",
      "2025-10-07 04:07:07,590 INFO - ✓ Worker 12: common_voice_en_18335258.mp3:  Man could not conquer them.\n",
      "2025-10-07 04:07:07,870 INFO - ✓ Worker 4: common_voice_en_18335271.mp3:  God bless them, I hope I'll go on seeing them forever.\n",
      "2025-10-07 04:07:07,937 INFO - ✓ Worker 7: common_voice_en_18335256.mp3:  I use great trouble advisedly.\n",
      "2025-10-07 04:07:08,422 INFO - ✓ Worker 9: common_voice_en_18335065.mp3:  It is long and bad luck to use this command kit.\n",
      "2025-10-07 04:07:08,429 INFO - ✓ Worker 6: common_voice_en_18335290.mp3:  And when you come back in a few days, bring Aileen.\n",
      "2025-10-07 04:07:08,519 INFO - ✓ Worker 5: common_voice_en_18335066.mp3:  See both of the day for view of the dines at local convent shop.\n",
      "2025-10-07 04:07:08,539 INFO - ✓ Worker 11: common_voice_en_18335252.mp3:  Do you prefer a single or double cream?\n",
      "2025-10-07 04:07:08,590 INFO - ✓ Worker 13: common_voice_en_18335274.mp3:  His satnav was mounted to his vehicle dashboard.\n",
      "2025-10-07 04:07:08,600 INFO - ✓ Worker 10: common_voice_en_18335251.mp3:  He chuckled as he pulled out his pipe and began filling it.\n",
      "2025-10-07 04:07:08,618 INFO - ✓ Worker 14: common_voice_en_18335275.mp3:  He had forgotten to build a fire and fall out.\n",
      "2025-10-07 04:07:08,645 INFO - ✓ Worker 2: common_voice_en_18334552.mp3:  The toolbox included a screwdriver, a spanner, a hammer, a saw and a drill.\n",
      "2025-10-07 04:07:08,652 INFO - ✓ Worker 15: common_voice_en_18335278.mp3:  Do you know that we weigh every pound of coal we burn?\n"
     ]
    },
    {
     "name": "stderr",
     "output_type": "stream",
     "text": [
      "Downloading batch 59:   2%|▏         | 1/48 [00:00<00:08,  5.70it/s]"
     ]
    },
    {
     "name": "stdout",
     "output_type": "stream",
     "text": [
      "2025-10-07 04:07:09,464 WARNING - Connection pool is full, discarding connection: asrelder-data.s3.amazonaws.com. Connection pool size: 10\n",
      "2025-10-07 04:07:09,469 WARNING - Connection pool is full, discarding connection: asrelder-data.s3.amazonaws.com. Connection pool size: 10\n",
      "2025-10-07 04:07:09,471 WARNING - Connection pool is full, discarding connection: asrelder-data.s3.amazonaws.com. Connection pool size: 10\n",
      "2025-10-07 04:07:09,517 WARNING - Connection pool is full, discarding connection: asrelder-data.s3.amazonaws.com. Connection pool size: 10\n",
      "2025-10-07 04:07:09,519 WARNING - Connection pool is full, discarding connection: asrelder-data.s3.amazonaws.com. Connection pool size: 10\n"
     ]
    },
    {
     "name": "stderr",
     "output_type": "stream",
     "text": [
      "Downloading batch 59:  40%|███▉      | 19/48 [00:00<00:00, 82.25it/s]"
     ]
    },
    {
     "name": "stdout",
     "output_type": "stream",
     "text": [
      "2025-10-07 04:07:09,523 WARNING - Connection pool is full, discarding connection: asrelder-data.s3.amazonaws.com. Connection pool size: 10\n",
      "2025-10-07 04:07:09,524 WARNING - Connection pool is full, discarding connection: asrelder-data.s3.amazonaws.com. Connection pool size: 10\n"
     ]
    },
    {
     "name": "stderr",
     "output_type": "stream",
     "text": [
      "Downloading batch 59:  79%|███████▉  | 38/48 [00:00<00:00, 123.26it/s]"
     ]
    },
    {
     "name": "stdout",
     "output_type": "stream",
     "text": [
      "2025-10-07 04:07:09,643 WARNING - Connection pool is full, discarding connection: asrelder-data.s3.amazonaws.com. Connection pool size: 10\n",
      "2025-10-07 04:07:09,644 WARNING - Connection pool is full, discarding connection: asrelder-data.s3.amazonaws.com. Connection pool size: 10\n",
      "2025-10-07 04:07:09,646 WARNING - Connection pool is full, discarding connection: asrelder-data.s3.amazonaws.com. Connection pool size: 10\n",
      "2025-10-07 04:07:09,650 WARNING - Connection pool is full, discarding connection: asrelder-data.s3.amazonaws.com. Connection pool size: 10\n",
      "2025-10-07 04:07:09,650 WARNING - Connection pool is full, discarding connection: asrelder-data.s3.amazonaws.com. Connection pool size: 10\n",
      "2025-10-07 04:07:09,668 WARNING - Connection pool is full, discarding connection: asrelder-data.s3.amazonaws.com. Connection pool size: 10\n",
      "2025-10-07 04:07:09,680 WARNING - Connection pool is full, discarding connection: asrelder-data.s3.amazonaws.com. Connection pool size: 10\n"
     ]
    },
    {
     "name": "stderr",
     "output_type": "stream",
     "text": [
      "Downloading batch 59: 100%|██████████| 48/48 [00:00<00:00, 110.09it/s]"
     ]
    },
    {
     "name": "stdout",
     "output_type": "stream",
     "text": [
      "2025-10-07 04:07:09,682 INFO - Transcribing 48 files in parallel...\n"
     ]
    },
    {
     "name": "stderr",
     "output_type": "stream",
     "text": [
      "\n"
     ]
    },
    {
     "name": "stdout",
     "output_type": "stream",
     "text": [
      "2025-10-07 04:07:13,190 INFO - ✓ Worker 5: common_voice_en_18335292.mp3:  More regulation is needed, not less.\n",
      "2025-10-07 04:07:13,244 INFO - ✓ Worker 4: common_voice_en_18335540.mp3:  Such men believe when they come together.\n",
      "2025-10-07 04:07:13,308 INFO - ✓ Worker 3: common_voice_en_18335368.mp3:  You're going in for grab sharing.\n",
      "2025-10-07 04:07:13,464 INFO - ✓ Worker 13: common_voice_en_18335546.mp3:  Philip trust himself against it and entered.\n",
      "2025-10-07 04:07:13,485 INFO - ✓ Worker 6: common_voice_en_18335329.mp3:  I could not agree with Arnest.\n",
      "2025-10-07 04:07:13,705 INFO - ✓ Worker 0: common_voice_en_18335533.mp3:  Let them go out and eat my boys.\n",
      "2025-10-07 04:07:13,797 INFO - ✓ Worker 9: common_voice_en_18335336.mp3:  There was something pathetic in the girl's attitude now.\n",
      "2025-10-07 04:07:13,982 INFO - ✓ Worker 7: common_voice_en_18335342.mp3:  We handle two men already, both grub thieves.\n",
      "2025-10-07 04:07:14,191 INFO - ✓ Worker 2: common_voice_en_18335536.mp3:  But this time it was Saxon who rebelled.\n",
      "2025-10-07 04:07:14,492 INFO - ✓ Worker 10: common_voice_en_18335364.mp3:  Penguins aren't able to fly, but they can swim.\n",
      "2025-10-07 04:07:14,858 INFO - ✓ Worker 8: common_voice_en_18335537.mp3:  In his anxiety, solitude and love, they did not count.\n",
      "2025-10-07 04:07:15,063 INFO - ✓ Worker 1: common_voice_en_18335328.mp3:  The accident damaged the car beyond repair, and it was right off.\n",
      "2025-10-07 04:07:15,068 INFO - ✓ Worker 14: common_voice_en_18335381.mp3:  He was smooth, shaven, and his hair and eyes were black.\n",
      "2025-10-07 04:07:15,170 INFO - ✓ Worker 12: common_voice_en_18335539.mp3:  When I can't see beauty in a woman, I want to die.\n",
      "2025-10-07 04:07:15,325 INFO - ✓ Worker 11: common_voice_en_18335331.mp3:  That's where we cut off Scottish chefs and killed all hands.\n",
      "2025-10-07 04:07:15,578 INFO - ✓ Worker 15: common_voice_en_18335544.mp3:  Louthaler and megaphone are alternative terms for bullhorn.\n",
      "2025-10-07 04:07:17,400 INFO - ✓ Worker 0: common_voice_en_18335379.mp3:  Fresh meat they failed to obtain.\n",
      "2025-10-07 04:07:17,899 INFO - ✓ Worker 3: common_voice_en_18335382.mp3:  In a flash, Philip followed its direction.\n",
      "2025-10-07 04:07:18,161 INFO - ✓ Worker 9: common_voice_en_18335575.mp3:  Illuminating oil was becoming all profit.\n",
      "2025-10-07 04:07:18,217 INFO - ✓ Worker 2: common_voice_en_18335573.mp3:  He drank of the water cautiously.\n",
      "2025-10-07 04:07:18,284 INFO - ✓ Worker 1: common_voice_en_18335304.mp3:  His teeth shot with a glass click.\n",
      "2025-10-07 04:07:18,845 INFO - ✓ Worker 11: common_voice_en_18336191.mp3:  But already he hadn't composed himself.\n",
      "2025-10-07 04:07:18,872 INFO - ✓ Worker 10: common_voice_en_18335612.mp3:  Poor little crooked leg was terribly scared.\n",
      "2025-10-07 04:07:19,050 INFO - ✓ Worker 4: common_voice_en_18335367.mp3:  And you always want to see it in the superlative degree.\n",
      "2025-10-07 04:07:19,072 INFO - ✓ Worker 7: common_voice_en_18335340.mp3:  Does that really mean you'll have an expiry date?\n",
      "2025-10-07 04:07:19,103 INFO - ✓ Worker 15: common_voice_en_18335800.mp3:  The referendum did not end as expected.\n",
      "2025-10-07 04:07:19,129 INFO - ✓ Worker 8: common_voice_en_18335588.mp3:  What if she did not come to the rock?\n",
      "2025-10-07 04:07:19,322 INFO - ✓ Worker 13: common_voice_en_18336194.mp3:  She used the cash dispenser to withdraw money.\n",
      "2025-10-07 04:07:19,534 INFO - ✓ Worker 14: common_voice_en_18335621.mp3:  I saw it on myself and it was splendid.\n",
      "2025-10-07 04:07:19,595 INFO - ✓ Worker 6: common_voice_en_18335366.mp3:  In the video, a man stops to let a cat cross the street.\n",
      "2025-10-07 04:07:19,690 INFO - ✓ Worker 5: common_voice_en_18335380.mp3:  Do you stay done bright and sunny, but by lunchtime it has started to rain.\n",
      "2025-10-07 04:07:19,980 INFO - ✓ Worker 12: common_voice_en_18336193.mp3:  Then, ended the supper, he tried to fasten her.\n",
      "2025-10-07 04:07:21,104 INFO - ✓ Worker 0: common_voice_en_18335614.mp3:  The fire people, like ourselves, living caves.\n",
      "2025-10-07 04:07:21,530 INFO - ✓ Worker 3: common_voice_en_18335619.mp3:  From now on, we're pals.\n",
      "2025-10-07 04:07:21,745 INFO - ✓ Worker 2: common_voice_en_18336205.mp3:  I'll open GitHub for support.\n",
      "2025-10-07 04:07:21,874 INFO - ✓ Worker 1: common_voice_en_18335620.mp3:  Many families go to church on Sunday mornings.\n",
      "2025-10-07 04:07:22,028 INFO - ✓ Worker 4: common_voice_en_18336211.mp3:  We must achieve our own salvation.\n",
      "2025-10-07 04:07:22,199 INFO - ✓ Worker 13: common_voice_en_18336241.mp3:  My endeavors were unsuccessful.\n",
      "2025-10-07 04:07:22,545 INFO - ✓ Worker 7: common_voice_en_18336231.mp3:  With them were Indians, also three other men.\n",
      "2025-10-07 04:07:22,860 INFO - ✓ Worker 14: common_voice_en_18336243.mp3:  The last one I knew wasn't overseer.\n",
      "2025-10-07 04:07:22,945 INFO - ✓ Worker 15: common_voice_en_18336233.mp3:  The ringing of the big bell aroused him.\n",
      "2025-10-07 04:07:22,979 INFO - ✓ Worker 12: common_voice_en_18336204.mp3:  Such is my passage engaged under steamer.\n",
      "2025-10-07 04:07:23,005 INFO - ✓ Worker 10: common_voice_en_18336230.mp3:  Again, the girls applauded and Mrs. Hall cried.\n",
      "2025-10-07 04:07:23,033 INFO - ✓ Worker 11: common_voice_en_18335802.mp3:  We found 5 new vulnerabilities in the span of 8 days.\n",
      "2025-10-07 04:07:23,039 INFO - ✓ Worker 6: common_voice_en_18335383.mp3:  Let us talk it over and find a way out.\n",
      "2025-10-07 04:07:23,062 INFO - ✓ Worker 8: common_voice_en_18336245.mp3:  And there is no shovel re, no quarter shown in this fight.\n",
      "2025-10-07 04:07:23,072 INFO - ✓ Worker 9: common_voice_en_18336238.mp3:  In some countries, it is not legal to drink alcohol until 21.\n",
      "2025-10-07 04:07:23,109 INFO - ✓ Worker 5: common_voice_en_18336242.mp3:  You can exchange your foreign currency at the Bureau of the Shenzh.\n"
     ]
    },
    {
     "name": "stderr",
     "output_type": "stream",
     "text": [
      "Downloading batch 60:   2%|▏         | 1/48 [00:00<00:07,  6.56it/s]"
     ]
    },
    {
     "name": "stdout",
     "output_type": "stream",
     "text": [
      "2025-10-07 04:07:23,944 WARNING - Connection pool is full, discarding connection: asrelder-data.s3.amazonaws.com. Connection pool size: 10\n"
     ]
    },
    {
     "name": "stderr",
     "output_type": "stream",
     "text": [
      "Downloading batch 60:  73%|███████▎  | 35/48 [00:00<00:00, 121.62it/s]"
     ]
    },
    {
     "name": "stdout",
     "output_type": "stream",
     "text": [
      "2025-10-07 04:07:24,075 WARNING - Connection pool is full, discarding connection: asrelder-data.s3.amazonaws.com. Connection pool size: 10\n",
      "2025-10-07 04:07:24,079 WARNING - Connection pool is full, discarding connection: asrelder-data.s3.amazonaws.com. Connection pool size: 10\n",
      "2025-10-07 04:07:24,080 WARNING - Connection pool is full, discarding connection: asrelder-data.s3.amazonaws.com. Connection pool size: 10\n",
      "2025-10-07 04:07:24,081 WARNING - Connection pool is full, discarding connection: asrelder-data.s3.amazonaws.com. Connection pool size: 10\n",
      "2025-10-07 04:07:24,081 WARNING - Connection pool is full, discarding connection: asrelder-data.s3.amazonaws.com. Connection pool size: 10\n",
      "2025-10-07 04:07:24,093 WARNING - Connection pool is full, discarding connection: asrelder-data.s3.amazonaws.com. Connection pool size: 10\n",
      "2025-10-07 04:07:24,094 WARNING - Connection pool is full, discarding connection: asrelder-data.s3.amazonaws.com. Connection pool size: 10\n",
      "2025-10-07 04:07:24,120 WARNING - Connection pool is full, discarding connection: asrelder-data.s3.amazonaws.com. Connection pool size: 10\n",
      "2025-10-07 04:07:24,143 WARNING - Connection pool is full, discarding connection: asrelder-data.s3.amazonaws.com. Connection pool size: 10\n"
     ]
    },
    {
     "name": "stderr",
     "output_type": "stream",
     "text": [
      "Downloading batch 60: 100%|██████████| 48/48 [00:00<00:00, 107.52it/s]"
     ]
    },
    {
     "name": "stdout",
     "output_type": "stream",
     "text": [
      "2025-10-07 04:07:24,145 INFO - Transcribing 48 files in parallel...\n"
     ]
    },
    {
     "name": "stderr",
     "output_type": "stream",
     "text": [
      "\n"
     ]
    },
    {
     "name": "stdout",
     "output_type": "stream",
     "text": [
      "2025-10-07 04:07:27,397 INFO - ✓ Worker 11: common_voice_en_18338331.mp3:  Hi, our Her vitals.\n",
      "2025-10-07 04:07:27,493 INFO - ✓ Worker 1: common_voice_en_18338254.mp3:  Yeah, I will tell thee.\n",
      "2025-10-07 04:07:28,282 INFO - ✓ Worker 14: common_voice_en_18337323.mp3:  For such countries nothing remains but reorganisation.\n",
      "2025-10-07 04:07:28,558 INFO - ✓ Worker 10: common_voice_en_18338329.mp3:  He was fond of quoting a fragment from a certain poem.\n",
      "2025-10-07 04:07:28,615 INFO - ✓ Worker 3: common_voice_en_18336407.mp3:  Finals are next week and I'm panicking.\n",
      "2025-10-07 04:07:28,628 INFO - ✓ Worker 9: common_voice_en_18338278.mp3:  Tudor surveyed him with withering disgust.\n",
      "2025-10-07 04:07:28,742 INFO - ✓ Worker 7: common_voice_en_18338253.mp3:  Only the chant sound had led him to observe them.\n",
      "2025-10-07 04:07:28,884 INFO - ✓ Worker 6: common_voice_en_18336410.mp3:  Continuous integration has been a lifesaver for us.\n",
      "2025-10-07 04:07:28,975 INFO - ✓ Worker 4: common_voice_en_18337438.mp3:  There are the canals of China and the Yangtze River.\n",
      "2025-10-07 04:07:29,013 INFO - ✓ Worker 2: common_voice_en_18336480.mp3:  Scientists believed that life on Earth started more than four billion years ago.\n",
      "2025-10-07 04:07:29,091 INFO - ✓ Worker 12: common_voice_en_18338330.mp3:  I have to be careful of them as they tear very easily.\n",
      "2025-10-07 04:07:29,182 INFO - ✓ Worker 0: common_voice_en_18336484.mp3:  The candy corn is a Halloween favorite, but personally I find it disgusting.\n",
      "2025-10-07 04:07:29,309 INFO - ✓ Worker 13: common_voice_en_18336481.mp3:  hatred and murder and lust for revenge they possessed to overflowing.\n",
      "2025-10-07 04:07:29,550 INFO - ✓ Worker 5: common_voice_en_18336411.mp3:  She obeyed, shrinking back with the baby in her arms.\n",
      "2025-10-07 04:07:29,780 INFO - ✓ Worker 1: common_voice_en_18337129.mp3:  I practice clinical medicine.\n",
      "2025-10-07 04:07:30,007 INFO - ✓ Worker 15: common_voice_en_18337371.mp3:  The Advership Tour is Dante, might have worshipped Beatrice.\n",
      "2025-10-07 04:07:30,060 INFO - ✓ Worker 8: common_voice_en_18337321.mp3:  Candy Floss is a popular children's delicacy, particularly during summer holidays.\n",
      "2025-10-07 04:07:31,506 INFO - ✓ Worker 3: common_voice_en_18338320.mp3:  How many layers do we need?\n",
      "2025-10-07 04:07:32,263 INFO - ✓ Worker 4: common_voice_en_18338328.mp3:  He understood the meaning of the look.\n",
      "2025-10-07 04:07:32,312 INFO - ✓ Worker 2: common_voice_en_18337320.mp3:  Gene was turning the bow shortward.\n",
      "2025-10-07 04:07:32,511 INFO - ✓ Worker 6: common_voice_en_18336534.mp3:  Where can I find the inquiry this?\n",
      "2025-10-07 04:07:32,962 INFO - ✓ Worker 10: common_voice_en_18338555.mp3:  Or have they already devised one?\n",
      "2025-10-07 04:07:33,216 INFO - ✓ Worker 7: common_voice_en_18338279.mp3:  He gave no reason, but his motive was obvious enough.\n",
      "2025-10-07 04:07:33,303 INFO - ✓ Worker 0: common_voice_en_18336487.mp3:  Without a doubt, some of them have dinner engagements.\n",
      "2025-10-07 04:07:33,358 INFO - ✓ Worker 9: common_voice_en_18338551.mp3:  And right there, I saw and knew it all.\n",
      "2025-10-07 04:07:33,439 INFO - ✓ Worker 5: common_voice_en_18337135.mp3:  When will the winner be announced?\n",
      "2025-10-07 04:07:33,565 INFO - ✓ Worker 12: common_voice_en_18338543.mp3:  You don't catch me at any such foolishness.\n",
      "2025-10-07 04:07:33,904 INFO - ✓ Worker 13: common_voice_en_18339888.mp3:  The organization of these countries took the form of revolution.\n",
      "2025-10-07 04:07:33,937 INFO - ✓ Worker 11: common_voice_en_18338332.mp3:  But there was no longer the mother yarning in its heart.\n",
      "2025-10-07 04:07:34,074 INFO - ✓ Worker 15: common_voice_en_18339948.mp3:  The boy hesitated and then mastered his temper.\n",
      "2025-10-07 04:07:34,531 INFO - ✓ Worker 8: common_voice_en_18338549.mp3:  Graham rushed over to H blocks, sweating profusely.\n",
      "2025-10-07 04:07:34,636 INFO - ✓ Worker 14: common_voice_en_18338546.mp3:  The history of the 18th century is written, earliest prompted.\n",
      "2025-10-07 04:07:35,113 INFO - ✓ Worker 2: common_voice_en_18339959.mp3:  Luke is a classical composer.\n",
      "2025-10-07 04:07:35,733 INFO - ✓ Worker 3: common_voice_en_18339957.mp3:  But Martin smiled a superior smile.\n",
      "2025-10-07 04:07:36,529 INFO - ✓ Worker 7: common_voice_en_18339955.mp3:  Could you tell me what that entails?\n",
      "2025-10-07 04:07:36,708 INFO - ✓ Worker 1: common_voice_en_18338552.mp3:  Anything unusual or abnormal was sufficient to send a fellow to Moral Kai.\n",
      "2025-10-07 04:07:37,196 INFO - ✓ Worker 4: common_voice_en_18339952.mp3:  Thus he turned to tenants and jargon of psychology back on me.\n",
      "2025-10-07 04:07:37,222 INFO - ✓ Worker 13: common_voice_en_18340076.mp3:  New idea he volunteered, brand new idea.\n",
      "2025-10-07 04:07:37,258 INFO - ✓ Worker 11: common_voice_en_18340086.mp3:  There has been a change, she interrupted him.\n",
      "2025-10-07 04:07:37,306 INFO - ✓ Worker 8: common_voice_en_18339954.mp3:  This is a new limited coin.\n",
      "2025-10-07 04:07:37,312 INFO - ✓ Worker 9: common_voice_en_18340521.mp3:  The Portuguese boy crawled nearer and nearer.\n",
      "2025-10-07 04:07:37,391 INFO - ✓ Worker 10: common_voice_en_18339947.mp3:  The start wood was crushed like an egg shell.\n",
      "2025-10-07 04:07:37,403 INFO - ✓ Worker 6: common_voice_en_18340105.mp3:  It is also an insidious deceitful son.\n",
      "2025-10-07 04:07:37,419 INFO - ✓ Worker 12: common_voice_en_18339950.mp3:  Collin and Nathan, up at our rivals.\n",
      "2025-10-07 04:07:37,429 INFO - ✓ Worker 0: common_voice_en_18339871.mp3:  To his surprise, her answer was flat and uncompromising.\n",
      "2025-10-07 04:07:37,473 INFO - ✓ Worker 5: common_voice_en_18340531.mp3:  It was not Red Eye's way to forego revenge so easily.\n",
      "2025-10-07 04:07:37,531 INFO - ✓ Worker 15: common_voice_en_18338548.mp3:  His clothes are really outrageous. He's a one-off.\n",
      "2025-10-07 04:07:37,562 INFO - ✓ Worker 14: common_voice_en_18339898.mp3:  She used a plaster to cover a small cut on her little finger.\n",
      "2025-10-07 04:07:37,572 INFO - Appended 240 rows to ./transcripts_from_prefix.csv\n"
     ]
    },
    {
     "name": "stderr",
     "output_type": "stream",
     "text": [
      "Downloading batch 61:   2%|▏         | 1/48 [00:00<00:06,  6.77it/s]"
     ]
    },
    {
     "name": "stdout",
     "output_type": "stream",
     "text": [
      "2025-10-07 04:07:38,406 WARNING - Connection pool is full, discarding connection: asrelder-data.s3.amazonaws.com. Connection pool size: 10\n"
     ]
    },
    {
     "name": "stderr",
     "output_type": "stream",
     "text": [
      "Downloading batch 61:  38%|███▊      | 18/48 [00:00<00:00, 82.39it/s]"
     ]
    },
    {
     "name": "stdout",
     "output_type": "stream",
     "text": [
      "2025-10-07 04:07:38,420 WARNING - Connection pool is full, discarding connection: asrelder-data.s3.amazonaws.com. Connection pool size: 10\n",
      "2025-10-07 04:07:38,420 WARNING - Connection pool is full, discarding connection: asrelder-data.s3.amazonaws.com. Connection pool size: 10\n"
     ]
    },
    {
     "name": "stderr",
     "output_type": "stream",
     "text": [
      "Downloading batch 61:  85%|████████▌ | 41/48 [00:00<00:00, 139.46it/s]"
     ]
    },
    {
     "name": "stdout",
     "output_type": "stream",
     "text": [
      "2025-10-07 04:07:38,521 WARNING - Connection pool is full, discarding connection: asrelder-data.s3.amazonaws.com. Connection pool size: 10\n",
      "2025-10-07 04:07:38,532 WARNING - Connection pool is full, discarding connection: asrelder-data.s3.amazonaws.com. Connection pool size: 10\n",
      "2025-10-07 04:07:38,539 WARNING - Connection pool is full, discarding connection: asrelder-data.s3.amazonaws.com. Connection pool size: 10\n",
      "2025-10-07 04:07:38,542 WARNING - Connection pool is full, discarding connection: asrelder-data.s3.amazonaws.com. Connection pool size: 10\n",
      "2025-10-07 04:07:38,553 WARNING - Connection pool is full, discarding connection: asrelder-data.s3.amazonaws.com. Connection pool size: 10\n",
      "2025-10-07 04:07:38,558 WARNING - Connection pool is full, discarding connection: asrelder-data.s3.amazonaws.com. Connection pool size: 10\n",
      "2025-10-07 04:07:38,569 WARNING - Connection pool is full, discarding connection: asrelder-data.s3.amazonaws.com. Connection pool size: 10\n"
     ]
    },
    {
     "name": "stderr",
     "output_type": "stream",
     "text": [
      "Downloading batch 61: 100%|██████████| 48/48 [00:00<00:00, 115.43it/s]"
     ]
    },
    {
     "name": "stdout",
     "output_type": "stream",
     "text": [
      "2025-10-07 04:07:38,571 INFO - Transcribing 48 files in parallel...\n"
     ]
    },
    {
     "name": "stderr",
     "output_type": "stream",
     "text": [
      "\n"
     ]
    },
    {
     "name": "stdout",
     "output_type": "stream",
     "text": [
      "2025-10-07 04:07:42,022 INFO - ✓ Worker 13: common_voice_en_18341207.mp3:  His face was streaming with blood.\n",
      "2025-10-07 04:07:42,720 INFO - ✓ Worker 5: common_voice_en_18341831.mp3:  A burst of laughter was easily wrought.\n",
      "2025-10-07 04:07:42,775 INFO - ✓ Worker 9: common_voice_en_18341827.mp3:  He could feel a new stir in the land.\n",
      "2025-10-07 04:07:42,941 INFO - ✓ Worker 6: common_voice_en_18343942.mp3:  Stay in this and please don't go.\n",
      "2025-10-07 04:07:43,063 INFO - ✓ Worker 7: common_voice_en_18341832.mp3:  Boxing Day is the day after Christen's Day.\n",
      "2025-10-07 04:07:43,091 INFO - ✓ Worker 4: common_voice_en_18340559.mp3:  Very few people knew of the existence of this law.\n",
      "2025-10-07 04:07:43,160 INFO - ✓ Worker 0: common_voice_en_18340544.mp3:  But it won't continue, she said with easy confidence.\n",
      "2025-10-07 04:07:43,255 INFO - ✓ Worker 1: common_voice_en_18341203.mp3:  For a time, the exciting thrill of his adventure was gone.\n",
      "2025-10-07 04:07:43,760 INFO - ✓ Worker 15: common_voice_en_18341951.mp3:  You should have seen them when they had me spitting Chinook.\n",
      "2025-10-07 04:07:43,783 INFO - ✓ Worker 11: common_voice_en_18343948.mp3:  All the children wanted to stroke the silky pink unicorn.\n",
      "2025-10-07 04:07:43,850 INFO - ✓ Worker 14: common_voice_en_18341880.mp3:  The oligarchy will encourage such ambition and the consequent competition.\n",
      "2025-10-07 04:07:43,890 INFO - ✓ Worker 2: common_voice_en_18340532.mp3:  So we have to fit the boat throughout with oil lamps as well.\n",
      "2025-10-07 04:07:44,168 INFO - ✓ Worker 12: common_voice_en_18341205.mp3:  The flooding caused billions of dollars in damage and the loss of several lives.\n",
      "2025-10-07 04:07:44,330 INFO - ✓ Worker 8: common_voice_en_18343939.mp3:  Every British car has a gearbox upon it, a windscreen and a boot.\n",
      "2025-10-07 04:07:45,092 INFO - ✓ Worker 10: common_voice_en_18341794.mp3:  I couldn't see the car's number plate, so can't tell you its registration number.\n",
      "2025-10-07 04:07:45,218 INFO - ✓ Worker 3: common_voice_en_18341929.mp3:  He's cagoo, kept him perfectly dry, even though it was pouring with rain.\n",
      "2025-10-07 04:07:46,010 INFO - ✓ Worker 0: common_voice_en_18341945.mp3:  The gala was fun.\n",
      "2025-10-07 04:07:46,262 INFO - ✓ Worker 5: common_voice_en_18341948.mp3:  My birthday is in August.\n",
      "2025-10-07 04:07:46,934 INFO - ✓ Worker 6: common_voice_en_18341977.mp3:  Why don't you draw a gentlemen?\n",
      "2025-10-07 04:07:47,032 INFO - ✓ Worker 2: common_voice_en_18343945.mp3:  Her face was against his breast.\n",
      "2025-10-07 04:07:47,168 INFO - ✓ Worker 7: common_voice_en_18341797.mp3:  Efficiency is important, but so is quality.\n",
      "2025-10-07 04:07:47,356 INFO - ✓ Worker 4: common_voice_en_18341949.mp3:  They sew each other for the first time in Boston.\n",
      "2025-10-07 04:07:47,596 INFO - ✓ Worker 11: common_voice_en_18343979.mp3:  Get down and dig in.\n",
      "2025-10-07 04:07:48,411 INFO - ✓ Worker 12: common_voice_en_18343959.mp3:  Any average young fellow can teach himself in a week.\n",
      "2025-10-07 04:07:48,708 INFO - ✓ Worker 8: common_voice_en_18343954.mp3:  Daylight made no answer, and the door closed behind him.\n",
      "2025-10-07 04:07:48,917 INFO - ✓ Worker 15: common_voice_en_18343993.mp3:  The hyena proceeded to dine.\n",
      "2025-10-07 04:07:49,010 INFO - ✓ Worker 14: common_voice_en_18344000.mp3:  You just need to add more layers as always.\n",
      "2025-10-07 04:07:49,292 INFO - ✓ Worker 1: common_voice_en_18341852.mp3:  Come off the motorway, take the next slip route, then lift at the roundabout.\n",
      "2025-10-07 04:07:49,303 INFO - ✓ Worker 13: common_voice_en_18343965.mp3:  I tried to read George Moore last night and was dreadfully bored.\n",
      "2025-10-07 04:07:49,382 INFO - ✓ Worker 0: common_voice_en_18343966.mp3:  His newborn cunning gave him poise and control.\n",
      "2025-10-07 04:07:49,500 INFO - ✓ Worker 9: common_voice_en_18343951.mp3:  Violation of this law was made a high misdemeanor and punished accordingly.\n",
      "2025-10-07 04:07:49,551 INFO - ✓ Worker 3: common_voice_en_18343949.mp3:  And watch out for wet fee, this is parting advice.\n",
      "2025-10-07 04:07:49,612 INFO - ✓ Worker 10: common_voice_en_18341844.mp3:  Yet he dreams he is immortal, I argue feebly.\n",
      "2025-10-07 04:07:50,190 INFO - ✓ Worker 2: common_voice_en_18343961.mp3:  I had been sad too long already.\n",
      "2025-10-07 04:07:50,818 INFO - ✓ Worker 5: common_voice_en_18344814.mp3:  The boy wins.\n",
      "2025-10-07 04:07:50,888 INFO - ✓ Worker 7: common_voice_en_18344815.mp3:  Watch your hands of me.\n",
      "2025-10-07 04:07:51,169 INFO - ✓ Worker 6: common_voice_en_18344812.mp3:  A bush chiff had died a natural death.\n",
      "2025-10-07 04:07:51,345 INFO - ✓ Worker 4: common_voice_en_18343992.mp3:  When Claire was 19, she found herself becoming increasingly depressed.\n",
      "2025-10-07 04:07:51,615 INFO - ✓ Worker 8: common_voice_en_18345568.mp3:  The victim was brutally murdered at the scene.\n",
      "2025-10-07 04:07:52,542 INFO - ✓ Worker 9: common_voice_en_18347649.mp3:  I just realized I left my keys in the door.\n",
      "2025-10-07 04:07:52,574 INFO - ✓ Worker 13: common_voice_en_18347659.mp3:  Shall we go up and lift or take the escalator?\n",
      "2025-10-07 04:07:52,758 INFO - ✓ Worker 10: common_voice_en_18345757.mp3:  She picked up the necklace and stuffed it into her bag.\n",
      "2025-10-07 04:07:52,791 INFO - ✓ Worker 1: common_voice_en_18344037.mp3:  On occasion, on this traverse, the Cape Verde Islands are raised.\n",
      "2025-10-07 04:07:52,829 INFO - ✓ Worker 12: common_voice_en_18345754.mp3:  This infernal chattering wears me even now, as I think of it.\n",
      "2025-10-07 04:07:52,852 INFO - ✓ Worker 11: common_voice_en_18345756.mp3:  We have plenty of capital or self, and yet we want more.\n",
      "2025-10-07 04:07:52,878 INFO - ✓ Worker 14: common_voice_en_18345758.mp3:  The software library will be released under the lesser general public license.\n",
      "2025-10-07 04:07:52,956 INFO - ✓ Worker 3: common_voice_en_18344001.mp3:  A gritting lorry is used to grit the roads when frost is expected overnight.\n",
      "2025-10-07 04:07:52,982 INFO - ✓ Worker 15: common_voice_en_18347661.mp3:  That's a rather specialised item. Are you certain it's what your wife would enjoy?\n"
     ]
    },
    {
     "name": "stderr",
     "output_type": "stream",
     "text": [
      "Downloading batch 62:  46%|████▌     | 22/48 [00:00<00:00, 90.03it/s]"
     ]
    },
    {
     "name": "stdout",
     "output_type": "stream",
     "text": [
      "2025-10-07 04:07:53,874 WARNING - Connection pool is full, discarding connection: asrelder-data.s3.amazonaws.com. Connection pool size: 10\n",
      "2025-10-07 04:07:53,937 WARNING - Connection pool is full, discarding connection: asrelder-data.s3.amazonaws.com. Connection pool size: 10\n",
      "2025-10-07 04:07:53,941 WARNING - Connection pool is full, discarding connection: asrelder-data.s3.amazonaws.com. Connection pool size: 10\n",
      "2025-10-07 04:07:53,943 WARNING - Connection pool is full, discarding connection: asrelder-data.s3.amazonaws.com. Connection pool size: 10\n",
      "2025-10-07 04:07:53,944 WARNING - Connection pool is full, discarding connection: asrelder-data.s3.amazonaws.com. Connection pool size: 10\n",
      "2025-10-07 04:07:53,958 WARNING - Connection pool is full, discarding connection: asrelder-data.s3.amazonaws.com. Connection pool size: 10\n",
      "2025-10-07 04:07:53,959 WARNING - Connection pool is full, discarding connection: asrelder-data.s3.amazonaws.com. Connection pool size: 10\n",
      "2025-10-07 04:07:53,993 WARNING - Connection pool is full, discarding connection: asrelder-data.s3.amazonaws.com. Connection pool size: 10\n"
     ]
    },
    {
     "name": "stderr",
     "output_type": "stream",
     "text": [
      "Downloading batch 62: 100%|██████████| 48/48 [00:00<00:00, 112.70it/s]"
     ]
    },
    {
     "name": "stdout",
     "output_type": "stream",
     "text": [
      "2025-10-07 04:07:53,996 INFO - Transcribing 48 files in parallel...\n"
     ]
    },
    {
     "name": "stderr",
     "output_type": "stream",
     "text": [
      "\n"
     ]
    },
    {
     "name": "stdout",
     "output_type": "stream",
     "text": [
      "2025-10-07 04:07:56,281 INFO - ✓ Worker 12: common_voice_en_18351980.mp3:  Best regards!\n",
      "2025-10-07 04:07:56,730 INFO - ✓ Worker 0: common_voice_en_18349094.mp3:  My watch is broken.\n",
      "2025-10-07 04:07:56,969 INFO - ✓ Worker 7: common_voice_en_18351998.mp3:  I love the new logo.\n",
      "2025-10-07 04:07:57,170 INFO - ✓ Worker 15: common_voice_en_18351999.mp3:  Goodbye Pierre, he shouted.\n",
      "2025-10-07 04:07:57,223 INFO - ✓ Worker 11: common_voice_en_18347662.mp3:  Take notes. This is important.\n",
      "2025-10-07 04:07:57,498 INFO - ✓ Worker 1: common_voice_en_18349095.mp3:  Both parties agree on the compromise.\n",
      "2025-10-07 04:07:57,503 INFO - ✓ Worker 13: common_voice_en_18350546.mp3:  The forces of evil must not prevail.\n",
      "2025-10-07 04:07:57,583 INFO - ✓ Worker 8: common_voice_en_18349096.mp3:  They ought to pass here sometime today.\n",
      "2025-10-07 04:07:57,701 INFO - ✓ Worker 14: common_voice_en_18351791.mp3:  We have also optimized our supply chain.\n",
      "2025-10-07 04:07:57,914 INFO - ✓ Worker 10: common_voice_en_18351930.mp3:  They are coming ashore whoever they are.\n",
      "2025-10-07 04:07:57,956 INFO - ✓ Worker 6: common_voice_en_18349098.mp3:  How much money is in my savings account?\n",
      "2025-10-07 04:07:58,142 INFO - ✓ Worker 4: common_voice_en_18352000.mp3:  It's been a year since I've seen you.\n",
      "2025-10-07 04:07:58,338 INFO - ✓ Worker 3: common_voice_en_18350550.mp3:  and now put yourself in my place for a moment.\n",
      "2025-10-07 04:07:58,687 INFO - ✓ Worker 5: common_voice_en_18350547.mp3:  Who the devil gave it to you to be judge and jury?\n",
      "2025-10-07 04:07:59,407 INFO - ✓ Worker 2: common_voice_en_18349916.mp3:  Some people think it's more polite to say napkin rather than survey it.\n",
      "2025-10-07 04:07:59,559 INFO - ✓ Worker 0: common_voice_en_18352064.mp3:  Why did Cooper get suspended at school?\n",
      "2025-10-07 04:08:00,324 INFO - ✓ Worker 9: common_voice_en_18347836.mp3:  But it is people sometimes with the world wildest, so it can seem outfashioned.\n",
      "2025-10-07 04:08:01,108 INFO - ✓ Worker 10: common_voice_en_18352186.mp3:  Part of me wants to believe you.\n",
      "2025-10-07 04:08:01,164 INFO - ✓ Worker 1: common_voice_en_18350548.mp3:  Jean and Pierre both gaze toward a great rock.\n",
      "2025-10-07 04:08:01,432 INFO - ✓ Worker 7: common_voice_en_18349201.mp3:  30 pounds of the capital of finality.\n",
      "2025-10-07 04:08:01,746 INFO - ✓ Worker 12: common_voice_en_18352001.mp3:  I've known her my whole life.\n",
      "2025-10-07 04:08:01,839 INFO - ✓ Worker 8: common_voice_en_18352866.mp3:  It was a temptation, but he resisted it.\n",
      "2025-10-07 04:08:01,839 INFO - ✓ Worker 4: common_voice_en_18349917.mp3:  I am going to build a radio of 50.\n",
      "2025-10-07 04:08:02,042 INFO - ✓ Worker 13: common_voice_en_18352187.mp3:  She saw the answer in his face.\n",
      "2025-10-07 04:08:02,095 INFO - ✓ Worker 3: common_voice_en_18351790.mp3:  Bajorin is an alternative to butter.\n",
      "2025-10-07 04:08:02,741 INFO - ✓ Worker 6: common_voice_en_18352154.mp3:  We saw your light and thought you wouldn't mind the call.\n",
      "2025-10-07 04:08:02,784 INFO - ✓ Worker 14: common_voice_en_18352083.mp3:  They went on many adventures to Leather.\n",
      "2025-10-07 04:08:03,176 INFO - ✓ Worker 2: common_voice_en_18352027.mp3:  Make sure you use your indicator before changing lanes.\n",
      "2025-10-07 04:08:03,200 INFO - ✓ Worker 11: common_voice_en_18352082.mp3:  He seized Gregson by the arm and led him to the door.\n",
      "2025-10-07 04:08:03,427 INFO - ✓ Worker 5: common_voice_en_18351787.mp3:  Oh, it's just a novel, a love story.\n",
      "2025-10-07 04:08:03,668 INFO - ✓ Worker 15: common_voice_en_18352869.mp3:  What would you do if you were a billionaire?\n",
      "2025-10-07 04:08:03,678 INFO - ✓ Worker 0: common_voice_en_18354891.mp3:  Many parents find pushers very convenient.\n",
      "2025-10-07 04:08:04,824 INFO - ✓ Worker 9: common_voice_en_18352188.mp3:  Too much, he told me we have a minus rolling hat.\n",
      "2025-10-07 04:08:05,540 INFO - ✓ Worker 2: common_voice_en_18354967.mp3:  Open the display settings.\n",
      "2025-10-07 04:08:05,823 INFO - ✓ Worker 1: common_voice_en_18354724.mp3:  The train was delayed, yes again, by a point failure.\n",
      "2025-10-07 04:08:05,829 INFO - ✓ Worker 5: common_voice_en_18354966.mp3:  How have you been?\n",
      "2025-10-07 04:08:05,849 INFO - ✓ Worker 3: common_voice_en_18354965.mp3:  Some areas are still closed after the incident.\n",
      "2025-10-07 04:08:05,881 INFO - ✓ Worker 4: common_voice_en_18354899.mp3:  Baristas and Solicitors are types of lawyer.\n",
      "2025-10-07 04:08:05,930 INFO - ✓ Worker 6: common_voice_en_18354964.mp3:  I graduated last of my class.\n",
      "2025-10-07 04:08:06,301 INFO - ✓ Worker 11: common_voice_en_18355181.mp3:  It was originally written as a screenplay.\n",
      "2025-10-07 04:08:06,360 INFO - ✓ Worker 7: common_voice_en_18355142.mp3:  My ethics professor's lessons are as exciting as watching paint dry.\n",
      "2025-10-07 04:08:06,448 INFO - ✓ Worker 10: common_voice_en_18354973.mp3:  He saw only the effect in a general sketchy way.\n",
      "2025-10-07 04:08:06,461 INFO - ✓ Worker 8: common_voice_en_18355179.mp3:  In that case he could not miss them if he used caution.\n",
      "2025-10-07 04:08:06,473 INFO - ✓ Worker 15: common_voice_en_18354974.mp3:  The aura of man rushed over him again.\n",
      "2025-10-07 04:08:06,569 INFO - ✓ Worker 12: common_voice_en_18355163.mp3:  The other felt a sudden wave of irritation rushed through him.\n",
      "2025-10-07 04:08:06,644 INFO - ✓ Worker 13: common_voice_en_18355657.mp3:  Yeal yourself to the waters that are ripping and tearing at you.\n",
      "2025-10-07 04:08:06,678 INFO - ✓ Worker 14: common_voice_en_18355712.mp3:  The big-eyed, clucking moosebirds were most annoying.\n",
      "2025-10-07 04:08:06,692 INFO - ✓ Worker 9: common_voice_en_18355209.mp3:  I'm as good as a man she urged.\n"
     ]
    },
    {
     "name": "stderr",
     "output_type": "stream",
     "text": [
      "Downloading batch 63:   2%|▏         | 1/48 [00:00<00:08,  5.87it/s]"
     ]
    },
    {
     "name": "stdout",
     "output_type": "stream",
     "text": [
      "2025-10-07 04:08:07,530 WARNING - Connection pool is full, discarding connection: asrelder-data.s3.amazonaws.com. Connection pool size: 10\n",
      "2025-10-07 04:08:07,531 WARNING - Connection pool is full, discarding connection: asrelder-data.s3.amazonaws.com. Connection pool size: 10\n",
      "2025-10-07 04:08:07,532 WARNING - Connection pool is full, discarding connection: asrelder-data.s3.amazonaws.com. Connection pool size: 10\n"
     ]
    },
    {
     "name": "stderr",
     "output_type": "stream",
     "text": [
      "Downloading batch 63:  44%|████▍     | 21/48 [00:00<00:00, 94.00it/s]"
     ]
    },
    {
     "name": "stdout",
     "output_type": "stream",
     "text": [
      "2025-10-07 04:08:07,652 WARNING - Connection pool is full, discarding connection: asrelder-data.s3.amazonaws.com. Connection pool size: 10\n",
      "2025-10-07 04:08:07,653 WARNING - Connection pool is full, discarding connection: asrelder-data.s3.amazonaws.com. Connection pool size: 10\n"
     ]
    },
    {
     "name": "stderr",
     "output_type": "stream",
     "text": [
      "Downloading batch 63:  83%|████████▎ | 40/48 [00:00<00:00, 126.51it/s]"
     ]
    },
    {
     "name": "stdout",
     "output_type": "stream",
     "text": [
      "2025-10-07 04:08:07,656 WARNING - Connection pool is full, discarding connection: asrelder-data.s3.amazonaws.com. Connection pool size: 10\n",
      "2025-10-07 04:08:07,660 WARNING - Connection pool is full, discarding connection: asrelder-data.s3.amazonaws.com. Connection pool size: 10\n",
      "2025-10-07 04:08:07,673 WARNING - Connection pool is full, discarding connection: asrelder-data.s3.amazonaws.com. Connection pool size: 10\n",
      "2025-10-07 04:08:07,676 WARNING - Connection pool is full, discarding connection: asrelder-data.s3.amazonaws.com. Connection pool size: 10\n",
      "2025-10-07 04:08:07,694 WARNING - Connection pool is full, discarding connection: asrelder-data.s3.amazonaws.com. Connection pool size: 10\n"
     ]
    },
    {
     "name": "stderr",
     "output_type": "stream",
     "text": [
      "Downloading batch 63: 100%|██████████| 48/48 [00:00<00:00, 113.65it/s]"
     ]
    },
    {
     "name": "stdout",
     "output_type": "stream",
     "text": [
      "2025-10-07 04:08:07,696 INFO - Transcribing 48 files in parallel...\n"
     ]
    },
    {
     "name": "stderr",
     "output_type": "stream",
     "text": [
      "\n"
     ]
    },
    {
     "name": "stdout",
     "output_type": "stream",
     "text": [
      "2025-10-07 04:08:10,711 INFO - ✓ Worker 8: common_voice_en_18355936.mp3:  Public transport is extremely efficient.\n",
      "2025-10-07 04:08:10,961 INFO - ✓ Worker 0: common_voice_en_18355931.mp3:  Can you do me a favor?\n",
      "2025-10-07 04:08:11,163 INFO - ✓ Worker 3: common_voice_en_18355713.mp3:  Also, she wouldn't walk.\n",
      "2025-10-07 04:08:11,222 INFO - ✓ Worker 10: common_voice_en_18356108.mp3:  I hate the homeowner's association.\n",
      "2025-10-07 04:08:11,517 INFO - ✓ Worker 6: common_voice_en_18367624.mp3:  I with Kevin would go with us.\n",
      "2025-10-07 04:08:11,643 INFO - ✓ Worker 13: common_voice_en_18355934.mp3:  Take my advice and accept the vacation.\n",
      "2025-10-07 04:08:11,688 INFO - ✓ Worker 4: common_voice_en_18355937.mp3:  Thus was momentum gained in the younger world.\n",
      "2025-10-07 04:08:11,809 INFO - ✓ Worker 1: common_voice_en_18355930.mp3:  The churches are coming together to provide disaster relief.\n",
      "2025-10-07 04:08:11,952 INFO - ✓ Worker 12: common_voice_en_18378837.mp3:  The spirit is waiting, but the flesh is weak.\n",
      "2025-10-07 04:08:12,151 INFO - ✓ Worker 11: common_voice_en_18372302.mp3:  I will recommend doing it before you get too old.\n",
      "2025-10-07 04:08:12,269 INFO - ✓ Worker 7: common_voice_en_18355956.mp3:  Was that a passenger train or a goods train?\n",
      "2025-10-07 04:08:12,473 INFO - ✓ Worker 14: common_voice_en_18356106.mp3:  As I say, he had tapped the message very rapidly.\n",
      "2025-10-07 04:08:13,187 INFO - ✓ Worker 2: common_voice_en_18355932.mp3:  Count the people on the bus and don't forget to include yourself.\n",
      "2025-10-07 04:08:13,246 INFO - ✓ Worker 15: common_voice_en_18356781.mp3:  A bird in the hand is worth two in the bush.\n",
      "2025-10-07 04:08:13,581 INFO - ✓ Worker 5: common_voice_en_18356111.mp3:  My daughter wanted a nice lolly, but my son preferred a nice cream can.\n",
      "2025-10-07 04:08:13,686 INFO - ✓ Worker 9: common_voice_en_18356109.mp3:  To make royal icing for a wedding cake, you're going to need icing sugar.\n",
      "2025-10-07 04:08:14,400 INFO - ✓ Worker 3: common_voice_en_18372287.mp3:  I showed up some night.\n",
      "2025-10-07 04:08:15,135 INFO - ✓ Worker 8: common_voice_en_18393985.mp3:  The President of Russia is Vladimir Putin.\n",
      "2025-10-07 04:08:15,423 INFO - ✓ Worker 0: common_voice_en_18356105.mp3:  It issued a rate for $42 a car on charcoal.\n",
      "2025-10-07 04:08:15,706 INFO - ✓ Worker 4: common_voice_en_18356100.mp3:  Yes, it was a man who asked a stranger.\n",
      "2025-10-07 04:08:15,823 INFO - ✓ Worker 6: common_voice_en_18357036.mp3:  The next time the eclipse occurs is in 2024.\n",
      "2025-10-07 04:08:15,963 INFO - ✓ Worker 10: common_voice_en_18400514.mp3:  She announced that the sequel was being pushed back.\n",
      "2025-10-07 04:08:16,162 INFO - ✓ Worker 11: common_voice_en_18387829.mp3:  Thomas 1, first place in the competition.\n",
      "2025-10-07 04:08:16,235 INFO - ✓ Worker 2: common_voice_en_18355960.mp3:  An arrow foil provides lift.\n",
      "2025-10-07 04:08:16,236 INFO - ✓ Worker 7: common_voice_en_18367621.mp3:  Riches are the sumptum rules of fortune.\n",
      "2025-10-07 04:08:16,253 INFO - ✓ Worker 12: common_voice_en_18400513.mp3:  My girlfriend's dad just called.\n",
      "2025-10-07 04:08:17,034 INFO - ✓ Worker 1: common_voice_en_18356104.mp3:  I need to go to the lost property office. I've lost my keys.\n",
      "2025-10-07 04:08:17,162 INFO - ✓ Worker 9: common_voice_en_18400533.mp3:  He was wearing that informative look of his.\n",
      "2025-10-07 04:08:17,610 INFO - ✓ Worker 14: common_voice_en_18400544.mp3:  It's aching for a different reason altogether.\n",
      "2025-10-07 04:08:17,652 INFO - ✓ Worker 13: common_voice_en_18400548.mp3:  and they are used to dance like elves of the light.\n",
      "2025-10-07 04:08:18,231 INFO - ✓ Worker 15: common_voice_en_18400689.mp3:  If Pete threatens anyone again, he ought to be set.\n",
      "2025-10-07 04:08:18,232 INFO - ✓ Worker 3: common_voice_en_18401.mp3:  A boy serves.\n",
      "2025-10-07 04:08:18,812 INFO - ✓ Worker 0: common_voice_en_18400.mp3:  Two girls wearing an army uniform.\n",
      "2025-10-07 04:08:19,393 INFO - ✓ Worker 5: common_voice_en_18355958.mp3:  Chats is entirely a game of skill, but backgammon includes an element of chance.\n",
      "2025-10-07 04:08:19,574 INFO - ✓ Worker 2: common_voice_en_18400809.mp3:  But I am afraid it is impossible.\n",
      "2025-10-07 04:08:19,888 INFO - ✓ Worker 10: common_voice_en_18401684.mp3:  That came before my ABCs.\n",
      "2025-10-07 04:08:19,918 INFO - ✓ Worker 6: common_voice_en_18401672.mp3:  The children try to build a den in the woods.\n",
      "2025-10-07 04:08:19,984 INFO - ✓ Worker 4: common_voice_en_18400711.mp3:  Gussie shot in and I heard the key turn.\n",
      "2025-10-07 04:08:20,111 INFO - ✓ Worker 15: common_voice_en_18401701.mp3:  Shake it like.\n",
      "2025-10-07 04:08:20,284 INFO - ✓ Worker 8: common_voice_en_18400732.mp3:  The town had a linear park along the riverbank.\n",
      "2025-10-07 04:08:20,290 INFO - ✓ Worker 9: common_voice_en_18401566.mp3:  He was sitting on the fence as usual.\n",
      "2025-10-07 04:08:20,467 INFO - ✓ Worker 7: common_voice_en_18400667.mp3:  Is she going to have a hand knight before the wedding?\n",
      "2025-10-07 04:08:20,515 INFO - ✓ Worker 1: common_voice_en_18400549.mp3:  He wasn't able to appreciate the picture's value.\n",
      "2025-10-07 04:08:20,728 INFO - ✓ Worker 13: common_voice_en_18401711.mp3:  Stand off butcher and baker and all the rest.\n",
      "2025-10-07 04:08:20,750 INFO - ✓ Worker 11: common_voice_en_18401136.mp3:  I used coloring pencils to get the subtle colors in the sky.\n",
      "2025-10-07 04:08:20,783 INFO - ✓ Worker 12: common_voice_en_18400721.mp3:  Enjoy it he did, but principally for Stuart's sake.\n",
      "2025-10-07 04:08:20,824 INFO - ✓ Worker 5: common_voice_en_18400547.mp3:  Sherry triflest at tops.\n",
      "2025-10-07 04:08:20,867 INFO - ✓ Worker 14: common_voice_en_18401661.mp3:  I just nipped into the dining room and drank out of the decanter.\n"
     ]
    },
    {
     "name": "stderr",
     "output_type": "stream",
     "text": [
      "Downloading batch 64:   2%|▏         | 1/48 [00:00<00:08,  5.40it/s]"
     ]
    },
    {
     "name": "stdout",
     "output_type": "stream",
     "text": [
      "2025-10-07 04:08:21,712 WARNING - Connection pool is full, discarding connection: asrelder-data.s3.amazonaws.com. Connection pool size: 10\n",
      "2025-10-07 04:08:21,726 WARNING - Connection pool is full, discarding connection: asrelder-data.s3.amazonaws.com. Connection pool size: 10\n",
      "2025-10-07 04:08:21,727 WARNING - Connection pool is full, discarding connection: asrelder-data.s3.amazonaws.com. Connection pool size: 10\n",
      "2025-10-07 04:08:21,727 WARNING - Connection pool is full, discarding connection: asrelder-data.s3.amazonaws.com. Connection pool size: 10\n",
      "2025-10-07 04:08:21,744 WARNING - Connection pool is full, discarding connection: asrelder-data.s3.amazonaws.com. Connection pool size: 10\n",
      "2025-10-07 04:08:21,745 WARNING - Connection pool is full, discarding connection: asrelder-data.s3.amazonaws.com. Connection pool size: 10\n"
     ]
    },
    {
     "name": "stderr",
     "output_type": "stream",
     "text": [
      "Downloading batch 64:  50%|█████     | 24/48 [00:00<00:00, 98.63it/s]"
     ]
    },
    {
     "name": "stdout",
     "output_type": "stream",
     "text": [
      "2025-10-07 04:08:21,879 WARNING - Connection pool is full, discarding connection: asrelder-data.s3.amazonaws.com. Connection pool size: 10\n"
     ]
    },
    {
     "name": "stderr",
     "output_type": "stream",
     "text": [
      "Downloading batch 64:  88%|████████▊ | 42/48 [00:00<00:00, 123.33it/s]"
     ]
    },
    {
     "name": "stdout",
     "output_type": "stream",
     "text": [
      "2025-10-07 04:08:21,883 WARNING - Connection pool is full, discarding connection: asrelder-data.s3.amazonaws.com. Connection pool size: 10\n",
      "2025-10-07 04:08:21,894 WARNING - Connection pool is full, discarding connection: asrelder-data.s3.amazonaws.com. Connection pool size: 10\n",
      "2025-10-07 04:08:21,895 WARNING - Connection pool is full, discarding connection: asrelder-data.s3.amazonaws.com. Connection pool size: 10\n",
      "2025-10-07 04:08:21,916 WARNING - Connection pool is full, discarding connection: asrelder-data.s3.amazonaws.com. Connection pool size: 10\n",
      "2025-10-07 04:08:21,919 WARNING - Connection pool is full, discarding connection: asrelder-data.s3.amazonaws.com. Connection pool size: 10\n",
      "2025-10-07 04:08:21,933 WARNING - Connection pool is full, discarding connection: asrelder-data.s3.amazonaws.com. Connection pool size: 10\n"
     ]
    },
    {
     "name": "stderr",
     "output_type": "stream",
     "text": [
      "Downloading batch 64: 100%|██████████| 48/48 [00:00<00:00, 103.91it/s]"
     ]
    },
    {
     "name": "stdout",
     "output_type": "stream",
     "text": [
      "2025-10-07 04:08:21,935 INFO - Transcribing 48 files in parallel...\n"
     ]
    },
    {
     "name": "stderr",
     "output_type": "stream",
     "text": [
      "\n"
     ]
    },
    {
     "name": "stdout",
     "output_type": "stream",
     "text": [
      "2025-10-07 04:08:24,396 INFO - ✓ Worker 14: common_voice_en_18402746.mp3:  Is that understood?\n",
      "2025-10-07 04:08:24,636 INFO - ✓ Worker 11: common_voice_en_18402436.mp3:  She was kidding you.\n",
      "2025-10-07 04:08:24,866 INFO - ✓ Worker 7: common_voice_en_18401993.mp3:  and give her the works.\n",
      "2025-10-07 04:08:25,268 INFO - ✓ Worker 10: common_voice_en_18402588.mp3:  I hadn't made myself quite clear.\n",
      "2025-10-07 04:08:25,289 INFO - ✓ Worker 6: common_voice_en_18402505.mp3:  That mint's paw was really tasty.\n",
      "2025-10-07 04:08:25,329 INFO - ✓ Worker 9: common_voice_en_18402475.mp3:  He was frowning thoughtfully.\n",
      "2025-10-07 04:08:25,360 INFO - ✓ Worker 15: common_voice_en_18401725.mp3:  Silence all round if you please.\n",
      "2025-10-07 04:08:25,417 INFO - ✓ Worker 1: common_voice_en_18401716.mp3:  I'm struggling to begin writing my novel.\n",
      "2025-10-07 04:08:25,502 INFO - ✓ Worker 5: common_voice_en_18402.mp3:  A yellow sign advertises insurance in Spanish.\n",
      "2025-10-07 04:08:25,720 INFO - ✓ Worker 2: common_voice_en_18401714.mp3:  I'm surprised that you're in Angelo.\n",
      "2025-10-07 04:08:25,964 INFO - ✓ Worker 4: common_voice_en_18402013.mp3:  The cheers that grit this well the loudest yet.\n",
      "2025-10-07 04:08:25,979 INFO - ✓ Worker 0: common_voice_en_18401995.mp3:  It's probably the first thing they think of.\n",
      "2025-10-07 04:08:25,999 INFO - ✓ Worker 13: common_voice_en_18401981.mp3:  We want to include all of our partners in this project.\n",
      "2025-10-07 04:08:26,670 INFO - ✓ Worker 8: common_voice_en_18402086.mp3:  with all its sham, drudgery and broken dreams.\n",
      "2025-10-07 04:08:26,752 INFO - ✓ Worker 3: common_voice_en_18401713.mp3:  Benjamin Britain's most famous opera was the turn of the screw.\n",
      "2025-10-07 04:08:27,551 INFO - ✓ Worker 12: common_voice_en_18402589.mp3:  When I was your age, I did it for half an hour a day.\n",
      "2025-10-07 04:08:27,985 INFO - ✓ Worker 7: common_voice_en_18402590.mp3:  We aim to please.\n",
      "2025-10-07 04:08:28,629 INFO - ✓ Worker 1: common_voice_en_18402533.mp3:  What are you said, the pigeon?\n",
      "2025-10-07 04:08:28,744 INFO - ✓ Worker 5: common_voice_en_18402592.mp3:  Oh no, I dropped my wallet.\n",
      "2025-10-07 04:08:29,091 INFO - ✓ Worker 13: common_voice_en_18402760.mp3:  Very kind indeed.\n",
      "2025-10-07 04:08:29,103 INFO - ✓ Worker 6: common_voice_en_18402741.mp3:  I understand we have a board meeting on Tuesday.\n",
      "2025-10-07 04:08:29,144 INFO - ✓ Worker 4: common_voice_en_18402433.mp3:  Labrarians always sought their sources.\n",
      "2025-10-07 04:08:29,193 INFO - ✓ Worker 10: common_voice_en_18402758.mp3:  Have you ever used the dating app?\n",
      "2025-10-07 04:08:29,296 INFO - ✓ Worker 0: common_voice_en_18402534.mp3:  Never mind about your scripture prize.\n",
      "2025-10-07 04:08:29,964 INFO - ✓ Worker 9: common_voice_en_18402747.mp3:  I do hope there's an index in this textbook.\n",
      "2025-10-07 04:08:30,042 INFO - ✓ Worker 2: common_voice_en_18402532.mp3:  The woman in the navy blue beret was running away.\n",
      "2025-10-07 04:08:30,091 INFO - ✓ Worker 11: common_voice_en_18402853.mp3:  The pupil and Iris are parts of the eye.\n",
      "2025-10-07 04:08:30,303 INFO - ✓ Worker 8: common_voice_en_18402750.mp3:  The press will go crazy over this story.\n",
      "2025-10-07 04:08:30,332 INFO - ✓ Worker 14: common_voice_en_18403905.mp3:  You are going out into the great world.\n",
      "2025-10-07 04:08:30,493 INFO - ✓ Worker 3: common_voice_en_18402591.mp3:  You mustn't do that, stop it.\n",
      "2025-10-07 04:08:31,160 INFO - ✓ Worker 12: common_voice_en_18402752.mp3:  He served in the military for 14 years.\n",
      "2025-10-07 04:08:31,580 INFO - ✓ Worker 15: common_voice_en_18402787.mp3:  The company should have been more candid years ago.\n",
      "2025-10-07 04:08:32,298 INFO - ✓ Worker 7: common_voice_en_18403913.mp3:  It generally gets a hand.\n",
      "2025-10-07 04:08:32,729 INFO - ✓ Worker 11: common_voice_en_18403941.mp3:  Altogether now.\n",
      "2025-10-07 04:08:32,736 INFO - ✓ Worker 1: common_voice_en_18403914.mp3:  Please refer to the Manual Operating Instructions.\n",
      "2025-10-07 04:08:33,264 INFO - ✓ Worker 4: common_voice_en_18403938.mp3:  I don't whether that crash would have been survivable.\n",
      "2025-10-07 04:08:33,627 INFO - ✓ Worker 6: common_voice_en_18404.mp3:  Two guys stand by as another guy skits down the road.\n",
      "2025-10-07 04:08:33,634 INFO - ✓ Worker 2: common_voice_en_18403906.mp3:  Then I saw how the thing could be handled.\n",
      "2025-10-07 04:08:33,695 INFO - ✓ Worker 10: common_voice_en_18403.mp3:  Acquire, practicing in a church.\n",
      "2025-10-07 04:08:33,727 INFO - ✓ Worker 13: common_voice_en_18404084.mp3:  She really needed her espresso in the morning.\n",
      "2025-10-07 04:08:33,825 INFO - ✓ Worker 0: common_voice_en_18403904.mp3:  You've gone out by fighting and I threw a pretty girl.\n",
      "2025-10-07 04:08:33,862 INFO - ✓ Worker 8: common_voice_en_18404209.mp3:  He had no idea what Inter-Alia meant.\n",
      "2025-10-07 04:08:33,897 INFO - ✓ Worker 5: common_voice_en_18404207.mp3:  He looked like one who had passed through an uncomfortable hour or two.\n",
      "2025-10-07 04:08:33,993 INFO - ✓ Worker 12: common_voice_en_18404206.mp3:  What is the best route to my destination?\n",
      "2025-10-07 04:08:34,015 INFO - ✓ Worker 3: common_voice_en_18403930.mp3:  It is quite alright, Jeeps. Quite alright.\n",
      "2025-10-07 04:08:34,029 INFO - ✓ Worker 14: common_voice_en_18403932.mp3:  It's getting warmer, the ice is melting.\n",
      "2025-10-07 04:08:34,047 INFO - ✓ Worker 9: common_voice_en_18403917.mp3:  Looking at the map, Linda realized that the two areas were contiguous.\n",
      "2025-10-07 04:08:34,112 INFO - ✓ Worker 15: common_voice_en_18403907.mp3:  He became a bookkeeper and was then elected as an alderman.\n"
     ]
    },
    {
     "name": "stderr",
     "output_type": "stream",
     "text": [
      "Downloading batch 65:  42%|████▏     | 20/48 [00:00<00:00, 89.02it/s]"
     ]
    },
    {
     "name": "stdout",
     "output_type": "stream",
     "text": [
      "2025-10-07 04:08:35,053 WARNING - Connection pool is full, discarding connection: asrelder-data.s3.amazonaws.com. Connection pool size: 10\n",
      "2025-10-07 04:08:35,064 WARNING - Connection pool is full, discarding connection: asrelder-data.s3.amazonaws.com. Connection pool size: 10\n",
      "2025-10-07 04:08:35,065 WARNING - Connection pool is full, discarding connection: asrelder-data.s3.amazonaws.com. Connection pool size: 10\n",
      "2025-10-07 04:08:35,066 WARNING - Connection pool is full, discarding connection: asrelder-data.s3.amazonaws.com. Connection pool size: 10\n",
      "2025-10-07 04:08:35,071 WARNING - Connection pool is full, discarding connection: asrelder-data.s3.amazonaws.com. Connection pool size: 10\n"
     ]
    },
    {
     "name": "stderr",
     "output_type": "stream",
     "text": [
      "Downloading batch 65:  90%|████████▉ | 43/48 [00:00<00:00, 144.30it/s]"
     ]
    },
    {
     "name": "stdout",
     "output_type": "stream",
     "text": [
      "2025-10-07 04:08:35,075 WARNING - Connection pool is full, discarding connection: asrelder-data.s3.amazonaws.com. Connection pool size: 10\n",
      "2025-10-07 04:08:35,080 WARNING - Connection pool is full, discarding connection: asrelder-data.s3.amazonaws.com. Connection pool size: 10\n",
      "2025-10-07 04:08:35,088 WARNING - Connection pool is full, discarding connection: asrelder-data.s3.amazonaws.com. Connection pool size: 10\n",
      "2025-10-07 04:08:35,109 WARNING - Connection pool is full, discarding connection: asrelder-data.s3.amazonaws.com. Connection pool size: 10\n",
      "2025-10-07 04:08:35,124 WARNING - Connection pool is full, discarding connection: asrelder-data.s3.amazonaws.com. Connection pool size: 10\n"
     ]
    },
    {
     "name": "stderr",
     "output_type": "stream",
     "text": [
      "Downloading batch 65: 100%|██████████| 48/48 [00:00<00:00, 112.90it/s]"
     ]
    },
    {
     "name": "stdout",
     "output_type": "stream",
     "text": [
      "2025-10-07 04:08:35,127 INFO - Transcribing 48 files in parallel...\n"
     ]
    },
    {
     "name": "stderr",
     "output_type": "stream",
     "text": [
      "\n"
     ]
    },
    {
     "name": "stdout",
     "output_type": "stream",
     "text": [
      "2025-10-07 04:08:37,827 INFO - ✓ Worker 12: common_voice_en_18404979.mp3:  The motor has failed.\n",
      "2025-10-07 04:08:37,846 INFO - ✓ Worker 13: common_voice_en_18405.mp3:  Two men playing hockey.\n",
      "2025-10-07 04:08:38,261 INFO - ✓ Worker 11: common_voice_en_18406919.mp3:  World prices are leveling out.\n",
      "2025-10-07 04:08:38,268 INFO - ✓ Worker 10: common_voice_en_18404680.mp3:  Is one to have no privacy?\n",
      "2025-10-07 04:08:38,366 INFO - ✓ Worker 14: common_voice_en_18404978.mp3:  You couldn't have done better.\n",
      "2025-10-07 04:08:38,372 INFO - ✓ Worker 5: common_voice_en_18405741.mp3:  You married by any chance?\n",
      "2025-10-07 04:08:38,663 INFO - ✓ Worker 3: common_voice_en_18406172.mp3:  An advanced progressist is a radical.\n",
      "2025-10-07 04:08:38,665 INFO - ✓ Worker 4: common_voice_en_18406147.mp3:  You are presenting him with the drawing prize.\n",
      "2025-10-07 04:08:38,826 INFO - ✓ Worker 7: common_voice_en_18404215.mp3:  It really doesn't have to be like that.\n",
      "2025-10-07 04:08:38,843 INFO - ✓ Worker 2: common_voice_en_18406.mp3:  Two man at a table discussing some paperwork.\n",
      "2025-10-07 04:08:38,929 INFO - ✓ Worker 9: common_voice_en_18404781.mp3:  Our glasses and egg timers are fascinating.\n",
      "2025-10-07 04:08:39,079 INFO - ✓ Worker 15: common_voice_en_18406917.mp3:  I'll read the Keras documentation this weekend.\n",
      "2025-10-07 04:08:39,093 INFO - ✓ Worker 6: common_voice_en_18404220.mp3:  I am excited about upcoming products release next year.\n",
      "2025-10-07 04:08:39,129 INFO - ✓ Worker 1: common_voice_en_18404218.mp3:  It took a bike ride on the forest trails.\n",
      "2025-10-07 04:08:39,826 INFO - ✓ Worker 0: common_voice_en_18404217.mp3:  I hadn't expected such a hot one from such a quarter.\n",
      "2025-10-07 04:08:39,999 INFO - ✓ Worker 8: common_voice_en_18405591.mp3:  An essential element in criminal culpability is men's rear.\n",
      "2025-10-07 04:08:41,524 INFO - ✓ Worker 5: common_voice_en_18404403.mp3:  I've got it, I said.\n",
      "2025-10-07 04:08:41,607 INFO - ✓ Worker 12: common_voice_en_18407272.mp3:  She's totally obsessed.\n",
      "2025-10-07 04:08:41,926 INFO - ✓ Worker 9: common_voice_en_18407271.mp3:  So, as I was saying,\n",
      "2025-10-07 04:08:42,551 INFO - ✓ Worker 4: common_voice_en_18405221.mp3:  A valance is the same thing as a pellet.\n",
      "2025-10-07 04:08:42,598 INFO - ✓ Worker 3: common_voice_en_18406594.mp3:  First you boil the spots, then you mash them.\n",
      "2025-10-07 04:08:42,702 INFO - ✓ Worker 10: common_voice_en_18406179.mp3:  Do you want a single ticket or a return?\n",
      "2025-10-07 04:08:42,852 INFO - ✓ Worker 2: common_voice_en_18405473.mp3:  Say there's something you want to say to her.\n",
      "2025-10-07 04:08:43,172 INFO - ✓ Worker 11: common_voice_en_18407258.mp3:  A meal presented well is most memorable.\n",
      "2025-10-07 04:08:43,327 INFO - ✓ Worker 14: common_voice_en_18407037.mp3:  Medieval is now more frequently spelled medieval.\n",
      "2025-10-07 04:08:43,338 INFO - ✓ Worker 7: common_voice_en_18407257.mp3:  Guys see, I was sorry to see, didn't like him.\n",
      "2025-10-07 04:08:43,512 INFO - ✓ Worker 6: common_voice_en_18406176.mp3:  The decorator should have protected your carpet with a dust sheet.\n",
      "2025-10-07 04:08:43,530 INFO - ✓ Worker 1: common_voice_en_18407036.mp3:  I have many thousands of books on my bookshelves.\n",
      "2025-10-07 04:08:43,599 INFO - ✓ Worker 8: common_voice_en_18407259.mp3:  Monty Python was a famous BBC comedy series.\n",
      "2025-10-07 04:08:44,259 INFO - ✓ Worker 15: common_voice_en_18407845.mp3:  The legal action comprised a claim and counter-claim.\n",
      "2025-10-07 04:08:44,650 INFO - ✓ Worker 0: common_voice_en_18404977.mp3:  There was the usual stream of merchandise, books and spin-offs.\n",
      "2025-10-07 04:08:45,000 INFO - ✓ Worker 13: common_voice_en_18407841.mp3:  The spiritual anguish induced by that tactless speech had become noticeably lessened.\n",
      "2025-10-07 04:08:45,916 INFO - ✓ Worker 4: common_voice_en_18407844.mp3:  The King brought chaos to the nation.\n",
      "2025-10-07 04:08:46,174 INFO - ✓ Worker 2: common_voice_en_18407836.mp3:  A furry must have been crying.\n",
      "2025-10-07 04:08:46,360 INFO - ✓ Worker 1: common_voice_en_18407840.mp3:  The children were never satisfied.\n",
      "2025-10-07 04:08:46,578 INFO - ✓ Worker 7: common_voice_en_18407838.mp3:  I'm not going to risk that.\n",
      "2025-10-07 04:08:46,582 INFO - ✓ Worker 8: common_voice_en_18407935.mp3:  Have you tasted this soup here?\n",
      "2025-10-07 04:08:46,650 INFO - ✓ Worker 5: common_voice_en_18407907.mp3:  Well, I wasn't going to, of course.\n",
      "2025-10-07 04:08:46,907 INFO - ✓ Worker 9: common_voice_en_18407927.mp3:  And don't remind me of your existence again.\n",
      "2025-10-07 04:08:46,926 INFO - ✓ Worker 11: common_voice_en_18407931.mp3:  Just on 8 o'clock soon.\n",
      "2025-10-07 04:08:47,037 INFO - ✓ Worker 3: common_voice_en_18407837.mp3:  Possibly, I am letting the thing pray on my mind too much.\n",
      "2025-10-07 04:08:47,051 INFO - ✓ Worker 6: common_voice_en_18407933.mp3:  She seemed to come out of a reverie.\n",
      "2025-10-07 04:08:47,100 INFO - ✓ Worker 12: common_voice_en_18407926.mp3:  What are we going to do after dinner?\n",
      "2025-10-07 04:08:47,217 INFO - ✓ Worker 0: common_voice_en_18407906.mp3:  Chips, cheese, and peas.\n",
      "2025-10-07 04:08:47,235 INFO - ✓ Worker 15: common_voice_en_18407843.mp3:  British full stop is American period.\n",
      "2025-10-07 04:08:47,277 INFO - ✓ Worker 10: common_voice_en_18407912.mp3:  I have a lunch engagement, so we'll follow in the car.\n",
      "2025-10-07 04:08:47,308 INFO - ✓ Worker 14: common_voice_en_18407911.mp3:  There seems to be a problem with the fuel injection.\n",
      "2025-10-07 04:08:47,310 INFO - ✓ Worker 13: common_voice_en_18407930.mp3:  In total, of quite happily to find another.\n",
      "2025-10-07 04:08:47,319 INFO - Appended 240 rows to ./transcripts_from_prefix.csv\n"
     ]
    },
    {
     "name": "stderr",
     "output_type": "stream",
     "text": [
      "Downloading batch 66:   2%|▏         | 1/48 [00:00<00:06,  7.48it/s]"
     ]
    },
    {
     "name": "stdout",
     "output_type": "stream",
     "text": [
      "2025-10-07 04:08:48,145 WARNING - Connection pool is full, discarding connection: asrelder-data.s3.amazonaws.com. Connection pool size: 10\n"
     ]
    },
    {
     "name": "stderr",
     "output_type": "stream",
     "text": [
      "Downloading batch 66:  27%|██▋       | 13/48 [00:00<00:00, 64.18it/s]"
     ]
    },
    {
     "name": "stdout",
     "output_type": "stream",
     "text": [
      "2025-10-07 04:08:48,150 WARNING - Connection pool is full, discarding connection: asrelder-data.s3.amazonaws.com. Connection pool size: 10\n",
      "2025-10-07 04:08:48,155 WARNING - Connection pool is full, discarding connection: asrelder-data.s3.amazonaws.com. Connection pool size: 10\n",
      "2025-10-07 04:08:48,156 WARNING - Connection pool is full, discarding connection: asrelder-data.s3.amazonaws.com. Connection pool size: 10\n",
      "2025-10-07 04:08:48,156 WARNING - Connection pool is full, discarding connection: asrelder-data.s3.amazonaws.com. Connection pool size: 10\n",
      "2025-10-07 04:08:48,159 WARNING - Connection pool is full, discarding connection: asrelder-data.s3.amazonaws.com. Connection pool size: 10\n",
      "2025-10-07 04:08:48,160 WARNING - Connection pool is full, discarding connection: asrelder-data.s3.amazonaws.com. Connection pool size: 10\n"
     ]
    },
    {
     "name": "stderr",
     "output_type": "stream",
     "text": [
      "Downloading batch 66:  60%|██████    | 29/48 [00:00<00:00, 104.02it/s]"
     ]
    },
    {
     "name": "stdout",
     "output_type": "stream",
     "text": [
      "2025-10-07 04:08:48,281 WARNING - Connection pool is full, discarding connection: asrelder-data.s3.amazonaws.com. Connection pool size: 10\n",
      "2025-10-07 04:08:48,284 WARNING - Connection pool is full, discarding connection: asrelder-data.s3.amazonaws.com. Connection pool size: 10\n",
      "2025-10-07 04:08:48,285 WARNING - Connection pool is full, discarding connection: asrelder-data.s3.amazonaws.com. Connection pool size: 10\n",
      "2025-10-07 04:08:48,311 WARNING - Connection pool is full, discarding connection: asrelder-data.s3.amazonaws.com. Connection pool size: 10\n",
      "2025-10-07 04:08:48,316 WARNING - Connection pool is full, discarding connection: asrelder-data.s3.amazonaws.com. Connection pool size: 10\n",
      "2025-10-07 04:08:48,331 WARNING - Connection pool is full, discarding connection: asrelder-data.s3.amazonaws.com. Connection pool size: 10\n",
      "2025-10-07 04:08:48,334 WARNING - Connection pool is full, discarding connection: asrelder-data.s3.amazonaws.com. Connection pool size: 10\n",
      "2025-10-07 04:08:48,345 WARNING - Connection pool is full, discarding connection: asrelder-data.s3.amazonaws.com. Connection pool size: 10\n"
     ]
    },
    {
     "name": "stderr",
     "output_type": "stream",
     "text": [
      "Downloading batch 66: 100%|██████████| 48/48 [00:00<00:00, 109.97it/s]"
     ]
    },
    {
     "name": "stdout",
     "output_type": "stream",
     "text": [
      "2025-10-07 04:08:48,347 INFO - Transcribing 48 files in parallel...\n"
     ]
    },
    {
     "name": "stderr",
     "output_type": "stream",
     "text": [
      "\n"
     ]
    },
    {
     "name": "stdout",
     "output_type": "stream",
     "text": [
      "2025-10-07 04:08:51,355 INFO - ✓ Worker 6: common_voice_en_18408230.mp3:  Guilty is charged.\n",
      "2025-10-07 04:08:51,508 INFO - ✓ Worker 8: common_voice_en_18407991.mp3:  Please don't say anymore.\n",
      "2025-10-07 04:08:51,560 INFO - ✓ Worker 3: common_voice_en_18407977.mp3:  I'm talking about this man.\n",
      "2025-10-07 04:08:51,658 INFO - ✓ Worker 15: common_voice_en_18408292.mp3:  Hold on for just a second.\n",
      "2025-10-07 04:08:51,833 INFO - ✓ Worker 11: common_voice_en_18408.mp3:  A dog chasing a ball indoors.\n",
      "2025-10-07 04:08:51,954 INFO - ✓ Worker 1: common_voice_en_18407973.mp3:  Yes, I was noticing at dinner.\n",
      "2025-10-07 04:08:52,176 INFO - ✓ Worker 9: common_voice_en_18408075.mp3:  How could you have possibly lost all that money?\n",
      "2025-10-07 04:08:52,292 INFO - ✓ Worker 0: common_voice_en_18407971.mp3:  You will need gloves. It's freezing outside.\n",
      "2025-10-07 04:08:52,393 INFO - ✓ Worker 12: common_voice_en_18409998.mp3:  We can polish your car for 10 pounds.\n",
      "2025-10-07 04:08:52,531 INFO - ✓ Worker 7: common_voice_en_18409376.mp3:  I thought she might like a straw in a chat.\n",
      "2025-10-07 04:08:52,627 INFO - ✓ Worker 14: common_voice_en_18408222.mp3:  I intended to have no rot from the fellow.\n",
      "2025-10-07 04:08:52,800 INFO - ✓ Worker 13: common_voice_en_18408046.mp3:  I'm sure to pull it up in my lies.\n",
      "2025-10-07 04:08:52,862 INFO - ✓ Worker 2: common_voice_en_18407976.mp3:  Ben shook with fear when he spiked the leopard.\n",
      "2025-10-07 04:08:52,875 INFO - ✓ Worker 5: common_voice_en_18407992.mp3:  Well, alright, no need to get excited about it.\n",
      "2025-10-07 04:08:52,953 INFO - ✓ Worker 10: common_voice_en_18408036.mp3:  Hey little new about summed up while I was thinking.\n",
      "2025-10-07 04:08:53,990 INFO - ✓ Worker 4: common_voice_en_18408225.mp3:  There was such a horrible stink in the classroom that they evacuated the students.\n",
      "2025-10-07 04:08:54,859 INFO - ✓ Worker 3: common_voice_en_18409526.mp3:  spicy prawn and garlic pasta.\n",
      "2025-10-07 04:08:54,957 INFO - ✓ Worker 1: common_voice_en_18407972.mp3:  I prefer digital clocks to analog.\n",
      "2025-10-07 04:08:55,426 INFO - ✓ Worker 2: common_voice_en_18409475.mp3:  A girl always knows.\n",
      "2025-10-07 04:08:56,394 INFO - ✓ Worker 0: common_voice_en_18408040.mp3:  You really ought to do something about that handcut.\n",
      "2025-10-07 04:08:56,545 INFO - ✓ Worker 9: common_voice_en_18410483.mp3:  Do we have an example to illustrate that with?\n",
      "2025-10-07 04:08:56,831 INFO - ✓ Worker 5: common_voice_en_18409708.mp3:  I use my iPad more than my laptop.\n",
      "2025-10-07 04:08:56,846 INFO - ✓ Worker 10: common_voice_en_18410481.mp3:  I'm not doing anything Saturday evening.\n",
      "2025-10-07 04:08:56,903 INFO - ✓ Worker 4: common_voice_en_18408221.mp3:  How lovely the evenings were there.\n",
      "2025-10-07 04:08:56,954 INFO - ✓ Worker 1: common_voice_en_18410007.mp3:  Fun with flags.\n",
      "2025-10-07 04:08:57,012 INFO - ✓ Worker 8: common_voice_en_18410016.mp3:  You're joking me sir, the other managed to articulate.\n",
      "2025-10-07 04:08:57,027 INFO - ✓ Worker 14: common_voice_en_18410004.mp3:  I shall pitch it strong, sparing no effort.\n",
      "2025-10-07 04:08:57,234 INFO - ✓ Worker 13: common_voice_en_18410010.mp3:  Every bone in her aged body seemed broken or dislocated.\n",
      "2025-10-07 04:08:57,472 INFO - ✓ Worker 6: common_voice_en_18408077.mp3:  The policy is too negative, we need to rewrite it.\n",
      "2025-10-07 04:08:57,761 INFO - ✓ Worker 12: common_voice_en_18411399.mp3:  In this paper, the authors examine health, wealth and inequality.\n",
      "2025-10-07 04:08:58,013 INFO - ✓ Worker 7: common_voice_en_18409401.mp3:  She was carrying a huge rucksack with slipping bag and tent.\n",
      "2025-10-07 04:08:58,474 INFO - ✓ Worker 2: common_voice_en_18411420.mp3:  I tuted and drove off.\n",
      "2025-10-07 04:08:58,576 INFO - ✓ Worker 11: common_voice_en_18410.mp3:  A man in a white helmet and dark clothing stands in the snowy mountains.\n",
      "2025-10-07 04:08:59,155 INFO - ✓ Worker 15: common_voice_en_18411402.mp3:  Then it doesn't matter which way you go, set the cap.\n",
      "2025-10-07 04:08:59,704 INFO - ✓ Worker 3: common_voice_en_18411444.mp3:  Minus really loads of valid classes.\n",
      "2025-10-07 04:08:59,903 INFO - ✓ Worker 0: common_voice_en_18411435.mp3:  A boy is born in Bethlehem.\n",
      "2025-10-07 04:09:00,144 INFO - ✓ Worker 8: common_voice_en_18411.mp3:  A dog is jumping down the stairs.\n",
      "2025-10-07 04:09:00,408 INFO - ✓ Worker 5: common_voice_en_18411453.mp3:  After his retirement, all grew vegetable narrows.\n",
      "2025-10-07 04:09:00,502 INFO - ✓ Worker 4: common_voice_en_18411445.mp3:  and whether or not it is clear to you.\n",
      "2025-10-07 04:09:00,703 INFO - ✓ Worker 14: common_voice_en_18411464.mp3:  Purpose client of the platform.\n",
      "2025-10-07 04:09:00,769 INFO - ✓ Worker 9: common_voice_en_18412787.mp3:  We flatter ourselves. If we think, we understand relativity.\n",
      "2025-10-07 04:09:00,773 INFO - ✓ Worker 10: common_voice_en_18411466.mp3:  A beautiful world full of happiness or airless aid.\n",
      "2025-10-07 04:09:00,818 INFO - ✓ Worker 13: common_voice_en_18411447.mp3:  Afere, they are going to split up.\n",
      "2025-10-07 04:09:00,835 INFO - ✓ Worker 6: common_voice_en_18411400.mp3:  The bearded bloke passed a hand across his forehead.\n",
      "2025-10-07 04:09:00,940 INFO - ✓ Worker 12: common_voice_en_18411461.mp3:  Millions of pounds of public money has been wasted.\n",
      "2025-10-07 04:09:01,013 INFO - ✓ Worker 11: common_voice_en_18411467.mp3:  You'll need a method to work out the cost.\n",
      "2025-10-07 04:09:01,050 INFO - ✓ Worker 7: common_voice_en_18410009.mp3:  Jeeves, I said, I had not expected this of you.\n",
      "2025-10-07 04:09:01,069 INFO - ✓ Worker 15: common_voice_en_18411463.mp3:  He was trying his hardest, but kept forgetting things.\n"
     ]
    },
    {
     "name": "stderr",
     "output_type": "stream",
     "text": [
      "Downloading batch 67:  29%|██▉       | 14/48 [00:00<00:00, 64.91it/s]"
     ]
    },
    {
     "name": "stdout",
     "output_type": "stream",
     "text": [
      "2025-10-07 04:09:01,907 WARNING - Connection pool is full, discarding connection: asrelder-data.s3.amazonaws.com. Connection pool size: 10\n"
     ]
    },
    {
     "name": "stderr",
     "output_type": "stream",
     "text": [
      "Downloading batch 67:  77%|███████▋  | 37/48 [00:00<00:00, 130.78it/s]"
     ]
    },
    {
     "name": "stdout",
     "output_type": "stream",
     "text": [
      "2025-10-07 04:09:02,014 WARNING - Connection pool is full, discarding connection: asrelder-data.s3.amazonaws.com. Connection pool size: 10\n",
      "2025-10-07 04:09:02,018 WARNING - Connection pool is full, discarding connection: asrelder-data.s3.amazonaws.com. Connection pool size: 10\n",
      "2025-10-07 04:09:02,018 WARNING - Connection pool is full, discarding connection: asrelder-data.s3.amazonaws.com. Connection pool size: 10\n",
      "2025-10-07 04:09:02,020 WARNING - Connection pool is full, discarding connection: asrelder-data.s3.amazonaws.com. Connection pool size: 10\n",
      "2025-10-07 04:09:02,023 WARNING - Connection pool is full, discarding connection: asrelder-data.s3.amazonaws.com. Connection pool size: 10\n",
      "2025-10-07 04:09:02,042 WARNING - Connection pool is full, discarding connection: asrelder-data.s3.amazonaws.com. Connection pool size: 10\n",
      "2025-10-07 04:09:02,079 WARNING - Connection pool is full, discarding connection: asrelder-data.s3.amazonaws.com. Connection pool size: 10\n"
     ]
    },
    {
     "name": "stderr",
     "output_type": "stream",
     "text": [
      "Downloading batch 67: 100%|██████████| 48/48 [00:00<00:00, 110.17it/s]"
     ]
    },
    {
     "name": "stdout",
     "output_type": "stream",
     "text": [
      "2025-10-07 04:09:02,081 INFO - Transcribing 48 files in parallel...\n"
     ]
    },
    {
     "name": "stderr",
     "output_type": "stream",
     "text": [
      "\n"
     ]
    },
    {
     "name": "stdout",
     "output_type": "stream",
     "text": [
      "2025-10-07 04:09:04,940 INFO - ✓ Worker 6: common_voice_en_18413084.mp3:  Give her a break.\n",
      "2025-10-07 04:09:05,089 INFO - ✓ Worker 8: common_voice_en_18413253.mp3:  I read the thing again.\n",
      "2025-10-07 04:09:05,091 INFO - ✓ Worker 0: common_voice_en_18412973.mp3:  I was not talking through.\n",
      "2025-10-07 04:09:05,160 INFO - ✓ Worker 15: common_voice_en_18413262.mp3:  bring them forward lieutenant.\n",
      "2025-10-07 04:09:05,182 INFO - ✓ Worker 2: common_voice_en_18412988.mp3:  No, don't do that.\n",
      "2025-10-07 04:09:05,795 INFO - ✓ Worker 1: common_voice_en_18412961.mp3:  Frankie forgave Cruz what she owed.\n",
      "2025-10-07 04:09:05,930 INFO - ✓ Worker 12: common_voice_en_18412989.mp3:  Come out from behind, Bench.\n",
      "2025-10-07 04:09:06,045 INFO - ✓ Worker 7: common_voice_en_18413254.mp3:  How to deal with a rabid dog.\n",
      "2025-10-07 04:09:06,058 INFO - ✓ Worker 14: common_voice_en_18413052.mp3:  That's a bit of a conundrum.\n",
      "2025-10-07 04:09:06,071 INFO - ✓ Worker 3: common_voice_en_18412958.mp3:  And by Jeff, he was absolutely right.\n",
      "2025-10-07 04:09:06,592 INFO - ✓ Worker 10: common_voice_en_18413051.mp3:  Mayanese is an idol condiment to Christ.\n",
      "2025-10-07 04:09:06,756 INFO - ✓ Worker 13: common_voice_en_18413263.mp3:  She is always hiring from one appointment to the next.\n",
      "2025-10-07 04:09:06,828 INFO - ✓ Worker 9: common_voice_en_18413064.mp3:  Don hated being late and was always having to drag me out.\n",
      "2025-10-07 04:09:06,851 INFO - ✓ Worker 4: common_voice_en_18412976.mp3:  He must remember that Angel's shark is very key to her.\n",
      "2025-10-07 04:09:07,200 INFO - ✓ Worker 5: common_voice_en_18412788.mp3:  I mean to say, get shit, you know where I'll take.\n",
      "2025-10-07 04:09:07,288 INFO - ✓ Worker 11: common_voice_en_18412990.mp3:  Do I have to book? Or can I pay on the day?\n",
      "2025-10-07 04:09:08,523 INFO - ✓ Worker 2: common_voice_en_18413259.mp3:  I can feel it in my bones.\n",
      "2025-10-07 04:09:08,711 INFO - ✓ Worker 0: common_voice_en_18413256.mp3:  But what can I say about the sunset?\n",
      "2025-10-07 04:09:09,018 INFO - ✓ Worker 1: common_voice_en_18413257.mp3:  The city was founded three centuries ago.\n",
      "2025-10-07 04:09:09,244 INFO - ✓ Worker 9: common_voice_en_18413934.mp3:  The weakness passed.\n",
      "2025-10-07 04:09:09,333 INFO - ✓ Worker 3: common_voice_en_18413027.mp3:  He richly desired his reputation.\n",
      "2025-10-07 04:09:09,724 INFO - ✓ Worker 13: common_voice_en_18413995.mp3:  I need something clean.\n",
      "2025-10-07 04:09:10,066 INFO - ✓ Worker 7: common_voice_en_18413807.mp3:  Help, it's the piece from the deep.\n",
      "2025-10-07 04:09:10,125 INFO - ✓ Worker 11: common_voice_en_18413815.mp3:  Don't tell the boys.\n",
      "2025-10-07 04:09:10,186 INFO - ✓ Worker 8: common_voice_en_18413265.mp3:  My banking app requires two factor authentication.\n",
      "2025-10-07 04:09:10,386 INFO - ✓ Worker 10: common_voice_en_18413814.mp3:  She looked at me, her plexed.\n",
      "2025-10-07 04:09:10,545 INFO - ✓ Worker 4: common_voice_en_18413255.mp3:  The beta version will be released soon.\n",
      "2025-10-07 04:09:10,599 INFO - ✓ Worker 12: common_voice_en_18413816.mp3:  You won't do it, you mean?\n",
      "2025-10-07 04:09:11,092 INFO - ✓ Worker 5: common_voice_en_18413.mp3:  A young shout-hands painting on paper.\n",
      "2025-10-07 04:09:11,216 INFO - ✓ Worker 6: common_voice_en_18413258.mp3:  Fresh cases still able to walk, they clustered about the spokesman.\n",
      "2025-10-07 04:09:11,576 INFO - ✓ Worker 15: common_voice_en_18413810.mp3:  It reminded me of the time we saw the cool.\n",
      "2025-10-07 04:09:12,074 INFO - ✓ Worker 2: common_voice_en_18414246.mp3:  You're beating a death horse.\n",
      "2025-10-07 04:09:12,687 INFO - ✓ Worker 14: common_voice_en_18414.mp3:  A woman is playing with a dog and a large rock on the beach.\n",
      "2025-10-07 04:09:12,715 INFO - ✓ Worker 3: common_voice_en_18414247.mp3:  Castling wasly put in her tomb.\n",
      "2025-10-07 04:09:13,022 INFO - ✓ Worker 11: common_voice_en_18414448.mp3:  Him for Christmas Day.\n",
      "2025-10-07 04:09:13,440 INFO - ✓ Worker 9: common_voice_en_18414657.mp3:  Glory be to God on high.\n",
      "2025-10-07 04:09:13,468 INFO - ✓ Worker 4: common_voice_en_18413813.mp3:  Mary N. set the voice.\n",
      "2025-10-07 04:09:13,587 INFO - ✓ Worker 0: common_voice_en_18413994.mp3:  Mrs. Simmons' attitude had become unquestionably menacing.\n",
      "2025-10-07 04:09:13,759 INFO - ✓ Worker 5: common_voice_en_18414013.mp3:  I had spotted it all along.\n",
      "2025-10-07 04:09:13,825 INFO - ✓ Worker 7: common_voice_en_18414203.mp3:  The plane was delayed for three hours at Heathrow.\n",
      "2025-10-07 04:09:13,857 INFO - ✓ Worker 1: common_voice_en_18414012.mp3:  We'll have to walk faster if we have to get there in time.\n",
      "2025-10-07 04:09:14,015 INFO - ✓ Worker 12: common_voice_en_18414704.mp3:  Yes, Marty, this skin is bright.\n",
      "2025-10-07 04:09:14,072 INFO - ✓ Worker 8: common_voice_en_18414706.mp3:  Keith Seuss, Sheila, and Needle's booting.\n",
      "2025-10-07 04:09:14,145 INFO - ✓ Worker 15: common_voice_en_18414708.mp3:  A dream of continuing love.\n",
      "2025-10-07 04:09:14,150 INFO - ✓ Worker 13: common_voice_en_18414658.mp3:  Ali audiences were hungry for escapist entertainment.\n",
      "2025-10-07 04:09:14,180 INFO - ✓ Worker 6: common_voice_en_18414148.mp3:  But do not distress yourself with dark imaginings.\n",
      "2025-10-07 04:09:14,220 INFO - ✓ Worker 14: common_voice_en_18414705.mp3:  How to debone chicken?\n",
      "2025-10-07 04:09:14,220 INFO - ✓ Worker 10: common_voice_en_18414007.mp3:  I have always liked you as you were,\" said Dorothy, simply.\n"
     ]
    },
    {
     "name": "stderr",
     "output_type": "stream",
     "text": [
      "Downloading batch 68:  46%|████▌     | 22/48 [00:00<00:00, 98.64it/s]"
     ]
    },
    {
     "name": "stdout",
     "output_type": "stream",
     "text": [
      "2025-10-07 04:09:15,149 WARNING - Connection pool is full, discarding connection: asrelder-data.s3.amazonaws.com. Connection pool size: 10\n",
      "2025-10-07 04:09:15,199 WARNING - Connection pool is full, discarding connection: asrelder-data.s3.amazonaws.com. Connection pool size: 10\n",
      "2025-10-07 04:09:15,200 WARNING - Connection pool is full, discarding connection: asrelder-data.s3.amazonaws.com. Connection pool size: 10\n"
     ]
    },
    {
     "name": "stderr",
     "output_type": "stream",
     "text": [
      "Downloading batch 68:  85%|████████▌ | 41/48 [00:00<00:00, 129.91it/s]"
     ]
    },
    {
     "name": "stdout",
     "output_type": "stream",
     "text": [
      "2025-10-07 04:09:15,205 WARNING - Connection pool is full, discarding connection: asrelder-data.s3.amazonaws.com. Connection pool size: 10\n",
      "2025-10-07 04:09:15,206 WARNING - Connection pool is full, discarding connection: asrelder-data.s3.amazonaws.com. Connection pool size: 10\n",
      "2025-10-07 04:09:15,209 WARNING - Connection pool is full, discarding connection: asrelder-data.s3.amazonaws.com. Connection pool size: 10\n",
      "2025-10-07 04:09:15,220 WARNING - Connection pool is full, discarding connection: asrelder-data.s3.amazonaws.com. Connection pool size: 10\n",
      "2025-10-07 04:09:15,235 WARNING - Connection pool is full, discarding connection: asrelder-data.s3.amazonaws.com. Connection pool size: 10\n",
      "2025-10-07 04:09:15,302 WARNING - Connection pool is full, discarding connection: asrelder-data.s3.amazonaws.com. Connection pool size: 10\n"
     ]
    },
    {
     "name": "stderr",
     "output_type": "stream",
     "text": [
      "Downloading batch 68: 100%|██████████| 48/48 [00:00<00:00, 99.55it/s] "
     ]
    },
    {
     "name": "stdout",
     "output_type": "stream",
     "text": [
      "2025-10-07 04:09:15,305 INFO - Transcribing 48 files in parallel...\n"
     ]
    },
    {
     "name": "stderr",
     "output_type": "stream",
     "text": [
      "\n"
     ]
    },
    {
     "name": "stdout",
     "output_type": "stream",
     "text": [
      "2025-10-07 04:09:18,360 INFO - ✓ Worker 4: common_voice_en_18417498.mp3:  Please, Polesman.\n",
      "2025-10-07 04:09:18,481 INFO - ✓ Worker 1: common_voice_en_18415733.mp3:  Way of all 300 yards apart.\n",
      "2025-10-07 04:09:18,553 INFO - ✓ Worker 10: common_voice_en_18415729.mp3:  That's a crazy coincidence.\n",
      "2025-10-07 04:09:18,680 INFO - ✓ Worker 0: common_voice_en_18415728.mp3:  It will not be necessary, sir.\n",
      "2025-10-07 04:09:18,836 INFO - ✓ Worker 12: common_voice_en_18419592.mp3:  They are equally unfit for office.\n",
      "2025-10-07 04:09:18,873 INFO - ✓ Worker 3: common_voice_en_18415833.mp3:  All this was new stuff to me.\n",
      "2025-10-07 04:09:18,933 INFO - ✓ Worker 9: common_voice_en_18417497.mp3:  I could chew holes in the steel door.\n",
      "2025-10-07 04:09:19,409 INFO - ✓ Worker 2: common_voice_en_18415727.mp3:  Because prudence was always your strong suit.\n",
      "2025-10-07 04:09:19,615 INFO - ✓ Worker 11: common_voice_en_18415815.mp3:  He was depressed and was always feeling fed up.\n",
      "2025-10-07 04:09:19,814 INFO - ✓ Worker 6: common_voice_en_18419398.mp3:  She still seems to be in quite a lot of pain.\n",
      "2025-10-07 04:09:19,829 INFO - ✓ Worker 14: common_voice_en_18416.mp3:  A lady and a young boy are underneath the umbrella.\n",
      "2025-10-07 04:09:20,085 INFO - ✓ Worker 5: common_voice_en_18419395.mp3:  Thank you goodness that Polio has been eradicated.\n",
      "2025-10-07 04:09:20,462 INFO - ✓ Worker 13: common_voice_en_18415731.mp3:  She got a first for her for Douglass' module.\n",
      "2025-10-07 04:09:20,750 INFO - ✓ Worker 7: common_voice_en_18415734.mp3:  I have struggled all my life and I swear I'm no better.\n",
      "2025-10-07 04:09:21,321 INFO - ✓ Worker 15: common_voice_en_18415.mp3:  A football player kneeling down in a field with a football in his hands.\n",
      "2025-10-07 04:09:21,715 INFO - ✓ Worker 4: common_voice_en_18417.mp3:  Some children run through a fountain.\n",
      "2025-10-07 04:09:21,831 INFO - ✓ Worker 0: common_voice_en_18419557.mp3:  I wonder what they'll do next.\n",
      "2025-10-07 04:09:21,919 INFO - ✓ Worker 8: common_voice_en_18417496.mp3:  Hey Mrs. Greatley and would be very grateful to whomsoever might return it.\n",
      "2025-10-07 04:09:22,307 INFO - ✓ Worker 2: common_voice_en_18416094.mp3:  Down restored with a common sense.\n",
      "2025-10-07 04:09:22,546 INFO - ✓ Worker 9: common_voice_en_18420102.mp3:  I gave her a look.\n",
      "2025-10-07 04:09:22,844 INFO - ✓ Worker 10: common_voice_en_18420010.mp3:  Please drive on the left.\n",
      "2025-10-07 04:09:23,021 INFO - ✓ Worker 1: common_voice_en_18419593.mp3:  Some consider that Army discipline is good for young people.\n",
      "2025-10-07 04:09:23,114 INFO - ✓ Worker 11: common_voice_en_18420099.mp3:  Is that crazy or what?\n",
      "2025-10-07 04:09:23,320 INFO - ✓ Worker 13: common_voice_en_18420064.mp3:  How did you go?\n",
      "2025-10-07 04:09:23,537 INFO - ✓ Worker 3: common_voice_en_18416097.mp3:  What did you think of the car it parsnips up?\n",
      "2025-10-07 04:09:23,879 INFO - ✓ Worker 6: common_voice_en_18419997.mp3:  Temporarily, yes, I had to admit.\n",
      "2025-10-07 04:09:24,479 INFO - ✓ Worker 12: common_voice_en_18420033.mp3:  The fact is, darling, I am terribly worried.\n",
      "2025-10-07 04:09:24,674 INFO - ✓ Worker 15: common_voice_en_18420545.mp3:  Let's drop the pretence.\n",
      "2025-10-07 04:09:24,716 INFO - ✓ Worker 7: common_voice_en_18419559.mp3:  My debut novel is about two children stealing a crown.\n",
      "2025-10-07 04:09:25,045 INFO - ✓ Worker 5: common_voice_en_18415730.mp3:  I had been expecting some fun and a great deal most part.\n",
      "2025-10-07 04:09:25,125 INFO - ✓ Worker 0: common_voice_en_18420012.mp3:  The college was established in 1857.\n",
      "2025-10-07 04:09:25,562 INFO - ✓ Worker 14: common_voice_en_18420544.mp3:  It's either ours or theirs. I'm not sure which.\n",
      "2025-10-07 04:09:25,625 INFO - ✓ Worker 2: common_voice_en_18421094.mp3:  The director wasn't happy with the change.\n",
      "2025-10-07 04:09:26,267 INFO - ✓ Worker 8: common_voice_en_18420065.mp3:  The proceeding would be over about half an hour too soon.\n",
      "2025-10-07 04:09:26,286 INFO - ✓ Worker 3: common_voice_en_18420573.mp3:  Best ever chocolate crepe recipe.\n",
      "2025-10-07 04:09:27,203 INFO - ✓ Worker 10: common_voice_en_18422048.mp3:  Then I saw the way.\n",
      "2025-10-07 04:09:27,453 INFO - ✓ Worker 6: common_voice_en_18421352.mp3:  I play that choice wide open to win.\n",
      "2025-10-07 04:09:27,456 INFO - ✓ Worker 7: common_voice_en_18421356.mp3:  Jesus did not suggest it.\n",
      "2025-10-07 04:09:27,796 INFO - ✓ Worker 12: common_voice_en_18420616.mp3:  The average person won't know the difference.\n",
      "2025-10-07 04:09:28,049 INFO - ✓ Worker 4: common_voice_en_18421097.mp3:  Carthrin contented at first in a brief space grew irritable and restless.\n",
      "2025-10-07 04:09:28,100 INFO - ✓ Worker 5: common_voice_en_18420594.mp3:  I lit a cigarette and began to ponder.\n",
      "2025-10-07 04:09:28,127 INFO - ✓ Worker 9: common_voice_en_18420615.mp3:  In fact, you will be killing two birds with one stone, sir.\n",
      "2025-10-07 04:09:28,185 INFO - ✓ Worker 1: common_voice_en_18419.mp3:  Two boys and a girl doing schoolwork in a classroom with a green wall in the background.\n",
      "2025-10-07 04:09:28,227 INFO - ✓ Worker 8: common_voice_en_18422049.mp3:  This area is on the construction.\n",
      "2025-10-07 04:09:28,279 INFO - ✓ Worker 14: common_voice_en_18421096.mp3:  Building your house on Sunday's nurture commended.\n",
      "2025-10-07 04:09:28,289 INFO - ✓ Worker 13: common_voice_en_18420613.mp3:  Josh Davins, too, are members of a boy band.\n",
      "2025-10-07 04:09:28,304 INFO - ✓ Worker 11: common_voice_en_18421353.mp3:  Whilst attempting to jump over the wall, he broke his leg.\n",
      "2025-10-07 04:09:28,322 INFO - ✓ Worker 15: common_voice_en_18421095.mp3:  The roof has been patched up many times over the years.\n"
     ]
    },
    {
     "name": "stderr",
     "output_type": "stream",
     "text": [
      "Downloading batch 69:  35%|███▌      | 17/48 [00:00<00:00, 80.48it/s]"
     ]
    },
    {
     "name": "stdout",
     "output_type": "stream",
     "text": [
      "2025-10-07 04:09:29,226 WARNING - Connection pool is full, discarding connection: asrelder-data.s3.amazonaws.com. Connection pool size: 10\n",
      "2025-10-07 04:09:29,226 WARNING - Connection pool is full, discarding connection: asrelder-data.s3.amazonaws.com. Connection pool size: 10\n"
     ]
    },
    {
     "name": "stderr",
     "output_type": "stream",
     "text": [
      "Downloading batch 69:  83%|████████▎ | 40/48 [00:00<00:00, 137.58it/s]"
     ]
    },
    {
     "name": "stdout",
     "output_type": "stream",
     "text": [
      "2025-10-07 04:09:29,277 WARNING - Connection pool is full, discarding connection: asrelder-data.s3.amazonaws.com. Connection pool size: 10\n",
      "2025-10-07 04:09:29,279 WARNING - Connection pool is full, discarding connection: asrelder-data.s3.amazonaws.com. Connection pool size: 10\n",
      "2025-10-07 04:09:29,285 WARNING - Connection pool is full, discarding connection: asrelder-data.s3.amazonaws.com. Connection pool size: 10\n",
      "2025-10-07 04:09:29,288 WARNING - Connection pool is full, discarding connection: asrelder-data.s3.amazonaws.com. Connection pool size: 10\n",
      "2025-10-07 04:09:29,292 WARNING - Connection pool is full, discarding connection: asrelder-data.s3.amazonaws.com. Connection pool size: 10\n",
      "2025-10-07 04:09:29,306 WARNING - Connection pool is full, discarding connection: asrelder-data.s3.amazonaws.com. Connection pool size: 10\n",
      "2025-10-07 04:09:29,315 WARNING - Connection pool is full, discarding connection: asrelder-data.s3.amazonaws.com. Connection pool size: 10\n"
     ]
    },
    {
     "name": "stderr",
     "output_type": "stream",
     "text": [
      "Downloading batch 69: 100%|██████████| 48/48 [00:00<00:00, 118.74it/s]"
     ]
    },
    {
     "name": "stdout",
     "output_type": "stream",
     "text": [
      "2025-10-07 04:09:29,317 INFO - Transcribing 48 files in parallel...\n"
     ]
    },
    {
     "name": "stderr",
     "output_type": "stream",
     "text": [
      "\n"
     ]
    },
    {
     "name": "stdout",
     "output_type": "stream",
     "text": [
      "2025-10-07 04:09:32,273 INFO - ✓ Worker 0: common_voice_en_18422052.mp3:  Oh, that, yes.\n",
      "2025-10-07 04:09:32,776 INFO - ✓ Worker 4: common_voice_en_18422213.mp3:  It's all Greek to me.\n",
      "2025-10-07 04:09:33,059 INFO - ✓ Worker 14: common_voice_en_18422181.mp3:  They clung together for dear life.\n",
      "2025-10-07 04:09:33,246 INFO - ✓ Worker 2: common_voice_en_18422050.mp3:  I was going to do my rapping tonight.\n",
      "2025-10-07 04:09:33,460 INFO - ✓ Worker 11: common_voice_en_18422423.mp3:  Certainly old bird, I said cordially.\n",
      "2025-10-07 04:09:33,655 INFO - ✓ Worker 7: common_voice_en_18422056.mp3:  Americans say aluminum, Brits, Aluminium.\n",
      "2025-10-07 04:09:33,688 INFO - ✓ Worker 15: common_voice_en_18422184.mp3:  Tay-Fight. Did I tell you?\n",
      "2025-10-07 04:09:33,743 INFO - ✓ Worker 9: common_voice_en_18422141.mp3:  The cricket club's groundsman is called Bob.\n",
      "2025-10-07 04:09:33,767 INFO - ✓ Worker 6: common_voice_en_18422055.mp3:  I very much doubt that will make any difference.\n",
      "2025-10-07 04:09:34,140 INFO - ✓ Worker 5: common_voice_en_18422183.mp3:  We went on holiday in August with our in-laws.\n",
      "2025-10-07 04:09:34,231 INFO - ✓ Worker 8: common_voice_en_18422395.mp3:  I've told my girls that they ought to be aiming higher.\n",
      "2025-10-07 04:09:34,247 INFO - ✓ Worker 10: common_voice_en_18422417.mp3:  The Foreign Minister appears to know little about the international situation.\n",
      "2025-10-07 04:09:34,303 INFO - ✓ Worker 13: common_voice_en_18422179.mp3:  Windows are usually rectangular, less commonly round or triangular.\n",
      "2025-10-07 04:09:34,377 INFO - ✓ Worker 3: common_voice_en_18422394.mp3:  Catarina can decide whether to have jam or marmalade.\n",
      "2025-10-07 04:09:34,529 INFO - ✓ Worker 12: common_voice_en_18422413.mp3:  Our family always hated cats, nasty, low-folder things.\n",
      "2025-10-07 04:09:34,841 INFO - ✓ Worker 1: common_voice_en_18422053.mp3:  Reading his poetry, a drowsy numbness came over me.\n",
      "2025-10-07 04:09:36,567 INFO - ✓ Worker 4: common_voice_en_18422110.mp3:  What color is your parachute?\n",
      "2025-10-07 04:09:37,196 INFO - ✓ Worker 13: common_voice_en_18422502.mp3:  Business proposals are being considered.\n",
      "2025-10-07 04:09:37,228 INFO - ✓ Worker 8: common_voice_en_18422467.mp3:  He got himself as a jerk.\n",
      "2025-10-07 04:09:37,832 INFO - ✓ Worker 7: common_voice_en_18422501.mp3:  How many angels can dance on the head of a pen?\n",
      "2025-10-07 04:09:37,872 INFO - ✓ Worker 2: common_voice_en_18422398.mp3:  The perspiration already be doing my brow became a regular Niagara.\n",
      "2025-10-07 04:09:37,954 INFO - ✓ Worker 9: common_voice_en_18422476.mp3:  The sync has a hot tap and a cold tap.\n",
      "2025-10-07 04:09:37,977 INFO - ✓ Worker 6: common_voice_en_18422412.mp3:  You can see from the blood that Alice has cut herself.\n",
      "2025-10-07 04:09:38,182 INFO - ✓ Worker 5: common_voice_en_18422499.mp3:  Vanessa Postpone taking her children to the doctor.\n",
      "2025-10-07 04:09:38,390 INFO - ✓ Worker 11: common_voice_en_18422054.mp3:  He gave a lengthy speech while saying absolutely nothing.\n",
      "2025-10-07 04:09:38,399 INFO - ✓ Worker 0: common_voice_en_18422397.mp3:  I'm actually planning to try and build a robotics platform around one of those phones.\n",
      "2025-10-07 04:09:38,517 INFO - ✓ Worker 10: common_voice_en_18422385.mp3:  He has a large collection of classical concert programs.\n",
      "2025-10-07 04:09:38,777 INFO - ✓ Worker 12: common_voice_en_18422503.mp3:  I waived a hand and shrugged a shoulder.\n",
      "2025-10-07 04:09:38,779 INFO - ✓ Worker 1: common_voice_en_18422386.mp3:  Beyond a wholesome discipline, be gentle with yourself.\n",
      "2025-10-07 04:09:39,028 INFO - ✓ Worker 3: common_voice_en_18422466.mp3:  I had no wish to do myself ever unless I had to.\n",
      "2025-10-07 04:09:39,121 INFO - ✓ Worker 14: common_voice_en_18422420.mp3:  Looking about me, however, I could discern no uncles.\n",
      "2025-10-07 04:09:39,341 INFO - ✓ Worker 15: common_voice_en_18422615.mp3:  I'm going to search this room from end to end.\n",
      "2025-10-07 04:09:40,469 INFO - ✓ Worker 7: common_voice_en_18422992.mp3:  Quite alright.\n",
      "2025-10-07 04:09:41,183 INFO - ✓ Worker 2: common_voice_en_18422721.mp3:  Her hair has a central parting.\n",
      "2025-10-07 04:09:41,455 INFO - ✓ Worker 15: common_voice_en_18422991.mp3:  As you were.\n",
      "2025-10-07 04:09:41,801 INFO - ✓ Worker 3: common_voice_en_18422614.mp3:  Because we are real friends.\n",
      "2025-10-07 04:09:42,130 INFO - ✓ Worker 5: common_voice_en_18422617.mp3:  You haven't seen him by any chance.\n",
      "2025-10-07 04:09:42,206 INFO - ✓ Worker 9: common_voice_en_18422993.mp3:  Rock paper scissors is a popular children's game.\n",
      "2025-10-07 04:09:42,391 INFO - ✓ Worker 4: common_voice_en_18422474.mp3:  Maybe I should check out background to set the barbecue idea.\n",
      "2025-10-07 04:09:42,456 INFO - ✓ Worker 11: common_voice_en_18422709.mp3:  He was studying the history of the trade union movement.\n",
      "2025-10-07 04:09:42,480 INFO - ✓ Worker 0: common_voice_en_18422695.mp3:  I'm sure the government had given them an unqualified promise.\n",
      "2025-10-07 04:09:42,605 INFO - ✓ Worker 8: common_voice_en_18422995.mp3:  And now you stammer out those hotin' words.\n",
      "2025-10-07 04:09:42,613 INFO - ✓ Worker 6: common_voice_en_18422722.mp3:  I consulted Jeeves once more in the language of the eyebrow.\n",
      "2025-10-07 04:09:42,655 INFO - ✓ Worker 1: common_voice_en_18422694.mp3:  We're going to the seaside for the Maybank holiday.\n",
      "2025-10-07 04:09:42,769 INFO - ✓ Worker 14: common_voice_en_18423266.mp3:  I hope that won't be too much of a pain for you.\n",
      "2025-10-07 04:09:42,779 INFO - ✓ Worker 10: common_voice_en_18422996.mp3:  The letter i is conventionally used to represent the square root of minus 1.\n",
      "2025-10-07 04:09:42,802 INFO - ✓ Worker 12: common_voice_en_18423.mp3:  Soccer players dressed in red and white uniforms walking on a field.\n",
      "2025-10-07 04:09:42,834 INFO - ✓ Worker 13: common_voice_en_18423252.mp3:  Beyond Earth, the planets are Mars, Jupiter, Saturn, Uranus, and Neptune.\n"
     ]
    },
    {
     "name": "stderr",
     "output_type": "stream",
     "text": [
      "Downloading batch 70:   2%|▏         | 1/48 [00:00<00:07,  6.21it/s]"
     ]
    },
    {
     "name": "stdout",
     "output_type": "stream",
     "text": [
      "2025-10-07 04:09:43,691 WARNING - Connection pool is full, discarding connection: asrelder-data.s3.amazonaws.com. Connection pool size: 10\n"
     ]
    },
    {
     "name": "stderr",
     "output_type": "stream",
     "text": [
      "Downloading batch 70:  42%|████▏     | 20/48 [00:00<00:00, 91.02it/s]"
     ]
    },
    {
     "name": "stdout",
     "output_type": "stream",
     "text": [
      "2025-10-07 04:09:43,782 WARNING - Connection pool is full, discarding connection: asrelder-data.s3.amazonaws.com. Connection pool size: 10\n",
      "2025-10-07 04:09:43,784 WARNING - Connection pool is full, discarding connection: asrelder-data.s3.amazonaws.com. Connection pool size: 10\n",
      "2025-10-07 04:09:43,787 WARNING - Connection pool is full, discarding connection: asrelder-data.s3.amazonaws.com. Connection pool size: 10\n"
     ]
    },
    {
     "name": "stderr",
     "output_type": "stream",
     "text": [
      "Downloading batch 70:  90%|████████▉ | 43/48 [00:00<00:00, 145.76it/s]"
     ]
    },
    {
     "name": "stdout",
     "output_type": "stream",
     "text": [
      "2025-10-07 04:09:43,796 WARNING - Connection pool is full, discarding connection: asrelder-data.s3.amazonaws.com. Connection pool size: 10\n",
      "2025-10-07 04:09:43,798 WARNING - Connection pool is full, discarding connection: asrelder-data.s3.amazonaws.com. Connection pool size: 10\n",
      "2025-10-07 04:09:43,805 WARNING - Connection pool is full, discarding connection: asrelder-data.s3.amazonaws.com. Connection pool size: 10\n",
      "2025-10-07 04:09:43,836 WARNING - Connection pool is full, discarding connection: asrelder-data.s3.amazonaws.com. Connection pool size: 10\n",
      "2025-10-07 04:09:43,848 WARNING - Connection pool is full, discarding connection: asrelder-data.s3.amazonaws.com. Connection pool size: 10\n"
     ]
    },
    {
     "name": "stderr",
     "output_type": "stream",
     "text": [
      "Downloading batch 70: 100%|██████████| 48/48 [00:00<00:00, 112.39it/s]"
     ]
    },
    {
     "name": "stdout",
     "output_type": "stream",
     "text": [
      "2025-10-07 04:09:43,850 INFO - Transcribing 48 files in parallel...\n"
     ]
    },
    {
     "name": "stderr",
     "output_type": "stream",
     "text": [
      "\n"
     ]
    },
    {
     "name": "stdout",
     "output_type": "stream",
     "text": [
      "2025-10-07 04:09:46,627 INFO - ✓ Worker 1: common_voice_en_18423497.mp3:  Nothing to do it.\n",
      "2025-10-07 04:09:46,645 INFO - ✓ Worker 3: common_voice_en_18423781.mp3:  Please stick the books.\n",
      "2025-10-07 04:09:46,874 INFO - ✓ Worker 10: common_voice_en_18423560.mp3:  I inspected my imagination.\n",
      "2025-10-07 04:09:47,169 INFO - ✓ Worker 2: common_voice_en_18423500.mp3:  Hold the line a minute.\n",
      "2025-10-07 04:09:47,428 INFO - ✓ Worker 0: common_voice_en_18423268.mp3:  Forlicious or dissembling arguments\n",
      "2025-10-07 04:09:47,460 INFO - ✓ Worker 8: common_voice_en_18423708.mp3:  Can we do nothing about fake news?\n",
      "2025-10-07 04:09:47,760 INFO - ✓ Worker 11: common_voice_en_18425.mp3:  Two people competing in a fencing competition.\n",
      "2025-10-07 04:09:47,797 INFO - ✓ Worker 7: common_voice_en_18423556.mp3:  Oh no, call the fire brigade.\n",
      "2025-10-07 04:09:47,934 INFO - ✓ Worker 15: common_voice_en_18423541.mp3:  Racing cars are essential to motorsport.\n",
      "2025-10-07 04:09:48,180 INFO - ✓ Worker 5: common_voice_en_18423267.mp3:  There must have been swept away by the chaotic currents.\n",
      "2025-10-07 04:09:48,199 INFO - ✓ Worker 13: common_voice_en_18423723.mp3:  I wish I could see my man.\n",
      "2025-10-07 04:09:48,995 INFO - ✓ Worker 12: common_voice_en_18424549.mp3:  Muskarponetries can be used in all sorts of foods.\n",
      "2025-10-07 04:09:49,001 INFO - ✓ Worker 14: common_voice_en_18423874.mp3:  It's essential that we construct a sound and lead proof roof.\n",
      "2025-10-07 04:09:49,145 INFO - ✓ Worker 9: common_voice_en_18423496.mp3:  You need to wait for the dialing tone before dialing the number.\n",
      "2025-10-07 04:09:49,359 INFO - ✓ Worker 1: common_voice_en_18424878.mp3:  My attention had been wandering.\n",
      "2025-10-07 04:09:49,774 INFO - ✓ Worker 4: common_voice_en_18423845.mp3:  Dorothy L. Sayers used to have a job as an advertising copywriter.\n",
      "2025-10-07 04:09:49,975 INFO - ✓ Worker 0: common_voice_en_18424376.mp3:  Ouch, are you hurt?\n",
      "2025-10-07 04:09:49,984 INFO - ✓ Worker 6: common_voice_en_18425341.mp3:  If you don't stop it manually, the next video clip will be out of play.\n",
      "2025-10-07 04:09:51,021 INFO - ✓ Worker 2: common_voice_en_18425417.mp3:  Please join us in celebrating our wedding anniversary.\n",
      "2025-10-07 04:09:51,094 INFO - ✓ Worker 7: common_voice_en_18423501.mp3:  Our autobiography received international recognition.\n",
      "2025-10-07 04:09:51,189 INFO - ✓ Worker 5: common_voice_en_18423738.mp3:  Please enter your pass key now.\n",
      "2025-10-07 04:09:51,656 INFO - ✓ Worker 3: common_voice_en_18423872.mp3:  It was agreed last month that everybody should pull their weight.\n",
      "2025-10-07 04:09:51,786 INFO - ✓ Worker 9: common_voice_en_18425793.mp3:  Being here long.\n",
      "2025-10-07 04:09:52,096 INFO - ✓ Worker 10: common_voice_en_18425796.mp3:  He was a well-known racing cyclist.\n",
      "2025-10-07 04:09:52,113 INFO - ✓ Worker 11: common_voice_en_18425795.mp3:  Speak your truth quietly and clearly.\n",
      "2025-10-07 04:09:52,311 INFO - ✓ Worker 12: common_voice_en_18423270.mp3:  She was in ecstasy.\n",
      "2025-10-07 04:09:52,333 INFO - ✓ Worker 8: common_voice_en_18425420.mp3:  After watching the film, he decided to read the book.\n",
      "2025-10-07 04:09:52,910 INFO - ✓ Worker 15: common_voice_en_18425792.mp3:  Are you acquainted with my friends?\n",
      "2025-10-07 04:09:52,986 INFO - ✓ Worker 14: common_voice_en_18426421.mp3:  Yes, I think it will work.\n",
      "2025-10-07 04:09:53,224 INFO - ✓ Worker 13: common_voice_en_18426.mp3:  Several football players in the middle of a field.\n",
      "2025-10-07 04:09:53,474 INFO - ✓ Worker 4: common_voice_en_18425418.mp3:  And what about my side of the thing?\n",
      "2025-10-07 04:09:54,043 INFO - ✓ Worker 1: common_voice_en_18427.mp3:  Little Girl hooking and adorable cat.\n",
      "2025-10-07 04:09:54,096 INFO - ✓ Worker 5: common_voice_en_18427414.mp3:  Give me an example.\n",
      "2025-10-07 04:09:54,142 INFO - ✓ Worker 0: common_voice_en_18425794.mp3:  My hobby is genealogy or family history.\n",
      "2025-10-07 04:09:54,157 INFO - ✓ Worker 2: common_voice_en_18426447.mp3:  Whoever saw one that size.\n",
      "2025-10-07 04:09:54,331 INFO - ✓ Worker 6: common_voice_en_18424.mp3:  A girl playing with a dog near a police car.\n",
      "2025-10-07 04:09:54,633 INFO - ✓ Worker 8: common_voice_en_18426218.mp3:  Call Joe.\n",
      "2025-10-07 04:09:54,966 INFO - ✓ Worker 3: common_voice_en_18426446.mp3:  The walls were black with mold.\n",
      "2025-10-07 04:09:55,381 INFO - ✓ Worker 9: common_voice_en_18427474.mp3:  which is the best women's baseball team.\n",
      "2025-10-07 04:09:55,599 INFO - ✓ Worker 10: common_voice_en_18427494.mp3:  She had a constant ringing in her ears.\n",
      "2025-10-07 04:09:55,601 INFO - ✓ Worker 13: common_voice_en_18426448.mp3:  Keep peace in your soul.\n",
      "2025-10-07 04:09:55,610 INFO - ✓ Worker 7: common_voice_en_18427412.mp3:  We're normally right out at the crack of dawn.\n",
      "2025-10-07 04:09:55,691 INFO - ✓ Worker 11: common_voice_en_18426215.mp3:  Do not sting, or do they bite.\n",
      "2025-10-07 04:09:55,847 INFO - ✓ Worker 4: common_voice_en_18427415.mp3:  That's game set and match tomorrow.\n",
      "2025-10-07 04:09:55,887 INFO - ✓ Worker 14: common_voice_en_18427484.mp3:  Oh, you foolish Alice, she answered herself.\n",
      "2025-10-07 04:09:55,963 INFO - ✓ Worker 12: common_voice_en_18427493.mp3:  If you don't believe me, I will prove it to you.\n",
      "2025-10-07 04:09:56,027 INFO - ✓ Worker 6: common_voice_en_18426424.mp3:  Well, that's what happened to this aching heart.\n",
      "2025-10-07 04:09:56,034 INFO - ✓ Worker 15: common_voice_en_18427318.mp3:  Am I loud enough or do you need a loud healer?\n",
      "2025-10-07 04:09:56,042 INFO - Appended 240 rows to ./transcripts_from_prefix.csv\n"
     ]
    },
    {
     "name": "stderr",
     "output_type": "stream",
     "text": [
      "Downloading batch 71:  33%|███▎      | 16/48 [00:00<00:00, 74.42it/s]"
     ]
    },
    {
     "name": "stdout",
     "output_type": "stream",
     "text": [
      "2025-10-07 04:09:56,897 WARNING - Connection pool is full, discarding connection: asrelder-data.s3.amazonaws.com. Connection pool size: 10\n",
      "2025-10-07 04:09:56,897 WARNING - Connection pool is full, discarding connection: asrelder-data.s3.amazonaws.com. Connection pool size: 10\n",
      "2025-10-07 04:09:56,897 WARNING - Connection pool is full, discarding connection: asrelder-data.s3.amazonaws.com. Connection pool size: 10\n"
     ]
    },
    {
     "name": "stderr",
     "output_type": "stream",
     "text": [
      "Downloading batch 71:  83%|████████▎ | 40/48 [00:00<00:00, 140.34it/s]"
     ]
    },
    {
     "name": "stdout",
     "output_type": "stream",
     "text": [
      "2025-10-07 04:09:56,995 WARNING - Connection pool is full, discarding connection: asrelder-data.s3.amazonaws.com. Connection pool size: 10\n",
      "2025-10-07 04:09:56,998 WARNING - Connection pool is full, discarding connection: asrelder-data.s3.amazonaws.com. Connection pool size: 10\n",
      "2025-10-07 04:09:57,005 WARNING - Connection pool is full, discarding connection: asrelder-data.s3.amazonaws.com. Connection pool size: 10\n",
      "2025-10-07 04:09:57,009 WARNING - Connection pool is full, discarding connection: asrelder-data.s3.amazonaws.com. Connection pool size: 10\n",
      "2025-10-07 04:09:57,010 WARNING - Connection pool is full, discarding connection: asrelder-data.s3.amazonaws.com. Connection pool size: 10\n",
      "2025-10-07 04:09:57,010 WARNING - Connection pool is full, discarding connection: asrelder-data.s3.amazonaws.com. Connection pool size: 10\n",
      "2025-10-07 04:09:57,038 WARNING - Connection pool is full, discarding connection: asrelder-data.s3.amazonaws.com. Connection pool size: 10\n"
     ]
    },
    {
     "name": "stderr",
     "output_type": "stream",
     "text": [
      "Downloading batch 71: 100%|██████████| 48/48 [00:00<00:00, 117.74it/s]"
     ]
    },
    {
     "name": "stdout",
     "output_type": "stream",
     "text": [
      "2025-10-07 04:09:57,040 INFO - Transcribing 48 files in parallel...\n"
     ]
    },
    {
     "name": "stderr",
     "output_type": "stream",
     "text": [
      "\n"
     ]
    },
    {
     "name": "stdout",
     "output_type": "stream",
     "text": [
      "2025-10-07 04:09:59,546 INFO - ✓ Worker 2: common_voice_en_18427523.mp3:  Yep, right.\n",
      "2025-10-07 04:09:59,870 INFO - ✓ Worker 0: common_voice_en_18427512.mp3:  Who logged this door?\n",
      "2025-10-07 04:09:59,969 INFO - ✓ Worker 7: common_voice_en_18428444.mp3:  She will, will she.\n",
      "2025-10-07 04:09:59,984 INFO - ✓ Worker 10: common_voice_en_18427513.mp3:  It is nearly dinner time.\n",
      "2025-10-07 04:10:00,066 INFO - ✓ Worker 12: common_voice_en_18427655.mp3:  I do myself a puppet.\n",
      "2025-10-07 04:10:00,574 INFO - ✓ Worker 8: common_voice_en_18427653.mp3:  Well, I have really little heads.\n",
      "2025-10-07 04:10:00,751 INFO - ✓ Worker 14: common_voice_en_18427607.mp3:  Remembering is most satisfying than forgetting.\n",
      "2025-10-07 04:10:00,837 INFO - ✓ Worker 4: common_voice_en_18427561.mp3:  I honestly can't do it as n1.\n",
      "2025-10-07 04:10:00,889 INFO - ✓ Worker 11: common_voice_en_18428428.mp3:  Please use your full address, including postcode.\n",
      "2025-10-07 04:10:00,934 INFO - ✓ Worker 3: common_voice_en_18427907.mp3:  I cannot recall one more pack to since then.\n",
      "2025-10-07 04:10:01,058 INFO - ✓ Worker 15: common_voice_en_18427926.mp3:  Surely nobody keeps a vehicle in their car.\n",
      "2025-10-07 04:10:01,189 INFO - ✓ Worker 1: common_voice_en_18427535.mp3:  Sam and Patricia watched a film while eating their supper.\n",
      "2025-10-07 04:10:01,753 INFO - ✓ Worker 5: common_voice_en_18428477.mp3:  I didn't realize that owls are nocturnal.\n",
      "2025-10-07 04:10:02,227 INFO - ✓ Worker 13: common_voice_en_18428454.mp3:  A sort of spasm of horror and apprehension contorted her face.\n",
      "2025-10-07 04:10:02,422 INFO - ✓ Worker 9: common_voice_en_18427628.mp3:  I need to go to the library before my book is over you.\n",
      "2025-10-07 04:10:02,573 INFO - ✓ Worker 6: common_voice_en_18428452.mp3:  Now you're coming down to business, Phil. He exclaimed.\n",
      "2025-10-07 04:10:04,216 INFO - ✓ Worker 0: common_voice_en_18427589.mp3:  Could you give me a ring at about 10 o'clock?\n",
      "2025-10-07 04:10:04,379 INFO - ✓ Worker 1: common_voice_en_18427590.mp3:  How can the data have become corrupted?\n",
      "2025-10-07 04:10:05,080 INFO - ✓ Worker 2: common_voice_en_18428519.mp3:  A sinually hand dripping with water was clutching the rail.\n",
      "2025-10-07 04:10:05,097 INFO - ✓ Worker 12: common_voice_en_18428777.mp3:  Is there any room for negotiation?\n",
      "2025-10-07 04:10:05,336 INFO - ✓ Worker 4: common_voice_en_18427669.mp3:  The pathos of the thing gave me the peep.\n",
      "2025-10-07 04:10:05,578 INFO - ✓ Worker 11: common_voice_en_18427657.mp3:  My daughter is hoping to volunteer at a nature reserve.\n",
      "2025-10-07 04:10:05,803 INFO - ✓ Worker 15: common_voice_en_18428776.mp3:  A gentleman, a gypsy.\n",
      "2025-10-07 04:10:05,826 INFO - ✓ Worker 5: common_voice_en_18427930.mp3:  It was playing that he was deeply stilled.\n",
      "2025-10-07 04:10:05,875 INFO - ✓ Worker 14: common_voice_en_18428789.mp3:  It was the entire company who sang.\n",
      "2025-10-07 04:10:05,904 INFO - ✓ Worker 6: common_voice_en_18428553.mp3:  Like it or lump it.\n",
      "2025-10-07 04:10:05,926 INFO - ✓ Worker 3: common_voice_en_18427629.mp3:  that took refuge on the central reservation of the dual carriageway.\n",
      "2025-10-07 04:10:06,037 INFO - ✓ Worker 7: common_voice_en_18428561.mp3:  Up to the time she went to cons, Angela loved me.\n",
      "2025-10-07 04:10:06,478 INFO - ✓ Worker 13: common_voice_en_18428767.mp3:  Cling foam is very useful for sealing open containers.\n",
      "2025-10-07 04:10:06,731 INFO - ✓ Worker 10: common_voice_en_18427931.mp3:  Exercise caution in your business affairs for the world's full of trickery.\n",
      "2025-10-07 04:10:07,064 INFO - ✓ Worker 8: common_voice_en_18428539.mp3:  According to the timetable, the group leaders had programmed a very full day.\n",
      "2025-10-07 04:10:07,516 INFO - ✓ Worker 0: common_voice_en_18428839.mp3:  That cat is constantly shedding hairs.\n",
      "2025-10-07 04:10:08,059 INFO - ✓ Worker 2: common_voice_en_18428814.mp3:  The Cathedral has a lovely interior.\n",
      "2025-10-07 04:10:08,226 INFO - ✓ Worker 1: common_voice_en_18428730.mp3:  Passion and advocacy of the highest standard.\n",
      "2025-10-07 04:10:08,730 INFO - ✓ Worker 5: common_voice_en_18428852.mp3:  Oh, look, she said.\n",
      "2025-10-07 04:10:08,752 INFO - ✓ Worker 9: common_voice_en_18428.mp3:  A woman in a white jacket in camp is helping a young girl with arts and crafts.\n",
      "2025-10-07 04:10:08,873 INFO - ✓ Worker 4: common_voice_en_18428763.mp3:  His eyes were smoldering with a dull fire.\n",
      "2025-10-07 04:10:09,198 INFO - ✓ Worker 12: common_voice_en_18429606.mp3:  Heave a couple of sighs.\n",
      "2025-10-07 04:10:09,475 INFO - ✓ Worker 8: common_voice_en_18429611.mp3:  He laughed hollowly.\n",
      "2025-10-07 04:10:09,504 INFO - ✓ Worker 11: common_voice_en_18429577.mp3:  I really can't afford to spend so much.\n",
      "2025-10-07 04:10:09,574 INFO - ✓ Worker 6: common_voice_en_18428811.mp3:  Can you quote a reliable source to justify that?\n",
      "2025-10-07 04:10:09,815 INFO - ✓ Worker 15: common_voice_en_18429619.mp3:  This demonstrates the anxiety of our times.\n",
      "2025-10-07 04:10:09,870 INFO - ✓ Worker 7: common_voice_en_18429598.mp3:  I have no idea who he is, just some jaw blogs.\n",
      "2025-10-07 04:10:09,906 INFO - ✓ Worker 3: common_voice_en_18428808.mp3:  She is a book reviewer and literal re-credit.\n",
      "2025-10-07 04:10:09,993 INFO - ✓ Worker 10: common_voice_en_18429596.mp3:  She made a little dolly out of a clothes peg.\n",
      "2025-10-07 04:10:10,005 INFO - ✓ Worker 14: common_voice_en_18429621.mp3:  These genes are too long and need to be shortened.\n",
      "2025-10-07 04:10:10,065 INFO - ✓ Worker 13: common_voice_en_18429.mp3:  America the beautiful as epitomized by this candy isle scene.\n",
      "2025-10-07 04:10:10,096 INFO - ✓ Worker 9: common_voice_en_18428714.mp3:  Three unidentified naval vessels are heading for the peninsula.\n"
     ]
    },
    {
     "name": "stderr",
     "output_type": "stream",
     "text": [
      "Downloading batch 72:   2%|▏         | 1/48 [00:00<00:06,  7.07it/s]"
     ]
    },
    {
     "name": "stdout",
     "output_type": "stream",
     "text": [
      "2025-10-07 04:10:10,940 WARNING - Connection pool is full, discarding connection: asrelder-data.s3.amazonaws.com. Connection pool size: 10\n"
     ]
    },
    {
     "name": "stderr",
     "output_type": "stream",
     "text": [
      "Downloading batch 72:  42%|████▏     | 20/48 [00:00<00:00, 96.15it/s]"
     ]
    },
    {
     "name": "stdout",
     "output_type": "stream",
     "text": [
      "2025-10-07 04:10:10,961 WARNING - Connection pool is full, discarding connection: asrelder-data.s3.amazonaws.com. Connection pool size: 10\n",
      "2025-10-07 04:10:11,047 WARNING - Connection pool is full, discarding connection: asrelder-data.s3.amazonaws.com. Connection pool size: 10\n"
     ]
    },
    {
     "name": "stderr",
     "output_type": "stream",
     "text": [
      "Downloading batch 72:  88%|████████▊ | 42/48 [00:00<00:00, 145.80it/s]"
     ]
    },
    {
     "name": "stdout",
     "output_type": "stream",
     "text": [
      "2025-10-07 04:10:11,065 WARNING - Connection pool is full, discarding connection: asrelder-data.s3.amazonaws.com. Connection pool size: 10\n",
      "2025-10-07 04:10:11,065 WARNING - Connection pool is full, discarding connection: asrelder-data.s3.amazonaws.com. Connection pool size: 10\n",
      "2025-10-07 04:10:11,066 WARNING - Connection pool is full, discarding connection: asrelder-data.s3.amazonaws.com. Connection pool size: 10\n",
      "2025-10-07 04:10:11,069 WARNING - Connection pool is full, discarding connection: asrelder-data.s3.amazonaws.com. Connection pool size: 10\n",
      "2025-10-07 04:10:11,072 WARNING - Connection pool is full, discarding connection: asrelder-data.s3.amazonaws.com. Connection pool size: 10\n",
      "2025-10-07 04:10:11,077 WARNING - Connection pool is full, discarding connection: asrelder-data.s3.amazonaws.com. Connection pool size: 10\n"
     ]
    },
    {
     "name": "stderr",
     "output_type": "stream",
     "text": [
      "Downloading batch 72: 100%|██████████| 48/48 [00:00<00:00, 126.48it/s]"
     ]
    },
    {
     "name": "stdout",
     "output_type": "stream",
     "text": [
      "2025-10-07 04:10:11,080 INFO - Transcribing 48 files in parallel...\n"
     ]
    },
    {
     "name": "stderr",
     "output_type": "stream",
     "text": [
      "\n"
     ]
    },
    {
     "name": "stdout",
     "output_type": "stream",
     "text": [
      "2025-10-07 04:10:14,050 INFO - ✓ Worker 10: common_voice_en_18429653.mp3:  Let us get this straight.\n",
      "2025-10-07 04:10:14,146 INFO - ✓ Worker 6: common_voice_en_18431039.mp3:  You see what will happen.\n",
      "2025-10-07 04:10:14,490 INFO - ✓ Worker 3: common_voice_en_18431489.mp3:  Clear what it is, passionately.\n",
      "2025-10-07 04:10:14,687 INFO - ✓ Worker 11: common_voice_en_18429635.mp3:  You can't have good news about it.\n",
      "2025-10-07 04:10:14,769 INFO - ✓ Worker 9: common_voice_en_18429666.mp3:  I am not devoted to food at all.\n",
      "2025-10-07 04:10:14,992 INFO - ✓ Worker 5: common_voice_en_18429649.mp3:  I'm not your personal butler, Jake.\n",
      "2025-10-07 04:10:15,036 INFO - ✓ Worker 4: common_voice_en_18431042.mp3:  He weighed out the sausages carefully on the scale.\n",
      "2025-10-07 04:10:15,246 INFO - ✓ Worker 0: common_voice_en_18431.mp3:  A child at the top of a fake rock wall.\n",
      "2025-10-07 04:10:15,299 INFO - ✓ Worker 15: common_voice_en_18431642.mp3:  I really don't fancy going out today.\n",
      "2025-10-07 04:10:15,503 INFO - ✓ Worker 1: common_voice_en_18429623.mp3:  Please leave your hat on the hat stand in the hall.\n",
      "2025-10-07 04:10:15,564 INFO - ✓ Worker 14: common_voice_en_18431040.mp3:  This, of course, was entirely foreign to my policy.\n",
      "2025-10-07 04:10:15,587 INFO - ✓ Worker 8: common_voice_en_18429667.mp3:  Boss alarms were horrifyingly common during the Cold War.\n",
      "2025-10-07 04:10:15,614 INFO - ✓ Worker 13: common_voice_en_18430011.mp3:  Because boys and ladies and gentlemen, he is a pessimist.\n",
      "2025-10-07 04:10:15,628 INFO - ✓ Worker 12: common_voice_en_18431947.mp3:  And you have been very kind to me, jeeps.\n",
      "2025-10-07 04:10:15,720 INFO - ✓ Worker 7: common_voice_en_18429672.mp3:  The image file was supplied in JPEG format.\n",
      "2025-10-07 04:10:15,824 INFO - ✓ Worker 2: common_voice_en_18429632.mp3:  Sorry, I can't see any of those pine glasses.\n",
      "2025-10-07 04:10:17,966 INFO - ✓ Worker 3: common_voice_en_18431018.mp3:  I think machine learning is great.\n",
      "2025-10-07 04:10:18,301 INFO - ✓ Worker 5: common_voice_en_18431641.mp3:  The end result is always the pain.\n",
      "2025-10-07 04:10:18,553 INFO - ✓ Worker 9: common_voice_en_18432349.mp3:  It won't take you long.\n",
      "2025-10-07 04:10:18,569 INFO - ✓ Worker 10: common_voice_en_18432327.mp3:  There may be something in this.\n",
      "2025-10-07 04:10:19,153 INFO - ✓ Worker 0: common_voice_en_18431498.mp3:  I'm going to need more information from you.\n",
      "2025-10-07 04:10:19,161 INFO - ✓ Worker 8: common_voice_en_18433.mp3:  Two men are standing beside the train tracks.\n",
      "2025-10-07 04:10:19,173 INFO - ✓ Worker 12: common_voice_en_18431943.mp3:  What's the good of that to me?\n",
      "2025-10-07 04:10:19,293 INFO - ✓ Worker 11: common_voice_en_18433010.mp3:  It's a terrific idea, Bertie.\n",
      "2025-10-07 04:10:19,351 INFO - ✓ Worker 4: common_voice_en_18432249.mp3:  Should I say between we meet, do you think?\n",
      "2025-10-07 04:10:19,561 INFO - ✓ Worker 15: common_voice_en_18433272.mp3:  I must have been changed for Mabel.\n",
      "2025-10-07 04:10:19,743 INFO - ✓ Worker 2: common_voice_en_18430012.mp3:  Be here with me, it will all become clear.\n",
      "2025-10-07 04:10:19,831 INFO - ✓ Worker 1: common_voice_en_18430008.mp3:  and their chief virtualize in that they will never wear out\n",
      "2025-10-07 04:10:19,916 INFO - ✓ Worker 6: common_voice_en_18431643.mp3:  It was lovely seeing them, but I am tired and tearful now.\n",
      "2025-10-07 04:10:20,136 INFO - ✓ Worker 14: common_voice_en_18433025.mp3:  After he was ripped off, he demanded the refund.\n",
      "2025-10-07 04:10:20,930 INFO - ✓ Worker 13: common_voice_en_18433337.mp3:  He has a license to shoot persons with his twelve boar.\n",
      "2025-10-07 04:10:21,397 INFO - ✓ Worker 5: common_voice_en_18433545.mp3:  A Christmas Carol.\n",
      "2025-10-07 04:10:21,501 INFO - ✓ Worker 7: common_voice_en_18432.mp3:  A woman is kicking another woman during a karate match while a man nearby looks on.\n",
      "2025-10-07 04:10:21,843 INFO - ✓ Worker 0: common_voice_en_18432288.mp3:  I'm feeling rather sick.\n",
      "2025-10-07 04:10:22,258 INFO - ✓ Worker 10: common_voice_en_18433024.mp3:  Her presentation was fantastic.\n",
      "2025-10-07 04:10:22,371 INFO - ✓ Worker 9: common_voice_en_18434550.mp3:  Have a good trip back.\n",
      "2025-10-07 04:10:22,384 INFO - ✓ Worker 8: common_voice_en_18434553.mp3:  We'll have to watch our chances.\n",
      "2025-10-07 04:10:22,539 INFO - ✓ Worker 4: common_voice_en_18434000.mp3:  She lives in Scotland in Edinburgh.\n",
      "2025-10-07 04:10:22,661 INFO - ✓ Worker 11: common_voice_en_18433999.mp3:  Glad you are back at last.\n",
      "2025-10-07 04:10:22,705 INFO - ✓ Worker 2: common_voice_en_18433998.mp3:  It was all right after all.\n",
      "2025-10-07 04:10:22,729 INFO - ✓ Worker 3: common_voice_en_18434492.mp3:  You must expect to fail sometimes. Please, don't quit.\n",
      "2025-10-07 04:10:22,816 INFO - ✓ Worker 6: common_voice_en_18434468.mp3:  He stood brooding for a moment.\n",
      "2025-10-07 04:10:22,965 INFO - ✓ Worker 12: common_voice_en_18434542.mp3:  Oh, it's you, is it?\n",
      "2025-10-07 04:10:22,985 INFO - ✓ Worker 1: common_voice_en_18433463.mp3:  No less than the trees and the stars.\n",
      "2025-10-07 04:10:23,189 INFO - ✓ Worker 14: common_voice_en_18434543.mp3:  She must have noticed your Supreme Sacrifice.\n",
      "2025-10-07 04:10:23,241 INFO - ✓ Worker 7: common_voice_en_18434545.mp3:  She sowed most of her own clothes.\n",
      "2025-10-07 04:10:23,257 INFO - ✓ Worker 15: common_voice_en_18434551.mp3:  What, in your opinion, will the harvest be?\n",
      "2025-10-07 04:10:23,307 INFO - ✓ Worker 13: common_voice_en_18434454.mp3:  When I was a child, I loved buying Sherbert at the sweet shop.\n"
     ]
    },
    {
     "name": "stderr",
     "output_type": "stream",
     "text": [
      "Downloading batch 73:  48%|████▊     | 23/48 [00:00<00:00, 97.67it/s]"
     ]
    },
    {
     "name": "stdout",
     "output_type": "stream",
     "text": [
      "2025-10-07 04:10:24,174 WARNING - Connection pool is full, discarding connection: asrelder-data.s3.amazonaws.com. Connection pool size: 10\n",
      "2025-10-07 04:10:24,249 WARNING - Connection pool is full, discarding connection: asrelder-data.s3.amazonaws.com. Connection pool size: 10\n",
      "2025-10-07 04:10:24,249 WARNING - Connection pool is full, discarding connection: asrelder-data.s3.amazonaws.com. Connection pool size: 10\n",
      "2025-10-07 04:10:24,252 WARNING - Connection pool is full, discarding connection: asrelder-data.s3.amazonaws.com. Connection pool size: 10\n",
      "2025-10-07 04:10:24,254 WARNING - Connection pool is full, discarding connection: asrelder-data.s3.amazonaws.com. Connection pool size: 10\n",
      "2025-10-07 04:10:24,259 WARNING - Connection pool is full, discarding connection: asrelder-data.s3.amazonaws.com. Connection pool size: 10\n",
      "2025-10-07 04:10:24,265 WARNING - Connection pool is full, discarding connection: asrelder-data.s3.amazonaws.com. Connection pool size: 10\n"
     ]
    },
    {
     "name": "stderr",
     "output_type": "stream",
     "text": [
      "Downloading batch 73:  98%|█████████▊| 47/48 [00:00<00:00, 150.56it/s]"
     ]
    },
    {
     "name": "stdout",
     "output_type": "stream",
     "text": [
      "2025-10-07 04:10:24,273 WARNING - Connection pool is full, discarding connection: asrelder-data.s3.amazonaws.com. Connection pool size: 10\n"
     ]
    },
    {
     "name": "stderr",
     "output_type": "stream",
     "text": [
      "Downloading batch 73: 100%|██████████| 48/48 [00:00<00:00, 122.10it/s]"
     ]
    },
    {
     "name": "stdout",
     "output_type": "stream",
     "text": [
      "2025-10-07 04:10:24,275 INFO - Transcribing 48 files in parallel...\n"
     ]
    },
    {
     "name": "stderr",
     "output_type": "stream",
     "text": [
      "\n"
     ]
    },
    {
     "name": "stdout",
     "output_type": "stream",
     "text": [
      "2025-10-07 04:10:27,223 INFO - ✓ Worker 3: common_voice_en_18434571.mp3:  This is blended news.\n",
      "2025-10-07 04:10:27,243 INFO - ✓ Worker 8: common_voice_en_18434939.mp3:  You pride yourself on it.\n",
      "2025-10-07 04:10:27,479 INFO - ✓ Worker 13: common_voice_en_18434573.mp3:  Are you registered to vote?\n",
      "2025-10-07 04:10:27,494 INFO - ✓ Worker 1: common_voice_en_18434560.mp3:  I just love chocolate chip cookies.\n",
      "2025-10-07 04:10:27,621 INFO - ✓ Worker 11: common_voice_en_18434587.mp3:  She felt completely wrong out.\n",
      "2025-10-07 04:10:28,054 INFO - ✓ Worker 4: common_voice_en_18434938.mp3:  I can't believe what they're saying.\n",
      "2025-10-07 04:10:28,300 INFO - ✓ Worker 12: common_voice_en_18435068.mp3:  Could you put the saws on the side?\n",
      "2025-10-07 04:10:28,560 INFO - ✓ Worker 5: common_voice_en_18434686.mp3:  The alien was a rather fetching aquamarine color.\n",
      "2025-10-07 04:10:28,666 INFO - ✓ Worker 2: common_voice_en_18434595.mp3:  who are normally clean as the lieu in your house.\n",
      "2025-10-07 04:10:28,751 INFO - ✓ Worker 9: common_voice_en_18434578.mp3:  It would be the fine, big, thing, old egg.\n",
      "2025-10-07 04:10:28,817 INFO - ✓ Worker 14: common_voice_en_18435051.mp3:  He had a doubt that they'd become embarrassingly personal.\n",
      "2025-10-07 04:10:29,004 INFO - ✓ Worker 6: common_voice_en_18435049.mp3:  Claire has shown kindly agreed to clear out my city pad.\n",
      "2025-10-07 04:10:29,335 INFO - ✓ Worker 7: common_voice_en_18434561.mp3:  Tails up, be dashed, was our somber response.\n",
      "2025-10-07 04:10:29,538 INFO - ✓ Worker 0: common_voice_en_18434557.mp3:  It is well, you're out of my reach, he exclaimed.\n",
      "2025-10-07 04:10:29,911 INFO - ✓ Worker 15: common_voice_en_18434577.mp3:  As regards these two, everything was beyond the question absolutely in order.\n",
      "2025-10-07 04:10:29,974 INFO - ✓ Worker 10: common_voice_en_18434585.mp3:  In partnership with Daylight, the pair rated the San Jose inter-urban.\n",
      "2025-10-07 04:10:30,655 INFO - ✓ Worker 1: common_voice_en_18434602.mp3:  It was the principal weaving center.\n",
      "2025-10-07 04:10:31,165 INFO - ✓ Worker 3: common_voice_en_18434606.mp3:  It lasted as a deterrent for two days.\n",
      "2025-10-07 04:10:31,894 INFO - ✓ Worker 4: common_voice_en_18435.mp3:  A group of cohorts play football while drinking.\n",
      "2025-10-07 04:10:32,144 INFO - ✓ Worker 2: common_voice_en_18434582.mp3:  Last night will have killed all that.\n",
      "2025-10-07 04:10:32,272 INFO - ✓ Worker 5: common_voice_en_18434603.mp3:  Do you think I ought to acknowledge her kindness?\n",
      "2025-10-07 04:10:32,585 INFO - ✓ Worker 6: common_voice_en_18435087.mp3:  Where's the Nobel Prize awarded again?\n",
      "2025-10-07 04:10:32,766 INFO - ✓ Worker 14: common_voice_en_18435375.mp3:  He was called indistant.\n",
      "2025-10-07 04:10:32,833 INFO - ✓ Worker 8: common_voice_en_18435067.mp3:  King Charles I was executed during the English Civil War.\n",
      "2025-10-07 04:10:32,986 INFO - ✓ Worker 15: common_voice_en_18435395.mp3:  He loved his comfortable old slippers.\n",
      "2025-10-07 04:10:33,041 INFO - ✓ Worker 0: common_voice_en_18434590.mp3:  I can't bear it any longer.\n",
      "2025-10-07 04:10:33,335 INFO - ✓ Worker 9: common_voice_en_18435071.mp3:  She avoids artificial fibers such as polyester and nylon.\n",
      "2025-10-07 04:10:33,848 INFO - ✓ Worker 1: common_voice_en_18435349.mp3:  Christina recommended the fish.\n",
      "2025-10-07 04:10:33,901 INFO - ✓ Worker 11: common_voice_en_18435079.mp3:  We need to look further forward on the near-term goals.\n",
      "2025-10-07 04:10:33,935 INFO - ✓ Worker 13: common_voice_en_18435338.mp3:  There is a heightened risk of critical tension and conflict.\n",
      "2025-10-07 04:10:34,040 INFO - ✓ Worker 10: common_voice_en_18435325.mp3:  The black fabric had faded to a deep purple color.\n",
      "2025-10-07 04:10:34,119 INFO - ✓ Worker 12: common_voice_en_18435308.mp3:  If you go swimming regularly, you can call yourself a swimmer.\n",
      "2025-10-07 04:10:34,705 INFO - ✓ Worker 7: common_voice_en_18434605.mp3:  Men that are included in the line, the Reserve, militia, farewell.\n",
      "2025-10-07 04:10:35,854 INFO - ✓ Worker 3: common_voice_en_18435406.mp3:  It will send your stack up with the job.\n",
      "2025-10-07 04:10:36,059 INFO - ✓ Worker 4: common_voice_en_18435413.mp3:  I shall never get to 20 at that rate.\n",
      "2025-10-07 04:10:36,363 INFO - ✓ Worker 0: common_voice_en_18435348.mp3:  is Attitude for Plexed Bay.\n",
      "2025-10-07 04:10:36,556 INFO - ✓ Worker 5: common_voice_en_18435403.mp3:  I could have sworn that we are on a frying pan.\n",
      "2025-10-07 04:10:36,852 INFO - ✓ Worker 8: common_voice_en_18436523.mp3:  You need to select a different menu option to switch modes.\n",
      "2025-10-07 04:10:36,874 INFO - ✓ Worker 13: common_voice_en_18436480.mp3:  Temporarily be bloat.\n",
      "2025-10-07 04:10:36,877 INFO - ✓ Worker 2: common_voice_en_18435415.mp3:  I'd rather regret never having learned to play the cello.\n",
      "2025-10-07 04:10:36,928 INFO - ✓ Worker 6: common_voice_en_18436187.mp3:  With her metal detector she discovered a Viking treasure trove.\n",
      "2025-10-07 04:10:37,010 INFO - ✓ Worker 12: common_voice_en_18436159.mp3:  But I suppose you drew a blank.\n",
      "2025-10-07 04:10:37,154 INFO - ✓ Worker 14: common_voice_en_18436937.mp3:  What do you see when you are distributing prizes?\n",
      "2025-10-07 04:10:37,171 INFO - ✓ Worker 11: common_voice_en_18436499.mp3:  Preliminary spade work must be put in.\n",
      "2025-10-07 04:10:37,192 INFO - ✓ Worker 7: common_voice_en_18435416.mp3:  Take kindly the council of the years.\n",
      "2025-10-07 04:10:37,216 INFO - ✓ Worker 10: common_voice_en_18436533.mp3:  My grandmother always wrote her letters with a traditional fountain pen.\n",
      "2025-10-07 04:10:37,239 INFO - ✓ Worker 9: common_voice_en_18436530.mp3:  Oh, about 10 swallows, say 16 medium sized cups.\n",
      "2025-10-07 04:10:37,276 INFO - ✓ Worker 15: common_voice_en_18436532.mp3:  I don't want to get involved and I don't intend to.\n"
     ]
    },
    {
     "name": "stderr",
     "output_type": "stream",
     "text": [
      "Downloading batch 74:   2%|▏         | 1/48 [00:00<00:07,  6.29it/s]"
     ]
    },
    {
     "name": "stdout",
     "output_type": "stream",
     "text": [
      "2025-10-07 04:10:38,122 WARNING - Connection pool is full, discarding connection: asrelder-data.s3.amazonaws.com. Connection pool size: 10\n"
     ]
    },
    {
     "name": "stderr",
     "output_type": "stream",
     "text": [
      "Downloading batch 74:  42%|████▏     | 20/48 [00:00<00:00, 89.58it/s]"
     ]
    },
    {
     "name": "stdout",
     "output_type": "stream",
     "text": [
      "2025-10-07 04:10:38,143 WARNING - Connection pool is full, discarding connection: asrelder-data.s3.amazonaws.com. Connection pool size: 10\n",
      "2025-10-07 04:10:38,156 WARNING - Connection pool is full, discarding connection: asrelder-data.s3.amazonaws.com. Connection pool size: 10\n"
     ]
    },
    {
     "name": "stderr",
     "output_type": "stream",
     "text": [
      "Downloading batch 74:  81%|████████▏ | 39/48 [00:00<00:00, 126.06it/s]"
     ]
    },
    {
     "name": "stdout",
     "output_type": "stream",
     "text": [
      "2025-10-07 04:10:38,254 WARNING - Connection pool is full, discarding connection: asrelder-data.s3.amazonaws.com. Connection pool size: 10\n",
      "2025-10-07 04:10:38,255 WARNING - Connection pool is full, discarding connection: asrelder-data.s3.amazonaws.com. Connection pool size: 10\n",
      "2025-10-07 04:10:38,259 WARNING - Connection pool is full, discarding connection: asrelder-data.s3.amazonaws.com. Connection pool size: 10\n",
      "2025-10-07 04:10:38,264 WARNING - Connection pool is full, discarding connection: asrelder-data.s3.amazonaws.com. Connection pool size: 10\n",
      "2025-10-07 04:10:38,273 WARNING - Connection pool is full, discarding connection: asrelder-data.s3.amazonaws.com. Connection pool size: 10\n",
      "2025-10-07 04:10:38,284 WARNING - Connection pool is full, discarding connection: asrelder-data.s3.amazonaws.com. Connection pool size: 10\n",
      "2025-10-07 04:10:38,286 WARNING - Connection pool is full, discarding connection: asrelder-data.s3.amazonaws.com. Connection pool size: 10\n"
     ]
    },
    {
     "name": "stderr",
     "output_type": "stream",
     "text": [
      "Downloading batch 74: 100%|██████████| 48/48 [00:00<00:00, 115.55it/s]"
     ]
    },
    {
     "name": "stdout",
     "output_type": "stream",
     "text": [
      "2025-10-07 04:10:38,288 INFO - Transcribing 48 files in parallel...\n"
     ]
    },
    {
     "name": "stderr",
     "output_type": "stream",
     "text": [
      "\n"
     ]
    },
    {
     "name": "stdout",
     "output_type": "stream",
     "text": [
      "2025-10-07 04:10:41,258 INFO - ✓ Worker 2: common_voice_en_18437351.mp3:  Innovation takes perspiration.\n",
      "2025-10-07 04:10:41,305 INFO - ✓ Worker 7: common_voice_en_18438266.mp3:  A laudable sentiment.\n",
      "2025-10-07 04:10:41,517 INFO - ✓ Worker 9: common_voice_en_18437.mp3:  Young girls are doing a dance.\n",
      "2025-10-07 04:10:41,929 INFO - ✓ Worker 0: common_voice_en_18436938.mp3:  Not a bit of good, try.\n",
      "2025-10-07 04:10:42,017 INFO - ✓ Worker 6: common_voice_en_18437552.mp3:  What a busy little brain it is.\n",
      "2025-10-07 04:10:42,022 INFO - ✓ Worker 15: common_voice_en_18437554.mp3:  I could see that this had moved him.\n",
      "2025-10-07 04:10:42,101 INFO - ✓ Worker 8: common_voice_en_18437569.mp3:  A song, a girl, a maid.\n",
      "2025-10-07 04:10:42,459 INFO - ✓ Worker 5: common_voice_en_18437358.mp3:  She thought she was going to be stung.\n",
      "2025-10-07 04:10:42,507 INFO - ✓ Worker 4: common_voice_en_18437354.mp3:  We have a very committed licensee and Singapore.\n",
      "2025-10-07 04:10:42,550 INFO - ✓ Worker 10: common_voice_en_18440107.mp3:  Brownenies are quick and easy to make.\n",
      "2025-10-07 04:10:42,627 INFO - ✓ Worker 11: common_voice_en_18440110.mp3:  When he said himself, I think he meant ourselves.\n",
      "2025-10-07 04:10:42,926 INFO - ✓ Worker 12: common_voice_en_18438646.mp3:  Futuring a Slate Monsert Roof\n",
      "2025-10-07 04:10:43,060 INFO - ✓ Worker 1: common_voice_en_18437338.mp3:  I rather think Andy is a bit of a wide boy.\n",
      "2025-10-07 04:10:43,092 INFO - ✓ Worker 14: common_voice_en_18437596.mp3:  I lit another cigarette and gave my mind to the matter.\n",
      "2025-10-07 04:10:43,283 INFO - ✓ Worker 13: common_voice_en_18437556.mp3:  You need to be more cautious, especially around expensive equipment like this.\n",
      "2025-10-07 04:10:44,156 INFO - ✓ Worker 3: common_voice_en_18440.mp3:  A man is doing tricks on a bicycle on ramson front of a crowd.\n",
      "2025-10-07 04:10:44,693 INFO - ✓ Worker 2: common_voice_en_18437558.mp3:  After waking, he rose early.\n",
      "2025-10-07 04:10:45,241 INFO - ✓ Worker 4: common_voice_en_18440136.mp3:  I saw three ships.\n",
      "2025-10-07 04:10:45,484 INFO - ✓ Worker 5: common_voice_en_184407.mp3:  I will keep you in mind.\n",
      "2025-10-07 04:10:45,554 INFO - ✓ Worker 12: common_voice_en_18440138.mp3:  Right who then?\n",
      "2025-10-07 04:10:45,666 INFO - ✓ Worker 9: common_voice_en_18441824.mp3:  King took every advantage he knew.\n",
      "2025-10-07 04:10:46,047 INFO - ✓ Worker 10: common_voice_en_18440962.mp3:  The Mexican explained what he meant.\n",
      "2025-10-07 04:10:46,450 INFO - ✓ Worker 0: common_voice_en_18437566.mp3:  She seems to feel the stir of life along her keel.\n",
      "2025-10-07 04:10:46,723 INFO - ✓ Worker 1: common_voice_en_18438267.mp3:  He appreciated what his mate had been doing.\n",
      "2025-10-07 04:10:46,724 INFO - ✓ Worker 7: common_voice_en_18437557.mp3:  You will need to try in the end of the queue.\n",
      "2025-10-07 04:10:46,946 INFO - ✓ Worker 13: common_voice_en_18441964.mp3:  Any thought, so long as it's strong.\n",
      "2025-10-07 04:10:47,092 INFO - ✓ Worker 6: common_voice_en_18438270.mp3:  It was how I managed to get us invites to talk around.\n",
      "2025-10-07 04:10:47,222 INFO - ✓ Worker 3: common_voice_en_18438.mp3:  Four children are having a pillow fight.\n",
      "2025-10-07 04:10:47,257 INFO - ✓ Worker 11: common_voice_en_18437553.mp3:  She's brokenhearted about this riff to top him.\n",
      "2025-10-07 04:10:47,770 INFO - ✓ Worker 15: common_voice_en_18441977.mp3:  We're working a long board wait.\n",
      "2025-10-07 04:10:48,122 INFO - ✓ Worker 4: common_voice_en_18441979.mp3:  What have we become?\n",
      "2025-10-07 04:10:48,157 INFO - ✓ Worker 14: common_voice_en_18441848.mp3:  A bit un-English, old man, you must admit.\n",
      "2025-10-07 04:10:48,983 INFO - ✓ Worker 8: common_voice_en_18440139.mp3:  Thou comest well, if thou comest alone set of misfortunes.\n",
      "2025-10-07 04:10:49,324 INFO - ✓ Worker 2: common_voice_en_18441978.mp3:  Everything pretty smooth now, I trust.\n",
      "2025-10-07 04:10:49,360 INFO - ✓ Worker 5: common_voice_en_18442695.mp3:  but I need not labor the point.\n",
      "2025-10-07 04:10:49,849 INFO - ✓ Worker 12: common_voice_en_18441980.mp3:  I resent these implications.\n",
      "2025-10-07 04:10:50,075 INFO - ✓ Worker 6: common_voice_en_18443702.mp3:  Yes, Saturday should be fine.\n",
      "2025-10-07 04:10:50,289 INFO - ✓ Worker 1: common_voice_en_18441966.mp3:  Not everybody agrees that globalization is progress.\n",
      "2025-10-07 04:10:50,304 INFO - ✓ Worker 11: common_voice_en_18443703.mp3:  I see what I can do.\n",
      "2025-10-07 04:10:50,448 INFO - ✓ Worker 9: common_voice_en_18442157.mp3:  Because he said my trousers would split up the back.\n",
      "2025-10-07 04:10:50,710 INFO - ✓ Worker 7: common_voice_en_18442213.mp3:  A cold collation has been set out in the dining room.\n",
      "2025-10-07 04:10:50,853 INFO - ✓ Worker 14: common_voice_en_18443701.mp3:  It was right there in plain sight.\n",
      "2025-10-07 04:10:50,922 INFO - ✓ Worker 13: common_voice_en_18441986.mp3:  I am always up before the sun has risen.\n",
      "2025-10-07 04:10:50,927 INFO - ✓ Worker 3: common_voice_en_18442122.mp3:  He came first a year ago and revealed himself to Jean.\n",
      "2025-10-07 04:10:51,024 INFO - ✓ Worker 0: common_voice_en_18441976.mp3:  Below him, the shadow was broken into a pool of repelling starlight.\n",
      "2025-10-07 04:10:51,145 INFO - ✓ Worker 10: common_voice_en_18442.mp3:  A skateboarder is doing a trick at the top of a ramp while another person watches.\n",
      "2025-10-07 04:10:51,155 INFO - ✓ Worker 15: common_voice_en_18443.mp3:  A shirtless man wearing a vest walks on a stage with his arms up.\n",
      "2025-10-07 04:10:51,160 INFO - ✓ Worker 8: common_voice_en_18443705.mp3:  In my opinion, doughnuts take a lot of beating.\n"
     ]
    },
    {
     "name": "stderr",
     "output_type": "stream",
     "text": [
      "Downloading batch 75:   2%|▏         | 1/48 [00:00<00:06,  7.34it/s]"
     ]
    },
    {
     "name": "stdout",
     "output_type": "stream",
     "text": [
      "2025-10-07 04:10:51,978 WARNING - Connection pool is full, discarding connection: asrelder-data.s3.amazonaws.com. Connection pool size: 10\n",
      "2025-10-07 04:10:51,980 WARNING - Connection pool is full, discarding connection: asrelder-data.s3.amazonaws.com. Connection pool size: 10\n"
     ]
    },
    {
     "name": "stderr",
     "output_type": "stream",
     "text": [
      "Downloading batch 75:  79%|███████▉  | 38/48 [00:00<00:00, 129.74it/s]"
     ]
    },
    {
     "name": "stdout",
     "output_type": "stream",
     "text": [
      "2025-10-07 04:10:52,120 WARNING - Connection pool is full, discarding connection: asrelder-data.s3.amazonaws.com. Connection pool size: 10\n",
      "2025-10-07 04:10:52,121 WARNING - Connection pool is full, discarding connection: asrelder-data.s3.amazonaws.com. Connection pool size: 10\n",
      "2025-10-07 04:10:52,124 WARNING - Connection pool is full, discarding connection: asrelder-data.s3.amazonaws.com. Connection pool size: 10\n",
      "2025-10-07 04:10:52,139 WARNING - Connection pool is full, discarding connection: asrelder-data.s3.amazonaws.com. Connection pool size: 10\n",
      "2025-10-07 04:10:52,142 WARNING - Connection pool is full, discarding connection: asrelder-data.s3.amazonaws.com. Connection pool size: 10\n",
      "2025-10-07 04:10:52,162 WARNING - Connection pool is full, discarding connection: asrelder-data.s3.amazonaws.com. Connection pool size: 10\n",
      "2025-10-07 04:10:52,177 WARNING - Connection pool is full, discarding connection: asrelder-data.s3.amazonaws.com. Connection pool size: 10\n",
      "2025-10-07 04:10:52,196 WARNING - Connection pool is full, discarding connection: asrelder-data.s3.amazonaws.com. Connection pool size: 10\n"
     ]
    },
    {
     "name": "stderr",
     "output_type": "stream",
     "text": [
      "Downloading batch 75: 100%|██████████| 48/48 [00:00<00:00, 110.14it/s]"
     ]
    },
    {
     "name": "stdout",
     "output_type": "stream",
     "text": [
      "2025-10-07 04:10:52,198 INFO - Transcribing 48 files in parallel...\n"
     ]
    },
    {
     "name": "stderr",
     "output_type": "stream",
     "text": [
      "\n"
     ]
    },
    {
     "name": "stdout",
     "output_type": "stream",
     "text": [
      "2025-10-07 04:10:55,533 INFO - ✓ Worker 11: common_voice_en_18444984.mp3:  Men, women, and children.\n",
      "2025-10-07 04:10:55,860 INFO - ✓ Worker 0: common_voice_en_18444408.mp3:  Unto us, a boy is born.\n",
      "2025-10-07 04:10:55,876 INFO - ✓ Worker 8: common_voice_en_18448505.mp3:  What brand of toilet paper do you use?\n",
      "2025-10-07 04:10:56,169 INFO - ✓ Worker 2: common_voice_en_18444219.mp3:  It was a beautiful little sea animony.\n",
      "2025-10-07 04:10:56,248 INFO - ✓ Worker 14: common_voice_en_18448590.mp3:  We need to get to the bottom of this.\n",
      "2025-10-07 04:10:56,365 INFO - ✓ Worker 10: common_voice_en_18444649.mp3:  Well, I have been doing that all right.\n",
      "2025-10-07 04:10:56,457 INFO - ✓ Worker 3: common_voice_en_18444.mp3:  A brown dog running on the beach near the ocean.\n",
      "2025-10-07 04:10:56,458 INFO - ✓ Worker 1: common_voice_en_18444156.mp3:  Is it a bad thing to be a perfectionist?\n",
      "2025-10-07 04:10:56,508 INFO - ✓ Worker 4: common_voice_en_18448522.mp3:  The image was too faint and needed to be enhanced.\n",
      "2025-10-07 04:10:56,524 INFO - ✓ Worker 12: common_voice_en_18448524.mp3:  My third grader is learning long division right now.\n",
      "2025-10-07 04:10:56,851 INFO - ✓ Worker 15: common_voice_en_18448466.mp3:  Does your van have a diesel engine or is it petrol?\n",
      "2025-10-07 04:10:56,993 INFO - ✓ Worker 13: common_voice_en_18448580.mp3:  Go placidly amid the noise and the haste.\n",
      "2025-10-07 04:10:57,089 INFO - ✓ Worker 9: common_voice_en_18444191.mp3:  Is he going to have a stagnate for the bedding?\n",
      "2025-10-07 04:10:57,552 INFO - ✓ Worker 7: common_voice_en_18447.mp3:  A group of people rowing down a Modi river in large boats.\n",
      "2025-10-07 04:10:57,560 INFO - ✓ Worker 5: common_voice_en_18448428.mp3:  I can't even understand the preamble to this research paper.\n",
      "2025-10-07 04:10:58,503 INFO - ✓ Worker 0: common_voice_en_18444980.mp3:  Upside down, upper cake.\n",
      "2025-10-07 04:10:59,056 INFO - ✓ Worker 6: common_voice_en_18445.mp3:  A high-kin navigator rope and wood bridge over a large dry ravine.\n",
      "2025-10-07 04:11:00,479 INFO - ✓ Worker 3: common_voice_en_18448436.mp3:  I have recorded what passed between us on the lawn.\n",
      "2025-10-07 04:11:00,558 INFO - ✓ Worker 1: common_voice_en_18448.mp3:  Couples and singles dancing with numbers attached to them.\n",
      "2025-10-07 04:11:00,682 INFO - ✓ Worker 2: common_voice_en_18448576.mp3:  We're going on a field trip to the local art museum.\n",
      "2025-10-07 04:11:00,949 INFO - ✓ Worker 10: common_voice_en_18444977.mp3:  No doubt, the universe is unfolding as it should.\n",
      "2025-10-07 04:11:00,970 INFO - ✓ Worker 12: common_voice_en_18449181.mp3:  Where could I have to be, or please?\n",
      "2025-10-07 04:11:01,033 INFO - ✓ Worker 4: common_voice_en_18444668.mp3:  She seems to be implying that I can never improve.\n",
      "2025-10-07 04:11:01,294 INFO - ✓ Worker 5: common_voice_en_18448482.mp3:  What was the object of your little sensation?\n",
      "2025-10-07 04:11:01,616 INFO - ✓ Worker 11: common_voice_en_18448432.mp3:  The tiny buttons on my mobile phone are very fiddly.\n",
      "2025-10-07 04:11:01,753 INFO - ✓ Worker 13: common_voice_en_18450.mp3:  A man on a pink shirt rides a booking horse.\n",
      "2025-10-07 04:11:01,970 INFO - ✓ Worker 6: common_voice_en_18448964.mp3:  How was your trip to Shanghai?\n",
      "2025-10-07 04:11:02,017 INFO - ✓ Worker 14: common_voice_en_18450513.mp3:  The midnight hour has struck and I must sleep.\n",
      "2025-10-07 04:11:02,102 INFO - ✓ Worker 15: common_voice_en_18450624.mp3:  She feigned offense at every opportunity.\n",
      "2025-10-07 04:11:02,151 INFO - ✓ Worker 8: common_voice_en_18448632.mp3:  Isaac Ford, the austere soldier of the Lord, the old hypocrite.\n",
      "2025-10-07 04:11:02,303 INFO - ✓ Worker 9: common_voice_en_18449.mp3:  A young boy in red swim trunks runs through a public water fountain.\n",
      "2025-10-07 04:11:02,942 INFO - ✓ Worker 0: common_voice_en_18450551.mp3:  If you can assist, please write a check.\n",
      "2025-10-07 04:11:02,985 INFO - ✓ Worker 7: common_voice_en_18448633.mp3:  I see, I said, though I didn't, being still fogged.\n",
      "2025-10-07 04:11:03,774 INFO - ✓ Worker 1: common_voice_en_18449182.mp3:  We three kings of Orient are.\n",
      "2025-10-07 04:11:03,932 INFO - ✓ Worker 2: common_voice_en_18450512.mp3:  I was hoping for the next dance.\n",
      "2025-10-07 04:11:04,028 INFO - ✓ Worker 5: common_voice_en_18450722.mp3:  Couple of hours after.\n",
      "2025-10-07 04:11:04,355 INFO - ✓ Worker 10: common_voice_en_18449089.mp3:  The project is complete.\n",
      "2025-10-07 04:11:04,370 INFO - ✓ Worker 4: common_voice_en_18449137.mp3:  Everyone is King in his own house.\n",
      "2025-10-07 04:11:04,483 INFO - ✓ Worker 3: common_voice_en_18450556.mp3:  The high court takes appeals from the county courts.\n",
      "2025-10-07 04:11:05,099 INFO - ✓ Worker 11: common_voice_en_18449179.mp3:  It happened one dark and stormy night.\n",
      "2025-10-07 04:11:05,168 INFO - ✓ Worker 7: common_voice_en_18450915.mp3:  He asked to be excused.\n",
      "2025-10-07 04:11:05,179 INFO - ✓ Worker 12: common_voice_en_18450544.mp3:  The wife had stopped communicating with her husband.\n",
      "2025-10-07 04:11:05,233 INFO - ✓ Worker 14: common_voice_en_18450916.mp3:  I see now you are laughing in your sleep.\n",
      "2025-10-07 04:11:05,339 INFO - ✓ Worker 9: common_voice_en_18450697.mp3:  In most countries, Petrol is sold in leaders.\n",
      "2025-10-07 04:11:05,431 INFO - ✓ Worker 13: common_voice_en_18450721.mp3:  Sorry, I don't know my way around comps yet.\n",
      "2025-10-07 04:11:05,468 INFO - ✓ Worker 15: common_voice_en_18450709.mp3:  This made me a bit dubious, I must confess.\n",
      "2025-10-07 04:11:05,500 INFO - ✓ Worker 6: common_voice_en_18450585.mp3:  Now that my upper daughter is married, I have two sons-in-law.\n",
      "2025-10-07 04:11:05,523 INFO - ✓ Worker 8: common_voice_en_18450718.mp3:  Although she didn't have much skill, she was determined to learn the whiling.\n",
      "2025-10-07 04:11:05,532 INFO - Appended 240 rows to ./transcripts_from_prefix.csv\n"
     ]
    },
    {
     "name": "stderr",
     "output_type": "stream",
     "text": [
      "Downloading batch 76:   2%|▏         | 1/48 [00:00<00:07,  6.33it/s]"
     ]
    },
    {
     "name": "stdout",
     "output_type": "stream",
     "text": [
      "2025-10-07 04:11:06,363 WARNING - Connection pool is full, discarding connection: asrelder-data.s3.amazonaws.com. Connection pool size: 10\n",
      "2025-10-07 04:11:06,373 WARNING - Connection pool is full, discarding connection: asrelder-data.s3.amazonaws.com. Connection pool size: 10\n"
     ]
    },
    {
     "name": "stderr",
     "output_type": "stream",
     "text": [
      "Downloading batch 76:  38%|███▊      | 18/48 [00:00<00:00, 83.27it/s]"
     ]
    },
    {
     "name": "stdout",
     "output_type": "stream",
     "text": [
      "2025-10-07 04:11:06,404 WARNING - Connection pool is full, discarding connection: asrelder-data.s3.amazonaws.com. Connection pool size: 10\n"
     ]
    },
    {
     "name": "stderr",
     "output_type": "stream",
     "text": [
      "Downloading batch 76:  81%|████████▏ | 39/48 [00:00<00:00, 129.43it/s]"
     ]
    },
    {
     "name": "stdout",
     "output_type": "stream",
     "text": [
      "2025-10-07 04:11:06,487 WARNING - Connection pool is full, discarding connection: asrelder-data.s3.amazonaws.com. Connection pool size: 10\n",
      "2025-10-07 04:11:06,489 WARNING - Connection pool is full, discarding connection: asrelder-data.s3.amazonaws.com. Connection pool size: 10\n",
      "2025-10-07 04:11:06,490 WARNING - Connection pool is full, discarding connection: asrelder-data.s3.amazonaws.com. Connection pool size: 10\n",
      "2025-10-07 04:11:06,495 WARNING - Connection pool is full, discarding connection: asrelder-data.s3.amazonaws.com. Connection pool size: 10\n",
      "2025-10-07 04:11:06,496 WARNING - Connection pool is full, discarding connection: asrelder-data.s3.amazonaws.com. Connection pool size: 10\n",
      "2025-10-07 04:11:06,499 WARNING - Connection pool is full, discarding connection: asrelder-data.s3.amazonaws.com. Connection pool size: 10\n",
      "2025-10-07 04:11:06,512 WARNING - Connection pool is full, discarding connection: asrelder-data.s3.amazonaws.com. Connection pool size: 10\n",
      "2025-10-07 04:11:06,533 WARNING - Connection pool is full, discarding connection: asrelder-data.s3.amazonaws.com. Connection pool size: 10\n",
      "2025-10-07 04:11:06,571 WARNING - Connection pool is full, discarding connection: asrelder-data.s3.amazonaws.com. Connection pool size: 10\n"
     ]
    },
    {
     "name": "stderr",
     "output_type": "stream",
     "text": [
      "Downloading batch 76: 100%|██████████| 48/48 [00:00<00:00, 104.93it/s]"
     ]
    },
    {
     "name": "stdout",
     "output_type": "stream",
     "text": [
      "2025-10-07 04:11:06,574 INFO - Transcribing 48 files in parallel...\n"
     ]
    },
    {
     "name": "stderr",
     "output_type": "stream",
     "text": [
      "\n"
     ]
    },
    {
     "name": "stdout",
     "output_type": "stream",
     "text": [
      "2025-10-07 04:11:09,293 INFO - ✓ Worker 2: common_voice_en_18451127.mp3:  The little bunnies.\n",
      "2025-10-07 04:11:09,500 INFO - ✓ Worker 15: common_voice_en_18453420.mp3:  Quite the tortured soul.\n",
      "2025-10-07 04:11:09,605 INFO - ✓ Worker 9: common_voice_en_18452918.mp3:  Obviously, I'm biased.\n",
      "2025-10-07 04:11:09,899 INFO - ✓ Worker 0: common_voice_en_18452919.mp3:  It's based on a true story.\n",
      "2025-10-07 04:11:10,175 INFO - ✓ Worker 3: common_voice_en_18452923.mp3:  Did he recede from his position?\n",
      "2025-10-07 04:11:10,197 INFO - ✓ Worker 10: common_voice_en_18452910.mp3:  the battle hymn of the Republic.\n",
      "2025-10-07 04:11:10,404 INFO - ✓ Worker 5: common_voice_en_18453105.mp3:  Gemma was a most wonderful mimic.\n",
      "2025-10-07 04:11:10,489 INFO - ✓ Worker 4: common_voice_en_18452912.mp3:  Have you read Alice in Wonderland?\n",
      "2025-10-07 04:11:10,504 INFO - ✓ Worker 12: common_voice_en_18453377.mp3:  Do you prefer white coffee or black?\n",
      "2025-10-07 04:11:10,511 INFO - ✓ Worker 1: common_voice_en_18451155.mp3:  Who's the managing director of this company?\n",
      "2025-10-07 04:11:10,590 INFO - ✓ Worker 7: common_voice_en_18452406.mp3:  Thanks so much for the kind pressy.\n",
      "2025-10-07 04:11:11,162 INFO - ✓ Worker 14: common_voice_en_18451247.mp3:  Captain Stoan's orders were swiftly obeyed.\n",
      "2025-10-07 04:11:11,230 INFO - ✓ Worker 11: common_voice_en_18451252.mp3:  Current retention has been a huge problem in recent years.\n",
      "2025-10-07 04:11:11,725 INFO - ✓ Worker 8: common_voice_en_18451.mp3:  A woman with sunglasses in a hat is sitting by water reading a book.\n",
      "2025-10-07 04:11:12,228 INFO - ✓ Worker 13: common_voice_en_18451172.mp3:  There is no live action. It's an all-digital character.\n",
      "2025-10-07 04:11:12,268 INFO - ✓ Worker 6: common_voice_en_18452926.mp3:  The waters of the inlet were first charted during the 18th century.\n",
      "2025-10-07 04:11:12,755 INFO - ✓ Worker 2: common_voice_en_18452927.mp3:  We need to discuss your experimentation.\n",
      "2025-10-07 04:11:13,015 INFO - ✓ Worker 0: common_voice_en_18452929.mp3:  This is my last wheel and testament.\n",
      "2025-10-07 04:11:13,152 INFO - ✓ Worker 10: common_voice_en_18453423.mp3:  I'll miss you.\n",
      "2025-10-07 04:11:13,876 INFO - ✓ Worker 7: common_voice_en_18453625.mp3:  One of his ripest.\n",
      "2025-10-07 04:11:14,024 INFO - ✓ Worker 11: common_voice_en_18453629.mp3:  Are you having a laugh?\n",
      "2025-10-07 04:11:14,086 INFO - ✓ Worker 1: common_voice_en_18453100.mp3:  He spoke in a low menacing voice.\n",
      "2025-10-07 04:11:14,183 INFO - ✓ Worker 9: common_voice_en_18452911.mp3:  That's all I ask you to do.\n",
      "2025-10-07 04:11:14,549 INFO - ✓ Worker 4: common_voice_en_18452922.mp3:  The word is a hybrid of both Latin and Greek.\n",
      "2025-10-07 04:11:14,576 INFO - ✓ Worker 3: common_voice_en_18453421.mp3:  The teacher was very keen on show and tell.\n",
      "2025-10-07 04:11:14,795 INFO - ✓ Worker 5: common_voice_en_18453.mp3:  Two girls threw a ball back and forth in their backyard.\n",
      "2025-10-07 04:11:14,900 INFO - ✓ Worker 12: common_voice_en_18453685.mp3:  These country benches are all the same.\n",
      "2025-10-07 04:11:15,413 INFO - ✓ Worker 0: common_voice_en_18453887.mp3:  When shall we begin?\n",
      "2025-10-07 04:11:15,699 INFO - ✓ Worker 2: common_voice_en_18453950.mp3:  As you advised.\n",
      "2025-10-07 04:11:15,846 INFO - ✓ Worker 13: common_voice_en_18453828.mp3:  Would the fall never come to an end?\n",
      "2025-10-07 04:11:15,937 INFO - ✓ Worker 14: common_voice_en_18453686.mp3:  We're a car to unleash your full potential.\n",
      "2025-10-07 04:11:16,507 INFO - ✓ Worker 15: common_voice_en_18453842.mp3:  Do we have robust disaster planning for that scenario?\n",
      "2025-10-07 04:11:16,679 INFO - ✓ Worker 8: common_voice_en_18453108.mp3:  Can we chat later what I'm feeling a bit more sparky?\n",
      "2025-10-07 04:11:17,046 INFO - ✓ Worker 6: common_voice_en_18452917.mp3:  It isn't a question of saying boo to a goose.\n",
      "2025-10-07 04:11:17,383 INFO - ✓ Worker 1: common_voice_en_18453687.mp3:  The business is an incorporated company.\n",
      "2025-10-07 04:11:17,819 INFO - ✓ Worker 7: common_voice_en_18454015.mp3:  Let me tell you a little story.\n",
      "2025-10-07 04:11:17,943 INFO - ✓ Worker 13: common_voice_en_18453974.mp3:  Must try harder.\n",
      "2025-10-07 04:11:17,954 INFO - ✓ Worker 5: common_voice_en_18453103.mp3:  Can you smell a really horrible odor?\n",
      "2025-10-07 04:11:18,336 INFO - ✓ Worker 12: common_voice_en_18453952.mp3:  How would you compare the two?\n",
      "2025-10-07 04:11:18,383 INFO - ✓ Worker 3: common_voice_en_18453724.mp3:  After graduating from college, she became a world champion.\n",
      "2025-10-07 04:11:18,431 INFO - ✓ Worker 14: common_voice_en_18453910.mp3:  I was glad to hear this.\n",
      "2025-10-07 04:11:18,462 INFO - ✓ Worker 4: common_voice_en_18453913.mp3:  We're hoping to meet up with them sometime next week.\n",
      "2025-10-07 04:11:18,575 INFO - ✓ Worker 9: common_voice_en_18453954.mp3:  So you're forward to the answer she gave yesterday.\n",
      "2025-10-07 04:11:18,676 INFO - ✓ Worker 10: common_voice_en_18453970.mp3:  Not a suggestion of split trousers from start to finish.\n",
      "2025-10-07 04:11:18,805 INFO - ✓ Worker 11: common_voice_en_18454.mp3:  Person wearing a black hat lets a cat sit on their shoulder.\n",
      "2025-10-07 04:11:18,839 INFO - ✓ Worker 8: common_voice_en_18453991.mp3:  Caroline is learning French at an adult education class.\n",
      "2025-10-07 04:11:18,871 INFO - ✓ Worker 15: common_voice_en_18453620.mp3:  We visited a nice cozy pub in the new forest.\n",
      "2025-10-07 04:11:18,903 INFO - ✓ Worker 6: common_voice_en_18453424.mp3:  The Pettiquana obviously takes a lot of looking after.\n"
     ]
    },
    {
     "name": "stderr",
     "output_type": "stream",
     "text": [
      "Downloading batch 77:   2%|▏         | 1/48 [00:00<00:08,  5.50it/s]"
     ]
    },
    {
     "name": "stdout",
     "output_type": "stream",
     "text": [
      "2025-10-07 04:11:19,752 WARNING - Connection pool is full, discarding connection: asrelder-data.s3.amazonaws.com. Connection pool size: 10\n",
      "2025-10-07 04:11:19,753 WARNING - Connection pool is full, discarding connection: asrelder-data.s3.amazonaws.com. Connection pool size: 10\n"
     ]
    },
    {
     "name": "stderr",
     "output_type": "stream",
     "text": [
      "Downloading batch 77:  44%|████▍     | 21/48 [00:00<00:00, 88.80it/s]"
     ]
    },
    {
     "name": "stdout",
     "output_type": "stream",
     "text": [
      "2025-10-07 04:11:19,823 WARNING - Connection pool is full, discarding connection: asrelder-data.s3.amazonaws.com. Connection pool size: 10\n",
      "2025-10-07 04:11:19,870 WARNING - Connection pool is full, discarding connection: asrelder-data.s3.amazonaws.com. Connection pool size: 10\n",
      "2025-10-07 04:11:19,870 WARNING - Connection pool is full, discarding connection: asrelder-data.s3.amazonaws.com. Connection pool size: 10\n",
      "2025-10-07 04:11:19,875 WARNING - Connection pool is full, discarding connection: asrelder-data.s3.amazonaws.com. Connection pool size: 10\n",
      "2025-10-07 04:11:19,876 WARNING - Connection pool is full, discarding connection: asrelder-data.s3.amazonaws.com. Connection pool size: 10\n"
     ]
    },
    {
     "name": "stderr",
     "output_type": "stream",
     "text": [
      "Downloading batch 77:  92%|█████████▏| 44/48 [00:00<00:00, 141.40it/s]"
     ]
    },
    {
     "name": "stdout",
     "output_type": "stream",
     "text": [
      "2025-10-07 04:11:19,880 WARNING - Connection pool is full, discarding connection: asrelder-data.s3.amazonaws.com. Connection pool size: 10\n",
      "2025-10-07 04:11:19,883 WARNING - Connection pool is full, discarding connection: asrelder-data.s3.amazonaws.com. Connection pool size: 10\n",
      "2025-10-07 04:11:19,889 WARNING - Connection pool is full, discarding connection: asrelder-data.s3.amazonaws.com. Connection pool size: 10\n"
     ]
    },
    {
     "name": "stderr",
     "output_type": "stream",
     "text": [
      "Downloading batch 77: 100%|██████████| 48/48 [00:00<00:00, 119.31it/s]"
     ]
    },
    {
     "name": "stdout",
     "output_type": "stream",
     "text": [
      "2025-10-07 04:11:19,891 INFO - Transcribing 48 files in parallel...\n"
     ]
    },
    {
     "name": "stderr",
     "output_type": "stream",
     "text": [
      "\n"
     ]
    },
    {
     "name": "stdout",
     "output_type": "stream",
     "text": [
      "2025-10-07 04:11:22,183 INFO - ✓ Worker 1: common_voice_en_18454019.mp3:  Tell me more.\n",
      "2025-10-07 04:11:22,477 INFO - ✓ Worker 5: common_voice_en_18454037.mp3:  Must you go?\n",
      "2025-10-07 04:11:23,545 INFO - ✓ Worker 9: common_voice_en_18454212.mp3:  I waived a John D. Hand.\n",
      "2025-10-07 04:11:23,587 INFO - ✓ Worker 11: common_voice_en_18454254.mp3:  I really appreciate a good noir thriller.\n",
      "2025-10-07 04:11:23,626 INFO - ✓ Worker 0: common_voice_en_18454200.mp3:  I regret not staying in touch with Roger.\n",
      "2025-10-07 04:11:23,643 INFO - ✓ Worker 8: common_voice_en_18454446.mp3:  And why do I despise him?\n",
      "2025-10-07 04:11:23,875 INFO - ✓ Worker 12: common_voice_en_18454307.mp3:  I felt that your need was greater than mine.\n",
      "2025-10-07 04:11:24,262 INFO - ✓ Worker 6: common_voice_en_18454202.mp3:  They had an illicit liaison in the gazebo.\n",
      "2025-10-07 04:11:24,339 INFO - ✓ Worker 7: common_voice_en_18454445.mp3:  The engine raced, the clutch slid into position.\n",
      "2025-10-07 04:11:24,424 INFO - ✓ Worker 14: common_voice_en_18454232.mp3:  You will sort of pave the way, as it were.\n",
      "2025-10-07 04:11:24,447 INFO - ✓ Worker 3: common_voice_en_18454399.mp3:  Happily, we are seeing a decline in knife crime.\n",
      "2025-10-07 04:11:24,500 INFO - ✓ Worker 13: common_voice_en_18454389.mp3:  I watch more Netflix now and less terrestrial television.\n",
      "2025-10-07 04:11:24,790 INFO - ✓ Worker 2: common_voice_en_18454326.mp3:  A minimum is a musical term corresponding to a half note.\n",
      "2025-10-07 04:11:24,898 INFO - ✓ Worker 1: common_voice_en_18454218.mp3:  What's your grievance?\n",
      "2025-10-07 04:11:24,930 INFO - ✓ Worker 15: common_voice_en_18454250.mp3:  That completed the weather and news built-in for the French Rivera.\n",
      "2025-10-07 04:11:25,261 INFO - ✓ Worker 10: common_voice_en_18454406.mp3:  Oh, hello, Tubby. I said, I wanted to see you.\n",
      "2025-10-07 04:11:26,463 INFO - ✓ Worker 4: common_voice_en_18454215.mp3:  They pretend to be medics, but in reality, they are simply ambulance chasers.\n",
      "2025-10-07 04:11:27,497 INFO - ✓ Worker 6: common_voice_en_18454443.mp3:  I nearly fell off my chair laughing.\n",
      "2025-10-07 04:11:27,669 INFO - ✓ Worker 11: common_voice_en_18454617.mp3:  Is it tax deductible?\n",
      "2025-10-07 04:11:27,673 INFO - ✓ Worker 10: common_voice_en_18454618.mp3:  I did not speak.\n",
      "2025-10-07 04:11:27,781 INFO - ✓ Worker 13: common_voice_en_18455330.mp3:  I'm named after my uncle.\n",
      "2025-10-07 04:11:27,807 INFO - ✓ Worker 14: common_voice_en_18454451.mp3:  Anyone know Marjorie?\n",
      "2025-10-07 04:11:27,982 INFO - ✓ Worker 5: common_voice_en_18454467.mp3:  She saw a feline shape stocking through the bushes.\n",
      "2025-10-07 04:11:28,023 INFO - ✓ Worker 7: common_voice_en_18454269.mp3:  She obtains top marks in her math exams.\n",
      "2025-10-07 04:11:28,064 INFO - ✓ Worker 2: common_voice_en_18454408.mp3:  One table spoon fork should be enough.\n",
      "2025-10-07 04:11:28,192 INFO - ✓ Worker 3: common_voice_en_18454272.mp3:  Please watch the YouTube video of my daughter's concert.\n",
      "2025-10-07 04:11:28,249 INFO - ✓ Worker 0: common_voice_en_18454265.mp3:  That's one of the more alarmist sci-fi forecasts.\n",
      "2025-10-07 04:11:28,632 INFO - ✓ Worker 15: common_voice_en_18455332.mp3:  The draft needs to be copied and edited.\n",
      "2025-10-07 04:11:28,915 INFO - ✓ Worker 4: common_voice_en_18454444.mp3:  I can hear them now.\n",
      "2025-10-07 04:11:29,126 INFO - ✓ Worker 8: common_voice_en_18454310.mp3:  So he walked to the throne room and knocked at the door.\n",
      "2025-10-07 04:11:29,145 INFO - ✓ Worker 12: common_voice_en_18455331.mp3:  Anything you like said the footman and began whistling.\n",
      "2025-10-07 04:11:30,182 INFO - ✓ Worker 9: common_voice_en_18454614.mp3:  If something seems too good to be true, you need to be skeptical.\n",
      "2025-10-07 04:11:30,930 INFO - ✓ Worker 5: common_voice_en_18455336.mp3:  Has she been messaging you?\n",
      "2025-10-07 04:11:31,223 INFO - ✓ Worker 0: common_voice_en_18455333.mp3:  Are you coming or not?\n",
      "2025-10-07 04:11:31,571 INFO - ✓ Worker 7: common_voice_en_18455829.mp3:  Dashed, silly thing to say.\n",
      "2025-10-07 04:11:31,717 INFO - ✓ Worker 4: common_voice_en_18455711.mp3:  Some cases are just too complex.\n",
      "2025-10-07 04:11:31,814 INFO - ✓ Worker 13: common_voice_en_18455848.mp3:  My daughter loves fish fingers\n",
      "2025-10-07 04:11:31,956 INFO - ✓ Worker 1: common_voice_en_18454615.mp3:  Our Mr. Havasun will call upon you at your hotel.\n",
      "2025-10-07 04:11:32,123 INFO - ✓ Worker 2: common_voice_en_18455335.mp3:  You can get reasonable at the basics in a few hours.\n",
      "2025-10-07 04:11:32,131 INFO - ✓ Worker 6: common_voice_en_18455832.mp3:  It was released to cinemas early in the new year.\n",
      "2025-10-07 04:11:32,242 INFO - ✓ Worker 8: common_voice_en_18455825.mp3:  Well, after that it's easy.\n",
      "2025-10-07 04:11:32,247 INFO - ✓ Worker 12: common_voice_en_18455807.mp3:  The horrific smell could barely be tolerated.\n",
      "2025-10-07 04:11:32,274 INFO - ✓ Worker 3: common_voice_en_18455717.mp3:  And back to Kansas, she asked eagerly.\n",
      "2025-10-07 04:11:32,289 INFO - ✓ Worker 14: common_voice_en_18455824.mp3:  So, with the bearded bloke\n",
      "2025-10-07 04:11:32,305 INFO - ✓ Worker 11: common_voice_en_18455802.mp3:  Feel towards you, as you would like me to feel.\n",
      "2025-10-07 04:11:32,328 INFO - ✓ Worker 10: common_voice_en_18455735.mp3:  We tend to be of the one minute before the voyage is completed.\n",
      "2025-10-07 04:11:32,365 INFO - ✓ Worker 9: common_voice_en_18455809.mp3:  Who is the choreography for that?\n",
      "2025-10-07 04:11:32,396 INFO - ✓ Worker 15: common_voice_en_18455720.mp3:  Pluto is now considered to be a dwarf planet.\n"
     ]
    },
    {
     "name": "stderr",
     "output_type": "stream",
     "text": [
      "Downloading batch 78:  44%|████▍     | 21/48 [00:00<00:00, 97.99it/s]"
     ]
    },
    {
     "name": "stdout",
     "output_type": "stream",
     "text": [
      "2025-10-07 04:11:33,346 WARNING - Connection pool is full, discarding connection: asrelder-data.s3.amazonaws.com. Connection pool size: 10\n",
      "2025-10-07 04:11:33,348 WARNING - Connection pool is full, discarding connection: asrelder-data.s3.amazonaws.com. Connection pool size: 10\n",
      "2025-10-07 04:11:33,348 WARNING - Connection pool is full, discarding connection: asrelder-data.s3.amazonaws.com. Connection pool size: 10\n"
     ]
    },
    {
     "name": "stderr",
     "output_type": "stream",
     "text": [
      "Downloading batch 78:  83%|████████▎ | 40/48 [00:00<00:00, 132.11it/s]"
     ]
    },
    {
     "name": "stdout",
     "output_type": "stream",
     "text": [
      "2025-10-07 04:11:33,354 WARNING - Connection pool is full, discarding connection: asrelder-data.s3.amazonaws.com. Connection pool size: 10\n",
      "2025-10-07 04:11:33,355 WARNING - Connection pool is full, discarding connection: asrelder-data.s3.amazonaws.com. Connection pool size: 10\n",
      "2025-10-07 04:11:33,358 WARNING - Connection pool is full, discarding connection: asrelder-data.s3.amazonaws.com. Connection pool size: 10\n",
      "2025-10-07 04:11:33,371 WARNING - Connection pool is full, discarding connection: asrelder-data.s3.amazonaws.com. Connection pool size: 10\n",
      "2025-10-07 04:11:33,388 WARNING - Connection pool is full, discarding connection: asrelder-data.s3.amazonaws.com. Connection pool size: 10\n",
      "2025-10-07 04:11:33,389 WARNING - Connection pool is full, discarding connection: asrelder-data.s3.amazonaws.com. Connection pool size: 10\n"
     ]
    },
    {
     "name": "stderr",
     "output_type": "stream",
     "text": [
      "Downloading batch 78: 100%|██████████| 48/48 [00:00<00:00, 119.06it/s]"
     ]
    },
    {
     "name": "stdout",
     "output_type": "stream",
     "text": [
      "2025-10-07 04:11:33,392 INFO - Transcribing 48 files in parallel...\n"
     ]
    },
    {
     "name": "stderr",
     "output_type": "stream",
     "text": [
      "\n"
     ]
    },
    {
     "name": "stdout",
     "output_type": "stream",
     "text": [
      "2025-10-07 04:11:36,101 INFO - ✓ Worker 1: common_voice_en_18455849.mp3:  Ta very much\n",
      "2025-10-07 04:11:36,522 INFO - ✓ Worker 6: common_voice_en_18456364.mp3:  She's really pushing her luck.\n",
      "2025-10-07 04:11:36,698 INFO - ✓ Worker 7: common_voice_en_184565.mp3:  To be a mighty grandee.\n",
      "2025-10-07 04:11:36,963 INFO - ✓ Worker 10: common_voice_en_18455864.mp3:  Want to stop it just this once?\n",
      "2025-10-07 04:11:37,154 INFO - ✓ Worker 14: common_voice_en_18456639.mp3:  Christy didn't like to mention it.\n",
      "2025-10-07 04:11:37,433 INFO - ✓ Worker 5: common_voice_en_18455867.mp3:  Aniseed balls are one of my favourite sweets.\n",
      "2025-10-07 04:11:37,516 INFO - ✓ Worker 11: common_voice_en_18456580.mp3:  Alec acknowledges that he is a complete nerd.\n",
      "2025-10-07 04:11:37,904 INFO - ✓ Worker 3: common_voice_en_18455889.mp3:  And you came away feeling that he needed a bracer.\n",
      "2025-10-07 04:11:38,022 INFO - ✓ Worker 15: common_voice_en_18456360.mp3:  Displaying Nazi symbols or propaganda is against the law in Germany.\n",
      "2025-10-07 04:11:38,064 INFO - ✓ Worker 4: common_voice_en_18456382.mp3:  Father Christmas is the traditional English name for the personification of Christmas.\n",
      "2025-10-07 04:11:38,093 INFO - ✓ Worker 12: common_voice_en_18457.mp3:  Two men battle it out in a boxing match with white gloves.\n",
      "2025-10-07 04:11:38,121 INFO - ✓ Worker 2: common_voice_en_18455885.mp3:  I've been timing my speech and it lasts 5 seconds.\n",
      "2025-10-07 04:11:38,135 INFO - ✓ Worker 13: common_voice_en_18456101.mp3:  He set up all night without sleep, trying to write and study.\n",
      "2025-10-07 04:11:38,229 INFO - ✓ Worker 9: common_voice_en_18455891.mp3:  Some passerby, fortunately caught him as E-Fell.\n",
      "2025-10-07 04:11:38,699 INFO - ✓ Worker 8: common_voice_en_18456619.mp3:  Well, right ho, of course, but I think you ought to have.\n",
      "2025-10-07 04:11:39,093 INFO - ✓ Worker 1: common_voice_en_18456239.mp3:  Away in a manger.\n",
      "2025-10-07 04:11:39,150 INFO - ✓ Worker 0: common_voice_en_18455906.mp3:  I can't recollect whether I've ever been up in a hot air balloon.\n",
      "2025-10-07 04:11:40,839 INFO - ✓ Worker 5: common_voice_en_18456641.mp3:  This is the driest thing I know.\n",
      "2025-10-07 04:11:40,864 INFO - ✓ Worker 3: common_voice_en_18456378.mp3:  There are several ways to subscribe.\n",
      "2025-10-07 04:11:41,134 INFO - ✓ Worker 2: common_voice_en_18456100.mp3:  17, now 18 days ago.\n",
      "2025-10-07 04:11:41,151 INFO - ✓ Worker 10: common_voice_en_18457803.mp3:  The global statistics are shocking.\n",
      "2025-10-07 04:11:41,201 INFO - ✓ Worker 6: common_voice_en_18456622.mp3:  We're all out of gin, send help.\n",
      "2025-10-07 04:11:41,238 INFO - ✓ Worker 11: common_voice_en_18457823.mp3:  He has lost his grip completely.\n",
      "2025-10-07 04:11:41,722 INFO - ✓ Worker 7: common_voice_en_18456.mp3:  Two competitors competed in a martial arts tournament.\n",
      "2025-10-07 04:11:42,055 INFO - ✓ Worker 0: common_voice_en_18456620.mp3:  Pray silence for tonight's speaker.\n",
      "2025-10-07 04:11:42,344 INFO - ✓ Worker 8: common_voice_en_18457495.mp3:  This is the road Chabasco.\n",
      "2025-10-07 04:11:42,453 INFO - ✓ Worker 14: common_voice_en_18457846.mp3:  If I may take the liberty to inquire.\n",
      "2025-10-07 04:11:42,666 INFO - ✓ Worker 9: common_voice_en_18457691.mp3:  Well, if it was good enough for Chaucer.\n",
      "2025-10-07 04:11:42,703 INFO - ✓ Worker 4: common_voice_en_18455916.mp3:  Fulper, kick the ball and jank hot it.\n",
      "2025-10-07 04:11:42,795 INFO - ✓ Worker 12: common_voice_en_18457518.mp3:  The point cocktail used to be a very popular style.\n",
      "2025-10-07 04:11:43,170 INFO - ✓ Worker 13: common_voice_en_18457672.mp3:  Somebody has to address the public policy issues, but not me.\n",
      "2025-10-07 04:11:44,002 INFO - ✓ Worker 3: common_voice_en_18457723.mp3:  Chocolate Moose, yummy!\n",
      "2025-10-07 04:11:44,044 INFO - ✓ Worker 15: common_voice_en_18459.mp3:  Group of children and some adults gathered outside Stolen Buildings.\n",
      "2025-10-07 04:11:44,195 INFO - ✓ Worker 6: common_voice_en_18459595.mp3:  According to him, no.\n",
      "2025-10-07 04:11:44,442 INFO - ✓ Worker 0: common_voice_en_18459540.mp3:  You are very welcome.\n",
      "2025-10-07 04:11:44,556 INFO - ✓ Worker 7: common_voice_en_18459688.mp3:  Who baked those muffins?\n",
      "2025-10-07 04:11:44,563 INFO - ✓ Worker 2: common_voice_en_18457776.mp3:  I'll tell you, birdie.\n",
      "2025-10-07 04:11:44,746 INFO - ✓ Worker 1: common_voice_en_18458.mp3:  A native boy and yellow, swimming from a rope.\n",
      "2025-10-07 04:11:45,214 INFO - ✓ Worker 4: common_voice_en_18459531.mp3:  Devil eggs taste horrible.\n",
      "2025-10-07 04:11:45,465 INFO - ✓ Worker 5: common_voice_en_18459529.mp3:  I said, don't talk rot, old Tom Travers.\n",
      "2025-10-07 04:11:45,485 INFO - ✓ Worker 11: common_voice_en_18459683.mp3:  I will expect a response before Wednesday.\n",
      "2025-10-07 04:11:45,536 INFO - ✓ Worker 9: common_voice_en_18459597.mp3:  Dahlia was in the drawing room.\n",
      "2025-10-07 04:11:45,554 INFO - ✓ Worker 10: common_voice_en_18459543.mp3:  Have you heard of the base rate fallacy?\n",
      "2025-10-07 04:11:45,603 INFO - ✓ Worker 13: common_voice_en_18459523.mp3:  There is only one course to pursue.\n",
      "2025-10-07 04:11:45,649 INFO - ✓ Worker 14: common_voice_en_18460216.mp3:  They were going to spend the day relaxing.\n",
      "2025-10-07 04:11:45,704 INFO - ✓ Worker 12: common_voice_en_18459682.mp3:  Madeline Bassett will be all over you.\n",
      "2025-10-07 04:11:45,740 INFO - ✓ Worker 8: common_voice_en_18459677.mp3:  Apple, Google, Amazon and Facebook are often described as tech giants.\n",
      "2025-10-07 04:11:45,766 INFO - ✓ Worker 15: common_voice_en_18459671.mp3:  I ticked him off properly, the poor fish.\n"
     ]
    },
    {
     "name": "stderr",
     "output_type": "stream",
     "text": [
      "Downloading batch 79:  40%|███▉      | 19/48 [00:00<00:00, 85.44it/s]"
     ]
    },
    {
     "name": "stdout",
     "output_type": "stream",
     "text": [
      "2025-10-07 04:11:46,681 WARNING - Connection pool is full, discarding connection: asrelder-data.s3.amazonaws.com. Connection pool size: 10\n",
      "2025-10-07 04:11:46,682 WARNING - Connection pool is full, discarding connection: asrelder-data.s3.amazonaws.com. Connection pool size: 10\n",
      "2025-10-07 04:11:46,686 WARNING - Connection pool is full, discarding connection: asrelder-data.s3.amazonaws.com. Connection pool size: 10\n",
      "2025-10-07 04:11:46,687 WARNING - Connection pool is full, discarding connection: asrelder-data.s3.amazonaws.com. Connection pool size: 10\n",
      "2025-10-07 04:11:46,687 WARNING - Connection pool is full, discarding connection: asrelder-data.s3.amazonaws.com. Connection pool size: 10\n",
      "2025-10-07 04:11:46,699 WARNING - Connection pool is full, discarding connection: asrelder-data.s3.amazonaws.com. Connection pool size: 10\n",
      "2025-10-07 04:11:46,700 WARNING - Connection pool is full, discarding connection: asrelder-data.s3.amazonaws.com. Connection pool size: 10\n",
      "2025-10-07 04:11:46,702 WARNING - Connection pool is full, discarding connection: asrelder-data.s3.amazonaws.com. Connection pool size: 10\n",
      "2025-10-07 04:11:46,716 WARNING - Connection pool is full, discarding connection: asrelder-data.s3.amazonaws.com. Connection pool size: 10\n"
     ]
    },
    {
     "name": "stderr",
     "output_type": "stream",
     "text": [
      "Downloading batch 79:  96%|█████████▌| 46/48 [00:00<00:00, 152.93it/s]"
     ]
    },
    {
     "name": "stdout",
     "output_type": "stream",
     "text": [
      "2025-10-07 04:11:46,755 WARNING - Connection pool is full, discarding connection: asrelder-data.s3.amazonaws.com. Connection pool size: 10\n",
      "2025-10-07 04:11:46,780 WARNING - Connection pool is full, discarding connection: asrelder-data.s3.amazonaws.com. Connection pool size: 10\n"
     ]
    },
    {
     "name": "stderr",
     "output_type": "stream",
     "text": [
      "Downloading batch 79: 100%|██████████| 48/48 [00:00<00:00, 110.08it/s]"
     ]
    },
    {
     "name": "stdout",
     "output_type": "stream",
     "text": [
      "2025-10-07 04:11:46,782 INFO - Transcribing 48 files in parallel...\n"
     ]
    },
    {
     "name": "stderr",
     "output_type": "stream",
     "text": [
      "\n"
     ]
    },
    {
     "name": "stdout",
     "output_type": "stream",
     "text": [
      "2025-10-07 04:11:49,340 INFO - ✓ Worker 7: common_voice_en_18460460.mp3:  You take what?\n",
      "2025-10-07 04:11:49,380 INFO - ✓ Worker 13: common_voice_en_18460454.mp3:  The same noise.\n",
      "2025-10-07 04:11:49,559 INFO - ✓ Worker 10: common_voice_en_18460449.mp3:  Nor can I imagine.\n",
      "2025-10-07 04:11:49,937 INFO - ✓ Worker 9: common_voice_en_18460453.mp3:  I have no complaints to make.\n",
      "2025-10-07 04:11:50,047 INFO - ✓ Worker 3: common_voice_en_18460233.mp3:  Those wistful eyes of hers.\n",
      "2025-10-07 04:11:50,326 INFO - ✓ Worker 15: common_voice_en_18460551.mp3:  There was the animal loser.\n",
      "2025-10-07 04:11:50,488 INFO - ✓ Worker 11: common_voice_en_18460733.mp3:  My wife sings in the local choral society.\n",
      "2025-10-07 04:11:50,515 INFO - ✓ Worker 1: common_voice_en_18460246.mp3:  In the spring, the former served his seeds.\n",
      "2025-10-07 04:11:50,612 INFO - ✓ Worker 6: common_voice_en_18460234.mp3:  White Leckhorn said Mrs. Mortimer.\n",
      "2025-10-07 04:11:50,624 INFO - ✓ Worker 2: common_voice_en_18460240.mp3:  Would you like to eat a scone?\n",
      "2025-10-07 04:11:50,688 INFO - ✓ Worker 0: common_voice_en_18460232.mp3:  I arose obediently and went down the beach.\n",
      "2025-10-07 04:11:50,779 INFO - ✓ Worker 12: common_voice_en_18460693.mp3:  I would not pass another winter here for much.\n",
      "2025-10-07 04:11:51,028 INFO - ✓ Worker 14: common_voice_en_18460718.mp3:  There seems to be a lack of organization, she said.\n",
      "2025-10-07 04:11:51,350 INFO - ✓ Worker 8: common_voice_en_18460407.mp3:  He tapped me significantly on the knee and spoke burgy.\n",
      "2025-10-07 04:11:51,781 INFO - ✓ Worker 4: common_voice_en_18460465.mp3:  Go for it, Jeeves, and scour the neighborhood.\n",
      "2025-10-07 04:11:51,791 INFO - ✓ Worker 5: common_voice_en_18460452.mp3:  I need to post this letter. Is there a postbox nearby?\n",
      "2025-10-07 04:11:53,489 INFO - ✓ Worker 3: common_voice_en_18460742.mp3:  To these he gave castor oil.\n",
      "2025-10-07 04:11:53,560 INFO - ✓ Worker 7: common_voice_en_18461669.mp3:  Writing was his only solace.\n",
      "2025-10-07 04:11:53,873 INFO - ✓ Worker 2: common_voice_en_18460716.mp3:  The delusion did not last long.\n",
      "2025-10-07 04:11:53,913 INFO - ✓ Worker 4: common_voice_en_18461744.mp3:  This helps her.\n",
      "2025-10-07 04:11:53,994 INFO - ✓ Worker 10: common_voice_en_18462746.mp3:  An official statement was released yesterday.\n",
      "2025-10-07 04:11:54,859 INFO - ✓ Worker 0: common_voice_en_18460694.mp3:  Cassette's tape recorders have long been superseded.\n",
      "2025-10-07 04:11:54,879 INFO - ✓ Worker 1: common_voice_en_18460455.mp3:  I believe we are due to meet in Committee Room 7.\n",
      "2025-10-07 04:11:55,009 INFO - ✓ Worker 11: common_voice_en_18460247.mp3:  Each improvement makes the value of everything else pump up.\n",
      "2025-10-07 04:11:55,187 INFO - ✓ Worker 5: common_voice_en_18460707.mp3:  I don't think my father would approve.\n",
      "2025-10-07 04:11:55,209 INFO - ✓ Worker 15: common_voice_en_18462267.mp3:  It really doesn't matter either way.\n",
      "2025-10-07 04:11:55,331 INFO - ✓ Worker 6: common_voice_en_18461643.mp3:  There seems to be a sentence or paragraph missing on P3.\n",
      "2025-10-07 04:11:55,742 INFO - ✓ Worker 13: common_voice_en_18461771.mp3:  Shall we watch your film at the cinema this afternoon?\n",
      "2025-10-07 04:11:55,836 INFO - ✓ Worker 8: common_voice_en_18461775.mp3:  She gives fit by jogging at least twice a week.\n",
      "2025-10-07 04:11:55,882 INFO - ✓ Worker 9: common_voice_en_18462410.mp3:  Whatever he guessed, he locked away in the taboo realm of Naomi.\n",
      "2025-10-07 04:11:56,179 INFO - ✓ Worker 12: common_voice_en_18460705.mp3:  The Celts were expert metalworkers in gold, silver, and bronze.\n",
      "2025-10-07 04:11:57,146 INFO - ✓ Worker 14: common_voice_en_18462793.mp3:  The magician pulled out his pocket and cute chieft with a flourish.\n",
      "2025-10-07 04:11:57,373 INFO - ✓ Worker 2: common_voice_en_18460446.mp3:  In a word, the fittest.\n",
      "2025-10-07 04:11:57,562 INFO - ✓ Worker 3: common_voice_en_18462788.mp3:  The moment had come for me to speak.\n",
      "2025-10-07 04:11:57,781 INFO - ✓ Worker 4: common_voice_en_18463494.mp3:  There was a long-dish pause.\n",
      "2025-10-07 04:11:57,991 INFO - ✓ Worker 1: common_voice_en_18462752.mp3:  He was convicted of illegal harassment.\n",
      "2025-10-07 04:11:58,340 INFO - ✓ Worker 7: common_voice_en_18462796.mp3:  Spellbound, I take it.\n",
      "2025-10-07 04:11:58,466 INFO - ✓ Worker 9: common_voice_en_18463986.mp3:  Who's brought the cake?\n",
      "2025-10-07 04:11:58,556 INFO - ✓ Worker 12: common_voice_en_18464887.mp3:  Shall I carry you?\n",
      "2025-10-07 04:11:58,732 INFO - ✓ Worker 8: common_voice_en_18462769.mp3:  The point doesn't arise at all.\n",
      "2025-10-07 04:11:58,928 INFO - ✓ Worker 10: common_voice_en_18464992.mp3:  Next, we need to drill down to the detail.\n",
      "2025-10-07 04:11:58,929 INFO - ✓ Worker 5: common_voice_en_18462750.mp3:  You must be at least 150 cm to ride the bike.\n",
      "2025-10-07 04:11:58,934 INFO - ✓ Worker 6: common_voice_en_18462794.mp3:  In these circumstances, conversation inevitably fluctuates a bit.\n",
      "2025-10-07 04:11:59,007 INFO - ✓ Worker 13: common_voice_en_18464993.mp3:  It's not a thing you can do twice.\n",
      "2025-10-07 04:11:59,083 INFO - ✓ Worker 15: common_voice_en_18464989.mp3:  It's a silly little story.\n",
      "2025-10-07 04:11:59,087 INFO - ✓ Worker 14: common_voice_en_18464864.mp3:  A message delivered with great skill.\n",
      "2025-10-07 04:11:59,098 INFO - ✓ Worker 0: common_voice_en_18461745.mp3:  My name-regular retreats for self-to-shampoo and set.\n",
      "2025-10-07 04:11:59,105 INFO - ✓ Worker 11: common_voice_en_18464886.mp3:  The home secretary is bravely refusing to answer any questions.\n"
     ]
    },
    {
     "name": "stderr",
     "output_type": "stream",
     "text": [
      "Downloading batch 80:  40%|███▉      | 19/48 [00:00<00:00, 96.44it/s]"
     ]
    },
    {
     "name": "stdout",
     "output_type": "stream",
     "text": [
      "2025-10-07 04:11:59,994 WARNING - Connection pool is full, discarding connection: asrelder-data.s3.amazonaws.com. Connection pool size: 10\n",
      "2025-10-07 04:11:59,995 WARNING - Connection pool is full, discarding connection: asrelder-data.s3.amazonaws.com. Connection pool size: 10\n",
      "2025-10-07 04:12:00,003 WARNING - Connection pool is full, discarding connection: asrelder-data.s3.amazonaws.com. Connection pool size: 10\n",
      "2025-10-07 04:12:00,006 WARNING - Connection pool is full, discarding connection: asrelder-data.s3.amazonaws.com. Connection pool size: 10\n",
      "2025-10-07 04:12:00,006 WARNING - Connection pool is full, discarding connection: asrelder-data.s3.amazonaws.com. Connection pool size: 10\n"
     ]
    },
    {
     "name": "stderr",
     "output_type": "stream",
     "text": [
      "Downloading batch 80:  79%|███████▉  | 38/48 [00:00<00:00, 135.86it/s]"
     ]
    },
    {
     "name": "stdout",
     "output_type": "stream",
     "text": [
      "2025-10-07 04:12:00,075 WARNING - Connection pool is full, discarding connection: asrelder-data.s3.amazonaws.com. Connection pool size: 10\n",
      "2025-10-07 04:12:00,076 WARNING - Connection pool is full, discarding connection: asrelder-data.s3.amazonaws.com. Connection pool size: 10\n",
      "2025-10-07 04:12:00,094 WARNING - Connection pool is full, discarding connection: asrelder-data.s3.amazonaws.com. Connection pool size: 10\n",
      "2025-10-07 04:12:00,095 WARNING - Connection pool is full, discarding connection: asrelder-data.s3.amazonaws.com. Connection pool size: 10\n",
      "2025-10-07 04:12:00,098 WARNING - Connection pool is full, discarding connection: asrelder-data.s3.amazonaws.com. Connection pool size: 10\n"
     ]
    },
    {
     "name": "stderr",
     "output_type": "stream",
     "text": [
      "Downloading batch 80: 100%|██████████| 48/48 [00:00<00:00, 127.99it/s]"
     ]
    },
    {
     "name": "stdout",
     "output_type": "stream",
     "text": [
      "2025-10-07 04:12:00,100 INFO - Transcribing 48 files in parallel...\n"
     ]
    },
    {
     "name": "stderr",
     "output_type": "stream",
     "text": [
      "\n"
     ]
    },
    {
     "name": "stdout",
     "output_type": "stream",
     "text": [
      "2025-10-07 04:12:03,135 INFO - ✓ Worker 6: common_voice_en_18465459.mp3:  Here is in critical condition.\n",
      "2025-10-07 04:12:03,386 INFO - ✓ Worker 11: common_voice_en_18466081.mp3:  and the air was growing chilly.\n",
      "2025-10-07 04:12:03,627 INFO - ✓ Worker 3: common_voice_en_18466092.mp3:  He made a weary jester.\n",
      "2025-10-07 04:12:03,726 INFO - ✓ Worker 15: common_voice_en_18467067.mp3:  Yes, lovely, isn't it?\n",
      "2025-10-07 04:12:03,924 INFO - ✓ Worker 14: common_voice_en_18466099.mp3:  Their prized collection of ornaments was stolen.\n",
      "2025-10-07 04:12:04,214 INFO - ✓ Worker 4: common_voice_en_18465528.mp3:  The air in the hut was close and oppressive.\n",
      "2025-10-07 04:12:04,441 INFO - ✓ Worker 9: common_voice_en_18466083.mp3:  There's nothing for bringing you from learning to play guitar.\n",
      "2025-10-07 04:12:04,446 INFO - ✓ Worker 2: common_voice_en_18466098.mp3:  A club acquaintance and a mere one at that.\n",
      "2025-10-07 04:12:04,547 INFO - ✓ Worker 13: common_voice_en_18465340.mp3:  Ask if she needs a sticking plaster for that grays.\n",
      "2025-10-07 04:12:04,878 INFO - ✓ Worker 8: common_voice_en_18465001.mp3:  I'm so tired. I can't be bothered to move.\n",
      "2025-10-07 04:12:05,151 INFO - ✓ Worker 12: common_voice_en_18465153.mp3:  Discretion is the better part of valor, or so they say.\n",
      "2025-10-07 04:12:05,241 INFO - ✓ Worker 1: common_voice_en_18465352.mp3:  Once I've retired, I'm planning to reconquer Jerusalem.\n",
      "2025-10-07 04:12:05,298 INFO - ✓ Worker 7: common_voice_en_18467284.mp3:  Who else is out there every day protecting seagulls?\n",
      "2025-10-07 04:12:05,739 INFO - ✓ Worker 10: common_voice_en_18465532.mp3:  She wears woolen clothes or natural fibers such as silk, cotton or linen.\n",
      "2025-10-07 04:12:06,231 INFO - ✓ Worker 0: common_voice_en_18465202.mp3:  It's really dreadful. She muttered to herself the way all the creatures argue.\n",
      "2025-10-07 04:12:06,435 INFO - ✓ Worker 5: common_voice_en_18465601.mp3:  Well, Jeeves, I said, it was certainly one of those afternoons.\n",
      "2025-10-07 04:12:06,676 INFO - ✓ Worker 4: common_voice_en_18466096.mp3:  Catch as catch can.\n",
      "2025-10-07 04:12:07,643 INFO - ✓ Worker 3: common_voice_en_18466091.mp3:  Bring the torch over here, we need more light.\n",
      "2025-10-07 04:12:08,022 INFO - ✓ Worker 13: common_voice_en_18466097.mp3:  Not a thing.\n",
      "2025-10-07 04:12:08,287 INFO - ✓ Worker 9: common_voice_en_18467339.mp3:  The bacterium was isolated from household waste.\n",
      "2025-10-07 04:12:08,515 INFO - ✓ Worker 1: common_voice_en_18466095.mp3:  The actor rose to international acclaim.\n",
      "2025-10-07 04:12:08,554 INFO - ✓ Worker 7: common_voice_en_18467320.mp3:  How to make an edible fruit bouquet.\n",
      "2025-10-07 04:12:08,634 INFO - ✓ Worker 11: common_voice_en_18467309.mp3:  She tried to participate, but nobody listened.\n",
      "2025-10-07 04:12:08,770 INFO - ✓ Worker 6: common_voice_en_18467004.mp3:  The duodenum is part of the small intestine.\n",
      "2025-10-07 04:12:08,919 INFO - ✓ Worker 10: common_voice_en_18467367.mp3:  They found themselves in a dire situation.\n",
      "2025-10-07 04:12:09,176 INFO - ✓ Worker 14: common_voice_en_18467382.mp3:  You can tickle my ankles.\n",
      "2025-10-07 04:12:09,270 INFO - ✓ Worker 2: common_voice_en_18467288.mp3:  This aunt, I perceived, must fall into line with my other clients.\n",
      "2025-10-07 04:12:09,277 INFO - ✓ Worker 8: common_voice_en_18467319.mp3:  I hope they'll remember saucer milk at tea time.\n",
      "2025-10-07 04:12:09,664 INFO - ✓ Worker 0: common_voice_en_18465328.mp3:  That's a classic medieval conundrum.\n",
      "2025-10-07 04:12:09,809 INFO - ✓ Worker 12: common_voice_en_18467368.mp3:  I was trying to think who you reminded me of.\n",
      "2025-10-07 04:12:10,195 INFO - ✓ Worker 5: common_voice_en_18465994.mp3:  Is there no compensation for miscarriages of justice?\n",
      "2025-10-07 04:12:10,463 INFO - ✓ Worker 15: common_voice_en_18466093.mp3:  Mother says he's a good chap, which is simply absurd.\n",
      "2025-10-07 04:12:11,140 INFO - ✓ Worker 1: common_voice_en_18467346.mp3:  That's hardly necessary.\n",
      "2025-10-07 04:12:12,279 INFO - ✓ Worker 3: common_voice_en_18467700.mp3:  Jeeves does that when I assert my authority.\n",
      "2025-10-07 04:12:12,591 INFO - ✓ Worker 11: common_voice_en_18467761.mp3:  But you are missing an intellectual treat.\n",
      "2025-10-07 04:12:12,940 INFO - ✓ Worker 7: common_voice_en_18467729.mp3:  Listen for the modulation to the tonic in bar 3.\n",
      "2025-10-07 04:12:13,282 INFO - ✓ Worker 4: common_voice_en_18467450.mp3:  Most of the postings on social media are disappointingly shallow.\n",
      "2025-10-07 04:12:13,303 INFO - ✓ Worker 6: common_voice_en_18467702.mp3:  I'm sure going along with you all, Elijah.\n",
      "2025-10-07 04:12:13,425 INFO - ✓ Worker 2: common_voice_en_18467417.mp3:  Have two kids and four bears in bed with me.\n",
      "2025-10-07 04:12:13,472 INFO - ✓ Worker 10: common_voice_en_18467732.mp3:  When the snow came, they all went out slidging.\n",
      "2025-10-07 04:12:13,544 INFO - ✓ Worker 0: common_voice_en_18467297.mp3:  He tried to help with the ravages caused by flooding.\n",
      "2025-10-07 04:12:13,584 INFO - ✓ Worker 8: common_voice_en_18467738.mp3:  You heard me mention sausages, kidneys, and bacon and ham.\n",
      "2025-10-07 04:12:13,610 INFO - ✓ Worker 9: common_voice_en_18467746.mp3:  He went down in midstream, searching the shadows of both shores.\n",
      "2025-10-07 04:12:13,676 INFO - ✓ Worker 13: common_voice_en_18467429.mp3:  Because I mean to say there was no possibility of error.\n",
      "2025-10-07 04:12:13,708 INFO - ✓ Worker 15: common_voice_en_18467685.mp3:  She liked her bra and pants to be white.\n",
      "2025-10-07 04:12:13,729 INFO - ✓ Worker 12: common_voice_en_18467777.mp3:  The little hellhounds are sure to expect a story or two.\n",
      "2025-10-07 04:12:13,756 INFO - ✓ Worker 5: common_voice_en_18467420.mp3:  She relied on her cleaner to keep the place free of dust.\n",
      "2025-10-07 04:12:13,763 INFO - ✓ Worker 14: common_voice_en_18467747.mp3:  Charles Darwin's most famous work is on the origin of species.\n",
      "2025-10-07 04:12:13,771 INFO - Interrupted by user\n",
      "Pipeline failed with code: 130\n"
     ]
    }
   ],
   "source": [
    "# ======================================== Run main loop ========================================\n",
    "def main():\n",
    "    try:\n",
    "        config = Config()\n",
    "        pipeline = ProductionPipeline(config)\n",
    "        pipeline.run()\n",
    "        return 0\n",
    "    except KeyboardInterrupt:\n",
    "        logger.info(\"Interrupted by user\")\n",
    "        return 130\n",
    "    except Exception as e:\n",
    "        logger.error(f\"Pipeline failed: {e}\")\n",
    "        logger.error(traceback.format_exc())\n",
    "        return 1\n",
    "\n",
    "\n",
    "if __name__ == \"__main__\":\n",
    "    result = main()\n",
    "    if result == 0:\n",
    "        print(\"Pipeline completed successfully!\")\n",
    "    else:\n",
    "        print(f\"Pipeline failed with code: {result}\")"
   ]
  }
 ],
 "metadata": {
  "colab": {
   "provenance": []
  },
  "kernelspec": {
   "display_name": "Python 3 (ipykernel)",
   "language": "python",
   "name": "python3"
  },
  "language_info": {
   "codemirror_mode": {
    "name": "ipython",
    "version": 3
   },
   "file_extension": ".py",
   "mimetype": "text/x-python",
   "name": "python",
   "nbconvert_exporter": "python",
   "pygments_lexer": "ipython3",
   "version": "3.12.9"
  }
 },
 "nbformat": 4,
 "nbformat_minor": 4
}
