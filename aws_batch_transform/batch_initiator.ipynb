{
  "cells": [
    {
      "cell_type": "code",
      "execution_count": null,
      "id": "de478ce8-a585-4cdd-a39a-05499332d314",
      "metadata": {
        "execution": {
          "iopub.execute_input": "2025-10-08T21:22:05.650218Z",
          "iopub.status.busy": "2025-10-08T21:22:05.649940Z",
          "iopub.status.idle": "2025-10-08T21:22:07.372925Z",
          "shell.execute_reply": "2025-10-08T21:22:07.371936Z",
          "shell.execute_reply.started": "2025-10-08T21:22:05.650197Z"
        },
        "id": "de478ce8-a585-4cdd-a39a-05499332d314"
      },
      "outputs": [],
      "source": [
        "!pip install --upgrade --quiet sagemaker jsonlines"
      ]
    },
    {
      "cell_type": "code",
      "execution_count": null,
      "id": "647ce642-1577-4bf1-8153-1eb69adb6887",
      "metadata": {
        "execution": {
          "iopub.execute_input": "2025-10-08T21:22:07.374311Z",
          "iopub.status.busy": "2025-10-08T21:22:07.374059Z",
          "iopub.status.idle": "2025-10-08T21:22:07.512756Z",
          "shell.execute_reply": "2025-10-08T21:22:07.512172Z",
          "shell.execute_reply.started": "2025-10-08T21:22:07.374288Z"
        },
        "id": "647ce642-1577-4bf1-8153-1eb69adb6887"
      },
      "outputs": [],
      "source": [
        "import boto3\n",
        "import os, json, pandas as pd\n",
        "import csv\n",
        "from sagemaker.s3 import S3Uploader, S3Downloader, s3_path_join\n",
        "import boto3\n",
        "import time, sagemaker\n",
        "from sagemaker.huggingface.model import HuggingFaceModel\n",
        "sess = sagemaker.Session()\n",
        "sagemaker_session_bucket= \"asrelder-data\"\n",
        "if sagemaker_session_bucket is None and sess is not None:\n",
        "    sagemaker_session_bucket = sess.default_bucket()\n",
        "\n",
        "try:\n",
        "    role = sagemaker.get_execution_role()\n",
        "except ValueError:\n",
        "    iam = boto3.client('iam')\n",
        "    role = iam.get_role(RoleName='sagemaker_execution_role')['Role']['Arn']\n",
        "\n",
        "sess = sagemaker.Session(default_bucket=sagemaker_session_bucket)\n",
        "\n",
        "print(f\"sagemaker role arn: {role}\")\n",
        "print(f\"sagemaker bucket: {sess.default_bucket()}\")\n",
        "print(f\"sagemaker session region: {sess.boto_region_name}\")"
      ]
    },
    {
      "cell_type": "code",
      "execution_count": null,
      "id": "a6fd2d18-1324-4618-87bc-c41fd518f0c8",
      "metadata": {
        "execution": {
          "iopub.execute_input": "2025-10-08T21:35:49.450210Z",
          "iopub.status.busy": "2025-10-08T21:35:49.449932Z",
          "iopub.status.idle": "2025-10-08T21:35:49.679428Z",
          "shell.execute_reply": "2025-10-08T21:35:49.678801Z",
          "shell.execute_reply.started": "2025-10-08T21:35:49.450189Z"
        },
        "id": "a6fd2d18-1324-4618-87bc-c41fd518f0c8"
      },
      "outputs": [],
      "source": [
        "audio_files_s3_path = \"s3://asrelder-data/common_voice/23/cv-corpus-23.0-2025-09-05/en/clips/\"\n",
        "bucket_name = audio_files_s3_path.replace(\"s3://\", \"\").split(\"/\")[0]\n",
        "prefix = \"/\".join(audio_files_s3_path.replace(\"s3://\", \"\").split(\"/\")[1:])\n",
        "input_s3_path = s3_path_join(\"s3://\", sagemaker_session_bucket, \"whisper_batch/input\")\n",
        "output_s3_path = s3_path_join(\"s3://\", sagemaker_session_bucket, \"whisper_batch/output\")\n",
        "s3_client = boto3.client('s3')\n",
        "print(audio_files_s3_path)\n",
        "print(bucket_name)\n",
        "print(prefix)\n",
        "print(f\"Listing audio files from {audio_files_s3_path}...\")\n",
        "response = s3_client.list_objects_v2(Bucket=bucket_name, Prefix=prefix)"
      ]
    },
    {
      "cell_type": "code",
      "execution_count": null,
      "id": "9f85f17e-6fde-4cdd-a086-dcc6f0fe7f2e",
      "metadata": {
        "execution": {
          "iopub.execute_input": "2025-10-08T20:23:30.566913Z",
          "iopub.status.busy": "2025-10-08T20:23:30.566666Z",
          "iopub.status.idle": "2025-10-08T20:23:35.768389Z",
          "shell.execute_reply": "2025-10-08T20:23:35.767753Z",
          "shell.execute_reply.started": "2025-10-08T20:23:30.566892Z"
        },
        "id": "9f85f17e-6fde-4cdd-a086-dcc6f0fe7f2e"
      },
      "outputs": [],
      "source": [
        "# Load validation CSV\n",
        "validation_df = pd.read_csv(\"common_voices_23_train_with_validated_votes.csv\")\n",
        "print(f\"Validation CSV has {len(validation_df)} entries\")\n",
        "\n",
        "# Extract filenames from the 'path' column and create a set for fast lookup\n",
        "valid_filenames = set(validation_df['path'].values)\n",
        "print(f\"Found {len(valid_filenames)} unique filenames in validation CSV\")\n",
        "\n",
        "# Filter audio_files to only include validated files\n",
        "filtered_audio_files = []\n",
        "for audio in tqdm(audio_files, desc=\"Filtering files\"):\n",
        "    if audio['filename'] in valid_filenames:\n",
        "        filtered_audio_files.append(audio)\n",
        "\n",
        "print(f\"\\nFiltered: {len(filtered_audio_files)} files matched (out of {len(audio_files)} total)\")\n",
        "\n",
        "# Replace audio_files with filtered version\n",
        "audio_files = filtered_audio_files"
      ]
    },
    {
      "cell_type": "code",
      "execution_count": null,
      "id": "202ed1f3-6e2f-4bc4-980d-e671c6502cd8",
      "metadata": {
        "execution": {
          "iopub.execute_input": "2025-10-08T22:37:12.501507Z",
          "iopub.status.busy": "2025-10-08T22:37:12.501232Z",
          "iopub.status.idle": "2025-10-08T22:37:17.490071Z",
          "shell.execute_reply": "2025-10-08T22:37:17.489491Z",
          "shell.execute_reply.started": "2025-10-08T22:37:12.501486Z"
        },
        "id": "202ed1f3-6e2f-4bc4-980d-e671c6502cd8"
      },
      "outputs": [],
      "source": [
        "CLIPS_PREFIX = \"s3://asrelder-data/common_voice/23/cv-corpus-23.0-2025-09-05/en/clips/\"\n",
        "df = pd.read_csv(\"common_voices_23_train_with_validated_votes.csv\", usecols=[\"path\"])\n",
        "\n",
        "# ensure basename (if CSV already includes 'clips/...' this still works)\n",
        "names = df[\"path\"].astype(str).apply(lambda p: os.path.basename(p.strip()))\n",
        "\n",
        "manifest_path = \"validated_manifest.jsonl\"\n",
        "with open(manifest_path, \"w\") as f:\n",
        "    for n in names:\n",
        "        f.write(json.dumps({\"source-ref\": CLIPS_PREFIX + n}) + \"\\n\")\n",
        "\n",
        "manifest_s3_uri = S3Uploader.upload(manifest_path, \"s3://asrelder-data/whisper_batch/input/\")\n",
        "print(\"Manifest:\", manifest_s3_uri, \"Lines:\", len(names))"
      ]
    },
    {
      "cell_type": "code",
      "execution_count": null,
      "id": "02f147f2-faa0-4978-8053-dd22b4092459",
      "metadata": {
        "execution": {
          "iopub.execute_input": "2025-10-08T22:12:30.521004Z",
          "iopub.status.busy": "2025-10-08T22:12:30.520739Z",
          "iopub.status.idle": "2025-10-08T22:12:32.272444Z",
          "shell.execute_reply": "2025-10-08T22:12:32.271857Z",
          "shell.execute_reply.started": "2025-10-08T22:12:30.520982Z"
        },
        "id": "02f147f2-faa0-4978-8053-dd22b4092459"
      },
      "outputs": [],
      "source": [
        "sess = sagemaker.Session()\n",
        "role = sagemaker.get_execution_role()\n",
        "\n",
        "env = {\n",
        "    \"HF_MODEL_ID\": \"openai/whisper-base\",\n",
        "    \"HF_TASK\": \"automatic-speech-recognition\",\n",
        "    \"SAGEMAKER_PROGRAM\": \"inference.py\",  # <- critical\n",
        "}\n",
        "\n",
        "model_name = f\"whisper-asr-{int(time.time())}\"\n",
        "\n",
        "hf_model = HuggingFaceModel(\n",
        "    env=env,\n",
        "    role=role,\n",
        "    transformers_version=\"4.26\",\n",
        "    pytorch_version=\"1.13\",\n",
        "    py_version=\"py39\",\n",
        "    source_dir=\"Untitled/code\",\n",
        "    entry_point=\"inference.py\",\n",
        "    name=model_name,\n",
        ")\n",
        "\n",
        "# Create a new transformer from this model\n",
        "output_s3_path = \"s3://asrelder-data/whisper_batch/output\"\n",
        "batch = hf_model.transformer(\n",
        "    instance_count=4,\n",
        "    instance_type=\"ml.g4dn.xlarge\",\n",
        "    output_path=output_s3_path,\n",
        "    strategy=\"SingleRecord\",\n",
        "    accept=\"application/json\",\n",
        "    #assemble_with=\"Line\",\n",
        "    max_payload=50,\n",
        "    max_concurrent_transforms=1\n",
        ")\n",
        "print(\"Using model:\", model_name)"
      ]
    },
    {
      "cell_type": "code",
      "execution_count": null,
      "id": "43c348fb-210d-4e66-b629-4318216d56f2",
      "metadata": {
        "execution": {
          "iopub.execute_input": "2025-10-08T23:46:06.738752Z",
          "iopub.status.busy": "2025-10-08T23:46:06.738488Z",
          "iopub.status.idle": "2025-10-08T23:54:48.682180Z",
          "shell.execute_reply": "2025-10-08T23:54:48.681549Z",
          "shell.execute_reply.started": "2025-10-08T23:46:06.738731Z"
        },
        "id": "43c348fb-210d-4e66-b629-4318216d56f2"
      },
      "outputs": [],
      "source": [
        "# 1) Build the manifest (prefix + relative filenames)\n",
        "prefix = \"s3://asrelder-data/common_voice/23/cv-corpus-23.0-2025-09-05/en/clips/\"\n",
        "bucket = \"asrelder-data\"\n",
        "key_prefix = \"common_voice/23/cv-corpus-23.0-2025-09-05/en/clips/\"\n",
        "\n",
        "# list all .mp3 under the prefix (paginate-safe)\n",
        "files = []\n",
        "kwargs = dict(Bucket=bucket, Prefix=key_prefix)\n",
        "while True:\n",
        "    resp = s3.list_objects_v2(**kwargs)\n",
        "    for obj in resp.get(\"Contents\", []):\n",
        "        if obj[\"Key\"].endswith(\".mp3\"):\n",
        "            files.append(obj[\"Key\"].replace(key_prefix, \"\"))\n",
        "    if resp.get(\"IsTruncated\"):\n",
        "        kwargs[\"ContinuationToken\"] = resp[\"NextContinuationToken\"]\n",
        "    else:\n",
        "        break\n",
        "\n",
        "manifest = [{\"prefix\": prefix}]\n",
        "manifest.extend(files)\n",
        "\n",
        "# write a one-line JSON array (as AWS examples do)\n",
        "local_manifest = \"manifest.json\"\n",
        "with jsonlines.open(local_manifest, mode=\"w\") as w:\n",
        "    w.write(manifest)"
      ]
    },
    {
      "cell_type": "code",
      "execution_count": null,
      "id": "bca2bedd-fe70-41fc-a2aa-82325148d5d9",
      "metadata": {
        "execution": {
          "iopub.execute_input": "2025-10-09T00:06:42.673465Z",
          "iopub.status.busy": "2025-10-09T00:06:42.673215Z",
          "iopub.status.idle": "2025-10-09T00:06:43.512034Z",
          "shell.execute_reply": "2025-10-09T00:06:43.511456Z",
          "shell.execute_reply.started": "2025-10-09T00:06:42.673445Z"
        },
        "id": "bca2bedd-fe70-41fc-a2aa-82325148d5d9"
      },
      "outputs": [],
      "source": [
        "manifest_s3 = sess.upload_data(local_manifest, bucket=bucket, key_prefix=\"whisper_batch/input\")\n",
        "print(\"Manifest at:\", manifest_s3)"
      ]
    },
    {
      "cell_type": "code",
      "execution_count": null,
      "id": "5a35a624-2e35-48f4-b203-ea25e3176f7c",
      "metadata": {
        "execution": {
          "iopub.execute_input": "2025-10-09T00:08:21.249204Z",
          "iopub.status.busy": "2025-10-09T00:08:21.248956Z"
        },
        "id": "5a35a624-2e35-48f4-b203-ea25e3176f7c"
      },
      "outputs": [],
      "source": [
        "# single_mp3 = \"s3://asrelder-data/common_voice/23/cv-corpus-23.0-2025-09-05/en/clips/common_voice_en_100038.mp3\"\n",
        "# batch.transform(\n",
        "#     data=single_mp3,\n",
        "#     data_type=\"S3Prefix\",\n",
        "#     content_type=\"audio/mpeg\",\n",
        "#     split_type=\"None\" )\n",
        "# batch.wait()\n",
        "\n",
        "\n",
        "# batch.transform(\n",
        "#     data=manifest_s3_uri,\n",
        "#     data_type=\"ManifestFile\",\n",
        "#     content_type=\"audio/mpeg\",\n",
        "#     split_type=\"None\"\n",
        "# )\n",
        "\n",
        "batch.transform(\n",
        "    data=manifest_s3,\n",
        "    data_type=\"ManifestFile\",           # IMPORTANT\n",
        "    content_type=\"audio/mpeg\",          # type of the  objects\n",
        "    split_type=\"None\"\n",
        ")\n",
        "batch.wait()\n",
        "print(\"Output at:\", output_s3_path)"
      ]
    }
  ],
  "metadata": {
    "kernelspec": {
      "display_name": "Python 3 (ipykernel)",
      "language": "python",
      "name": "python3"
    },
    "language_info": {
      "codemirror_mode": {
        "name": "ipython",
        "version": 3
      },
      "file_extension": ".py",
      "mimetype": "text/x-python",
      "name": "python",
      "nbconvert_exporter": "python",
      "pygments_lexer": "ipython3",
      "version": "3.12.9"
    },
    "colab": {
      "provenance": []
    }
  },
  "nbformat": 4,
  "nbformat_minor": 5
}