{
  "cells": [
    {
      "cell_type": "markdown",
      "id": "01f71b81-8fb3-4765-b7bf-a62ee8fc80c3",
      "metadata": {
        "id": "01f71b81-8fb3-4765-b7bf-a62ee8fc80c3"
      },
      "source": [
        "## Extract Pauses\n",
        "- V1 on 9/27/2025 11am ET"
      ]
    },
    {
      "cell_type": "code",
      "source": [
        "# Install ffmpeg, pydub, boto3\n",
        "!pip install ffmpeg-python imageio[ffmpeg]\n",
        "!pip install pydub\n",
        "!pip install boto3"
      ],
      "metadata": {
        "id": "uD3lOoZSm_b0"
      },
      "id": "uD3lOoZSm_b0",
      "execution_count": null,
      "outputs": []
    },
    {
      "cell_type": "code",
      "execution_count": null,
      "id": "246b3c4b-aa8a-4503-b0ef-a2b24978f171",
      "metadata": {
        "execution": {
          "iopub.execute_input": "2025-09-27T13:25:01.600236Z",
          "iopub.status.busy": "2025-09-27T13:25:01.599944Z",
          "iopub.status.idle": "2025-09-27T13:25:02.173875Z",
          "shell.execute_reply": "2025-09-27T13:25:02.172984Z",
          "shell.execute_reply.started": "2025-09-27T13:25:01.600213Z"
        },
        "id": "246b3c4b-aa8a-4503-b0ef-a2b24978f171"
      },
      "outputs": [],
      "source": [
        "import boto3\n",
        "from google.colab import userdata\n",
        "import io\n",
        "import imageio_ffmpeg\n",
        "from IPython.display import Audio\n",
        "import matplotlib.pyplot as plt\n",
        "import numpy as np\n",
        "import os\n",
        "import pandas as pd\n",
        "from pydub import AudioSegment\n",
        "from pydub.silence import detect_silence"
      ]
    },
    {
      "cell_type": "code",
      "source": [
        "# S3 base path\n",
        "audio_path = \"s3://asrelder-data/common_voice/clips/\""
      ],
      "metadata": {
        "id": "TMybPtk0nR2D"
      },
      "id": "TMybPtk0nR2D",
      "execution_count": null,
      "outputs": []
    },
    {
      "cell_type": "code",
      "source": [
        "# Establish session with credentials\n",
        "bucket = \"asrelder-data\"\n",
        "session = boto3.Session(\n",
        "    aws_access_key_id=userdata.get(\"AWS_ACCESS\"),\n",
        "    aws_secret_access_key=userdata.get(\"AWS_SECRET\"),\n",
        "    region_name=\"us-east-1\"\n",
        ")\n",
        "s3 = session.client(\"s3\")"
      ],
      "metadata": {
        "id": "4phZrtEHnoxt"
      },
      "id": "4phZrtEHnoxt",
      "execution_count": null,
      "outputs": []
    },
    {
      "cell_type": "code",
      "source": [
        "# Make sure that pydub is pointing at the ffmpeg we downloaded\n",
        "AudioSegment.converter = imageio_ffmpeg.get_ffmpeg_exe()\n",
        "AudioSegment.ffmpeg = AudioSegment.converter\n",
        "AudioSegment.ffprobe = AudioSegment.converter"
      ],
      "metadata": {
        "id": "hjDg6fS8o3Rn"
      },
      "id": "hjDg6fS8o3Rn",
      "execution_count": null,
      "outputs": []
    },
    {
      "cell_type": "markdown",
      "id": "20ff8d49-0ecc-4f91-9688-1f273cc02e97",
      "metadata": {
        "execution": {
          "iopub.execute_input": "2025-09-18T03:03:46.183637Z",
          "iopub.status.busy": "2025-09-18T03:03:46.183266Z",
          "iopub.status.idle": "2025-09-18T03:03:46.187499Z",
          "shell.execute_reply": "2025-09-18T03:03:46.186250Z",
          "shell.execute_reply.started": "2025-09-18T03:03:46.183614Z"
        },
        "id": "20ff8d49-0ecc-4f91-9688-1f273cc02e97"
      },
      "source": [
        "#### Download 'common_voices_sample1.csv' from Capstone Drive"
      ]
    },
    {
      "cell_type": "code",
      "execution_count": null,
      "id": "40ad6272-688c-4cd2-b855-0272c2bc2d19",
      "metadata": {
        "execution": {
          "iopub.execute_input": "2025-09-27T13:25:03.630952Z",
          "iopub.status.busy": "2025-09-27T13:25:03.630693Z",
          "iopub.status.idle": "2025-09-27T13:25:09.735637Z",
          "shell.execute_reply": "2025-09-27T13:25:09.734825Z",
          "shell.execute_reply.started": "2025-09-27T13:25:03.630932Z"
        },
        "id": "40ad6272-688c-4cd2-b855-0272c2bc2d19"
      },
      "outputs": [],
      "source": [
        "# Download common_voices_sample1.csv\n",
        "file_id = \"1RwWlFOMBBOmimmLRLj-4cr43pgEn_vGj\"\n",
        "download_url = f\"https://drive.google.com/uc?id={file_id}\"\n",
        "!gdown {download_url} -O sample.csv"
      ]
    },
    {
      "cell_type": "code",
      "execution_count": null,
      "id": "52fce3be-c9b8-46ed-acf5-6348564bc20c",
      "metadata": {
        "execution": {
          "iopub.execute_input": "2025-09-27T13:25:09.737230Z",
          "iopub.status.busy": "2025-09-27T13:25:09.736989Z",
          "iopub.status.idle": "2025-09-27T13:25:16.338491Z",
          "shell.execute_reply": "2025-09-27T13:25:16.337454Z",
          "shell.execute_reply.started": "2025-09-27T13:25:09.737205Z"
        },
        "id": "52fce3be-c9b8-46ed-acf5-6348564bc20c"
      },
      "outputs": [],
      "source": [
        "# Sample DataFrame\n",
        "sample_df = pd.read_csv(\"sample.csv\")\n",
        "print(f\"sample_df.shape: {sample_df.shape}\")\n",
        "sample_df.head(2)"
      ]
    },
    {
      "cell_type": "code",
      "execution_count": null,
      "id": "32f1ab1a-9818-4b20-b727-4198ec8ec7af",
      "metadata": {
        "id": "32f1ab1a-9818-4b20-b727-4198ec8ec7af"
      },
      "outputs": [],
      "source": [
        "# Test boto3 fetch on one file\n",
        "prefix = \"common_voice/clips/\"\n",
        "filename = \"common_voice_en_20131778.mp3\"\n",
        "obj = s3.get_object(Bucket=bucket, Key=prefix+filename)\n",
        "audio_bytes = io.BytesIO(obj[\"Body\"].read())\n",
        "print(f\"Loaded {filename} into memory: {len(audio_bytes.getvalue())} bytes\")\n",
        "\n",
        "# Length of clip in seconds (seek 0 rewind to start)\n",
        "audio_bytes.seek(0)\n",
        "clip = AudioSegment.from_file(audio_bytes, format=\"mp3\")\n",
        "print(f\"Duration in seconds: {clip.duration_seconds}\")\n",
        "\n",
        "# Play the audio\n",
        "audio_bytes.seek(0)\n",
        "Audio(audio_bytes.read(), rate=16000)"
      ]
    },
    {
      "cell_type": "code",
      "source": [
        "def resolve_s3_key(fname: str, bucket: str, prefix: str) -> str | None:\n",
        "    \"\"\"\n",
        "    Given a base filename, check for valid extensions in S3.\n",
        "    Returns the full key if it exists, otherwise None.\n",
        "    \"\"\"\n",
        "    base, ext = os.path.splitext(fname.strip())\n",
        "\n",
        "    # If an extension is already provided, try it directly\n",
        "    if ext:\n",
        "        key = prefix + fname.strip()\n",
        "        try:\n",
        "            s3.head_object(Bucket=bucket, Key=key)\n",
        "            return key\n",
        "        except s3.exceptions.ClientError:\n",
        "            return None\n",
        "\n",
        "    # Otherwise, try common audio extensions\n",
        "    for cand_ext in [\".mp3\", \".wav\", \".flac\", \".m4a\", \".ogg\"]:\n",
        "        key = prefix + base + cand_ext\n",
        "        try:\n",
        "            s3.head_object(Bucket=bucket, Key=key)\n",
        "            return key\n",
        "        except s3.exceptions.ClientError:\n",
        "            continue\n",
        "\n",
        "    return None"
      ],
      "metadata": {
        "id": "TQSTuia3kIBe"
      },
      "id": "TQSTuia3kIBe",
      "execution_count": null,
      "outputs": []
    },
    {
      "cell_type": "code",
      "source": [
        "def get_longest_silence(fname: str):\n",
        "    try:\n",
        "        key = resolve_s3_key(fname, bucket, prefix)\n",
        "        if key is None:\n",
        "            print(f\"No matching file in S3 for {fname}\")\n",
        "            return None, None\n",
        "        obj = s3.get_object(Bucket=bucket, Key=key)\n",
        "        audio_bytes = io.BytesIO(obj[\"Body\"].read())\n",
        "        clip = AudioSegment.from_file(audio_bytes, format=\"mp3\")\n",
        "        silences = detect_silence(\n",
        "            clip,\n",
        "            min_silence_len=200,\n",
        "            silence_thresh=clip.dBFS - 16\n",
        "        )\n",
        "        if silences:\n",
        "            silences_sec = [(s/1000, e/1000) for s, e in silences]\n",
        "            start, end = max(silences_sec, key=lambda x: x[1] - x[0])\n",
        "            return start, end - start\n",
        "        else:\n",
        "            return None, 0.0\n",
        "    except Exception as e:\n",
        "        print(f\"Error processing {fname}: {e}\")\n",
        "        return None, None"
      ],
      "metadata": {
        "id": "FVG3d7KIfzuX"
      },
      "id": "FVG3d7KIfzuX",
      "execution_count": null,
      "outputs": []
    },
    {
      "cell_type": "code",
      "source": [
        "sample_df[[\"pause_timestamp\", \"pause_len\"]] = sample_df[\"path\"].apply(\n",
        "    lambda f: pd.Series(get_longest_silence(f))\n",
        ")"
      ],
      "metadata": {
        "id": "aRtZVrqpf0xF"
      },
      "id": "aRtZVrqpf0xF",
      "execution_count": null,
      "outputs": []
    },
    {
      "cell_type": "code",
      "source": [
        "# Summary statistics\n",
        "print(f\"# clips succesfully fetched pause: {sample_df[\"pause_len\"].notna().sum()}\")\n",
        "print(f\"# clips unable to fetch pause: {sample_df[\"pause_len\"].isna().sum()}\")\n",
        "print()\n",
        "print(f\"Longest pause: {sample_df[\"pause_len\"].max():.2f}\")\n",
        "print(f\"Shortest pause: {sample_df[\"pause_len\"].min():.2f}\")\n",
        "print(f\"Median pause: {sample_df[\"pause_len\"].median():.2f}\")\n",
        "print(f\"Mean average pause: {sample_df[\"pause_len\"].mean():.2f}\")"
      ],
      "metadata": {
        "id": "Fv2l30TvoP2y"
      },
      "id": "Fv2l30TvoP2y",
      "execution_count": null,
      "outputs": []
    },
    {
      "cell_type": "code",
      "source": [
        "# Graph pause distribution\n",
        "pause_data = sample_df[\"pause_len\"].dropna()\n",
        "bins = np.arange(0, pause_data.max() + 0.25, 0.25)\n",
        "\n",
        "plt.figure(figsize=(10,3))\n",
        "pause_data.hist(bins=bins, edgecolor=None)\n",
        "plt.xticks(np.arange(0, pause_data.max() + 0.25, 0.25), rotation=0)\n",
        "plt.xlabel(\"Pause length (seconds)\")\n",
        "plt.ylabel(\"Frequency\")\n",
        "plt.title(\"Distribution of pause lengths\")\n",
        "plt.grid(False)\n",
        "plt.show()"
      ],
      "metadata": {
        "id": "yldkYQISq-v7"
      },
      "id": "yldkYQISq-v7",
      "execution_count": null,
      "outputs": []
    },
    {
      "cell_type": "code",
      "source": [
        "# Write pause data to csv\n",
        "non_null_pause_len = sample_df[sample_df[\"pause_len\"] > 0]\n",
        "non_null_pause_len[[\n",
        "    \"client_id\",\n",
        "    \"path\",\n",
        "    \"sentence_id\",\n",
        "    \"age\",\n",
        "    \"gender\",\n",
        "    \"accents\",\n",
        "    \"pause_timestamp\",\n",
        "    \"pause_len\",\n",
        "]].to_csv(\"pause_lengths.csv\")"
      ],
      "metadata": {
        "id": "BX8DGnvKibFj"
      },
      "id": "BX8DGnvKibFj",
      "execution_count": null,
      "outputs": []
    }
  ],
  "metadata": {
    "kernelspec": {
      "display_name": "Python 3 (ipykernel)",
      "language": "python",
      "name": "python3"
    },
    "language_info": {
      "codemirror_mode": {
        "name": "ipython",
        "version": 3
      },
      "file_extension": ".py",
      "mimetype": "text/x-python",
      "name": "python",
      "nbconvert_exporter": "python",
      "pygments_lexer": "ipython3",
      "version": "3.12.9"
    },
    "colab": {
      "provenance": []
    }
  },
  "nbformat": 4,
  "nbformat_minor": 5
}