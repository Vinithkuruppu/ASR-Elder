{
  "cells": [
    {
      "cell_type": "markdown",
      "id": "01f71b81-8fb3-4765-b7bf-a62ee8fc80c3",
      "metadata": {
        "id": "01f71b81-8fb3-4765-b7bf-a62ee8fc80c3"
      },
      "source": [
        "## Extract Pauses\n",
        "- V1 on 9/27/2025 8am PT\n",
        "- V2 on 10/4/2025 11am PT"
      ]
    },
    {
      "cell_type": "code",
      "source": [
        "# Install ffmpeg, pydub, boto3\n",
        "!pip install ffmpeg-python imageio[ffmpeg]\n",
        "!pip install pydub\n",
        "!pip install boto3"
      ],
      "metadata": {
        "id": "uD3lOoZSm_b0",
        "colab": {
          "base_uri": "https://localhost:8080/"
        },
        "outputId": "dcdfb5fb-1958-4ac5-f899-115990534687"
      },
      "id": "uD3lOoZSm_b0",
      "execution_count": 1,
      "outputs": [
        {
          "output_type": "stream",
          "name": "stdout",
          "text": [
            "Collecting ffmpeg-python\n",
            "  Downloading ffmpeg_python-0.2.0-py3-none-any.whl.metadata (1.7 kB)\n",
            "Requirement already satisfied: imageio[ffmpeg] in /usr/local/lib/python3.12/dist-packages (2.37.0)\n",
            "Requirement already satisfied: future in /usr/local/lib/python3.12/dist-packages (from ffmpeg-python) (1.0.0)\n",
            "Requirement already satisfied: numpy in /usr/local/lib/python3.12/dist-packages (from imageio[ffmpeg]) (2.0.2)\n",
            "Requirement already satisfied: pillow>=8.3.2 in /usr/local/lib/python3.12/dist-packages (from imageio[ffmpeg]) (11.3.0)\n",
            "Requirement already satisfied: imageio-ffmpeg in /usr/local/lib/python3.12/dist-packages (from imageio[ffmpeg]) (0.6.0)\n",
            "Requirement already satisfied: psutil in /usr/local/lib/python3.12/dist-packages (from imageio[ffmpeg]) (5.9.5)\n",
            "Downloading ffmpeg_python-0.2.0-py3-none-any.whl (25 kB)\n",
            "Installing collected packages: ffmpeg-python\n",
            "Successfully installed ffmpeg-python-0.2.0\n",
            "Requirement already satisfied: pydub in /usr/local/lib/python3.12/dist-packages (0.25.1)\n",
            "Collecting boto3\n",
            "  Downloading boto3-1.40.45-py3-none-any.whl.metadata (6.7 kB)\n",
            "Collecting botocore<1.41.0,>=1.40.45 (from boto3)\n",
            "  Downloading botocore-1.40.45-py3-none-any.whl.metadata (5.7 kB)\n",
            "Collecting jmespath<2.0.0,>=0.7.1 (from boto3)\n",
            "  Downloading jmespath-1.0.1-py3-none-any.whl.metadata (7.6 kB)\n",
            "Collecting s3transfer<0.15.0,>=0.14.0 (from boto3)\n",
            "  Downloading s3transfer-0.14.0-py3-none-any.whl.metadata (1.7 kB)\n",
            "Requirement already satisfied: python-dateutil<3.0.0,>=2.1 in /usr/local/lib/python3.12/dist-packages (from botocore<1.41.0,>=1.40.45->boto3) (2.9.0.post0)\n",
            "Requirement already satisfied: urllib3!=2.2.0,<3,>=1.25.4 in /usr/local/lib/python3.12/dist-packages (from botocore<1.41.0,>=1.40.45->boto3) (2.5.0)\n",
            "Requirement already satisfied: six>=1.5 in /usr/local/lib/python3.12/dist-packages (from python-dateutil<3.0.0,>=2.1->botocore<1.41.0,>=1.40.45->boto3) (1.17.0)\n",
            "Downloading boto3-1.40.45-py3-none-any.whl (139 kB)\n",
            "\u001b[2K   \u001b[90m━━━━━━━━━━━━━━━━━━━━━━━━━━━━━━━━━━━━━━━━\u001b[0m \u001b[32m139.3/139.3 kB\u001b[0m \u001b[31m4.5 MB/s\u001b[0m eta \u001b[36m0:00:00\u001b[0m\n",
            "\u001b[?25hDownloading botocore-1.40.45-py3-none-any.whl (14.1 MB)\n",
            "\u001b[2K   \u001b[90m━━━━━━━━━━━━━━━━━━━━━━━━━━━━━━━━━━━━━━━━\u001b[0m \u001b[32m14.1/14.1 MB\u001b[0m \u001b[31m34.8 MB/s\u001b[0m eta \u001b[36m0:00:00\u001b[0m\n",
            "\u001b[?25hDownloading jmespath-1.0.1-py3-none-any.whl (20 kB)\n",
            "Downloading s3transfer-0.14.0-py3-none-any.whl (85 kB)\n",
            "\u001b[2K   \u001b[90m━━━━━━━━━━━━━━━━━━━━━━━━━━━━━━━━━━━━━━━━\u001b[0m \u001b[32m85.7/85.7 kB\u001b[0m \u001b[31m2.8 MB/s\u001b[0m eta \u001b[36m0:00:00\u001b[0m\n",
            "\u001b[?25hInstalling collected packages: jmespath, botocore, s3transfer, boto3\n",
            "Successfully installed boto3-1.40.45 botocore-1.40.45 jmespath-1.0.1 s3transfer-0.14.0\n"
          ]
        }
      ]
    },
    {
      "cell_type": "code",
      "execution_count": 2,
      "id": "246b3c4b-aa8a-4503-b0ef-a2b24978f171",
      "metadata": {
        "execution": {
          "iopub.execute_input": "2025-09-27T13:25:01.600236Z",
          "iopub.status.busy": "2025-09-27T13:25:01.599944Z",
          "iopub.status.idle": "2025-09-27T13:25:02.173875Z",
          "shell.execute_reply": "2025-09-27T13:25:02.172984Z",
          "shell.execute_reply.started": "2025-09-27T13:25:01.600213Z"
        },
        "id": "246b3c4b-aa8a-4503-b0ef-a2b24978f171",
        "colab": {
          "base_uri": "https://localhost:8080/"
        },
        "outputId": "53ec41ec-05a6-4fc5-a1bb-7547937ba507"
      },
      "outputs": [
        {
          "output_type": "stream",
          "name": "stderr",
          "text": [
            "/usr/local/lib/python3.12/dist-packages/pydub/utils.py:300: SyntaxWarning: invalid escape sequence '\\('\n",
            "  m = re.match('([su]([0-9]{1,2})p?) \\(([0-9]{1,2}) bit\\)$', token)\n",
            "/usr/local/lib/python3.12/dist-packages/pydub/utils.py:301: SyntaxWarning: invalid escape sequence '\\('\n",
            "  m2 = re.match('([su]([0-9]{1,2})p?)( \\(default\\))?$', token)\n",
            "/usr/local/lib/python3.12/dist-packages/pydub/utils.py:310: SyntaxWarning: invalid escape sequence '\\('\n",
            "  elif re.match('(flt)p?( \\(default\\))?$', token):\n",
            "/usr/local/lib/python3.12/dist-packages/pydub/utils.py:314: SyntaxWarning: invalid escape sequence '\\('\n",
            "  elif re.match('(dbl)p?( \\(default\\))?$', token):\n"
          ]
        }
      ],
      "source": [
        "import boto3\n",
        "from google.colab import userdata\n",
        "import io\n",
        "import imageio_ffmpeg\n",
        "from IPython.display import Audio\n",
        "import matplotlib.pyplot as plt\n",
        "import numpy as np\n",
        "import os\n",
        "import pandas as pd\n",
        "from pydub import AudioSegment\n",
        "from pydub.silence import detect_silence"
      ]
    },
    {
      "cell_type": "code",
      "source": [
        "# S3 base path\n",
        "# audio_path = \"s3://asrelder-data/common_voice/clips/\"\n",
        "audio_path = \"s3://asrelder-data/common_voice/23/cv-corpus-23.0-2025-09-05/en/clips/\""
      ],
      "metadata": {
        "id": "TMybPtk0nR2D"
      },
      "id": "TMybPtk0nR2D",
      "execution_count": 3,
      "outputs": []
    },
    {
      "cell_type": "code",
      "source": [
        "# Establish session with credentials\n",
        "bucket = \"asrelder-data\"\n",
        "session = boto3.Session(\n",
        "    aws_access_key_id=userdata.get(\"AWS_ACCESS\"),\n",
        "    aws_secret_access_key=userdata.get(\"AWS_SECRET\"),\n",
        "    region_name=\"us-east-1\"\n",
        ")\n",
        "s3 = session.client(\"s3\")"
      ],
      "metadata": {
        "id": "4phZrtEHnoxt"
      },
      "id": "4phZrtEHnoxt",
      "execution_count": 4,
      "outputs": []
    },
    {
      "cell_type": "code",
      "source": [
        "# Make sure that pydub is pointing at the ffmpeg we downloaded\n",
        "AudioSegment.converter = imageio_ffmpeg.get_ffmpeg_exe()\n",
        "AudioSegment.ffmpeg = AudioSegment.converter\n",
        "AudioSegment.ffprobe = AudioSegment.converter"
      ],
      "metadata": {
        "id": "hjDg6fS8o3Rn"
      },
      "id": "hjDg6fS8o3Rn",
      "execution_count": 5,
      "outputs": []
    },
    {
      "cell_type": "markdown",
      "id": "20ff8d49-0ecc-4f91-9688-1f273cc02e97",
      "metadata": {
        "execution": {
          "iopub.execute_input": "2025-09-18T03:03:46.183637Z",
          "iopub.status.busy": "2025-09-18T03:03:46.183266Z",
          "iopub.status.idle": "2025-09-18T03:03:46.187499Z",
          "shell.execute_reply": "2025-09-18T03:03:46.186250Z",
          "shell.execute_reply.started": "2025-09-18T03:03:46.183614Z"
        },
        "id": "20ff8d49-0ecc-4f91-9688-1f273cc02e97"
      },
      "source": [
        "#### Download 'common_voices_23_sample1.csv' from Capstone Drive"
      ]
    },
    {
      "cell_type": "code",
      "execution_count": 7,
      "id": "40ad6272-688c-4cd2-b855-0272c2bc2d19",
      "metadata": {
        "execution": {
          "iopub.execute_input": "2025-09-27T13:25:03.630952Z",
          "iopub.status.busy": "2025-09-27T13:25:03.630693Z",
          "iopub.status.idle": "2025-09-27T13:25:09.735637Z",
          "shell.execute_reply": "2025-09-27T13:25:09.734825Z",
          "shell.execute_reply.started": "2025-09-27T13:25:03.630932Z"
        },
        "id": "40ad6272-688c-4cd2-b855-0272c2bc2d19",
        "colab": {
          "base_uri": "https://localhost:8080/"
        },
        "outputId": "a180fbdb-00f5-4230-b49b-fc8e6a46170f"
      },
      "outputs": [
        {
          "output_type": "stream",
          "name": "stdout",
          "text": [
            "Downloading...\n",
            "From: https://drive.google.com/uc?id=1JEVx9pCO4fKzBO6SVYrR0TI0uEmPJOlN\n",
            "To: /content/sample.csv\n",
            "\r  0% 0.00/276k [00:00<?, ?B/s]\r100% 276k/276k [00:00<00:00, 96.5MB/s]\n"
          ]
        }
      ],
      "source": [
        "# Download common_voices_23_sample1.csv\n",
        "file_id = \"1JEVx9pCO4fKzBO6SVYrR0TI0uEmPJOlN\"\n",
        "download_url = f\"https://drive.google.com/uc?id={file_id}\"\n",
        "!gdown {download_url} -O sample.csv"
      ]
    },
    {
      "cell_type": "code",
      "execution_count": 8,
      "id": "52fce3be-c9b8-46ed-acf5-6348564bc20c",
      "metadata": {
        "execution": {
          "iopub.execute_input": "2025-09-27T13:25:09.737230Z",
          "iopub.status.busy": "2025-09-27T13:25:09.736989Z",
          "iopub.status.idle": "2025-09-27T13:25:16.338491Z",
          "shell.execute_reply": "2025-09-27T13:25:16.337454Z",
          "shell.execute_reply.started": "2025-09-27T13:25:09.737205Z"
        },
        "id": "52fce3be-c9b8-46ed-acf5-6348564bc20c",
        "colab": {
          "base_uri": "https://localhost:8080/",
          "height": 341
        },
        "outputId": "cb3d0799-c096-47b2-adda-b5f0b3eb6e31"
      },
      "outputs": [
        {
          "output_type": "stream",
          "name": "stdout",
          "text": [
            "sample_df.shape: (800, 14)\n"
          ]
        },
        {
          "output_type": "execute_result",
          "data": {
            "text/plain": [
              "   Unnamed: 0                                          client_id  \\\n",
              "0           0  9c2f492df32ffef8d377bf95c5d5bf4e97165f41927e84...   \n",
              "1           1  41655d9d812e0caeff7683981ca3d3288cf2e837dd1490...   \n",
              "\n",
              "                           path  \\\n",
              "0  common_voice_en_23836453.mp3   \n",
              "1  common_voice_en_23759784.mp3   \n",
              "\n",
              "                                         sentence_id  \\\n",
              "0  768c97dbbc6f0370d672d9919c2dfb4e8771ad5771eb87...   \n",
              "1  733707938769dfec35b5ee7585edaccceb0bb9bb6ad8e9...   \n",
              "\n",
              "                                            sentence  sentence_domain  \\\n",
              "0  She, Decima and Morta together controlled the ...              NaN   \n",
              "1  Roll control was by differential actuation of ...              NaN   \n",
              "\n",
              "   up_votes  down_votes       age           gender                accents  \\\n",
              "0         2           0  twenties  female_feminine  United States English   \n",
              "1         2           0  twenties   male_masculine  United States English   \n",
              "\n",
              "   variant locale  segment  \n",
              "0      NaN     en      NaN  \n",
              "1      NaN     en      NaN  "
            ],
            "text/html": [
              "\n",
              "  <div id=\"df-1867465d-7ff6-40db-a6dd-1c42df54b915\" class=\"colab-df-container\">\n",
              "    <div>\n",
              "<style scoped>\n",
              "    .dataframe tbody tr th:only-of-type {\n",
              "        vertical-align: middle;\n",
              "    }\n",
              "\n",
              "    .dataframe tbody tr th {\n",
              "        vertical-align: top;\n",
              "    }\n",
              "\n",
              "    .dataframe thead th {\n",
              "        text-align: right;\n",
              "    }\n",
              "</style>\n",
              "<table border=\"1\" class=\"dataframe\">\n",
              "  <thead>\n",
              "    <tr style=\"text-align: right;\">\n",
              "      <th></th>\n",
              "      <th>Unnamed: 0</th>\n",
              "      <th>client_id</th>\n",
              "      <th>path</th>\n",
              "      <th>sentence_id</th>\n",
              "      <th>sentence</th>\n",
              "      <th>sentence_domain</th>\n",
              "      <th>up_votes</th>\n",
              "      <th>down_votes</th>\n",
              "      <th>age</th>\n",
              "      <th>gender</th>\n",
              "      <th>accents</th>\n",
              "      <th>variant</th>\n",
              "      <th>locale</th>\n",
              "      <th>segment</th>\n",
              "    </tr>\n",
              "  </thead>\n",
              "  <tbody>\n",
              "    <tr>\n",
              "      <th>0</th>\n",
              "      <td>0</td>\n",
              "      <td>9c2f492df32ffef8d377bf95c5d5bf4e97165f41927e84...</td>\n",
              "      <td>common_voice_en_23836453.mp3</td>\n",
              "      <td>768c97dbbc6f0370d672d9919c2dfb4e8771ad5771eb87...</td>\n",
              "      <td>She, Decima and Morta together controlled the ...</td>\n",
              "      <td>NaN</td>\n",
              "      <td>2</td>\n",
              "      <td>0</td>\n",
              "      <td>twenties</td>\n",
              "      <td>female_feminine</td>\n",
              "      <td>United States English</td>\n",
              "      <td>NaN</td>\n",
              "      <td>en</td>\n",
              "      <td>NaN</td>\n",
              "    </tr>\n",
              "    <tr>\n",
              "      <th>1</th>\n",
              "      <td>1</td>\n",
              "      <td>41655d9d812e0caeff7683981ca3d3288cf2e837dd1490...</td>\n",
              "      <td>common_voice_en_23759784.mp3</td>\n",
              "      <td>733707938769dfec35b5ee7585edaccceb0bb9bb6ad8e9...</td>\n",
              "      <td>Roll control was by differential actuation of ...</td>\n",
              "      <td>NaN</td>\n",
              "      <td>2</td>\n",
              "      <td>0</td>\n",
              "      <td>twenties</td>\n",
              "      <td>male_masculine</td>\n",
              "      <td>United States English</td>\n",
              "      <td>NaN</td>\n",
              "      <td>en</td>\n",
              "      <td>NaN</td>\n",
              "    </tr>\n",
              "  </tbody>\n",
              "</table>\n",
              "</div>\n",
              "    <div class=\"colab-df-buttons\">\n",
              "\n",
              "  <div class=\"colab-df-container\">\n",
              "    <button class=\"colab-df-convert\" onclick=\"convertToInteractive('df-1867465d-7ff6-40db-a6dd-1c42df54b915')\"\n",
              "            title=\"Convert this dataframe to an interactive table.\"\n",
              "            style=\"display:none;\">\n",
              "\n",
              "  <svg xmlns=\"http://www.w3.org/2000/svg\" height=\"24px\" viewBox=\"0 -960 960 960\">\n",
              "    <path d=\"M120-120v-720h720v720H120Zm60-500h600v-160H180v160Zm220 220h160v-160H400v160Zm0 220h160v-160H400v160ZM180-400h160v-160H180v160Zm440 0h160v-160H620v160ZM180-180h160v-160H180v160Zm440 0h160v-160H620v160Z\"/>\n",
              "  </svg>\n",
              "    </button>\n",
              "\n",
              "  <style>\n",
              "    .colab-df-container {\n",
              "      display:flex;\n",
              "      gap: 12px;\n",
              "    }\n",
              "\n",
              "    .colab-df-convert {\n",
              "      background-color: #E8F0FE;\n",
              "      border: none;\n",
              "      border-radius: 50%;\n",
              "      cursor: pointer;\n",
              "      display: none;\n",
              "      fill: #1967D2;\n",
              "      height: 32px;\n",
              "      padding: 0 0 0 0;\n",
              "      width: 32px;\n",
              "    }\n",
              "\n",
              "    .colab-df-convert:hover {\n",
              "      background-color: #E2EBFA;\n",
              "      box-shadow: 0px 1px 2px rgba(60, 64, 67, 0.3), 0px 1px 3px 1px rgba(60, 64, 67, 0.15);\n",
              "      fill: #174EA6;\n",
              "    }\n",
              "\n",
              "    .colab-df-buttons div {\n",
              "      margin-bottom: 4px;\n",
              "    }\n",
              "\n",
              "    [theme=dark] .colab-df-convert {\n",
              "      background-color: #3B4455;\n",
              "      fill: #D2E3FC;\n",
              "    }\n",
              "\n",
              "    [theme=dark] .colab-df-convert:hover {\n",
              "      background-color: #434B5C;\n",
              "      box-shadow: 0px 1px 3px 1px rgba(0, 0, 0, 0.15);\n",
              "      filter: drop-shadow(0px 1px 2px rgba(0, 0, 0, 0.3));\n",
              "      fill: #FFFFFF;\n",
              "    }\n",
              "  </style>\n",
              "\n",
              "    <script>\n",
              "      const buttonEl =\n",
              "        document.querySelector('#df-1867465d-7ff6-40db-a6dd-1c42df54b915 button.colab-df-convert');\n",
              "      buttonEl.style.display =\n",
              "        google.colab.kernel.accessAllowed ? 'block' : 'none';\n",
              "\n",
              "      async function convertToInteractive(key) {\n",
              "        const element = document.querySelector('#df-1867465d-7ff6-40db-a6dd-1c42df54b915');\n",
              "        const dataTable =\n",
              "          await google.colab.kernel.invokeFunction('convertToInteractive',\n",
              "                                                    [key], {});\n",
              "        if (!dataTable) return;\n",
              "\n",
              "        const docLinkHtml = 'Like what you see? Visit the ' +\n",
              "          '<a target=\"_blank\" href=https://colab.research.google.com/notebooks/data_table.ipynb>data table notebook</a>'\n",
              "          + ' to learn more about interactive tables.';\n",
              "        element.innerHTML = '';\n",
              "        dataTable['output_type'] = 'display_data';\n",
              "        await google.colab.output.renderOutput(dataTable, element);\n",
              "        const docLink = document.createElement('div');\n",
              "        docLink.innerHTML = docLinkHtml;\n",
              "        element.appendChild(docLink);\n",
              "      }\n",
              "    </script>\n",
              "  </div>\n",
              "\n",
              "\n",
              "    <div id=\"df-d41cfc3a-7a00-437c-b316-eb6e9f9c5644\">\n",
              "      <button class=\"colab-df-quickchart\" onclick=\"quickchart('df-d41cfc3a-7a00-437c-b316-eb6e9f9c5644')\"\n",
              "                title=\"Suggest charts\"\n",
              "                style=\"display:none;\">\n",
              "\n",
              "<svg xmlns=\"http://www.w3.org/2000/svg\" height=\"24px\"viewBox=\"0 0 24 24\"\n",
              "     width=\"24px\">\n",
              "    <g>\n",
              "        <path d=\"M19 3H5c-1.1 0-2 .9-2 2v14c0 1.1.9 2 2 2h14c1.1 0 2-.9 2-2V5c0-1.1-.9-2-2-2zM9 17H7v-7h2v7zm4 0h-2V7h2v10zm4 0h-2v-4h2v4z\"/>\n",
              "    </g>\n",
              "</svg>\n",
              "      </button>\n",
              "\n",
              "<style>\n",
              "  .colab-df-quickchart {\n",
              "      --bg-color: #E8F0FE;\n",
              "      --fill-color: #1967D2;\n",
              "      --hover-bg-color: #E2EBFA;\n",
              "      --hover-fill-color: #174EA6;\n",
              "      --disabled-fill-color: #AAA;\n",
              "      --disabled-bg-color: #DDD;\n",
              "  }\n",
              "\n",
              "  [theme=dark] .colab-df-quickchart {\n",
              "      --bg-color: #3B4455;\n",
              "      --fill-color: #D2E3FC;\n",
              "      --hover-bg-color: #434B5C;\n",
              "      --hover-fill-color: #FFFFFF;\n",
              "      --disabled-bg-color: #3B4455;\n",
              "      --disabled-fill-color: #666;\n",
              "  }\n",
              "\n",
              "  .colab-df-quickchart {\n",
              "    background-color: var(--bg-color);\n",
              "    border: none;\n",
              "    border-radius: 50%;\n",
              "    cursor: pointer;\n",
              "    display: none;\n",
              "    fill: var(--fill-color);\n",
              "    height: 32px;\n",
              "    padding: 0;\n",
              "    width: 32px;\n",
              "  }\n",
              "\n",
              "  .colab-df-quickchart:hover {\n",
              "    background-color: var(--hover-bg-color);\n",
              "    box-shadow: 0 1px 2px rgba(60, 64, 67, 0.3), 0 1px 3px 1px rgba(60, 64, 67, 0.15);\n",
              "    fill: var(--button-hover-fill-color);\n",
              "  }\n",
              "\n",
              "  .colab-df-quickchart-complete:disabled,\n",
              "  .colab-df-quickchart-complete:disabled:hover {\n",
              "    background-color: var(--disabled-bg-color);\n",
              "    fill: var(--disabled-fill-color);\n",
              "    box-shadow: none;\n",
              "  }\n",
              "\n",
              "  .colab-df-spinner {\n",
              "    border: 2px solid var(--fill-color);\n",
              "    border-color: transparent;\n",
              "    border-bottom-color: var(--fill-color);\n",
              "    animation:\n",
              "      spin 1s steps(1) infinite;\n",
              "  }\n",
              "\n",
              "  @keyframes spin {\n",
              "    0% {\n",
              "      border-color: transparent;\n",
              "      border-bottom-color: var(--fill-color);\n",
              "      border-left-color: var(--fill-color);\n",
              "    }\n",
              "    20% {\n",
              "      border-color: transparent;\n",
              "      border-left-color: var(--fill-color);\n",
              "      border-top-color: var(--fill-color);\n",
              "    }\n",
              "    30% {\n",
              "      border-color: transparent;\n",
              "      border-left-color: var(--fill-color);\n",
              "      border-top-color: var(--fill-color);\n",
              "      border-right-color: var(--fill-color);\n",
              "    }\n",
              "    40% {\n",
              "      border-color: transparent;\n",
              "      border-right-color: var(--fill-color);\n",
              "      border-top-color: var(--fill-color);\n",
              "    }\n",
              "    60% {\n",
              "      border-color: transparent;\n",
              "      border-right-color: var(--fill-color);\n",
              "    }\n",
              "    80% {\n",
              "      border-color: transparent;\n",
              "      border-right-color: var(--fill-color);\n",
              "      border-bottom-color: var(--fill-color);\n",
              "    }\n",
              "    90% {\n",
              "      border-color: transparent;\n",
              "      border-bottom-color: var(--fill-color);\n",
              "    }\n",
              "  }\n",
              "</style>\n",
              "\n",
              "      <script>\n",
              "        async function quickchart(key) {\n",
              "          const quickchartButtonEl =\n",
              "            document.querySelector('#' + key + ' button');\n",
              "          quickchartButtonEl.disabled = true;  // To prevent multiple clicks.\n",
              "          quickchartButtonEl.classList.add('colab-df-spinner');\n",
              "          try {\n",
              "            const charts = await google.colab.kernel.invokeFunction(\n",
              "                'suggestCharts', [key], {});\n",
              "          } catch (error) {\n",
              "            console.error('Error during call to suggestCharts:', error);\n",
              "          }\n",
              "          quickchartButtonEl.classList.remove('colab-df-spinner');\n",
              "          quickchartButtonEl.classList.add('colab-df-quickchart-complete');\n",
              "        }\n",
              "        (() => {\n",
              "          let quickchartButtonEl =\n",
              "            document.querySelector('#df-d41cfc3a-7a00-437c-b316-eb6e9f9c5644 button');\n",
              "          quickchartButtonEl.style.display =\n",
              "            google.colab.kernel.accessAllowed ? 'block' : 'none';\n",
              "        })();\n",
              "      </script>\n",
              "    </div>\n",
              "\n",
              "    </div>\n",
              "  </div>\n"
            ],
            "application/vnd.google.colaboratory.intrinsic+json": {
              "type": "dataframe",
              "variable_name": "sample_df",
              "summary": "{\n  \"name\": \"sample_df\",\n  \"rows\": 800,\n  \"fields\": [\n    {\n      \"column\": \"Unnamed: 0\",\n      \"properties\": {\n        \"dtype\": \"number\",\n        \"std\": 231,\n        \"min\": 0,\n        \"max\": 799,\n        \"num_unique_values\": 800,\n        \"samples\": [\n          696,\n          667,\n          63\n        ],\n        \"semantic_type\": \"\",\n        \"description\": \"\"\n      }\n    },\n    {\n      \"column\": \"client_id\",\n      \"properties\": {\n        \"dtype\": \"category\",\n        \"num_unique_values\": 382,\n        \"samples\": [\n          \"4446019f2b7fe613de60a3b080993693ea6f453be9ffb6521bc68c2134402502b2438f85d69b092aa614a4210caa5cf5de510fe4ffd08d0e4e0d0592026ebe32\",\n          \"d9d59062f29b9486803e81265bc61a4ec7731644dab65d818e9bf272929f5c3822945609d6e498bf17d3578d084cc59df96d793aae62e86a4b5f0698dc7d36a2\",\n          \"59a350ba345823f7b516bbf091978d8950997dd42108f7907aab50e6d626525f338e6767cc9541b95667fdf1825cb99d87c2fa0ec971bcdd34e5f2ffeee39285\"\n        ],\n        \"semantic_type\": \"\",\n        \"description\": \"\"\n      }\n    },\n    {\n      \"column\": \"path\",\n      \"properties\": {\n        \"dtype\": \"string\",\n        \"num_unique_values\": 800,\n        \"samples\": [\n          \"common_voice_en_32878121.mp3\",\n          \"common_voice_en_28868305.mp3\",\n          \"common_voice_en_27774989.mp3\"\n        ],\n        \"semantic_type\": \"\",\n        \"description\": \"\"\n      }\n    },\n    {\n      \"column\": \"sentence_id\",\n      \"properties\": {\n        \"dtype\": \"string\",\n        \"num_unique_values\": 800,\n        \"samples\": [\n          \"9f40930ad90926f6164c4c7d2428bf695ac5d1a8c672b2ba043ae73e639726bd\",\n          \"be1b904ae8ce4ac22a618e3e277835045c8a9d88deed38f7ed6c952654c9904c\",\n          \"b3b42764ec9b5e70f5ffb8efd57b45c239acfb73ea05cf037f5bca3966734575\"\n        ],\n        \"semantic_type\": \"\",\n        \"description\": \"\"\n      }\n    },\n    {\n      \"column\": \"sentence\",\n      \"properties\": {\n        \"dtype\": \"string\",\n        \"num_unique_values\": 800,\n        \"samples\": [\n          \"Blanket bogs (areas of high rainfall and peat accumulation) are common.\",\n          \"Pietzner currently lives in a small town in northern Germany.\",\n          \"He spent little time editing his films.\"\n        ],\n        \"semantic_type\": \"\",\n        \"description\": \"\"\n      }\n    },\n    {\n      \"column\": \"sentence_domain\",\n      \"properties\": {\n        \"dtype\": \"number\",\n        \"std\": null,\n        \"min\": null,\n        \"max\": null,\n        \"num_unique_values\": 0,\n        \"samples\": [],\n        \"semantic_type\": \"\",\n        \"description\": \"\"\n      }\n    },\n    {\n      \"column\": \"up_votes\",\n      \"properties\": {\n        \"dtype\": \"number\",\n        \"std\": 1,\n        \"min\": 2,\n        \"max\": 10,\n        \"num_unique_values\": 6,\n        \"samples\": [],\n        \"semantic_type\": \"\",\n        \"description\": \"\"\n      }\n    },\n    {\n      \"column\": \"down_votes\",\n      \"properties\": {\n        \"dtype\": \"number\",\n        \"std\": 0,\n        \"min\": 0,\n        \"max\": 0,\n        \"num_unique_values\": 1,\n        \"samples\": [],\n        \"semantic_type\": \"\",\n        \"description\": \"\"\n      }\n    },\n    {\n      \"column\": \"age\",\n      \"properties\": {\n        \"dtype\": \"category\",\n        \"num_unique_values\": 8,\n        \"samples\": [],\n        \"semantic_type\": \"\",\n        \"description\": \"\"\n      }\n    },\n    {\n      \"column\": \"gender\",\n      \"properties\": {\n        \"dtype\": \"category\",\n        \"num_unique_values\": 2,\n        \"samples\": [],\n        \"semantic_type\": \"\",\n        \"description\": \"\"\n      }\n    },\n    {\n      \"column\": \"accents\",\n      \"properties\": {\n        \"dtype\": \"category\",\n        \"num_unique_values\": 31,\n        \"samples\": [],\n        \"semantic_type\": \"\",\n        \"description\": \"\"\n      }\n    },\n    {\n      \"column\": \"variant\",\n      \"properties\": {\n        \"dtype\": \"number\",\n        \"std\": null,\n        \"min\": null,\n        \"max\": null,\n        \"num_unique_values\": 0,\n        \"samples\": [],\n        \"semantic_type\": \"\",\n        \"description\": \"\"\n      }\n    },\n    {\n      \"column\": \"locale\",\n      \"properties\": {\n        \"dtype\": \"category\",\n        \"num_unique_values\": 1,\n        \"samples\": [],\n        \"semantic_type\": \"\",\n        \"description\": \"\"\n      }\n    },\n    {\n      \"column\": \"segment\",\n      \"properties\": {\n        \"dtype\": \"number\",\n        \"std\": null,\n        \"min\": null,\n        \"max\": null,\n        \"num_unique_values\": 0,\n        \"samples\": [],\n        \"semantic_type\": \"\",\n        \"description\": \"\"\n      }\n    }\n  ]\n}"
            }
          },
          "metadata": {},
          "execution_count": 8
        }
      ],
      "source": [
        "# Sample DataFrame\n",
        "sample_df = pd.read_csv(\"sample.csv\")\n",
        "print(f\"sample_df.shape: {sample_df.shape}\")\n",
        "sample_df.head(2)"
      ]
    },
    {
      "cell_type": "markdown",
      "source": [
        "#### Download 'common_voices_23_full.csv' from Capstone Drive"
      ],
      "metadata": {
        "id": "U_RmToctcLOu"
      },
      "id": "U_RmToctcLOu"
    },
    {
      "cell_type": "code",
      "source": [
        "# Download common_voices_23_full.csv\n",
        "file_id = \"1S-BwO8LKtTWq6t-ccMh-dYDfwVRLTLv5\"\n",
        "download_url = f\"https://drive.google.com/uc?id={file_id}\"\n",
        "!gdown {download_url} -O full.csv"
      ],
      "metadata": {
        "colab": {
          "base_uri": "https://localhost:8080/"
        },
        "id": "g5csQKrfcNgs",
        "outputId": "ce9a0b88-b249-47f4-8699-b993ce897616"
      },
      "id": "g5csQKrfcNgs",
      "execution_count": 9,
      "outputs": [
        {
          "output_type": "stream",
          "name": "stdout",
          "text": [
            "Downloading...\n",
            "From (original): https://drive.google.com/uc?id=1S-BwO8LKtTWq6t-ccMh-dYDfwVRLTLv5\n",
            "From (redirected): https://drive.google.com/uc?id=1S-BwO8LKtTWq6t-ccMh-dYDfwVRLTLv5&confirm=t&uuid=5113714c-516b-41f0-a576-895b03867607\n",
            "To: /content/full.csv\n",
            "100% 387M/387M [00:01<00:00, 235MB/s]\n"
          ]
        }
      ]
    },
    {
      "cell_type": "code",
      "source": [
        "# Full DataFrame\n",
        "full_df = pd.read_csv(\"full.csv\")\n",
        "print(f\"full_df.shape: {full_df.shape}\")\n",
        "full_df.head(2)"
      ],
      "metadata": {
        "colab": {
          "base_uri": "https://localhost:8080/",
          "height": 359
        },
        "id": "ddzfblS2cfnl",
        "outputId": "ab11dfa0-fc73-4477-a006-9d280e4cbfe6"
      },
      "id": "ddzfblS2cfnl",
      "execution_count": 10,
      "outputs": [
        {
          "output_type": "stream",
          "name": "stderr",
          "text": [
            "/tmp/ipython-input-3149984049.py:2: DtypeWarning: Columns (5) have mixed types. Specify dtype option on import or set low_memory=False.\n",
            "  full_df = pd.read_csv(\"full.csv\")\n"
          ]
        },
        {
          "output_type": "stream",
          "name": "stdout",
          "text": [
            "full_df.shape: (1142930, 14)\n"
          ]
        },
        {
          "output_type": "execute_result",
          "data": {
            "text/plain": [
              "   Unnamed: 0                                          client_id  \\\n",
              "0           0  cff8474bb50a3230043ec7881d0b9534135c6b272d3faa...   \n",
              "1           1  cff8474bb50a3230043ec7881d0b9534135c6b272d3faa...   \n",
              "\n",
              "                           path  \\\n",
              "0  common_voice_en_18017109.mp3   \n",
              "1  common_voice_en_18017111.mp3   \n",
              "\n",
              "                                         sentence_id  \\\n",
              "0  259f752d5761f6e1c05b5265dac1ae8937d2b6638030b8...   \n",
              "1  2db9a10272221587787ef81f5e2efc996c9a0578c42d08...   \n",
              "\n",
              "                                            sentence sentence_domain  \\\n",
              "0     If at first you don't succeed, try, try again.             NaN   \n",
              "1  Different species have different ways of deali...             NaN   \n",
              "\n",
              "   up_votes  down_votes  age gender accents  variant locale  segment  \n",
              "0         2           0  NaN    NaN     NaN      NaN     en      NaN  \n",
              "1         2           0  NaN    NaN     NaN      NaN     en      NaN  "
            ],
            "text/html": [
              "\n",
              "  <div id=\"df-7138d344-2612-47a3-adab-765ec11a7f92\" class=\"colab-df-container\">\n",
              "    <div>\n",
              "<style scoped>\n",
              "    .dataframe tbody tr th:only-of-type {\n",
              "        vertical-align: middle;\n",
              "    }\n",
              "\n",
              "    .dataframe tbody tr th {\n",
              "        vertical-align: top;\n",
              "    }\n",
              "\n",
              "    .dataframe thead th {\n",
              "        text-align: right;\n",
              "    }\n",
              "</style>\n",
              "<table border=\"1\" class=\"dataframe\">\n",
              "  <thead>\n",
              "    <tr style=\"text-align: right;\">\n",
              "      <th></th>\n",
              "      <th>Unnamed: 0</th>\n",
              "      <th>client_id</th>\n",
              "      <th>path</th>\n",
              "      <th>sentence_id</th>\n",
              "      <th>sentence</th>\n",
              "      <th>sentence_domain</th>\n",
              "      <th>up_votes</th>\n",
              "      <th>down_votes</th>\n",
              "      <th>age</th>\n",
              "      <th>gender</th>\n",
              "      <th>accents</th>\n",
              "      <th>variant</th>\n",
              "      <th>locale</th>\n",
              "      <th>segment</th>\n",
              "    </tr>\n",
              "  </thead>\n",
              "  <tbody>\n",
              "    <tr>\n",
              "      <th>0</th>\n",
              "      <td>0</td>\n",
              "      <td>cff8474bb50a3230043ec7881d0b9534135c6b272d3faa...</td>\n",
              "      <td>common_voice_en_18017109.mp3</td>\n",
              "      <td>259f752d5761f6e1c05b5265dac1ae8937d2b6638030b8...</td>\n",
              "      <td>If at first you don't succeed, try, try again.</td>\n",
              "      <td>NaN</td>\n",
              "      <td>2</td>\n",
              "      <td>0</td>\n",
              "      <td>NaN</td>\n",
              "      <td>NaN</td>\n",
              "      <td>NaN</td>\n",
              "      <td>NaN</td>\n",
              "      <td>en</td>\n",
              "      <td>NaN</td>\n",
              "    </tr>\n",
              "    <tr>\n",
              "      <th>1</th>\n",
              "      <td>1</td>\n",
              "      <td>cff8474bb50a3230043ec7881d0b9534135c6b272d3faa...</td>\n",
              "      <td>common_voice_en_18017111.mp3</td>\n",
              "      <td>2db9a10272221587787ef81f5e2efc996c9a0578c42d08...</td>\n",
              "      <td>Different species have different ways of deali...</td>\n",
              "      <td>NaN</td>\n",
              "      <td>2</td>\n",
              "      <td>0</td>\n",
              "      <td>NaN</td>\n",
              "      <td>NaN</td>\n",
              "      <td>NaN</td>\n",
              "      <td>NaN</td>\n",
              "      <td>en</td>\n",
              "      <td>NaN</td>\n",
              "    </tr>\n",
              "  </tbody>\n",
              "</table>\n",
              "</div>\n",
              "    <div class=\"colab-df-buttons\">\n",
              "\n",
              "  <div class=\"colab-df-container\">\n",
              "    <button class=\"colab-df-convert\" onclick=\"convertToInteractive('df-7138d344-2612-47a3-adab-765ec11a7f92')\"\n",
              "            title=\"Convert this dataframe to an interactive table.\"\n",
              "            style=\"display:none;\">\n",
              "\n",
              "  <svg xmlns=\"http://www.w3.org/2000/svg\" height=\"24px\" viewBox=\"0 -960 960 960\">\n",
              "    <path d=\"M120-120v-720h720v720H120Zm60-500h600v-160H180v160Zm220 220h160v-160H400v160Zm0 220h160v-160H400v160ZM180-400h160v-160H180v160Zm440 0h160v-160H620v160ZM180-180h160v-160H180v160Zm440 0h160v-160H620v160Z\"/>\n",
              "  </svg>\n",
              "    </button>\n",
              "\n",
              "  <style>\n",
              "    .colab-df-container {\n",
              "      display:flex;\n",
              "      gap: 12px;\n",
              "    }\n",
              "\n",
              "    .colab-df-convert {\n",
              "      background-color: #E8F0FE;\n",
              "      border: none;\n",
              "      border-radius: 50%;\n",
              "      cursor: pointer;\n",
              "      display: none;\n",
              "      fill: #1967D2;\n",
              "      height: 32px;\n",
              "      padding: 0 0 0 0;\n",
              "      width: 32px;\n",
              "    }\n",
              "\n",
              "    .colab-df-convert:hover {\n",
              "      background-color: #E2EBFA;\n",
              "      box-shadow: 0px 1px 2px rgba(60, 64, 67, 0.3), 0px 1px 3px 1px rgba(60, 64, 67, 0.15);\n",
              "      fill: #174EA6;\n",
              "    }\n",
              "\n",
              "    .colab-df-buttons div {\n",
              "      margin-bottom: 4px;\n",
              "    }\n",
              "\n",
              "    [theme=dark] .colab-df-convert {\n",
              "      background-color: #3B4455;\n",
              "      fill: #D2E3FC;\n",
              "    }\n",
              "\n",
              "    [theme=dark] .colab-df-convert:hover {\n",
              "      background-color: #434B5C;\n",
              "      box-shadow: 0px 1px 3px 1px rgba(0, 0, 0, 0.15);\n",
              "      filter: drop-shadow(0px 1px 2px rgba(0, 0, 0, 0.3));\n",
              "      fill: #FFFFFF;\n",
              "    }\n",
              "  </style>\n",
              "\n",
              "    <script>\n",
              "      const buttonEl =\n",
              "        document.querySelector('#df-7138d344-2612-47a3-adab-765ec11a7f92 button.colab-df-convert');\n",
              "      buttonEl.style.display =\n",
              "        google.colab.kernel.accessAllowed ? 'block' : 'none';\n",
              "\n",
              "      async function convertToInteractive(key) {\n",
              "        const element = document.querySelector('#df-7138d344-2612-47a3-adab-765ec11a7f92');\n",
              "        const dataTable =\n",
              "          await google.colab.kernel.invokeFunction('convertToInteractive',\n",
              "                                                    [key], {});\n",
              "        if (!dataTable) return;\n",
              "\n",
              "        const docLinkHtml = 'Like what you see? Visit the ' +\n",
              "          '<a target=\"_blank\" href=https://colab.research.google.com/notebooks/data_table.ipynb>data table notebook</a>'\n",
              "          + ' to learn more about interactive tables.';\n",
              "        element.innerHTML = '';\n",
              "        dataTable['output_type'] = 'display_data';\n",
              "        await google.colab.output.renderOutput(dataTable, element);\n",
              "        const docLink = document.createElement('div');\n",
              "        docLink.innerHTML = docLinkHtml;\n",
              "        element.appendChild(docLink);\n",
              "      }\n",
              "    </script>\n",
              "  </div>\n",
              "\n",
              "\n",
              "    <div id=\"df-e0840a5d-a5f1-43a2-86e1-db6e5ac2afbc\">\n",
              "      <button class=\"colab-df-quickchart\" onclick=\"quickchart('df-e0840a5d-a5f1-43a2-86e1-db6e5ac2afbc')\"\n",
              "                title=\"Suggest charts\"\n",
              "                style=\"display:none;\">\n",
              "\n",
              "<svg xmlns=\"http://www.w3.org/2000/svg\" height=\"24px\"viewBox=\"0 0 24 24\"\n",
              "     width=\"24px\">\n",
              "    <g>\n",
              "        <path d=\"M19 3H5c-1.1 0-2 .9-2 2v14c0 1.1.9 2 2 2h14c1.1 0 2-.9 2-2V5c0-1.1-.9-2-2-2zM9 17H7v-7h2v7zm4 0h-2V7h2v10zm4 0h-2v-4h2v4z\"/>\n",
              "    </g>\n",
              "</svg>\n",
              "      </button>\n",
              "\n",
              "<style>\n",
              "  .colab-df-quickchart {\n",
              "      --bg-color: #E8F0FE;\n",
              "      --fill-color: #1967D2;\n",
              "      --hover-bg-color: #E2EBFA;\n",
              "      --hover-fill-color: #174EA6;\n",
              "      --disabled-fill-color: #AAA;\n",
              "      --disabled-bg-color: #DDD;\n",
              "  }\n",
              "\n",
              "  [theme=dark] .colab-df-quickchart {\n",
              "      --bg-color: #3B4455;\n",
              "      --fill-color: #D2E3FC;\n",
              "      --hover-bg-color: #434B5C;\n",
              "      --hover-fill-color: #FFFFFF;\n",
              "      --disabled-bg-color: #3B4455;\n",
              "      --disabled-fill-color: #666;\n",
              "  }\n",
              "\n",
              "  .colab-df-quickchart {\n",
              "    background-color: var(--bg-color);\n",
              "    border: none;\n",
              "    border-radius: 50%;\n",
              "    cursor: pointer;\n",
              "    display: none;\n",
              "    fill: var(--fill-color);\n",
              "    height: 32px;\n",
              "    padding: 0;\n",
              "    width: 32px;\n",
              "  }\n",
              "\n",
              "  .colab-df-quickchart:hover {\n",
              "    background-color: var(--hover-bg-color);\n",
              "    box-shadow: 0 1px 2px rgba(60, 64, 67, 0.3), 0 1px 3px 1px rgba(60, 64, 67, 0.15);\n",
              "    fill: var(--button-hover-fill-color);\n",
              "  }\n",
              "\n",
              "  .colab-df-quickchart-complete:disabled,\n",
              "  .colab-df-quickchart-complete:disabled:hover {\n",
              "    background-color: var(--disabled-bg-color);\n",
              "    fill: var(--disabled-fill-color);\n",
              "    box-shadow: none;\n",
              "  }\n",
              "\n",
              "  .colab-df-spinner {\n",
              "    border: 2px solid var(--fill-color);\n",
              "    border-color: transparent;\n",
              "    border-bottom-color: var(--fill-color);\n",
              "    animation:\n",
              "      spin 1s steps(1) infinite;\n",
              "  }\n",
              "\n",
              "  @keyframes spin {\n",
              "    0% {\n",
              "      border-color: transparent;\n",
              "      border-bottom-color: var(--fill-color);\n",
              "      border-left-color: var(--fill-color);\n",
              "    }\n",
              "    20% {\n",
              "      border-color: transparent;\n",
              "      border-left-color: var(--fill-color);\n",
              "      border-top-color: var(--fill-color);\n",
              "    }\n",
              "    30% {\n",
              "      border-color: transparent;\n",
              "      border-left-color: var(--fill-color);\n",
              "      border-top-color: var(--fill-color);\n",
              "      border-right-color: var(--fill-color);\n",
              "    }\n",
              "    40% {\n",
              "      border-color: transparent;\n",
              "      border-right-color: var(--fill-color);\n",
              "      border-top-color: var(--fill-color);\n",
              "    }\n",
              "    60% {\n",
              "      border-color: transparent;\n",
              "      border-right-color: var(--fill-color);\n",
              "    }\n",
              "    80% {\n",
              "      border-color: transparent;\n",
              "      border-right-color: var(--fill-color);\n",
              "      border-bottom-color: var(--fill-color);\n",
              "    }\n",
              "    90% {\n",
              "      border-color: transparent;\n",
              "      border-bottom-color: var(--fill-color);\n",
              "    }\n",
              "  }\n",
              "</style>\n",
              "\n",
              "      <script>\n",
              "        async function quickchart(key) {\n",
              "          const quickchartButtonEl =\n",
              "            document.querySelector('#' + key + ' button');\n",
              "          quickchartButtonEl.disabled = true;  // To prevent multiple clicks.\n",
              "          quickchartButtonEl.classList.add('colab-df-spinner');\n",
              "          try {\n",
              "            const charts = await google.colab.kernel.invokeFunction(\n",
              "                'suggestCharts', [key], {});\n",
              "          } catch (error) {\n",
              "            console.error('Error during call to suggestCharts:', error);\n",
              "          }\n",
              "          quickchartButtonEl.classList.remove('colab-df-spinner');\n",
              "          quickchartButtonEl.classList.add('colab-df-quickchart-complete');\n",
              "        }\n",
              "        (() => {\n",
              "          let quickchartButtonEl =\n",
              "            document.querySelector('#df-e0840a5d-a5f1-43a2-86e1-db6e5ac2afbc button');\n",
              "          quickchartButtonEl.style.display =\n",
              "            google.colab.kernel.accessAllowed ? 'block' : 'none';\n",
              "        })();\n",
              "      </script>\n",
              "    </div>\n",
              "\n",
              "    </div>\n",
              "  </div>\n"
            ],
            "application/vnd.google.colaboratory.intrinsic+json": {
              "type": "dataframe",
              "variable_name": "full_df"
            }
          },
          "metadata": {},
          "execution_count": 10
        }
      ]
    },
    {
      "cell_type": "code",
      "source": [
        "# full_df[full_df[\"path\"] == \"common_voice_en_25192921.mp3\"].loc[:, \"client_id\"].iloc[0]\n",
        "# # 04bfef3f0ac57c1482c4624318bcf9d4510519618fdbd4f5bcb45ae4d55c5127c71495d6cd72eda2716e502d75c6393cf60a523eb26078988ee563fca3ed3ff8\n",
        "# full_df[full_df[\"path\"] == \"common_voice_en_25192921.mp3\"].loc[:, \"sentence_id\"].iloc[0]\n",
        "# # 8d100f7710b4fe1815cca677aadcb9db34fdbd8d11e57bd602b260cbe668cf96\n",
        "# full_df[full_df[\"path\"] == \"common_voice_en_25192921.mp3\"].loc[:, \"sentence\"].iloc[0]\n",
        "# # The forts north of the wall such as Newstead were abandoned."
      ],
      "metadata": {
        "id": "n418e9L8g5sK"
      },
      "id": "n418e9L8g5sK",
      "execution_count": 11,
      "outputs": []
    },
    {
      "cell_type": "code",
      "source": [
        "# full_df[full_df[\"sentence\"] == \"The forts north of the wall such as Newstead were abandoned.\"]"
      ],
      "metadata": {
        "id": "4fimIXSXhfKR"
      },
      "id": "4fimIXSXhfKR",
      "execution_count": 12,
      "outputs": []
    },
    {
      "cell_type": "code",
      "source": [
        "# 1138422 <-- df.shape[0]\n",
        "# 1182481 <-- Dave PC: DATASCI 210\\Datasets\\Common Voice\\cv-corpus-22.0-2025-06-20-en\\cv-corpus-22.0-2025-06-20\\en\\clips"
      ],
      "metadata": {
        "id": "uSSMslPFhfNS"
      },
      "id": "uSSMslPFhfNS",
      "execution_count": null,
      "outputs": []
    },
    {
      "cell_type": "code",
      "source": [
        "# 1182481 - 1138422"
      ],
      "metadata": {
        "id": "Rk4AYA_UinBu"
      },
      "id": "Rk4AYA_UinBu",
      "execution_count": 13,
      "outputs": []
    },
    {
      "cell_type": "code",
      "execution_count": 14,
      "id": "32f1ab1a-9818-4b20-b727-4198ec8ec7af",
      "metadata": {
        "id": "32f1ab1a-9818-4b20-b727-4198ec8ec7af",
        "colab": {
          "base_uri": "https://localhost:8080/",
          "height": 110
        },
        "outputId": "344b878a-e638-4e7a-b772-fce44a517fcf"
      },
      "outputs": [
        {
          "output_type": "stream",
          "name": "stdout",
          "text": [
            "Loaded common_voice_en_20131778.mp3 into memory: 48237 bytes\n",
            "Duration in seconds: 6.024\n"
          ]
        },
        {
          "output_type": "execute_result",
          "data": {
            "text/plain": [
              "<IPython.lib.display.Audio object>"
            ],
            "text/html": [
              "\n",
              "                <audio  controls=\"controls\" >\n",
              "                    <source src=\"data:audio/wav;base64,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\" type=\"audio/wav\" />\n",
              "                    Your browser does not support the audio element.\n",
              "                </audio>\n",
              "              "
            ]
          },
          "metadata": {},
          "execution_count": 14
        }
      ],
      "source": [
        "# Test boto3 fetch on one file\n",
        "# prefix = \"common_voice/clips/\"\n",
        "prefix = \"common_voice/23/cv-corpus-23.0-2025-09-05/en/clips/\"\n",
        "filename = \"common_voice_en_20131778.mp3\"\n",
        "obj = s3.get_object(Bucket=bucket, Key=prefix+filename)\n",
        "audio_bytes = io.BytesIO(obj[\"Body\"].read())\n",
        "print(f\"Loaded {filename} into memory: {len(audio_bytes.getvalue())} bytes\")\n",
        "\n",
        "# Length of clip in seconds (seek 0 rewind to start)\n",
        "audio_bytes.seek(0)\n",
        "clip = AudioSegment.from_file(audio_bytes, format=\"mp3\")\n",
        "print(f\"Duration in seconds: {clip.duration_seconds}\")\n",
        "\n",
        "# Play the audio\n",
        "audio_bytes.seek(0)\n",
        "Audio(audio_bytes.read(), rate=16000)"
      ]
    },
    {
      "cell_type": "code",
      "source": [
        "def resolve_s3_key(fname: str, bucket: str, prefix: str) -> str | None:\n",
        "    \"\"\"\n",
        "    Given a base filename, check for valid extensions in S3.\n",
        "    Returns the full key if it exists, otherwise None.\n",
        "    \"\"\"\n",
        "    base, ext = os.path.splitext(fname.strip())\n",
        "\n",
        "    # If an extension is already provided, try it directly\n",
        "    if ext:\n",
        "        key = prefix + fname.strip()\n",
        "        try:\n",
        "            s3.head_object(Bucket=bucket, Key=key)\n",
        "            return key\n",
        "        except s3.exceptions.ClientError:\n",
        "            return None\n",
        "\n",
        "    # Otherwise, try common audio extensions\n",
        "    for cand_ext in [\".mp3\", \".wav\", \".flac\", \".m4a\", \".ogg\"]:\n",
        "        key = prefix + base + cand_ext\n",
        "        try:\n",
        "            s3.head_object(Bucket=bucket, Key=key)\n",
        "            return key\n",
        "        except s3.exceptions.ClientError:\n",
        "            continue\n",
        "\n",
        "    return None"
      ],
      "metadata": {
        "id": "TQSTuia3kIBe"
      },
      "id": "TQSTuia3kIBe",
      "execution_count": 15,
      "outputs": []
    },
    {
      "cell_type": "code",
      "source": [
        "def get_longest_silence(fname: str):\n",
        "    try:\n",
        "        key = resolve_s3_key(fname, bucket, prefix)\n",
        "        if key is None:\n",
        "            print(f\"No matching file in S3 for {fname}\")\n",
        "            return None, None\n",
        "        obj = s3.get_object(Bucket=bucket, Key=key)\n",
        "        audio_bytes = io.BytesIO(obj[\"Body\"].read())\n",
        "        clip = AudioSegment.from_file(audio_bytes, format=\"mp3\")\n",
        "        silences = detect_silence(\n",
        "            clip,\n",
        "            min_silence_len=200,\n",
        "            silence_thresh=clip.dBFS - 16\n",
        "        )\n",
        "        if silences:\n",
        "            silences_sec = [(s/1000, e/1000) for s, e in silences]\n",
        "            start, end = max(silences_sec, key=lambda x: x[1] - x[0])\n",
        "            return start, end - start\n",
        "        else:\n",
        "            return None, 0.0\n",
        "    except Exception as e:\n",
        "        print(f\"Error processing {fname}: {e}\")\n",
        "        return None, None"
      ],
      "metadata": {
        "id": "FVG3d7KIfzuX"
      },
      "id": "FVG3d7KIfzuX",
      "execution_count": 16,
      "outputs": []
    },
    {
      "cell_type": "markdown",
      "source": [
        "### Extract Pause Lengths for Sample Set"
      ],
      "metadata": {
        "id": "golhXB41BYvC"
      },
      "id": "golhXB41BYvC"
    },
    {
      "cell_type": "code",
      "source": [
        "sample_df[[\"pause_timestamp\", \"pause_len\"]] = sample_df[\"path\"].apply(\n",
        "    lambda f: pd.Series(get_longest_silence(f))\n",
        ")"
      ],
      "metadata": {
        "id": "aRtZVrqpf0xF"
      },
      "id": "aRtZVrqpf0xF",
      "execution_count": 17,
      "outputs": []
    },
    {
      "cell_type": "code",
      "source": [
        "# Summary statistics\n",
        "print(f\"# clips succesfully fetched pause: {sample_df[\"pause_len\"].notna().sum()}\")\n",
        "print(f\"# clips unable to fetch pause: {sample_df[\"pause_len\"].isna().sum()}\")\n",
        "print()\n",
        "print(f\"Longest pause: {sample_df[\"pause_len\"].max():.2f}\")\n",
        "print(f\"Shortest pause: {sample_df[\"pause_len\"].min():.2f}\")\n",
        "print(f\"Median pause: {sample_df[\"pause_len\"].median():.2f}\")\n",
        "print(f\"Mean average pause: {sample_df[\"pause_len\"].mean():.2f}\")"
      ],
      "metadata": {
        "id": "Fv2l30TvoP2y",
        "colab": {
          "base_uri": "https://localhost:8080/"
        },
        "outputId": "57c9d772-4614-4f47-8157-16559513ca8b"
      },
      "id": "Fv2l30TvoP2y",
      "execution_count": 18,
      "outputs": [
        {
          "output_type": "stream",
          "name": "stdout",
          "text": [
            "# clips succesfully fetched pause: 800\n",
            "# clips unable to fetch pause: 0\n",
            "\n",
            "Longest pause: 5.53\n",
            "Shortest pause: 0.00\n",
            "Median pause: 1.03\n",
            "Mean average pause: 1.09\n"
          ]
        }
      ]
    },
    {
      "cell_type": "code",
      "source": [
        "# Graph pause distribution\n",
        "pause_data = sample_df[\"pause_len\"].dropna()\n",
        "bins = np.arange(0, pause_data.max() + 0.25, 0.25)\n",
        "\n",
        "plt.figure(figsize=(10,3))\n",
        "pause_data.hist(bins=bins, edgecolor=None)\n",
        "plt.xticks(np.arange(0, pause_data.max() + 0.25, 0.25), rotation=0)\n",
        "plt.xlabel(\"Pause length (seconds)\")\n",
        "plt.ylabel(\"Frequency\")\n",
        "plt.title(\"Distribution of pause lengths\")\n",
        "plt.grid(False)\n",
        "plt.show()"
      ],
      "metadata": {
        "id": "yldkYQISq-v7",
        "colab": {
          "base_uri": "https://localhost:8080/",
          "height": 333
        },
        "outputId": "77606d46-f122-4dda-a950-8136b563c283"
      },
      "id": "yldkYQISq-v7",
      "execution_count": 19,
      "outputs": [
        {
          "output_type": "display_data",
          "data": {
            "text/plain": [
              "<Figure size 1000x300 with 1 Axes>"
            ],
            "image/png": "[encoded data removed]"
          },
          "metadata": {}
        }
      ]
    },
    {
      "cell_type": "code",
      "source": [
        "# Write pause data to csv\n",
        "non_null_pause_len = sample_df[sample_df[\"pause_len\"] > 0]\n",
        "non_null_pause_len[[\n",
        "    \"client_id\",\n",
        "    \"path\",\n",
        "    \"sentence_id\",\n",
        "    \"age\",\n",
        "    \"gender\",\n",
        "    \"accents\",\n",
        "    \"pause_timestamp\",\n",
        "    \"pause_len\",\n",
        "]].to_csv(\"common_voice_23_sample_pause_lengths.csv\")"
      ],
      "metadata": {
        "id": "BX8DGnvKibFj"
      },
      "id": "BX8DGnvKibFj",
      "execution_count": 20,
      "outputs": []
    },
    {
      "cell_type": "markdown",
      "source": [
        "### Extract Pause Lengths for Full Set"
      ],
      "metadata": {
        "id": "Fn95--eBEQtr"
      },
      "id": "Fn95--eBEQtr"
    },
    {
      "cell_type": "code",
      "source": [
        "full_df[[\"pause_timestamp\", \"pause_len\"]] = full_df[\"path\"].apply(\n",
        "    lambda f: pd.Series(get_longest_silence(f))\n",
        ")"
      ],
      "metadata": {
        "id": "wLC0eo3AETk5"
      },
      "id": "wLC0eo3AETk5",
      "execution_count": null,
      "outputs": []
    },
    {
      "cell_type": "code",
      "source": [
        "# Summary statistics\n",
        "print(f\"# clips succesfully fetched pause: {full_df[\"pause_len\"].notna().sum()}\")\n",
        "print(f\"# clips unable to fetch pause: {full_df[\"pause_len\"].isna().sum()}\")\n",
        "print()\n",
        "print(f\"Longest pause: {full_df[\"pause_len\"].max():.2f}\")\n",
        "print(f\"Shortest pause: {full_df[\"pause_len\"].min():.2f}\")\n",
        "print(f\"Median pause: {full_df[\"pause_len\"].median():.2f}\")\n",
        "print(f\"Mean average pause: {full_df[\"pause_len\"].mean():.2f}\")"
      ],
      "metadata": {
        "id": "RMXBJpowEUbz"
      },
      "id": "RMXBJpowEUbz",
      "execution_count": null,
      "outputs": []
    },
    {
      "cell_type": "code",
      "source": [
        "# Graph pause distribution\n",
        "pause_data_full = full_df[\"pause_len\"].dropna()\n",
        "bins = np.arange(0, pause_data_full.max() + 0.25, 0.25)\n",
        "\n",
        "plt.figure(figsize=(10,3))\n",
        "pause_data_full.hist(bins=bins, edgecolor=None)\n",
        "plt.xticks(np.arange(0, pause_data_full.max() + 0.25, 0.25), rotation=0)\n",
        "plt.xlabel(\"Pause length (seconds)\")\n",
        "plt.ylabel(\"Frequency\")\n",
        "plt.title(\"Distribution of pause lengths\")\n",
        "plt.grid(False)\n",
        "plt.show()"
      ],
      "metadata": {
        "id": "uXVlmoymEUn8"
      },
      "id": "uXVlmoymEUn8",
      "execution_count": null,
      "outputs": []
    },
    {
      "cell_type": "code",
      "source": [
        "# Write pause data to csv\n",
        "non_null_pause_len = full_df[full_df[\"pause_len\"] > 0]\n",
        "non_null_pause_len[[\n",
        "    \"client_id\",\n",
        "    \"path\",\n",
        "    \"sentence_id\",\n",
        "    \"age\",\n",
        "    \"gender\",\n",
        "    \"accents\",\n",
        "    \"pause_timestamp\",\n",
        "    \"pause_len\",\n",
        "]].to_csv(\"common_voice_23_full_pause_lengths.csv\")"
      ],
      "metadata": {
        "id": "vBqd7CLqERkv"
      },
      "id": "vBqd7CLqERkv",
      "execution_count": null,
      "outputs": []
    }
  ],
  "metadata": {
    "kernelspec": {
      "display_name": "Python 3 (ipykernel)",
      "language": "python",
      "name": "python3"
    },
    "language_info": {
      "codemirror_mode": {
        "name": "ipython",
        "version": 3
      },
      "file_extension": ".py",
      "mimetype": "text/x-python",
      "name": "python",
      "nbconvert_exporter": "python",
      "pygments_lexer": "ipython3",
      "version": "3.12.9"
    },
    "colab": {
      "provenance": []
    }
  },
  "nbformat": 4,
  "nbformat_minor": 5
}